{
 "cells": [
  {
   "cell_type": "markdown",
   "metadata": {
    "toc": true
   },
   "source": [
    "<h1>Содержание<span class=\"tocSkip\"></span></h1>\n",
    "<div class=\"toc\"><ul class=\"toc-item\"><li><span><a href=\"#Загрузка-данных\" data-toc-modified-id=\"Загрузка-данных-1\"><span class=\"toc-item-num\">1&nbsp;&nbsp;</span>Загрузка данных</a></span></li><li><span><a href=\"#Умножение-матриц\" data-toc-modified-id=\"Умножение-матриц-2\"><span class=\"toc-item-num\">2&nbsp;&nbsp;</span>Умножение матриц</a></span></li><li><span><a href=\"#Алгоритм-преобразования\" data-toc-modified-id=\"Алгоритм-преобразования-3\"><span class=\"toc-item-num\">3&nbsp;&nbsp;</span>Алгоритм преобразования</a></span></li><li><span><a href=\"#Проверка-алгоритма\" data-toc-modified-id=\"Проверка-алгоритма-4\"><span class=\"toc-item-num\">4&nbsp;&nbsp;</span>Проверка алгоритма</a></span></li><li><span><a href=\"#Общий-вывод\" data-toc-modified-id=\"Общий-вывод-5\"><span class=\"toc-item-num\">5&nbsp;&nbsp;</span>Общий вывод</a></span></li><li><span><a href=\"#Чек-лист-проверки\" data-toc-modified-id=\"Чек-лист-проверки-6\"><span class=\"toc-item-num\">6&nbsp;&nbsp;</span>Чек-лист проверки</a></span></li></ul></div>"
   ]
  },
  {
   "cell_type": "markdown",
   "metadata": {},
   "source": [
    "# Защита персональных данных клиентов"
   ]
  },
  {
   "cell_type": "markdown",
   "metadata": {},
   "source": [
    "Вам нужно защитить данные клиентов страховой компании «Хоть потоп». Разработайте такой метод преобразования данных, чтобы по ним было сложно восстановить персональную информацию. Обоснуйте корректность его работы.\n",
    "\n",
    "Нужно защитить данные, чтобы при преобразовании качество моделей машинного обучения не ухудшилось. Подбирать наилучшую модель не требуется."
   ]
  },
  {
   "cell_type": "markdown",
   "metadata": {},
   "source": [
    "**Цель:** Разработать такой метод преобразования данных, чтобы по ним было сложно восстановить персональную информацию.\n",
    "     \n",
    "   Работа пройдёт в несколько этапов:\n",
    " 1. Загрузка и подготовка данных.\n",
    " 2. Умножение матриц.\n",
    " 3. Алгоритм преобразования.\n",
    " 4. Проверка алгоритма."
   ]
  },
  {
   "cell_type": "markdown",
   "metadata": {},
   "source": [
    "**Описание данных:**\n",
    "\n",
    "+ Признаки: пол, возраст и зарплата застрахованного, количество членов его семьи.\n",
    "+ Целевой признак: количество страховых выплат клиенту за последние 5 лет."
   ]
  },
  {
   "cell_type": "code",
   "execution_count": 116,
   "metadata": {},
   "outputs": [],
   "source": [
    "# подключаем библиотеки\n",
    "import pandas as pd\n",
    "import numpy as np\n",
    "import matplotlib.pyplot as plt\n",
    "import os\n",
    "\n",
    "from sklearn.model_selection import train_test_split\n",
    "from sklearn.metrics import r2_score\n",
    "\n",
    "# округляем значения до пяти знаков после запятой\n",
    "pd.options.display.float_format = '{:.5f}'.format"
   ]
  },
  {
   "cell_type": "markdown",
   "metadata": {},
   "source": [
    "## Загрузка данных"
   ]
  },
  {
   "cell_type": "code",
   "execution_count": 117,
   "metadata": {},
   "outputs": [
    {
     "data": {
      "text/html": [
       "<div>\n",
       "<style scoped>\n",
       "    .dataframe tbody tr th:only-of-type {\n",
       "        vertical-align: middle;\n",
       "    }\n",
       "\n",
       "    .dataframe tbody tr th {\n",
       "        vertical-align: top;\n",
       "    }\n",
       "\n",
       "    .dataframe thead th {\n",
       "        text-align: right;\n",
       "    }\n",
       "</style>\n",
       "<table border=\"1\" class=\"dataframe\">\n",
       "  <thead>\n",
       "    <tr style=\"text-align: right;\">\n",
       "      <th></th>\n",
       "      <th>Пол</th>\n",
       "      <th>Возраст</th>\n",
       "      <th>Зарплата</th>\n",
       "      <th>Члены семьи</th>\n",
       "      <th>Страховые выплаты</th>\n",
       "    </tr>\n",
       "  </thead>\n",
       "  <tbody>\n",
       "    <tr>\n",
       "      <th>0</th>\n",
       "      <td>1</td>\n",
       "      <td>41.00000</td>\n",
       "      <td>49600.00000</td>\n",
       "      <td>1</td>\n",
       "      <td>0</td>\n",
       "    </tr>\n",
       "    <tr>\n",
       "      <th>1</th>\n",
       "      <td>0</td>\n",
       "      <td>46.00000</td>\n",
       "      <td>38000.00000</td>\n",
       "      <td>1</td>\n",
       "      <td>1</td>\n",
       "    </tr>\n",
       "    <tr>\n",
       "      <th>2</th>\n",
       "      <td>0</td>\n",
       "      <td>29.00000</td>\n",
       "      <td>21000.00000</td>\n",
       "      <td>0</td>\n",
       "      <td>0</td>\n",
       "    </tr>\n",
       "    <tr>\n",
       "      <th>3</th>\n",
       "      <td>0</td>\n",
       "      <td>21.00000</td>\n",
       "      <td>41700.00000</td>\n",
       "      <td>2</td>\n",
       "      <td>0</td>\n",
       "    </tr>\n",
       "    <tr>\n",
       "      <th>4</th>\n",
       "      <td>1</td>\n",
       "      <td>28.00000</td>\n",
       "      <td>26100.00000</td>\n",
       "      <td>0</td>\n",
       "      <td>0</td>\n",
       "    </tr>\n",
       "    <tr>\n",
       "      <th>5</th>\n",
       "      <td>1</td>\n",
       "      <td>43.00000</td>\n",
       "      <td>41000.00000</td>\n",
       "      <td>2</td>\n",
       "      <td>1</td>\n",
       "    </tr>\n",
       "    <tr>\n",
       "      <th>6</th>\n",
       "      <td>1</td>\n",
       "      <td>39.00000</td>\n",
       "      <td>39700.00000</td>\n",
       "      <td>2</td>\n",
       "      <td>0</td>\n",
       "    </tr>\n",
       "    <tr>\n",
       "      <th>7</th>\n",
       "      <td>1</td>\n",
       "      <td>25.00000</td>\n",
       "      <td>38600.00000</td>\n",
       "      <td>4</td>\n",
       "      <td>0</td>\n",
       "    </tr>\n",
       "    <tr>\n",
       "      <th>8</th>\n",
       "      <td>1</td>\n",
       "      <td>36.00000</td>\n",
       "      <td>49700.00000</td>\n",
       "      <td>1</td>\n",
       "      <td>0</td>\n",
       "    </tr>\n",
       "    <tr>\n",
       "      <th>9</th>\n",
       "      <td>1</td>\n",
       "      <td>32.00000</td>\n",
       "      <td>51700.00000</td>\n",
       "      <td>1</td>\n",
       "      <td>0</td>\n",
       "    </tr>\n",
       "  </tbody>\n",
       "</table>\n",
       "</div>"
      ],
      "text/plain": [
       "   Пол  Возраст    Зарплата  Члены семьи  Страховые выплаты\n",
       "0    1 41.00000 49600.00000            1                  0\n",
       "1    0 46.00000 38000.00000            1                  1\n",
       "2    0 29.00000 21000.00000            0                  0\n",
       "3    0 21.00000 41700.00000            2                  0\n",
       "4    1 28.00000 26100.00000            0                  0\n",
       "5    1 43.00000 41000.00000            2                  1\n",
       "6    1 39.00000 39700.00000            2                  0\n",
       "7    1 25.00000 38600.00000            4                  0\n",
       "8    1 36.00000 49700.00000            1                  0\n",
       "9    1 32.00000 51700.00000            1                  0"
      ]
     },
     "execution_count": 117,
     "metadata": {},
     "output_type": "execute_result"
    }
   ],
   "source": [
    "# загрузим датасет\n",
    "if os.path.exists('10.1. insurance.csv'):\n",
    "    df = pd.read_csv('10.1. insurance.csv')\n",
    "elif os.path.exists('/datasets/insurance.csv'):\n",
    "    df = pd.read_csv('/datasets/insurance.csv')\n",
    "else:\n",
    "    print('Nothing works.')\n",
    "df.head(10)"
   ]
  },
  {
   "cell_type": "code",
   "execution_count": 118,
   "metadata": {
    "scrolled": true
   },
   "outputs": [
    {
     "name": "stdout",
     "output_type": "stream",
     "text": [
      "<class 'pandas.core.frame.DataFrame'>\n",
      "RangeIndex: 5000 entries, 0 to 4999\n",
      "Data columns (total 5 columns):\n",
      " #   Column             Non-Null Count  Dtype  \n",
      "---  ------             --------------  -----  \n",
      " 0   Пол                5000 non-null   int64  \n",
      " 1   Возраст            5000 non-null   float64\n",
      " 2   Зарплата           5000 non-null   float64\n",
      " 3   Члены семьи        5000 non-null   int64  \n",
      " 4   Страховые выплаты  5000 non-null   int64  \n",
      "dtypes: float64(2), int64(3)\n",
      "memory usage: 195.4 KB\n"
     ]
    }
   ],
   "source": [
    "df.info()"
   ]
  },
  {
   "cell_type": "code",
   "execution_count": 119,
   "metadata": {
    "scrolled": true
   },
   "outputs": [
    {
     "data": {
      "text/html": [
       "<div>\n",
       "<style scoped>\n",
       "    .dataframe tbody tr th:only-of-type {\n",
       "        vertical-align: middle;\n",
       "    }\n",
       "\n",
       "    .dataframe tbody tr th {\n",
       "        vertical-align: top;\n",
       "    }\n",
       "\n",
       "    .dataframe thead th {\n",
       "        text-align: right;\n",
       "    }\n",
       "</style>\n",
       "<table border=\"1\" class=\"dataframe\">\n",
       "  <thead>\n",
       "    <tr style=\"text-align: right;\">\n",
       "      <th></th>\n",
       "      <th>Пол</th>\n",
       "      <th>Возраст</th>\n",
       "      <th>Зарплата</th>\n",
       "      <th>Члены семьи</th>\n",
       "      <th>Страховые выплаты</th>\n",
       "    </tr>\n",
       "  </thead>\n",
       "  <tbody>\n",
       "    <tr>\n",
       "      <th>count</th>\n",
       "      <td>5000.00000</td>\n",
       "      <td>5000.00000</td>\n",
       "      <td>5000.00000</td>\n",
       "      <td>5000.00000</td>\n",
       "      <td>5000.00000</td>\n",
       "    </tr>\n",
       "    <tr>\n",
       "      <th>mean</th>\n",
       "      <td>0.49900</td>\n",
       "      <td>30.95280</td>\n",
       "      <td>39916.36000</td>\n",
       "      <td>1.19420</td>\n",
       "      <td>0.14800</td>\n",
       "    </tr>\n",
       "    <tr>\n",
       "      <th>std</th>\n",
       "      <td>0.50005</td>\n",
       "      <td>8.44081</td>\n",
       "      <td>9900.08357</td>\n",
       "      <td>1.09139</td>\n",
       "      <td>0.46318</td>\n",
       "    </tr>\n",
       "    <tr>\n",
       "      <th>min</th>\n",
       "      <td>0.00000</td>\n",
       "      <td>18.00000</td>\n",
       "      <td>5300.00000</td>\n",
       "      <td>0.00000</td>\n",
       "      <td>0.00000</td>\n",
       "    </tr>\n",
       "    <tr>\n",
       "      <th>25%</th>\n",
       "      <td>0.00000</td>\n",
       "      <td>24.00000</td>\n",
       "      <td>33300.00000</td>\n",
       "      <td>0.00000</td>\n",
       "      <td>0.00000</td>\n",
       "    </tr>\n",
       "    <tr>\n",
       "      <th>50%</th>\n",
       "      <td>0.00000</td>\n",
       "      <td>30.00000</td>\n",
       "      <td>40200.00000</td>\n",
       "      <td>1.00000</td>\n",
       "      <td>0.00000</td>\n",
       "    </tr>\n",
       "    <tr>\n",
       "      <th>75%</th>\n",
       "      <td>1.00000</td>\n",
       "      <td>37.00000</td>\n",
       "      <td>46600.00000</td>\n",
       "      <td>2.00000</td>\n",
       "      <td>0.00000</td>\n",
       "    </tr>\n",
       "    <tr>\n",
       "      <th>max</th>\n",
       "      <td>1.00000</td>\n",
       "      <td>65.00000</td>\n",
       "      <td>79000.00000</td>\n",
       "      <td>6.00000</td>\n",
       "      <td>5.00000</td>\n",
       "    </tr>\n",
       "  </tbody>\n",
       "</table>\n",
       "</div>"
      ],
      "text/plain": [
       "             Пол    Возраст    Зарплата  Члены семьи  Страховые выплаты\n",
       "count 5000.00000 5000.00000  5000.00000   5000.00000         5000.00000\n",
       "mean     0.49900   30.95280 39916.36000      1.19420            0.14800\n",
       "std      0.50005    8.44081  9900.08357      1.09139            0.46318\n",
       "min      0.00000   18.00000  5300.00000      0.00000            0.00000\n",
       "25%      0.00000   24.00000 33300.00000      0.00000            0.00000\n",
       "50%      0.00000   30.00000 40200.00000      1.00000            0.00000\n",
       "75%      1.00000   37.00000 46600.00000      2.00000            0.00000\n",
       "max      1.00000   65.00000 79000.00000      6.00000            5.00000"
      ]
     },
     "execution_count": 119,
     "metadata": {},
     "output_type": "execute_result"
    }
   ],
   "source": [
    "df.describe()"
   ]
  },
  {
   "cell_type": "code",
   "execution_count": 120,
   "metadata": {
    "scrolled": false
   },
   "outputs": [
    {
     "data": {
      "image/png": "[encoded data removed]",
      "text/plain": [
       "<Figure size 1080x1440 with 6 Axes>"
      ]
     },
     "metadata": {
      "needs_background": "light"
     },
     "output_type": "display_data"
    }
   ],
   "source": [
    "# строим гистограммы для всего датафрейма\n",
    "df.hist(figsize=(15, 20))\n",
    "plt.show()"
   ]
  },
  {
   "cell_type": "code",
   "execution_count": 121,
   "metadata": {},
   "outputs": [
    {
     "data": {
      "text/plain": [
       "153"
      ]
     },
     "execution_count": 121,
     "metadata": {},
     "output_type": "execute_result"
    }
   ],
   "source": [
    "# проверим дубликаты\n",
    "df.duplicated().sum()"
   ]
  },
  {
   "cell_type": "markdown",
   "metadata": {},
   "source": [
    "**Так как у нас нет id клиента и у нас мало столбцов и они достаточно общие, поэтому вполне возможно, что это не дубликаты, а просто совпадающие данные. Хотя, судя по всему, в данной задаче не требуется предобработка данных, но тем не менее мы изменим тип данных в столбцах \"Возраст\" и \"Зарплата\", изменим названия столбцов.**"
   ]
  },
  {
   "cell_type": "code",
   "execution_count": 123,
   "metadata": {},
   "outputs": [
    {
     "name": "stdout",
     "output_type": "stream",
     "text": [
      "<class 'pandas.core.frame.DataFrame'>\n",
      "RangeIndex: 5000 entries, 0 to 4999\n",
      "Data columns (total 5 columns):\n",
      " #   Column             Non-Null Count  Dtype\n",
      "---  ------             --------------  -----\n",
      " 0   Пол                5000 non-null   int64\n",
      " 1   Возраст            5000 non-null   int64\n",
      " 2   Зарплата           5000 non-null   int64\n",
      " 3   Члены семьи        5000 non-null   int64\n",
      " 4   Страховые выплаты  5000 non-null   int64\n",
      "dtypes: int64(5)\n",
      "memory usage: 195.4 KB\n"
     ]
    }
   ],
   "source": [
    "df['Возраст'] = df['Возраст'].astype(int)\n",
    "df['Зарплата'] = df['Зарплата'].astype(int)\n",
    "df.info()"
   ]
  },
  {
   "cell_type": "code",
   "execution_count": 124,
   "metadata": {},
   "outputs": [],
   "source": [
    "df = df.rename(columns={'Пол': 'gender',\n",
    "                        'Возраст': 'age',\n",
    "                        'Зарплата': 'salary',\n",
    "                        'Члены семьи': 'family_members',\n",
    "                        'Страховые выплаты': 'insurance_payments'})"
   ]
  },
  {
   "cell_type": "code",
   "execution_count": 125,
   "metadata": {},
   "outputs": [
    {
     "data": {
      "text/html": [
       "<div>\n",
       "<style scoped>\n",
       "    .dataframe tbody tr th:only-of-type {\n",
       "        vertical-align: middle;\n",
       "    }\n",
       "\n",
       "    .dataframe tbody tr th {\n",
       "        vertical-align: top;\n",
       "    }\n",
       "\n",
       "    .dataframe thead th {\n",
       "        text-align: right;\n",
       "    }\n",
       "</style>\n",
       "<table border=\"1\" class=\"dataframe\">\n",
       "  <thead>\n",
       "    <tr style=\"text-align: right;\">\n",
       "      <th></th>\n",
       "      <th>gender</th>\n",
       "      <th>age</th>\n",
       "      <th>salary</th>\n",
       "      <th>family_members</th>\n",
       "      <th>insurance_payments</th>\n",
       "    </tr>\n",
       "  </thead>\n",
       "  <tbody>\n",
       "    <tr>\n",
       "      <th>0</th>\n",
       "      <td>1</td>\n",
       "      <td>41</td>\n",
       "      <td>49600</td>\n",
       "      <td>1</td>\n",
       "      <td>0</td>\n",
       "    </tr>\n",
       "    <tr>\n",
       "      <th>1</th>\n",
       "      <td>0</td>\n",
       "      <td>46</td>\n",
       "      <td>38000</td>\n",
       "      <td>1</td>\n",
       "      <td>1</td>\n",
       "    </tr>\n",
       "    <tr>\n",
       "      <th>2</th>\n",
       "      <td>0</td>\n",
       "      <td>29</td>\n",
       "      <td>21000</td>\n",
       "      <td>0</td>\n",
       "      <td>0</td>\n",
       "    </tr>\n",
       "    <tr>\n",
       "      <th>3</th>\n",
       "      <td>0</td>\n",
       "      <td>21</td>\n",
       "      <td>41700</td>\n",
       "      <td>2</td>\n",
       "      <td>0</td>\n",
       "    </tr>\n",
       "    <tr>\n",
       "      <th>4</th>\n",
       "      <td>1</td>\n",
       "      <td>28</td>\n",
       "      <td>26100</td>\n",
       "      <td>0</td>\n",
       "      <td>0</td>\n",
       "    </tr>\n",
       "  </tbody>\n",
       "</table>\n",
       "</div>"
      ],
      "text/plain": [
       "   gender  age  salary  family_members  insurance_payments\n",
       "0       1   41   49600               1                   0\n",
       "1       0   46   38000               1                   1\n",
       "2       0   29   21000               0                   0\n",
       "3       0   21   41700               2                   0\n",
       "4       1   28   26100               0                   0"
      ]
     },
     "execution_count": 125,
     "metadata": {},
     "output_type": "execute_result"
    }
   ],
   "source": [
    "df.head()"
   ]
  },
  {
   "cell_type": "markdown",
   "metadata": {},
   "source": [
    "**Вывод:**     \n",
    "+ удалили дубликаты   \n",
    "+ переименовали столбцы   \n",
    "+ изменили тип данных   \n",
    "+ присутствуют незначительные выбросы    \n",
    "+ пропуски отсутствуют"
   ]
  },
  {
   "cell_type": "markdown",
   "metadata": {},
   "source": [
    "## Умножение матриц"
   ]
  },
  {
   "cell_type": "markdown",
   "metadata": {},
   "source": [
    "В этом задании вы можете записывать формулы в *Jupyter Notebook.*\n",
    "\n",
    "Чтобы записать формулу внутри текста, окружите её символами доллара \\\\$; если снаружи —  двойными символами \\\\$\\\\$. Эти формулы записываются на языке вёрстки *LaTeX.* \n",
    "\n",
    "Для примера мы записали формулы линейной регрессии. Можете их скопировать и отредактировать, чтобы решить задачу.\n",
    "\n",
    "Работать в *LaTeX* необязательно."
   ]
  },
  {
   "cell_type": "markdown",
   "metadata": {},
   "source": [
    "Обозначения:\n",
    "\n",
    "- $X$ — матрица признаков (нулевой столбец состоит из единиц)\n",
    "\n",
    "- $y$ — вектор целевого признака\n",
    "\n",
    "- $P$ — матрица, на которую умножаются признаки\n",
    "\n",
    "- $w$ — вектор весов линейной регрессии (нулевой элемент равен сдвигу)"
   ]
  },
  {
   "cell_type": "markdown",
   "metadata": {},
   "source": [
    "Предсказания:\n",
    "\n",
    "$$\n",
    "a = Xw\n",
    "$$\n",
    "\n",
    "Задача обучения:\n",
    "\n",
    "$$\n",
    "w = \\arg\\min_w MSE(Xw, y)\n",
    "$$\n",
    "\n",
    "Формула обучения:\n",
    "\n",
    "$$\n",
    "w = (X^T X)^{-1} X^T y\n",
    "$$"
   ]
  },
  {
   "cell_type": "markdown",
   "metadata": {},
   "source": [
    "**Ответ:** качество линейной регрессии не измениться\n",
    "\n",
    "**Обоснование:** ..."
   ]
  },
  {
   "cell_type": "markdown",
   "metadata": {},
   "source": [
    "Умножим признаки на обратимую матрицу P и подставим новую матрицу в формулы.    \n",
    "Тогда:"
   ]
  },
  {
   "cell_type": "markdown",
   "metadata": {},
   "source": [
    "Предсказания:\n",
    "\n",
    "$$\n",
    "a = XPw\n",
    "$$\n",
    "\n",
    "Задача обучения:\n",
    "\n",
    "$$\n",
    "w = \\arg\\min_w MSE(XPw, y)\n",
    "$$\n",
    "\n",
    "Формула обучения:\n",
    "\n",
    "$$\n",
    "w = ((XP)^T XP)^{-1} (XP)^T y\n",
    "$$"
   ]
  },
  {
   "cell_type": "markdown",
   "metadata": {},
   "source": [
    "Свойства обратимой матрицы:"
   ]
  },
  {
   "attachments": {
    "11122.png": {
     "image/png": "[encoded data removed]"
    }
   },
   "cell_type": "markdown",
   "metadata": {},
   "source": [
    "![11122.png](attachment:11122.png)"
   ]
  },
  {
   "cell_type": "markdown",
   "metadata": {},
   "source": [
    "а также"
   ]
  },
  {
   "attachments": {
    "456.svg": {
     "image/svg+xml": [
      "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"
     ]
    }
   },
   "cell_type": "markdown",
   "metadata": {},
   "source": [
    "![456.svg](attachment:456.svg)"
   ]
  },
  {
   "attachments": {
    "444.svg": {
     "image/svg+xml": [
      "PHN2ZyB4bWxuczp4bGluaz0iaHR0cDovL3d3dy53My5vcmcvMTk5OS94bGluayIgd2lkdGg9IjE2LjA5ZXgiIGhlaWdodD0iMy4xNzZleCIgc3R5bGU9InZlcnRpY2FsLWFsaWduOiAtMC44MzhleDsiIHZpZXdCb3g9IjAgLTEwMDYuNiA2OTI3LjUgMTM2Ny40IiByb2xlPSJpbWciIGZvY3VzYWJsZT0iZmFsc2UiIHhtbG5zPSJodHRwOi8vd3d3LnczLm9yZy8yMDAwL3N2ZyIgYXJpYS1sYWJlbGxlZGJ5PSJNYXRoSmF4LVNWRy0xLVRpdGxlIj4KPHRpdGxlIGlkPSJNYXRoSmF4LVNWRy0xLVRpdGxlIj57XGRpc3BsYXlzdHlsZSAoQUIpXntUfT1CXntUfUFee1R9fTwvdGl0bGU+CjxkZWZzIGFyaWEtaGlkZGVuPSJ0cnVlIj4KPHBhdGggc3Ryb2tlLXdpZHRoPSIxIiBpZD0iRTEtTUpNQUlOLTI4IiBkPSJNOTQgMjUwUTk0IDMxOSAxMDQgMzgxVDEyNyA0ODhUMTY0IDU3NlQyMDIgNjQzVDI0NCA2OTVUMjc3IDcyOVQzMDIgNzUwSDMxNUgzMTlRMzMzIDc1MCAzMzMgNzQxUTMzMyA3MzggMzE2IDcyMFQyNzUgNjY3VDIyNiA1ODFUMTg0IDQ0M1QxNjcgMjUwVDE4NCA1OFQyMjUgLTgxVDI3NCAtMTY3VDMxNiAtMjIwVDMzMyAtMjQxUTMzMyAtMjUwIDMxOCAtMjUwSDMxNUgzMDJMMjc0IC0yMjZRMTgwIC0xNDEgMTM3IC0xNFQ5NCAyNTBaIj48L3BhdGg+CjxwYXRoIHN0cm9rZS13aWR0aD0iMSIgaWQ9IkUxLU1KTUFUSEktNDEiIGQ9Ik0yMDggNzRRMjA4IDUwIDI1NCA0NlEyNzIgNDYgMjcyIDM1UTI3MiAzNCAyNzAgMjJRMjY3IDggMjY0IDRUMjUxIDBRMjQ5IDAgMjM5IDBUMjA1IDFUMTQxIDJRNzAgMiA1MCAwSDQyUTM1IDcgMzUgMTFRMzcgMzggNDggNDZINjJRMTMyIDQ5IDE2NCA5NlExNzAgMTAyIDM0NSA0MDFUNTIzIDcwNFE1MzAgNzE2IDU0NyA3MTZINTU1SDU3MlE1NzggNzA3IDU3OCA3MDZMNjA2IDM4M1E2MzQgNjAgNjM2IDU3UTY0MSA0NiA3MDEgNDZRNzI2IDQ2IDcyNiAzNlE3MjYgMzQgNzIzIDIyUTcyMCA3IDcxOCA0VDcwNCAwUTcwMSAwIDY5MCAwVDY1MSAxVDU3OCAyUTQ4NCAyIDQ1NSAwSDQ0M1E0MzcgNiA0MzcgOVQ0MzkgMjdRNDQzIDQwIDQ0NSA0M0w0NDkgNDZINDY5UTUyMyA0OSA1MzMgNjNMNTIxIDIxM0gyODNMMjQ5IDE1NVEyMDggODYgMjA4IDc0Wk01MTYgMjYwUTUxNiAyNzEgNTA0IDQxNlQ0OTAgNTYyTDQ2MyA1MTlRNDQ3IDQ5MiA0MDAgNDEyTDMxMCAyNjBMNDEzIDI1OVE1MTYgMjU5IDUxNiAyNjBaIj48L3BhdGg+CjxwYXRoIHN0cm9rZS13aWR0aD0iMSIgaWQ9IkUxLU1KTUFUSEktNDIiIGQ9Ik0yMzEgNjM3UTIwNCA2MzcgMTk5IDYzOFQxOTQgNjQ5UTE5NCA2NzYgMjA1IDY4MlEyMDYgNjgzIDMzNSA2ODNRNTk0IDY4MyA2MDggNjgxUTY3MSA2NzEgNzEzIDYzNlQ3NTYgNTQ0UTc1NiA0ODAgNjk4IDQyOVQ1NjUgMzYwTDU1NSAzNTdRNjE5IDM0OCA2NjAgMzExVDcwMiAyMTlRNzAyIDE0NiA2MzAgNzhUNDUzIDFRNDQ2IDAgMjQyIDBRNDIgMCAzOSAyUTM1IDUgMzUgMTBRMzUgMTcgMzcgMjRRNDIgNDMgNDcgNDVRNTEgNDYgNjIgNDZINjhROTUgNDYgMTI4IDQ5UTE0MiA1MiAxNDcgNjFRMTUwIDY1IDIxOSAzMzlUMjg4IDYyOFEyODggNjM1IDIzMSA2MzdaTTY0OSA1NDRRNjQ5IDU3NCA2MzQgNjAwVDU4NSA2MzRRNTc4IDYzNiA0OTMgNjM3UTQ3MyA2MzcgNDUxIDYzN1Q0MTYgNjM2SDQwM1EzODggNjM1IDM4NCA2MjZRMzgyIDYyMiAzNTIgNTA2UTM1MiA1MDMgMzUxIDUwMEwzMjAgMzc0SDQwMVE0ODIgMzc0IDQ5NCAzNzZRNTU0IDM4NiA2MDEgNDM0VDY0OSA1NDRaTTU5NSAyMjlRNTk1IDI3MyA1NzIgMzAyVDUxMiAzMzZRNTA2IDMzNyA0MjkgMzM3UTMxMSAzMzcgMzEwIDMzNlEzMTAgMzM0IDI5MyAyNjNUMjU4IDEyMkwyNDAgNTJRMjQwIDQ4IDI1MiA0OFQzMzMgNDZRNDIyIDQ2IDQyOSA0N1E0OTEgNTQgNTQzIDEwNVQ1OTUgMjI5WiI+PC9wYXRoPgo8cGF0aCBzdHJva2Utd2lkdGg9IjEiIGlkPSJFMS1NSk1BSU4tMjkiIGQ9Ik02MCA3NDlMNjQgNzUwUTY5IDc1MCA3NCA3NTBIODZMMTE0IDcyNlEyMDggNjQxIDI1MSA1MTRUMjk0IDI1MFEyOTQgMTgyIDI4NCAxMTlUMjYxIDEyVDIyNCAtNzZUMTg2IC0xNDNUMTQ1IC0xOTRUMTEzIC0yMjdUOTAgLTI0NlE4NyAtMjQ5IDg2IC0yNTBINzRRNjYgLTI1MCA2MyAtMjUwVDU4IC0yNDdUNTUgLTIzOFE1NiAtMjM3IDY2IC0yMjVRMjIxIC02NCAyMjEgMjUwVDY2IDcyNVE1NiA3MzcgNTUgNzM4UTU1IDc0NiA2MCA3NDlaIj48L3BhdGg+CjxwYXRoIHN0cm9rZS13aWR0aD0iMSIgaWQ9IkUxLU1KTUFUSEktNTQiIGQ9Ik00MCA0MzdRMjEgNDM3IDIxIDQ0NVEyMSA0NTAgMzcgNTAxVDcxIDYwMkw4OCA2NTFROTMgNjY5IDEwMSA2NzdINTY5SDY1OVE2OTEgNjc3IDY5NyA2NzZUNzA0IDY2N1E3MDQgNjYxIDY4NyA1NTNUNjY4IDQ0NFE2NjggNDM3IDY0OSA0MzdRNjQwIDQzNyA2MzcgNDM3VDYzMSA0NDJMNjI5IDQ0NVE2MjkgNDUxIDYzNSA0OTBUNjQxIDU1MVE2NDEgNTg2IDYyOCA2MDRUNTczIDYyOVE1NjggNjMwIDUxNSA2MzFRNDY5IDYzMSA0NTcgNjMwVDQzOSA2MjJRNDM4IDYyMSAzNjggMzQzVDI5OCA2MFEyOTggNDggMzg2IDQ2UTQxOCA0NiA0MjcgNDVUNDM2IDM2UTQzNiAzMSA0MzMgMjJRNDI5IDQgNDI0IDFMNDIyIDBRNDE5IDAgNDE1IDBRNDEwIDAgMzYzIDFUMjI4IDJROTkgMiA2NCAwSDQ5UTQzIDYgNDMgOVQ0NSAyN1E0OSA0MCA1NSA0Nkg4M0g5NFExNzQgNDYgMTg5IDU1UTE5MCA1NiAxOTEgNTZRMTk2IDU5IDIwMSA3NlQyNDEgMjMzUTI1OCAzMDEgMjY5IDM0NFEzMzkgNjE5IDMzOSA2MjVRMzM5IDYzMCAzMTAgNjMwSDI3OVEyMTIgNjMwIDE5MSA2MjRRMTQ2IDYxNCAxMjEgNTgzVDY3IDQ2N1E2MCA0NDUgNTcgNDQxVDQzIDQzN0g0MFoiPjwvcGF0aD4KPHBhdGggc3Ryb2tlLXdpZHRoPSIxIiBpZD0iRTEtTUpNQUlOLTNEIiBkPSJNNTYgMzQ3UTU2IDM2MCA3MCAzNjdINzA3UTcyMiAzNTkgNzIyIDM0N1E3MjIgMzM2IDcwOCAzMjhMMzkwIDMyN0g3MlE1NiAzMzIgNTYgMzQ3Wk01NiAxNTNRNTYgMTY4IDcyIDE3M0g3MDhRNzIyIDE2MyA3MjIgMTUzUTcyMiAxNDAgNzA3IDEzM0g3MFE1NiAxNDAgNTYgMTUzWiI+PC9wYXRoPgo8L2RlZnM+CjxnIHN0cm9rZT0iY3VycmVudENvbG9yIiBmaWxsPSJjdXJyZW50Q29sb3IiIHN0cm9rZS13aWR0aD0iMCIgdHJhbnNmb3JtPSJtYXRyaXgoMSAwIDAgLTEgMCAwKSIgYXJpYS1oaWRkZW49InRydWUiPgogPHVzZSB4bGluazpocmVmPSIjRTEtTUpNQUlOLTI4IiB4PSIwIiB5PSIwIj48L3VzZT4KIDx1c2UgeGxpbms6aHJlZj0iI0UxLU1KTUFUSEktNDEiIHg9IjM4OSIgeT0iMCI+PC91c2U+CiA8dXNlIHhsaW5rOmhyZWY9IiNFMS1NSk1BVEhJLTQyIiB4PSIxMTQwIiB5PSIwIj48L3VzZT4KPGcgdHJhbnNmb3JtPSJ0cmFuc2xhdGUoMTg5OSwwKSI+CiA8dXNlIHhsaW5rOmhyZWY9IiNFMS1NSk1BSU4tMjkiIHg9IjAiIHk9IjAiPjwvdXNlPgogPHVzZSB0cmFuc2Zvcm09InNjYWxlKDAuNzA3KSIgeGxpbms6aHJlZj0iI0UxLU1KTUFUSEktNTQiIHg9IjU1MCIgeT0iNTgzIj48L3VzZT4KPC9nPgogPHVzZSB4bGluazpocmVmPSIjRTEtTUpNQUlOLTNEIiB4PSIzMTY0IiB5PSIwIj48L3VzZT4KPGcgdHJhbnNmb3JtPSJ0cmFuc2xhdGUoNDIyMSwwKSI+CiA8dXNlIHhsaW5rOmhyZWY9IiNFMS1NSk1BVEhJLTQyIiB4PSIwIiB5PSIwIj48L3VzZT4KIDx1c2UgdHJhbnNmb3JtPSJzY2FsZSgwLjcwNykiIHhsaW5rOmhyZWY9IiNFMS1NSk1BVEhJLTU0IiB4PSIxMDc0IiB5PSI1ODMiPjwvdXNlPgo8L2c+CjxnIHRyYW5zZm9ybT0idHJhbnNsYXRlKDU1NzgsMCkiPgogPHVzZSB4bGluazpocmVmPSIjRTEtTUpNQVRISS00MSIgeD0iMCIgeT0iMCI+PC91c2U+CiA8dXNlIHRyYW5zZm9ybT0ic2NhbGUoMC43MDcpIiB4bGluazpocmVmPSIjRTEtTUpNQVRISS01NCIgeD0iMTA2MSIgeT0iNTgzIj48L3VzZT4KPC9nPgo8L2c+Cjwvc3ZnPg=="
     ]
    }
   },
   "cell_type": "markdown",
   "metadata": {},
   "source": [
    "![444.svg](attachment:444.svg)"
   ]
  },
  {
   "cell_type": "markdown",
   "metadata": {},
   "source": [
    "Преобразуем формулу предсказания, используя свойства обратимой матрицы:"
   ]
  },
  {
   "cell_type": "markdown",
   "metadata": {},
   "source": [
    "<div class=\"alert alert-info\">  \n",
    "    \n",
    "$$a = X P ((XP)^T XP)^{-1} (XP)^T y =$$   \n",
    "$$ = X P (P^T X^T XP)^{-1} P^T X^T y  =$$   \n",
    "$$ = X P (X^T XP)^{-1}(P^T)^{-1} P^T X^T y =$$   \n",
    "$$ = X P P^{-1} (X^T X)^{-1} E X^T y =$$   \n",
    "$$ = X E (X^T X)^{-1} X^T y$$ \n",
    "    \n",
    "</div>"
   ]
  },
  {
   "cell_type": "markdown",
   "metadata": {},
   "source": [
    "Тогда, учитывая формулу обучения:\n",
    "\n",
    "$$\n",
    "w = (X^T X)^{-1} X^T y\n",
    "$$    \n",
    "получаем   \n",
    "$$\n",
    "a = Xw\n",
    "$$"
   ]
  },
  {
   "cell_type": "markdown",
   "metadata": {},
   "source": [
    "**Вывод:**     \n",
    "Качество линейной регрессии не измениться при умножении на обратимую матрицу. Параметры линейной регрессии в исходной задаче и в преобразованной связаны свойствами обратной матрицы."
   ]
  },
  {
   "cell_type": "markdown",
   "metadata": {},
   "source": [
    "## Алгоритм преобразования"
   ]
  },
  {
   "cell_type": "markdown",
   "metadata": {},
   "source": [
    "<div class=\"alert alert-info\">\n",
    "Мы умножим матрицу признаков на обратимую квадратную матрицу с размерностью, соответствующей количеству столбцов признаков.\n",
    "</div>"
   ]
  },
  {
   "cell_type": "markdown",
   "metadata": {},
   "source": [
    "**Обоснование**"
   ]
  },
  {
   "attachments": {
    "11133.png": {
     "image/png": "[encoded data removed]"
    }
   },
   "cell_type": "markdown",
   "metadata": {},
   "source": [
    "![11133.png](attachment:11133.png)"
   ]
  },
  {
   "cell_type": "markdown",
   "metadata": {},
   "source": [
    "<div class=\"alert alert-info\">\n",
    "    \n",
    "+ разобьём данные на признаки и целевой признак    \n",
    "+ создадим рандомную квадратную матрицу    \n",
    "+ проверим её обратимость    \n",
    "+ умножим признаки на матрицу   \n",
    "+ затем умножим полученные данные на обратную матрицу    \n",
    "+ проверим совпадают ли полученные данные с исходными\n",
    "    \n",
    "</div>"
   ]
  },
  {
   "cell_type": "code",
   "execution_count": 126,
   "metadata": {},
   "outputs": [],
   "source": [
    "# разобьём данные на признаки и целевой признак\n",
    "X = df.drop(['insurance_payments'], axis=1)\n",
    "y = df['insurance_payments']"
   ]
  },
  {
   "cell_type": "code",
   "execution_count": 127,
   "metadata": {},
   "outputs": [
    {
     "data": {
      "text/plain": [
       "((5000, 4), (5000,))"
      ]
     },
     "execution_count": 127,
     "metadata": {},
     "output_type": "execute_result"
    }
   ],
   "source": [
    "X.shape, y.shape"
   ]
  },
  {
   "cell_type": "code",
   "execution_count": 128,
   "metadata": {},
   "outputs": [
    {
     "data": {
      "text/plain": [
       "array([[13,  2,  2,  6],\n",
       "       [17, 19, 10,  1],\n",
       "       [ 0, 17, 15,  9],\n",
       "       [ 0, 14,  0, 15]])"
      ]
     },
     "execution_count": 128,
     "metadata": {},
     "output_type": "execute_result"
    }
   ],
   "source": [
    "# создадим рандомную квадратную матрицу\n",
    "np.random.seed(123)\n",
    "RM = np.random.randint(20, size=(X.shape[1], X.shape[1]))\n",
    "RM"
   ]
  },
  {
   "cell_type": "code",
   "execution_count": 129,
   "metadata": {},
   "outputs": [
    {
     "data": {
      "text/plain": [
       "array([[ 0.05117   ,  0.01969353, -0.01995169, -0.00980989],\n",
       "       [-0.07053161,  0.05393594, -0.02655308,  0.04054876],\n",
       "       [ 0.04043813, -0.03092327,  0.08189043, -0.06324796],\n",
       "       [ 0.06582951, -0.05034021,  0.02478287,  0.02882115]])"
      ]
     },
     "execution_count": 129,
     "metadata": {},
     "output_type": "execute_result"
    }
   ],
   "source": [
    "# проверим существует ли обратная иатрица\n",
    "RM_inv = np.linalg.inv(RM)\n",
    "RM_inv"
   ]
  },
  {
   "cell_type": "code",
   "execution_count": 130,
   "metadata": {},
   "outputs": [
    {
     "data": {
      "text/html": [
       "<div>\n",
       "<style scoped>\n",
       "    .dataframe tbody tr th:only-of-type {\n",
       "        vertical-align: middle;\n",
       "    }\n",
       "\n",
       "    .dataframe tbody tr th {\n",
       "        vertical-align: top;\n",
       "    }\n",
       "\n",
       "    .dataframe thead th {\n",
       "        text-align: right;\n",
       "    }\n",
       "</style>\n",
       "<table border=\"1\" class=\"dataframe\">\n",
       "  <thead>\n",
       "    <tr style=\"text-align: right;\">\n",
       "      <th></th>\n",
       "      <th>gender</th>\n",
       "      <th>age</th>\n",
       "      <th>salary</th>\n",
       "      <th>family_members</th>\n",
       "    </tr>\n",
       "  </thead>\n",
       "  <tbody>\n",
       "    <tr>\n",
       "      <th>0</th>\n",
       "      <td>1</td>\n",
       "      <td>41</td>\n",
       "      <td>49600</td>\n",
       "      <td>1</td>\n",
       "    </tr>\n",
       "    <tr>\n",
       "      <th>1</th>\n",
       "      <td>0</td>\n",
       "      <td>46</td>\n",
       "      <td>38000</td>\n",
       "      <td>1</td>\n",
       "    </tr>\n",
       "    <tr>\n",
       "      <th>2</th>\n",
       "      <td>0</td>\n",
       "      <td>29</td>\n",
       "      <td>21000</td>\n",
       "      <td>0</td>\n",
       "    </tr>\n",
       "    <tr>\n",
       "      <th>3</th>\n",
       "      <td>0</td>\n",
       "      <td>21</td>\n",
       "      <td>41700</td>\n",
       "      <td>2</td>\n",
       "    </tr>\n",
       "    <tr>\n",
       "      <th>4</th>\n",
       "      <td>1</td>\n",
       "      <td>28</td>\n",
       "      <td>26100</td>\n",
       "      <td>0</td>\n",
       "    </tr>\n",
       "  </tbody>\n",
       "</table>\n",
       "</div>"
      ],
      "text/plain": [
       "   gender  age  salary  family_members\n",
       "0       1   41   49600               1\n",
       "1       0   46   38000               1\n",
       "2       0   29   21000               0\n",
       "3       0   21   41700               2\n",
       "4       1   28   26100               0"
      ]
     },
     "execution_count": 130,
     "metadata": {},
     "output_type": "execute_result"
    }
   ],
   "source": [
    "# посмотрим на исходных данных\n",
    "X.head()"
   ]
  },
  {
   "cell_type": "code",
   "execution_count": 131,
   "metadata": {},
   "outputs": [
    {
     "data": {
      "text/html": [
       "<div>\n",
       "<style scoped>\n",
       "    .dataframe tbody tr th:only-of-type {\n",
       "        vertical-align: middle;\n",
       "    }\n",
       "\n",
       "    .dataframe tbody tr th {\n",
       "        vertical-align: top;\n",
       "    }\n",
       "\n",
       "    .dataframe thead th {\n",
       "        text-align: right;\n",
       "    }\n",
       "</style>\n",
       "<table border=\"1\" class=\"dataframe\">\n",
       "  <thead>\n",
       "    <tr style=\"text-align: right;\">\n",
       "      <th></th>\n",
       "      <th>0</th>\n",
       "      <th>1</th>\n",
       "      <th>2</th>\n",
       "      <th>3</th>\n",
       "    </tr>\n",
       "  </thead>\n",
       "  <tbody>\n",
       "    <tr>\n",
       "      <th>0</th>\n",
       "      <td>710</td>\n",
       "      <td>843995</td>\n",
       "      <td>744412</td>\n",
       "      <td>446462</td>\n",
       "    </tr>\n",
       "    <tr>\n",
       "      <th>1</th>\n",
       "      <td>782</td>\n",
       "      <td>646888</td>\n",
       "      <td>570460</td>\n",
       "      <td>342061</td>\n",
       "    </tr>\n",
       "    <tr>\n",
       "      <th>2</th>\n",
       "      <td>493</td>\n",
       "      <td>357551</td>\n",
       "      <td>315290</td>\n",
       "      <td>189029</td>\n",
       "    </tr>\n",
       "    <tr>\n",
       "      <th>3</th>\n",
       "      <td>357</td>\n",
       "      <td>709327</td>\n",
       "      <td>625710</td>\n",
       "      <td>375351</td>\n",
       "    </tr>\n",
       "    <tr>\n",
       "      <th>4</th>\n",
       "      <td>489</td>\n",
       "      <td>444234</td>\n",
       "      <td>391782</td>\n",
       "      <td>234934</td>\n",
       "    </tr>\n",
       "  </tbody>\n",
       "</table>\n",
       "</div>"
      ],
      "text/plain": [
       "     0       1       2       3\n",
       "0  710  843995  744412  446462\n",
       "1  782  646888  570460  342061\n",
       "2  493  357551  315290  189029\n",
       "3  357  709327  625710  375351\n",
       "4  489  444234  391782  234934"
      ]
     },
     "execution_count": 131,
     "metadata": {},
     "output_type": "execute_result"
    }
   ],
   "source": [
    "# закодируем данные умножив на рандомную матрицу\n",
    "X_RM = X @ RM\n",
    "X_RM.head()"
   ]
  },
  {
   "cell_type": "code",
   "execution_count": 132,
   "metadata": {},
   "outputs": [
    {
     "data": {
      "text/html": [
       "<div>\n",
       "<style scoped>\n",
       "    .dataframe tbody tr th:only-of-type {\n",
       "        vertical-align: middle;\n",
       "    }\n",
       "\n",
       "    .dataframe tbody tr th {\n",
       "        vertical-align: top;\n",
       "    }\n",
       "\n",
       "    .dataframe thead th {\n",
       "        text-align: right;\n",
       "    }\n",
       "</style>\n",
       "<table border=\"1\" class=\"dataframe\">\n",
       "  <thead>\n",
       "    <tr style=\"text-align: right;\">\n",
       "      <th></th>\n",
       "      <th>0</th>\n",
       "      <th>1</th>\n",
       "      <th>2</th>\n",
       "      <th>3</th>\n",
       "    </tr>\n",
       "  </thead>\n",
       "  <tbody>\n",
       "    <tr>\n",
       "      <th>0</th>\n",
       "      <td>1.00000</td>\n",
       "      <td>41.00000</td>\n",
       "      <td>49600.00000</td>\n",
       "      <td>1.00000</td>\n",
       "    </tr>\n",
       "    <tr>\n",
       "      <th>1</th>\n",
       "      <td>0.00000</td>\n",
       "      <td>46.00000</td>\n",
       "      <td>38000.00000</td>\n",
       "      <td>1.00000</td>\n",
       "    </tr>\n",
       "    <tr>\n",
       "      <th>2</th>\n",
       "      <td>-0.00000</td>\n",
       "      <td>29.00000</td>\n",
       "      <td>21000.00000</td>\n",
       "      <td>0.00000</td>\n",
       "    </tr>\n",
       "    <tr>\n",
       "      <th>3</th>\n",
       "      <td>0.00000</td>\n",
       "      <td>21.00000</td>\n",
       "      <td>41700.00000</td>\n",
       "      <td>2.00000</td>\n",
       "    </tr>\n",
       "    <tr>\n",
       "      <th>4</th>\n",
       "      <td>1.00000</td>\n",
       "      <td>28.00000</td>\n",
       "      <td>26100.00000</td>\n",
       "      <td>0.00000</td>\n",
       "    </tr>\n",
       "  </tbody>\n",
       "</table>\n",
       "</div>"
      ],
      "text/plain": [
       "         0        1           2       3\n",
       "0  1.00000 41.00000 49600.00000 1.00000\n",
       "1  0.00000 46.00000 38000.00000 1.00000\n",
       "2 -0.00000 29.00000 21000.00000 0.00000\n",
       "3  0.00000 21.00000 41700.00000 2.00000\n",
       "4  1.00000 28.00000 26100.00000 0.00000"
      ]
     },
     "execution_count": 132,
     "metadata": {},
     "output_type": "execute_result"
    }
   ],
   "source": [
    "# раскодируем данные умножив на обратную матрицу\n",
    "df_new = X_RM @ RM_inv\n",
    "df_new.head()"
   ]
  },
  {
   "cell_type": "code",
   "execution_count": 133,
   "metadata": {},
   "outputs": [],
   "source": [
    "df_new.columns = X.columns"
   ]
  },
  {
   "cell_type": "code",
   "execution_count": 134,
   "metadata": {},
   "outputs": [
    {
     "data": {
      "text/html": [
       "<div>\n",
       "<style scoped>\n",
       "    .dataframe tbody tr th:only-of-type {\n",
       "        vertical-align: middle;\n",
       "    }\n",
       "\n",
       "    .dataframe tbody tr th {\n",
       "        vertical-align: top;\n",
       "    }\n",
       "\n",
       "    .dataframe thead th {\n",
       "        text-align: right;\n",
       "    }\n",
       "</style>\n",
       "<table border=\"1\" class=\"dataframe\">\n",
       "  <thead>\n",
       "    <tr style=\"text-align: right;\">\n",
       "      <th></th>\n",
       "      <th>gender</th>\n",
       "      <th>age</th>\n",
       "      <th>salary</th>\n",
       "      <th>family_members</th>\n",
       "    </tr>\n",
       "  </thead>\n",
       "  <tbody>\n",
       "    <tr>\n",
       "      <th>0</th>\n",
       "      <td>1.00000</td>\n",
       "      <td>41.00000</td>\n",
       "      <td>49600.00000</td>\n",
       "      <td>1.00000</td>\n",
       "    </tr>\n",
       "    <tr>\n",
       "      <th>1</th>\n",
       "      <td>0.00000</td>\n",
       "      <td>46.00000</td>\n",
       "      <td>38000.00000</td>\n",
       "      <td>1.00000</td>\n",
       "    </tr>\n",
       "    <tr>\n",
       "      <th>2</th>\n",
       "      <td>-0.00000</td>\n",
       "      <td>29.00000</td>\n",
       "      <td>21000.00000</td>\n",
       "      <td>0.00000</td>\n",
       "    </tr>\n",
       "    <tr>\n",
       "      <th>3</th>\n",
       "      <td>0.00000</td>\n",
       "      <td>21.00000</td>\n",
       "      <td>41700.00000</td>\n",
       "      <td>2.00000</td>\n",
       "    </tr>\n",
       "    <tr>\n",
       "      <th>4</th>\n",
       "      <td>1.00000</td>\n",
       "      <td>28.00000</td>\n",
       "      <td>26100.00000</td>\n",
       "      <td>0.00000</td>\n",
       "    </tr>\n",
       "    <tr>\n",
       "      <th>...</th>\n",
       "      <td>...</td>\n",
       "      <td>...</td>\n",
       "      <td>...</td>\n",
       "      <td>...</td>\n",
       "    </tr>\n",
       "    <tr>\n",
       "      <th>4995</th>\n",
       "      <td>0.00000</td>\n",
       "      <td>28.00000</td>\n",
       "      <td>35700.00000</td>\n",
       "      <td>2.00000</td>\n",
       "    </tr>\n",
       "    <tr>\n",
       "      <th>4996</th>\n",
       "      <td>0.00000</td>\n",
       "      <td>34.00000</td>\n",
       "      <td>52400.00000</td>\n",
       "      <td>1.00000</td>\n",
       "    </tr>\n",
       "    <tr>\n",
       "      <th>4997</th>\n",
       "      <td>0.00000</td>\n",
       "      <td>20.00000</td>\n",
       "      <td>33900.00000</td>\n",
       "      <td>2.00000</td>\n",
       "    </tr>\n",
       "    <tr>\n",
       "      <th>4998</th>\n",
       "      <td>1.00000</td>\n",
       "      <td>22.00000</td>\n",
       "      <td>32700.00000</td>\n",
       "      <td>3.00000</td>\n",
       "    </tr>\n",
       "    <tr>\n",
       "      <th>4999</th>\n",
       "      <td>1.00000</td>\n",
       "      <td>28.00000</td>\n",
       "      <td>40600.00000</td>\n",
       "      <td>1.00000</td>\n",
       "    </tr>\n",
       "  </tbody>\n",
       "</table>\n",
       "<p>5000 rows × 4 columns</p>\n",
       "</div>"
      ],
      "text/plain": [
       "       gender      age      salary  family_members\n",
       "0     1.00000 41.00000 49600.00000         1.00000\n",
       "1     0.00000 46.00000 38000.00000         1.00000\n",
       "2    -0.00000 29.00000 21000.00000         0.00000\n",
       "3     0.00000 21.00000 41700.00000         2.00000\n",
       "4     1.00000 28.00000 26100.00000         0.00000\n",
       "...       ...      ...         ...             ...\n",
       "4995  0.00000 28.00000 35700.00000         2.00000\n",
       "4996  0.00000 34.00000 52400.00000         1.00000\n",
       "4997  0.00000 20.00000 33900.00000         2.00000\n",
       "4998  1.00000 22.00000 32700.00000         3.00000\n",
       "4999  1.00000 28.00000 40600.00000         1.00000\n",
       "\n",
       "[5000 rows x 4 columns]"
      ]
     },
     "execution_count": 134,
     "metadata": {},
     "output_type": "execute_result"
    }
   ],
   "source": [
    "df_new"
   ]
  },
  {
   "cell_type": "code",
   "execution_count": 136,
   "metadata": {},
   "outputs": [
    {
     "data": {
      "text/plain": [
       "gender           1.00000\n",
       "age              1.00000\n",
       "salary           1.00000\n",
       "family_members   1.00000\n",
       "dtype: float64"
      ]
     },
     "execution_count": 136,
     "metadata": {},
     "output_type": "execute_result"
    }
   ],
   "source": [
    "df_new = df_new.round().astype(int)\n",
    "(df_new == X).mean()"
   ]
  },
  {
   "cell_type": "code",
   "execution_count": 137,
   "metadata": {},
   "outputs": [
    {
     "data": {
      "text/html": [
       "<div>\n",
       "<style scoped>\n",
       "    .dataframe tbody tr th:only-of-type {\n",
       "        vertical-align: middle;\n",
       "    }\n",
       "\n",
       "    .dataframe tbody tr th {\n",
       "        vertical-align: top;\n",
       "    }\n",
       "\n",
       "    .dataframe thead th {\n",
       "        text-align: right;\n",
       "    }\n",
       "</style>\n",
       "<table border=\"1\" class=\"dataframe\">\n",
       "  <thead>\n",
       "    <tr style=\"text-align: right;\">\n",
       "      <th></th>\n",
       "      <th>gender</th>\n",
       "      <th>age</th>\n",
       "      <th>salary</th>\n",
       "      <th>family_members</th>\n",
       "    </tr>\n",
       "  </thead>\n",
       "  <tbody>\n",
       "    <tr>\n",
       "      <th>0</th>\n",
       "      <td>1</td>\n",
       "      <td>41</td>\n",
       "      <td>49600</td>\n",
       "      <td>1</td>\n",
       "    </tr>\n",
       "    <tr>\n",
       "      <th>1</th>\n",
       "      <td>0</td>\n",
       "      <td>46</td>\n",
       "      <td>38000</td>\n",
       "      <td>1</td>\n",
       "    </tr>\n",
       "    <tr>\n",
       "      <th>2</th>\n",
       "      <td>0</td>\n",
       "      <td>29</td>\n",
       "      <td>21000</td>\n",
       "      <td>0</td>\n",
       "    </tr>\n",
       "    <tr>\n",
       "      <th>3</th>\n",
       "      <td>0</td>\n",
       "      <td>21</td>\n",
       "      <td>41700</td>\n",
       "      <td>2</td>\n",
       "    </tr>\n",
       "    <tr>\n",
       "      <th>4</th>\n",
       "      <td>1</td>\n",
       "      <td>28</td>\n",
       "      <td>26100</td>\n",
       "      <td>0</td>\n",
       "    </tr>\n",
       "  </tbody>\n",
       "</table>\n",
       "</div>"
      ],
      "text/plain": [
       "   gender  age  salary  family_members\n",
       "0       1   41   49600               1\n",
       "1       0   46   38000               1\n",
       "2       0   29   21000               0\n",
       "3       0   21   41700               2\n",
       "4       1   28   26100               0"
      ]
     },
     "execution_count": 137,
     "metadata": {},
     "output_type": "execute_result"
    }
   ],
   "source": [
    "df_new.head()"
   ]
  },
  {
   "cell_type": "markdown",
   "metadata": {},
   "source": [
    "**Вывод:**   \n",
    "Как мы видим, данные стали прежними. Качество линейной регрессии не поменяется. Мы умножаем признаки m x n на матрицу n x n и получаем матрицу такого же размера m x  n, но с равномерно изменёнными значениями. И получаем истинную умножив изменённую матрицу на обратную квадратной."
   ]
  },
  {
   "cell_type": "markdown",
   "metadata": {},
   "source": [
    "## Проверка алгоритма"
   ]
  },
  {
   "cell_type": "code",
   "execution_count": 138,
   "metadata": {},
   "outputs": [],
   "source": [
    "# разобьём на обучающий и тестовый наборы\n",
    "X_train, X_test, y_train, y_test = train_test_split(X, y, test_size=0.25, random_state=123)"
   ]
  },
  {
   "cell_type": "code",
   "execution_count": 139,
   "metadata": {},
   "outputs": [
    {
     "data": {
      "text/plain": [
       "((3750, 4), (3750,), (1250, 4), (1250,))"
      ]
     },
     "execution_count": 139,
     "metadata": {},
     "output_type": "execute_result"
    }
   ],
   "source": [
    "# проверим длины наших выборок\n",
    "X_train.shape, y_train.shape, X_test.shape, y_test.shape"
   ]
  },
  {
   "cell_type": "code",
   "execution_count": 140,
   "metadata": {},
   "outputs": [],
   "source": [
    "# создадим класс LinearRegression\n",
    "class LinearRegression:\n",
    "    def fit(self, train_X, train_y):\n",
    "        X = np.concatenate((np.ones((train_X.shape[0], 1)), train_X), axis=1)\n",
    "        y = train_y\n",
    "        w = np.linalg.inv(X.T @ X) @ X.T @ y\n",
    "        self.w = w[1:]\n",
    "        self.w0 = w[0]\n",
    "\n",
    "    def predict(self, test_X):\n",
    "        return test_X @ self.w + self.w0"
   ]
  },
  {
   "cell_type": "markdown",
   "metadata": {},
   "source": [
    "**Посчитаем метрику R2 на исходных данных**"
   ]
  },
  {
   "cell_type": "code",
   "execution_count": 141,
   "metadata": {},
   "outputs": [
    {
     "data": {
      "text/plain": [
       "0.4301846988606346"
      ]
     },
     "execution_count": 141,
     "metadata": {},
     "output_type": "execute_result"
    }
   ],
   "source": [
    "model = LinearRegression()\n",
    "model.fit(X_train, y_train)\n",
    "predictions = model.predict(X_test)\n",
    "r2_score(y_test, predictions)"
   ]
  },
  {
   "cell_type": "markdown",
   "metadata": {},
   "source": [
    "**Посчитаем метрику R2 на данных, умноженных на матрицу**"
   ]
  },
  {
   "cell_type": "code",
   "execution_count": 142,
   "metadata": {},
   "outputs": [],
   "source": [
    "# умножим признаки на матрицу\n",
    "X_train_RM, X_test_RM = X_train @ RM, X_test @ RM"
   ]
  },
  {
   "cell_type": "code",
   "execution_count": 143,
   "metadata": {},
   "outputs": [
    {
     "data": {
      "text/plain": [
       "0.4301847118405643"
      ]
     },
     "execution_count": 143,
     "metadata": {},
     "output_type": "execute_result"
    }
   ],
   "source": [
    "model2 = LinearRegression()\n",
    "model2.fit(X_train_RM, y_train)\n",
    "predictions2 = model2.predict(X_test_RM)\n",
    "r2_score(y_test, predictions2)"
   ]
  },
  {
   "cell_type": "markdown",
   "metadata": {},
   "source": [
    "**Вывод:**    \n",
    "Рассчитав метрику R2 на исходных данных и на данных, умноженных на матрицу, мы подтвердили работу алгоритма. Качество линейной регрессии не измениться при умножении на обратимую матрицу."
   ]
  },
  {
   "cell_type": "markdown",
   "metadata": {},
   "source": [
    "## Общий вывод"
   ]
  },
  {
   "cell_type": "markdown",
   "metadata": {},
   "source": [
    "+ загрузили и подготовили данные   \n",
    "+ теоретически доказали, что качество линейной регрессии не измениться при умножении на обратимую матрицу    \n",
    "+ применили алгоритм преобразования к датафрейму     \n",
    "+ проверили алгоритм на данных, посчитав метрику R2 на исходных данных и на данных, умноженных на матрицу   \n",
    "\n",
    "**Разработали метод преобразования данных, чтобы по ним было сложно восстановить персональную информацию. Данные восстанавливаются при умножении на ключ (обратную матрицу). Качество линейной регрессии не меняется при умножении на обратимую матрицу.**"
   ]
  }
 ],
 "metadata": {
  "ExecuteTimeLog": [
   {
    "duration": 389,
    "start_time": "2023-05-28T14:41:45.396Z"
   },
   {
    "duration": 109,
    "start_time": "2023-05-28T14:46:18.157Z"
   },
   {
    "duration": 70,
    "start_time": "2023-05-28T14:47:47.492Z"
   },
   {
    "duration": 84,
    "start_time": "2023-05-28T14:48:44.297Z"
   },
   {
    "duration": 11,
    "start_time": "2023-05-28T14:48:45.286Z"
   },
   {
    "duration": 30,
    "start_time": "2023-05-28T14:49:08.760Z"
   },
   {
    "duration": 69,
    "start_time": "2023-05-28T14:49:25.560Z"
   },
   {
    "duration": 880,
    "start_time": "2023-05-28T14:49:45.798Z"
   },
   {
    "duration": 398,
    "start_time": "2023-05-28T14:49:50.156Z"
   },
   {
    "duration": 365,
    "start_time": "2023-05-28T14:50:41.611Z"
   },
   {
    "duration": 369,
    "start_time": "2023-05-28T14:50:54.892Z"
   },
   {
    "duration": 353,
    "start_time": "2023-05-28T14:51:16.871Z"
   },
   {
    "duration": 5,
    "start_time": "2023-05-28T14:52:06.616Z"
   },
   {
    "duration": 309,
    "start_time": "2023-05-28T14:54:16.860Z"
   },
   {
    "duration": 49,
    "start_time": "2023-05-29T02:01:41.179Z"
   },
   {
    "duration": 1258,
    "start_time": "2023-05-29T02:01:46.866Z"
   },
   {
    "duration": 127,
    "start_time": "2023-05-29T02:01:48.126Z"
   },
   {
    "duration": 14,
    "start_time": "2023-05-29T02:01:48.255Z"
   },
   {
    "duration": 38,
    "start_time": "2023-05-29T02:01:48.272Z"
   },
   {
    "duration": 7,
    "start_time": "2023-05-29T02:01:48.312Z"
   },
   {
    "duration": 26,
    "start_time": "2023-05-29T02:01:48.320Z"
   },
   {
    "duration": 11,
    "start_time": "2023-05-29T02:01:59.082Z"
   },
   {
    "duration": 1396,
    "start_time": "2023-05-29T02:03:28.090Z"
   },
   {
    "duration": 8,
    "start_time": "2023-05-29T02:03:48.164Z"
   },
   {
    "duration": 1391,
    "start_time": "2023-05-29T02:04:59.578Z"
   },
   {
    "duration": 6,
    "start_time": "2023-05-29T02:05:51.295Z"
   },
   {
    "duration": 13,
    "start_time": "2023-05-29T02:06:07.568Z"
   },
   {
    "duration": 17,
    "start_time": "2023-05-29T02:06:25.444Z"
   },
   {
    "duration": 12,
    "start_time": "2023-05-29T02:06:30.168Z"
   },
   {
    "duration": 6,
    "start_time": "2023-05-29T02:07:26.000Z"
   },
   {
    "duration": 4,
    "start_time": "2023-05-29T02:24:01.557Z"
   },
   {
    "duration": 11,
    "start_time": "2023-05-29T02:24:32.600Z"
   },
   {
    "duration": 4,
    "start_time": "2023-05-29T02:28:04.188Z"
   },
   {
    "duration": 84,
    "start_time": "2023-05-29T02:28:04.194Z"
   },
   {
    "duration": 14,
    "start_time": "2023-05-29T02:28:04.281Z"
   },
   {
    "duration": 38,
    "start_time": "2023-05-29T02:28:04.297Z"
   },
   {
    "duration": 7,
    "start_time": "2023-05-29T02:28:04.337Z"
   },
   {
    "duration": 14,
    "start_time": "2023-05-29T02:28:04.346Z"
   },
   {
    "duration": 8,
    "start_time": "2023-05-29T02:28:04.362Z"
   },
   {
    "duration": 7,
    "start_time": "2023-05-29T02:28:04.373Z"
   },
   {
    "duration": 21,
    "start_time": "2023-05-29T02:28:04.382Z"
   },
   {
    "duration": 18,
    "start_time": "2023-05-29T02:32:00.201Z"
   },
   {
    "duration": 4,
    "start_time": "2023-05-29T02:32:12.881Z"
   },
   {
    "duration": 85,
    "start_time": "2023-05-29T02:32:12.887Z"
   },
   {
    "duration": 13,
    "start_time": "2023-05-29T02:32:12.973Z"
   },
   {
    "duration": 30,
    "start_time": "2023-05-29T02:32:12.989Z"
   },
   {
    "duration": 7,
    "start_time": "2023-05-29T02:32:13.022Z"
   },
   {
    "duration": 21,
    "start_time": "2023-05-29T02:32:13.030Z"
   },
   {
    "duration": 0,
    "start_time": "2023-05-29T02:32:13.052Z"
   },
   {
    "duration": 0,
    "start_time": "2023-05-29T02:32:13.053Z"
   },
   {
    "duration": 0,
    "start_time": "2023-05-29T02:32:13.054Z"
   },
   {
    "duration": 10,
    "start_time": "2023-05-29T02:33:12.477Z"
   },
   {
    "duration": 4,
    "start_time": "2023-05-29T02:33:27.205Z"
   },
   {
    "duration": 83,
    "start_time": "2023-05-29T02:33:27.212Z"
   },
   {
    "duration": 10,
    "start_time": "2023-05-29T02:33:27.296Z"
   },
   {
    "duration": 24,
    "start_time": "2023-05-29T02:33:27.308Z"
   },
   {
    "duration": 6,
    "start_time": "2023-05-29T02:33:27.333Z"
   },
   {
    "duration": 14,
    "start_time": "2023-05-29T02:33:27.340Z"
   },
   {
    "duration": 6,
    "start_time": "2023-05-29T02:33:27.356Z"
   },
   {
    "duration": 14,
    "start_time": "2023-05-29T02:33:27.364Z"
   },
   {
    "duration": 15,
    "start_time": "2023-05-29T02:33:27.380Z"
   },
   {
    "duration": 1158,
    "start_time": "2023-05-29T02:34:12.830Z"
   },
   {
    "duration": 3,
    "start_time": "2023-05-29T02:34:21.478Z"
   },
   {
    "duration": 76,
    "start_time": "2023-05-29T02:34:21.484Z"
   },
   {
    "duration": 14,
    "start_time": "2023-05-29T02:34:21.562Z"
   },
   {
    "duration": 38,
    "start_time": "2023-05-29T02:34:21.579Z"
   },
   {
    "duration": 6,
    "start_time": "2023-05-29T02:34:21.620Z"
   },
   {
    "duration": 17,
    "start_time": "2023-05-29T02:34:21.627Z"
   },
   {
    "duration": 13,
    "start_time": "2023-05-29T02:34:21.646Z"
   },
   {
    "duration": 4,
    "start_time": "2023-05-29T02:34:21.661Z"
   },
   {
    "duration": 13,
    "start_time": "2023-05-29T02:34:21.666Z"
   },
   {
    "duration": 456,
    "start_time": "2023-05-29T02:42:17.116Z"
   },
   {
    "duration": 703,
    "start_time": "2023-05-29T02:44:14.508Z"
   },
   {
    "duration": 610,
    "start_time": "2023-05-29T02:44:46.277Z"
   },
   {
    "duration": 629,
    "start_time": "2023-05-29T02:45:04.211Z"
   },
   {
    "duration": 417,
    "start_time": "2023-05-29T02:45:28.492Z"
   },
   {
    "duration": 437,
    "start_time": "2023-05-29T02:45:52.523Z"
   },
   {
    "duration": 808,
    "start_time": "2023-05-29T02:46:12.376Z"
   },
   {
    "duration": 4,
    "start_time": "2023-05-29T02:48:53.997Z"
   },
   {
    "duration": 117,
    "start_time": "2023-05-29T02:48:54.004Z"
   },
   {
    "duration": 19,
    "start_time": "2023-05-29T02:48:54.122Z"
   },
   {
    "duration": 48,
    "start_time": "2023-05-29T02:48:54.144Z"
   },
   {
    "duration": 760,
    "start_time": "2023-05-29T02:48:54.196Z"
   },
   {
    "duration": 7,
    "start_time": "2023-05-29T02:48:54.957Z"
   },
   {
    "duration": 16,
    "start_time": "2023-05-29T02:48:54.966Z"
   },
   {
    "duration": 18,
    "start_time": "2023-05-29T02:48:54.984Z"
   },
   {
    "duration": 8,
    "start_time": "2023-05-29T02:48:55.004Z"
   },
   {
    "duration": 51,
    "start_time": "2023-05-29T02:48:55.015Z"
   },
   {
    "duration": 4,
    "start_time": "2023-05-29T03:52:55.283Z"
   },
   {
    "duration": 79,
    "start_time": "2023-05-29T03:52:55.290Z"
   },
   {
    "duration": 13,
    "start_time": "2023-05-29T03:52:55.371Z"
   },
   {
    "duration": 30,
    "start_time": "2023-05-29T03:52:55.386Z"
   },
   {
    "duration": 640,
    "start_time": "2023-05-29T03:52:55.419Z"
   },
   {
    "duration": 6,
    "start_time": "2023-05-29T03:52:56.062Z"
   },
   {
    "duration": 13,
    "start_time": "2023-05-29T03:52:56.070Z"
   },
   {
    "duration": 11,
    "start_time": "2023-05-29T03:52:56.085Z"
   },
   {
    "duration": 7,
    "start_time": "2023-05-29T03:52:56.098Z"
   },
   {
    "duration": 12,
    "start_time": "2023-05-29T03:52:56.107Z"
   },
   {
    "duration": 121,
    "start_time": "2023-05-29T06:36:09.357Z"
   },
   {
    "duration": 4,
    "start_time": "2023-05-29T08:15:17.766Z"
   },
   {
    "duration": 106,
    "start_time": "2023-05-29T08:15:17.774Z"
   },
   {
    "duration": 15,
    "start_time": "2023-05-29T08:15:17.882Z"
   },
   {
    "duration": 34,
    "start_time": "2023-05-29T08:15:17.898Z"
   },
   {
    "duration": 797,
    "start_time": "2023-05-29T08:15:17.936Z"
   },
   {
    "duration": 10,
    "start_time": "2023-05-29T08:15:18.735Z"
   },
   {
    "duration": 22,
    "start_time": "2023-05-29T08:15:18.746Z"
   },
   {
    "duration": 15,
    "start_time": "2023-05-29T08:15:18.770Z"
   },
   {
    "duration": 13,
    "start_time": "2023-05-29T08:15:18.787Z"
   },
   {
    "duration": 19,
    "start_time": "2023-05-29T08:15:18.802Z"
   },
   {
    "duration": 25,
    "start_time": "2023-05-29T08:15:18.823Z"
   },
   {
    "duration": 21,
    "start_time": "2023-05-29T08:15:18.851Z"
   },
   {
    "duration": 18,
    "start_time": "2023-05-29T08:15:18.873Z"
   },
   {
    "duration": 0,
    "start_time": "2023-05-29T08:15:18.893Z"
   },
   {
    "duration": 410,
    "start_time": "2023-05-29T08:18:55.854Z"
   },
   {
    "duration": 3,
    "start_time": "2023-05-29T08:18:59.905Z"
   },
   {
    "duration": 93,
    "start_time": "2023-05-29T08:18:59.911Z"
   },
   {
    "duration": 12,
    "start_time": "2023-05-29T08:19:00.005Z"
   },
   {
    "duration": 38,
    "start_time": "2023-05-29T08:19:00.019Z"
   },
   {
    "duration": 665,
    "start_time": "2023-05-29T08:19:00.060Z"
   },
   {
    "duration": 6,
    "start_time": "2023-05-29T08:19:00.727Z"
   },
   {
    "duration": 25,
    "start_time": "2023-05-29T08:19:00.742Z"
   },
   {
    "duration": 53,
    "start_time": "2023-05-29T08:19:00.768Z"
   },
   {
    "duration": 26,
    "start_time": "2023-05-29T08:19:00.823Z"
   },
   {
    "duration": 41,
    "start_time": "2023-05-29T08:19:00.852Z"
   },
   {
    "duration": 28,
    "start_time": "2023-05-29T08:19:00.895Z"
   },
   {
    "duration": 62,
    "start_time": "2023-05-29T08:19:00.925Z"
   },
   {
    "duration": 48,
    "start_time": "2023-05-29T08:19:00.989Z"
   },
   {
    "duration": 0,
    "start_time": "2023-05-29T08:19:01.038Z"
   },
   {
    "duration": 5,
    "start_time": "2023-05-29T08:19:24.483Z"
   },
   {
    "duration": 5,
    "start_time": "2023-05-29T08:19:30.108Z"
   },
   {
    "duration": 1632,
    "start_time": "2023-05-29T12:52:27.715Z"
   },
   {
    "duration": 143,
    "start_time": "2023-05-29T12:52:29.349Z"
   },
   {
    "duration": 11,
    "start_time": "2023-05-29T12:52:29.493Z"
   },
   {
    "duration": 34,
    "start_time": "2023-05-29T12:52:29.506Z"
   },
   {
    "duration": 651,
    "start_time": "2023-05-29T12:52:29.542Z"
   },
   {
    "duration": 6,
    "start_time": "2023-05-29T12:52:30.196Z"
   },
   {
    "duration": 29,
    "start_time": "2023-05-29T12:52:30.204Z"
   },
   {
    "duration": 35,
    "start_time": "2023-05-29T12:52:30.235Z"
   },
   {
    "duration": 10,
    "start_time": "2023-05-29T12:52:30.272Z"
   },
   {
    "duration": 38,
    "start_time": "2023-05-29T12:52:30.285Z"
   },
   {
    "duration": 38,
    "start_time": "2023-05-29T12:52:30.325Z"
   },
   {
    "duration": 43,
    "start_time": "2023-05-29T12:52:30.365Z"
   },
   {
    "duration": 51,
    "start_time": "2023-05-29T12:52:30.409Z"
   },
   {
    "duration": 52,
    "start_time": "2023-05-29T12:52:30.462Z"
   },
   {
    "duration": 10,
    "start_time": "2023-05-29T13:13:10.262Z"
   },
   {
    "duration": 5,
    "start_time": "2023-05-29T14:04:25.737Z"
   },
   {
    "duration": 5,
    "start_time": "2023-05-29T14:04:51.594Z"
   },
   {
    "duration": 5,
    "start_time": "2023-05-29T14:06:24.910Z"
   },
   {
    "duration": 4,
    "start_time": "2023-05-29T14:06:50.633Z"
   },
   {
    "duration": 5,
    "start_time": "2023-05-29T14:06:51.017Z"
   },
   {
    "duration": 4,
    "start_time": "2023-05-29T14:07:14.110Z"
   },
   {
    "duration": 5,
    "start_time": "2023-05-29T14:07:22.353Z"
   },
   {
    "duration": 397,
    "start_time": "2023-05-29T14:08:27.298Z"
   },
   {
    "duration": 5,
    "start_time": "2023-05-29T14:08:41.122Z"
   },
   {
    "duration": 4,
    "start_time": "2023-05-29T14:10:59.362Z"
   },
   {
    "duration": 4,
    "start_time": "2023-05-29T14:11:03.265Z"
   },
   {
    "duration": 5,
    "start_time": "2023-05-29T14:11:05.617Z"
   },
   {
    "duration": 5,
    "start_time": "2023-05-29T14:11:48.977Z"
   },
   {
    "duration": 58,
    "start_time": "2023-05-29T14:15:01.544Z"
   },
   {
    "duration": 20,
    "start_time": "2023-05-29T14:17:35.410Z"
   },
   {
    "duration": 9,
    "start_time": "2023-05-29T14:17:42.729Z"
   },
   {
    "duration": 75,
    "start_time": "2023-05-29T14:19:07.480Z"
   },
   {
    "duration": 6,
    "start_time": "2023-05-29T14:20:11.800Z"
   },
   {
    "duration": 5,
    "start_time": "2023-05-29T14:26:24.955Z"
   },
   {
    "duration": 5,
    "start_time": "2023-05-29T14:26:25.775Z"
   },
   {
    "duration": 17,
    "start_time": "2023-05-29T14:28:35.553Z"
   },
   {
    "duration": 3,
    "start_time": "2023-05-29T14:30:08.718Z"
   },
   {
    "duration": 81,
    "start_time": "2023-05-29T14:30:08.724Z"
   },
   {
    "duration": 11,
    "start_time": "2023-05-29T14:30:08.807Z"
   },
   {
    "duration": 42,
    "start_time": "2023-05-29T14:30:08.820Z"
   },
   {
    "duration": 608,
    "start_time": "2023-05-29T14:30:08.864Z"
   },
   {
    "duration": 5,
    "start_time": "2023-05-29T14:30:09.474Z"
   },
   {
    "duration": 20,
    "start_time": "2023-05-29T14:30:09.480Z"
   },
   {
    "duration": 10,
    "start_time": "2023-05-29T14:30:09.502Z"
   },
   {
    "duration": 13,
    "start_time": "2023-05-29T14:30:09.513Z"
   },
   {
    "duration": 9,
    "start_time": "2023-05-29T14:30:09.529Z"
   },
   {
    "duration": 10,
    "start_time": "2023-05-29T14:30:09.539Z"
   },
   {
    "duration": 23,
    "start_time": "2023-05-29T14:30:09.550Z"
   },
   {
    "duration": 11,
    "start_time": "2023-05-29T14:30:09.574Z"
   },
   {
    "duration": 23,
    "start_time": "2023-05-29T14:30:09.586Z"
   },
   {
    "duration": 90,
    "start_time": "2023-05-29T14:30:09.611Z"
   },
   {
    "duration": 0,
    "start_time": "2023-05-29T14:30:09.703Z"
   },
   {
    "duration": 0,
    "start_time": "2023-05-29T14:30:09.704Z"
   },
   {
    "duration": 12,
    "start_time": "2023-05-29T14:30:48.823Z"
   },
   {
    "duration": 6,
    "start_time": "2023-05-29T14:33:44.872Z"
   },
   {
    "duration": 50,
    "start_time": "2023-05-29T14:34:04.346Z"
   },
   {
    "duration": 4,
    "start_time": "2023-05-29T14:34:38.391Z"
   },
   {
    "duration": 5,
    "start_time": "2023-05-29T14:35:12.127Z"
   },
   {
    "duration": 19,
    "start_time": "2023-05-29T14:35:17.374Z"
   },
   {
    "duration": 14,
    "start_time": "2023-05-29T14:35:22.990Z"
   },
   {
    "duration": 101,
    "start_time": "2023-05-29T14:36:03.199Z"
   },
   {
    "duration": 11,
    "start_time": "2023-05-29T14:38:21.310Z"
   },
   {
    "duration": 371,
    "start_time": "2023-05-29T14:38:51.734Z"
   },
   {
    "duration": 14,
    "start_time": "2023-05-29T14:39:14.814Z"
   },
   {
    "duration": 408,
    "start_time": "2023-05-29T14:39:47.797Z"
   },
   {
    "duration": 13,
    "start_time": "2023-05-29T14:41:07.381Z"
   },
   {
    "duration": 4,
    "start_time": "2023-05-29T14:41:16.055Z"
   },
   {
    "duration": 343,
    "start_time": "2023-05-29T14:41:16.759Z"
   },
   {
    "duration": 3,
    "start_time": "2023-05-29T14:42:13.243Z"
   },
   {
    "duration": 80,
    "start_time": "2023-05-29T14:42:13.248Z"
   },
   {
    "duration": 94,
    "start_time": "2023-05-29T14:42:13.329Z"
   },
   {
    "duration": 37,
    "start_time": "2023-05-29T14:42:13.425Z"
   },
   {
    "duration": 665,
    "start_time": "2023-05-29T14:42:13.464Z"
   },
   {
    "duration": 5,
    "start_time": "2023-05-29T14:42:14.131Z"
   },
   {
    "duration": 9,
    "start_time": "2023-05-29T14:42:14.138Z"
   },
   {
    "duration": 11,
    "start_time": "2023-05-29T14:42:14.148Z"
   },
   {
    "duration": 13,
    "start_time": "2023-05-29T14:42:14.161Z"
   },
   {
    "duration": 27,
    "start_time": "2023-05-29T14:42:14.175Z"
   },
   {
    "duration": 24,
    "start_time": "2023-05-29T14:42:14.203Z"
   },
   {
    "duration": 14,
    "start_time": "2023-05-29T14:42:14.229Z"
   },
   {
    "duration": 16,
    "start_time": "2023-05-29T14:42:14.244Z"
   },
   {
    "duration": 10,
    "start_time": "2023-05-29T14:42:14.262Z"
   },
   {
    "duration": 9,
    "start_time": "2023-05-29T14:42:14.274Z"
   },
   {
    "duration": 513,
    "start_time": "2023-05-29T14:42:14.285Z"
   },
   {
    "duration": 98,
    "start_time": "2023-05-29T14:42:14.801Z"
   },
   {
    "duration": 13,
    "start_time": "2023-05-29T14:42:14.901Z"
   },
   {
    "duration": 3,
    "start_time": "2023-05-29T14:42:33.224Z"
   },
   {
    "duration": 70,
    "start_time": "2023-05-29T14:42:33.228Z"
   },
   {
    "duration": 9,
    "start_time": "2023-05-29T14:42:33.300Z"
   },
   {
    "duration": 20,
    "start_time": "2023-05-29T14:42:33.311Z"
   },
   {
    "duration": 591,
    "start_time": "2023-05-29T14:42:33.333Z"
   },
   {
    "duration": 6,
    "start_time": "2023-05-29T14:42:33.925Z"
   },
   {
    "duration": 17,
    "start_time": "2023-05-29T14:42:33.932Z"
   },
   {
    "duration": 18,
    "start_time": "2023-05-29T14:42:33.950Z"
   },
   {
    "duration": 3,
    "start_time": "2023-05-29T14:42:33.970Z"
   },
   {
    "duration": 14,
    "start_time": "2023-05-29T14:42:33.975Z"
   },
   {
    "duration": 16,
    "start_time": "2023-05-29T14:42:33.990Z"
   },
   {
    "duration": 22,
    "start_time": "2023-05-29T14:42:34.008Z"
   },
   {
    "duration": 15,
    "start_time": "2023-05-29T14:42:34.032Z"
   },
   {
    "duration": 20,
    "start_time": "2023-05-29T14:42:34.048Z"
   },
   {
    "duration": 22,
    "start_time": "2023-05-29T14:42:34.069Z"
   },
   {
    "duration": 509,
    "start_time": "2023-05-29T14:42:34.093Z"
   },
   {
    "duration": 96,
    "start_time": "2023-05-29T14:42:34.605Z"
   },
   {
    "duration": 14,
    "start_time": "2023-05-29T14:42:34.702Z"
   },
   {
    "duration": 3,
    "start_time": "2023-05-29T14:43:49.222Z"
   },
   {
    "duration": 3,
    "start_time": "2023-05-29T14:44:36.524Z"
   },
   {
    "duration": 81,
    "start_time": "2023-05-29T14:44:36.529Z"
   },
   {
    "duration": 12,
    "start_time": "2023-05-29T14:44:36.613Z"
   },
   {
    "duration": 44,
    "start_time": "2023-05-29T14:44:36.628Z"
   },
   {
    "duration": 615,
    "start_time": "2023-05-29T14:44:36.674Z"
   },
   {
    "duration": 9,
    "start_time": "2023-05-29T14:44:37.291Z"
   },
   {
    "duration": 8,
    "start_time": "2023-05-29T14:44:37.302Z"
   },
   {
    "duration": 11,
    "start_time": "2023-05-29T14:44:37.311Z"
   },
   {
    "duration": 3,
    "start_time": "2023-05-29T14:44:37.325Z"
   },
   {
    "duration": 16,
    "start_time": "2023-05-29T14:44:37.329Z"
   },
   {
    "duration": 7,
    "start_time": "2023-05-29T14:44:37.346Z"
   },
   {
    "duration": 9,
    "start_time": "2023-05-29T14:44:37.355Z"
   },
   {
    "duration": 22,
    "start_time": "2023-05-29T14:44:37.365Z"
   },
   {
    "duration": 5,
    "start_time": "2023-05-29T14:44:37.399Z"
   },
   {
    "duration": 10,
    "start_time": "2023-05-29T14:44:37.406Z"
   },
   {
    "duration": 484,
    "start_time": "2023-05-29T14:44:37.418Z"
   },
   {
    "duration": 94,
    "start_time": "2023-05-29T14:44:37.904Z"
   },
   {
    "duration": 503,
    "start_time": "2023-05-29T14:44:38.000Z"
   },
   {
    "duration": 96,
    "start_time": "2023-05-29T14:44:38.505Z"
   },
   {
    "duration": 102,
    "start_time": "2023-05-29T14:44:38.604Z"
   },
   {
    "duration": 4,
    "start_time": "2023-05-29T14:54:25.981Z"
   },
   {
    "duration": 4,
    "start_time": "2023-05-29T14:55:19.797Z"
   },
   {
    "duration": 6,
    "start_time": "2023-05-29T15:01:39.526Z"
   },
   {
    "duration": 105,
    "start_time": "2023-05-29T15:01:39.535Z"
   },
   {
    "duration": 18,
    "start_time": "2023-05-29T15:01:39.643Z"
   },
   {
    "duration": 23,
    "start_time": "2023-05-29T15:01:39.663Z"
   },
   {
    "duration": 864,
    "start_time": "2023-05-29T15:01:39.689Z"
   },
   {
    "duration": 7,
    "start_time": "2023-05-29T15:01:40.555Z"
   },
   {
    "duration": 12,
    "start_time": "2023-05-29T15:01:40.564Z"
   },
   {
    "duration": 34,
    "start_time": "2023-05-29T15:01:40.578Z"
   },
   {
    "duration": 16,
    "start_time": "2023-05-29T15:01:40.614Z"
   },
   {
    "duration": 16,
    "start_time": "2023-05-29T15:01:40.632Z"
   },
   {
    "duration": 13,
    "start_time": "2023-05-29T15:01:40.650Z"
   },
   {
    "duration": 14,
    "start_time": "2023-05-29T15:01:40.665Z"
   },
   {
    "duration": 12,
    "start_time": "2023-05-29T15:01:40.681Z"
   },
   {
    "duration": 43,
    "start_time": "2023-05-29T15:01:40.697Z"
   },
   {
    "duration": 69,
    "start_time": "2023-05-29T15:01:40.742Z"
   },
   {
    "duration": 111,
    "start_time": "2023-05-29T15:01:40.814Z"
   },
   {
    "duration": 0,
    "start_time": "2023-05-29T15:01:40.927Z"
   },
   {
    "duration": 0,
    "start_time": "2023-05-29T15:01:40.929Z"
   },
   {
    "duration": 0,
    "start_time": "2023-05-29T15:01:40.931Z"
   },
   {
    "duration": 4,
    "start_time": "2023-05-29T15:02:03.471Z"
   },
   {
    "duration": 165,
    "start_time": "2023-05-29T15:02:03.478Z"
   },
   {
    "duration": 12,
    "start_time": "2023-05-29T15:02:03.645Z"
   },
   {
    "duration": 67,
    "start_time": "2023-05-29T15:02:03.660Z"
   },
   {
    "duration": 741,
    "start_time": "2023-05-29T15:02:03.730Z"
   },
   {
    "duration": 9,
    "start_time": "2023-05-29T15:02:04.473Z"
   },
   {
    "duration": 80,
    "start_time": "2023-05-29T15:02:04.484Z"
   },
   {
    "duration": 36,
    "start_time": "2023-05-29T15:02:04.568Z"
   },
   {
    "duration": 43,
    "start_time": "2023-05-29T15:02:04.606Z"
   },
   {
    "duration": 30,
    "start_time": "2023-05-29T15:02:04.652Z"
   },
   {
    "duration": 38,
    "start_time": "2023-05-29T15:02:04.684Z"
   },
   {
    "duration": 25,
    "start_time": "2023-05-29T15:02:04.724Z"
   },
   {
    "duration": 51,
    "start_time": "2023-05-29T15:02:04.751Z"
   },
   {
    "duration": 44,
    "start_time": "2023-05-29T15:02:04.804Z"
   },
   {
    "duration": 54,
    "start_time": "2023-05-29T15:02:04.850Z"
   },
   {
    "duration": 102,
    "start_time": "2023-05-29T15:02:04.906Z"
   },
   {
    "duration": 64,
    "start_time": "2023-05-29T15:02:05.011Z"
   },
   {
    "duration": 0,
    "start_time": "2023-05-29T15:02:05.077Z"
   },
   {
    "duration": 0,
    "start_time": "2023-05-29T15:02:05.079Z"
   },
   {
    "duration": 3,
    "start_time": "2023-05-29T15:02:19.233Z"
   },
   {
    "duration": 101,
    "start_time": "2023-05-29T15:02:19.239Z"
   },
   {
    "duration": 12,
    "start_time": "2023-05-29T15:02:19.342Z"
   },
   {
    "duration": 44,
    "start_time": "2023-05-29T15:02:19.357Z"
   },
   {
    "duration": 732,
    "start_time": "2023-05-29T15:02:19.404Z"
   },
   {
    "duration": 6,
    "start_time": "2023-05-29T15:02:20.138Z"
   },
   {
    "duration": 11,
    "start_time": "2023-05-29T15:02:20.146Z"
   },
   {
    "duration": 16,
    "start_time": "2023-05-29T15:02:20.159Z"
   },
   {
    "duration": 27,
    "start_time": "2023-05-29T15:02:20.176Z"
   },
   {
    "duration": 28,
    "start_time": "2023-05-29T15:02:20.204Z"
   },
   {
    "duration": 24,
    "start_time": "2023-05-29T15:02:20.236Z"
   },
   {
    "duration": 21,
    "start_time": "2023-05-29T15:02:20.262Z"
   },
   {
    "duration": 11,
    "start_time": "2023-05-29T15:02:20.285Z"
   },
   {
    "duration": 31,
    "start_time": "2023-05-29T15:02:20.301Z"
   },
   {
    "duration": 361,
    "start_time": "2023-05-29T15:02:20.334Z"
   },
   {
    "duration": 366,
    "start_time": "2023-05-29T15:02:20.697Z"
   },
   {
    "duration": 76,
    "start_time": "2023-05-29T15:02:21.064Z"
   },
   {
    "duration": 59,
    "start_time": "2023-05-29T15:02:21.142Z"
   },
   {
    "duration": 34,
    "start_time": "2023-05-29T15:02:21.202Z"
   },
   {
    "duration": 3,
    "start_time": "2023-05-29T15:03:21.848Z"
   },
   {
    "duration": 96,
    "start_time": "2023-05-29T15:03:21.853Z"
   },
   {
    "duration": 13,
    "start_time": "2023-05-29T15:03:21.951Z"
   },
   {
    "duration": 32,
    "start_time": "2023-05-29T15:03:21.965Z"
   },
   {
    "duration": 726,
    "start_time": "2023-05-29T15:03:21.999Z"
   },
   {
    "duration": 7,
    "start_time": "2023-05-29T15:03:22.727Z"
   },
   {
    "duration": 22,
    "start_time": "2023-05-29T15:03:22.736Z"
   },
   {
    "duration": 37,
    "start_time": "2023-05-29T15:03:22.761Z"
   },
   {
    "duration": 5,
    "start_time": "2023-05-29T15:03:22.800Z"
   },
   {
    "duration": 27,
    "start_time": "2023-05-29T15:03:22.807Z"
   },
   {
    "duration": 9,
    "start_time": "2023-05-29T15:03:22.839Z"
   },
   {
    "duration": 11,
    "start_time": "2023-05-29T15:03:22.851Z"
   },
   {
    "duration": 8,
    "start_time": "2023-05-29T15:03:22.865Z"
   },
   {
    "duration": 24,
    "start_time": "2023-05-29T15:03:22.875Z"
   },
   {
    "duration": 100,
    "start_time": "2023-05-29T15:03:22.904Z"
   },
   {
    "duration": 28,
    "start_time": "2023-05-29T15:03:23.006Z"
   },
   {
    "duration": 65,
    "start_time": "2023-05-29T15:03:23.036Z"
   },
   {
    "duration": 14,
    "start_time": "2023-05-29T15:03:23.103Z"
   },
   {
    "duration": 14,
    "start_time": "2023-05-29T15:03:23.119Z"
   },
   {
    "duration": 4,
    "start_time": "2023-05-29T15:05:12.581Z"
   },
   {
    "duration": 11,
    "start_time": "2023-05-29T15:05:20.533Z"
   },
   {
    "duration": 10,
    "start_time": "2023-05-29T15:15:24.577Z"
   },
   {
    "duration": 3,
    "start_time": "2023-05-29T15:15:48.892Z"
   },
   {
    "duration": 74,
    "start_time": "2023-05-29T15:15:48.897Z"
   },
   {
    "duration": 9,
    "start_time": "2023-05-29T15:15:48.973Z"
   },
   {
    "duration": 21,
    "start_time": "2023-05-29T15:15:48.984Z"
   },
   {
    "duration": 714,
    "start_time": "2023-05-29T15:15:49.006Z"
   },
   {
    "duration": 5,
    "start_time": "2023-05-29T15:15:49.721Z"
   },
   {
    "duration": 14,
    "start_time": "2023-05-29T15:15:49.727Z"
   },
   {
    "duration": 10,
    "start_time": "2023-05-29T15:15:49.742Z"
   },
   {
    "duration": 20,
    "start_time": "2023-05-29T15:15:49.754Z"
   },
   {
    "duration": 10,
    "start_time": "2023-05-29T15:15:49.776Z"
   },
   {
    "duration": 11,
    "start_time": "2023-05-29T15:15:49.787Z"
   },
   {
    "duration": 25,
    "start_time": "2023-05-29T15:15:49.800Z"
   },
   {
    "duration": 8,
    "start_time": "2023-05-29T15:15:49.827Z"
   },
   {
    "duration": 11,
    "start_time": "2023-05-29T15:15:49.836Z"
   },
   {
    "duration": 51,
    "start_time": "2023-05-29T15:15:49.852Z"
   },
   {
    "duration": 92,
    "start_time": "2023-05-29T15:15:49.905Z"
   },
   {
    "duration": 10,
    "start_time": "2023-05-29T15:15:49.998Z"
   },
   {
    "duration": 13,
    "start_time": "2023-05-29T15:15:50.010Z"
   },
   {
    "duration": 11,
    "start_time": "2023-05-29T15:15:50.025Z"
   },
   {
    "duration": 5,
    "start_time": "2023-05-29T15:17:21.432Z"
   },
   {
    "duration": 4,
    "start_time": "2023-05-29T15:17:24.456Z"
   },
   {
    "duration": 74,
    "start_time": "2023-05-29T15:17:24.462Z"
   },
   {
    "duration": 11,
    "start_time": "2023-05-29T15:17:24.538Z"
   },
   {
    "duration": 27,
    "start_time": "2023-05-29T15:17:24.552Z"
   },
   {
    "duration": 608,
    "start_time": "2023-05-29T15:17:24.581Z"
   },
   {
    "duration": 12,
    "start_time": "2023-05-29T15:17:25.191Z"
   },
   {
    "duration": 12,
    "start_time": "2023-05-29T15:17:25.205Z"
   },
   {
    "duration": 17,
    "start_time": "2023-05-29T15:17:25.220Z"
   },
   {
    "duration": 4,
    "start_time": "2023-05-29T15:17:25.240Z"
   },
   {
    "duration": 18,
    "start_time": "2023-05-29T15:17:25.246Z"
   },
   {
    "duration": 11,
    "start_time": "2023-05-29T15:17:25.266Z"
   },
   {
    "duration": 22,
    "start_time": "2023-05-29T15:17:25.279Z"
   },
   {
    "duration": 13,
    "start_time": "2023-05-29T15:17:25.302Z"
   },
   {
    "duration": 13,
    "start_time": "2023-05-29T15:17:25.317Z"
   },
   {
    "duration": 73,
    "start_time": "2023-05-29T15:17:25.332Z"
   },
   {
    "duration": 93,
    "start_time": "2023-05-29T15:17:25.409Z"
   },
   {
    "duration": 10,
    "start_time": "2023-05-29T15:17:25.503Z"
   },
   {
    "duration": 25,
    "start_time": "2023-05-29T15:17:25.515Z"
   },
   {
    "duration": 17,
    "start_time": "2023-05-29T15:17:25.542Z"
   },
   {
    "duration": 3,
    "start_time": "2023-05-29T15:18:25.151Z"
   },
   {
    "duration": 3,
    "start_time": "2023-05-29T15:18:30.835Z"
   },
   {
    "duration": 115,
    "start_time": "2023-05-29T15:18:30.840Z"
   },
   {
    "duration": 11,
    "start_time": "2023-05-29T15:18:30.956Z"
   },
   {
    "duration": 61,
    "start_time": "2023-05-29T15:18:30.968Z"
   },
   {
    "duration": 643,
    "start_time": "2023-05-29T15:18:31.031Z"
   },
   {
    "duration": 7,
    "start_time": "2023-05-29T15:18:31.675Z"
   },
   {
    "duration": 57,
    "start_time": "2023-05-29T15:18:31.683Z"
   },
   {
    "duration": 34,
    "start_time": "2023-05-29T15:18:31.742Z"
   },
   {
    "duration": 29,
    "start_time": "2023-05-29T15:18:31.778Z"
   },
   {
    "duration": 35,
    "start_time": "2023-05-29T15:18:31.809Z"
   },
   {
    "duration": 25,
    "start_time": "2023-05-29T15:18:31.848Z"
   },
   {
    "duration": 35,
    "start_time": "2023-05-29T15:18:31.875Z"
   },
   {
    "duration": 36,
    "start_time": "2023-05-29T15:18:31.912Z"
   },
   {
    "duration": 14,
    "start_time": "2023-05-29T15:18:31.950Z"
   },
   {
    "duration": 131,
    "start_time": "2023-05-29T15:18:31.967Z"
   },
   {
    "duration": 36,
    "start_time": "2023-05-29T15:18:32.100Z"
   },
   {
    "duration": 34,
    "start_time": "2023-05-29T15:18:32.138Z"
   },
   {
    "duration": 55,
    "start_time": "2023-05-29T15:18:32.174Z"
   },
   {
    "duration": 32,
    "start_time": "2023-05-29T15:18:32.231Z"
   },
   {
    "duration": 3,
    "start_time": "2023-05-29T15:35:07.343Z"
   },
   {
    "duration": 8,
    "start_time": "2023-05-29T15:43:19.950Z"
   },
   {
    "duration": 5,
    "start_time": "2023-05-29T15:43:25.478Z"
   },
   {
    "duration": 17,
    "start_time": "2023-05-29T15:43:28.517Z"
   },
   {
    "duration": 14,
    "start_time": "2023-05-29T15:43:54.029Z"
   },
   {
    "duration": 16,
    "start_time": "2023-05-29T15:44:10.991Z"
   },
   {
    "duration": 5,
    "start_time": "2023-05-29T15:47:16.434Z"
   },
   {
    "duration": 7,
    "start_time": "2023-05-29T15:47:17.237Z"
   },
   {
    "duration": 4,
    "start_time": "2023-05-29T15:49:52.119Z"
   },
   {
    "duration": 105,
    "start_time": "2023-05-29T15:49:52.125Z"
   },
   {
    "duration": 10,
    "start_time": "2023-05-29T15:49:52.232Z"
   },
   {
    "duration": 38,
    "start_time": "2023-05-29T15:49:52.243Z"
   },
   {
    "duration": 693,
    "start_time": "2023-05-29T15:49:52.283Z"
   },
   {
    "duration": 6,
    "start_time": "2023-05-29T15:49:52.977Z"
   },
   {
    "duration": 51,
    "start_time": "2023-05-29T15:49:52.985Z"
   },
   {
    "duration": 22,
    "start_time": "2023-05-29T15:49:53.037Z"
   },
   {
    "duration": 16,
    "start_time": "2023-05-29T15:49:53.061Z"
   },
   {
    "duration": 52,
    "start_time": "2023-05-29T15:49:53.079Z"
   },
   {
    "duration": 11,
    "start_time": "2023-05-29T15:49:53.132Z"
   },
   {
    "duration": 25,
    "start_time": "2023-05-29T15:49:53.144Z"
   },
   {
    "duration": 21,
    "start_time": "2023-05-29T15:49:53.170Z"
   },
   {
    "duration": 31,
    "start_time": "2023-05-29T15:49:53.193Z"
   },
   {
    "duration": 80,
    "start_time": "2023-05-29T15:49:53.227Z"
   },
   {
    "duration": 91,
    "start_time": "2023-05-29T15:49:53.314Z"
   },
   {
    "duration": 33,
    "start_time": "2023-05-29T15:49:53.411Z"
   },
   {
    "duration": 15,
    "start_time": "2023-05-29T15:49:53.446Z"
   },
   {
    "duration": 25,
    "start_time": "2023-05-29T15:49:53.462Z"
   },
   {
    "duration": 28,
    "start_time": "2023-05-29T15:49:53.489Z"
   },
   {
    "duration": 32,
    "start_time": "2023-05-29T15:49:53.519Z"
   },
   {
    "duration": 185,
    "start_time": "2023-05-29T15:49:53.553Z"
   },
   {
    "duration": 270,
    "start_time": "2023-05-29T15:49:53.740Z"
   },
   {
    "duration": 4,
    "start_time": "2023-05-29T15:56:01.146Z"
   },
   {
    "duration": 178,
    "start_time": "2023-05-29T15:56:01.152Z"
   },
   {
    "duration": 122,
    "start_time": "2023-05-29T15:56:01.332Z"
   },
   {
    "duration": 90,
    "start_time": "2023-05-29T15:56:01.456Z"
   },
   {
    "duration": 718,
    "start_time": "2023-05-29T15:56:01.549Z"
   },
   {
    "duration": 7,
    "start_time": "2023-05-29T15:56:02.268Z"
   },
   {
    "duration": 33,
    "start_time": "2023-05-29T15:56:02.277Z"
   },
   {
    "duration": 15,
    "start_time": "2023-05-29T15:56:02.312Z"
   },
   {
    "duration": 60,
    "start_time": "2023-05-29T15:56:02.329Z"
   },
   {
    "duration": 37,
    "start_time": "2023-05-29T15:56:02.391Z"
   },
   {
    "duration": 16,
    "start_time": "2023-05-29T15:56:02.429Z"
   },
   {
    "duration": 24,
    "start_time": "2023-05-29T15:56:02.447Z"
   },
   {
    "duration": 22,
    "start_time": "2023-05-29T15:56:02.472Z"
   },
   {
    "duration": 29,
    "start_time": "2023-05-29T15:56:02.495Z"
   },
   {
    "duration": 80,
    "start_time": "2023-05-29T15:56:02.526Z"
   },
   {
    "duration": 102,
    "start_time": "2023-05-29T15:56:02.608Z"
   },
   {
    "duration": 27,
    "start_time": "2023-05-29T15:56:02.711Z"
   },
   {
    "duration": 26,
    "start_time": "2023-05-29T15:56:02.739Z"
   },
   {
    "duration": 16,
    "start_time": "2023-05-29T15:56:02.767Z"
   },
   {
    "duration": 46,
    "start_time": "2023-05-29T15:56:02.784Z"
   },
   {
    "duration": 34,
    "start_time": "2023-05-29T15:56:02.831Z"
   },
   {
    "duration": 132,
    "start_time": "2023-05-29T15:56:02.868Z"
   },
   {
    "duration": 17,
    "start_time": "2023-05-29T15:56:03.002Z"
   },
   {
    "duration": 3,
    "start_time": "2023-05-29T15:56:34.319Z"
   },
   {
    "duration": 86,
    "start_time": "2023-05-29T15:56:34.324Z"
   },
   {
    "duration": 12,
    "start_time": "2023-05-29T15:56:34.412Z"
   },
   {
    "duration": 22,
    "start_time": "2023-05-29T15:56:34.427Z"
   },
   {
    "duration": 713,
    "start_time": "2023-05-29T15:56:34.451Z"
   },
   {
    "duration": 5,
    "start_time": "2023-05-29T15:56:35.166Z"
   },
   {
    "duration": 31,
    "start_time": "2023-05-29T15:56:35.173Z"
   },
   {
    "duration": 11,
    "start_time": "2023-05-29T15:56:35.210Z"
   },
   {
    "duration": 9,
    "start_time": "2023-05-29T15:56:35.224Z"
   },
   {
    "duration": 16,
    "start_time": "2023-05-29T15:56:35.234Z"
   },
   {
    "duration": 23,
    "start_time": "2023-05-29T15:56:35.251Z"
   },
   {
    "duration": 8,
    "start_time": "2023-05-29T15:56:35.275Z"
   },
   {
    "duration": 34,
    "start_time": "2023-05-29T15:56:35.284Z"
   },
   {
    "duration": 12,
    "start_time": "2023-05-29T15:56:35.320Z"
   },
   {
    "duration": 70,
    "start_time": "2023-05-29T15:56:35.334Z"
   },
   {
    "duration": 10,
    "start_time": "2023-05-29T15:56:35.405Z"
   },
   {
    "duration": 84,
    "start_time": "2023-05-29T15:56:35.417Z"
   },
   {
    "duration": 21,
    "start_time": "2023-05-29T15:56:35.504Z"
   },
   {
    "duration": 10,
    "start_time": "2023-05-29T15:56:35.526Z"
   },
   {
    "duration": 10,
    "start_time": "2023-05-29T15:56:35.538Z"
   },
   {
    "duration": 47,
    "start_time": "2023-05-29T15:56:35.550Z"
   },
   {
    "duration": 110,
    "start_time": "2023-05-29T15:56:35.599Z"
   },
   {
    "duration": 7,
    "start_time": "2023-05-29T15:56:35.711Z"
   },
   {
    "duration": 1487,
    "start_time": "2023-05-29T15:56:44.752Z"
   },
   {
    "duration": 82,
    "start_time": "2023-05-29T15:56:46.241Z"
   },
   {
    "duration": 13,
    "start_time": "2023-05-29T15:56:46.325Z"
   },
   {
    "duration": 40,
    "start_time": "2023-05-29T15:56:46.341Z"
   },
   {
    "duration": 834,
    "start_time": "2023-05-29T15:56:46.383Z"
   },
   {
    "duration": 6,
    "start_time": "2023-05-29T15:56:47.219Z"
   },
   {
    "duration": 36,
    "start_time": "2023-05-29T15:56:47.226Z"
   },
   {
    "duration": 40,
    "start_time": "2023-05-29T15:56:47.264Z"
   },
   {
    "duration": 4,
    "start_time": "2023-05-29T15:56:47.311Z"
   },
   {
    "duration": 33,
    "start_time": "2023-05-29T15:56:47.317Z"
   },
   {
    "duration": 34,
    "start_time": "2023-05-29T15:56:47.352Z"
   },
   {
    "duration": 55,
    "start_time": "2023-05-29T15:56:47.388Z"
   },
   {
    "duration": 24,
    "start_time": "2023-05-29T15:56:47.445Z"
   },
   {
    "duration": 23,
    "start_time": "2023-05-29T15:56:47.471Z"
   },
   {
    "duration": 110,
    "start_time": "2023-05-29T15:56:47.496Z"
   },
   {
    "duration": 53,
    "start_time": "2023-05-29T15:56:47.609Z"
   },
   {
    "duration": 42,
    "start_time": "2023-05-29T15:56:47.664Z"
   },
   {
    "duration": 16,
    "start_time": "2023-05-29T15:56:47.712Z"
   },
   {
    "duration": 30,
    "start_time": "2023-05-29T15:56:47.729Z"
   },
   {
    "duration": 25,
    "start_time": "2023-05-29T15:56:47.761Z"
   },
   {
    "duration": 37,
    "start_time": "2023-05-29T15:56:47.788Z"
   },
   {
    "duration": 73,
    "start_time": "2023-05-29T15:56:47.828Z"
   },
   {
    "duration": 125,
    "start_time": "2023-05-29T15:56:47.904Z"
   },
   {
    "duration": 10,
    "start_time": "2023-05-29T15:58:20.914Z"
   },
   {
    "duration": 3,
    "start_time": "2023-05-29T15:58:21.722Z"
   },
   {
    "duration": 7,
    "start_time": "2023-05-29T15:58:24.093Z"
   },
   {
    "duration": 1378,
    "start_time": "2023-05-29T16:18:41.480Z"
   },
   {
    "duration": 86,
    "start_time": "2023-05-29T16:18:42.860Z"
   },
   {
    "duration": 11,
    "start_time": "2023-05-29T16:18:42.947Z"
   },
   {
    "duration": 32,
    "start_time": "2023-05-29T16:18:42.959Z"
   },
   {
    "duration": 653,
    "start_time": "2023-05-29T16:18:42.992Z"
   },
   {
    "duration": 5,
    "start_time": "2023-05-29T16:18:43.647Z"
   },
   {
    "duration": 9,
    "start_time": "2023-05-29T16:18:43.653Z"
   },
   {
    "duration": 11,
    "start_time": "2023-05-29T16:18:43.664Z"
   },
   {
    "duration": 35,
    "start_time": "2023-05-29T16:18:43.677Z"
   },
   {
    "duration": 10,
    "start_time": "2023-05-29T16:18:43.714Z"
   },
   {
    "duration": 6,
    "start_time": "2023-05-29T16:18:43.725Z"
   },
   {
    "duration": 7,
    "start_time": "2023-05-29T16:18:43.733Z"
   },
   {
    "duration": 6,
    "start_time": "2023-05-29T16:18:43.741Z"
   },
   {
    "duration": 9,
    "start_time": "2023-05-29T16:18:43.748Z"
   },
   {
    "duration": 145,
    "start_time": "2023-05-29T16:18:43.759Z"
   },
   {
    "duration": 35,
    "start_time": "2023-05-29T16:18:43.908Z"
   },
   {
    "duration": 10,
    "start_time": "2023-05-29T16:18:43.945Z"
   },
   {
    "duration": 10,
    "start_time": "2023-05-29T16:18:43.957Z"
   },
   {
    "duration": 11,
    "start_time": "2023-05-29T16:18:43.969Z"
   },
   {
    "duration": 6,
    "start_time": "2023-05-29T16:18:43.981Z"
   },
   {
    "duration": 14,
    "start_time": "2023-05-29T16:18:43.989Z"
   },
   {
    "duration": 122,
    "start_time": "2023-05-29T16:18:44.004Z"
   },
   {
    "duration": 82,
    "start_time": "2023-05-29T16:18:44.128Z"
   },
   {
    "duration": 2487,
    "start_time": "2023-05-30T03:33:27.654Z"
   },
   {
    "duration": 129,
    "start_time": "2023-05-30T03:33:30.143Z"
   },
   {
    "duration": 13,
    "start_time": "2023-05-30T03:33:30.274Z"
   },
   {
    "duration": 55,
    "start_time": "2023-05-30T03:33:30.289Z"
   },
   {
    "duration": 684,
    "start_time": "2023-05-30T03:33:30.347Z"
   },
   {
    "duration": 8,
    "start_time": "2023-05-30T03:33:31.033Z"
   },
   {
    "duration": 42,
    "start_time": "2023-05-30T03:33:31.043Z"
   },
   {
    "duration": 26,
    "start_time": "2023-05-30T03:33:31.087Z"
   },
   {
    "duration": 30,
    "start_time": "2023-05-30T03:33:31.115Z"
   },
   {
    "duration": 37,
    "start_time": "2023-05-30T03:33:31.148Z"
   },
   {
    "duration": 32,
    "start_time": "2023-05-30T03:33:31.188Z"
   },
   {
    "duration": 45,
    "start_time": "2023-05-30T03:33:31.223Z"
   },
   {
    "duration": 24,
    "start_time": "2023-05-30T03:33:31.270Z"
   },
   {
    "duration": 36,
    "start_time": "2023-05-30T03:33:31.297Z"
   },
   {
    "duration": 168,
    "start_time": "2023-05-30T03:33:31.338Z"
   },
   {
    "duration": 11,
    "start_time": "2023-05-30T03:33:31.543Z"
   },
   {
    "duration": 42,
    "start_time": "2023-05-30T03:33:31.557Z"
   },
   {
    "duration": 44,
    "start_time": "2023-05-30T03:33:31.601Z"
   },
   {
    "duration": 27,
    "start_time": "2023-05-30T03:33:31.648Z"
   },
   {
    "duration": 29,
    "start_time": "2023-05-30T03:33:31.677Z"
   },
   {
    "duration": 40,
    "start_time": "2023-05-30T03:33:31.708Z"
   },
   {
    "duration": 109,
    "start_time": "2023-05-30T03:33:31.750Z"
   },
   {
    "duration": 122,
    "start_time": "2023-05-30T03:33:31.864Z"
   },
   {
    "duration": 2346,
    "start_time": "2023-05-30T04:00:40.047Z"
   },
   {
    "duration": 82,
    "start_time": "2023-05-30T04:00:42.395Z"
   },
   {
    "duration": 15,
    "start_time": "2023-05-30T04:00:42.480Z"
   },
   {
    "duration": 40,
    "start_time": "2023-05-30T04:00:42.499Z"
   },
   {
    "duration": 769,
    "start_time": "2023-05-30T04:00:42.540Z"
   },
   {
    "duration": 8,
    "start_time": "2023-05-30T04:00:43.311Z"
   },
   {
    "duration": 39,
    "start_time": "2023-05-30T04:00:43.321Z"
   },
   {
    "duration": 37,
    "start_time": "2023-05-30T04:00:43.364Z"
   },
   {
    "duration": 9,
    "start_time": "2023-05-30T04:00:43.403Z"
   },
   {
    "duration": 9,
    "start_time": "2023-05-30T04:00:43.415Z"
   },
   {
    "duration": 10,
    "start_time": "2023-05-30T04:00:43.426Z"
   },
   {
    "duration": 22,
    "start_time": "2023-05-30T04:00:43.438Z"
   },
   {
    "duration": 12,
    "start_time": "2023-05-30T04:00:43.462Z"
   },
   {
    "duration": 12,
    "start_time": "2023-05-30T04:00:43.476Z"
   },
   {
    "duration": 59,
    "start_time": "2023-05-30T04:00:43.489Z"
   },
   {
    "duration": 95,
    "start_time": "2023-05-30T04:00:43.554Z"
   },
   {
    "duration": 9,
    "start_time": "2023-05-30T04:00:43.651Z"
   },
   {
    "duration": 8,
    "start_time": "2023-05-30T04:00:43.662Z"
   },
   {
    "duration": 30,
    "start_time": "2023-05-30T04:00:43.672Z"
   },
   {
    "duration": 7,
    "start_time": "2023-05-30T04:00:43.704Z"
   },
   {
    "duration": 32,
    "start_time": "2023-05-30T04:00:43.712Z"
   },
   {
    "duration": 98,
    "start_time": "2023-05-30T04:00:43.746Z"
   },
   {
    "duration": 28,
    "start_time": "2023-05-30T04:00:43.846Z"
   },
   {
    "duration": 12,
    "start_time": "2023-05-30T04:59:50.976Z"
   },
   {
    "duration": 51,
    "start_time": "2023-05-30T06:54:23.526Z"
   },
   {
    "duration": 1499,
    "start_time": "2023-05-30T06:54:28.040Z"
   },
   {
    "duration": 118,
    "start_time": "2023-05-30T06:54:29.541Z"
   },
   {
    "duration": 10,
    "start_time": "2023-05-30T06:54:29.661Z"
   },
   {
    "duration": 21,
    "start_time": "2023-05-30T06:54:29.673Z"
   },
   {
    "duration": 675,
    "start_time": "2023-05-30T06:54:29.696Z"
   },
   {
    "duration": 5,
    "start_time": "2023-05-30T06:54:30.373Z"
   },
   {
    "duration": 25,
    "start_time": "2023-05-30T06:54:30.380Z"
   },
   {
    "duration": 28,
    "start_time": "2023-05-30T06:54:30.407Z"
   },
   {
    "duration": 34,
    "start_time": "2023-05-30T06:54:30.437Z"
   },
   {
    "duration": 35,
    "start_time": "2023-05-30T06:54:30.479Z"
   },
   {
    "duration": 37,
    "start_time": "2023-05-30T06:54:30.516Z"
   },
   {
    "duration": 50,
    "start_time": "2023-05-30T06:54:30.555Z"
   },
   {
    "duration": 42,
    "start_time": "2023-05-30T06:54:30.607Z"
   },
   {
    "duration": 35,
    "start_time": "2023-05-30T06:54:30.651Z"
   },
   {
    "duration": 165,
    "start_time": "2023-05-30T06:54:30.691Z"
   },
   {
    "duration": 22,
    "start_time": "2023-05-30T06:54:30.858Z"
   },
   {
    "duration": 37,
    "start_time": "2023-05-30T06:54:30.882Z"
   },
   {
    "duration": 309,
    "start_time": "2023-05-30T06:54:30.921Z"
   },
   {
    "duration": 0,
    "start_time": "2023-05-30T06:54:31.232Z"
   },
   {
    "duration": 0,
    "start_time": "2023-05-30T06:54:31.233Z"
   },
   {
    "duration": 0,
    "start_time": "2023-05-30T06:54:31.234Z"
   },
   {
    "duration": 0,
    "start_time": "2023-05-30T06:54:31.235Z"
   },
   {
    "duration": 0,
    "start_time": "2023-05-30T06:54:31.236Z"
   },
   {
    "duration": 0,
    "start_time": "2023-05-30T06:54:31.237Z"
   },
   {
    "duration": 5,
    "start_time": "2023-05-30T06:55:19.604Z"
   },
   {
    "duration": 4,
    "start_time": "2023-05-30T06:55:29.083Z"
   },
   {
    "duration": 2,
    "start_time": "2023-05-30T06:56:04.620Z"
   },
   {
    "duration": 11,
    "start_time": "2023-05-30T06:56:14.972Z"
   },
   {
    "duration": 4,
    "start_time": "2023-05-30T06:59:15.025Z"
   },
   {
    "duration": 108,
    "start_time": "2023-05-30T06:59:15.033Z"
   },
   {
    "duration": 14,
    "start_time": "2023-05-30T06:59:15.143Z"
   },
   {
    "duration": 40,
    "start_time": "2023-05-30T06:59:15.160Z"
   },
   {
    "duration": 648,
    "start_time": "2023-05-30T06:59:15.202Z"
   },
   {
    "duration": 6,
    "start_time": "2023-05-30T06:59:15.852Z"
   },
   {
    "duration": 4,
    "start_time": "2023-05-30T06:59:15.860Z"
   },
   {
    "duration": 12,
    "start_time": "2023-05-30T06:59:15.865Z"
   },
   {
    "duration": 10,
    "start_time": "2023-05-30T06:59:15.880Z"
   },
   {
    "duration": 14,
    "start_time": "2023-05-30T06:59:15.891Z"
   },
   {
    "duration": 6,
    "start_time": "2023-05-30T06:59:15.906Z"
   },
   {
    "duration": 14,
    "start_time": "2023-05-30T06:59:15.913Z"
   },
   {
    "duration": 5,
    "start_time": "2023-05-30T06:59:15.950Z"
   },
   {
    "duration": 31,
    "start_time": "2023-05-30T06:59:15.956Z"
   },
   {
    "duration": 62,
    "start_time": "2023-05-30T06:59:15.989Z"
   },
   {
    "duration": 13,
    "start_time": "2023-05-30T06:59:16.053Z"
   },
   {
    "duration": 88,
    "start_time": "2023-05-30T06:59:16.068Z"
   },
   {
    "duration": 27,
    "start_time": "2023-05-30T06:59:16.157Z"
   },
   {
    "duration": 88,
    "start_time": "2023-05-30T06:59:16.185Z"
   },
   {
    "duration": 15,
    "start_time": "2023-05-30T06:59:16.275Z"
   },
   {
    "duration": 5,
    "start_time": "2023-05-30T06:59:16.291Z"
   },
   {
    "duration": 12,
    "start_time": "2023-05-30T06:59:16.297Z"
   },
   {
    "duration": 49,
    "start_time": "2023-05-30T06:59:16.310Z"
   },
   {
    "duration": 96,
    "start_time": "2023-05-30T06:59:16.363Z"
   },
   {
    "duration": 8,
    "start_time": "2023-05-30T06:59:32.114Z"
   },
   {
    "duration": 4,
    "start_time": "2023-05-30T06:59:50.802Z"
   },
   {
    "duration": 7,
    "start_time": "2023-05-30T06:59:51.725Z"
   },
   {
    "duration": 3,
    "start_time": "2023-05-30T07:00:36.250Z"
   },
   {
    "duration": 60,
    "start_time": "2023-05-30T07:00:36.254Z"
   },
   {
    "duration": 11,
    "start_time": "2023-05-30T07:00:36.316Z"
   },
   {
    "duration": 24,
    "start_time": "2023-05-30T07:00:36.330Z"
   },
   {
    "duration": 650,
    "start_time": "2023-05-30T07:00:36.356Z"
   },
   {
    "duration": 6,
    "start_time": "2023-05-30T07:00:37.009Z"
   },
   {
    "duration": 3,
    "start_time": "2023-05-30T07:00:37.017Z"
   },
   {
    "duration": 33,
    "start_time": "2023-05-30T07:00:37.021Z"
   },
   {
    "duration": 4,
    "start_time": "2023-05-30T07:00:37.057Z"
   },
   {
    "duration": 8,
    "start_time": "2023-05-30T07:00:37.063Z"
   },
   {
    "duration": 5,
    "start_time": "2023-05-30T07:00:37.072Z"
   },
   {
    "duration": 6,
    "start_time": "2023-05-30T07:00:37.078Z"
   },
   {
    "duration": 6,
    "start_time": "2023-05-30T07:00:37.085Z"
   },
   {
    "duration": 5,
    "start_time": "2023-05-30T07:00:37.092Z"
   },
   {
    "duration": 57,
    "start_time": "2023-05-30T07:00:37.099Z"
   },
   {
    "duration": 8,
    "start_time": "2023-05-30T07:00:37.158Z"
   },
   {
    "duration": 88,
    "start_time": "2023-05-30T07:00:37.167Z"
   },
   {
    "duration": 6,
    "start_time": "2023-05-30T07:00:37.257Z"
   },
   {
    "duration": 11,
    "start_time": "2023-05-30T07:00:37.265Z"
   },
   {
    "duration": 7,
    "start_time": "2023-05-30T07:00:37.277Z"
   },
   {
    "duration": 4,
    "start_time": "2023-05-30T07:00:37.286Z"
   },
   {
    "duration": 4,
    "start_time": "2023-05-30T07:00:37.292Z"
   },
   {
    "duration": 7,
    "start_time": "2023-05-30T07:00:37.298Z"
   },
   {
    "duration": 4,
    "start_time": "2023-05-30T07:00:37.352Z"
   },
   {
    "duration": 8,
    "start_time": "2023-05-30T07:00:37.357Z"
   },
   {
    "duration": 6,
    "start_time": "2023-05-30T07:02:20.315Z"
   },
   {
    "duration": 6,
    "start_time": "2023-05-30T07:02:21.163Z"
   },
   {
    "duration": 4,
    "start_time": "2023-05-30T07:02:47.737Z"
   },
   {
    "duration": 70,
    "start_time": "2023-05-30T07:02:47.743Z"
   },
   {
    "duration": 11,
    "start_time": "2023-05-30T07:02:47.815Z"
   },
   {
    "duration": 29,
    "start_time": "2023-05-30T07:02:47.827Z"
   },
   {
    "duration": 650,
    "start_time": "2023-05-30T07:02:47.859Z"
   },
   {
    "duration": 7,
    "start_time": "2023-05-30T07:02:48.511Z"
   },
   {
    "duration": 8,
    "start_time": "2023-05-30T07:02:48.520Z"
   },
   {
    "duration": 25,
    "start_time": "2023-05-30T07:02:48.530Z"
   },
   {
    "duration": 4,
    "start_time": "2023-05-30T07:02:48.557Z"
   },
   {
    "duration": 13,
    "start_time": "2023-05-30T07:02:48.563Z"
   },
   {
    "duration": 9,
    "start_time": "2023-05-30T07:02:48.579Z"
   },
   {
    "duration": 14,
    "start_time": "2023-05-30T07:02:48.590Z"
   },
   {
    "duration": 12,
    "start_time": "2023-05-30T07:02:48.605Z"
   },
   {
    "duration": 33,
    "start_time": "2023-05-30T07:02:48.619Z"
   },
   {
    "duration": 10,
    "start_time": "2023-05-30T07:02:48.654Z"
   },
   {
    "duration": 89,
    "start_time": "2023-05-30T07:02:48.665Z"
   },
   {
    "duration": 8,
    "start_time": "2023-05-30T07:02:48.756Z"
   },
   {
    "duration": 10,
    "start_time": "2023-05-30T07:02:48.765Z"
   },
   {
    "duration": 5,
    "start_time": "2023-05-30T07:02:48.777Z"
   },
   {
    "duration": 24,
    "start_time": "2023-05-30T07:02:48.784Z"
   },
   {
    "duration": 5,
    "start_time": "2023-05-30T07:02:48.810Z"
   },
   {
    "duration": 35,
    "start_time": "2023-05-30T07:02:48.817Z"
   },
   {
    "duration": 5,
    "start_time": "2023-05-30T07:02:48.854Z"
   },
   {
    "duration": 94,
    "start_time": "2023-05-30T07:02:48.861Z"
   },
   {
    "duration": 4,
    "start_time": "2023-05-30T07:29:14.204Z"
   },
   {
    "duration": 62,
    "start_time": "2023-05-30T07:29:14.210Z"
   },
   {
    "duration": 13,
    "start_time": "2023-05-30T07:29:14.274Z"
   },
   {
    "duration": 33,
    "start_time": "2023-05-30T07:29:14.289Z"
   },
   {
    "duration": 696,
    "start_time": "2023-05-30T07:29:14.324Z"
   },
   {
    "duration": 6,
    "start_time": "2023-05-30T07:29:15.022Z"
   },
   {
    "duration": 15,
    "start_time": "2023-05-30T07:29:15.030Z"
   },
   {
    "duration": 32,
    "start_time": "2023-05-30T07:29:15.051Z"
   },
   {
    "duration": 24,
    "start_time": "2023-05-30T07:29:15.085Z"
   },
   {
    "duration": 33,
    "start_time": "2023-05-30T07:29:15.111Z"
   },
   {
    "duration": 9,
    "start_time": "2023-05-30T07:29:15.147Z"
   },
   {
    "duration": 19,
    "start_time": "2023-05-30T07:29:15.158Z"
   },
   {
    "duration": 20,
    "start_time": "2023-05-30T07:29:15.179Z"
   },
   {
    "duration": 7,
    "start_time": "2023-05-30T07:29:15.201Z"
   },
   {
    "duration": 45,
    "start_time": "2023-05-30T07:29:15.210Z"
   },
   {
    "duration": 12,
    "start_time": "2023-05-30T07:29:15.257Z"
   },
   {
    "duration": 22,
    "start_time": "2023-05-30T07:29:15.351Z"
   },
   {
    "duration": 14,
    "start_time": "2023-05-30T07:29:15.375Z"
   },
   {
    "duration": 12,
    "start_time": "2023-05-30T07:29:15.391Z"
   },
   {
    "duration": 18,
    "start_time": "2023-05-30T07:29:15.405Z"
   },
   {
    "duration": 18,
    "start_time": "2023-05-30T07:29:15.425Z"
   },
   {
    "duration": 18,
    "start_time": "2023-05-30T07:29:15.444Z"
   },
   {
    "duration": 8,
    "start_time": "2023-05-30T07:29:15.464Z"
   },
   {
    "duration": 104,
    "start_time": "2023-05-30T07:29:15.549Z"
   },
   {
    "duration": 11,
    "start_time": "2023-05-30T07:31:01.434Z"
   },
   {
    "duration": 12,
    "start_time": "2023-05-30T07:32:10.656Z"
   },
   {
    "duration": 3,
    "start_time": "2023-05-30T07:32:21.139Z"
   },
   {
    "duration": 104,
    "start_time": "2023-05-30T07:32:21.144Z"
   },
   {
    "duration": 10,
    "start_time": "2023-05-30T07:32:21.249Z"
   },
   {
    "duration": 51,
    "start_time": "2023-05-30T07:32:21.261Z"
   },
   {
    "duration": 747,
    "start_time": "2023-05-30T07:32:21.314Z"
   },
   {
    "duration": 6,
    "start_time": "2023-05-30T07:32:22.063Z"
   },
   {
    "duration": 15,
    "start_time": "2023-05-30T07:32:22.070Z"
   },
   {
    "duration": 21,
    "start_time": "2023-05-30T07:32:22.086Z"
   },
   {
    "duration": 17,
    "start_time": "2023-05-30T07:32:22.108Z"
   },
   {
    "duration": 26,
    "start_time": "2023-05-30T07:32:22.127Z"
   },
   {
    "duration": 38,
    "start_time": "2023-05-30T07:32:22.155Z"
   },
   {
    "duration": 21,
    "start_time": "2023-05-30T07:32:22.195Z"
   },
   {
    "duration": 33,
    "start_time": "2023-05-30T07:32:22.219Z"
   },
   {
    "duration": 34,
    "start_time": "2023-05-30T07:32:22.254Z"
   },
   {
    "duration": 61,
    "start_time": "2023-05-30T07:32:22.290Z"
   },
   {
    "duration": 103,
    "start_time": "2023-05-30T07:32:22.353Z"
   },
   {
    "duration": 24,
    "start_time": "2023-05-30T07:32:22.457Z"
   },
   {
    "duration": 33,
    "start_time": "2023-05-30T07:32:22.483Z"
   },
   {
    "duration": 9,
    "start_time": "2023-05-30T07:32:22.518Z"
   },
   {
    "duration": 19,
    "start_time": "2023-05-30T07:32:22.528Z"
   },
   {
    "duration": 17,
    "start_time": "2023-05-30T07:32:22.548Z"
   },
   {
    "duration": 12,
    "start_time": "2023-05-30T07:32:22.567Z"
   },
   {
    "duration": 4,
    "start_time": "2023-05-30T07:32:22.580Z"
   },
   {
    "duration": 69,
    "start_time": "2023-05-30T07:32:22.586Z"
   },
   {
    "duration": 11,
    "start_time": "2023-05-30T07:34:00.267Z"
   },
   {
    "duration": 4,
    "start_time": "2023-05-30T07:35:19.807Z"
   },
   {
    "duration": 4,
    "start_time": "2023-05-30T07:36:09.099Z"
   },
   {
    "duration": 721,
    "start_time": "2023-05-30T07:36:56.045Z"
   },
   {
    "duration": 9,
    "start_time": "2023-05-30T07:37:32.031Z"
   },
   {
    "duration": 13,
    "start_time": "2023-05-30T07:38:22.507Z"
   },
   {
    "duration": 3,
    "start_time": "2023-05-30T08:11:23.846Z"
   },
   {
    "duration": 78,
    "start_time": "2023-05-30T08:11:23.851Z"
   },
   {
    "duration": 14,
    "start_time": "2023-05-30T08:11:23.931Z"
   },
   {
    "duration": 34,
    "start_time": "2023-05-30T08:11:23.947Z"
   },
   {
    "duration": 782,
    "start_time": "2023-05-30T08:11:23.983Z"
   },
   {
    "duration": 7,
    "start_time": "2023-05-30T08:11:24.766Z"
   },
   {
    "duration": 3,
    "start_time": "2023-05-30T08:11:24.775Z"
   },
   {
    "duration": 15,
    "start_time": "2023-05-30T08:11:24.779Z"
   },
   {
    "duration": 4,
    "start_time": "2023-05-30T08:11:24.795Z"
   },
   {
    "duration": 11,
    "start_time": "2023-05-30T08:11:24.801Z"
   },
   {
    "duration": 12,
    "start_time": "2023-05-30T08:11:24.814Z"
   },
   {
    "duration": 6,
    "start_time": "2023-05-30T08:11:24.856Z"
   },
   {
    "duration": 34,
    "start_time": "2023-05-30T08:11:24.864Z"
   },
   {
    "duration": 7,
    "start_time": "2023-05-30T08:11:24.899Z"
   },
   {
    "duration": 47,
    "start_time": "2023-05-30T08:11:24.908Z"
   },
   {
    "duration": 93,
    "start_time": "2023-05-30T08:11:24.957Z"
   },
   {
    "duration": 11,
    "start_time": "2023-05-30T08:11:25.053Z"
   },
   {
    "duration": 19,
    "start_time": "2023-05-30T08:11:25.067Z"
   },
   {
    "duration": 6,
    "start_time": "2023-05-30T08:11:25.088Z"
   },
   {
    "duration": 5,
    "start_time": "2023-05-30T08:11:25.096Z"
   },
   {
    "duration": 5,
    "start_time": "2023-05-30T08:11:25.103Z"
   },
   {
    "duration": 45,
    "start_time": "2023-05-30T08:11:25.109Z"
   },
   {
    "duration": 19,
    "start_time": "2023-05-30T08:11:25.155Z"
   },
   {
    "duration": 12,
    "start_time": "2023-05-30T08:11:25.251Z"
   },
   {
    "duration": 9,
    "start_time": "2023-05-30T08:14:47.208Z"
   },
   {
    "duration": 4,
    "start_time": "2023-05-30T08:14:52.223Z"
   },
   {
    "duration": 92,
    "start_time": "2023-05-30T08:14:52.228Z"
   },
   {
    "duration": 10,
    "start_time": "2023-05-30T08:14:52.322Z"
   },
   {
    "duration": 38,
    "start_time": "2023-05-30T08:14:52.335Z"
   },
   {
    "duration": 670,
    "start_time": "2023-05-30T08:14:52.374Z"
   },
   {
    "duration": 9,
    "start_time": "2023-05-30T08:14:53.046Z"
   },
   {
    "duration": 18,
    "start_time": "2023-05-30T08:14:53.056Z"
   },
   {
    "duration": 31,
    "start_time": "2023-05-30T08:14:53.076Z"
   },
   {
    "duration": 4,
    "start_time": "2023-05-30T08:14:53.108Z"
   },
   {
    "duration": 16,
    "start_time": "2023-05-30T08:14:53.116Z"
   },
   {
    "duration": 15,
    "start_time": "2023-05-30T08:14:53.134Z"
   },
   {
    "duration": 5,
    "start_time": "2023-05-30T08:14:53.151Z"
   },
   {
    "duration": 17,
    "start_time": "2023-05-30T08:14:53.157Z"
   },
   {
    "duration": 30,
    "start_time": "2023-05-30T08:14:53.176Z"
   },
   {
    "duration": 45,
    "start_time": "2023-05-30T08:14:53.208Z"
   },
   {
    "duration": 96,
    "start_time": "2023-05-30T08:14:53.255Z"
   },
   {
    "duration": 18,
    "start_time": "2023-05-30T08:14:53.353Z"
   },
   {
    "duration": 21,
    "start_time": "2023-05-30T08:14:53.372Z"
   },
   {
    "duration": 32,
    "start_time": "2023-05-30T08:14:53.394Z"
   },
   {
    "duration": 10,
    "start_time": "2023-05-30T08:14:53.427Z"
   },
   {
    "duration": 4,
    "start_time": "2023-05-30T08:14:53.439Z"
   },
   {
    "duration": 8,
    "start_time": "2023-05-30T08:14:53.445Z"
   },
   {
    "duration": 10,
    "start_time": "2023-05-30T08:14:53.455Z"
   },
   {
    "duration": 102,
    "start_time": "2023-05-30T08:14:53.467Z"
   },
   {
    "duration": 12,
    "start_time": "2023-05-30T08:16:11.236Z"
   },
   {
    "duration": 11,
    "start_time": "2023-05-30T08:16:32.879Z"
   },
   {
    "duration": 11,
    "start_time": "2023-05-30T08:17:18.884Z"
   },
   {
    "duration": 9,
    "start_time": "2023-05-30T08:17:29.770Z"
   },
   {
    "duration": 4,
    "start_time": "2023-05-30T08:18:08.167Z"
   },
   {
    "duration": 82,
    "start_time": "2023-05-30T08:18:08.173Z"
   },
   {
    "duration": 14,
    "start_time": "2023-05-30T08:18:08.257Z"
   },
   {
    "duration": 24,
    "start_time": "2023-05-30T08:18:08.273Z"
   },
   {
    "duration": 693,
    "start_time": "2023-05-30T08:18:08.299Z"
   },
   {
    "duration": 7,
    "start_time": "2023-05-30T08:18:08.993Z"
   },
   {
    "duration": 3,
    "start_time": "2023-05-30T08:18:09.002Z"
   },
   {
    "duration": 15,
    "start_time": "2023-05-30T08:18:09.006Z"
   },
   {
    "duration": 4,
    "start_time": "2023-05-30T08:18:09.052Z"
   },
   {
    "duration": 20,
    "start_time": "2023-05-30T08:18:09.057Z"
   },
   {
    "duration": 11,
    "start_time": "2023-05-30T08:18:09.078Z"
   },
   {
    "duration": 29,
    "start_time": "2023-05-30T08:18:09.091Z"
   },
   {
    "duration": 13,
    "start_time": "2023-05-30T08:18:09.122Z"
   },
   {
    "duration": 32,
    "start_time": "2023-05-30T08:18:09.137Z"
   },
   {
    "duration": 80,
    "start_time": "2023-05-30T08:18:09.172Z"
   },
   {
    "duration": 97,
    "start_time": "2023-05-30T08:18:09.255Z"
   },
   {
    "duration": 8,
    "start_time": "2023-05-30T08:18:09.354Z"
   },
   {
    "duration": 10,
    "start_time": "2023-05-30T08:18:09.364Z"
   },
   {
    "duration": 5,
    "start_time": "2023-05-30T08:18:09.375Z"
   },
   {
    "duration": 6,
    "start_time": "2023-05-30T08:18:09.382Z"
   },
   {
    "duration": 16,
    "start_time": "2023-05-30T08:18:09.389Z"
   },
   {
    "duration": 45,
    "start_time": "2023-05-30T08:18:09.407Z"
   },
   {
    "duration": 6,
    "start_time": "2023-05-30T08:18:09.455Z"
   },
   {
    "duration": 93,
    "start_time": "2023-05-30T08:18:09.464Z"
   },
   {
    "duration": 4,
    "start_time": "2023-05-30T08:19:09.216Z"
   },
   {
    "duration": 84,
    "start_time": "2023-05-30T08:19:09.223Z"
   },
   {
    "duration": 11,
    "start_time": "2023-05-30T08:19:09.309Z"
   },
   {
    "duration": 33,
    "start_time": "2023-05-30T08:19:09.323Z"
   },
   {
    "duration": 823,
    "start_time": "2023-05-30T08:19:09.359Z"
   },
   {
    "duration": 7,
    "start_time": "2023-05-30T08:19:10.185Z"
   },
   {
    "duration": 2,
    "start_time": "2023-05-30T08:19:10.194Z"
   },
   {
    "duration": 30,
    "start_time": "2023-05-30T08:19:10.198Z"
   },
   {
    "duration": 5,
    "start_time": "2023-05-30T08:19:10.232Z"
   },
   {
    "duration": 18,
    "start_time": "2023-05-30T08:19:10.238Z"
   },
   {
    "duration": 8,
    "start_time": "2023-05-30T08:19:10.258Z"
   },
   {
    "duration": 6,
    "start_time": "2023-05-30T08:19:10.268Z"
   },
   {
    "duration": 12,
    "start_time": "2023-05-30T08:19:10.276Z"
   },
   {
    "duration": 6,
    "start_time": "2023-05-30T08:19:10.290Z"
   },
   {
    "duration": 154,
    "start_time": "2023-05-30T08:19:10.298Z"
   },
   {
    "duration": 13,
    "start_time": "2023-05-30T08:19:10.454Z"
   },
   {
    "duration": 38,
    "start_time": "2023-05-30T08:19:10.468Z"
   },
   {
    "duration": 27,
    "start_time": "2023-05-30T08:19:10.508Z"
   },
   {
    "duration": 10,
    "start_time": "2023-05-30T08:19:10.538Z"
   },
   {
    "duration": 13,
    "start_time": "2023-05-30T08:19:10.549Z"
   },
   {
    "duration": 5,
    "start_time": "2023-05-30T08:19:10.564Z"
   },
   {
    "duration": 10,
    "start_time": "2023-05-30T08:19:10.570Z"
   },
   {
    "duration": 31,
    "start_time": "2023-05-30T08:19:10.582Z"
   },
   {
    "duration": 43,
    "start_time": "2023-05-30T08:19:10.617Z"
   },
   {
    "duration": 93,
    "start_time": "2023-05-30T08:19:10.663Z"
   },
   {
    "duration": 10,
    "start_time": "2023-05-30T08:35:18.718Z"
   },
   {
    "duration": 4,
    "start_time": "2023-05-30T08:35:27.112Z"
   },
   {
    "duration": 92,
    "start_time": "2023-05-30T08:35:27.119Z"
   },
   {
    "duration": 12,
    "start_time": "2023-05-30T08:35:27.213Z"
   },
   {
    "duration": 27,
    "start_time": "2023-05-30T08:35:27.227Z"
   },
   {
    "duration": 708,
    "start_time": "2023-05-30T08:35:27.258Z"
   },
   {
    "duration": 8,
    "start_time": "2023-05-30T08:35:27.972Z"
   },
   {
    "duration": 3,
    "start_time": "2023-05-30T08:35:27.983Z"
   },
   {
    "duration": 14,
    "start_time": "2023-05-30T08:35:27.988Z"
   },
   {
    "duration": 13,
    "start_time": "2023-05-30T08:35:28.004Z"
   },
   {
    "duration": 20,
    "start_time": "2023-05-30T08:35:28.020Z"
   },
   {
    "duration": 9,
    "start_time": "2023-05-30T08:35:28.053Z"
   },
   {
    "duration": 4,
    "start_time": "2023-05-30T08:35:28.069Z"
   },
   {
    "duration": 18,
    "start_time": "2023-05-30T08:35:28.075Z"
   },
   {
    "duration": 8,
    "start_time": "2023-05-30T08:35:28.095Z"
   },
   {
    "duration": 52,
    "start_time": "2023-05-30T08:35:28.105Z"
   },
   {
    "duration": 10,
    "start_time": "2023-05-30T08:35:28.160Z"
   },
   {
    "duration": 92,
    "start_time": "2023-05-30T08:35:28.173Z"
   },
   {
    "duration": 5,
    "start_time": "2023-05-30T08:35:28.266Z"
   },
   {
    "duration": 13,
    "start_time": "2023-05-30T08:35:28.274Z"
   },
   {
    "duration": 18,
    "start_time": "2023-05-30T08:35:28.289Z"
   },
   {
    "duration": 15,
    "start_time": "2023-05-30T08:35:28.309Z"
   },
   {
    "duration": 6,
    "start_time": "2023-05-30T08:35:28.326Z"
   },
   {
    "duration": 28,
    "start_time": "2023-05-30T08:35:28.334Z"
   },
   {
    "duration": 4,
    "start_time": "2023-05-30T08:35:28.364Z"
   },
   {
    "duration": 84,
    "start_time": "2023-05-30T08:35:28.370Z"
   },
   {
    "duration": 12,
    "start_time": "2023-05-30T08:35:51.872Z"
   },
   {
    "duration": 4,
    "start_time": "2023-05-30T08:36:13.965Z"
   },
   {
    "duration": 57,
    "start_time": "2023-05-30T08:36:13.971Z"
   },
   {
    "duration": 11,
    "start_time": "2023-05-30T08:36:14.030Z"
   },
   {
    "duration": 33,
    "start_time": "2023-05-30T08:36:14.043Z"
   },
   {
    "duration": 794,
    "start_time": "2023-05-30T08:36:14.078Z"
   },
   {
    "duration": 7,
    "start_time": "2023-05-30T08:36:14.873Z"
   },
   {
    "duration": 3,
    "start_time": "2023-05-30T08:36:14.882Z"
   },
   {
    "duration": 15,
    "start_time": "2023-05-30T08:36:14.887Z"
   },
   {
    "duration": 4,
    "start_time": "2023-05-30T08:36:14.904Z"
   },
   {
    "duration": 52,
    "start_time": "2023-05-30T08:36:14.911Z"
   },
   {
    "duration": 6,
    "start_time": "2023-05-30T08:36:14.967Z"
   },
   {
    "duration": 23,
    "start_time": "2023-05-30T08:36:14.974Z"
   },
   {
    "duration": 40,
    "start_time": "2023-05-30T08:36:14.999Z"
   },
   {
    "duration": 26,
    "start_time": "2023-05-30T08:36:15.041Z"
   },
   {
    "duration": 101,
    "start_time": "2023-05-30T08:36:15.069Z"
   },
   {
    "duration": 11,
    "start_time": "2023-05-30T08:36:15.172Z"
   },
   {
    "duration": 15,
    "start_time": "2023-05-30T08:36:15.253Z"
   },
   {
    "duration": 7,
    "start_time": "2023-05-30T08:36:15.270Z"
   },
   {
    "duration": 13,
    "start_time": "2023-05-30T08:36:15.278Z"
   },
   {
    "duration": 7,
    "start_time": "2023-05-30T08:36:15.293Z"
   },
   {
    "duration": 9,
    "start_time": "2023-05-30T08:36:15.301Z"
   },
   {
    "duration": 7,
    "start_time": "2023-05-30T08:36:15.312Z"
   },
   {
    "duration": 35,
    "start_time": "2023-05-30T08:36:15.320Z"
   },
   {
    "duration": 5,
    "start_time": "2023-05-30T08:36:15.356Z"
   },
   {
    "duration": 95,
    "start_time": "2023-05-30T08:36:15.363Z"
   },
   {
    "duration": 12,
    "start_time": "2023-05-30T08:37:25.157Z"
   },
   {
    "duration": 9,
    "start_time": "2023-05-30T08:37:45.209Z"
   },
   {
    "duration": 10,
    "start_time": "2023-05-30T08:37:52.456Z"
   },
   {
    "duration": 14,
    "start_time": "2023-05-30T08:41:56.827Z"
   },
   {
    "duration": 9,
    "start_time": "2023-05-30T08:42:33.508Z"
   },
   {
    "duration": 11,
    "start_time": "2023-05-30T08:43:18.767Z"
   },
   {
    "duration": 8,
    "start_time": "2023-05-30T08:48:04.612Z"
   },
   {
    "duration": 11,
    "start_time": "2023-05-30T08:48:26.459Z"
   },
   {
    "duration": 3,
    "start_time": "2023-05-30T08:49:09.673Z"
   },
   {
    "duration": 78,
    "start_time": "2023-05-30T08:49:09.678Z"
   },
   {
    "duration": 10,
    "start_time": "2023-05-30T08:49:09.758Z"
   },
   {
    "duration": 44,
    "start_time": "2023-05-30T08:49:09.770Z"
   },
   {
    "duration": 655,
    "start_time": "2023-05-30T08:49:09.816Z"
   },
   {
    "duration": 7,
    "start_time": "2023-05-30T08:49:10.473Z"
   },
   {
    "duration": 31,
    "start_time": "2023-05-30T08:49:10.481Z"
   },
   {
    "duration": 33,
    "start_time": "2023-05-30T08:49:10.513Z"
   },
   {
    "duration": 5,
    "start_time": "2023-05-30T08:49:10.548Z"
   },
   {
    "duration": 31,
    "start_time": "2023-05-30T08:49:10.554Z"
   },
   {
    "duration": 19,
    "start_time": "2023-05-30T08:49:10.586Z"
   },
   {
    "duration": 18,
    "start_time": "2023-05-30T08:49:10.606Z"
   },
   {
    "duration": 28,
    "start_time": "2023-05-30T08:49:10.626Z"
   },
   {
    "duration": 28,
    "start_time": "2023-05-30T08:49:10.655Z"
   },
   {
    "duration": 69,
    "start_time": "2023-05-30T08:49:10.685Z"
   },
   {
    "duration": 97,
    "start_time": "2023-05-30T08:49:10.756Z"
   },
   {
    "duration": 64,
    "start_time": "2023-05-30T08:49:10.855Z"
   },
   {
    "duration": 35,
    "start_time": "2023-05-30T08:49:10.921Z"
   },
   {
    "duration": 18,
    "start_time": "2023-05-30T08:49:10.958Z"
   },
   {
    "duration": 6,
    "start_time": "2023-05-30T08:49:10.978Z"
   },
   {
    "duration": 25,
    "start_time": "2023-05-30T08:49:10.986Z"
   },
   {
    "duration": 19,
    "start_time": "2023-05-30T08:49:11.012Z"
   },
   {
    "duration": 39,
    "start_time": "2023-05-30T08:49:11.032Z"
   },
   {
    "duration": 75,
    "start_time": "2023-05-30T08:49:11.076Z"
   },
   {
    "duration": 8,
    "start_time": "2023-05-30T08:49:11.153Z"
   },
   {
    "duration": 1319,
    "start_time": "2023-05-30T08:50:06.533Z"
   },
   {
    "duration": 59,
    "start_time": "2023-05-30T08:50:07.854Z"
   },
   {
    "duration": 14,
    "start_time": "2023-05-30T08:50:07.915Z"
   },
   {
    "duration": 32,
    "start_time": "2023-05-30T08:50:07.932Z"
   },
   {
    "duration": 681,
    "start_time": "2023-05-30T08:50:07.966Z"
   },
   {
    "duration": 6,
    "start_time": "2023-05-30T08:50:08.650Z"
   },
   {
    "duration": 3,
    "start_time": "2023-05-30T08:50:08.658Z"
   },
   {
    "duration": 20,
    "start_time": "2023-05-30T08:50:08.663Z"
   },
   {
    "duration": 10,
    "start_time": "2023-05-30T08:50:08.684Z"
   },
   {
    "duration": 9,
    "start_time": "2023-05-30T08:50:08.696Z"
   },
   {
    "duration": 13,
    "start_time": "2023-05-30T08:50:08.707Z"
   },
   {
    "duration": 5,
    "start_time": "2023-05-30T08:50:08.722Z"
   },
   {
    "duration": 8,
    "start_time": "2023-05-30T08:50:08.728Z"
   },
   {
    "duration": 5,
    "start_time": "2023-05-30T08:50:08.751Z"
   },
   {
    "duration": 16,
    "start_time": "2023-05-30T08:50:08.757Z"
   },
   {
    "duration": 9,
    "start_time": "2023-05-30T08:50:08.851Z"
   },
   {
    "duration": 90,
    "start_time": "2023-05-30T08:50:08.862Z"
   },
   {
    "duration": 3,
    "start_time": "2023-05-30T08:50:08.954Z"
   },
   {
    "duration": 19,
    "start_time": "2023-05-30T08:50:08.959Z"
   },
   {
    "duration": 13,
    "start_time": "2023-05-30T08:50:08.980Z"
   },
   {
    "duration": 8,
    "start_time": "2023-05-30T08:50:08.995Z"
   },
   {
    "duration": 5,
    "start_time": "2023-05-30T08:50:09.005Z"
   },
   {
    "duration": 40,
    "start_time": "2023-05-30T08:50:09.011Z"
   },
   {
    "duration": 4,
    "start_time": "2023-05-30T08:50:09.053Z"
   },
   {
    "duration": 96,
    "start_time": "2023-05-30T08:50:09.059Z"
   },
   {
    "duration": 3,
    "start_time": "2023-05-30T08:51:19.369Z"
   },
   {
    "duration": 66,
    "start_time": "2023-05-30T08:51:19.374Z"
   },
   {
    "duration": 11,
    "start_time": "2023-05-30T08:51:19.442Z"
   },
   {
    "duration": 28,
    "start_time": "2023-05-30T08:51:19.454Z"
   },
   {
    "duration": 674,
    "start_time": "2023-05-30T08:51:19.484Z"
   },
   {
    "duration": 6,
    "start_time": "2023-05-30T08:51:20.160Z"
   },
   {
    "duration": 9,
    "start_time": "2023-05-30T08:51:20.167Z"
   },
   {
    "duration": 22,
    "start_time": "2023-05-30T08:51:20.177Z"
   },
   {
    "duration": 4,
    "start_time": "2023-05-30T08:51:20.201Z"
   },
   {
    "duration": 14,
    "start_time": "2023-05-30T08:51:20.207Z"
   },
   {
    "duration": 8,
    "start_time": "2023-05-30T08:51:20.225Z"
   },
   {
    "duration": 7,
    "start_time": "2023-05-30T08:51:20.249Z"
   },
   {
    "duration": 13,
    "start_time": "2023-05-30T08:51:20.258Z"
   },
   {
    "duration": 7,
    "start_time": "2023-05-30T08:51:20.273Z"
   },
   {
    "duration": 73,
    "start_time": "2023-05-30T08:51:20.282Z"
   },
   {
    "duration": 8,
    "start_time": "2023-05-30T08:51:20.357Z"
   },
   {
    "duration": 84,
    "start_time": "2023-05-30T08:51:20.367Z"
   },
   {
    "duration": 6,
    "start_time": "2023-05-30T08:51:20.453Z"
   },
   {
    "duration": 13,
    "start_time": "2023-05-30T08:51:20.461Z"
   },
   {
    "duration": 115,
    "start_time": "2023-05-30T08:51:20.476Z"
   },
   {
    "duration": 3,
    "start_time": "2023-05-30T08:51:20.593Z"
   },
   {
    "duration": 10,
    "start_time": "2023-05-30T08:51:20.598Z"
   },
   {
    "duration": 19,
    "start_time": "2023-05-30T08:51:20.609Z"
   },
   {
    "duration": 3,
    "start_time": "2023-05-30T08:51:20.650Z"
   },
   {
    "duration": 98,
    "start_time": "2023-05-30T08:51:20.656Z"
   },
   {
    "duration": 3,
    "start_time": "2023-05-30T08:51:54.725Z"
   },
   {
    "duration": 59,
    "start_time": "2023-05-30T08:51:54.730Z"
   },
   {
    "duration": 10,
    "start_time": "2023-05-30T08:51:54.791Z"
   },
   {
    "duration": 22,
    "start_time": "2023-05-30T08:51:54.803Z"
   },
   {
    "duration": 634,
    "start_time": "2023-05-30T08:51:54.827Z"
   },
   {
    "duration": 6,
    "start_time": "2023-05-30T08:51:55.463Z"
   },
   {
    "duration": 4,
    "start_time": "2023-05-30T08:51:55.471Z"
   },
   {
    "duration": 19,
    "start_time": "2023-05-30T08:51:55.477Z"
   },
   {
    "duration": 7,
    "start_time": "2023-05-30T08:51:55.498Z"
   },
   {
    "duration": 12,
    "start_time": "2023-05-30T08:51:55.508Z"
   },
   {
    "duration": 5,
    "start_time": "2023-05-30T08:51:55.521Z"
   },
   {
    "duration": 26,
    "start_time": "2023-05-30T08:51:55.527Z"
   },
   {
    "duration": 21,
    "start_time": "2023-05-30T08:51:55.555Z"
   },
   {
    "duration": 26,
    "start_time": "2023-05-30T08:51:55.577Z"
   },
   {
    "duration": 10,
    "start_time": "2023-05-30T08:51:55.605Z"
   },
   {
    "duration": 8,
    "start_time": "2023-05-30T08:51:55.651Z"
   },
   {
    "duration": 93,
    "start_time": "2023-05-30T08:51:55.661Z"
   },
   {
    "duration": 4,
    "start_time": "2023-05-30T08:51:55.756Z"
   },
   {
    "duration": 17,
    "start_time": "2023-05-30T08:51:55.762Z"
   },
   {
    "duration": 12,
    "start_time": "2023-05-30T08:51:55.781Z"
   },
   {
    "duration": 6,
    "start_time": "2023-05-30T08:51:55.795Z"
   },
   {
    "duration": 5,
    "start_time": "2023-05-30T08:51:55.802Z"
   },
   {
    "duration": 7,
    "start_time": "2023-05-30T08:51:55.809Z"
   },
   {
    "duration": 36,
    "start_time": "2023-05-30T08:51:55.817Z"
   },
   {
    "duration": 9,
    "start_time": "2023-05-30T08:51:55.855Z"
   },
   {
    "duration": 46,
    "start_time": "2023-05-30T08:53:29.679Z"
   },
   {
    "duration": 821,
    "start_time": "2023-05-30T08:53:38.145Z"
   },
   {
    "duration": 4,
    "start_time": "2023-05-30T08:55:03.936Z"
   },
   {
    "duration": 70,
    "start_time": "2023-05-30T08:55:03.942Z"
   },
   {
    "duration": 11,
    "start_time": "2023-05-30T08:55:04.014Z"
   },
   {
    "duration": 47,
    "start_time": "2023-05-30T08:55:04.027Z"
   },
   {
    "duration": 805,
    "start_time": "2023-05-30T08:55:04.077Z"
   },
   {
    "duration": 5,
    "start_time": "2023-05-30T08:55:04.884Z"
   },
   {
    "duration": 26,
    "start_time": "2023-05-30T08:55:04.891Z"
   },
   {
    "duration": 13,
    "start_time": "2023-05-30T08:55:04.919Z"
   },
   {
    "duration": 5,
    "start_time": "2023-05-30T08:55:04.933Z"
   },
   {
    "duration": 38,
    "start_time": "2023-05-30T08:55:04.940Z"
   },
   {
    "duration": 16,
    "start_time": "2023-05-30T08:55:04.980Z"
   },
   {
    "duration": 15,
    "start_time": "2023-05-30T08:55:04.999Z"
   },
   {
    "duration": 28,
    "start_time": "2023-05-30T08:55:05.016Z"
   },
   {
    "duration": 33,
    "start_time": "2023-05-30T08:55:05.048Z"
   },
   {
    "duration": 66,
    "start_time": "2023-05-30T08:55:05.084Z"
   },
   {
    "duration": 10,
    "start_time": "2023-05-30T08:55:05.152Z"
   },
   {
    "duration": 94,
    "start_time": "2023-05-30T08:55:05.164Z"
   },
   {
    "duration": 13,
    "start_time": "2023-05-30T08:55:05.260Z"
   },
   {
    "duration": 26,
    "start_time": "2023-05-30T08:55:05.275Z"
   },
   {
    "duration": 28,
    "start_time": "2023-05-30T08:55:05.303Z"
   },
   {
    "duration": 38,
    "start_time": "2023-05-30T08:55:05.333Z"
   },
   {
    "duration": 20,
    "start_time": "2023-05-30T08:55:05.374Z"
   },
   {
    "duration": 26,
    "start_time": "2023-05-30T08:55:05.396Z"
   },
   {
    "duration": 27,
    "start_time": "2023-05-30T08:55:05.424Z"
   },
   {
    "duration": 102,
    "start_time": "2023-05-30T08:55:05.453Z"
   },
   {
    "duration": 9,
    "start_time": "2023-05-30T08:56:39.365Z"
   },
   {
    "duration": 4,
    "start_time": "2023-05-30T08:56:53.192Z"
   },
   {
    "duration": 68,
    "start_time": "2023-05-30T08:56:53.198Z"
   },
   {
    "duration": 10,
    "start_time": "2023-05-30T08:56:53.268Z"
   },
   {
    "duration": 27,
    "start_time": "2023-05-30T08:56:53.279Z"
   },
   {
    "duration": 619,
    "start_time": "2023-05-30T08:56:53.308Z"
   },
   {
    "duration": 6,
    "start_time": "2023-05-30T08:56:53.929Z"
   },
   {
    "duration": 14,
    "start_time": "2023-05-30T08:56:53.936Z"
   },
   {
    "duration": 29,
    "start_time": "2023-05-30T08:56:53.952Z"
   },
   {
    "duration": 5,
    "start_time": "2023-05-30T08:56:53.983Z"
   },
   {
    "duration": 10,
    "start_time": "2023-05-30T08:56:53.989Z"
   },
   {
    "duration": 16,
    "start_time": "2023-05-30T08:56:54.000Z"
   },
   {
    "duration": 8,
    "start_time": "2023-05-30T08:56:54.018Z"
   },
   {
    "duration": 7,
    "start_time": "2023-05-30T08:56:54.028Z"
   },
   {
    "duration": 17,
    "start_time": "2023-05-30T08:56:54.038Z"
   },
   {
    "duration": 102,
    "start_time": "2023-05-30T08:56:54.057Z"
   },
   {
    "duration": 91,
    "start_time": "2023-05-30T08:56:54.161Z"
   },
   {
    "duration": 11,
    "start_time": "2023-05-30T08:56:54.254Z"
   },
   {
    "duration": 5,
    "start_time": "2023-05-30T08:56:54.267Z"
   },
   {
    "duration": 19,
    "start_time": "2023-05-30T08:56:54.274Z"
   },
   {
    "duration": 6,
    "start_time": "2023-05-30T08:56:54.295Z"
   },
   {
    "duration": 7,
    "start_time": "2023-05-30T08:56:54.302Z"
   },
   {
    "duration": 7,
    "start_time": "2023-05-30T08:56:54.311Z"
   },
   {
    "duration": 37,
    "start_time": "2023-05-30T08:56:54.320Z"
   },
   {
    "duration": 5,
    "start_time": "2023-05-30T08:56:54.359Z"
   },
   {
    "duration": 88,
    "start_time": "2023-05-30T08:56:54.366Z"
   },
   {
    "duration": 13,
    "start_time": "2023-05-30T08:57:28.016Z"
   },
   {
    "duration": 4,
    "start_time": "2023-05-30T08:57:34.844Z"
   },
   {
    "duration": 56,
    "start_time": "2023-05-30T08:57:34.851Z"
   },
   {
    "duration": 13,
    "start_time": "2023-05-30T08:57:34.908Z"
   },
   {
    "duration": 27,
    "start_time": "2023-05-30T08:57:34.923Z"
   },
   {
    "duration": 787,
    "start_time": "2023-05-30T08:57:34.953Z"
   },
   {
    "duration": 10,
    "start_time": "2023-05-30T08:57:35.742Z"
   },
   {
    "duration": 2,
    "start_time": "2023-05-30T08:57:35.755Z"
   },
   {
    "duration": 21,
    "start_time": "2023-05-30T08:57:35.759Z"
   },
   {
    "duration": 4,
    "start_time": "2023-05-30T08:57:35.783Z"
   },
   {
    "duration": 12,
    "start_time": "2023-05-30T08:57:35.790Z"
   },
   {
    "duration": 20,
    "start_time": "2023-05-30T08:57:35.805Z"
   },
   {
    "duration": 24,
    "start_time": "2023-05-30T08:57:35.827Z"
   },
   {
    "duration": 9,
    "start_time": "2023-05-30T08:57:35.854Z"
   },
   {
    "duration": 14,
    "start_time": "2023-05-30T08:57:35.867Z"
   },
   {
    "duration": 73,
    "start_time": "2023-05-30T08:57:35.883Z"
   },
   {
    "duration": 11,
    "start_time": "2023-05-30T08:57:35.958Z"
   },
   {
    "duration": 20,
    "start_time": "2023-05-30T08:57:36.049Z"
   },
   {
    "duration": 11,
    "start_time": "2023-05-30T08:57:36.070Z"
   },
   {
    "duration": 11,
    "start_time": "2023-05-30T08:57:36.083Z"
   },
   {
    "duration": 6,
    "start_time": "2023-05-30T08:57:36.096Z"
   },
   {
    "duration": 8,
    "start_time": "2023-05-30T08:57:36.104Z"
   },
   {
    "duration": 5,
    "start_time": "2023-05-30T08:57:36.115Z"
   },
   {
    "duration": 32,
    "start_time": "2023-05-30T08:57:36.122Z"
   },
   {
    "duration": 4,
    "start_time": "2023-05-30T08:57:36.155Z"
   },
   {
    "duration": 95,
    "start_time": "2023-05-30T08:57:36.161Z"
   },
   {
    "duration": 4,
    "start_time": "2023-05-30T08:58:47.051Z"
   },
   {
    "duration": 58,
    "start_time": "2023-05-30T08:58:47.057Z"
   },
   {
    "duration": 10,
    "start_time": "2023-05-30T08:58:47.117Z"
   },
   {
    "duration": 21,
    "start_time": "2023-05-30T08:58:47.130Z"
   },
   {
    "duration": 651,
    "start_time": "2023-05-30T08:58:47.152Z"
   },
   {
    "duration": 6,
    "start_time": "2023-05-30T08:58:47.805Z"
   },
   {
    "duration": 18,
    "start_time": "2023-05-30T08:58:47.812Z"
   },
   {
    "duration": 25,
    "start_time": "2023-05-30T08:58:47.832Z"
   },
   {
    "duration": 10,
    "start_time": "2023-05-30T08:58:47.860Z"
   },
   {
    "duration": 15,
    "start_time": "2023-05-30T08:58:47.874Z"
   },
   {
    "duration": 8,
    "start_time": "2023-05-30T08:58:47.891Z"
   },
   {
    "duration": 9,
    "start_time": "2023-05-30T08:58:47.901Z"
   },
   {
    "duration": 13,
    "start_time": "2023-05-30T08:58:47.912Z"
   },
   {
    "duration": 29,
    "start_time": "2023-05-30T08:58:47.927Z"
   },
   {
    "duration": 9,
    "start_time": "2023-05-30T08:58:47.959Z"
   },
   {
    "duration": 9,
    "start_time": "2023-05-30T08:58:48.050Z"
   },
   {
    "duration": 25,
    "start_time": "2023-05-30T08:58:48.062Z"
   },
   {
    "duration": 5,
    "start_time": "2023-05-30T08:58:48.090Z"
   },
   {
    "duration": 63,
    "start_time": "2023-05-30T08:58:48.097Z"
   },
   {
    "duration": 6,
    "start_time": "2023-05-30T08:58:48.162Z"
   },
   {
    "duration": 16,
    "start_time": "2023-05-30T08:58:48.170Z"
   },
   {
    "duration": 5,
    "start_time": "2023-05-30T08:58:48.188Z"
   },
   {
    "duration": 57,
    "start_time": "2023-05-30T08:58:48.195Z"
   },
   {
    "duration": 4,
    "start_time": "2023-05-30T08:58:48.257Z"
   },
   {
    "duration": 98,
    "start_time": "2023-05-30T08:58:48.263Z"
   },
   {
    "duration": 8,
    "start_time": "2023-05-30T08:59:17.776Z"
   },
   {
    "duration": 9,
    "start_time": "2023-05-30T09:00:18.147Z"
   },
   {
    "duration": 5,
    "start_time": "2023-05-30T09:00:24.200Z"
   },
   {
    "duration": 65,
    "start_time": "2023-05-30T09:00:24.208Z"
   },
   {
    "duration": 13,
    "start_time": "2023-05-30T09:00:24.275Z"
   },
   {
    "duration": 25,
    "start_time": "2023-05-30T09:00:24.290Z"
   },
   {
    "duration": 659,
    "start_time": "2023-05-30T09:00:24.317Z"
   },
   {
    "duration": 6,
    "start_time": "2023-05-30T09:00:24.978Z"
   },
   {
    "duration": 8,
    "start_time": "2023-05-30T09:00:24.985Z"
   },
   {
    "duration": 19,
    "start_time": "2023-05-30T09:00:24.994Z"
   },
   {
    "duration": 20,
    "start_time": "2023-05-30T09:00:25.016Z"
   },
   {
    "duration": 17,
    "start_time": "2023-05-30T09:00:25.037Z"
   },
   {
    "duration": 10,
    "start_time": "2023-05-30T09:00:25.056Z"
   },
   {
    "duration": 9,
    "start_time": "2023-05-30T09:00:25.068Z"
   },
   {
    "duration": 18,
    "start_time": "2023-05-30T09:00:25.079Z"
   },
   {
    "duration": 8,
    "start_time": "2023-05-30T09:00:25.098Z"
   },
   {
    "duration": 49,
    "start_time": "2023-05-30T09:00:25.108Z"
   },
   {
    "duration": 91,
    "start_time": "2023-05-30T09:00:25.159Z"
   },
   {
    "duration": 8,
    "start_time": "2023-05-30T09:00:25.252Z"
   },
   {
    "duration": 3,
    "start_time": "2023-05-30T09:00:25.262Z"
   },
   {
    "duration": 15,
    "start_time": "2023-05-30T09:00:25.266Z"
   },
   {
    "duration": 10,
    "start_time": "2023-05-30T09:00:25.283Z"
   },
   {
    "duration": 5,
    "start_time": "2023-05-30T09:00:25.294Z"
   },
   {
    "duration": 5,
    "start_time": "2023-05-30T09:00:25.301Z"
   },
   {
    "duration": 45,
    "start_time": "2023-05-30T09:00:25.308Z"
   },
   {
    "duration": 3,
    "start_time": "2023-05-30T09:00:25.357Z"
   },
   {
    "duration": 94,
    "start_time": "2023-05-30T09:00:25.362Z"
   },
   {
    "duration": 9,
    "start_time": "2023-05-30T09:00:56.489Z"
   },
   {
    "duration": 12,
    "start_time": "2023-05-30T09:02:38.869Z"
   },
   {
    "duration": 8,
    "start_time": "2023-05-30T09:02:49.378Z"
   },
   {
    "duration": 67,
    "start_time": "2023-05-30T09:02:49.389Z"
   },
   {
    "duration": 17,
    "start_time": "2023-05-30T09:02:49.458Z"
   },
   {
    "duration": 23,
    "start_time": "2023-05-30T09:02:49.478Z"
   },
   {
    "duration": 781,
    "start_time": "2023-05-30T09:02:49.503Z"
   },
   {
    "duration": 6,
    "start_time": "2023-05-30T09:02:50.286Z"
   },
   {
    "duration": 6,
    "start_time": "2023-05-30T09:02:50.294Z"
   },
   {
    "duration": 39,
    "start_time": "2023-05-30T09:02:50.302Z"
   },
   {
    "duration": 49,
    "start_time": "2023-05-30T09:02:50.343Z"
   },
   {
    "duration": 33,
    "start_time": "2023-05-30T09:02:50.394Z"
   },
   {
    "duration": 32,
    "start_time": "2023-05-30T09:02:50.429Z"
   },
   {
    "duration": 27,
    "start_time": "2023-05-30T09:02:50.464Z"
   },
   {
    "duration": 18,
    "start_time": "2023-05-30T09:02:50.493Z"
   },
   {
    "duration": 20,
    "start_time": "2023-05-30T09:02:50.514Z"
   },
   {
    "duration": 22,
    "start_time": "2023-05-30T09:02:50.536Z"
   },
   {
    "duration": 12,
    "start_time": "2023-05-30T09:02:50.561Z"
   },
   {
    "duration": 85,
    "start_time": "2023-05-30T09:02:50.575Z"
   },
   {
    "duration": 8,
    "start_time": "2023-05-30T09:02:50.662Z"
   },
   {
    "duration": 24,
    "start_time": "2023-05-30T09:02:50.672Z"
   },
   {
    "duration": 8,
    "start_time": "2023-05-30T09:02:50.697Z"
   },
   {
    "duration": 16,
    "start_time": "2023-05-30T09:02:50.707Z"
   },
   {
    "duration": 18,
    "start_time": "2023-05-30T09:02:50.724Z"
   },
   {
    "duration": 23,
    "start_time": "2023-05-30T09:02:50.750Z"
   },
   {
    "duration": 6,
    "start_time": "2023-05-30T09:02:50.775Z"
   },
   {
    "duration": 8,
    "start_time": "2023-05-30T09:02:50.858Z"
   },
   {
    "duration": 8,
    "start_time": "2023-05-30T09:05:33.433Z"
   },
   {
    "duration": 4,
    "start_time": "2023-05-30T09:05:38.385Z"
   },
   {
    "duration": 110,
    "start_time": "2023-05-30T09:05:38.391Z"
   },
   {
    "duration": 13,
    "start_time": "2023-05-30T09:05:38.504Z"
   },
   {
    "duration": 26,
    "start_time": "2023-05-30T09:05:38.518Z"
   },
   {
    "duration": 888,
    "start_time": "2023-05-30T09:05:38.547Z"
   },
   {
    "duration": 16,
    "start_time": "2023-05-30T09:05:39.437Z"
   },
   {
    "duration": 23,
    "start_time": "2023-05-30T09:05:39.459Z"
   },
   {
    "duration": 19,
    "start_time": "2023-05-30T09:05:39.499Z"
   },
   {
    "duration": 6,
    "start_time": "2023-05-30T09:05:39.521Z"
   },
   {
    "duration": 13,
    "start_time": "2023-05-30T09:05:39.529Z"
   },
   {
    "duration": 24,
    "start_time": "2023-05-30T09:05:39.544Z"
   },
   {
    "duration": 23,
    "start_time": "2023-05-30T09:05:39.570Z"
   },
   {
    "duration": 8,
    "start_time": "2023-05-30T09:05:39.599Z"
   },
   {
    "duration": 11,
    "start_time": "2023-05-30T09:05:39.610Z"
   },
   {
    "duration": 43,
    "start_time": "2023-05-30T09:05:39.622Z"
   },
   {
    "duration": 26,
    "start_time": "2023-05-30T09:05:39.667Z"
   },
   {
    "duration": 60,
    "start_time": "2023-05-30T09:05:39.697Z"
   },
   {
    "duration": 7,
    "start_time": "2023-05-30T09:05:39.759Z"
   },
   {
    "duration": 22,
    "start_time": "2023-05-30T09:05:39.768Z"
   },
   {
    "duration": 5,
    "start_time": "2023-05-30T09:05:39.792Z"
   },
   {
    "duration": 11,
    "start_time": "2023-05-30T09:05:39.799Z"
   },
   {
    "duration": 7,
    "start_time": "2023-05-30T09:05:39.812Z"
   },
   {
    "duration": 34,
    "start_time": "2023-05-30T09:05:39.821Z"
   },
   {
    "duration": 9,
    "start_time": "2023-05-30T09:05:39.862Z"
   },
   {
    "duration": 21,
    "start_time": "2023-05-30T09:05:39.873Z"
   },
   {
    "duration": 3,
    "start_time": "2023-05-30T09:06:09.033Z"
   },
   {
    "duration": 95,
    "start_time": "2023-05-30T09:06:09.038Z"
   },
   {
    "duration": 11,
    "start_time": "2023-05-30T09:06:09.134Z"
   },
   {
    "duration": 40,
    "start_time": "2023-05-30T09:06:09.147Z"
   },
   {
    "duration": 751,
    "start_time": "2023-05-30T09:06:09.192Z"
   },
   {
    "duration": 21,
    "start_time": "2023-05-30T09:06:09.944Z"
   },
   {
    "duration": 11,
    "start_time": "2023-05-30T09:06:09.966Z"
   },
   {
    "duration": 20,
    "start_time": "2023-05-30T09:06:09.979Z"
   },
   {
    "duration": 6,
    "start_time": "2023-05-30T09:06:10.000Z"
   },
   {
    "duration": 24,
    "start_time": "2023-05-30T09:06:10.008Z"
   },
   {
    "duration": 51,
    "start_time": "2023-05-30T09:06:10.033Z"
   },
   {
    "duration": 51,
    "start_time": "2023-05-30T09:06:10.087Z"
   },
   {
    "duration": 45,
    "start_time": "2023-05-30T09:06:10.139Z"
   },
   {
    "duration": 41,
    "start_time": "2023-05-30T09:06:10.188Z"
   },
   {
    "duration": 28,
    "start_time": "2023-05-30T09:06:10.231Z"
   },
   {
    "duration": 69,
    "start_time": "2023-05-30T09:06:10.284Z"
   },
   {
    "duration": 30,
    "start_time": "2023-05-30T09:06:10.358Z"
   },
   {
    "duration": 2,
    "start_time": "2023-05-30T09:06:10.391Z"
   },
   {
    "duration": 13,
    "start_time": "2023-05-30T09:06:10.395Z"
   },
   {
    "duration": 14,
    "start_time": "2023-05-30T09:06:10.409Z"
   },
   {
    "duration": 20,
    "start_time": "2023-05-30T09:06:10.425Z"
   },
   {
    "duration": 28,
    "start_time": "2023-05-30T09:06:10.447Z"
   },
   {
    "duration": 81,
    "start_time": "2023-05-30T09:06:10.478Z"
   },
   {
    "duration": 6,
    "start_time": "2023-05-30T09:06:10.561Z"
   },
   {
    "duration": 110,
    "start_time": "2023-05-30T09:06:10.569Z"
   },
   {
    "duration": 10,
    "start_time": "2023-05-30T09:06:43.686Z"
   },
   {
    "duration": 4,
    "start_time": "2023-05-30T09:06:52.035Z"
   },
   {
    "duration": 105,
    "start_time": "2023-05-30T09:06:52.042Z"
   },
   {
    "duration": 23,
    "start_time": "2023-05-30T09:06:52.148Z"
   },
   {
    "duration": 27,
    "start_time": "2023-05-30T09:06:52.177Z"
   },
   {
    "duration": 809,
    "start_time": "2023-05-30T09:06:52.206Z"
   },
   {
    "duration": 7,
    "start_time": "2023-05-30T09:06:53.017Z"
   },
   {
    "duration": 9,
    "start_time": "2023-05-30T09:06:53.026Z"
   },
   {
    "duration": 33,
    "start_time": "2023-05-30T09:06:53.036Z"
   },
   {
    "duration": 7,
    "start_time": "2023-05-30T09:06:53.071Z"
   },
   {
    "duration": 9,
    "start_time": "2023-05-30T09:06:53.088Z"
   },
   {
    "duration": 5,
    "start_time": "2023-05-30T09:06:53.099Z"
   },
   {
    "duration": 5,
    "start_time": "2023-05-30T09:06:53.106Z"
   },
   {
    "duration": 6,
    "start_time": "2023-05-30T09:06:53.113Z"
   },
   {
    "duration": 39,
    "start_time": "2023-05-30T09:06:53.121Z"
   },
   {
    "duration": 17,
    "start_time": "2023-05-30T09:06:53.163Z"
   },
   {
    "duration": 85,
    "start_time": "2023-05-30T09:06:53.182Z"
   },
   {
    "duration": 16,
    "start_time": "2023-05-30T09:06:53.269Z"
   },
   {
    "duration": 14,
    "start_time": "2023-05-30T09:06:53.286Z"
   },
   {
    "duration": 9,
    "start_time": "2023-05-30T09:06:53.302Z"
   },
   {
    "duration": 6,
    "start_time": "2023-05-30T09:06:53.313Z"
   },
   {
    "duration": 6,
    "start_time": "2023-05-30T09:06:53.320Z"
   },
   {
    "duration": 36,
    "start_time": "2023-05-30T09:06:53.328Z"
   },
   {
    "duration": 26,
    "start_time": "2023-05-30T09:06:53.367Z"
   },
   {
    "duration": 60,
    "start_time": "2023-05-30T09:06:53.397Z"
   },
   {
    "duration": 22,
    "start_time": "2023-05-30T09:06:53.466Z"
   },
   {
    "duration": 13,
    "start_time": "2023-05-30T09:10:24.192Z"
   },
   {
    "duration": 5,
    "start_time": "2023-05-30T09:10:31.702Z"
   },
   {
    "duration": 77,
    "start_time": "2023-05-30T09:10:31.710Z"
   },
   {
    "duration": 16,
    "start_time": "2023-05-30T09:10:31.789Z"
   },
   {
    "duration": 39,
    "start_time": "2023-05-30T09:10:31.807Z"
   },
   {
    "duration": 843,
    "start_time": "2023-05-30T09:10:31.849Z"
   },
   {
    "duration": 6,
    "start_time": "2023-05-30T09:10:32.695Z"
   },
   {
    "duration": 6,
    "start_time": "2023-05-30T09:10:32.703Z"
   },
   {
    "duration": 15,
    "start_time": "2023-05-30T09:10:32.710Z"
   },
   {
    "duration": 8,
    "start_time": "2023-05-30T09:10:32.756Z"
   },
   {
    "duration": 14,
    "start_time": "2023-05-30T09:10:32.766Z"
   },
   {
    "duration": 12,
    "start_time": "2023-05-30T09:10:32.783Z"
   },
   {
    "duration": 25,
    "start_time": "2023-05-30T09:10:32.796Z"
   },
   {
    "duration": 32,
    "start_time": "2023-05-30T09:10:32.823Z"
   },
   {
    "duration": 15,
    "start_time": "2023-05-30T09:10:32.859Z"
   },
   {
    "duration": 16,
    "start_time": "2023-05-30T09:10:32.878Z"
   },
   {
    "duration": 18,
    "start_time": "2023-05-30T09:10:32.952Z"
   },
   {
    "duration": 78,
    "start_time": "2023-05-30T09:10:32.973Z"
   },
   {
    "duration": 8,
    "start_time": "2023-05-30T09:10:33.058Z"
   },
   {
    "duration": 13,
    "start_time": "2023-05-30T09:10:33.068Z"
   },
   {
    "duration": 6,
    "start_time": "2023-05-30T09:10:33.083Z"
   },
   {
    "duration": 18,
    "start_time": "2023-05-30T09:10:33.091Z"
   },
   {
    "duration": 140,
    "start_time": "2023-05-30T09:10:33.110Z"
   },
   {
    "duration": 14,
    "start_time": "2023-05-30T09:10:33.252Z"
   },
   {
    "duration": 7,
    "start_time": "2023-05-30T09:10:33.268Z"
   },
   {
    "duration": 73,
    "start_time": "2023-05-30T09:10:33.278Z"
   },
   {
    "duration": 5,
    "start_time": "2023-05-30T09:24:38.395Z"
   },
   {
    "duration": 3,
    "start_time": "2023-05-30T09:25:05.943Z"
   },
   {
    "duration": 75,
    "start_time": "2023-05-30T09:25:05.948Z"
   },
   {
    "duration": 10,
    "start_time": "2023-05-30T09:25:06.025Z"
   },
   {
    "duration": 25,
    "start_time": "2023-05-30T09:25:06.037Z"
   },
   {
    "duration": 728,
    "start_time": "2023-05-30T09:25:06.064Z"
   },
   {
    "duration": 6,
    "start_time": "2023-05-30T09:25:06.794Z"
   },
   {
    "duration": 6,
    "start_time": "2023-05-30T09:25:06.802Z"
   },
   {
    "duration": 13,
    "start_time": "2023-05-30T09:25:06.809Z"
   },
   {
    "duration": 3,
    "start_time": "2023-05-30T09:25:06.825Z"
   },
   {
    "duration": 32,
    "start_time": "2023-05-30T09:25:06.829Z"
   },
   {
    "duration": 9,
    "start_time": "2023-05-30T09:25:06.863Z"
   },
   {
    "duration": 11,
    "start_time": "2023-05-30T09:25:06.874Z"
   },
   {
    "duration": 13,
    "start_time": "2023-05-30T09:25:06.887Z"
   },
   {
    "duration": 20,
    "start_time": "2023-05-30T09:25:06.902Z"
   },
   {
    "duration": 36,
    "start_time": "2023-05-30T09:25:06.924Z"
   },
   {
    "duration": 87,
    "start_time": "2023-05-30T09:25:06.967Z"
   },
   {
    "duration": 18,
    "start_time": "2023-05-30T09:25:07.055Z"
   },
   {
    "duration": 43,
    "start_time": "2023-05-30T09:25:07.075Z"
   },
   {
    "duration": 15,
    "start_time": "2023-05-30T09:25:07.120Z"
   },
   {
    "duration": 6,
    "start_time": "2023-05-30T09:25:07.137Z"
   },
   {
    "duration": 11,
    "start_time": "2023-05-30T09:25:07.145Z"
   },
   {
    "duration": 15,
    "start_time": "2023-05-30T09:25:07.158Z"
   },
   {
    "duration": 14,
    "start_time": "2023-05-30T09:25:07.175Z"
   },
   {
    "duration": 57,
    "start_time": "2023-05-30T09:25:07.193Z"
   },
   {
    "duration": 13,
    "start_time": "2023-05-30T09:25:07.253Z"
   },
   {
    "duration": 3,
    "start_time": "2023-05-30T09:26:04.319Z"
   },
   {
    "duration": 84,
    "start_time": "2023-05-30T09:26:04.324Z"
   },
   {
    "duration": 10,
    "start_time": "2023-05-30T09:26:04.410Z"
   },
   {
    "duration": 47,
    "start_time": "2023-05-30T09:26:04.422Z"
   },
   {
    "duration": 684,
    "start_time": "2023-05-30T09:26:04.472Z"
   },
   {
    "duration": 6,
    "start_time": "2023-05-30T09:26:05.158Z"
   },
   {
    "duration": 5,
    "start_time": "2023-05-30T09:26:05.166Z"
   },
   {
    "duration": 15,
    "start_time": "2023-05-30T09:26:05.174Z"
   },
   {
    "duration": 5,
    "start_time": "2023-05-30T09:26:05.191Z"
   },
   {
    "duration": 23,
    "start_time": "2023-05-30T09:26:05.200Z"
   },
   {
    "duration": 29,
    "start_time": "2023-05-30T09:26:05.225Z"
   },
   {
    "duration": 22,
    "start_time": "2023-05-30T09:26:05.256Z"
   },
   {
    "duration": 9,
    "start_time": "2023-05-30T09:26:05.280Z"
   },
   {
    "duration": 9,
    "start_time": "2023-05-30T09:26:05.290Z"
   },
   {
    "duration": 59,
    "start_time": "2023-05-30T09:26:05.301Z"
   },
   {
    "duration": 93,
    "start_time": "2023-05-30T09:26:05.362Z"
   },
   {
    "duration": 19,
    "start_time": "2023-05-30T09:26:05.457Z"
   },
   {
    "duration": 13,
    "start_time": "2023-05-30T09:26:05.478Z"
   },
   {
    "duration": 31,
    "start_time": "2023-05-30T09:26:05.493Z"
   },
   {
    "duration": 0,
    "start_time": "2023-05-30T09:26:05.526Z"
   },
   {
    "duration": 0,
    "start_time": "2023-05-30T09:26:05.527Z"
   },
   {
    "duration": 0,
    "start_time": "2023-05-30T09:26:05.528Z"
   },
   {
    "duration": 0,
    "start_time": "2023-05-30T09:26:05.529Z"
   },
   {
    "duration": 0,
    "start_time": "2023-05-30T09:26:05.530Z"
   },
   {
    "duration": 0,
    "start_time": "2023-05-30T09:26:05.531Z"
   },
   {
    "duration": 4,
    "start_time": "2023-05-30T09:26:42.231Z"
   },
   {
    "duration": 66,
    "start_time": "2023-05-30T09:26:42.238Z"
   },
   {
    "duration": 10,
    "start_time": "2023-05-30T09:26:42.305Z"
   },
   {
    "duration": 27,
    "start_time": "2023-05-30T09:26:42.316Z"
   },
   {
    "duration": 705,
    "start_time": "2023-05-30T09:26:42.346Z"
   },
   {
    "duration": 7,
    "start_time": "2023-05-30T09:26:43.052Z"
   },
   {
    "duration": 2,
    "start_time": "2023-05-30T09:26:43.062Z"
   },
   {
    "duration": 15,
    "start_time": "2023-05-30T09:26:43.066Z"
   },
   {
    "duration": 4,
    "start_time": "2023-05-30T09:26:43.083Z"
   },
   {
    "duration": 33,
    "start_time": "2023-05-30T09:26:43.089Z"
   },
   {
    "duration": 8,
    "start_time": "2023-05-30T09:26:43.125Z"
   },
   {
    "duration": 7,
    "start_time": "2023-05-30T09:26:43.150Z"
   },
   {
    "duration": 9,
    "start_time": "2023-05-30T09:26:43.160Z"
   },
   {
    "duration": 14,
    "start_time": "2023-05-30T09:26:43.173Z"
   },
   {
    "duration": 71,
    "start_time": "2023-05-30T09:26:43.189Z"
   },
   {
    "duration": 10,
    "start_time": "2023-05-30T09:26:43.263Z"
   },
   {
    "duration": 26,
    "start_time": "2023-05-30T09:26:43.351Z"
   },
   {
    "duration": 4,
    "start_time": "2023-05-30T09:26:43.380Z"
   },
   {
    "duration": 9,
    "start_time": "2023-05-30T09:26:43.385Z"
   },
   {
    "duration": 4,
    "start_time": "2023-05-30T09:26:43.396Z"
   },
   {
    "duration": 6,
    "start_time": "2023-05-30T09:26:43.401Z"
   },
   {
    "duration": 12,
    "start_time": "2023-05-30T09:26:43.408Z"
   },
   {
    "duration": 39,
    "start_time": "2023-05-30T09:26:43.421Z"
   },
   {
    "duration": 87,
    "start_time": "2023-05-30T09:26:43.463Z"
   },
   {
    "duration": 10,
    "start_time": "2023-05-30T09:26:43.555Z"
   },
   {
    "duration": 8,
    "start_time": "2023-05-30T09:27:08.148Z"
   },
   {
    "duration": 68,
    "start_time": "2023-05-30T09:27:08.158Z"
   },
   {
    "duration": 12,
    "start_time": "2023-05-30T09:27:08.228Z"
   },
   {
    "duration": 41,
    "start_time": "2023-05-30T09:27:08.242Z"
   },
   {
    "duration": 889,
    "start_time": "2023-05-30T09:27:08.286Z"
   },
   {
    "duration": 8,
    "start_time": "2023-05-30T09:27:09.178Z"
   },
   {
    "duration": 3,
    "start_time": "2023-05-30T09:27:09.188Z"
   },
   {
    "duration": 17,
    "start_time": "2023-05-30T09:27:09.193Z"
   },
   {
    "duration": 4,
    "start_time": "2023-05-30T09:27:09.213Z"
   },
   {
    "duration": 35,
    "start_time": "2023-05-30T09:27:09.218Z"
   },
   {
    "duration": 7,
    "start_time": "2023-05-30T09:27:09.256Z"
   },
   {
    "duration": 5,
    "start_time": "2023-05-30T09:27:09.265Z"
   },
   {
    "duration": 13,
    "start_time": "2023-05-30T09:27:09.272Z"
   },
   {
    "duration": 9,
    "start_time": "2023-05-30T09:27:09.287Z"
   },
   {
    "duration": 63,
    "start_time": "2023-05-30T09:27:09.298Z"
   },
   {
    "duration": 86,
    "start_time": "2023-05-30T09:27:09.371Z"
   },
   {
    "duration": 20,
    "start_time": "2023-05-30T09:27:09.459Z"
   },
   {
    "duration": 4,
    "start_time": "2023-05-30T09:27:09.481Z"
   },
   {
    "duration": 10,
    "start_time": "2023-05-30T09:27:09.487Z"
   },
   {
    "duration": 6,
    "start_time": "2023-05-30T09:27:09.499Z"
   },
   {
    "duration": 8,
    "start_time": "2023-05-30T09:27:09.507Z"
   },
   {
    "duration": 37,
    "start_time": "2023-05-30T09:27:09.517Z"
   },
   {
    "duration": 91,
    "start_time": "2023-05-30T09:27:09.560Z"
   },
   {
    "duration": 4,
    "start_time": "2023-05-30T09:27:09.655Z"
   },
   {
    "duration": 90,
    "start_time": "2023-05-30T09:27:09.663Z"
   },
   {
    "duration": 14,
    "start_time": "2023-05-30T09:30:34.169Z"
   },
   {
    "duration": 5,
    "start_time": "2023-05-30T09:30:43.269Z"
   },
   {
    "duration": 54,
    "start_time": "2023-05-30T09:30:43.276Z"
   },
   {
    "duration": 10,
    "start_time": "2023-05-30T09:30:43.332Z"
   },
   {
    "duration": 38,
    "start_time": "2023-05-30T09:30:43.344Z"
   },
   {
    "duration": 729,
    "start_time": "2023-05-30T09:30:43.384Z"
   },
   {
    "duration": 8,
    "start_time": "2023-05-30T09:30:44.116Z"
   },
   {
    "duration": 7,
    "start_time": "2023-05-30T09:30:44.126Z"
   },
   {
    "duration": 32,
    "start_time": "2023-05-30T09:30:44.136Z"
   },
   {
    "duration": 9,
    "start_time": "2023-05-30T09:30:44.171Z"
   },
   {
    "duration": 11,
    "start_time": "2023-05-30T09:30:44.185Z"
   },
   {
    "duration": 7,
    "start_time": "2023-05-30T09:30:44.197Z"
   },
   {
    "duration": 12,
    "start_time": "2023-05-30T09:30:44.205Z"
   },
   {
    "duration": 32,
    "start_time": "2023-05-30T09:30:44.220Z"
   },
   {
    "duration": 16,
    "start_time": "2023-05-30T09:30:44.254Z"
   },
   {
    "duration": 15,
    "start_time": "2023-05-30T09:30:44.272Z"
   },
   {
    "duration": 68,
    "start_time": "2023-05-30T09:30:44.288Z"
   },
   {
    "duration": 93,
    "start_time": "2023-05-30T09:30:44.357Z"
   },
   {
    "duration": 3,
    "start_time": "2023-05-30T09:30:44.453Z"
   },
   {
    "duration": 21,
    "start_time": "2023-05-30T09:30:44.458Z"
   },
   {
    "duration": 8,
    "start_time": "2023-05-30T09:30:44.481Z"
   },
   {
    "duration": 5,
    "start_time": "2023-05-30T09:30:44.490Z"
   },
   {
    "duration": 6,
    "start_time": "2023-05-30T09:30:44.497Z"
   },
   {
    "duration": 54,
    "start_time": "2023-05-30T09:30:44.505Z"
   },
   {
    "duration": 6,
    "start_time": "2023-05-30T09:30:44.561Z"
   },
   {
    "duration": 84,
    "start_time": "2023-05-30T09:30:44.569Z"
   },
   {
    "duration": 13,
    "start_time": "2023-05-30T09:31:24.196Z"
   },
   {
    "duration": 3,
    "start_time": "2023-05-30T09:31:31.545Z"
   },
   {
    "duration": 104,
    "start_time": "2023-05-30T09:31:31.550Z"
   },
   {
    "duration": 16,
    "start_time": "2023-05-30T09:31:31.657Z"
   },
   {
    "duration": 35,
    "start_time": "2023-05-30T09:31:31.676Z"
   },
   {
    "duration": 819,
    "start_time": "2023-05-30T09:31:31.714Z"
   },
   {
    "duration": 16,
    "start_time": "2023-05-30T09:31:32.536Z"
   },
   {
    "duration": 4,
    "start_time": "2023-05-30T09:31:32.554Z"
   },
   {
    "duration": 30,
    "start_time": "2023-05-30T09:31:32.560Z"
   },
   {
    "duration": 23,
    "start_time": "2023-05-30T09:31:32.592Z"
   },
   {
    "duration": 41,
    "start_time": "2023-05-30T09:31:32.617Z"
   },
   {
    "duration": 17,
    "start_time": "2023-05-30T09:31:32.660Z"
   },
   {
    "duration": 21,
    "start_time": "2023-05-30T09:31:32.679Z"
   },
   {
    "duration": 25,
    "start_time": "2023-05-30T09:31:32.702Z"
   },
   {
    "duration": 18,
    "start_time": "2023-05-30T09:31:32.731Z"
   },
   {
    "duration": 27,
    "start_time": "2023-05-30T09:31:32.751Z"
   },
   {
    "duration": 80,
    "start_time": "2023-05-30T09:31:32.781Z"
   },
   {
    "duration": 13,
    "start_time": "2023-05-30T09:31:32.868Z"
   },
   {
    "duration": 17,
    "start_time": "2023-05-30T09:31:32.883Z"
   },
   {
    "duration": 31,
    "start_time": "2023-05-30T09:31:32.951Z"
   },
   {
    "duration": 6,
    "start_time": "2023-05-30T09:31:32.984Z"
   },
   {
    "duration": 6,
    "start_time": "2023-05-30T09:31:32.992Z"
   },
   {
    "duration": 10,
    "start_time": "2023-05-30T09:31:33.000Z"
   },
   {
    "duration": 51,
    "start_time": "2023-05-30T09:31:33.012Z"
   },
   {
    "duration": 9,
    "start_time": "2023-05-30T09:31:33.065Z"
   },
   {
    "duration": 91,
    "start_time": "2023-05-30T09:31:33.076Z"
   },
   {
    "duration": 5,
    "start_time": "2023-05-30T09:31:54.204Z"
   },
   {
    "duration": 93,
    "start_time": "2023-05-30T09:31:54.212Z"
   },
   {
    "duration": 16,
    "start_time": "2023-05-30T09:31:54.307Z"
   },
   {
    "duration": 34,
    "start_time": "2023-05-30T09:31:54.325Z"
   },
   {
    "duration": 814,
    "start_time": "2023-05-30T09:31:54.361Z"
   },
   {
    "duration": 7,
    "start_time": "2023-05-30T09:31:55.178Z"
   },
   {
    "duration": 2,
    "start_time": "2023-05-30T09:31:55.187Z"
   },
   {
    "duration": 27,
    "start_time": "2023-05-30T09:31:55.191Z"
   },
   {
    "duration": 4,
    "start_time": "2023-05-30T09:31:55.220Z"
   },
   {
    "duration": 26,
    "start_time": "2023-05-30T09:31:55.225Z"
   },
   {
    "duration": 17,
    "start_time": "2023-05-30T09:31:55.254Z"
   },
   {
    "duration": 7,
    "start_time": "2023-05-30T09:31:55.272Z"
   },
   {
    "duration": 6,
    "start_time": "2023-05-30T09:31:55.281Z"
   },
   {
    "duration": 14,
    "start_time": "2023-05-30T09:31:55.289Z"
   },
   {
    "duration": 54,
    "start_time": "2023-05-30T09:31:55.304Z"
   },
   {
    "duration": 12,
    "start_time": "2023-05-30T09:31:55.363Z"
   },
   {
    "duration": 9,
    "start_time": "2023-05-30T09:31:55.451Z"
   },
   {
    "duration": 7,
    "start_time": "2023-05-30T09:31:55.462Z"
   },
   {
    "duration": 16,
    "start_time": "2023-05-30T09:31:55.471Z"
   },
   {
    "duration": 6,
    "start_time": "2023-05-30T09:31:55.488Z"
   },
   {
    "duration": 6,
    "start_time": "2023-05-30T09:31:55.496Z"
   },
   {
    "duration": 4,
    "start_time": "2023-05-30T09:31:55.504Z"
   },
   {
    "duration": 50,
    "start_time": "2023-05-30T09:31:55.510Z"
   },
   {
    "duration": 84,
    "start_time": "2023-05-30T09:31:55.565Z"
   },
   {
    "duration": 11,
    "start_time": "2023-05-30T09:31:55.651Z"
   },
   {
    "duration": 1420,
    "start_time": "2023-05-30T09:33:40.782Z"
   },
   {
    "duration": 68,
    "start_time": "2023-05-30T09:33:42.204Z"
   },
   {
    "duration": 15,
    "start_time": "2023-05-30T09:33:42.274Z"
   },
   {
    "duration": 27,
    "start_time": "2023-05-30T09:33:42.291Z"
   },
   {
    "duration": 809,
    "start_time": "2023-05-30T09:33:42.320Z"
   },
   {
    "duration": 8,
    "start_time": "2023-05-30T09:33:43.131Z"
   },
   {
    "duration": 2,
    "start_time": "2023-05-30T09:33:43.150Z"
   },
   {
    "duration": 19,
    "start_time": "2023-05-30T09:33:43.155Z"
   },
   {
    "duration": 6,
    "start_time": "2023-05-30T09:33:43.177Z"
   },
   {
    "duration": 10,
    "start_time": "2023-05-30T09:33:43.184Z"
   },
   {
    "duration": 10,
    "start_time": "2023-05-30T09:33:43.195Z"
   },
   {
    "duration": 6,
    "start_time": "2023-05-30T09:33:43.207Z"
   },
   {
    "duration": 38,
    "start_time": "2023-05-30T09:33:43.215Z"
   },
   {
    "duration": 13,
    "start_time": "2023-05-30T09:33:43.258Z"
   },
   {
    "duration": 77,
    "start_time": "2023-05-30T09:33:43.272Z"
   },
   {
    "duration": 10,
    "start_time": "2023-05-30T09:33:43.351Z"
   },
   {
    "duration": 88,
    "start_time": "2023-05-30T09:33:43.364Z"
   },
   {
    "duration": 3,
    "start_time": "2023-05-30T09:33:43.455Z"
   },
   {
    "duration": 27,
    "start_time": "2023-05-30T09:33:43.460Z"
   },
   {
    "duration": 6,
    "start_time": "2023-05-30T09:33:43.488Z"
   },
   {
    "duration": 6,
    "start_time": "2023-05-30T09:33:43.495Z"
   },
   {
    "duration": 5,
    "start_time": "2023-05-30T09:33:43.503Z"
   },
   {
    "duration": 55,
    "start_time": "2023-05-30T09:33:43.510Z"
   },
   {
    "duration": 6,
    "start_time": "2023-05-30T09:33:43.567Z"
   },
   {
    "duration": 10,
    "start_time": "2023-05-30T09:33:43.651Z"
   },
   {
    "duration": 3,
    "start_time": "2023-05-30T11:04:26.197Z"
   },
   {
    "duration": 71,
    "start_time": "2023-05-30T11:04:26.202Z"
   },
   {
    "duration": 17,
    "start_time": "2023-05-30T11:04:26.275Z"
   },
   {
    "duration": 24,
    "start_time": "2023-05-30T11:04:26.294Z"
   },
   {
    "duration": 785,
    "start_time": "2023-05-30T11:04:26.320Z"
   },
   {
    "duration": 6,
    "start_time": "2023-05-30T11:04:27.107Z"
   },
   {
    "duration": 10,
    "start_time": "2023-05-30T11:04:27.115Z"
   },
   {
    "duration": 36,
    "start_time": "2023-05-30T11:04:27.127Z"
   },
   {
    "duration": 5,
    "start_time": "2023-05-30T11:04:27.168Z"
   },
   {
    "duration": 13,
    "start_time": "2023-05-30T11:04:27.175Z"
   },
   {
    "duration": 31,
    "start_time": "2023-05-30T11:04:27.190Z"
   },
   {
    "duration": 35,
    "start_time": "2023-05-30T11:04:27.223Z"
   },
   {
    "duration": 12,
    "start_time": "2023-05-30T11:04:27.260Z"
   },
   {
    "duration": 12,
    "start_time": "2023-05-30T11:04:27.274Z"
   },
   {
    "duration": 66,
    "start_time": "2023-05-30T11:04:27.289Z"
   },
   {
    "duration": 95,
    "start_time": "2023-05-30T11:04:27.357Z"
   },
   {
    "duration": 17,
    "start_time": "2023-05-30T11:04:27.454Z"
   },
   {
    "duration": 14,
    "start_time": "2023-05-30T11:04:27.474Z"
   },
   {
    "duration": 15,
    "start_time": "2023-05-30T11:04:27.489Z"
   },
   {
    "duration": 9,
    "start_time": "2023-05-30T11:04:27.506Z"
   },
   {
    "duration": 12,
    "start_time": "2023-05-30T11:04:27.517Z"
   },
   {
    "duration": 13,
    "start_time": "2023-05-30T11:04:27.530Z"
   },
   {
    "duration": 24,
    "start_time": "2023-05-30T11:04:27.544Z"
   },
   {
    "duration": 80,
    "start_time": "2023-05-30T11:04:27.571Z"
   },
   {
    "duration": 11,
    "start_time": "2023-05-30T11:04:27.653Z"
   },
   {
    "duration": 8,
    "start_time": "2023-05-30T11:04:58.133Z"
   },
   {
    "duration": 13,
    "start_time": "2023-05-30T11:05:02.547Z"
   },
   {
    "duration": 69,
    "start_time": "2023-05-30T11:05:02.569Z"
   },
   {
    "duration": 14,
    "start_time": "2023-05-30T11:05:02.640Z"
   },
   {
    "duration": 33,
    "start_time": "2023-05-30T11:05:02.658Z"
   },
   {
    "duration": 873,
    "start_time": "2023-05-30T11:05:02.693Z"
   },
   {
    "duration": 9,
    "start_time": "2023-05-30T11:05:03.568Z"
   },
   {
    "duration": 36,
    "start_time": "2023-05-30T11:05:03.579Z"
   },
   {
    "duration": 14,
    "start_time": "2023-05-30T11:05:03.617Z"
   },
   {
    "duration": 6,
    "start_time": "2023-05-30T11:05:03.633Z"
   },
   {
    "duration": 20,
    "start_time": "2023-05-30T11:05:03.652Z"
   },
   {
    "duration": 6,
    "start_time": "2023-05-30T11:05:03.677Z"
   },
   {
    "duration": 8,
    "start_time": "2023-05-30T11:05:03.686Z"
   },
   {
    "duration": 17,
    "start_time": "2023-05-30T11:05:03.696Z"
   },
   {
    "duration": 23,
    "start_time": "2023-05-30T11:05:03.715Z"
   },
   {
    "duration": 120,
    "start_time": "2023-05-30T11:05:03.740Z"
   },
   {
    "duration": 18,
    "start_time": "2023-05-30T11:05:03.863Z"
   },
   {
    "duration": 21,
    "start_time": "2023-05-30T11:05:03.883Z"
   },
   {
    "duration": 20,
    "start_time": "2023-05-30T11:05:03.905Z"
   },
   {
    "duration": 33,
    "start_time": "2023-05-30T11:05:03.927Z"
   },
   {
    "duration": 18,
    "start_time": "2023-05-30T11:05:03.962Z"
   },
   {
    "duration": 22,
    "start_time": "2023-05-30T11:05:03.983Z"
   },
   {
    "duration": 9,
    "start_time": "2023-05-30T11:05:04.007Z"
   },
   {
    "duration": 18,
    "start_time": "2023-05-30T11:05:04.018Z"
   },
   {
    "duration": 32,
    "start_time": "2023-05-30T11:05:04.051Z"
   },
   {
    "duration": 88,
    "start_time": "2023-05-30T11:05:04.084Z"
   },
   {
    "duration": 3,
    "start_time": "2023-05-30T11:05:42.192Z"
   },
   {
    "duration": 61,
    "start_time": "2023-05-30T11:05:42.197Z"
   },
   {
    "duration": 17,
    "start_time": "2023-05-30T11:05:42.261Z"
   },
   {
    "duration": 22,
    "start_time": "2023-05-30T11:05:42.281Z"
   },
   {
    "duration": 805,
    "start_time": "2023-05-30T11:05:42.305Z"
   },
   {
    "duration": 7,
    "start_time": "2023-05-30T11:05:43.111Z"
   },
   {
    "duration": 13,
    "start_time": "2023-05-30T11:05:43.120Z"
   },
   {
    "duration": 19,
    "start_time": "2023-05-30T11:05:43.151Z"
   },
   {
    "duration": 8,
    "start_time": "2023-05-30T11:05:43.173Z"
   },
   {
    "duration": 97,
    "start_time": "2023-05-30T11:05:43.185Z"
   },
   {
    "duration": 6,
    "start_time": "2023-05-30T11:05:43.284Z"
   },
   {
    "duration": 7,
    "start_time": "2023-05-30T11:05:43.292Z"
   },
   {
    "duration": 10,
    "start_time": "2023-05-30T11:05:43.301Z"
   },
   {
    "duration": 7,
    "start_time": "2023-05-30T11:05:43.312Z"
   },
   {
    "duration": 32,
    "start_time": "2023-05-30T11:05:43.321Z"
   },
   {
    "duration": 13,
    "start_time": "2023-05-30T11:05:43.355Z"
   },
   {
    "duration": 83,
    "start_time": "2023-05-30T11:05:43.370Z"
   },
   {
    "duration": 4,
    "start_time": "2023-05-30T11:05:43.457Z"
   },
   {
    "duration": 17,
    "start_time": "2023-05-30T11:05:43.462Z"
   },
   {
    "duration": 5,
    "start_time": "2023-05-30T11:05:43.481Z"
   },
   {
    "duration": 8,
    "start_time": "2023-05-30T11:05:43.487Z"
   },
   {
    "duration": 7,
    "start_time": "2023-05-30T11:05:43.497Z"
   },
   {
    "duration": 65,
    "start_time": "2023-05-30T11:05:43.505Z"
   },
   {
    "duration": 5,
    "start_time": "2023-05-30T11:05:43.651Z"
   },
   {
    "duration": 10,
    "start_time": "2023-05-30T11:05:43.658Z"
   },
   {
    "duration": 3,
    "start_time": "2023-05-30T11:06:22.908Z"
   },
   {
    "duration": 69,
    "start_time": "2023-05-30T11:06:22.913Z"
   },
   {
    "duration": 12,
    "start_time": "2023-05-30T11:06:22.984Z"
   },
   {
    "duration": 25,
    "start_time": "2023-05-30T11:06:22.999Z"
   },
   {
    "duration": 705,
    "start_time": "2023-05-30T11:06:23.025Z"
   },
   {
    "duration": 7,
    "start_time": "2023-05-30T11:06:23.732Z"
   },
   {
    "duration": 13,
    "start_time": "2023-05-30T11:06:23.749Z"
   },
   {
    "duration": 22,
    "start_time": "2023-05-30T11:06:23.764Z"
   },
   {
    "duration": 5,
    "start_time": "2023-05-30T11:06:23.788Z"
   },
   {
    "duration": 9,
    "start_time": "2023-05-30T11:06:23.795Z"
   },
   {
    "duration": 7,
    "start_time": "2023-05-30T11:06:23.806Z"
   },
   {
    "duration": 5,
    "start_time": "2023-05-30T11:06:23.815Z"
   },
   {
    "duration": 30,
    "start_time": "2023-05-30T11:06:23.822Z"
   },
   {
    "duration": 24,
    "start_time": "2023-05-30T11:06:23.854Z"
   },
   {
    "duration": 77,
    "start_time": "2023-05-30T11:06:23.881Z"
   },
   {
    "duration": 90,
    "start_time": "2023-05-30T11:06:23.962Z"
   },
   {
    "duration": 16,
    "start_time": "2023-05-30T11:06:24.054Z"
   },
   {
    "duration": 14,
    "start_time": "2023-05-30T11:06:24.073Z"
   },
   {
    "duration": 21,
    "start_time": "2023-05-30T11:06:24.089Z"
   },
   {
    "duration": 9,
    "start_time": "2023-05-30T11:06:24.111Z"
   },
   {
    "duration": 8,
    "start_time": "2023-05-30T11:06:24.122Z"
   },
   {
    "duration": 7,
    "start_time": "2023-05-30T11:06:24.132Z"
   },
   {
    "duration": 38,
    "start_time": "2023-05-30T11:06:24.158Z"
   },
   {
    "duration": 53,
    "start_time": "2023-05-30T11:06:24.198Z"
   },
   {
    "duration": 23,
    "start_time": "2023-05-30T11:06:24.253Z"
   },
   {
    "duration": 8,
    "start_time": "2023-05-30T11:07:40.723Z"
   },
   {
    "duration": 4,
    "start_time": "2023-05-30T11:07:45.539Z"
   },
   {
    "duration": 78,
    "start_time": "2023-05-30T11:07:45.544Z"
   },
   {
    "duration": 12,
    "start_time": "2023-05-30T11:07:45.624Z"
   },
   {
    "duration": 46,
    "start_time": "2023-05-30T11:07:45.638Z"
   },
   {
    "duration": 773,
    "start_time": "2023-05-30T11:07:45.686Z"
   },
   {
    "duration": 15,
    "start_time": "2023-05-30T11:07:46.471Z"
   },
   {
    "duration": 12,
    "start_time": "2023-05-30T11:07:46.488Z"
   },
   {
    "duration": 25,
    "start_time": "2023-05-30T11:07:46.502Z"
   },
   {
    "duration": 6,
    "start_time": "2023-05-30T11:07:46.529Z"
   },
   {
    "duration": 31,
    "start_time": "2023-05-30T11:07:46.537Z"
   },
   {
    "duration": 7,
    "start_time": "2023-05-30T11:07:46.572Z"
   },
   {
    "duration": 7,
    "start_time": "2023-05-30T11:07:46.581Z"
   },
   {
    "duration": 5,
    "start_time": "2023-05-30T11:07:46.591Z"
   },
   {
    "duration": 5,
    "start_time": "2023-05-30T11:07:46.598Z"
   },
   {
    "duration": 67,
    "start_time": "2023-05-30T11:07:46.605Z"
   },
   {
    "duration": 77,
    "start_time": "2023-05-30T11:07:46.674Z"
   },
   {
    "duration": 18,
    "start_time": "2023-05-30T11:07:46.763Z"
   },
   {
    "duration": 25,
    "start_time": "2023-05-30T11:07:46.783Z"
   },
   {
    "duration": 27,
    "start_time": "2023-05-30T11:07:46.810Z"
   },
   {
    "duration": 7,
    "start_time": "2023-05-30T11:07:46.839Z"
   },
   {
    "duration": 18,
    "start_time": "2023-05-30T11:07:46.848Z"
   },
   {
    "duration": 13,
    "start_time": "2023-05-30T11:07:46.868Z"
   },
   {
    "duration": 8,
    "start_time": "2023-05-30T11:07:46.884Z"
   },
   {
    "duration": 69,
    "start_time": "2023-05-30T11:07:46.894Z"
   },
   {
    "duration": 81,
    "start_time": "2023-05-30T11:07:46.973Z"
   },
   {
    "duration": 6,
    "start_time": "2023-05-30T11:08:14.103Z"
   },
   {
    "duration": 84,
    "start_time": "2023-05-30T11:08:14.111Z"
   },
   {
    "duration": 14,
    "start_time": "2023-05-30T11:08:14.197Z"
   },
   {
    "duration": 23,
    "start_time": "2023-05-30T11:08:14.214Z"
   },
   {
    "duration": 876,
    "start_time": "2023-05-30T11:08:14.239Z"
   },
   {
    "duration": 5,
    "start_time": "2023-05-30T11:08:15.117Z"
   },
   {
    "duration": 23,
    "start_time": "2023-05-30T11:08:15.123Z"
   },
   {
    "duration": 33,
    "start_time": "2023-05-30T11:08:15.148Z"
   },
   {
    "duration": 4,
    "start_time": "2023-05-30T11:08:15.183Z"
   },
   {
    "duration": 11,
    "start_time": "2023-05-30T11:08:15.190Z"
   },
   {
    "duration": 6,
    "start_time": "2023-05-30T11:08:15.202Z"
   },
   {
    "duration": 16,
    "start_time": "2023-05-30T11:08:15.210Z"
   },
   {
    "duration": 9,
    "start_time": "2023-05-30T11:08:15.228Z"
   },
   {
    "duration": 44,
    "start_time": "2023-05-30T11:08:15.239Z"
   },
   {
    "duration": 83,
    "start_time": "2023-05-30T11:08:15.287Z"
   },
   {
    "duration": 81,
    "start_time": "2023-05-30T11:08:15.376Z"
   },
   {
    "duration": 16,
    "start_time": "2023-05-30T11:08:15.460Z"
   },
   {
    "duration": 15,
    "start_time": "2023-05-30T11:08:15.478Z"
   },
   {
    "duration": 17,
    "start_time": "2023-05-30T11:08:15.494Z"
   },
   {
    "duration": 5,
    "start_time": "2023-05-30T11:08:15.512Z"
   },
   {
    "duration": 8,
    "start_time": "2023-05-30T11:08:15.518Z"
   },
   {
    "duration": 5,
    "start_time": "2023-05-30T11:08:15.527Z"
   },
   {
    "duration": 30,
    "start_time": "2023-05-30T11:08:15.534Z"
   },
   {
    "duration": 7,
    "start_time": "2023-05-30T11:08:15.567Z"
   },
   {
    "duration": 12,
    "start_time": "2023-05-30T11:08:15.576Z"
   },
   {
    "duration": 61,
    "start_time": "2023-05-30T11:09:28.595Z"
   },
   {
    "duration": 50,
    "start_time": "2023-05-30T11:09:36.955Z"
   },
   {
    "duration": 47,
    "start_time": "2023-05-30T11:09:44.503Z"
   },
   {
    "duration": 13,
    "start_time": "2023-05-30T11:11:48.172Z"
   },
   {
    "duration": 3,
    "start_time": "2023-05-30T11:11:54.917Z"
   },
   {
    "duration": 72,
    "start_time": "2023-05-30T11:11:54.983Z"
   },
   {
    "duration": 17,
    "start_time": "2023-05-30T11:11:55.057Z"
   },
   {
    "duration": 30,
    "start_time": "2023-05-30T11:11:55.077Z"
   },
   {
    "duration": 820,
    "start_time": "2023-05-30T11:11:55.109Z"
   },
   {
    "duration": 7,
    "start_time": "2023-05-30T11:11:55.932Z"
   },
   {
    "duration": 7,
    "start_time": "2023-05-30T11:11:55.953Z"
   },
   {
    "duration": 24,
    "start_time": "2023-05-30T11:11:55.961Z"
   },
   {
    "duration": 5,
    "start_time": "2023-05-30T11:11:55.988Z"
   },
   {
    "duration": 11,
    "start_time": "2023-05-30T11:11:55.995Z"
   },
   {
    "duration": 6,
    "start_time": "2023-05-30T11:11:56.008Z"
   },
   {
    "duration": 9,
    "start_time": "2023-05-30T11:11:56.016Z"
   },
   {
    "duration": 25,
    "start_time": "2023-05-30T11:11:56.027Z"
   },
   {
    "duration": 25,
    "start_time": "2023-05-30T11:11:56.053Z"
   },
   {
    "duration": 10,
    "start_time": "2023-05-30T11:11:56.086Z"
   },
   {
    "duration": 20,
    "start_time": "2023-05-30T11:11:56.152Z"
   },
   {
    "duration": 74,
    "start_time": "2023-05-30T11:11:56.178Z"
   },
   {
    "duration": 5,
    "start_time": "2023-05-30T11:11:56.255Z"
   },
   {
    "duration": 25,
    "start_time": "2023-05-30T11:11:56.262Z"
   },
   {
    "duration": 7,
    "start_time": "2023-05-30T11:11:56.289Z"
   },
   {
    "duration": 5,
    "start_time": "2023-05-30T11:11:56.302Z"
   },
   {
    "duration": 7,
    "start_time": "2023-05-30T11:11:56.309Z"
   },
   {
    "duration": 47,
    "start_time": "2023-05-30T11:11:56.318Z"
   },
   {
    "duration": 13,
    "start_time": "2023-05-30T11:11:56.367Z"
   },
   {
    "duration": 86,
    "start_time": "2023-05-30T11:11:56.381Z"
   },
   {
    "duration": 4,
    "start_time": "2023-05-30T11:12:31.024Z"
   },
   {
    "duration": 110,
    "start_time": "2023-05-30T11:12:31.030Z"
   },
   {
    "duration": 22,
    "start_time": "2023-05-30T11:12:31.142Z"
   },
   {
    "duration": 73,
    "start_time": "2023-05-30T11:12:31.166Z"
   },
   {
    "duration": 780,
    "start_time": "2023-05-30T11:12:31.241Z"
   },
   {
    "duration": 6,
    "start_time": "2023-05-30T11:12:32.024Z"
   },
   {
    "duration": 24,
    "start_time": "2023-05-30T11:12:32.032Z"
   },
   {
    "duration": 28,
    "start_time": "2023-05-30T11:12:32.058Z"
   },
   {
    "duration": 28,
    "start_time": "2023-05-30T11:12:32.088Z"
   },
   {
    "duration": 37,
    "start_time": "2023-05-30T11:12:32.118Z"
   },
   {
    "duration": 24,
    "start_time": "2023-05-30T11:12:32.157Z"
   },
   {
    "duration": 21,
    "start_time": "2023-05-30T11:12:32.184Z"
   },
   {
    "duration": 15,
    "start_time": "2023-05-30T11:12:32.207Z"
   },
   {
    "duration": 48,
    "start_time": "2023-05-30T11:12:32.225Z"
   },
   {
    "duration": 83,
    "start_time": "2023-05-30T11:12:32.275Z"
   },
   {
    "duration": 94,
    "start_time": "2023-05-30T11:12:32.360Z"
   },
   {
    "duration": 34,
    "start_time": "2023-05-30T11:12:32.457Z"
   },
   {
    "duration": 6,
    "start_time": "2023-05-30T11:12:32.493Z"
   },
   {
    "duration": 12,
    "start_time": "2023-05-30T11:12:32.501Z"
   },
   {
    "duration": 6,
    "start_time": "2023-05-30T11:12:32.515Z"
   },
   {
    "duration": 5,
    "start_time": "2023-05-30T11:12:32.523Z"
   },
   {
    "duration": 40,
    "start_time": "2023-05-30T11:12:32.530Z"
   },
   {
    "duration": 23,
    "start_time": "2023-05-30T11:12:32.572Z"
   },
   {
    "duration": 3,
    "start_time": "2023-05-30T11:12:32.597Z"
   },
   {
    "duration": 84,
    "start_time": "2023-05-30T11:12:32.602Z"
   },
   {
    "duration": 11,
    "start_time": "2023-05-30T11:12:54.419Z"
   },
   {
    "duration": 4,
    "start_time": "2023-05-30T11:12:59.594Z"
   },
   {
    "duration": 76,
    "start_time": "2023-05-30T11:12:59.601Z"
   },
   {
    "duration": 12,
    "start_time": "2023-05-30T11:12:59.679Z"
   },
   {
    "duration": 22,
    "start_time": "2023-05-30T11:12:59.694Z"
   },
   {
    "duration": 773,
    "start_time": "2023-05-30T11:12:59.718Z"
   },
   {
    "duration": 7,
    "start_time": "2023-05-30T11:13:00.493Z"
   },
   {
    "duration": 56,
    "start_time": "2023-05-30T11:13:00.502Z"
   },
   {
    "duration": 88,
    "start_time": "2023-05-30T11:13:00.560Z"
   },
   {
    "duration": 51,
    "start_time": "2023-05-30T11:13:00.650Z"
   },
   {
    "duration": 61,
    "start_time": "2023-05-30T11:13:00.705Z"
   },
   {
    "duration": 60,
    "start_time": "2023-05-30T11:13:00.768Z"
   },
   {
    "duration": 44,
    "start_time": "2023-05-30T11:13:00.830Z"
   },
   {
    "duration": 57,
    "start_time": "2023-05-30T11:13:00.877Z"
   },
   {
    "duration": 65,
    "start_time": "2023-05-30T11:13:00.936Z"
   },
   {
    "duration": 150,
    "start_time": "2023-05-30T11:13:01.003Z"
   },
   {
    "duration": 10,
    "start_time": "2023-05-30T11:13:01.156Z"
   },
   {
    "duration": 87,
    "start_time": "2023-05-30T11:13:01.169Z"
   },
   {
    "duration": 56,
    "start_time": "2023-05-30T11:13:01.262Z"
   },
   {
    "duration": 65,
    "start_time": "2023-05-30T11:13:01.320Z"
   },
   {
    "duration": 203,
    "start_time": "2023-05-30T11:13:01.387Z"
   },
   {
    "duration": 5,
    "start_time": "2023-05-30T11:13:01.592Z"
   },
   {
    "duration": 29,
    "start_time": "2023-05-30T11:13:01.599Z"
   },
   {
    "duration": 50,
    "start_time": "2023-05-30T11:13:01.629Z"
   },
   {
    "duration": 79,
    "start_time": "2023-05-30T11:13:01.687Z"
   },
   {
    "duration": 99,
    "start_time": "2023-05-30T11:13:01.768Z"
   },
   {
    "duration": 10,
    "start_time": "2023-05-30T11:13:36.665Z"
   },
   {
    "duration": 4,
    "start_time": "2023-05-30T11:14:07.518Z"
   },
   {
    "duration": 99,
    "start_time": "2023-05-30T11:14:07.524Z"
   },
   {
    "duration": 11,
    "start_time": "2023-05-30T11:14:07.625Z"
   },
   {
    "duration": 31,
    "start_time": "2023-05-30T11:14:07.639Z"
   },
   {
    "duration": 779,
    "start_time": "2023-05-30T11:14:07.672Z"
   },
   {
    "duration": 24,
    "start_time": "2023-05-30T11:14:08.453Z"
   },
   {
    "duration": 3,
    "start_time": "2023-05-30T11:14:08.483Z"
   },
   {
    "duration": 22,
    "start_time": "2023-05-30T11:14:08.487Z"
   },
   {
    "duration": 4,
    "start_time": "2023-05-30T11:14:08.511Z"
   },
   {
    "duration": 15,
    "start_time": "2023-05-30T11:14:08.517Z"
   },
   {
    "duration": 19,
    "start_time": "2023-05-30T11:14:08.534Z"
   },
   {
    "duration": 7,
    "start_time": "2023-05-30T11:14:08.555Z"
   },
   {
    "duration": 7,
    "start_time": "2023-05-30T11:14:08.565Z"
   },
   {
    "duration": 10,
    "start_time": "2023-05-30T11:14:08.574Z"
   },
   {
    "duration": 67,
    "start_time": "2023-05-30T11:14:08.585Z"
   },
   {
    "duration": 12,
    "start_time": "2023-05-30T11:14:08.655Z"
   },
   {
    "duration": 84,
    "start_time": "2023-05-30T11:14:08.669Z"
   },
   {
    "duration": 3,
    "start_time": "2023-05-30T11:14:08.755Z"
   },
   {
    "duration": 15,
    "start_time": "2023-05-30T11:14:08.761Z"
   },
   {
    "duration": 8,
    "start_time": "2023-05-30T11:14:08.778Z"
   },
   {
    "duration": 11,
    "start_time": "2023-05-30T11:14:08.788Z"
   },
   {
    "duration": 6,
    "start_time": "2023-05-30T11:14:08.801Z"
   },
   {
    "duration": 61,
    "start_time": "2023-05-30T11:14:08.809Z"
   },
   {
    "duration": 80,
    "start_time": "2023-05-30T11:14:08.872Z"
   },
   {
    "duration": 16,
    "start_time": "2023-05-30T11:14:08.954Z"
   },
   {
    "duration": 7,
    "start_time": "2023-05-30T11:14:45.175Z"
   },
   {
    "duration": 5,
    "start_time": "2023-05-30T11:14:53.071Z"
   },
   {
    "duration": 107,
    "start_time": "2023-05-30T11:14:53.078Z"
   },
   {
    "duration": 13,
    "start_time": "2023-05-30T11:14:53.187Z"
   },
   {
    "duration": 32,
    "start_time": "2023-05-30T11:14:53.202Z"
   },
   {
    "duration": 709,
    "start_time": "2023-05-30T11:14:53.237Z"
   },
   {
    "duration": 10,
    "start_time": "2023-05-30T11:14:53.950Z"
   },
   {
    "duration": 3,
    "start_time": "2023-05-30T11:14:53.962Z"
   },
   {
    "duration": 17,
    "start_time": "2023-05-30T11:14:53.968Z"
   },
   {
    "duration": 4,
    "start_time": "2023-05-30T11:14:53.987Z"
   },
   {
    "duration": 16,
    "start_time": "2023-05-30T11:14:53.993Z"
   },
   {
    "duration": 12,
    "start_time": "2023-05-30T11:14:54.010Z"
   },
   {
    "duration": 44,
    "start_time": "2023-05-30T11:14:54.024Z"
   },
   {
    "duration": 14,
    "start_time": "2023-05-30T11:14:54.071Z"
   },
   {
    "duration": 19,
    "start_time": "2023-05-30T11:14:54.090Z"
   },
   {
    "duration": 52,
    "start_time": "2023-05-30T11:14:54.112Z"
   },
   {
    "duration": 85,
    "start_time": "2023-05-30T11:14:54.168Z"
   },
   {
    "duration": 17,
    "start_time": "2023-05-30T11:14:54.254Z"
   },
   {
    "duration": 34,
    "start_time": "2023-05-30T11:14:54.274Z"
   },
   {
    "duration": 16,
    "start_time": "2023-05-30T11:14:54.310Z"
   },
   {
    "duration": 11,
    "start_time": "2023-05-30T11:14:54.329Z"
   },
   {
    "duration": 5,
    "start_time": "2023-05-30T11:14:54.343Z"
   },
   {
    "duration": 28,
    "start_time": "2023-05-30T11:14:54.352Z"
   },
   {
    "duration": 21,
    "start_time": "2023-05-30T11:14:54.383Z"
   },
   {
    "duration": 53,
    "start_time": "2023-05-30T11:14:54.406Z"
   },
   {
    "duration": 96,
    "start_time": "2023-05-30T11:14:54.464Z"
   },
   {
    "duration": 5,
    "start_time": "2023-05-30T11:15:08.604Z"
   },
   {
    "duration": 6,
    "start_time": "2023-05-30T11:15:31.674Z"
   },
   {
    "duration": 126,
    "start_time": "2023-05-30T11:15:57.784Z"
   },
   {
    "duration": 15,
    "start_time": "2023-05-30T11:16:27.954Z"
   },
   {
    "duration": 5,
    "start_time": "2023-05-30T11:16:37.000Z"
   },
   {
    "duration": 4,
    "start_time": "2023-05-30T11:16:42.184Z"
   },
   {
    "duration": 63,
    "start_time": "2023-05-30T11:16:42.190Z"
   },
   {
    "duration": 21,
    "start_time": "2023-05-30T11:16:42.261Z"
   },
   {
    "duration": 21,
    "start_time": "2023-05-30T11:16:42.284Z"
   },
   {
    "duration": 772,
    "start_time": "2023-05-30T11:16:42.307Z"
   },
   {
    "duration": 7,
    "start_time": "2023-05-30T11:16:43.082Z"
   },
   {
    "duration": 2,
    "start_time": "2023-05-30T11:16:43.091Z"
   },
   {
    "duration": 17,
    "start_time": "2023-05-30T11:16:43.095Z"
   },
   {
    "duration": 4,
    "start_time": "2023-05-30T11:16:43.113Z"
   },
   {
    "duration": 8,
    "start_time": "2023-05-30T11:16:43.119Z"
   },
   {
    "duration": 32,
    "start_time": "2023-05-30T11:16:43.129Z"
   },
   {
    "duration": 9,
    "start_time": "2023-05-30T11:16:43.171Z"
   },
   {
    "duration": 5,
    "start_time": "2023-05-30T11:16:43.183Z"
   },
   {
    "duration": 12,
    "start_time": "2023-05-30T11:16:43.191Z"
   },
   {
    "duration": 65,
    "start_time": "2023-05-30T11:16:43.204Z"
   },
   {
    "duration": 83,
    "start_time": "2023-05-30T11:16:43.276Z"
   },
   {
    "duration": 20,
    "start_time": "2023-05-30T11:16:43.360Z"
   },
   {
    "duration": 4,
    "start_time": "2023-05-30T11:16:43.382Z"
   },
   {
    "duration": 7,
    "start_time": "2023-05-30T11:16:43.388Z"
   },
   {
    "duration": 5,
    "start_time": "2023-05-30T11:16:43.397Z"
   },
   {
    "duration": 5,
    "start_time": "2023-05-30T11:16:43.403Z"
   },
   {
    "duration": 7,
    "start_time": "2023-05-30T11:16:43.410Z"
   },
   {
    "duration": 42,
    "start_time": "2023-05-30T11:16:43.418Z"
   },
   {
    "duration": 16,
    "start_time": "2023-05-30T11:16:43.466Z"
   },
   {
    "duration": 93,
    "start_time": "2023-05-30T11:16:43.484Z"
   },
   {
    "duration": 7,
    "start_time": "2023-05-30T11:16:59.075Z"
   },
   {
    "duration": 4,
    "start_time": "2023-05-30T11:18:17.311Z"
   },
   {
    "duration": 12,
    "start_time": "2023-05-30T11:18:22.033Z"
   },
   {
    "duration": 3,
    "start_time": "2023-05-30T11:18:30.903Z"
   },
   {
    "duration": 120,
    "start_time": "2023-05-30T11:18:30.908Z"
   },
   {
    "duration": 14,
    "start_time": "2023-05-30T11:18:31.030Z"
   },
   {
    "duration": 100,
    "start_time": "2023-05-30T11:18:31.046Z"
   },
   {
    "duration": 893,
    "start_time": "2023-05-30T11:18:31.149Z"
   },
   {
    "duration": 17,
    "start_time": "2023-05-30T11:18:32.051Z"
   },
   {
    "duration": 6,
    "start_time": "2023-05-30T11:18:32.075Z"
   },
   {
    "duration": 34,
    "start_time": "2023-05-30T11:18:32.082Z"
   },
   {
    "duration": 12,
    "start_time": "2023-05-30T11:18:32.118Z"
   },
   {
    "duration": 43,
    "start_time": "2023-05-30T11:18:32.133Z"
   },
   {
    "duration": 5,
    "start_time": "2023-05-30T11:18:32.181Z"
   },
   {
    "duration": 29,
    "start_time": "2023-05-30T11:18:32.187Z"
   },
   {
    "duration": 6,
    "start_time": "2023-05-30T11:18:32.218Z"
   },
   {
    "duration": 15,
    "start_time": "2023-05-30T11:18:32.226Z"
   },
   {
    "duration": 43,
    "start_time": "2023-05-30T11:18:32.250Z"
   },
   {
    "duration": 128,
    "start_time": "2023-05-30T11:18:32.295Z"
   },
   {
    "duration": 54,
    "start_time": "2023-05-30T11:18:32.425Z"
   },
   {
    "duration": 3,
    "start_time": "2023-05-30T11:18:32.481Z"
   },
   {
    "duration": 22,
    "start_time": "2023-05-30T11:18:32.486Z"
   },
   {
    "duration": 5,
    "start_time": "2023-05-30T11:18:32.510Z"
   },
   {
    "duration": 15,
    "start_time": "2023-05-30T11:18:32.517Z"
   },
   {
    "duration": 6,
    "start_time": "2023-05-30T11:18:32.534Z"
   },
   {
    "duration": 32,
    "start_time": "2023-05-30T11:18:32.543Z"
   },
   {
    "duration": 8,
    "start_time": "2023-05-30T11:18:32.578Z"
   },
   {
    "duration": 71,
    "start_time": "2023-05-30T11:18:32.588Z"
   },
   {
    "duration": 7,
    "start_time": "2023-05-30T11:19:33.480Z"
   },
   {
    "duration": 4,
    "start_time": "2023-05-30T11:19:47.775Z"
   },
   {
    "duration": 82,
    "start_time": "2023-05-30T11:19:47.781Z"
   },
   {
    "duration": 15,
    "start_time": "2023-05-30T11:19:47.870Z"
   },
   {
    "duration": 23,
    "start_time": "2023-05-30T11:19:47.886Z"
   },
   {
    "duration": 795,
    "start_time": "2023-05-30T11:19:47.911Z"
   },
   {
    "duration": 7,
    "start_time": "2023-05-30T11:19:48.708Z"
   },
   {
    "duration": 3,
    "start_time": "2023-05-30T11:19:48.716Z"
   },
   {
    "duration": 44,
    "start_time": "2023-05-30T11:19:48.721Z"
   },
   {
    "duration": 6,
    "start_time": "2023-05-30T11:19:48.771Z"
   },
   {
    "duration": 15,
    "start_time": "2023-05-30T11:19:48.779Z"
   },
   {
    "duration": 13,
    "start_time": "2023-05-30T11:19:48.796Z"
   },
   {
    "duration": 14,
    "start_time": "2023-05-30T11:19:48.811Z"
   },
   {
    "duration": 21,
    "start_time": "2023-05-30T11:19:48.827Z"
   },
   {
    "duration": 29,
    "start_time": "2023-05-30T11:19:48.851Z"
   },
   {
    "duration": 84,
    "start_time": "2023-05-30T11:19:48.882Z"
   },
   {
    "duration": 104,
    "start_time": "2023-05-30T11:19:48.967Z"
   },
   {
    "duration": 10,
    "start_time": "2023-05-30T11:19:49.076Z"
   },
   {
    "duration": 13,
    "start_time": "2023-05-30T11:19:49.088Z"
   },
   {
    "duration": 10,
    "start_time": "2023-05-30T11:19:49.103Z"
   },
   {
    "duration": 5,
    "start_time": "2023-05-30T11:19:49.114Z"
   },
   {
    "duration": 4,
    "start_time": "2023-05-30T11:19:49.121Z"
   },
   {
    "duration": 4,
    "start_time": "2023-05-30T11:19:49.127Z"
   },
   {
    "duration": 50,
    "start_time": "2023-05-30T11:19:49.133Z"
   },
   {
    "duration": 6,
    "start_time": "2023-05-30T11:19:49.251Z"
   },
   {
    "duration": 19,
    "start_time": "2023-05-30T11:19:49.259Z"
   },
   {
    "duration": 9,
    "start_time": "2023-05-30T11:21:36.608Z"
   },
   {
    "duration": 5,
    "start_time": "2023-05-30T11:22:01.531Z"
   },
   {
    "duration": 94,
    "start_time": "2023-05-30T11:22:01.538Z"
   },
   {
    "duration": 10,
    "start_time": "2023-05-30T11:22:01.634Z"
   },
   {
    "duration": 57,
    "start_time": "2023-05-30T11:22:01.646Z"
   },
   {
    "duration": 782,
    "start_time": "2023-05-30T11:22:01.705Z"
   },
   {
    "duration": 6,
    "start_time": "2023-05-30T11:22:02.496Z"
   },
   {
    "duration": 9,
    "start_time": "2023-05-30T11:22:02.503Z"
   },
   {
    "duration": 22,
    "start_time": "2023-05-30T11:22:02.514Z"
   },
   {
    "duration": 4,
    "start_time": "2023-05-30T11:22:02.538Z"
   },
   {
    "duration": 25,
    "start_time": "2023-05-30T11:22:02.544Z"
   },
   {
    "duration": 15,
    "start_time": "2023-05-30T11:22:02.573Z"
   },
   {
    "duration": 14,
    "start_time": "2023-05-30T11:22:02.590Z"
   },
   {
    "duration": 15,
    "start_time": "2023-05-30T11:22:02.605Z"
   },
   {
    "duration": 7,
    "start_time": "2023-05-30T11:22:02.621Z"
   },
   {
    "duration": 24,
    "start_time": "2023-05-30T11:22:02.630Z"
   },
   {
    "duration": 31,
    "start_time": "2023-05-30T11:22:02.656Z"
   },
   {
    "duration": 75,
    "start_time": "2023-05-30T11:22:02.689Z"
   },
   {
    "duration": 30,
    "start_time": "2023-05-30T11:22:02.766Z"
   },
   {
    "duration": 19,
    "start_time": "2023-05-30T11:22:02.797Z"
   },
   {
    "duration": 11,
    "start_time": "2023-05-30T11:22:02.817Z"
   },
   {
    "duration": 13,
    "start_time": "2023-05-30T11:22:02.829Z"
   },
   {
    "duration": 23,
    "start_time": "2023-05-30T11:22:02.843Z"
   },
   {
    "duration": 23,
    "start_time": "2023-05-30T11:22:02.868Z"
   },
   {
    "duration": 3,
    "start_time": "2023-05-30T11:22:02.895Z"
   },
   {
    "duration": 64,
    "start_time": "2023-05-30T11:22:02.900Z"
   },
   {
    "duration": 8,
    "start_time": "2023-05-30T11:25:03.989Z"
   },
   {
    "duration": 5,
    "start_time": "2023-05-30T11:25:37.677Z"
   },
   {
    "duration": 73,
    "start_time": "2023-05-30T11:25:37.685Z"
   },
   {
    "duration": 23,
    "start_time": "2023-05-30T11:25:37.762Z"
   },
   {
    "duration": 22,
    "start_time": "2023-05-30T11:25:37.788Z"
   },
   {
    "duration": 752,
    "start_time": "2023-05-30T11:25:37.812Z"
   },
   {
    "duration": 8,
    "start_time": "2023-05-30T11:25:38.569Z"
   },
   {
    "duration": 9,
    "start_time": "2023-05-30T11:25:38.579Z"
   },
   {
    "duration": 14,
    "start_time": "2023-05-30T11:25:38.589Z"
   },
   {
    "duration": 4,
    "start_time": "2023-05-30T11:25:38.604Z"
   },
   {
    "duration": 10,
    "start_time": "2023-05-30T11:25:38.610Z"
   },
   {
    "duration": 5,
    "start_time": "2023-05-30T11:25:38.621Z"
   },
   {
    "duration": 7,
    "start_time": "2023-05-30T11:25:38.628Z"
   },
   {
    "duration": 28,
    "start_time": "2023-05-30T11:25:38.636Z"
   },
   {
    "duration": 24,
    "start_time": "2023-05-30T11:25:38.666Z"
   },
   {
    "duration": 67,
    "start_time": "2023-05-30T11:25:38.692Z"
   },
   {
    "duration": 98,
    "start_time": "2023-05-30T11:25:38.761Z"
   },
   {
    "duration": 13,
    "start_time": "2023-05-30T11:25:38.867Z"
   },
   {
    "duration": 7,
    "start_time": "2023-05-30T11:25:38.882Z"
   },
   {
    "duration": 18,
    "start_time": "2023-05-30T11:25:38.891Z"
   },
   {
    "duration": 5,
    "start_time": "2023-05-30T11:25:38.911Z"
   },
   {
    "duration": 4,
    "start_time": "2023-05-30T11:25:38.918Z"
   },
   {
    "duration": 4,
    "start_time": "2023-05-30T11:25:38.924Z"
   },
   {
    "duration": 35,
    "start_time": "2023-05-30T11:25:38.929Z"
   },
   {
    "duration": 7,
    "start_time": "2023-05-30T11:25:38.965Z"
   },
   {
    "duration": 86,
    "start_time": "2023-05-30T11:25:38.974Z"
   },
   {
    "duration": 4,
    "start_time": "2023-05-30T11:26:58.973Z"
   },
   {
    "duration": 66,
    "start_time": "2023-05-30T11:26:58.979Z"
   },
   {
    "duration": 14,
    "start_time": "2023-05-30T11:26:59.046Z"
   },
   {
    "duration": 27,
    "start_time": "2023-05-30T11:26:59.062Z"
   },
   {
    "duration": 836,
    "start_time": "2023-05-30T11:26:59.091Z"
   },
   {
    "duration": 6,
    "start_time": "2023-05-30T11:26:59.928Z"
   },
   {
    "duration": 17,
    "start_time": "2023-05-30T11:26:59.936Z"
   },
   {
    "duration": 20,
    "start_time": "2023-05-30T11:26:59.955Z"
   },
   {
    "duration": 15,
    "start_time": "2023-05-30T11:26:59.977Z"
   },
   {
    "duration": 18,
    "start_time": "2023-05-30T11:26:59.994Z"
   },
   {
    "duration": 27,
    "start_time": "2023-05-30T11:27:00.014Z"
   },
   {
    "duration": 24,
    "start_time": "2023-05-30T11:27:00.043Z"
   },
   {
    "duration": 23,
    "start_time": "2023-05-30T11:27:00.069Z"
   },
   {
    "duration": 30,
    "start_time": "2023-05-30T11:27:00.094Z"
   },
   {
    "duration": 33,
    "start_time": "2023-05-30T11:27:00.127Z"
   },
   {
    "duration": 91,
    "start_time": "2023-05-30T11:27:00.166Z"
   },
   {
    "duration": 33,
    "start_time": "2023-05-30T11:27:00.259Z"
   },
   {
    "duration": 41,
    "start_time": "2023-05-30T11:27:00.293Z"
   },
   {
    "duration": 48,
    "start_time": "2023-05-30T11:27:00.336Z"
   },
   {
    "duration": 22,
    "start_time": "2023-05-30T11:27:00.386Z"
   },
   {
    "duration": 25,
    "start_time": "2023-05-30T11:27:00.409Z"
   },
   {
    "duration": 38,
    "start_time": "2023-05-30T11:27:00.436Z"
   },
   {
    "duration": 23,
    "start_time": "2023-05-30T11:27:00.476Z"
   },
   {
    "duration": 54,
    "start_time": "2023-05-30T11:27:00.501Z"
   },
   {
    "duration": 109,
    "start_time": "2023-05-30T11:27:00.558Z"
   },
   {
    "duration": 10,
    "start_time": "2023-05-30T11:28:22.881Z"
   },
   {
    "duration": 4,
    "start_time": "2023-05-30T11:28:27.797Z"
   },
   {
    "duration": 91,
    "start_time": "2023-05-30T11:28:27.803Z"
   },
   {
    "duration": 10,
    "start_time": "2023-05-30T11:28:27.896Z"
   },
   {
    "duration": 26,
    "start_time": "2023-05-30T11:28:27.908Z"
   },
   {
    "duration": 766,
    "start_time": "2023-05-30T11:28:27.936Z"
   },
   {
    "duration": 6,
    "start_time": "2023-05-30T11:28:28.704Z"
   },
   {
    "duration": 20,
    "start_time": "2023-05-30T11:28:28.711Z"
   },
   {
    "duration": 28,
    "start_time": "2023-05-30T11:28:28.732Z"
   },
   {
    "duration": 8,
    "start_time": "2023-05-30T11:28:28.764Z"
   },
   {
    "duration": 13,
    "start_time": "2023-05-30T11:28:28.776Z"
   },
   {
    "duration": 11,
    "start_time": "2023-05-30T11:28:28.790Z"
   },
   {
    "duration": 13,
    "start_time": "2023-05-30T11:28:28.803Z"
   },
   {
    "duration": 12,
    "start_time": "2023-05-30T11:28:28.817Z"
   },
   {
    "duration": 31,
    "start_time": "2023-05-30T11:28:28.830Z"
   },
   {
    "duration": 19,
    "start_time": "2023-05-30T11:28:28.863Z"
   },
   {
    "duration": 82,
    "start_time": "2023-05-30T11:28:28.886Z"
   },
   {
    "duration": 15,
    "start_time": "2023-05-30T11:28:28.970Z"
   },
   {
    "duration": 6,
    "start_time": "2023-05-30T11:28:28.992Z"
   },
   {
    "duration": 17,
    "start_time": "2023-05-30T11:28:29.000Z"
   },
   {
    "duration": 6,
    "start_time": "2023-05-30T11:28:29.019Z"
   },
   {
    "duration": 5,
    "start_time": "2023-05-30T11:28:29.027Z"
   },
   {
    "duration": 36,
    "start_time": "2023-05-30T11:28:29.034Z"
   },
   {
    "duration": 10,
    "start_time": "2023-05-30T11:28:29.074Z"
   },
   {
    "duration": 4,
    "start_time": "2023-05-30T11:28:29.086Z"
   },
   {
    "duration": 85,
    "start_time": "2023-05-30T11:28:29.091Z"
   },
   {
    "duration": 20,
    "start_time": "2023-05-30T11:28:45.841Z"
   },
   {
    "duration": 5,
    "start_time": "2023-05-30T11:28:53.731Z"
   },
   {
    "duration": 104,
    "start_time": "2023-05-30T11:28:53.738Z"
   },
   {
    "duration": 16,
    "start_time": "2023-05-30T11:28:53.843Z"
   },
   {
    "duration": 37,
    "start_time": "2023-05-30T11:28:53.862Z"
   },
   {
    "duration": 967,
    "start_time": "2023-05-30T11:28:53.901Z"
   },
   {
    "duration": 11,
    "start_time": "2023-05-30T11:28:54.872Z"
   },
   {
    "duration": 5,
    "start_time": "2023-05-30T11:28:54.885Z"
   },
   {
    "duration": 19,
    "start_time": "2023-05-30T11:28:54.893Z"
   },
   {
    "duration": 3,
    "start_time": "2023-05-30T11:28:54.914Z"
   },
   {
    "duration": 16,
    "start_time": "2023-05-30T11:28:54.920Z"
   },
   {
    "duration": 13,
    "start_time": "2023-05-30T11:28:54.954Z"
   },
   {
    "duration": 26,
    "start_time": "2023-05-30T11:28:54.969Z"
   },
   {
    "duration": 6,
    "start_time": "2023-05-30T11:28:54.998Z"
   },
   {
    "duration": 21,
    "start_time": "2023-05-30T11:28:55.007Z"
   },
   {
    "duration": 28,
    "start_time": "2023-05-30T11:28:55.031Z"
   },
   {
    "duration": 23,
    "start_time": "2023-05-30T11:28:55.061Z"
   },
   {
    "duration": 83,
    "start_time": "2023-05-30T11:28:55.087Z"
   },
   {
    "duration": 4,
    "start_time": "2023-05-30T11:28:55.172Z"
   },
   {
    "duration": 14,
    "start_time": "2023-05-30T11:28:55.179Z"
   },
   {
    "duration": 4,
    "start_time": "2023-05-30T11:28:55.195Z"
   },
   {
    "duration": 5,
    "start_time": "2023-05-30T11:28:55.201Z"
   },
   {
    "duration": 7,
    "start_time": "2023-05-30T11:28:55.207Z"
   },
   {
    "duration": 42,
    "start_time": "2023-05-30T11:28:55.215Z"
   },
   {
    "duration": 8,
    "start_time": "2023-05-30T11:28:55.261Z"
   },
   {
    "duration": 87,
    "start_time": "2023-05-30T11:28:55.271Z"
   },
   {
    "duration": 14,
    "start_time": "2023-05-30T11:30:49.177Z"
   },
   {
    "duration": 7,
    "start_time": "2023-05-30T11:30:54.182Z"
   },
   {
    "duration": 93,
    "start_time": "2023-05-30T11:30:54.192Z"
   },
   {
    "duration": 14,
    "start_time": "2023-05-30T11:30:54.287Z"
   },
   {
    "duration": 28,
    "start_time": "2023-05-30T11:30:54.303Z"
   },
   {
    "duration": 788,
    "start_time": "2023-05-30T11:30:54.333Z"
   },
   {
    "duration": 6,
    "start_time": "2023-05-30T11:30:55.123Z"
   },
   {
    "duration": 46,
    "start_time": "2023-05-30T11:30:55.131Z"
   },
   {
    "duration": 90,
    "start_time": "2023-05-30T11:30:55.180Z"
   },
   {
    "duration": 8,
    "start_time": "2023-05-30T11:30:55.287Z"
   },
   {
    "duration": 13,
    "start_time": "2023-05-30T11:30:55.297Z"
   },
   {
    "duration": 6,
    "start_time": "2023-05-30T11:30:55.312Z"
   },
   {
    "duration": 5,
    "start_time": "2023-05-30T11:30:55.320Z"
   },
   {
    "duration": 11,
    "start_time": "2023-05-30T11:30:55.326Z"
   },
   {
    "duration": 12,
    "start_time": "2023-05-30T11:30:55.341Z"
   },
   {
    "duration": 18,
    "start_time": "2023-05-30T11:30:55.355Z"
   },
   {
    "duration": 16,
    "start_time": "2023-05-30T11:30:55.376Z"
   },
   {
    "duration": 80,
    "start_time": "2023-05-30T11:30:55.395Z"
   },
   {
    "duration": 5,
    "start_time": "2023-05-30T11:30:55.477Z"
   },
   {
    "duration": 21,
    "start_time": "2023-05-30T11:30:55.484Z"
   },
   {
    "duration": 13,
    "start_time": "2023-05-30T11:30:55.508Z"
   },
   {
    "duration": 50,
    "start_time": "2023-05-30T11:30:55.524Z"
   },
   {
    "duration": 145,
    "start_time": "2023-05-30T11:30:55.576Z"
   },
   {
    "duration": 9,
    "start_time": "2023-05-30T11:30:55.723Z"
   },
   {
    "duration": 7,
    "start_time": "2023-05-30T11:30:55.752Z"
   },
   {
    "duration": 29,
    "start_time": "2023-05-30T11:30:55.761Z"
   },
   {
    "duration": 16,
    "start_time": "2023-05-30T11:31:18.388Z"
   },
   {
    "duration": 12,
    "start_time": "2023-05-30T11:31:43.291Z"
   },
   {
    "duration": 4,
    "start_time": "2023-05-30T11:31:48.886Z"
   },
   {
    "duration": 74,
    "start_time": "2023-05-30T11:31:48.893Z"
   },
   {
    "duration": 20,
    "start_time": "2023-05-30T11:31:48.969Z"
   },
   {
    "duration": 28,
    "start_time": "2023-05-30T11:31:48.991Z"
   },
   {
    "duration": 772,
    "start_time": "2023-05-30T11:31:49.022Z"
   },
   {
    "duration": 7,
    "start_time": "2023-05-30T11:31:49.797Z"
   },
   {
    "duration": 3,
    "start_time": "2023-05-30T11:31:49.806Z"
   },
   {
    "duration": 19,
    "start_time": "2023-05-30T11:31:49.811Z"
   },
   {
    "duration": 16,
    "start_time": "2023-05-30T11:31:49.850Z"
   },
   {
    "duration": 19,
    "start_time": "2023-05-30T11:31:49.867Z"
   },
   {
    "duration": 4,
    "start_time": "2023-05-30T11:31:49.889Z"
   },
   {
    "duration": 7,
    "start_time": "2023-05-30T11:31:49.895Z"
   },
   {
    "duration": 8,
    "start_time": "2023-05-30T11:31:49.903Z"
   },
   {
    "duration": 8,
    "start_time": "2023-05-30T11:31:49.913Z"
   },
   {
    "duration": 11,
    "start_time": "2023-05-30T11:31:49.955Z"
   },
   {
    "duration": 11,
    "start_time": "2023-05-30T11:31:49.969Z"
   },
   {
    "duration": 78,
    "start_time": "2023-05-30T11:31:49.983Z"
   },
   {
    "duration": 11,
    "start_time": "2023-05-30T11:31:50.062Z"
   },
   {
    "duration": 22,
    "start_time": "2023-05-30T11:31:50.075Z"
   },
   {
    "duration": 14,
    "start_time": "2023-05-30T11:31:50.098Z"
   },
   {
    "duration": 6,
    "start_time": "2023-05-30T11:31:50.114Z"
   },
   {
    "duration": 21,
    "start_time": "2023-05-30T11:31:50.122Z"
   },
   {
    "duration": 44,
    "start_time": "2023-05-30T11:31:50.145Z"
   },
   {
    "duration": 60,
    "start_time": "2023-05-30T11:31:50.191Z"
   },
   {
    "duration": 98,
    "start_time": "2023-05-30T11:31:50.256Z"
   },
   {
    "duration": 11,
    "start_time": "2023-05-30T11:32:19.832Z"
   },
   {
    "duration": 7,
    "start_time": "2023-05-30T11:34:38.019Z"
   },
   {
    "duration": 115,
    "start_time": "2023-05-30T11:34:38.028Z"
   },
   {
    "duration": 41,
    "start_time": "2023-05-30T11:34:38.145Z"
   },
   {
    "duration": 50,
    "start_time": "2023-05-30T11:34:38.191Z"
   },
   {
    "duration": 1002,
    "start_time": "2023-05-30T11:34:38.243Z"
   },
   {
    "duration": 22,
    "start_time": "2023-05-30T11:34:39.250Z"
   },
   {
    "duration": 2,
    "start_time": "2023-05-30T11:34:39.273Z"
   },
   {
    "duration": 24,
    "start_time": "2023-05-30T11:34:39.277Z"
   },
   {
    "duration": 8,
    "start_time": "2023-05-30T11:34:39.303Z"
   },
   {
    "duration": 16,
    "start_time": "2023-05-30T11:34:39.314Z"
   },
   {
    "duration": 5,
    "start_time": "2023-05-30T11:34:39.332Z"
   },
   {
    "duration": 35,
    "start_time": "2023-05-30T11:34:39.339Z"
   },
   {
    "duration": 8,
    "start_time": "2023-05-30T11:34:39.387Z"
   },
   {
    "duration": 7,
    "start_time": "2023-05-30T11:34:39.397Z"
   },
   {
    "duration": 11,
    "start_time": "2023-05-30T11:34:39.406Z"
   },
   {
    "duration": 61,
    "start_time": "2023-05-30T11:34:39.418Z"
   },
   {
    "duration": 17,
    "start_time": "2023-05-30T11:34:39.484Z"
   },
   {
    "duration": 5,
    "start_time": "2023-05-30T11:34:39.504Z"
   },
   {
    "duration": 40,
    "start_time": "2023-05-30T11:34:39.553Z"
   },
   {
    "duration": 7,
    "start_time": "2023-05-30T11:34:39.597Z"
   },
   {
    "duration": 11,
    "start_time": "2023-05-30T11:34:39.606Z"
   },
   {
    "duration": 6,
    "start_time": "2023-05-30T11:34:39.618Z"
   },
   {
    "duration": 53,
    "start_time": "2023-05-30T11:34:39.627Z"
   },
   {
    "duration": 65,
    "start_time": "2023-05-30T11:34:39.685Z"
   },
   {
    "duration": 34,
    "start_time": "2023-05-30T11:34:39.753Z"
   },
   {
    "duration": 11,
    "start_time": "2023-05-30T11:36:47.981Z"
   },
   {
    "duration": 4,
    "start_time": "2023-05-30T11:36:54.581Z"
   },
   {
    "duration": 61,
    "start_time": "2023-05-30T11:36:54.587Z"
   },
   {
    "duration": 22,
    "start_time": "2023-05-30T11:36:54.654Z"
   },
   {
    "duration": 24,
    "start_time": "2023-05-30T11:36:54.678Z"
   },
   {
    "duration": 751,
    "start_time": "2023-05-30T11:36:54.704Z"
   },
   {
    "duration": 8,
    "start_time": "2023-05-30T11:36:55.457Z"
   },
   {
    "duration": 2,
    "start_time": "2023-05-30T11:36:55.467Z"
   },
   {
    "duration": 15,
    "start_time": "2023-05-30T11:36:55.473Z"
   },
   {
    "duration": 12,
    "start_time": "2023-05-30T11:36:55.490Z"
   },
   {
    "duration": 20,
    "start_time": "2023-05-30T11:36:55.504Z"
   },
   {
    "duration": 12,
    "start_time": "2023-05-30T11:36:55.525Z"
   },
   {
    "duration": 9,
    "start_time": "2023-05-30T11:36:55.538Z"
   },
   {
    "duration": 36,
    "start_time": "2023-05-30T11:36:55.550Z"
   },
   {
    "duration": 7,
    "start_time": "2023-05-30T11:36:55.589Z"
   },
   {
    "duration": 10,
    "start_time": "2023-05-30T11:36:55.598Z"
   },
   {
    "duration": 36,
    "start_time": "2023-05-30T11:36:55.655Z"
   },
   {
    "duration": 72,
    "start_time": "2023-05-30T11:36:55.692Z"
   },
   {
    "duration": 10,
    "start_time": "2023-05-30T11:36:55.766Z"
   },
   {
    "duration": 12,
    "start_time": "2023-05-30T11:36:55.781Z"
   },
   {
    "duration": 5,
    "start_time": "2023-05-30T11:36:55.794Z"
   },
   {
    "duration": 12,
    "start_time": "2023-05-30T11:36:55.801Z"
   },
   {
    "duration": 10,
    "start_time": "2023-05-30T11:36:55.814Z"
   },
   {
    "duration": 35,
    "start_time": "2023-05-30T11:36:55.825Z"
   },
   {
    "duration": 20,
    "start_time": "2023-05-30T11:36:55.863Z"
   },
   {
    "duration": 86,
    "start_time": "2023-05-30T11:36:55.885Z"
   },
   {
    "duration": 9,
    "start_time": "2023-05-30T11:37:09.420Z"
   },
   {
    "duration": 4,
    "start_time": "2023-05-30T11:37:13.181Z"
   },
   {
    "duration": 87,
    "start_time": "2023-05-30T11:37:13.187Z"
   },
   {
    "duration": 12,
    "start_time": "2023-05-30T11:37:13.277Z"
   },
   {
    "duration": 21,
    "start_time": "2023-05-30T11:37:13.291Z"
   },
   {
    "duration": 918,
    "start_time": "2023-05-30T11:37:13.314Z"
   },
   {
    "duration": 18,
    "start_time": "2023-05-30T11:37:14.235Z"
   },
   {
    "duration": 8,
    "start_time": "2023-05-30T11:37:14.255Z"
   },
   {
    "duration": 29,
    "start_time": "2023-05-30T11:37:14.264Z"
   },
   {
    "duration": 5,
    "start_time": "2023-05-30T11:37:14.296Z"
   },
   {
    "duration": 19,
    "start_time": "2023-05-30T11:37:14.303Z"
   },
   {
    "duration": 8,
    "start_time": "2023-05-30T11:37:14.324Z"
   },
   {
    "duration": 7,
    "start_time": "2023-05-30T11:37:14.335Z"
   },
   {
    "duration": 20,
    "start_time": "2023-05-30T11:37:14.344Z"
   },
   {
    "duration": 16,
    "start_time": "2023-05-30T11:37:14.369Z"
   },
   {
    "duration": 9,
    "start_time": "2023-05-30T11:37:14.387Z"
   },
   {
    "duration": 64,
    "start_time": "2023-05-30T11:37:14.398Z"
   },
   {
    "duration": 19,
    "start_time": "2023-05-30T11:37:14.464Z"
   },
   {
    "duration": 3,
    "start_time": "2023-05-30T11:37:14.487Z"
   },
   {
    "duration": 77,
    "start_time": "2023-05-30T11:37:14.491Z"
   },
   {
    "duration": 12,
    "start_time": "2023-05-30T11:37:14.570Z"
   },
   {
    "duration": 5,
    "start_time": "2023-05-30T11:37:14.584Z"
   },
   {
    "duration": 7,
    "start_time": "2023-05-30T11:37:14.591Z"
   },
   {
    "duration": 10,
    "start_time": "2023-05-30T11:37:14.600Z"
   },
   {
    "duration": 12,
    "start_time": "2023-05-30T11:37:14.652Z"
   },
   {
    "duration": 95,
    "start_time": "2023-05-30T11:37:14.666Z"
   },
   {
    "duration": 13,
    "start_time": "2023-05-30T11:38:21.575Z"
   },
   {
    "duration": 10,
    "start_time": "2023-05-30T11:38:47.220Z"
   },
   {
    "duration": 4,
    "start_time": "2023-05-30T11:38:55.797Z"
   },
   {
    "duration": 94,
    "start_time": "2023-05-30T11:38:55.803Z"
   },
   {
    "duration": 11,
    "start_time": "2023-05-30T11:38:55.899Z"
   },
   {
    "duration": 32,
    "start_time": "2023-05-30T11:38:55.912Z"
   },
   {
    "duration": 746,
    "start_time": "2023-05-30T11:38:55.945Z"
   },
   {
    "duration": 7,
    "start_time": "2023-05-30T11:38:56.692Z"
   },
   {
    "duration": 9,
    "start_time": "2023-05-30T11:38:56.701Z"
   },
   {
    "duration": 33,
    "start_time": "2023-05-30T11:38:56.712Z"
   },
   {
    "duration": 7,
    "start_time": "2023-05-30T11:38:56.748Z"
   },
   {
    "duration": 15,
    "start_time": "2023-05-30T11:38:56.757Z"
   },
   {
    "duration": 5,
    "start_time": "2023-05-30T11:38:56.774Z"
   },
   {
    "duration": 35,
    "start_time": "2023-05-30T11:38:56.781Z"
   },
   {
    "duration": 21,
    "start_time": "2023-05-30T11:38:56.818Z"
   },
   {
    "duration": 7,
    "start_time": "2023-05-30T11:38:56.841Z"
   },
   {
    "duration": 30,
    "start_time": "2023-05-30T11:38:56.852Z"
   },
   {
    "duration": 81,
    "start_time": "2023-05-30T11:38:56.889Z"
   },
   {
    "duration": 12,
    "start_time": "2023-05-30T11:38:56.978Z"
   },
   {
    "duration": 3,
    "start_time": "2023-05-30T11:38:56.991Z"
   },
   {
    "duration": 12,
    "start_time": "2023-05-30T11:38:56.995Z"
   },
   {
    "duration": 56,
    "start_time": "2023-05-30T11:38:57.009Z"
   },
   {
    "duration": 5,
    "start_time": "2023-05-30T11:38:57.073Z"
   },
   {
    "duration": 6,
    "start_time": "2023-05-30T11:38:57.080Z"
   },
   {
    "duration": 9,
    "start_time": "2023-05-30T11:38:57.088Z"
   },
   {
    "duration": 54,
    "start_time": "2023-05-30T11:38:57.101Z"
   },
   {
    "duration": 17,
    "start_time": "2023-05-30T11:38:57.157Z"
   },
   {
    "duration": 12,
    "start_time": "2023-05-30T11:39:37.996Z"
   },
   {
    "duration": 4,
    "start_time": "2023-05-30T11:39:41.989Z"
   },
   {
    "duration": 67,
    "start_time": "2023-05-30T11:39:41.995Z"
   },
   {
    "duration": 19,
    "start_time": "2023-05-30T11:39:42.067Z"
   },
   {
    "duration": 0,
    "start_time": "2023-05-30T11:39:42.090Z"
   },
   {
    "duration": 0,
    "start_time": "2023-05-30T11:39:42.092Z"
   },
   {
    "duration": 0,
    "start_time": "2023-05-30T11:39:42.094Z"
   },
   {
    "duration": 0,
    "start_time": "2023-05-30T11:39:42.095Z"
   },
   {
    "duration": 0,
    "start_time": "2023-05-30T11:39:42.097Z"
   },
   {
    "duration": 0,
    "start_time": "2023-05-30T11:39:42.099Z"
   },
   {
    "duration": 0,
    "start_time": "2023-05-30T11:39:42.100Z"
   },
   {
    "duration": 0,
    "start_time": "2023-05-30T11:39:42.102Z"
   },
   {
    "duration": 0,
    "start_time": "2023-05-30T11:39:42.104Z"
   },
   {
    "duration": 0,
    "start_time": "2023-05-30T11:39:42.105Z"
   },
   {
    "duration": 0,
    "start_time": "2023-05-30T11:39:42.107Z"
   },
   {
    "duration": 0,
    "start_time": "2023-05-30T11:39:42.109Z"
   },
   {
    "duration": 0,
    "start_time": "2023-05-30T11:39:42.110Z"
   },
   {
    "duration": 0,
    "start_time": "2023-05-30T11:39:42.112Z"
   },
   {
    "duration": 0,
    "start_time": "2023-05-30T11:39:42.151Z"
   },
   {
    "duration": 0,
    "start_time": "2023-05-30T11:39:42.152Z"
   },
   {
    "duration": 0,
    "start_time": "2023-05-30T11:39:42.152Z"
   },
   {
    "duration": 0,
    "start_time": "2023-05-30T11:39:42.153Z"
   },
   {
    "duration": 0,
    "start_time": "2023-05-30T11:39:42.155Z"
   },
   {
    "duration": 0,
    "start_time": "2023-05-30T11:39:42.156Z"
   },
   {
    "duration": 0,
    "start_time": "2023-05-30T11:39:42.157Z"
   },
   {
    "duration": 0,
    "start_time": "2023-05-30T11:39:42.158Z"
   },
   {
    "duration": 0,
    "start_time": "2023-05-30T11:39:42.159Z"
   },
   {
    "duration": 135,
    "start_time": "2023-05-30T11:40:18.072Z"
   },
   {
    "duration": 1083,
    "start_time": "2023-05-30T11:40:24.470Z"
   },
   {
    "duration": 5,
    "start_time": "2023-05-30T11:40:30.981Z"
   },
   {
    "duration": 128,
    "start_time": "2023-05-30T11:40:30.988Z"
   },
   {
    "duration": 1067,
    "start_time": "2023-05-30T11:40:31.118Z"
   },
   {
    "duration": 0,
    "start_time": "2023-05-30T11:40:32.188Z"
   },
   {
    "duration": 0,
    "start_time": "2023-05-30T11:40:32.189Z"
   },
   {
    "duration": 0,
    "start_time": "2023-05-30T11:40:32.191Z"
   },
   {
    "duration": 0,
    "start_time": "2023-05-30T11:40:32.192Z"
   },
   {
    "duration": 0,
    "start_time": "2023-05-30T11:40:32.193Z"
   },
   {
    "duration": 0,
    "start_time": "2023-05-30T11:40:32.194Z"
   },
   {
    "duration": 0,
    "start_time": "2023-05-30T11:40:32.195Z"
   },
   {
    "duration": 0,
    "start_time": "2023-05-30T11:40:32.196Z"
   },
   {
    "duration": 0,
    "start_time": "2023-05-30T11:40:32.197Z"
   },
   {
    "duration": 0,
    "start_time": "2023-05-30T11:40:32.198Z"
   },
   {
    "duration": 0,
    "start_time": "2023-05-30T11:40:32.200Z"
   },
   {
    "duration": 0,
    "start_time": "2023-05-30T11:40:32.202Z"
   },
   {
    "duration": 0,
    "start_time": "2023-05-30T11:40:32.203Z"
   },
   {
    "duration": 0,
    "start_time": "2023-05-30T11:40:32.204Z"
   },
   {
    "duration": 0,
    "start_time": "2023-05-30T11:40:32.205Z"
   },
   {
    "duration": 0,
    "start_time": "2023-05-30T11:40:32.206Z"
   },
   {
    "duration": 0,
    "start_time": "2023-05-30T11:40:32.207Z"
   },
   {
    "duration": 0,
    "start_time": "2023-05-30T11:40:32.208Z"
   },
   {
    "duration": 0,
    "start_time": "2023-05-30T11:40:32.209Z"
   },
   {
    "duration": 0,
    "start_time": "2023-05-30T11:40:32.210Z"
   },
   {
    "duration": 0,
    "start_time": "2023-05-30T11:40:32.211Z"
   },
   {
    "duration": 0,
    "start_time": "2023-05-30T11:40:32.212Z"
   },
   {
    "duration": 0,
    "start_time": "2023-05-30T11:40:32.213Z"
   },
   {
    "duration": 5,
    "start_time": "2023-05-30T11:40:52.328Z"
   },
   {
    "duration": 4,
    "start_time": "2023-05-30T11:41:14.814Z"
   },
   {
    "duration": 80,
    "start_time": "2023-05-30T11:41:14.819Z"
   },
   {
    "duration": 9,
    "start_time": "2023-05-30T11:41:14.900Z"
   },
   {
    "duration": 13,
    "start_time": "2023-05-30T11:41:14.912Z"
   },
   {
    "duration": 35,
    "start_time": "2023-05-30T11:41:14.927Z"
   },
   {
    "duration": 739,
    "start_time": "2023-05-30T11:41:14.971Z"
   },
   {
    "duration": 6,
    "start_time": "2023-05-30T11:41:15.712Z"
   },
   {
    "duration": 4,
    "start_time": "2023-05-30T11:41:15.720Z"
   },
   {
    "duration": 34,
    "start_time": "2023-05-30T11:41:15.728Z"
   },
   {
    "duration": 12,
    "start_time": "2023-05-30T11:41:15.764Z"
   },
   {
    "duration": 22,
    "start_time": "2023-05-30T11:41:15.778Z"
   },
   {
    "duration": 11,
    "start_time": "2023-05-30T11:41:15.802Z"
   },
   {
    "duration": 5,
    "start_time": "2023-05-30T11:41:15.815Z"
   },
   {
    "duration": 6,
    "start_time": "2023-05-30T11:41:15.821Z"
   },
   {
    "duration": 31,
    "start_time": "2023-05-30T11:41:15.829Z"
   },
   {
    "duration": 28,
    "start_time": "2023-05-30T11:41:15.862Z"
   },
   {
    "duration": 20,
    "start_time": "2023-05-30T11:41:15.950Z"
   },
   {
    "duration": 17,
    "start_time": "2023-05-30T11:41:15.975Z"
   },
   {
    "duration": 5,
    "start_time": "2023-05-30T11:41:15.994Z"
   },
   {
    "duration": 11,
    "start_time": "2023-05-30T11:41:16.000Z"
   },
   {
    "duration": 40,
    "start_time": "2023-05-30T11:41:16.013Z"
   },
   {
    "duration": 9,
    "start_time": "2023-05-30T11:41:16.055Z"
   },
   {
    "duration": 15,
    "start_time": "2023-05-30T11:41:16.066Z"
   },
   {
    "duration": 14,
    "start_time": "2023-05-30T11:41:16.085Z"
   },
   {
    "duration": 57,
    "start_time": "2023-05-30T11:41:16.101Z"
   },
   {
    "duration": 23,
    "start_time": "2023-05-30T11:41:16.167Z"
   },
   {
    "duration": 880,
    "start_time": "2023-05-30T11:42:18.199Z"
   },
   {
    "duration": 4,
    "start_time": "2023-05-30T11:42:30.501Z"
   },
   {
    "duration": 110,
    "start_time": "2023-05-30T11:42:30.507Z"
   },
   {
    "duration": 9,
    "start_time": "2023-05-30T11:42:30.619Z"
   },
   {
    "duration": 75,
    "start_time": "2023-05-30T11:42:30.631Z"
   },
   {
    "duration": 82,
    "start_time": "2023-05-30T11:42:30.708Z"
   },
   {
    "duration": 798,
    "start_time": "2023-05-30T11:42:30.792Z"
   },
   {
    "duration": 6,
    "start_time": "2023-05-30T11:42:31.592Z"
   },
   {
    "duration": 41,
    "start_time": "2023-05-30T11:42:31.599Z"
   },
   {
    "duration": 53,
    "start_time": "2023-05-30T11:42:31.642Z"
   },
   {
    "duration": 26,
    "start_time": "2023-05-30T11:42:31.698Z"
   },
   {
    "duration": 40,
    "start_time": "2023-05-30T11:42:31.726Z"
   },
   {
    "duration": 18,
    "start_time": "2023-05-30T11:42:31.770Z"
   },
   {
    "duration": 33,
    "start_time": "2023-05-30T11:42:31.790Z"
   },
   {
    "duration": 16,
    "start_time": "2023-05-30T11:42:31.825Z"
   },
   {
    "duration": 43,
    "start_time": "2023-05-30T11:42:31.843Z"
   },
   {
    "duration": 11,
    "start_time": "2023-05-30T11:42:31.888Z"
   },
   {
    "duration": 65,
    "start_time": "2023-05-30T11:42:31.901Z"
   },
   {
    "duration": 82,
    "start_time": "2023-05-30T11:42:31.973Z"
   },
   {
    "duration": 20,
    "start_time": "2023-05-30T11:42:32.060Z"
   },
   {
    "duration": 17,
    "start_time": "2023-05-30T11:42:32.082Z"
   },
   {
    "duration": 29,
    "start_time": "2023-05-30T11:42:32.101Z"
   },
   {
    "duration": 43,
    "start_time": "2023-05-30T11:42:32.132Z"
   },
   {
    "duration": 9,
    "start_time": "2023-05-30T11:42:32.177Z"
   },
   {
    "duration": 75,
    "start_time": "2023-05-30T11:42:32.188Z"
   },
   {
    "duration": 4,
    "start_time": "2023-05-30T11:42:32.265Z"
   },
   {
    "duration": 88,
    "start_time": "2023-05-30T11:42:32.271Z"
   },
   {
    "duration": 11,
    "start_time": "2023-05-30T11:43:55.071Z"
   },
   {
    "duration": 10,
    "start_time": "2023-05-30T11:44:13.379Z"
   },
   {
    "duration": 4,
    "start_time": "2023-05-30T11:44:22.603Z"
   },
   {
    "duration": 91,
    "start_time": "2023-05-30T11:44:22.610Z"
   },
   {
    "duration": 9,
    "start_time": "2023-05-30T11:44:22.703Z"
   },
   {
    "duration": 20,
    "start_time": "2023-05-30T11:44:22.714Z"
   },
   {
    "duration": 40,
    "start_time": "2023-05-30T11:44:22.735Z"
   },
   {
    "duration": 918,
    "start_time": "2023-05-30T11:44:22.777Z"
   },
   {
    "duration": 7,
    "start_time": "2023-05-30T11:44:23.697Z"
   },
   {
    "duration": 6,
    "start_time": "2023-05-30T11:44:23.707Z"
   },
   {
    "duration": 18,
    "start_time": "2023-05-30T11:44:23.716Z"
   },
   {
    "duration": 4,
    "start_time": "2023-05-30T11:44:23.752Z"
   },
   {
    "duration": 17,
    "start_time": "2023-05-30T11:44:23.759Z"
   },
   {
    "duration": 4,
    "start_time": "2023-05-30T11:44:23.778Z"
   },
   {
    "duration": 6,
    "start_time": "2023-05-30T11:44:23.784Z"
   },
   {
    "duration": 9,
    "start_time": "2023-05-30T11:44:23.791Z"
   },
   {
    "duration": 10,
    "start_time": "2023-05-30T11:44:23.801Z"
   },
   {
    "duration": 16,
    "start_time": "2023-05-30T11:44:23.859Z"
   },
   {
    "duration": 75,
    "start_time": "2023-05-30T11:44:23.878Z"
   },
   {
    "duration": 15,
    "start_time": "2023-05-30T11:44:23.955Z"
   },
   {
    "duration": 3,
    "start_time": "2023-05-30T11:44:23.974Z"
   },
   {
    "duration": 11,
    "start_time": "2023-05-30T11:44:23.979Z"
   },
   {
    "duration": 6,
    "start_time": "2023-05-30T11:44:23.992Z"
   },
   {
    "duration": 4,
    "start_time": "2023-05-30T11:44:24.001Z"
   },
   {
    "duration": 5,
    "start_time": "2023-05-30T11:44:24.007Z"
   },
   {
    "duration": 57,
    "start_time": "2023-05-30T11:44:24.013Z"
   },
   {
    "duration": 7,
    "start_time": "2023-05-30T11:44:24.072Z"
   },
   {
    "duration": 76,
    "start_time": "2023-05-30T11:44:24.082Z"
   },
   {
    "duration": 10,
    "start_time": "2023-05-30T11:44:48.712Z"
   },
   {
    "duration": 6,
    "start_time": "2023-05-30T11:44:55.465Z"
   },
   {
    "duration": 60,
    "start_time": "2023-05-30T11:44:55.474Z"
   },
   {
    "duration": 26,
    "start_time": "2023-05-30T11:44:55.536Z"
   },
   {
    "duration": 10,
    "start_time": "2023-05-30T11:44:55.565Z"
   },
   {
    "duration": 22,
    "start_time": "2023-05-30T11:44:55.577Z"
   },
   {
    "duration": 771,
    "start_time": "2023-05-30T11:44:55.601Z"
   },
   {
    "duration": 6,
    "start_time": "2023-05-30T11:44:56.374Z"
   },
   {
    "duration": 3,
    "start_time": "2023-05-30T11:44:56.382Z"
   },
   {
    "duration": 20,
    "start_time": "2023-05-30T11:44:56.386Z"
   },
   {
    "duration": 3,
    "start_time": "2023-05-30T11:44:56.408Z"
   },
   {
    "duration": 22,
    "start_time": "2023-05-30T11:44:56.413Z"
   },
   {
    "duration": 22,
    "start_time": "2023-05-30T11:44:56.437Z"
   },
   {
    "duration": 9,
    "start_time": "2023-05-30T11:44:56.460Z"
   },
   {
    "duration": 11,
    "start_time": "2023-05-30T11:44:56.475Z"
   },
   {
    "duration": 15,
    "start_time": "2023-05-30T11:44:56.488Z"
   },
   {
    "duration": 57,
    "start_time": "2023-05-30T11:44:56.505Z"
   },
   {
    "duration": 10,
    "start_time": "2023-05-30T11:44:56.570Z"
   },
   {
    "duration": 10,
    "start_time": "2023-05-30T11:44:56.661Z"
   },
   {
    "duration": 3,
    "start_time": "2023-05-30T11:44:56.673Z"
   },
   {
    "duration": 11,
    "start_time": "2023-05-30T11:44:56.678Z"
   },
   {
    "duration": 6,
    "start_time": "2023-05-30T11:44:56.691Z"
   },
   {
    "duration": 9,
    "start_time": "2023-05-30T11:44:56.699Z"
   },
   {
    "duration": 6,
    "start_time": "2023-05-30T11:44:56.710Z"
   },
   {
    "duration": 34,
    "start_time": "2023-05-30T11:44:56.717Z"
   },
   {
    "duration": 5,
    "start_time": "2023-05-30T11:44:56.761Z"
   },
   {
    "duration": 92,
    "start_time": "2023-05-30T11:44:56.768Z"
   },
   {
    "duration": 5,
    "start_time": "2023-05-30T11:46:13.827Z"
   },
   {
    "duration": 4,
    "start_time": "2023-05-30T11:46:27.690Z"
   },
   {
    "duration": 10,
    "start_time": "2023-05-30T11:46:57.301Z"
   },
   {
    "duration": 4,
    "start_time": "2023-05-30T11:47:07.268Z"
   },
   {
    "duration": 63,
    "start_time": "2023-05-30T11:47:07.274Z"
   },
   {
    "duration": 10,
    "start_time": "2023-05-30T11:47:07.339Z"
   },
   {
    "duration": 0,
    "start_time": "2023-05-30T11:47:07.353Z"
   },
   {
    "duration": 0,
    "start_time": "2023-05-30T11:47:07.354Z"
   },
   {
    "duration": 1,
    "start_time": "2023-05-30T11:47:07.356Z"
   },
   {
    "duration": 0,
    "start_time": "2023-05-30T11:47:07.357Z"
   },
   {
    "duration": 0,
    "start_time": "2023-05-30T11:47:07.358Z"
   },
   {
    "duration": 0,
    "start_time": "2023-05-30T11:47:07.362Z"
   },
   {
    "duration": 0,
    "start_time": "2023-05-30T11:47:07.363Z"
   },
   {
    "duration": 0,
    "start_time": "2023-05-30T11:47:07.364Z"
   },
   {
    "duration": 0,
    "start_time": "2023-05-30T11:47:07.364Z"
   },
   {
    "duration": 0,
    "start_time": "2023-05-30T11:47:07.366Z"
   },
   {
    "duration": 0,
    "start_time": "2023-05-30T11:47:07.367Z"
   },
   {
    "duration": 0,
    "start_time": "2023-05-30T11:47:07.369Z"
   },
   {
    "duration": 0,
    "start_time": "2023-05-30T11:47:07.370Z"
   },
   {
    "duration": 0,
    "start_time": "2023-05-30T11:47:07.372Z"
   },
   {
    "duration": 0,
    "start_time": "2023-05-30T11:47:07.373Z"
   },
   {
    "duration": 0,
    "start_time": "2023-05-30T11:47:07.375Z"
   },
   {
    "duration": 0,
    "start_time": "2023-05-30T11:47:07.376Z"
   },
   {
    "duration": 0,
    "start_time": "2023-05-30T11:47:07.376Z"
   },
   {
    "duration": 0,
    "start_time": "2023-05-30T11:47:07.378Z"
   },
   {
    "duration": 0,
    "start_time": "2023-05-30T11:47:07.379Z"
   },
   {
    "duration": 0,
    "start_time": "2023-05-30T11:47:07.380Z"
   },
   {
    "duration": 0,
    "start_time": "2023-05-30T11:47:07.381Z"
   },
   {
    "duration": 0,
    "start_time": "2023-05-30T11:47:07.382Z"
   },
   {
    "duration": 0,
    "start_time": "2023-05-30T11:47:07.383Z"
   },
   {
    "duration": 3,
    "start_time": "2023-05-30T11:47:25.010Z"
   },
   {
    "duration": 3,
    "start_time": "2023-05-30T11:47:33.337Z"
   },
   {
    "duration": 72,
    "start_time": "2023-05-30T11:47:33.342Z"
   },
   {
    "duration": 3,
    "start_time": "2023-05-30T11:47:33.416Z"
   },
   {
    "duration": 10,
    "start_time": "2023-05-30T11:47:33.421Z"
   },
   {
    "duration": 10,
    "start_time": "2023-05-30T11:47:33.433Z"
   },
   {
    "duration": 23,
    "start_time": "2023-05-30T11:47:33.444Z"
   },
   {
    "duration": 707,
    "start_time": "2023-05-30T11:47:33.468Z"
   },
   {
    "duration": 8,
    "start_time": "2023-05-30T11:47:34.177Z"
   },
   {
    "duration": 8,
    "start_time": "2023-05-30T11:47:34.187Z"
   },
   {
    "duration": 20,
    "start_time": "2023-05-30T11:47:34.197Z"
   },
   {
    "duration": 5,
    "start_time": "2023-05-30T11:47:34.220Z"
   },
   {
    "duration": 34,
    "start_time": "2023-05-30T11:47:34.227Z"
   },
   {
    "duration": 10,
    "start_time": "2023-05-30T11:47:34.266Z"
   },
   {
    "duration": 7,
    "start_time": "2023-05-30T11:47:34.278Z"
   },
   {
    "duration": 5,
    "start_time": "2023-05-30T11:47:34.287Z"
   },
   {
    "duration": 6,
    "start_time": "2023-05-30T11:47:34.295Z"
   },
   {
    "duration": 61,
    "start_time": "2023-05-30T11:47:34.303Z"
   },
   {
    "duration": 10,
    "start_time": "2023-05-30T11:47:34.365Z"
   },
   {
    "duration": 92,
    "start_time": "2023-05-30T11:47:34.376Z"
   },
   {
    "duration": 3,
    "start_time": "2023-05-30T11:47:34.470Z"
   },
   {
    "duration": 10,
    "start_time": "2023-05-30T11:47:34.474Z"
   },
   {
    "duration": 6,
    "start_time": "2023-05-30T11:47:34.486Z"
   },
   {
    "duration": 5,
    "start_time": "2023-05-30T11:47:34.494Z"
   },
   {
    "duration": 11,
    "start_time": "2023-05-30T11:47:34.500Z"
   },
   {
    "duration": 55,
    "start_time": "2023-05-30T11:47:34.513Z"
   },
   {
    "duration": 6,
    "start_time": "2023-05-30T11:47:34.571Z"
   },
   {
    "duration": 20,
    "start_time": "2023-05-30T11:47:34.651Z"
   },
   {
    "duration": 1389,
    "start_time": "2023-05-30T14:11:11.077Z"
   },
   {
    "duration": 142,
    "start_time": "2023-05-30T14:11:12.468Z"
   },
   {
    "duration": 3,
    "start_time": "2023-05-30T14:11:12.612Z"
   },
   {
    "duration": 17,
    "start_time": "2023-05-30T14:11:12.616Z"
   },
   {
    "duration": 11,
    "start_time": "2023-05-30T14:11:12.635Z"
   },
   {
    "duration": 36,
    "start_time": "2023-05-30T14:11:12.647Z"
   },
   {
    "duration": 620,
    "start_time": "2023-05-30T14:11:12.685Z"
   },
   {
    "duration": 6,
    "start_time": "2023-05-30T14:11:13.306Z"
   },
   {
    "duration": 13,
    "start_time": "2023-05-30T14:11:13.313Z"
   },
   {
    "duration": 15,
    "start_time": "2023-05-30T14:11:13.327Z"
   },
   {
    "duration": 4,
    "start_time": "2023-05-30T14:11:13.344Z"
   },
   {
    "duration": 21,
    "start_time": "2023-05-30T14:11:13.349Z"
   },
   {
    "duration": 33,
    "start_time": "2023-05-30T14:11:13.372Z"
   },
   {
    "duration": 29,
    "start_time": "2023-05-30T14:11:13.408Z"
   },
   {
    "duration": 17,
    "start_time": "2023-05-30T14:11:13.439Z"
   },
   {
    "duration": 24,
    "start_time": "2023-05-30T14:11:13.457Z"
   },
   {
    "duration": 44,
    "start_time": "2023-05-30T14:11:13.483Z"
   },
   {
    "duration": 97,
    "start_time": "2023-05-30T14:11:13.530Z"
   },
   {
    "duration": 18,
    "start_time": "2023-05-30T14:11:13.629Z"
   },
   {
    "duration": 6,
    "start_time": "2023-05-30T14:11:13.648Z"
   },
   {
    "duration": 14,
    "start_time": "2023-05-30T14:11:13.655Z"
   },
   {
    "duration": 4,
    "start_time": "2023-05-30T14:11:13.671Z"
   },
   {
    "duration": 8,
    "start_time": "2023-05-30T14:11:13.676Z"
   },
   {
    "duration": 10,
    "start_time": "2023-05-30T14:11:13.685Z"
   },
   {
    "duration": 31,
    "start_time": "2023-05-30T14:11:13.696Z"
   },
   {
    "duration": 4,
    "start_time": "2023-05-30T14:11:13.730Z"
   },
   {
    "duration": 95,
    "start_time": "2023-05-30T14:11:13.736Z"
   },
   {
    "duration": 10,
    "start_time": "2023-05-30T14:12:12.662Z"
   },
   {
    "duration": 9,
    "start_time": "2023-05-30T14:12:16.518Z"
   },
   {
    "duration": 10,
    "start_time": "2023-05-30T14:12:37.576Z"
   },
   {
    "duration": 8,
    "start_time": "2023-05-30T14:12:39.528Z"
   },
   {
    "duration": 8,
    "start_time": "2023-05-30T14:13:24.630Z"
   },
   {
    "duration": 8,
    "start_time": "2023-05-30T14:13:32.930Z"
   },
   {
    "duration": 4,
    "start_time": "2023-05-30T14:13:37.007Z"
   },
   {
    "duration": 62,
    "start_time": "2023-05-30T14:13:37.012Z"
   },
   {
    "duration": 4,
    "start_time": "2023-05-30T14:13:37.076Z"
   },
   {
    "duration": 9,
    "start_time": "2023-05-30T14:13:37.082Z"
   },
   {
    "duration": 11,
    "start_time": "2023-05-30T14:13:37.092Z"
   },
   {
    "duration": 19,
    "start_time": "2023-05-30T14:13:37.104Z"
   },
   {
    "duration": 625,
    "start_time": "2023-05-30T14:13:37.125Z"
   },
   {
    "duration": 6,
    "start_time": "2023-05-30T14:13:37.752Z"
   },
   {
    "duration": 8,
    "start_time": "2023-05-30T14:13:37.760Z"
   },
   {
    "duration": 13,
    "start_time": "2023-05-30T14:13:37.769Z"
   },
   {
    "duration": 3,
    "start_time": "2023-05-30T14:13:37.784Z"
   },
   {
    "duration": 18,
    "start_time": "2023-05-30T14:13:37.788Z"
   },
   {
    "duration": 18,
    "start_time": "2023-05-30T14:13:37.807Z"
   },
   {
    "duration": 13,
    "start_time": "2023-05-30T14:13:37.826Z"
   },
   {
    "duration": 9,
    "start_time": "2023-05-30T14:13:37.841Z"
   },
   {
    "duration": 13,
    "start_time": "2023-05-30T14:13:37.851Z"
   },
   {
    "duration": 8,
    "start_time": "2023-05-30T14:13:37.866Z"
   },
   {
    "duration": 8,
    "start_time": "2023-05-30T14:13:37.925Z"
   },
   {
    "duration": 92,
    "start_time": "2023-05-30T14:13:37.935Z"
   },
   {
    "duration": 104,
    "start_time": "2023-05-30T14:13:38.029Z"
   },
   {
    "duration": 10,
    "start_time": "2023-05-30T14:13:38.134Z"
   },
   {
    "duration": 3,
    "start_time": "2023-05-30T14:13:38.146Z"
   },
   {
    "duration": 15,
    "start_time": "2023-05-30T14:13:38.151Z"
   },
   {
    "duration": 4,
    "start_time": "2023-05-30T14:13:38.168Z"
   },
   {
    "duration": 15,
    "start_time": "2023-05-30T14:13:38.174Z"
   },
   {
    "duration": 6,
    "start_time": "2023-05-30T14:13:38.191Z"
   },
   {
    "duration": 18,
    "start_time": "2023-05-30T14:13:38.198Z"
   },
   {
    "duration": 5,
    "start_time": "2023-05-30T14:13:38.225Z"
   },
   {
    "duration": 94,
    "start_time": "2023-05-30T14:13:38.231Z"
   },
   {
    "duration": 11,
    "start_time": "2023-05-30T14:14:09.756Z"
   },
   {
    "duration": 8,
    "start_time": "2023-05-30T14:14:18.694Z"
   },
   {
    "duration": 8,
    "start_time": "2023-05-30T14:14:23.727Z"
   },
   {
    "duration": 8,
    "start_time": "2023-05-30T14:14:27.487Z"
   },
   {
    "duration": 5,
    "start_time": "2023-05-30T14:14:35.415Z"
   },
   {
    "duration": 70,
    "start_time": "2023-05-30T14:14:35.422Z"
   },
   {
    "duration": 4,
    "start_time": "2023-05-30T14:14:35.494Z"
   },
   {
    "duration": 18,
    "start_time": "2023-05-30T14:14:35.500Z"
   },
   {
    "duration": 17,
    "start_time": "2023-05-30T14:14:35.520Z"
   },
   {
    "duration": 42,
    "start_time": "2023-05-30T14:14:35.539Z"
   },
   {
    "duration": 694,
    "start_time": "2023-05-30T14:14:35.583Z"
   },
   {
    "duration": 7,
    "start_time": "2023-05-30T14:14:36.279Z"
   },
   {
    "duration": 2,
    "start_time": "2023-05-30T14:14:36.290Z"
   },
   {
    "duration": 37,
    "start_time": "2023-05-30T14:14:36.294Z"
   },
   {
    "duration": 11,
    "start_time": "2023-05-30T14:14:36.333Z"
   },
   {
    "duration": 13,
    "start_time": "2023-05-30T14:14:36.346Z"
   },
   {
    "duration": 14,
    "start_time": "2023-05-30T14:14:36.360Z"
   },
   {
    "duration": 17,
    "start_time": "2023-05-30T14:14:36.376Z"
   },
   {
    "duration": 7,
    "start_time": "2023-05-30T14:14:36.395Z"
   },
   {
    "duration": 25,
    "start_time": "2023-05-30T14:14:36.404Z"
   },
   {
    "duration": 10,
    "start_time": "2023-05-30T14:14:36.431Z"
   },
   {
    "duration": 91,
    "start_time": "2023-05-30T14:14:36.444Z"
   },
   {
    "duration": 10,
    "start_time": "2023-05-30T14:14:36.537Z"
   },
   {
    "duration": 10,
    "start_time": "2023-05-30T14:14:36.549Z"
   },
   {
    "duration": 20,
    "start_time": "2023-05-30T14:14:36.560Z"
   },
   {
    "duration": 3,
    "start_time": "2023-05-30T14:14:36.625Z"
   },
   {
    "duration": 12,
    "start_time": "2023-05-30T14:14:36.630Z"
   },
   {
    "duration": 5,
    "start_time": "2023-05-30T14:14:36.646Z"
   },
   {
    "duration": 15,
    "start_time": "2023-05-30T14:14:36.653Z"
   },
   {
    "duration": 19,
    "start_time": "2023-05-30T14:14:36.670Z"
   },
   {
    "duration": 12,
    "start_time": "2023-05-30T14:14:36.691Z"
   },
   {
    "duration": 6,
    "start_time": "2023-05-30T14:14:36.726Z"
   },
   {
    "duration": 101,
    "start_time": "2023-05-30T14:14:36.734Z"
   },
   {
    "duration": 9,
    "start_time": "2023-05-30T14:15:40.231Z"
   },
   {
    "duration": 4,
    "start_time": "2023-05-30T14:15:59.570Z"
   },
   {
    "duration": 98,
    "start_time": "2023-05-30T14:15:59.577Z"
   },
   {
    "duration": 4,
    "start_time": "2023-05-30T14:15:59.676Z"
   },
   {
    "duration": 21,
    "start_time": "2023-05-30T14:15:59.682Z"
   },
   {
    "duration": 14,
    "start_time": "2023-05-30T14:15:59.707Z"
   },
   {
    "duration": 32,
    "start_time": "2023-05-30T14:15:59.723Z"
   },
   {
    "duration": 806,
    "start_time": "2023-05-30T14:15:59.759Z"
   },
   {
    "duration": 7,
    "start_time": "2023-05-30T14:16:00.567Z"
   },
   {
    "duration": 21,
    "start_time": "2023-05-30T14:16:00.576Z"
   },
   {
    "duration": 73,
    "start_time": "2023-05-30T14:16:00.599Z"
   },
   {
    "duration": 39,
    "start_time": "2023-05-30T14:16:00.674Z"
   },
   {
    "duration": 48,
    "start_time": "2023-05-30T14:16:00.715Z"
   },
   {
    "duration": 66,
    "start_time": "2023-05-30T14:16:00.764Z"
   },
   {
    "duration": 48,
    "start_time": "2023-05-30T14:16:00.833Z"
   },
   {
    "duration": 29,
    "start_time": "2023-05-30T14:16:00.883Z"
   },
   {
    "duration": 42,
    "start_time": "2023-05-30T14:16:00.914Z"
   },
   {
    "duration": 74,
    "start_time": "2023-05-30T14:16:00.958Z"
   },
   {
    "duration": 96,
    "start_time": "2023-05-30T14:16:01.035Z"
   },
   {
    "duration": 61,
    "start_time": "2023-05-30T14:16:01.133Z"
   },
   {
    "duration": 93,
    "start_time": "2023-05-30T14:16:01.196Z"
   },
   {
    "duration": 87,
    "start_time": "2023-05-30T14:16:01.292Z"
   },
   {
    "duration": 99,
    "start_time": "2023-05-30T14:16:01.381Z"
   },
   {
    "duration": 150,
    "start_time": "2023-05-30T14:16:01.482Z"
   },
   {
    "duration": 284,
    "start_time": "2023-05-30T14:16:01.634Z"
   },
   {
    "duration": 313,
    "start_time": "2023-05-30T14:16:01.919Z"
   },
   {
    "duration": 93,
    "start_time": "2023-05-30T14:16:02.233Z"
   },
   {
    "duration": 169,
    "start_time": "2023-05-30T14:16:02.328Z"
   },
   {
    "duration": 2,
    "start_time": "2023-05-30T14:19:10.982Z"
   },
   {
    "duration": 4,
    "start_time": "2023-05-30T14:19:11.829Z"
   },
   {
    "duration": 4,
    "start_time": "2023-05-30T14:20:22.957Z"
   },
   {
    "duration": 75,
    "start_time": "2023-05-30T14:20:22.963Z"
   },
   {
    "duration": 3,
    "start_time": "2023-05-30T14:20:23.040Z"
   },
   {
    "duration": 18,
    "start_time": "2023-05-30T14:20:23.044Z"
   },
   {
    "duration": 14,
    "start_time": "2023-05-30T14:20:23.064Z"
   },
   {
    "duration": 19,
    "start_time": "2023-05-30T14:20:23.080Z"
   },
   {
    "duration": 583,
    "start_time": "2023-05-30T14:20:23.101Z"
   },
   {
    "duration": 6,
    "start_time": "2023-05-30T14:20:23.685Z"
   },
   {
    "duration": 3,
    "start_time": "2023-05-30T14:20:23.692Z"
   },
   {
    "duration": 13,
    "start_time": "2023-05-30T14:20:23.697Z"
   },
   {
    "duration": 3,
    "start_time": "2023-05-30T14:20:23.724Z"
   },
   {
    "duration": 11,
    "start_time": "2023-05-30T14:20:23.729Z"
   },
   {
    "duration": 6,
    "start_time": "2023-05-30T14:20:23.741Z"
   },
   {
    "duration": 6,
    "start_time": "2023-05-30T14:20:23.749Z"
   },
   {
    "duration": 9,
    "start_time": "2023-05-30T14:20:23.756Z"
   },
   {
    "duration": 6,
    "start_time": "2023-05-30T14:20:23.766Z"
   },
   {
    "duration": 53,
    "start_time": "2023-05-30T14:20:23.773Z"
   },
   {
    "duration": 8,
    "start_time": "2023-05-30T14:20:23.828Z"
   },
   {
    "duration": 90,
    "start_time": "2023-05-30T14:20:23.837Z"
   },
   {
    "duration": 9,
    "start_time": "2023-05-30T14:20:23.929Z"
   },
   {
    "duration": 30,
    "start_time": "2023-05-30T14:20:23.939Z"
   },
   {
    "duration": 10,
    "start_time": "2023-05-30T14:20:23.971Z"
   },
   {
    "duration": 11,
    "start_time": "2023-05-30T14:20:23.983Z"
   },
   {
    "duration": 15,
    "start_time": "2023-05-30T14:20:23.995Z"
   },
   {
    "duration": 15,
    "start_time": "2023-05-30T14:20:24.012Z"
   },
   {
    "duration": 17,
    "start_time": "2023-05-30T14:20:24.030Z"
   },
   {
    "duration": 8,
    "start_time": "2023-05-30T14:20:24.126Z"
   },
   {
    "duration": 12,
    "start_time": "2023-05-30T14:21:38.967Z"
   },
   {
    "duration": 4,
    "start_time": "2023-05-30T14:21:41.926Z"
   },
   {
    "duration": 66,
    "start_time": "2023-05-30T14:21:41.932Z"
   },
   {
    "duration": 4,
    "start_time": "2023-05-30T14:21:41.999Z"
   },
   {
    "duration": 11,
    "start_time": "2023-05-30T14:21:42.005Z"
   },
   {
    "duration": 10,
    "start_time": "2023-05-30T14:21:42.018Z"
   },
   {
    "duration": 24,
    "start_time": "2023-05-30T14:21:42.030Z"
   },
   {
    "duration": 666,
    "start_time": "2023-05-30T14:21:42.056Z"
   },
   {
    "duration": 5,
    "start_time": "2023-05-30T14:21:42.724Z"
   },
   {
    "duration": 2,
    "start_time": "2023-05-30T14:21:42.731Z"
   },
   {
    "duration": 11,
    "start_time": "2023-05-30T14:21:42.735Z"
   },
   {
    "duration": 3,
    "start_time": "2023-05-30T14:21:42.748Z"
   },
   {
    "duration": 12,
    "start_time": "2023-05-30T14:21:42.752Z"
   },
   {
    "duration": 5,
    "start_time": "2023-05-30T14:21:42.766Z"
   },
   {
    "duration": 4,
    "start_time": "2023-05-30T14:21:42.773Z"
   },
   {
    "duration": 7,
    "start_time": "2023-05-30T14:21:42.778Z"
   },
   {
    "duration": 42,
    "start_time": "2023-05-30T14:21:42.786Z"
   },
   {
    "duration": 11,
    "start_time": "2023-05-30T14:21:42.831Z"
   },
   {
    "duration": 86,
    "start_time": "2023-05-30T14:21:42.844Z"
   },
   {
    "duration": 8,
    "start_time": "2023-05-30T14:21:42.932Z"
   },
   {
    "duration": 4,
    "start_time": "2023-05-30T14:21:42.941Z"
   },
   {
    "duration": 17,
    "start_time": "2023-05-30T14:21:42.947Z"
   },
   {
    "duration": 8,
    "start_time": "2023-05-30T14:21:42.966Z"
   },
   {
    "duration": 12,
    "start_time": "2023-05-30T14:21:42.975Z"
   },
   {
    "duration": 6,
    "start_time": "2023-05-30T14:21:42.988Z"
   },
   {
    "duration": 33,
    "start_time": "2023-05-30T14:21:42.995Z"
   },
   {
    "duration": 4,
    "start_time": "2023-05-30T14:21:43.030Z"
   },
   {
    "duration": 93,
    "start_time": "2023-05-30T14:21:43.036Z"
   },
   {
    "duration": 9,
    "start_time": "2023-05-30T14:22:00.973Z"
   },
   {
    "duration": 3,
    "start_time": "2023-05-30T14:22:43.765Z"
   },
   {
    "duration": 4,
    "start_time": "2023-05-30T14:22:45.325Z"
   },
   {
    "duration": 3,
    "start_time": "2023-05-30T14:30:42.313Z"
   },
   {
    "duration": 64,
    "start_time": "2023-05-30T14:30:42.318Z"
   },
   {
    "duration": 8,
    "start_time": "2023-05-30T14:30:42.384Z"
   },
   {
    "duration": 10,
    "start_time": "2023-05-30T14:30:42.394Z"
   },
   {
    "duration": 19,
    "start_time": "2023-05-30T14:30:42.405Z"
   },
   {
    "duration": 563,
    "start_time": "2023-05-30T14:30:42.426Z"
   },
   {
    "duration": 5,
    "start_time": "2023-05-30T14:30:42.991Z"
   },
   {
    "duration": 2,
    "start_time": "2023-05-30T14:30:42.997Z"
   },
   {
    "duration": 26,
    "start_time": "2023-05-30T14:30:43.001Z"
   },
   {
    "duration": 3,
    "start_time": "2023-05-30T14:30:43.030Z"
   },
   {
    "duration": 9,
    "start_time": "2023-05-30T14:30:43.034Z"
   },
   {
    "duration": 7,
    "start_time": "2023-05-30T14:30:43.045Z"
   },
   {
    "duration": 6,
    "start_time": "2023-05-30T14:30:43.053Z"
   },
   {
    "duration": 5,
    "start_time": "2023-05-30T14:30:43.061Z"
   },
   {
    "duration": 5,
    "start_time": "2023-05-30T14:30:43.068Z"
   },
   {
    "duration": 56,
    "start_time": "2023-05-30T14:30:43.075Z"
   },
   {
    "duration": 11,
    "start_time": "2023-05-30T14:30:43.133Z"
   },
   {
    "duration": 8,
    "start_time": "2023-05-30T14:30:43.225Z"
   },
   {
    "duration": 4,
    "start_time": "2023-05-30T14:30:43.234Z"
   },
   {
    "duration": 10,
    "start_time": "2023-05-30T14:30:43.239Z"
   },
   {
    "duration": 5,
    "start_time": "2023-05-30T14:30:43.250Z"
   },
   {
    "duration": 5,
    "start_time": "2023-05-30T14:30:43.256Z"
   },
   {
    "duration": 8,
    "start_time": "2023-05-30T14:30:43.262Z"
   },
   {
    "duration": 17,
    "start_time": "2023-05-30T14:30:43.271Z"
   },
   {
    "duration": 9,
    "start_time": "2023-05-30T14:30:43.326Z"
   },
   {
    "duration": 93,
    "start_time": "2023-05-30T14:30:43.337Z"
   },
   {
    "duration": 886,
    "start_time": "2023-05-30T14:31:23.758Z"
   },
   {
    "duration": 3,
    "start_time": "2023-05-30T14:31:30.897Z"
   },
   {
    "duration": 95,
    "start_time": "2023-05-30T14:31:30.902Z"
   },
   {
    "duration": 9,
    "start_time": "2023-05-30T14:31:30.998Z"
   },
   {
    "duration": 34,
    "start_time": "2023-05-30T14:31:31.008Z"
   },
   {
    "duration": 52,
    "start_time": "2023-05-30T14:31:31.044Z"
   },
   {
    "duration": 604,
    "start_time": "2023-05-30T14:31:31.098Z"
   },
   {
    "duration": 6,
    "start_time": "2023-05-30T14:31:31.704Z"
   },
   {
    "duration": 14,
    "start_time": "2023-05-30T14:31:31.712Z"
   },
   {
    "duration": 27,
    "start_time": "2023-05-30T14:31:31.728Z"
   },
   {
    "duration": 21,
    "start_time": "2023-05-30T14:31:31.757Z"
   },
   {
    "duration": 15,
    "start_time": "2023-05-30T14:31:31.780Z"
   },
   {
    "duration": 17,
    "start_time": "2023-05-30T14:31:31.797Z"
   },
   {
    "duration": 27,
    "start_time": "2023-05-30T14:31:31.815Z"
   },
   {
    "duration": 32,
    "start_time": "2023-05-30T14:31:31.844Z"
   },
   {
    "duration": 24,
    "start_time": "2023-05-30T14:31:31.878Z"
   },
   {
    "duration": 30,
    "start_time": "2023-05-30T14:31:31.904Z"
   },
   {
    "duration": 11,
    "start_time": "2023-05-30T14:31:31.936Z"
   },
   {
    "duration": 7,
    "start_time": "2023-05-30T14:31:32.025Z"
   },
   {
    "duration": 22,
    "start_time": "2023-05-30T14:31:32.034Z"
   },
   {
    "duration": 12,
    "start_time": "2023-05-30T14:31:32.058Z"
   },
   {
    "duration": 18,
    "start_time": "2023-05-30T14:31:32.071Z"
   },
   {
    "duration": 8,
    "start_time": "2023-05-30T14:31:32.091Z"
   },
   {
    "duration": 6,
    "start_time": "2023-05-30T14:31:32.100Z"
   },
   {
    "duration": 18,
    "start_time": "2023-05-30T14:31:32.108Z"
   },
   {
    "duration": 4,
    "start_time": "2023-05-30T14:31:32.128Z"
   },
   {
    "duration": 95,
    "start_time": "2023-05-30T14:31:32.134Z"
   },
   {
    "duration": 690,
    "start_time": "2023-05-30T14:31:51.599Z"
   },
   {
    "duration": 3,
    "start_time": "2023-05-30T14:31:55.760Z"
   },
   {
    "duration": 77,
    "start_time": "2023-05-30T14:31:55.764Z"
   },
   {
    "duration": 9,
    "start_time": "2023-05-30T14:31:55.842Z"
   },
   {
    "duration": 0,
    "start_time": "2023-05-30T14:31:55.853Z"
   },
   {
    "duration": 0,
    "start_time": "2023-05-30T14:31:55.855Z"
   },
   {
    "duration": 0,
    "start_time": "2023-05-30T14:31:55.856Z"
   },
   {
    "duration": 0,
    "start_time": "2023-05-30T14:31:55.858Z"
   },
   {
    "duration": 0,
    "start_time": "2023-05-30T14:31:55.859Z"
   },
   {
    "duration": 0,
    "start_time": "2023-05-30T14:31:55.861Z"
   },
   {
    "duration": 0,
    "start_time": "2023-05-30T14:31:55.862Z"
   },
   {
    "duration": 0,
    "start_time": "2023-05-30T14:31:55.864Z"
   },
   {
    "duration": 0,
    "start_time": "2023-05-30T14:31:55.865Z"
   },
   {
    "duration": 0,
    "start_time": "2023-05-30T14:31:55.867Z"
   },
   {
    "duration": 0,
    "start_time": "2023-05-30T14:31:55.867Z"
   },
   {
    "duration": 0,
    "start_time": "2023-05-30T14:31:55.869Z"
   },
   {
    "duration": 0,
    "start_time": "2023-05-30T14:31:55.870Z"
   },
   {
    "duration": 0,
    "start_time": "2023-05-30T14:31:55.870Z"
   },
   {
    "duration": 0,
    "start_time": "2023-05-30T14:31:55.871Z"
   },
   {
    "duration": 0,
    "start_time": "2023-05-30T14:31:55.873Z"
   },
   {
    "duration": 0,
    "start_time": "2023-05-30T14:31:55.874Z"
   },
   {
    "duration": 0,
    "start_time": "2023-05-30T14:31:55.875Z"
   },
   {
    "duration": 0,
    "start_time": "2023-05-30T14:31:55.876Z"
   },
   {
    "duration": 0,
    "start_time": "2023-05-30T14:31:55.878Z"
   },
   {
    "duration": 0,
    "start_time": "2023-05-30T14:31:55.878Z"
   },
   {
    "duration": 0,
    "start_time": "2023-05-30T14:31:55.880Z"
   },
   {
    "duration": 0,
    "start_time": "2023-05-30T14:31:55.925Z"
   },
   {
    "duration": 4,
    "start_time": "2023-05-30T14:38:32.996Z"
   },
   {
    "duration": 74,
    "start_time": "2023-05-30T14:38:33.001Z"
   },
   {
    "duration": 9,
    "start_time": "2023-05-30T14:38:33.077Z"
   },
   {
    "duration": 29,
    "start_time": "2023-05-30T14:38:33.088Z"
   },
   {
    "duration": 602,
    "start_time": "2023-05-30T14:38:33.119Z"
   },
   {
    "duration": 5,
    "start_time": "2023-05-30T14:38:33.724Z"
   },
   {
    "duration": 3,
    "start_time": "2023-05-30T14:38:33.731Z"
   },
   {
    "duration": 12,
    "start_time": "2023-05-30T14:38:33.735Z"
   },
   {
    "duration": 3,
    "start_time": "2023-05-30T14:38:33.749Z"
   },
   {
    "duration": 10,
    "start_time": "2023-05-30T14:38:33.754Z"
   },
   {
    "duration": 7,
    "start_time": "2023-05-30T14:38:33.765Z"
   },
   {
    "duration": 7,
    "start_time": "2023-05-30T14:38:33.773Z"
   },
   {
    "duration": 9,
    "start_time": "2023-05-30T14:38:33.781Z"
   },
   {
    "duration": 35,
    "start_time": "2023-05-30T14:38:33.792Z"
   },
   {
    "duration": 6,
    "start_time": "2023-05-30T14:38:33.829Z"
   },
   {
    "duration": 88,
    "start_time": "2023-05-30T14:38:33.837Z"
   },
   {
    "duration": 8,
    "start_time": "2023-05-30T14:38:33.927Z"
   },
   {
    "duration": 11,
    "start_time": "2023-05-30T14:38:33.936Z"
   },
   {
    "duration": 16,
    "start_time": "2023-05-30T14:38:33.948Z"
   },
   {
    "duration": 4,
    "start_time": "2023-05-30T14:38:33.966Z"
   },
   {
    "duration": 12,
    "start_time": "2023-05-30T14:38:33.972Z"
   },
   {
    "duration": 35,
    "start_time": "2023-05-30T14:38:33.985Z"
   },
   {
    "duration": 12,
    "start_time": "2023-05-30T14:38:34.021Z"
   },
   {
    "duration": 95,
    "start_time": "2023-05-30T14:38:34.037Z"
   },
   {
    "duration": 95,
    "start_time": "2023-05-30T14:38:34.135Z"
   },
   {
    "duration": 7,
    "start_time": "2023-05-30T14:38:51.812Z"
   },
   {
    "duration": 1352,
    "start_time": "2023-05-30T15:12:46.947Z"
   },
   {
    "duration": 62,
    "start_time": "2023-05-30T15:12:48.301Z"
   },
   {
    "duration": 11,
    "start_time": "2023-05-30T15:12:48.365Z"
   },
   {
    "duration": 49,
    "start_time": "2023-05-30T15:12:48.378Z"
   },
   {
    "duration": 670,
    "start_time": "2023-05-30T15:12:48.429Z"
   },
   {
    "duration": 6,
    "start_time": "2023-05-30T15:12:49.101Z"
   },
   {
    "duration": 23,
    "start_time": "2023-05-30T15:12:49.108Z"
   },
   {
    "duration": 27,
    "start_time": "2023-05-30T15:12:49.132Z"
   },
   {
    "duration": 27,
    "start_time": "2023-05-30T15:12:49.160Z"
   },
   {
    "duration": 29,
    "start_time": "2023-05-30T15:12:49.190Z"
   },
   {
    "duration": 12,
    "start_time": "2023-05-30T15:12:49.220Z"
   },
   {
    "duration": 32,
    "start_time": "2023-05-30T15:12:49.233Z"
   },
   {
    "duration": 13,
    "start_time": "2023-05-30T15:12:49.266Z"
   },
   {
    "duration": 24,
    "start_time": "2023-05-30T15:12:49.281Z"
   },
   {
    "duration": 31,
    "start_time": "2023-05-30T15:12:49.307Z"
   },
   {
    "duration": 89,
    "start_time": "2023-05-30T15:12:49.341Z"
   },
   {
    "duration": 20,
    "start_time": "2023-05-30T15:12:49.432Z"
   },
   {
    "duration": 14,
    "start_time": "2023-05-30T15:12:49.454Z"
   },
   {
    "duration": 46,
    "start_time": "2023-05-30T15:12:49.470Z"
   },
   {
    "duration": 29,
    "start_time": "2023-05-30T15:12:49.518Z"
   },
   {
    "duration": 18,
    "start_time": "2023-05-30T15:12:49.548Z"
   },
   {
    "duration": 9,
    "start_time": "2023-05-30T15:12:49.567Z"
   },
   {
    "duration": 17,
    "start_time": "2023-05-30T15:12:49.578Z"
   },
   {
    "duration": 5,
    "start_time": "2023-05-30T15:12:49.624Z"
   },
   {
    "duration": 99,
    "start_time": "2023-05-30T15:12:49.631Z"
   },
   {
    "duration": 1192,
    "start_time": "2023-05-30T15:30:25.981Z"
   },
   {
    "duration": 66,
    "start_time": "2023-05-30T15:30:27.175Z"
   },
   {
    "duration": 10,
    "start_time": "2023-05-30T15:30:27.243Z"
   },
   {
    "duration": 21,
    "start_time": "2023-05-30T15:30:27.255Z"
   },
   {
    "duration": 642,
    "start_time": "2023-05-30T15:30:27.278Z"
   },
   {
    "duration": 6,
    "start_time": "2023-05-30T15:30:27.924Z"
   },
   {
    "duration": 10,
    "start_time": "2023-05-30T15:30:27.931Z"
   },
   {
    "duration": 21,
    "start_time": "2023-05-30T15:30:27.943Z"
   },
   {
    "duration": 3,
    "start_time": "2023-05-30T15:30:27.966Z"
   },
   {
    "duration": 18,
    "start_time": "2023-05-30T15:30:27.972Z"
   },
   {
    "duration": 16,
    "start_time": "2023-05-30T15:30:27.992Z"
   },
   {
    "duration": 21,
    "start_time": "2023-05-30T15:30:28.010Z"
   },
   {
    "duration": 19,
    "start_time": "2023-05-30T15:30:28.032Z"
   },
   {
    "duration": 22,
    "start_time": "2023-05-30T15:30:28.053Z"
   },
   {
    "duration": 50,
    "start_time": "2023-05-30T15:30:28.077Z"
   },
   {
    "duration": 15,
    "start_time": "2023-05-30T15:30:28.129Z"
   },
   {
    "duration": 10,
    "start_time": "2023-05-30T15:30:28.225Z"
   },
   {
    "duration": 12,
    "start_time": "2023-05-30T15:30:28.237Z"
   },
   {
    "duration": 18,
    "start_time": "2023-05-30T15:30:28.250Z"
   },
   {
    "duration": 6,
    "start_time": "2023-05-30T15:30:28.270Z"
   },
   {
    "duration": 8,
    "start_time": "2023-05-30T15:30:28.278Z"
   },
   {
    "duration": 5,
    "start_time": "2023-05-30T15:30:28.287Z"
   },
   {
    "duration": 36,
    "start_time": "2023-05-30T15:30:28.293Z"
   },
   {
    "duration": 95,
    "start_time": "2023-05-30T15:30:28.332Z"
   },
   {
    "duration": 26,
    "start_time": "2023-05-30T15:30:28.429Z"
   },
   {
    "duration": 5,
    "start_time": "2023-05-30T15:34:00.636Z"
   },
   {
    "duration": 98,
    "start_time": "2023-05-30T15:34:00.642Z"
   },
   {
    "duration": 10,
    "start_time": "2023-05-30T15:34:00.742Z"
   },
   {
    "duration": 49,
    "start_time": "2023-05-30T15:34:00.754Z"
   },
   {
    "duration": 621,
    "start_time": "2023-05-30T15:34:00.804Z"
   },
   {
    "duration": 5,
    "start_time": "2023-05-30T15:34:01.426Z"
   },
   {
    "duration": 96,
    "start_time": "2023-05-30T15:34:01.433Z"
   },
   {
    "duration": 80,
    "start_time": "2023-05-30T15:34:01.530Z"
   },
   {
    "duration": 26,
    "start_time": "2023-05-30T15:34:01.613Z"
   },
   {
    "duration": 44,
    "start_time": "2023-05-30T15:34:01.641Z"
   },
   {
    "duration": 36,
    "start_time": "2023-05-30T15:34:01.687Z"
   },
   {
    "duration": 30,
    "start_time": "2023-05-30T15:34:01.725Z"
   },
   {
    "duration": 62,
    "start_time": "2023-05-30T15:34:01.756Z"
   },
   {
    "duration": 34,
    "start_time": "2023-05-30T15:34:01.820Z"
   },
   {
    "duration": 39,
    "start_time": "2023-05-30T15:34:01.855Z"
   },
   {
    "duration": 215,
    "start_time": "2023-05-30T15:34:01.897Z"
   },
   {
    "duration": 0,
    "start_time": "2023-05-30T15:34:02.114Z"
   },
   {
    "duration": 0,
    "start_time": "2023-05-30T15:34:02.124Z"
   },
   {
    "duration": 0,
    "start_time": "2023-05-30T15:34:02.126Z"
   },
   {
    "duration": 0,
    "start_time": "2023-05-30T15:34:02.127Z"
   },
   {
    "duration": 0,
    "start_time": "2023-05-30T15:34:02.129Z"
   },
   {
    "duration": 0,
    "start_time": "2023-05-30T15:34:02.229Z"
   },
   {
    "duration": 0,
    "start_time": "2023-05-30T15:34:02.230Z"
   },
   {
    "duration": 0,
    "start_time": "2023-05-30T15:34:02.232Z"
   },
   {
    "duration": 0,
    "start_time": "2023-05-30T15:34:02.233Z"
   },
   {
    "duration": 0,
    "start_time": "2023-05-30T15:34:02.234Z"
   },
   {
    "duration": 4,
    "start_time": "2023-05-30T15:34:25.036Z"
   },
   {
    "duration": 4,
    "start_time": "2023-05-30T15:35:19.731Z"
   },
   {
    "duration": 10,
    "start_time": "2023-05-30T15:36:06.539Z"
   },
   {
    "duration": 11,
    "start_time": "2023-05-30T15:38:36.146Z"
   },
   {
    "duration": 3,
    "start_time": "2023-05-30T15:38:43.787Z"
   },
   {
    "duration": 80,
    "start_time": "2023-05-30T15:38:43.792Z"
   },
   {
    "duration": 10,
    "start_time": "2023-05-30T15:38:43.873Z"
   },
   {
    "duration": 21,
    "start_time": "2023-05-30T15:38:43.884Z"
   },
   {
    "duration": 578,
    "start_time": "2023-05-30T15:38:43.907Z"
   },
   {
    "duration": 5,
    "start_time": "2023-05-30T15:38:44.486Z"
   },
   {
    "duration": 9,
    "start_time": "2023-05-30T15:38:44.493Z"
   },
   {
    "duration": 28,
    "start_time": "2023-05-30T15:38:44.503Z"
   },
   {
    "duration": 15,
    "start_time": "2023-05-30T15:38:44.533Z"
   },
   {
    "duration": 26,
    "start_time": "2023-05-30T15:38:44.550Z"
   },
   {
    "duration": 19,
    "start_time": "2023-05-30T15:38:44.577Z"
   },
   {
    "duration": 20,
    "start_time": "2023-05-30T15:38:44.598Z"
   },
   {
    "duration": 14,
    "start_time": "2023-05-30T15:38:44.619Z"
   },
   {
    "duration": 10,
    "start_time": "2023-05-30T15:38:44.635Z"
   },
   {
    "duration": 18,
    "start_time": "2023-05-30T15:38:44.646Z"
   },
   {
    "duration": 69,
    "start_time": "2023-05-30T15:38:44.666Z"
   },
   {
    "duration": 104,
    "start_time": "2023-05-30T15:38:44.738Z"
   },
   {
    "duration": 0,
    "start_time": "2023-05-30T15:38:44.844Z"
   },
   {
    "duration": 0,
    "start_time": "2023-05-30T15:38:44.845Z"
   },
   {
    "duration": 0,
    "start_time": "2023-05-30T15:38:44.846Z"
   },
   {
    "duration": 0,
    "start_time": "2023-05-30T15:38:44.848Z"
   },
   {
    "duration": 0,
    "start_time": "2023-05-30T15:38:44.849Z"
   },
   {
    "duration": 0,
    "start_time": "2023-05-30T15:38:44.850Z"
   },
   {
    "duration": 0,
    "start_time": "2023-05-30T15:38:44.852Z"
   },
   {
    "duration": 0,
    "start_time": "2023-05-30T15:38:44.853Z"
   },
   {
    "duration": 0,
    "start_time": "2023-05-30T15:38:44.854Z"
   },
   {
    "duration": 4,
    "start_time": "2023-05-30T15:39:13.874Z"
   },
   {
    "duration": 73,
    "start_time": "2023-05-30T15:39:13.879Z"
   },
   {
    "duration": 11,
    "start_time": "2023-05-30T15:39:13.954Z"
   },
   {
    "duration": 20,
    "start_time": "2023-05-30T15:39:13.967Z"
   },
   {
    "duration": 579,
    "start_time": "2023-05-30T15:39:13.989Z"
   },
   {
    "duration": 6,
    "start_time": "2023-05-30T15:39:14.570Z"
   },
   {
    "duration": 15,
    "start_time": "2023-05-30T15:39:14.578Z"
   },
   {
    "duration": 16,
    "start_time": "2023-05-30T15:39:14.595Z"
   },
   {
    "duration": 16,
    "start_time": "2023-05-30T15:39:14.613Z"
   },
   {
    "duration": 25,
    "start_time": "2023-05-30T15:39:14.631Z"
   },
   {
    "duration": 20,
    "start_time": "2023-05-30T15:39:14.657Z"
   },
   {
    "duration": 15,
    "start_time": "2023-05-30T15:39:14.678Z"
   },
   {
    "duration": 14,
    "start_time": "2023-05-30T15:39:14.694Z"
   },
   {
    "duration": 8,
    "start_time": "2023-05-30T15:39:14.710Z"
   },
   {
    "duration": 31,
    "start_time": "2023-05-30T15:39:14.719Z"
   },
   {
    "duration": 81,
    "start_time": "2023-05-30T15:39:14.752Z"
   },
   {
    "duration": 103,
    "start_time": "2023-05-30T15:39:14.835Z"
   },
   {
    "duration": 30,
    "start_time": "2023-05-30T15:39:14.939Z"
   },
   {
    "duration": 21,
    "start_time": "2023-05-30T15:39:14.970Z"
   },
   {
    "duration": 71,
    "start_time": "2023-05-30T15:39:14.993Z"
   },
   {
    "duration": 35,
    "start_time": "2023-05-30T15:39:15.066Z"
   },
   {
    "duration": 29,
    "start_time": "2023-05-30T15:39:15.103Z"
   },
   {
    "duration": 35,
    "start_time": "2023-05-30T15:39:15.134Z"
   },
   {
    "duration": 21,
    "start_time": "2023-05-30T15:39:15.171Z"
   },
   {
    "duration": 39,
    "start_time": "2023-05-30T15:39:15.194Z"
   },
   {
    "duration": 0,
    "start_time": "2023-05-30T15:39:15.235Z"
   },
   {
    "duration": 3,
    "start_time": "2023-05-30T15:40:45.471Z"
   },
   {
    "duration": 85,
    "start_time": "2023-05-30T15:40:45.476Z"
   },
   {
    "duration": 9,
    "start_time": "2023-05-30T15:40:45.563Z"
   },
   {
    "duration": 25,
    "start_time": "2023-05-30T15:40:45.574Z"
   },
   {
    "duration": 601,
    "start_time": "2023-05-30T15:40:45.600Z"
   },
   {
    "duration": 5,
    "start_time": "2023-05-30T15:40:46.203Z"
   },
   {
    "duration": 24,
    "start_time": "2023-05-30T15:40:46.209Z"
   },
   {
    "duration": 29,
    "start_time": "2023-05-30T15:40:46.234Z"
   },
   {
    "duration": 4,
    "start_time": "2023-05-30T15:40:46.266Z"
   },
   {
    "duration": 20,
    "start_time": "2023-05-30T15:40:46.272Z"
   },
   {
    "duration": 19,
    "start_time": "2023-05-30T15:40:46.293Z"
   },
   {
    "duration": 10,
    "start_time": "2023-05-30T15:40:46.313Z"
   },
   {
    "duration": 6,
    "start_time": "2023-05-30T15:40:46.325Z"
   },
   {
    "duration": 6,
    "start_time": "2023-05-30T15:40:46.333Z"
   },
   {
    "duration": 15,
    "start_time": "2023-05-30T15:40:46.340Z"
   },
   {
    "duration": 85,
    "start_time": "2023-05-30T15:40:46.357Z"
   },
   {
    "duration": 83,
    "start_time": "2023-05-30T15:40:46.444Z"
   },
   {
    "duration": 193,
    "start_time": "2023-05-30T15:40:46.529Z"
   },
   {
    "duration": 0,
    "start_time": "2023-05-30T15:40:46.723Z"
   },
   {
    "duration": 0,
    "start_time": "2023-05-30T15:40:46.725Z"
   },
   {
    "duration": 0,
    "start_time": "2023-05-30T15:40:46.726Z"
   },
   {
    "duration": 0,
    "start_time": "2023-05-30T15:40:46.727Z"
   },
   {
    "duration": 0,
    "start_time": "2023-05-30T15:40:46.728Z"
   },
   {
    "duration": 0,
    "start_time": "2023-05-30T15:40:46.729Z"
   },
   {
    "duration": 0,
    "start_time": "2023-05-30T15:40:46.730Z"
   },
   {
    "duration": 4,
    "start_time": "2023-05-30T15:40:59.918Z"
   },
   {
    "duration": 74,
    "start_time": "2023-05-30T15:40:59.924Z"
   },
   {
    "duration": 12,
    "start_time": "2023-05-30T15:41:00.000Z"
   },
   {
    "duration": 93,
    "start_time": "2023-05-30T15:41:00.013Z"
   },
   {
    "duration": 718,
    "start_time": "2023-05-30T15:41:00.108Z"
   },
   {
    "duration": 7,
    "start_time": "2023-05-30T15:41:00.828Z"
   },
   {
    "duration": 38,
    "start_time": "2023-05-30T15:41:00.836Z"
   },
   {
    "duration": 40,
    "start_time": "2023-05-30T15:41:00.875Z"
   },
   {
    "duration": 23,
    "start_time": "2023-05-30T15:41:00.917Z"
   },
   {
    "duration": 51,
    "start_time": "2023-05-30T15:41:00.942Z"
   },
   {
    "duration": 50,
    "start_time": "2023-05-30T15:41:00.995Z"
   },
   {
    "duration": 48,
    "start_time": "2023-05-30T15:41:01.046Z"
   },
   {
    "duration": 47,
    "start_time": "2023-05-30T15:41:01.096Z"
   },
   {
    "duration": 115,
    "start_time": "2023-05-30T15:41:01.144Z"
   },
   {
    "duration": 166,
    "start_time": "2023-05-30T15:41:01.261Z"
   },
   {
    "duration": 46,
    "start_time": "2023-05-30T15:41:01.429Z"
   },
   {
    "duration": 27,
    "start_time": "2023-05-30T15:41:01.476Z"
   },
   {
    "duration": 62,
    "start_time": "2023-05-30T15:41:01.505Z"
   },
   {
    "duration": 37,
    "start_time": "2023-05-30T15:41:01.569Z"
   },
   {
    "duration": 78,
    "start_time": "2023-05-30T15:41:01.608Z"
   },
   {
    "duration": 98,
    "start_time": "2023-05-30T15:41:01.688Z"
   },
   {
    "duration": 47,
    "start_time": "2023-05-30T15:41:01.788Z"
   },
   {
    "duration": 41,
    "start_time": "2023-05-30T15:41:01.837Z"
   },
   {
    "duration": 45,
    "start_time": "2023-05-30T15:41:01.880Z"
   },
   {
    "duration": 105,
    "start_time": "2023-05-30T15:41:01.928Z"
   },
   {
    "duration": 1186,
    "start_time": "2023-05-30T15:44:02.187Z"
   },
   {
    "duration": 57,
    "start_time": "2023-05-30T15:44:03.375Z"
   },
   {
    "duration": 10,
    "start_time": "2023-05-30T15:44:03.434Z"
   },
   {
    "duration": 52,
    "start_time": "2023-05-30T15:44:03.446Z"
   },
   {
    "duration": 626,
    "start_time": "2023-05-30T15:44:03.499Z"
   },
   {
    "duration": 5,
    "start_time": "2023-05-30T15:44:04.127Z"
   },
   {
    "duration": 34,
    "start_time": "2023-05-30T15:44:04.134Z"
   },
   {
    "duration": 45,
    "start_time": "2023-05-30T15:44:04.169Z"
   },
   {
    "duration": 41,
    "start_time": "2023-05-30T15:44:04.216Z"
   },
   {
    "duration": 40,
    "start_time": "2023-05-30T15:44:04.259Z"
   },
   {
    "duration": 23,
    "start_time": "2023-05-30T15:44:04.300Z"
   },
   {
    "duration": 30,
    "start_time": "2023-05-30T15:44:04.325Z"
   },
   {
    "duration": 38,
    "start_time": "2023-05-30T15:44:04.357Z"
   },
   {
    "duration": 39,
    "start_time": "2023-05-30T15:44:04.396Z"
   },
   {
    "duration": 90,
    "start_time": "2023-05-30T15:44:04.437Z"
   },
   {
    "duration": 99,
    "start_time": "2023-05-30T15:44:04.529Z"
   },
   {
    "duration": 38,
    "start_time": "2023-05-30T15:44:04.630Z"
   },
   {
    "duration": 23,
    "start_time": "2023-05-30T15:44:04.669Z"
   },
   {
    "duration": 31,
    "start_time": "2023-05-30T15:44:04.694Z"
   },
   {
    "duration": 28,
    "start_time": "2023-05-30T15:44:04.726Z"
   },
   {
    "duration": 39,
    "start_time": "2023-05-30T15:44:04.756Z"
   },
   {
    "duration": 23,
    "start_time": "2023-05-30T15:44:04.796Z"
   },
   {
    "duration": 31,
    "start_time": "2023-05-30T15:44:04.821Z"
   },
   {
    "duration": 78,
    "start_time": "2023-05-30T15:44:04.855Z"
   },
   {
    "duration": 96,
    "start_time": "2023-05-30T15:44:04.935Z"
   },
   {
    "duration": 1294,
    "start_time": "2023-05-30T15:48:53.902Z"
   },
   {
    "duration": 56,
    "start_time": "2023-05-30T15:48:55.198Z"
   },
   {
    "duration": 9,
    "start_time": "2023-05-30T15:48:55.256Z"
   },
   {
    "duration": 52,
    "start_time": "2023-05-30T15:48:55.267Z"
   },
   {
    "duration": 595,
    "start_time": "2023-05-30T15:48:55.320Z"
   },
   {
    "duration": 10,
    "start_time": "2023-05-30T15:48:55.917Z"
   },
   {
    "duration": 5,
    "start_time": "2023-05-30T15:48:55.929Z"
   },
   {
    "duration": 15,
    "start_time": "2023-05-30T15:48:55.935Z"
   },
   {
    "duration": 10,
    "start_time": "2023-05-30T15:48:55.951Z"
   },
   {
    "duration": 8,
    "start_time": "2023-05-30T15:48:55.963Z"
   },
   {
    "duration": 10,
    "start_time": "2023-05-30T15:48:55.973Z"
   },
   {
    "duration": 5,
    "start_time": "2023-05-30T15:48:55.985Z"
   },
   {
    "duration": 8,
    "start_time": "2023-05-30T15:48:55.991Z"
   },
   {
    "duration": 25,
    "start_time": "2023-05-30T15:48:56.001Z"
   },
   {
    "duration": 8,
    "start_time": "2023-05-30T15:48:56.028Z"
   },
   {
    "duration": 87,
    "start_time": "2023-05-30T15:48:56.038Z"
   },
   {
    "duration": 9,
    "start_time": "2023-05-30T15:48:56.127Z"
   },
   {
    "duration": 7,
    "start_time": "2023-05-30T15:48:56.137Z"
   },
   {
    "duration": 12,
    "start_time": "2023-05-30T15:48:56.145Z"
   },
   {
    "duration": 5,
    "start_time": "2023-05-30T15:48:56.158Z"
   },
   {
    "duration": 16,
    "start_time": "2023-05-30T15:48:56.165Z"
   },
   {
    "duration": 4,
    "start_time": "2023-05-30T15:48:56.226Z"
   },
   {
    "duration": 33,
    "start_time": "2023-05-30T15:48:56.231Z"
   },
   {
    "duration": 59,
    "start_time": "2023-05-30T15:48:56.266Z"
   },
   {
    "duration": 9,
    "start_time": "2023-05-30T15:48:56.328Z"
   },
   {
    "duration": 2186,
    "start_time": "2023-05-30T15:55:53.087Z"
   },
   {
    "duration": 143,
    "start_time": "2023-05-30T15:55:55.275Z"
   },
   {
    "duration": 11,
    "start_time": "2023-05-30T15:55:55.420Z"
   },
   {
    "duration": 32,
    "start_time": "2023-05-30T15:55:55.433Z"
   },
   {
    "duration": 644,
    "start_time": "2023-05-30T15:55:55.466Z"
   },
   {
    "duration": 6,
    "start_time": "2023-05-30T15:55:56.112Z"
   },
   {
    "duration": 11,
    "start_time": "2023-05-30T15:55:56.119Z"
   },
   {
    "duration": 25,
    "start_time": "2023-05-30T15:55:56.132Z"
   },
   {
    "duration": 4,
    "start_time": "2023-05-30T15:55:56.159Z"
   },
   {
    "duration": 16,
    "start_time": "2023-05-30T15:55:56.165Z"
   },
   {
    "duration": 19,
    "start_time": "2023-05-30T15:55:56.182Z"
   },
   {
    "duration": 7,
    "start_time": "2023-05-30T15:55:56.203Z"
   },
   {
    "duration": 15,
    "start_time": "2023-05-30T15:55:56.211Z"
   },
   {
    "duration": 14,
    "start_time": "2023-05-30T15:55:56.228Z"
   },
   {
    "duration": 109,
    "start_time": "2023-05-30T15:55:56.278Z"
   },
   {
    "duration": 11,
    "start_time": "2023-05-30T15:55:56.389Z"
   },
   {
    "duration": 12,
    "start_time": "2023-05-30T15:55:56.402Z"
   },
   {
    "duration": 10,
    "start_time": "2023-05-30T15:55:56.416Z"
   },
   {
    "duration": 12,
    "start_time": "2023-05-30T15:55:56.428Z"
   },
   {
    "duration": 16,
    "start_time": "2023-05-30T15:55:56.443Z"
   },
   {
    "duration": 17,
    "start_time": "2023-05-30T15:55:56.461Z"
   },
   {
    "duration": 9,
    "start_time": "2023-05-30T15:55:56.480Z"
   },
   {
    "duration": 19,
    "start_time": "2023-05-30T15:55:56.491Z"
   },
   {
    "duration": 66,
    "start_time": "2023-05-30T15:55:56.512Z"
   },
   {
    "duration": 15,
    "start_time": "2023-05-30T15:55:56.580Z"
   },
   {
    "duration": 1986,
    "start_time": "2023-05-30T16:18:31.849Z"
   },
   {
    "duration": 72,
    "start_time": "2023-05-30T16:18:33.837Z"
   },
   {
    "duration": 11,
    "start_time": "2023-05-30T16:18:33.911Z"
   },
   {
    "duration": 25,
    "start_time": "2023-05-30T16:18:33.924Z"
   },
   {
    "duration": 764,
    "start_time": "2023-05-30T16:18:33.950Z"
   },
   {
    "duration": 7,
    "start_time": "2023-05-30T16:18:34.716Z"
   },
   {
    "duration": 5,
    "start_time": "2023-05-30T16:18:34.724Z"
   },
   {
    "duration": 14,
    "start_time": "2023-05-30T16:18:34.731Z"
   },
   {
    "duration": 4,
    "start_time": "2023-05-30T16:18:34.746Z"
   },
   {
    "duration": 27,
    "start_time": "2023-05-30T16:18:34.752Z"
   },
   {
    "duration": 16,
    "start_time": "2023-05-30T16:18:34.781Z"
   },
   {
    "duration": 8,
    "start_time": "2023-05-30T16:18:34.799Z"
   },
   {
    "duration": 8,
    "start_time": "2023-05-30T16:18:34.809Z"
   },
   {
    "duration": 11,
    "start_time": "2023-05-30T16:18:34.818Z"
   },
   {
    "duration": 52,
    "start_time": "2023-05-30T16:18:34.830Z"
   },
   {
    "duration": 93,
    "start_time": "2023-05-30T16:18:34.884Z"
   },
   {
    "duration": 8,
    "start_time": "2023-05-30T16:18:34.979Z"
   },
   {
    "duration": 9,
    "start_time": "2023-05-30T16:18:34.988Z"
   },
   {
    "duration": 13,
    "start_time": "2023-05-30T16:18:34.998Z"
   },
   {
    "duration": 5,
    "start_time": "2023-05-30T16:18:35.012Z"
   },
   {
    "duration": 7,
    "start_time": "2023-05-30T16:18:35.019Z"
   },
   {
    "duration": 9,
    "start_time": "2023-05-30T16:18:35.028Z"
   },
   {
    "duration": 42,
    "start_time": "2023-05-30T16:18:35.038Z"
   },
   {
    "duration": 4,
    "start_time": "2023-05-30T16:18:35.082Z"
   },
   {
    "duration": 108,
    "start_time": "2023-05-30T16:18:35.088Z"
   },
   {
    "duration": 8,
    "start_time": "2023-05-30T16:24:44.458Z"
   },
   {
    "duration": 10,
    "start_time": "2023-05-30T16:24:48.715Z"
   },
   {
    "duration": 3,
    "start_time": "2023-05-30T16:24:53.154Z"
   },
   {
    "duration": 10,
    "start_time": "2023-05-30T16:24:55.149Z"
   },
   {
    "duration": 11,
    "start_time": "2023-05-30T16:26:29.346Z"
   },
   {
    "duration": 10,
    "start_time": "2023-05-30T16:26:44.668Z"
   },
   {
    "duration": 9,
    "start_time": "2023-05-30T16:26:53.445Z"
   },
   {
    "duration": 7,
    "start_time": "2023-05-30T16:27:15.889Z"
   },
   {
    "duration": 11,
    "start_time": "2023-05-30T16:27:28.549Z"
   },
   {
    "duration": 10,
    "start_time": "2023-05-30T16:28:02.791Z"
   },
   {
    "duration": 1568,
    "start_time": "2023-05-30T16:28:12.485Z"
   },
   {
    "duration": 1626,
    "start_time": "2023-05-30T16:28:15.512Z"
   },
   {
    "duration": 5,
    "start_time": "2023-05-30T16:28:21.047Z"
   },
   {
    "duration": 6,
    "start_time": "2023-05-30T16:28:33.849Z"
   },
   {
    "duration": 10,
    "start_time": "2023-05-30T16:29:27.088Z"
   },
   {
    "duration": 4,
    "start_time": "2023-05-30T16:29:34.090Z"
   },
   {
    "duration": 9,
    "start_time": "2023-05-30T16:29:45.946Z"
   },
   {
    "duration": 9,
    "start_time": "2023-05-30T16:29:57.101Z"
   },
   {
    "duration": 9,
    "start_time": "2023-05-30T16:30:20.338Z"
   },
   {
    "duration": 5,
    "start_time": "2023-05-30T16:30:27.280Z"
   },
   {
    "duration": 10,
    "start_time": "2023-05-30T16:30:34.009Z"
   },
   {
    "duration": 11,
    "start_time": "2023-05-30T16:30:40.362Z"
   },
   {
    "duration": 10,
    "start_time": "2023-05-30T16:30:49.494Z"
   },
   {
    "duration": 10,
    "start_time": "2023-05-30T16:30:55.393Z"
   },
   {
    "duration": 11,
    "start_time": "2023-05-30T16:31:05.641Z"
   },
   {
    "duration": 5,
    "start_time": "2023-05-30T16:31:09.100Z"
   },
   {
    "duration": 10,
    "start_time": "2023-05-30T16:31:16.057Z"
   },
   {
    "duration": 10,
    "start_time": "2023-05-30T16:32:13.102Z"
   },
   {
    "duration": 8,
    "start_time": "2023-05-30T16:32:26.394Z"
   },
   {
    "duration": 10,
    "start_time": "2023-05-30T16:32:39.011Z"
   },
   {
    "duration": 12,
    "start_time": "2023-05-30T16:32:51.481Z"
   },
   {
    "duration": 8,
    "start_time": "2023-05-30T16:32:57.508Z"
   },
   {
    "duration": 10,
    "start_time": "2023-05-30T16:32:59.596Z"
   },
   {
    "duration": 11,
    "start_time": "2023-05-30T16:33:07.813Z"
   },
   {
    "duration": 4,
    "start_time": "2023-05-30T16:33:18.420Z"
   },
   {
    "duration": 9,
    "start_time": "2023-05-30T16:33:27.176Z"
   },
   {
    "duration": 10,
    "start_time": "2023-05-30T16:33:36.268Z"
   },
   {
    "duration": 9,
    "start_time": "2023-05-30T16:33:41.038Z"
   },
   {
    "duration": 9,
    "start_time": "2023-05-30T16:33:46.908Z"
   },
   {
    "duration": 4,
    "start_time": "2023-05-30T16:34:13.851Z"
   },
   {
    "duration": 3,
    "start_time": "2023-05-30T16:34:19.162Z"
   },
   {
    "duration": 5,
    "start_time": "2023-05-30T16:34:21.153Z"
   },
   {
    "duration": 3,
    "start_time": "2023-05-30T16:34:32.649Z"
   },
   {
    "duration": 4,
    "start_time": "2023-05-30T16:34:38.817Z"
   },
   {
    "duration": 10,
    "start_time": "2023-05-30T16:35:42.663Z"
   },
   {
    "duration": 11,
    "start_time": "2023-05-30T16:35:51.553Z"
   },
   {
    "duration": 4,
    "start_time": "2023-05-30T16:36:00.651Z"
   },
   {
    "duration": 4,
    "start_time": "2023-05-30T16:36:03.813Z"
   },
   {
    "duration": 2112,
    "start_time": "2023-05-30T16:36:05.768Z"
   },
   {
    "duration": 5,
    "start_time": "2023-05-30T16:36:16.497Z"
   },
   {
    "duration": 8,
    "start_time": "2023-05-30T16:37:02.346Z"
   },
   {
    "duration": 10,
    "start_time": "2023-05-30T16:37:08.320Z"
   },
   {
    "duration": 11,
    "start_time": "2023-05-30T16:37:19.262Z"
   },
   {
    "duration": 10,
    "start_time": "2023-05-30T16:37:31.653Z"
   },
   {
    "duration": 2087,
    "start_time": "2023-05-30T16:38:53.996Z"
   },
   {
    "duration": 77,
    "start_time": "2023-05-30T16:38:56.085Z"
   },
   {
    "duration": 10,
    "start_time": "2023-05-30T16:38:56.163Z"
   },
   {
    "duration": 27,
    "start_time": "2023-05-30T16:38:56.175Z"
   },
   {
    "duration": 721,
    "start_time": "2023-05-30T16:38:56.204Z"
   },
   {
    "duration": 6,
    "start_time": "2023-05-30T16:38:56.926Z"
   },
   {
    "duration": 12,
    "start_time": "2023-05-30T16:38:56.933Z"
   },
   {
    "duration": 32,
    "start_time": "2023-05-30T16:38:56.946Z"
   },
   {
    "duration": 21,
    "start_time": "2023-05-30T16:38:56.980Z"
   },
   {
    "duration": 16,
    "start_time": "2023-05-30T16:38:57.004Z"
   },
   {
    "duration": 9,
    "start_time": "2023-05-30T16:38:57.022Z"
   },
   {
    "duration": 14,
    "start_time": "2023-05-30T16:38:57.033Z"
   },
   {
    "duration": 19,
    "start_time": "2023-05-30T16:38:57.048Z"
   },
   {
    "duration": 15,
    "start_time": "2023-05-30T16:38:57.068Z"
   },
   {
    "duration": 12,
    "start_time": "2023-05-30T16:38:57.086Z"
   },
   {
    "duration": 86,
    "start_time": "2023-05-30T16:38:57.100Z"
   },
   {
    "duration": 90,
    "start_time": "2023-05-30T16:38:57.188Z"
   },
   {
    "duration": 7,
    "start_time": "2023-05-30T16:38:57.280Z"
   },
   {
    "duration": 11,
    "start_time": "2023-05-30T16:38:57.288Z"
   },
   {
    "duration": 6,
    "start_time": "2023-05-30T16:38:57.300Z"
   },
   {
    "duration": 7,
    "start_time": "2023-05-30T16:38:57.307Z"
   },
   {
    "duration": 9,
    "start_time": "2023-05-30T16:38:57.316Z"
   },
   {
    "duration": 51,
    "start_time": "2023-05-30T16:38:57.326Z"
   },
   {
    "duration": 4,
    "start_time": "2023-05-30T16:38:57.380Z"
   },
   {
    "duration": 96,
    "start_time": "2023-05-30T16:38:57.387Z"
   },
   {
    "duration": 9,
    "start_time": "2023-05-30T16:39:12.992Z"
   },
   {
    "duration": 11,
    "start_time": "2023-05-30T16:39:21.244Z"
   },
   {
    "duration": 15,
    "start_time": "2023-05-30T16:39:25.826Z"
   },
   {
    "duration": 10,
    "start_time": "2023-05-30T16:39:32.875Z"
   },
   {
    "duration": 4,
    "start_time": "2023-05-30T16:39:47.933Z"
   },
   {
    "duration": 13,
    "start_time": "2023-05-30T16:39:53.858Z"
   },
   {
    "duration": 15,
    "start_time": "2023-05-30T16:40:05.306Z"
   },
   {
    "duration": 12,
    "start_time": "2023-05-30T16:40:08.980Z"
   },
   {
    "duration": 14,
    "start_time": "2023-05-30T16:40:19.286Z"
   },
   {
    "duration": 14,
    "start_time": "2023-05-30T16:40:34.904Z"
   },
   {
    "duration": 15,
    "start_time": "2023-05-30T16:40:40.944Z"
   },
   {
    "duration": 11,
    "start_time": "2023-05-30T16:40:51.982Z"
   },
   {
    "duration": 1876,
    "start_time": "2023-05-30T16:41:12.238Z"
   },
   {
    "duration": 80,
    "start_time": "2023-05-30T16:41:14.116Z"
   },
   {
    "duration": 10,
    "start_time": "2023-05-30T16:41:14.198Z"
   },
   {
    "duration": 25,
    "start_time": "2023-05-30T16:41:14.210Z"
   },
   {
    "duration": 666,
    "start_time": "2023-05-30T16:41:14.237Z"
   },
   {
    "duration": 6,
    "start_time": "2023-05-30T16:41:14.904Z"
   },
   {
    "duration": 8,
    "start_time": "2023-05-30T16:41:14.911Z"
   },
   {
    "duration": 30,
    "start_time": "2023-05-30T16:41:14.920Z"
   },
   {
    "duration": 8,
    "start_time": "2023-05-30T16:41:14.952Z"
   },
   {
    "duration": 13,
    "start_time": "2023-05-30T16:41:14.961Z"
   },
   {
    "duration": 6,
    "start_time": "2023-05-30T16:41:14.975Z"
   },
   {
    "duration": 8,
    "start_time": "2023-05-30T16:41:14.982Z"
   },
   {
    "duration": 6,
    "start_time": "2023-05-30T16:41:14.991Z"
   },
   {
    "duration": 39,
    "start_time": "2023-05-30T16:41:14.999Z"
   },
   {
    "duration": 44,
    "start_time": "2023-05-30T16:41:15.040Z"
   },
   {
    "duration": 92,
    "start_time": "2023-05-30T16:41:15.086Z"
   },
   {
    "duration": 8,
    "start_time": "2023-05-30T16:41:15.179Z"
   },
   {
    "duration": 21,
    "start_time": "2023-05-30T16:41:15.189Z"
   },
   {
    "duration": 3,
    "start_time": "2023-05-30T16:41:15.212Z"
   },
   {
    "duration": 14,
    "start_time": "2023-05-30T16:41:15.216Z"
   },
   {
    "duration": 11,
    "start_time": "2023-05-30T16:41:15.232Z"
   },
   {
    "duration": 22,
    "start_time": "2023-05-30T16:41:15.245Z"
   },
   {
    "duration": 12,
    "start_time": "2023-05-30T16:41:15.268Z"
   },
   {
    "duration": 17,
    "start_time": "2023-05-30T16:41:15.282Z"
   },
   {
    "duration": 73,
    "start_time": "2023-05-30T16:41:15.304Z"
   },
   {
    "duration": 96,
    "start_time": "2023-05-30T16:41:15.381Z"
   },
   {
    "duration": 10,
    "start_time": "2023-05-30T16:42:22.094Z"
   },
   {
    "duration": 9,
    "start_time": "2023-05-30T16:42:39.193Z"
   },
   {
    "duration": 13,
    "start_time": "2023-05-30T16:42:58.122Z"
   },
   {
    "duration": 12,
    "start_time": "2023-05-30T16:43:01.001Z"
   },
   {
    "duration": 8,
    "start_time": "2023-05-30T16:43:04.398Z"
   },
   {
    "duration": 11,
    "start_time": "2023-05-30T16:43:06.811Z"
   },
   {
    "duration": 9,
    "start_time": "2023-05-30T16:43:20.398Z"
   },
   {
    "duration": 8,
    "start_time": "2023-05-30T16:43:23.956Z"
   },
   {
    "duration": 8,
    "start_time": "2023-05-30T16:43:26.414Z"
   },
   {
    "duration": 78,
    "start_time": "2023-05-30T16:43:45.185Z"
   },
   {
    "duration": 11,
    "start_time": "2023-05-30T16:43:49.902Z"
   },
   {
    "duration": 8,
    "start_time": "2023-05-30T16:43:56.039Z"
   },
   {
    "duration": 10,
    "start_time": "2023-05-30T16:43:59.622Z"
   },
   {
    "duration": 8,
    "start_time": "2023-05-30T16:44:12.310Z"
   },
   {
    "duration": 11,
    "start_time": "2023-05-30T16:44:22.494Z"
   },
   {
    "duration": 2251,
    "start_time": "2023-05-30T16:45:00.182Z"
   },
   {
    "duration": 181,
    "start_time": "2023-05-30T16:45:02.434Z"
   },
   {
    "duration": 12,
    "start_time": "2023-05-30T16:45:02.616Z"
   },
   {
    "duration": 41,
    "start_time": "2023-05-30T16:45:02.631Z"
   },
   {
    "duration": 718,
    "start_time": "2023-05-30T16:45:02.675Z"
   },
   {
    "duration": 6,
    "start_time": "2023-05-30T16:45:03.395Z"
   },
   {
    "duration": 15,
    "start_time": "2023-05-30T16:45:03.403Z"
   },
   {
    "duration": 42,
    "start_time": "2023-05-30T16:45:03.420Z"
   },
   {
    "duration": 14,
    "start_time": "2023-05-30T16:45:03.463Z"
   },
   {
    "duration": 37,
    "start_time": "2023-05-30T16:45:03.480Z"
   },
   {
    "duration": 15,
    "start_time": "2023-05-30T16:45:03.519Z"
   },
   {
    "duration": 21,
    "start_time": "2023-05-30T16:45:03.536Z"
   },
   {
    "duration": 10,
    "start_time": "2023-05-30T16:45:03.559Z"
   },
   {
    "duration": 10,
    "start_time": "2023-05-30T16:45:03.571Z"
   },
   {
    "duration": 100,
    "start_time": "2023-05-30T16:45:03.584Z"
   },
   {
    "duration": 91,
    "start_time": "2023-05-30T16:45:03.686Z"
   },
   {
    "duration": 11,
    "start_time": "2023-05-30T16:45:03.779Z"
   },
   {
    "duration": 12,
    "start_time": "2023-05-30T16:45:03.791Z"
   },
   {
    "duration": 9,
    "start_time": "2023-05-30T16:45:03.804Z"
   },
   {
    "duration": 11,
    "start_time": "2023-05-30T16:45:03.815Z"
   },
   {
    "duration": 5,
    "start_time": "2023-05-30T16:45:03.828Z"
   },
   {
    "duration": 14,
    "start_time": "2023-05-30T16:45:03.834Z"
   },
   {
    "duration": 12,
    "start_time": "2023-05-30T16:45:03.850Z"
   },
   {
    "duration": 22,
    "start_time": "2023-05-30T16:45:03.863Z"
   },
   {
    "duration": 90,
    "start_time": "2023-05-30T16:45:03.887Z"
   },
   {
    "duration": 9,
    "start_time": "2023-05-30T16:45:03.980Z"
   },
   {
    "duration": 5,
    "start_time": "2023-05-30T16:45:35.874Z"
   },
   {
    "duration": 3,
    "start_time": "2023-05-30T16:45:37.855Z"
   },
   {
    "duration": 9,
    "start_time": "2023-05-30T16:45:55.773Z"
   },
   {
    "duration": 10,
    "start_time": "2023-05-30T16:46:05.918Z"
   },
   {
    "duration": 10,
    "start_time": "2023-05-30T16:46:13.309Z"
   },
   {
    "duration": 2,
    "start_time": "2023-05-30T16:46:19.199Z"
   },
   {
    "duration": 5,
    "start_time": "2023-05-30T16:46:29.915Z"
   },
   {
    "duration": 9,
    "start_time": "2023-05-30T16:46:32.454Z"
   },
   {
    "duration": 9,
    "start_time": "2023-05-30T16:46:51.082Z"
   },
   {
    "duration": 5,
    "start_time": "2023-05-30T16:46:58.025Z"
   },
   {
    "duration": 10,
    "start_time": "2023-05-30T16:47:01.632Z"
   },
   {
    "duration": 2,
    "start_time": "2023-05-30T16:47:06.749Z"
   },
   {
    "duration": 9,
    "start_time": "2023-05-30T16:47:08.978Z"
   },
   {
    "duration": 6,
    "start_time": "2023-05-30T16:47:37.000Z"
   },
   {
    "duration": 1986,
    "start_time": "2023-05-30T16:48:54.368Z"
   },
   {
    "duration": 145,
    "start_time": "2023-05-30T16:48:56.356Z"
   },
   {
    "duration": 14,
    "start_time": "2023-05-30T16:48:56.503Z"
   },
   {
    "duration": 36,
    "start_time": "2023-05-30T16:48:56.519Z"
   },
   {
    "duration": 689,
    "start_time": "2023-05-30T16:48:56.557Z"
   },
   {
    "duration": 7,
    "start_time": "2023-05-30T16:48:57.248Z"
   },
   {
    "duration": 9,
    "start_time": "2023-05-30T16:48:57.256Z"
   },
   {
    "duration": 21,
    "start_time": "2023-05-30T16:48:57.267Z"
   },
   {
    "duration": 4,
    "start_time": "2023-05-30T16:48:57.290Z"
   },
   {
    "duration": 12,
    "start_time": "2023-05-30T16:48:57.297Z"
   },
   {
    "duration": 9,
    "start_time": "2023-05-30T16:48:57.310Z"
   },
   {
    "duration": 18,
    "start_time": "2023-05-30T16:48:57.320Z"
   },
   {
    "duration": 7,
    "start_time": "2023-05-30T16:48:57.339Z"
   },
   {
    "duration": 30,
    "start_time": "2023-05-30T16:48:57.347Z"
   },
   {
    "duration": 20,
    "start_time": "2023-05-30T16:48:57.379Z"
   },
   {
    "duration": 85,
    "start_time": "2023-05-30T16:48:57.401Z"
   },
   {
    "duration": 17,
    "start_time": "2023-05-30T16:48:57.487Z"
   },
   {
    "duration": 3,
    "start_time": "2023-05-30T16:48:57.505Z"
   },
   {
    "duration": 14,
    "start_time": "2023-05-30T16:48:57.510Z"
   },
   {
    "duration": 20,
    "start_time": "2023-05-30T16:48:57.526Z"
   },
   {
    "duration": 11,
    "start_time": "2023-05-30T16:48:57.547Z"
   },
   {
    "duration": 19,
    "start_time": "2023-05-30T16:48:57.560Z"
   },
   {
    "duration": 10,
    "start_time": "2023-05-30T16:48:57.581Z"
   },
   {
    "duration": 9,
    "start_time": "2023-05-30T16:48:57.592Z"
   },
   {
    "duration": 10,
    "start_time": "2023-05-30T16:48:57.602Z"
   },
   {
    "duration": 5,
    "start_time": "2023-05-30T16:48:57.614Z"
   },
   {
    "duration": 11,
    "start_time": "2023-05-30T16:48:57.676Z"
   },
   {
    "duration": 10,
    "start_time": "2023-05-30T16:49:05.721Z"
   },
   {
    "duration": 2028,
    "start_time": "2023-05-30T16:49:40.158Z"
   },
   {
    "duration": 81,
    "start_time": "2023-05-30T16:49:42.188Z"
   },
   {
    "duration": 11,
    "start_time": "2023-05-30T16:49:42.270Z"
   },
   {
    "duration": 27,
    "start_time": "2023-05-30T16:49:42.283Z"
   },
   {
    "duration": 679,
    "start_time": "2023-05-30T16:49:42.312Z"
   },
   {
    "duration": 5,
    "start_time": "2023-05-30T16:49:42.993Z"
   },
   {
    "duration": 6,
    "start_time": "2023-05-30T16:49:43.000Z"
   },
   {
    "duration": 23,
    "start_time": "2023-05-30T16:49:43.007Z"
   },
   {
    "duration": 7,
    "start_time": "2023-05-30T16:49:43.031Z"
   },
   {
    "duration": 22,
    "start_time": "2023-05-30T16:49:43.040Z"
   },
   {
    "duration": 19,
    "start_time": "2023-05-30T16:49:43.064Z"
   },
   {
    "duration": 15,
    "start_time": "2023-05-30T16:49:43.084Z"
   },
   {
    "duration": 9,
    "start_time": "2023-05-30T16:49:43.100Z"
   },
   {
    "duration": 14,
    "start_time": "2023-05-30T16:49:43.111Z"
   },
   {
    "duration": 51,
    "start_time": "2023-05-30T16:49:43.127Z"
   },
   {
    "duration": 15,
    "start_time": "2023-05-30T16:49:43.180Z"
   },
   {
    "duration": 84,
    "start_time": "2023-05-30T16:49:43.196Z"
   },
   {
    "duration": 10,
    "start_time": "2023-05-30T16:49:43.282Z"
   },
   {
    "duration": 15,
    "start_time": "2023-05-30T16:49:43.294Z"
   },
   {
    "duration": 6,
    "start_time": "2023-05-30T16:49:43.311Z"
   },
   {
    "duration": 13,
    "start_time": "2023-05-30T16:49:43.319Z"
   },
   {
    "duration": 9,
    "start_time": "2023-05-30T16:49:43.333Z"
   },
   {
    "duration": 7,
    "start_time": "2023-05-30T16:49:43.343Z"
   },
   {
    "duration": 24,
    "start_time": "2023-05-30T16:49:43.352Z"
   },
   {
    "duration": 4,
    "start_time": "2023-05-30T16:49:43.378Z"
   },
   {
    "duration": 12,
    "start_time": "2023-05-30T16:49:43.384Z"
   },
   {
    "duration": 79,
    "start_time": "2023-05-30T16:49:43.398Z"
   },
   {
    "duration": 98,
    "start_time": "2023-05-30T16:49:43.480Z"
   },
   {
    "duration": 9,
    "start_time": "2023-05-30T16:52:56.100Z"
   },
   {
    "duration": 1617,
    "start_time": "2023-05-31T12:18:49.450Z"
   },
   {
    "duration": 128,
    "start_time": "2023-05-31T12:18:51.075Z"
   },
   {
    "duration": 12,
    "start_time": "2023-05-31T12:18:51.204Z"
   },
   {
    "duration": 28,
    "start_time": "2023-05-31T12:18:51.219Z"
   },
   {
    "duration": 827,
    "start_time": "2023-05-31T12:18:51.250Z"
   },
   {
    "duration": 6,
    "start_time": "2023-05-31T12:18:52.083Z"
   },
   {
    "duration": 25,
    "start_time": "2023-05-31T12:18:52.091Z"
   },
   {
    "duration": 13,
    "start_time": "2023-05-31T12:18:52.118Z"
   },
   {
    "duration": 8,
    "start_time": "2023-05-31T12:18:52.133Z"
   },
   {
    "duration": 18,
    "start_time": "2023-05-31T12:18:52.143Z"
   },
   {
    "duration": 39,
    "start_time": "2023-05-31T12:18:52.163Z"
   },
   {
    "duration": 16,
    "start_time": "2023-05-31T12:18:52.204Z"
   },
   {
    "duration": 25,
    "start_time": "2023-05-31T12:18:52.222Z"
   },
   {
    "duration": 41,
    "start_time": "2023-05-31T12:18:52.249Z"
   },
   {
    "duration": 78,
    "start_time": "2023-05-31T12:18:52.292Z"
   },
   {
    "duration": 88,
    "start_time": "2023-05-31T12:18:52.372Z"
   },
   {
    "duration": 18,
    "start_time": "2023-05-31T12:18:52.465Z"
   },
   {
    "duration": 4,
    "start_time": "2023-05-31T12:18:52.485Z"
   },
   {
    "duration": 24,
    "start_time": "2023-05-31T12:18:52.491Z"
   },
   {
    "duration": 15,
    "start_time": "2023-05-31T12:18:52.517Z"
   },
   {
    "duration": 28,
    "start_time": "2023-05-31T12:18:52.534Z"
   },
   {
    "duration": 17,
    "start_time": "2023-05-31T12:18:52.565Z"
   },
   {
    "duration": 9,
    "start_time": "2023-05-31T12:18:52.585Z"
   },
   {
    "duration": 31,
    "start_time": "2023-05-31T12:18:52.596Z"
   },
   {
    "duration": 10,
    "start_time": "2023-05-31T12:18:52.629Z"
   },
   {
    "duration": 19,
    "start_time": "2023-05-31T12:18:52.642Z"
   },
   {
    "duration": 11,
    "start_time": "2023-05-31T12:18:52.663Z"
   },
   {
    "duration": 85,
    "start_time": "2023-05-31T12:18:52.677Z"
   },
   {
    "duration": 5,
    "start_time": "2023-05-31T12:19:42.388Z"
   },
   {
    "duration": 5,
    "start_time": "2023-05-31T12:19:49.239Z"
   },
   {
    "duration": 13,
    "start_time": "2023-05-31T12:19:50.812Z"
   },
   {
    "duration": 4,
    "start_time": "2023-05-31T12:19:56.703Z"
   },
   {
    "duration": 79,
    "start_time": "2023-05-31T12:19:56.727Z"
   },
   {
    "duration": 11,
    "start_time": "2023-05-31T12:19:56.808Z"
   },
   {
    "duration": 33,
    "start_time": "2023-05-31T12:19:56.821Z"
   },
   {
    "duration": 743,
    "start_time": "2023-05-31T12:19:56.856Z"
   },
   {
    "duration": 6,
    "start_time": "2023-05-31T12:19:57.602Z"
   },
   {
    "duration": 35,
    "start_time": "2023-05-31T12:19:57.610Z"
   },
   {
    "duration": 50,
    "start_time": "2023-05-31T12:19:57.647Z"
   },
   {
    "duration": 7,
    "start_time": "2023-05-31T12:19:57.699Z"
   },
   {
    "duration": 11,
    "start_time": "2023-05-31T12:19:57.708Z"
   },
   {
    "duration": 5,
    "start_time": "2023-05-31T12:19:57.722Z"
   },
   {
    "duration": 8,
    "start_time": "2023-05-31T12:19:57.729Z"
   },
   {
    "duration": 34,
    "start_time": "2023-05-31T12:19:57.738Z"
   },
   {
    "duration": 6,
    "start_time": "2023-05-31T12:19:57.778Z"
   },
   {
    "duration": 79,
    "start_time": "2023-05-31T12:19:57.789Z"
   },
   {
    "duration": 21,
    "start_time": "2023-05-31T12:19:57.870Z"
   },
   {
    "duration": 68,
    "start_time": "2023-05-31T12:19:57.892Z"
   },
   {
    "duration": 3,
    "start_time": "2023-05-31T12:19:57.963Z"
   },
   {
    "duration": 113,
    "start_time": "2023-05-31T12:19:57.968Z"
   },
   {
    "duration": 2,
    "start_time": "2023-05-31T12:19:58.083Z"
   },
   {
    "duration": 6,
    "start_time": "2023-05-31T12:19:58.088Z"
   },
   {
    "duration": 14,
    "start_time": "2023-05-31T12:19:58.096Z"
   },
   {
    "duration": 5,
    "start_time": "2023-05-31T12:19:58.112Z"
   },
   {
    "duration": 4,
    "start_time": "2023-05-31T12:19:58.118Z"
   },
   {
    "duration": 31,
    "start_time": "2023-05-31T12:19:58.123Z"
   },
   {
    "duration": 17,
    "start_time": "2023-05-31T12:19:58.161Z"
   },
   {
    "duration": 10,
    "start_time": "2023-05-31T12:19:58.179Z"
   },
   {
    "duration": 69,
    "start_time": "2023-05-31T12:19:58.191Z"
   },
   {
    "duration": 4,
    "start_time": "2023-05-31T12:20:46.238Z"
   },
   {
    "duration": 78,
    "start_time": "2023-05-31T12:20:46.244Z"
   },
   {
    "duration": 10,
    "start_time": "2023-05-31T12:20:46.324Z"
   },
   {
    "duration": 37,
    "start_time": "2023-05-31T12:20:46.335Z"
   },
   {
    "duration": 726,
    "start_time": "2023-05-31T12:20:46.374Z"
   },
   {
    "duration": 6,
    "start_time": "2023-05-31T12:20:47.102Z"
   },
   {
    "duration": 4,
    "start_time": "2023-05-31T12:20:47.110Z"
   },
   {
    "duration": 19,
    "start_time": "2023-05-31T12:20:47.115Z"
   },
   {
    "duration": 32,
    "start_time": "2023-05-31T12:20:47.137Z"
   },
   {
    "duration": 11,
    "start_time": "2023-05-31T12:20:47.170Z"
   },
   {
    "duration": 5,
    "start_time": "2023-05-31T12:20:47.183Z"
   },
   {
    "duration": 6,
    "start_time": "2023-05-31T12:20:47.190Z"
   },
   {
    "duration": 8,
    "start_time": "2023-05-31T12:20:47.198Z"
   },
   {
    "duration": 11,
    "start_time": "2023-05-31T12:20:47.207Z"
   },
   {
    "duration": 25,
    "start_time": "2023-05-31T12:20:47.251Z"
   },
   {
    "duration": 79,
    "start_time": "2023-05-31T12:20:47.278Z"
   },
   {
    "duration": 23,
    "start_time": "2023-05-31T12:20:47.361Z"
   },
   {
    "duration": 13,
    "start_time": "2023-05-31T12:20:47.385Z"
   },
   {
    "duration": 29,
    "start_time": "2023-05-31T12:20:47.399Z"
   },
   {
    "duration": 8,
    "start_time": "2023-05-31T12:20:47.430Z"
   },
   {
    "duration": 9,
    "start_time": "2023-05-31T12:20:47.440Z"
   },
   {
    "duration": 23,
    "start_time": "2023-05-31T12:20:47.456Z"
   },
   {
    "duration": 5,
    "start_time": "2023-05-31T12:20:47.484Z"
   },
   {
    "duration": 5,
    "start_time": "2023-05-31T12:20:47.491Z"
   },
   {
    "duration": 5,
    "start_time": "2023-05-31T12:20:47.498Z"
   },
   {
    "duration": 12,
    "start_time": "2023-05-31T12:20:47.504Z"
   },
   {
    "duration": 12,
    "start_time": "2023-05-31T12:20:47.554Z"
   },
   {
    "duration": 98,
    "start_time": "2023-05-31T12:20:47.568Z"
   },
   {
    "duration": 5,
    "start_time": "2023-05-31T12:22:26.874Z"
   },
   {
    "duration": 72,
    "start_time": "2023-05-31T12:22:26.881Z"
   },
   {
    "duration": 20,
    "start_time": "2023-05-31T12:22:26.963Z"
   },
   {
    "duration": 25,
    "start_time": "2023-05-31T12:22:26.985Z"
   },
   {
    "duration": 716,
    "start_time": "2023-05-31T12:22:27.011Z"
   },
   {
    "duration": 6,
    "start_time": "2023-05-31T12:22:27.729Z"
   },
   {
    "duration": 2,
    "start_time": "2023-05-31T12:22:27.737Z"
   },
   {
    "duration": 18,
    "start_time": "2023-05-31T12:22:27.752Z"
   },
   {
    "duration": 6,
    "start_time": "2023-05-31T12:22:27.774Z"
   },
   {
    "duration": 14,
    "start_time": "2023-05-31T12:22:27.785Z"
   },
   {
    "duration": 9,
    "start_time": "2023-05-31T12:22:27.801Z"
   },
   {
    "duration": 12,
    "start_time": "2023-05-31T12:22:27.812Z"
   },
   {
    "duration": 9,
    "start_time": "2023-05-31T12:22:27.825Z"
   },
   {
    "duration": 46,
    "start_time": "2023-05-31T12:22:27.836Z"
   },
   {
    "duration": 11,
    "start_time": "2023-05-31T12:22:27.884Z"
   },
   {
    "duration": 69,
    "start_time": "2023-05-31T12:22:27.896Z"
   },
   {
    "duration": 88,
    "start_time": "2023-05-31T12:22:27.966Z"
   },
   {
    "duration": 19,
    "start_time": "2023-05-31T12:22:28.057Z"
   },
   {
    "duration": 13,
    "start_time": "2023-05-31T12:22:28.078Z"
   },
   {
    "duration": 4,
    "start_time": "2023-05-31T12:22:28.093Z"
   },
   {
    "duration": 8,
    "start_time": "2023-05-31T12:22:28.099Z"
   },
   {
    "duration": 9,
    "start_time": "2023-05-31T12:22:28.109Z"
   },
   {
    "duration": 6,
    "start_time": "2023-05-31T12:22:28.119Z"
   },
   {
    "duration": 5,
    "start_time": "2023-05-31T12:22:28.127Z"
   },
   {
    "duration": 13,
    "start_time": "2023-05-31T12:22:28.155Z"
   },
   {
    "duration": 18,
    "start_time": "2023-05-31T12:22:28.169Z"
   },
   {
    "duration": 68,
    "start_time": "2023-05-31T12:22:28.189Z"
   },
   {
    "duration": 28,
    "start_time": "2023-05-31T12:22:28.261Z"
   },
   {
    "duration": 6,
    "start_time": "2023-05-31T12:24:04.549Z"
   },
   {
    "duration": 99,
    "start_time": "2023-05-31T12:24:04.565Z"
   },
   {
    "duration": 23,
    "start_time": "2023-05-31T12:24:04.666Z"
   },
   {
    "duration": 25,
    "start_time": "2023-05-31T12:24:04.691Z"
   },
   {
    "duration": 728,
    "start_time": "2023-05-31T12:24:04.717Z"
   },
   {
    "duration": 20,
    "start_time": "2023-05-31T12:24:05.447Z"
   },
   {
    "duration": 19,
    "start_time": "2023-05-31T12:24:05.474Z"
   },
   {
    "duration": 25,
    "start_time": "2023-05-31T12:24:05.495Z"
   },
   {
    "duration": 4,
    "start_time": "2023-05-31T12:24:05.522Z"
   },
   {
    "duration": 28,
    "start_time": "2023-05-31T12:24:05.527Z"
   },
   {
    "duration": 11,
    "start_time": "2023-05-31T12:24:05.561Z"
   },
   {
    "duration": 9,
    "start_time": "2023-05-31T12:24:05.576Z"
   },
   {
    "duration": 5,
    "start_time": "2023-05-31T12:24:05.587Z"
   },
   {
    "duration": 9,
    "start_time": "2023-05-31T12:24:05.594Z"
   },
   {
    "duration": 53,
    "start_time": "2023-05-31T12:24:05.607Z"
   },
   {
    "duration": 18,
    "start_time": "2023-05-31T12:24:05.663Z"
   },
   {
    "duration": 71,
    "start_time": "2023-05-31T12:24:05.684Z"
   },
   {
    "duration": 12,
    "start_time": "2023-05-31T12:24:05.757Z"
   },
   {
    "duration": 22,
    "start_time": "2023-05-31T12:24:05.771Z"
   },
   {
    "duration": 5,
    "start_time": "2023-05-31T12:24:05.795Z"
   },
   {
    "duration": 11,
    "start_time": "2023-05-31T12:24:05.802Z"
   },
   {
    "duration": 10,
    "start_time": "2023-05-31T12:24:05.815Z"
   },
   {
    "duration": 7,
    "start_time": "2023-05-31T12:24:05.827Z"
   },
   {
    "duration": 25,
    "start_time": "2023-05-31T12:24:05.835Z"
   },
   {
    "duration": 7,
    "start_time": "2023-05-31T12:24:05.864Z"
   },
   {
    "duration": 38,
    "start_time": "2023-05-31T12:24:05.877Z"
   },
   {
    "duration": 50,
    "start_time": "2023-05-31T12:24:05.917Z"
   },
   {
    "duration": 109,
    "start_time": "2023-05-31T12:24:05.969Z"
   }
  ],
  "kernelspec": {
   "display_name": "Python 3 (ipykernel)",
   "language": "python",
   "name": "python3"
  },
  "language_info": {
   "codemirror_mode": {
    "name": "ipython",
    "version": 3
   },
   "file_extension": ".py",
   "mimetype": "text/x-python",
   "name": "python",
   "nbconvert_exporter": "python",
   "pygments_lexer": "ipython3",
   "version": "3.7.4"
  },
  "toc": {
   "base_numbering": 1,
   "nav_menu": {},
   "number_sections": true,
   "sideBar": true,
   "skip_h1_title": true,
   "title_cell": "Содержание",
   "title_sidebar": "Contents",
   "toc_cell": true,
   "toc_position": {
    "height": "calc(100% - 180px)",
    "left": "10px",
    "top": "150px",
    "width": "371px"
   },
   "toc_section_display": true,
   "toc_window_display": true
  }
 },
 "nbformat": 4,
 "nbformat_minor": 2
}
