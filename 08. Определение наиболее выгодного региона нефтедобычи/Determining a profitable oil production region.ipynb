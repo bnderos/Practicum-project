{
 "cells": [
  {
   "cell_type": "markdown",
   "metadata": {},
   "source": [
    "# Выбор локации для скважины"
   ]
  },
  {
   "cell_type": "markdown",
   "metadata": {},
   "source": [
    "Допустим, вы работаете в добывающей компании «ГлавРосГосНефть». Нужно решить, где бурить новую скважину.\n",
    "\n",
    "Вам предоставлены пробы нефти в трёх регионах: в каждом 10 000 месторождений, где измерили качество нефти и объём её запасов. Постройте модель машинного обучения, которая поможет определить регион, где добыча принесёт наибольшую прибыль. Проанализируйте возможную прибыль и риски техникой *Bootstrap.*\n",
    "\n",
    "Шаги для выбора локации:\n",
    "\n",
    "- В избранном регионе ищут месторождения, для каждого определяют значения признаков;\n",
    "- Строят модель и оценивают объём запасов;\n",
    "- Выбирают месторождения с самым высокими оценками значений. Количество месторождений зависит от бюджета компании и стоимости разработки одной скважины;\n",
    "- Прибыль равна суммарной прибыли отобранных месторождений."
   ]
  },
  {
   "cell_type": "markdown",
   "metadata": {},
   "source": [
    "**Цель:** Построить модель для определения региона, где добыча принесёт наибольшую прибыль.\n",
    "     \n",
    "   Работа пройдёт в несколько этапов:\n",
    " 1. Загрузка и подготовка данных.\n",
    " 2. Обучение и проверка модели.\n",
    " 3. Подготовка к расчёту прибыли.\n",
    " 4. Расчёт прибыли и рисков."
   ]
  },
  {
   "cell_type": "markdown",
   "metadata": {},
   "source": [
    "**Описание данных:**\n",
    "\n",
    "+ id — уникальный идентификатор скважины;\n",
    "+ f0, f1, f2 — три признака точек (неважно, что они означают, но сами признаки значимы);\n",
    "+ product — объём запасов в скважине (тыс. баррелей).\n",
    "\n",
    "Условия задачи:\n",
    "+ Для обучения модели подходит только линейная регрессия (остальные — недостаточно предсказуемые).\n",
    "+ При разведке региона исследуют 500 точек, из которых с помощью машинного обучения выбирают 200 лучших для разработки.\n",
    "+ Бюджет на разработку скважин в регионе — 10 млрд рублей.\n",
    "+ При нынешних ценах один баррель сырья приносит 450 рублей дохода. Доход с каждой единицы продукта составляет 450 тыс. рублей, поскольку объём указан в тысячах баррелей.\n",
    "+ После оценки рисков нужно оставить лишь те регионы, в которых вероятность убытков меньше 2.5%. Среди них выбирают регион с наибольшей средней прибылью."
   ]
  },
  {
   "cell_type": "code",
   "execution_count": 1,
   "metadata": {},
   "outputs": [],
   "source": [
    "# подключаем библиотеки\n",
    "import pandas as pd\n",
    "import numpy as np\n",
    "import seaborn as sns\n",
    "import matplotlib.pyplot as plt\n",
    "import os\n",
    "\n",
    "from scipy import stats as st\n",
    "\n",
    "from sklearn.model_selection import train_test_split, cross_val_score\n",
    "from sklearn.linear_model import LinearRegression\n",
    "from sklearn.metrics import mean_squared_error, r2_score\n",
    "\n",
    "# округляем значения до четырёх знаков после запятой\n",
    "pd.options.display.float_format = '{:.4f}'.format\n",
    "\n",
    "REGION_OIL_WELL = 500\n",
    "BEST_OIL_WELL = 200\n",
    "BUDGET = 10e9\n",
    "ONE_INCOME = 450e3\n",
    "LOSS_PROBABILITY = 2.5"
   ]
  },
  {
   "cell_type": "markdown",
   "metadata": {},
   "source": [
    "## Загрузка и подготовка данных"
   ]
  },
  {
   "cell_type": "markdown",
   "metadata": {},
   "source": [
    "Загрузим наши три датасета."
   ]
  },
  {
   "cell_type": "code",
   "execution_count": 2,
   "metadata": {},
   "outputs": [
    {
     "data": {
      "text/html": [
       "<div>\n",
       "<style scoped>\n",
       "    .dataframe tbody tr th:only-of-type {\n",
       "        vertical-align: middle;\n",
       "    }\n",
       "\n",
       "    .dataframe tbody tr th {\n",
       "        vertical-align: top;\n",
       "    }\n",
       "\n",
       "    .dataframe thead th {\n",
       "        text-align: right;\n",
       "    }\n",
       "</style>\n",
       "<table border=\"1\" class=\"dataframe\">\n",
       "  <thead>\n",
       "    <tr style=\"text-align: right;\">\n",
       "      <th></th>\n",
       "      <th>id</th>\n",
       "      <th>f0</th>\n",
       "      <th>f1</th>\n",
       "      <th>f2</th>\n",
       "      <th>product</th>\n",
       "    </tr>\n",
       "  </thead>\n",
       "  <tbody>\n",
       "    <tr>\n",
       "      <th>0</th>\n",
       "      <td>txEyH</td>\n",
       "      <td>0.7057</td>\n",
       "      <td>-0.4978</td>\n",
       "      <td>1.2212</td>\n",
       "      <td>105.2801</td>\n",
       "    </tr>\n",
       "    <tr>\n",
       "      <th>1</th>\n",
       "      <td>2acmU</td>\n",
       "      <td>1.3347</td>\n",
       "      <td>-0.3402</td>\n",
       "      <td>4.3651</td>\n",
       "      <td>73.0378</td>\n",
       "    </tr>\n",
       "    <tr>\n",
       "      <th>2</th>\n",
       "      <td>409Wp</td>\n",
       "      <td>1.0227</td>\n",
       "      <td>0.1520</td>\n",
       "      <td>1.4199</td>\n",
       "      <td>85.2656</td>\n",
       "    </tr>\n",
       "    <tr>\n",
       "      <th>3</th>\n",
       "      <td>iJLyR</td>\n",
       "      <td>-0.0322</td>\n",
       "      <td>0.1390</td>\n",
       "      <td>2.9786</td>\n",
       "      <td>168.6208</td>\n",
       "    </tr>\n",
       "    <tr>\n",
       "      <th>4</th>\n",
       "      <td>Xdl7t</td>\n",
       "      <td>1.9884</td>\n",
       "      <td>0.1554</td>\n",
       "      <td>4.7518</td>\n",
       "      <td>154.0366</td>\n",
       "    </tr>\n",
       "  </tbody>\n",
       "</table>\n",
       "</div>"
      ],
      "text/plain": [
       "      id      f0      f1     f2  product\n",
       "0  txEyH  0.7057 -0.4978 1.2212 105.2801\n",
       "1  2acmU  1.3347 -0.3402 4.3651  73.0378\n",
       "2  409Wp  1.0227  0.1520 1.4199  85.2656\n",
       "3  iJLyR -0.0322  0.1390 2.9786 168.6208\n",
       "4  Xdl7t  1.9884  0.1554 4.7518 154.0366"
      ]
     },
     "execution_count": 2,
     "metadata": {},
     "output_type": "execute_result"
    }
   ],
   "source": [
    "if os.path.exists('8. geo_data_0.csv'):\n",
    "    df_0 = pd.read_csv('8. geo_data_0.csv')\n",
    "elif os.path.exists('/datasets/geo_data_0.csv'):\n",
    "    df_0 = pd.read_csv('/datasets/geo_data_0.csv')\n",
    "else:\n",
    "    print('Nothing works.')\n",
    "df_0.head()"
   ]
  },
  {
   "cell_type": "code",
   "execution_count": 3,
   "metadata": {},
   "outputs": [
    {
     "data": {
      "text/html": [
       "<div>\n",
       "<style scoped>\n",
       "    .dataframe tbody tr th:only-of-type {\n",
       "        vertical-align: middle;\n",
       "    }\n",
       "\n",
       "    .dataframe tbody tr th {\n",
       "        vertical-align: top;\n",
       "    }\n",
       "\n",
       "    .dataframe thead th {\n",
       "        text-align: right;\n",
       "    }\n",
       "</style>\n",
       "<table border=\"1\" class=\"dataframe\">\n",
       "  <thead>\n",
       "    <tr style=\"text-align: right;\">\n",
       "      <th></th>\n",
       "      <th>id</th>\n",
       "      <th>f0</th>\n",
       "      <th>f1</th>\n",
       "      <th>f2</th>\n",
       "      <th>product</th>\n",
       "    </tr>\n",
       "  </thead>\n",
       "  <tbody>\n",
       "    <tr>\n",
       "      <th>0</th>\n",
       "      <td>kBEdx</td>\n",
       "      <td>-15.0013</td>\n",
       "      <td>-8.2760</td>\n",
       "      <td>-0.0059</td>\n",
       "      <td>3.1791</td>\n",
       "    </tr>\n",
       "    <tr>\n",
       "      <th>1</th>\n",
       "      <td>62mP7</td>\n",
       "      <td>14.2721</td>\n",
       "      <td>-3.4751</td>\n",
       "      <td>0.9992</td>\n",
       "      <td>26.9533</td>\n",
       "    </tr>\n",
       "    <tr>\n",
       "      <th>2</th>\n",
       "      <td>vyE1P</td>\n",
       "      <td>6.2632</td>\n",
       "      <td>-5.9484</td>\n",
       "      <td>5.0012</td>\n",
       "      <td>134.7663</td>\n",
       "    </tr>\n",
       "    <tr>\n",
       "      <th>3</th>\n",
       "      <td>KcrkZ</td>\n",
       "      <td>-13.0812</td>\n",
       "      <td>-11.5061</td>\n",
       "      <td>4.9994</td>\n",
       "      <td>137.9454</td>\n",
       "    </tr>\n",
       "    <tr>\n",
       "      <th>4</th>\n",
       "      <td>AHL4O</td>\n",
       "      <td>12.7022</td>\n",
       "      <td>-8.1474</td>\n",
       "      <td>5.0044</td>\n",
       "      <td>134.7663</td>\n",
       "    </tr>\n",
       "  </tbody>\n",
       "</table>\n",
       "</div>"
      ],
      "text/plain": [
       "      id       f0       f1      f2  product\n",
       "0  kBEdx -15.0013  -8.2760 -0.0059   3.1791\n",
       "1  62mP7  14.2721  -3.4751  0.9992  26.9533\n",
       "2  vyE1P   6.2632  -5.9484  5.0012 134.7663\n",
       "3  KcrkZ -13.0812 -11.5061  4.9994 137.9454\n",
       "4  AHL4O  12.7022  -8.1474  5.0044 134.7663"
      ]
     },
     "execution_count": 3,
     "metadata": {},
     "output_type": "execute_result"
    }
   ],
   "source": [
    "if os.path.exists('8. geo_data_1.csv'):\n",
    "    df_1 = pd.read_csv('8. geo_data_1.csv')\n",
    "elif os.path.exists('/datasets/geo_data_1.csv'):\n",
    "    df_1 = pd.read_csv('/datasets/geo_data_1.csv')\n",
    "else:\n",
    "    print('Nothing works.')\n",
    "df_1.head()"
   ]
  },
  {
   "cell_type": "code",
   "execution_count": 4,
   "metadata": {},
   "outputs": [
    {
     "data": {
      "text/html": [
       "<div>\n",
       "<style scoped>\n",
       "    .dataframe tbody tr th:only-of-type {\n",
       "        vertical-align: middle;\n",
       "    }\n",
       "\n",
       "    .dataframe tbody tr th {\n",
       "        vertical-align: top;\n",
       "    }\n",
       "\n",
       "    .dataframe thead th {\n",
       "        text-align: right;\n",
       "    }\n",
       "</style>\n",
       "<table border=\"1\" class=\"dataframe\">\n",
       "  <thead>\n",
       "    <tr style=\"text-align: right;\">\n",
       "      <th></th>\n",
       "      <th>id</th>\n",
       "      <th>f0</th>\n",
       "      <th>f1</th>\n",
       "      <th>f2</th>\n",
       "      <th>product</th>\n",
       "    </tr>\n",
       "  </thead>\n",
       "  <tbody>\n",
       "    <tr>\n",
       "      <th>0</th>\n",
       "      <td>fwXo0</td>\n",
       "      <td>-1.1470</td>\n",
       "      <td>0.9633</td>\n",
       "      <td>-0.8290</td>\n",
       "      <td>27.7587</td>\n",
       "    </tr>\n",
       "    <tr>\n",
       "      <th>1</th>\n",
       "      <td>WJtFt</td>\n",
       "      <td>0.2628</td>\n",
       "      <td>0.2698</td>\n",
       "      <td>-2.5302</td>\n",
       "      <td>56.0697</td>\n",
       "    </tr>\n",
       "    <tr>\n",
       "      <th>2</th>\n",
       "      <td>ovLUW</td>\n",
       "      <td>0.1946</td>\n",
       "      <td>0.2890</td>\n",
       "      <td>-5.5864</td>\n",
       "      <td>62.8719</td>\n",
       "    </tr>\n",
       "    <tr>\n",
       "      <th>3</th>\n",
       "      <td>q6cA6</td>\n",
       "      <td>2.2361</td>\n",
       "      <td>-0.5538</td>\n",
       "      <td>0.9300</td>\n",
       "      <td>114.5728</td>\n",
       "    </tr>\n",
       "    <tr>\n",
       "      <th>4</th>\n",
       "      <td>WPMUX</td>\n",
       "      <td>-0.5160</td>\n",
       "      <td>1.7163</td>\n",
       "      <td>5.8990</td>\n",
       "      <td>149.6007</td>\n",
       "    </tr>\n",
       "  </tbody>\n",
       "</table>\n",
       "</div>"
      ],
      "text/plain": [
       "      id      f0      f1      f2  product\n",
       "0  fwXo0 -1.1470  0.9633 -0.8290  27.7587\n",
       "1  WJtFt  0.2628  0.2698 -2.5302  56.0697\n",
       "2  ovLUW  0.1946  0.2890 -5.5864  62.8719\n",
       "3  q6cA6  2.2361 -0.5538  0.9300 114.5728\n",
       "4  WPMUX -0.5160  1.7163  5.8990 149.6007"
      ]
     },
     "execution_count": 4,
     "metadata": {},
     "output_type": "execute_result"
    }
   ],
   "source": [
    "if os.path.exists('8. geo_data_2.csv'):\n",
    "    df_2 = pd.read_csv('8. geo_data_2.csv')\n",
    "elif os.path.exists('/datasets/geo_data_2.csv'):\n",
    "    df_2 = pd.read_csv('/datasets/geo_data_2.csv')\n",
    "else:\n",
    "    print('Nothing works.')\n",
    "df_2.head()"
   ]
  },
  {
   "cell_type": "code",
   "execution_count": 5,
   "metadata": {},
   "outputs": [],
   "source": [
    "# напишем функцию для описания и просмотра данных\n",
    "def description(df):\n",
    "    df.info()\n",
    "    display(df.describe())\n",
    "    print('Количество дубликатов', df.duplicated().sum())\n",
    "    print('Количество дубликатов по \"id\"', df['id'].duplicated().sum())\n",
    "    plt.figure(figsize = (8, 6))\n",
    "    sns.heatmap(df.corr(), annot=True, annot_kws={'size':16})\n",
    "    plt.figure(figsize = (8, 6))\n",
    "    sns.histplot(df['product'])"
   ]
  },
  {
   "cell_type": "markdown",
   "metadata": {},
   "source": [
    "### Первый регион"
   ]
  },
  {
   "cell_type": "code",
   "execution_count": 6,
   "metadata": {},
   "outputs": [
    {
     "name": "stdout",
     "output_type": "stream",
     "text": [
      "<class 'pandas.core.frame.DataFrame'>\n",
      "RangeIndex: 100000 entries, 0 to 99999\n",
      "Data columns (total 5 columns):\n",
      " #   Column   Non-Null Count   Dtype  \n",
      "---  ------   --------------   -----  \n",
      " 0   id       100000 non-null  object \n",
      " 1   f0       100000 non-null  float64\n",
      " 2   f1       100000 non-null  float64\n",
      " 3   f2       100000 non-null  float64\n",
      " 4   product  100000 non-null  float64\n",
      "dtypes: float64(4), object(1)\n",
      "memory usage: 3.8+ MB\n"
     ]
    },
    {
     "data": {
      "text/html": [
       "<div>\n",
       "<style scoped>\n",
       "    .dataframe tbody tr th:only-of-type {\n",
       "        vertical-align: middle;\n",
       "    }\n",
       "\n",
       "    .dataframe tbody tr th {\n",
       "        vertical-align: top;\n",
       "    }\n",
       "\n",
       "    .dataframe thead th {\n",
       "        text-align: right;\n",
       "    }\n",
       "</style>\n",
       "<table border=\"1\" class=\"dataframe\">\n",
       "  <thead>\n",
       "    <tr style=\"text-align: right;\">\n",
       "      <th></th>\n",
       "      <th>f0</th>\n",
       "      <th>f1</th>\n",
       "      <th>f2</th>\n",
       "      <th>product</th>\n",
       "    </tr>\n",
       "  </thead>\n",
       "  <tbody>\n",
       "    <tr>\n",
       "      <th>count</th>\n",
       "      <td>100000.0000</td>\n",
       "      <td>100000.0000</td>\n",
       "      <td>100000.0000</td>\n",
       "      <td>100000.0000</td>\n",
       "    </tr>\n",
       "    <tr>\n",
       "      <th>mean</th>\n",
       "      <td>0.5004</td>\n",
       "      <td>0.2501</td>\n",
       "      <td>2.5026</td>\n",
       "      <td>92.5000</td>\n",
       "    </tr>\n",
       "    <tr>\n",
       "      <th>std</th>\n",
       "      <td>0.8718</td>\n",
       "      <td>0.5044</td>\n",
       "      <td>3.2482</td>\n",
       "      <td>44.2887</td>\n",
       "    </tr>\n",
       "    <tr>\n",
       "      <th>min</th>\n",
       "      <td>-1.4086</td>\n",
       "      <td>-0.8482</td>\n",
       "      <td>-12.0883</td>\n",
       "      <td>0.0000</td>\n",
       "    </tr>\n",
       "    <tr>\n",
       "      <th>25%</th>\n",
       "      <td>-0.0726</td>\n",
       "      <td>-0.2009</td>\n",
       "      <td>0.2877</td>\n",
       "      <td>56.4975</td>\n",
       "    </tr>\n",
       "    <tr>\n",
       "      <th>50%</th>\n",
       "      <td>0.5024</td>\n",
       "      <td>0.2503</td>\n",
       "      <td>2.5160</td>\n",
       "      <td>91.8500</td>\n",
       "    </tr>\n",
       "    <tr>\n",
       "      <th>75%</th>\n",
       "      <td>1.0736</td>\n",
       "      <td>0.7006</td>\n",
       "      <td>4.7151</td>\n",
       "      <td>128.5641</td>\n",
       "    </tr>\n",
       "    <tr>\n",
       "      <th>max</th>\n",
       "      <td>2.3623</td>\n",
       "      <td>1.3438</td>\n",
       "      <td>16.0038</td>\n",
       "      <td>185.3643</td>\n",
       "    </tr>\n",
       "  </tbody>\n",
       "</table>\n",
       "</div>"
      ],
      "text/plain": [
       "               f0          f1          f2     product\n",
       "count 100000.0000 100000.0000 100000.0000 100000.0000\n",
       "mean       0.5004      0.2501      2.5026     92.5000\n",
       "std        0.8718      0.5044      3.2482     44.2887\n",
       "min       -1.4086     -0.8482    -12.0883      0.0000\n",
       "25%       -0.0726     -0.2009      0.2877     56.4975\n",
       "50%        0.5024      0.2503      2.5160     91.8500\n",
       "75%        1.0736      0.7006      4.7151    128.5641\n",
       "max        2.3623      1.3438     16.0038    185.3643"
      ]
     },
     "metadata": {},
     "output_type": "display_data"
    },
    {
     "name": "stdout",
     "output_type": "stream",
     "text": [
      "Количество дубликатов 0\n",
      "Количество дубликатов по \"id\" 10\n"
     ]
    },
    {
     "data": {
      "image/png": "[encoded data removed]",
      "text/plain": [
       "<Figure size 576x432 with 2 Axes>"
      ]
     },
     "metadata": {
      "needs_background": "light"
     },
     "output_type": "display_data"
    },
    {
     "data": {
      "image/png": "[encoded data removed]",
      "text/plain": [
       "<Figure size 576x432 with 1 Axes>"
      ]
     },
     "metadata": {
      "needs_background": "light"
     },
     "output_type": "display_data"
    }
   ],
   "source": [
    "description(df_0)"
   ]
  },
  {
   "cell_type": "code",
   "execution_count": 7,
   "metadata": {},
   "outputs": [
    {
     "data": {
      "text/plain": [
       "product\n",
       "0.0000      1\n",
       "0.0040      1\n",
       "0.0061      1\n",
       "0.0094      1\n",
       "0.0218      1\n",
       "           ..\n",
       "185.3520    1\n",
       "185.3550    1\n",
       "185.3556    1\n",
       "185.3627    1\n",
       "185.3643    1\n",
       "Name: product, Length: 100000, dtype: int64"
      ]
     },
     "execution_count": 7,
     "metadata": {},
     "output_type": "execute_result"
    }
   ],
   "source": [
    "df_0.groupby('product')['product'].count()"
   ]
  },
  {
   "cell_type": "markdown",
   "metadata": {},
   "source": [
    "### Второй регион"
   ]
  },
  {
   "cell_type": "code",
   "execution_count": 8,
   "metadata": {},
   "outputs": [
    {
     "name": "stdout",
     "output_type": "stream",
     "text": [
      "<class 'pandas.core.frame.DataFrame'>\n",
      "RangeIndex: 100000 entries, 0 to 99999\n",
      "Data columns (total 5 columns):\n",
      " #   Column   Non-Null Count   Dtype  \n",
      "---  ------   --------------   -----  \n",
      " 0   id       100000 non-null  object \n",
      " 1   f0       100000 non-null  float64\n",
      " 2   f1       100000 non-null  float64\n",
      " 3   f2       100000 non-null  float64\n",
      " 4   product  100000 non-null  float64\n",
      "dtypes: float64(4), object(1)\n",
      "memory usage: 3.8+ MB\n"
     ]
    },
    {
     "data": {
      "text/html": [
       "<div>\n",
       "<style scoped>\n",
       "    .dataframe tbody tr th:only-of-type {\n",
       "        vertical-align: middle;\n",
       "    }\n",
       "\n",
       "    .dataframe tbody tr th {\n",
       "        vertical-align: top;\n",
       "    }\n",
       "\n",
       "    .dataframe thead th {\n",
       "        text-align: right;\n",
       "    }\n",
       "</style>\n",
       "<table border=\"1\" class=\"dataframe\">\n",
       "  <thead>\n",
       "    <tr style=\"text-align: right;\">\n",
       "      <th></th>\n",
       "      <th>f0</th>\n",
       "      <th>f1</th>\n",
       "      <th>f2</th>\n",
       "      <th>product</th>\n",
       "    </tr>\n",
       "  </thead>\n",
       "  <tbody>\n",
       "    <tr>\n",
       "      <th>count</th>\n",
       "      <td>100000.0000</td>\n",
       "      <td>100000.0000</td>\n",
       "      <td>100000.0000</td>\n",
       "      <td>100000.0000</td>\n",
       "    </tr>\n",
       "    <tr>\n",
       "      <th>mean</th>\n",
       "      <td>1.1413</td>\n",
       "      <td>-4.7966</td>\n",
       "      <td>2.4945</td>\n",
       "      <td>68.8250</td>\n",
       "    </tr>\n",
       "    <tr>\n",
       "      <th>std</th>\n",
       "      <td>8.9659</td>\n",
       "      <td>5.1199</td>\n",
       "      <td>1.7036</td>\n",
       "      <td>45.9444</td>\n",
       "    </tr>\n",
       "    <tr>\n",
       "      <th>min</th>\n",
       "      <td>-31.6096</td>\n",
       "      <td>-26.3586</td>\n",
       "      <td>-0.0181</td>\n",
       "      <td>0.0000</td>\n",
       "    </tr>\n",
       "    <tr>\n",
       "      <th>25%</th>\n",
       "      <td>-6.2986</td>\n",
       "      <td>-8.2680</td>\n",
       "      <td>1.0000</td>\n",
       "      <td>26.9533</td>\n",
       "    </tr>\n",
       "    <tr>\n",
       "      <th>50%</th>\n",
       "      <td>1.1531</td>\n",
       "      <td>-4.8132</td>\n",
       "      <td>2.0115</td>\n",
       "      <td>57.0856</td>\n",
       "    </tr>\n",
       "    <tr>\n",
       "      <th>75%</th>\n",
       "      <td>8.6210</td>\n",
       "      <td>-1.3328</td>\n",
       "      <td>3.9999</td>\n",
       "      <td>107.8130</td>\n",
       "    </tr>\n",
       "    <tr>\n",
       "      <th>max</th>\n",
       "      <td>29.4218</td>\n",
       "      <td>18.7341</td>\n",
       "      <td>5.0197</td>\n",
       "      <td>137.9454</td>\n",
       "    </tr>\n",
       "  </tbody>\n",
       "</table>\n",
       "</div>"
      ],
      "text/plain": [
       "               f0          f1          f2     product\n",
       "count 100000.0000 100000.0000 100000.0000 100000.0000\n",
       "mean       1.1413     -4.7966      2.4945     68.8250\n",
       "std        8.9659      5.1199      1.7036     45.9444\n",
       "min      -31.6096    -26.3586     -0.0181      0.0000\n",
       "25%       -6.2986     -8.2680      1.0000     26.9533\n",
       "50%        1.1531     -4.8132      2.0115     57.0856\n",
       "75%        8.6210     -1.3328      3.9999    107.8130\n",
       "max       29.4218     18.7341      5.0197    137.9454"
      ]
     },
     "metadata": {},
     "output_type": "display_data"
    },
    {
     "name": "stdout",
     "output_type": "stream",
     "text": [
      "Количество дубликатов 0\n",
      "Количество дубликатов по \"id\" 4\n"
     ]
    },
    {
     "data": {
      "image/png": "[encoded data removed]",
      "text/plain": [
       "<Figure size 576x432 with 2 Axes>"
      ]
     },
     "metadata": {
      "needs_background": "light"
     },
     "output_type": "display_data"
    },
    {
     "data": {
      "image/png": "[encoded data removed]",
      "text/plain": [
       "<Figure size 576x432 with 1 Axes>"
      ]
     },
     "metadata": {
      "needs_background": "light"
     },
     "output_type": "display_data"
    }
   ],
   "source": [
    "description(df_1)"
   ]
  },
  {
   "cell_type": "code",
   "execution_count": 9,
   "metadata": {},
   "outputs": [
    {
     "data": {
      "text/plain": [
       "product\n",
       "0.0000      8235\n",
       "3.1791      8337\n",
       "26.9533     8468\n",
       "30.1324     8306\n",
       "53.9065     8472\n",
       "57.0856     8390\n",
       "80.8598     8320\n",
       "84.0389     8431\n",
       "107.8130    8201\n",
       "110.9921    8303\n",
       "134.7663    8304\n",
       "137.9454    8233\n",
       "Name: product, dtype: int64"
      ]
     },
     "execution_count": 9,
     "metadata": {},
     "output_type": "execute_result"
    }
   ],
   "source": [
    "df_1.groupby('product')['product'].count()"
   ]
  },
  {
   "cell_type": "markdown",
   "metadata": {},
   "source": [
    "### Третий регион"
   ]
  },
  {
   "cell_type": "code",
   "execution_count": 10,
   "metadata": {},
   "outputs": [
    {
     "name": "stdout",
     "output_type": "stream",
     "text": [
      "<class 'pandas.core.frame.DataFrame'>\n",
      "RangeIndex: 100000 entries, 0 to 99999\n",
      "Data columns (total 5 columns):\n",
      " #   Column   Non-Null Count   Dtype  \n",
      "---  ------   --------------   -----  \n",
      " 0   id       100000 non-null  object \n",
      " 1   f0       100000 non-null  float64\n",
      " 2   f1       100000 non-null  float64\n",
      " 3   f2       100000 non-null  float64\n",
      " 4   product  100000 non-null  float64\n",
      "dtypes: float64(4), object(1)\n",
      "memory usage: 3.8+ MB\n"
     ]
    },
    {
     "data": {
      "text/html": [
       "<div>\n",
       "<style scoped>\n",
       "    .dataframe tbody tr th:only-of-type {\n",
       "        vertical-align: middle;\n",
       "    }\n",
       "\n",
       "    .dataframe tbody tr th {\n",
       "        vertical-align: top;\n",
       "    }\n",
       "\n",
       "    .dataframe thead th {\n",
       "        text-align: right;\n",
       "    }\n",
       "</style>\n",
       "<table border=\"1\" class=\"dataframe\">\n",
       "  <thead>\n",
       "    <tr style=\"text-align: right;\">\n",
       "      <th></th>\n",
       "      <th>f0</th>\n",
       "      <th>f1</th>\n",
       "      <th>f2</th>\n",
       "      <th>product</th>\n",
       "    </tr>\n",
       "  </thead>\n",
       "  <tbody>\n",
       "    <tr>\n",
       "      <th>count</th>\n",
       "      <td>100000.0000</td>\n",
       "      <td>100000.0000</td>\n",
       "      <td>100000.0000</td>\n",
       "      <td>100000.0000</td>\n",
       "    </tr>\n",
       "    <tr>\n",
       "      <th>mean</th>\n",
       "      <td>0.0020</td>\n",
       "      <td>-0.0021</td>\n",
       "      <td>2.4951</td>\n",
       "      <td>95.0000</td>\n",
       "    </tr>\n",
       "    <tr>\n",
       "      <th>std</th>\n",
       "      <td>1.7320</td>\n",
       "      <td>1.7304</td>\n",
       "      <td>3.4734</td>\n",
       "      <td>44.7499</td>\n",
       "    </tr>\n",
       "    <tr>\n",
       "      <th>min</th>\n",
       "      <td>-8.7600</td>\n",
       "      <td>-7.0840</td>\n",
       "      <td>-11.9703</td>\n",
       "      <td>0.0000</td>\n",
       "    </tr>\n",
       "    <tr>\n",
       "      <th>25%</th>\n",
       "      <td>-1.1623</td>\n",
       "      <td>-1.1748</td>\n",
       "      <td>0.1304</td>\n",
       "      <td>59.4504</td>\n",
       "    </tr>\n",
       "    <tr>\n",
       "      <th>50%</th>\n",
       "      <td>0.0094</td>\n",
       "      <td>-0.0095</td>\n",
       "      <td>2.4842</td>\n",
       "      <td>94.9256</td>\n",
       "    </tr>\n",
       "    <tr>\n",
       "      <th>75%</th>\n",
       "      <td>1.1585</td>\n",
       "      <td>1.1637</td>\n",
       "      <td>4.8588</td>\n",
       "      <td>130.5950</td>\n",
       "    </tr>\n",
       "    <tr>\n",
       "      <th>max</th>\n",
       "      <td>7.2383</td>\n",
       "      <td>7.8448</td>\n",
       "      <td>16.7394</td>\n",
       "      <td>190.0298</td>\n",
       "    </tr>\n",
       "  </tbody>\n",
       "</table>\n",
       "</div>"
      ],
      "text/plain": [
       "               f0          f1          f2     product\n",
       "count 100000.0000 100000.0000 100000.0000 100000.0000\n",
       "mean       0.0020     -0.0021      2.4951     95.0000\n",
       "std        1.7320      1.7304      3.4734     44.7499\n",
       "min       -8.7600     -7.0840    -11.9703      0.0000\n",
       "25%       -1.1623     -1.1748      0.1304     59.4504\n",
       "50%        0.0094     -0.0095      2.4842     94.9256\n",
       "75%        1.1585      1.1637      4.8588    130.5950\n",
       "max        7.2383      7.8448     16.7394    190.0298"
      ]
     },
     "metadata": {},
     "output_type": "display_data"
    },
    {
     "name": "stdout",
     "output_type": "stream",
     "text": [
      "Количество дубликатов 0\n",
      "Количество дубликатов по \"id\" 4\n"
     ]
    },
    {
     "data": {
      "image/png": "[encoded data removed]",
      "text/plain": [
       "<Figure size 576x432 with 2 Axes>"
      ]
     },
     "metadata": {
      "needs_background": "light"
     },
     "output_type": "display_data"
    },
    {
     "data": {
      "image/png": "[encoded data removed]",
      "text/plain": [
       "<Figure size 576x432 with 1 Axes>"
      ]
     },
     "metadata": {
      "needs_background": "light"
     },
     "output_type": "display_data"
    }
   ],
   "source": [
    "description(df_2)"
   ]
  },
  {
   "cell_type": "markdown",
   "metadata": {},
   "source": [
    "<font color=\"blue\" size=\"5\"><u><b>Выводы по пункту 1:<b/><u/></font>   \n",
    "    \n",
    "**В данных по трём регионам:**  \n",
    "+ пропуски отсутствуют   \n",
    "+ дубликаты отсутствуют\n",
    "+ типы данных соответствуют   \n",
    "+ присутствует небольшая корреляция между целевым признаком и \"f2\", в случае второго региона корреляция 100%\n",
    "+ значения целевого признака в 1 и 3 регионах примерно одинаковые(мин, макс, среднее), во 2-ом несколько ниже\n",
    "    \n",
    "В 1 и 3 регионах значения таргета распределены нормально. Во 2-ом вообще не очень понятно - 12 значений с одинаковым объёмом запасов в 8 с лишним тысячах скважин, 8235 скважин с нулевым объёмом)))"
   ]
  },
  {
   "cell_type": "markdown",
   "metadata": {},
   "source": [
    "## Обучение и проверка модели"
   ]
  },
  {
   "cell_type": "markdown",
   "metadata": {},
   "source": [
    "**Напишем функции для разбивки данных на обучающую и валидационную выборки в соотношении 75:25\n",
    " и для вывода метрик. Масштабирование признаков мы делать не будем, так как в них нет разброса значений.**"
   ]
  },
  {
   "cell_type": "code",
   "execution_count": 11,
   "metadata": {},
   "outputs": [],
   "source": [
    "def split_df(df):\n",
    "    X = df.drop(['product', 'id'], axis=1)\n",
    "    y = df['product']\n",
    "    X_train, X_val, y_train, y_val = train_test_split(X, y, test_size=0.25, random_state=123)\n",
    "    return X_train, X_val, y_train, y_val.reset_index(drop=True)"
   ]
  },
  {
   "cell_type": "code",
   "execution_count": 12,
   "metadata": {},
   "outputs": [],
   "source": [
    "def metrics(y_val, pred_valid):\n",
    "    mse = mean_squared_error(y_val, pred_valid)\n",
    "    print(f'MSE = {mse:.5f}')\n",
    "    print(f'RMSE = {mse ** 0.5:.5f}')\n",
    "    print(f'Коэффициент детерминации(R2) = {r2_score(y_val, pred_valid):.5f}')\n",
    "    print(f'Средний запас предсказанного сырья = {pred_valid.mean():.5f}')\n",
    "    print(f'Средний запас реального сырья = {y_val.mean():.5f}')"
   ]
  },
  {
   "cell_type": "markdown",
   "metadata": {},
   "source": [
    "### Первый регион"
   ]
  },
  {
   "cell_type": "code",
   "execution_count": 13,
   "metadata": {},
   "outputs": [
    {
     "data": {
      "text/plain": [
       "((75000, 3), (75000,))"
      ]
     },
     "execution_count": 13,
     "metadata": {},
     "output_type": "execute_result"
    }
   ],
   "source": [
    "X_train_1, X_val_1, y_train_1, y_val_1 = split_df(df_0)\n",
    "X_train_1.shape, y_train_1.shape"
   ]
  },
  {
   "cell_type": "code",
   "execution_count": 14,
   "metadata": {},
   "outputs": [],
   "source": [
    "model_1 = LinearRegression()\n",
    "model_1.fit(X_train_1, y_train_1)\n",
    "pred_valid_1 = pd.Series(model_1.predict(X_val_1)) "
   ]
  },
  {
   "cell_type": "code",
   "execution_count": 15,
   "metadata": {
    "scrolled": true
   },
   "outputs": [
    {
     "name": "stdout",
     "output_type": "stream",
     "text": [
      "MSE = 1417.36158\n",
      "RMSE = 37.64786\n",
      "Коэффициент детерминации(R2) = 0.28130\n",
      "Средний запас предсказанного сырья = 92.54936\n",
      "Средний запас реального сырья = 92.85062\n"
     ]
    }
   ],
   "source": [
    "metrics(y_val_1, pred_valid_1)"
   ]
  },
  {
   "cell_type": "markdown",
   "metadata": {},
   "source": [
    "### Второй регион"
   ]
  },
  {
   "cell_type": "code",
   "execution_count": 16,
   "metadata": {},
   "outputs": [
    {
     "data": {
      "text/plain": [
       "((75000, 3), (75000,))"
      ]
     },
     "execution_count": 16,
     "metadata": {},
     "output_type": "execute_result"
    }
   ],
   "source": [
    "X_train_2, X_val_2, y_train_2, y_val_2 = split_df(df_1)\n",
    "X_train_2.shape, y_train_2.shape"
   ]
  },
  {
   "cell_type": "code",
   "execution_count": 17,
   "metadata": {},
   "outputs": [],
   "source": [
    "model_2 = LinearRegression()\n",
    "model_2.fit(X_train_2, y_train_2)\n",
    "pred_valid_2 = pd.Series(model_2.predict(X_val_2))"
   ]
  },
  {
   "cell_type": "code",
   "execution_count": 18,
   "metadata": {},
   "outputs": [
    {
     "name": "stdout",
     "output_type": "stream",
     "text": [
      "MSE = 0.80177\n",
      "RMSE = 0.89541\n",
      "Коэффициент детерминации(R2) = 0.99962\n",
      "Средний запас предсказанного сырья = 69.28002\n",
      "Средний запас реального сырья = 69.27371\n"
     ]
    }
   ],
   "source": [
    "metrics(y_val_2, pred_valid_2)"
   ]
  },
  {
   "cell_type": "markdown",
   "metadata": {},
   "source": [
    "### Третий регион"
   ]
  },
  {
   "cell_type": "code",
   "execution_count": 19,
   "metadata": {},
   "outputs": [
    {
     "data": {
      "text/plain": [
       "((75000, 3), (75000,))"
      ]
     },
     "execution_count": 19,
     "metadata": {},
     "output_type": "execute_result"
    }
   ],
   "source": [
    "X_train_3, X_val_3, y_train_3, y_val_3 = split_df(df_2)\n",
    "X_train_3.shape, y_train_3.shape"
   ]
  },
  {
   "cell_type": "code",
   "execution_count": 20,
   "metadata": {},
   "outputs": [],
   "source": [
    "model_3 = LinearRegression()\n",
    "model_3.fit(X_train_3, y_train_3)\n",
    "pred_valid_3 = pd.Series(model_3.predict(X_val_3)) "
   ]
  },
  {
   "cell_type": "code",
   "execution_count": 21,
   "metadata": {},
   "outputs": [
    {
     "name": "stdout",
     "output_type": "stream",
     "text": [
      "MSE = 1610.25880\n",
      "RMSE = 40.12803\n",
      "Коэффициент детерминации(R2) = 0.19314\n",
      "Средний запас предсказанного сырья = 95.09860\n",
      "Средний запас реального сырья = 94.87349\n"
     ]
    }
   ],
   "source": [
    "metrics(y_val_3, pred_valid_3)"
   ]
  },
  {
   "cell_type": "markdown",
   "metadata": {},
   "source": [
    "<font color=\"blue\" size=\"5\"><u><b>Выводы по пункту 2:<b/><u/></font>   \n",
    "    \n",
    "**Мы обучили модели для каждого региона, сравнили предсказания и правильные ответы на валидационной выборке. По результатам можно сказать, что лучше всего модель делает предсказания для 2-ого региона. R2 почти 1, модель предсказывает все ответы почти идеально. RMSE = 0.89541. Это и понятно, учитывя, что в датасете для второго региона всего 12 значений))). На втором месте 1-ый регион с RMSE = 37.64786. И 3-ий на третьем c RMSE = 40.12803.**"
   ]
  },
  {
   "cell_type": "markdown",
   "metadata": {},
   "source": [
    "## Подготовка к расчёту прибыли"
   ]
  },
  {
   "cell_type": "code",
   "execution_count": 22,
   "metadata": {},
   "outputs": [
    {
     "data": {
      "text/plain": [
       "50000000.0"
      ]
     },
     "execution_count": 22,
     "metadata": {},
     "output_type": "execute_result"
    }
   ],
   "source": [
    "# посчитаем минимальный доход с одной скважины (из 200 лучших), чтобы уйти в ноль\n",
    "income_best_oil_well = BUDGET / BEST_OIL_WELL\n",
    "income_best_oil_well"
   ]
  },
  {
   "cell_type": "code",
   "execution_count": 23,
   "metadata": {},
   "outputs": [
    {
     "data": {
      "text/plain": [
       "111.11111111111111"
      ]
     },
     "execution_count": 23,
     "metadata": {},
     "output_type": "execute_result"
    }
   ],
   "source": [
    "# достаточный объём сырья для безубыточной разработки новой скважины (тыс. баррелей)\n",
    "count_best_oil_well = income_best_oil_well / ONE_INCOME\n",
    "count_best_oil_well"
   ]
  },
  {
   "cell_type": "markdown",
   "metadata": {},
   "source": [
    "Сравним необходимый объём со средним по регионам."
   ]
  },
  {
   "cell_type": "code",
   "execution_count": 24,
   "metadata": {},
   "outputs": [
    {
     "name": "stdout",
     "output_type": "stream",
     "text": [
      "Средний объём по региону 1 = 92.5000\n",
      "Средний объём по региону 2 = 68.8250\n",
      "Средний объём по региону 3 = 95.0000\n"
     ]
    }
   ],
   "source": [
    "print('Средний объём по региону 1 = {:.4f}'.format(df_0['product'].mean()))\n",
    "print('Средний объём по региону 2 = {:.4f}'.format(df_1['product'].mean()))\n",
    "print('Средний объём по региону 3 = {:.4f}'.format(df_2['product'].mean()))"
   ]
  },
  {
   "cell_type": "markdown",
   "metadata": {},
   "source": [
    "<font color=\"blue\" size=\"5\"><u><b>Выводы по пункту 3:<b/><u/></font>   \n",
    "    \n",
    "**Средние показатели по регионам явно не дотягивают до необходимого объёма. Необходимо рассмотреть скважины с наибольшими запасами.**"
   ]
  },
  {
   "cell_type": "markdown",
   "metadata": {},
   "source": [
    "## Расчёт прибыли и рисков "
   ]
  },
  {
   "cell_type": "markdown",
   "metadata": {},
   "source": [
    "**Напишем функцию для расчёта прибыли по выбранным скважинам и предсказаниям модели. Выберем скважины с максимальными значениями предсказаний. Просуммируем целевое значение объёма сырья, соответствующее этим предсказаниям. Рассчитаем прибыль для полученного объёма сырья для каждого региона.**"
   ]
  },
  {
   "cell_type": "code",
   "execution_count": 25,
   "metadata": {},
   "outputs": [],
   "source": [
    "def revenue(y_val, pred_valid):\n",
    "    probs_sorted = pred_valid.sort_values(ascending=False)\n",
    "    selected = y_val[probs_sorted.index][:BEST_OIL_WELL] \n",
    "    return ONE_INCOME * selected.sum() - BUDGET"
   ]
  },
  {
   "cell_type": "code",
   "execution_count": 26,
   "metadata": {},
   "outputs": [
    {
     "name": "stdout",
     "output_type": "stream",
     "text": [
      "Прибыль для полученного объёма сырья 1-ого региона = 3534670917.261383\n",
      "Прибыль для полученного объёма сырья 2-ого региона = 2415086696.681511\n",
      "Прибыль для полученного объёма сырья 3-ого региона = 2370343863.0213737\n"
     ]
    }
   ],
   "source": [
    "print('Прибыль для полученного объёма сырья 1-ого региона =', revenue(y_val_1, pred_valid_1))\n",
    "print('Прибыль для полученного объёма сырья 2-ого региона =', revenue(y_val_2, pred_valid_2))\n",
    "print('Прибыль для полученного объёма сырья 3-ого региона =', revenue(y_val_3, pred_valid_3))"
   ]
  },
  {
   "cell_type": "markdown",
   "metadata": {},
   "source": [
    "**Применим технику Bootstrap с 1000 выборок, чтобы найти распределение прибыли. Найдите среднюю прибыль, 95%-й доверительный интервал и риск убытков. Убыток — это отрицательная прибыль.**"
   ]
  },
  {
   "cell_type": "code",
   "execution_count": 27,
   "metadata": {},
   "outputs": [],
   "source": [
    "state = np.random.RandomState(123)"
   ]
  },
  {
   "cell_type": "code",
   "execution_count": 28,
   "metadata": {},
   "outputs": [],
   "source": [
    "def boost_1000(y_val, pred_valid):\n",
    "    values = []\n",
    "    for i in range(1000):\n",
    "        y_subsample = y_val.sample(REGION_OIL_WELL, replace=True, random_state=state)\n",
    "        probs_subsample = pred_valid[y_subsample.index] \n",
    "        values.append(revenue(y_subsample, probs_subsample))\n",
    "\n",
    "    value = pd.Series(values)\n",
    "    lower = value.quantile(.025)\n",
    "    upper = value.quantile(.975)\n",
    "    conf_interval = st.t.interval(.95, df=len(value) - 1, loc=value.mean(), scale=value.sem())\n",
    "    risk_loss = len(value[value < 0]) / len(value)\n",
    "\n",
    "    print(f'Средняя выручка: {value.mean():.3f}')\n",
    "    print('95%-ый доверительный интервал для истинного среднего:', conf_interval)\n",
    "    print(f'95%-ый доверительный интервал для прогнозируемого среднего: ({lower:.3f}, {upper:.3f})')\n",
    "    print(f'Риск убытков: {risk_loss:.1%}')\n",
    "    if risk_loss*100 < LOSS_PROBABILITY:\n",
    "        print('Вероятность убытков меньше 2.5%.\\nРегион подходит для разработки. ')\n",
    "    else:\n",
    "        print('Регион не подходит для разработки. ')"
   ]
  },
  {
   "cell_type": "markdown",
   "metadata": {},
   "source": [
    "**Применим функцию для трёх регионов.**"
   ]
  },
  {
   "cell_type": "markdown",
   "metadata": {},
   "source": [
    "### Первый регион"
   ]
  },
  {
   "cell_type": "code",
   "execution_count": 29,
   "metadata": {},
   "outputs": [
    {
     "name": "stdout",
     "output_type": "stream",
     "text": [
      "Средняя выручка: 504778653.647\n",
      "95%-ый доверительный интервал для истинного среднего: (487662578.2855772, 521894729.00911546)\n",
      "95%-ый доверительный интервал для прогнозируемого среднего: (-51833206.451, 1029933076.495)\n",
      "Риск убытков: 4.0%\n",
      "Регион не подходит для разработки. \n"
     ]
    }
   ],
   "source": [
    "boost_1000(y_val_1, pred_valid_1)"
   ]
  },
  {
   "cell_type": "markdown",
   "metadata": {},
   "source": [
    "### Второй регион"
   ]
  },
  {
   "cell_type": "code",
   "execution_count": 30,
   "metadata": {},
   "outputs": [
    {
     "name": "stdout",
     "output_type": "stream",
     "text": [
      "Средняя выручка: 525920709.346\n",
      "95%-ый доверительный интервал для истинного среднего: (512427486.2738292, 539413932.4185855)\n",
      "95%-ый доверительный интервал для прогнозируемого среднего: (100008906.849, 945010745.142)\n",
      "Риск убытков: 0.9%\n",
      "Вероятность убытков меньше 2.5%.\n",
      "Регион подходит для разработки. \n"
     ]
    }
   ],
   "source": [
    "boost_1000(y_val_2, pred_valid_2)"
   ]
  },
  {
   "cell_type": "markdown",
   "metadata": {},
   "source": [
    "### Третий регион"
   ]
  },
  {
   "cell_type": "code",
   "execution_count": 31,
   "metadata": {},
   "outputs": [
    {
     "name": "stdout",
     "output_type": "stream",
     "text": [
      "Средняя выручка: 386984654.506\n",
      "95%-ый доверительный интервал для истинного среднего: (369530940.2003521, 404438368.8116574)\n",
      "95%-ый доверительный интервал для прогнозируемого среднего: (-174251108.634, 933803042.810)\n",
      "Риск убытков: 7.7%\n",
      "Регион не подходит для разработки. \n"
     ]
    }
   ],
   "source": [
    "boost_1000(y_val_3, pred_valid_3)"
   ]
  },
  {
   "cell_type": "markdown",
   "metadata": {},
   "source": [
    "<font color=\"blue\" size=\"5\"><u><b>Выводы по пункту 3:<b/><u/></font>  \n",
    "    \n",
    "**По всем расчетам Лучший для разработки является второй регион.**"
   ]
  },
  {
   "cell_type": "markdown",
   "metadata": {},
   "source": [
    "## Общий вывод:"
   ]
  },
  {
   "cell_type": "markdown",
   "metadata": {},
   "source": [
    "**В данных по трём регионам:**  \n",
    "+ пропуски отсутствуют   \n",
    "+ дубликаты отсутствуют\n",
    "+ типы данных соответствуют   \n",
    "+ присутствует небольшая корреляция между целевым признаком и \"f2\", в случае второго региона корреляция 100%\n",
    "+ значения целевого признака в 1 и 3 регионах примерно одинаковые(мин, макс, среднее), во 2-ом несколько ниже\n",
    "    \n",
    "В 1 и 3 регионах значения таргета распределены нормально. Во 2-ом - 12 значений с одинаковым объёмом запасов в 8 с лишним тысячах скважин.  \n",
    "Мы обучили модели для каждого региона, сравнили предсказания и правильные ответы на валидационной выборке. По результатам можно сказать, что лучше всего модель делает предсказания для 2-ого региона. R2 почти 1, модель предсказывает все ответы почти идеально. RMSE = 0.89541. Это и понятно, учитывя, что в датасете для второго региона всего 12 значений))). На втором месте 1-ый регион с RMSE = 37.64786. И 3-ий на третьем c RMSE = 40.12803.                \n",
    "Средние показатели по регионам явно не дотягивают до необходимого объёма.       \n",
    "Применли технику Bootstrap с 1000 выборок, чтобы найти распределение прибыли. Нашли среднюю прибыль, 95%-й доверительный интервал и риск убытков.                   \n",
    "**По всем расчетам лучший для разработки является второй регион. Хотя, для меня он и кажется каким-то фейковым (Я бы выбрал первый, но по условию он не подходит).**"
   ]
  },
  {
   "cell_type": "code",
   "execution_count": null,
   "metadata": {},
   "outputs": [],
   "source": []
  }
 ],
 "metadata": {
  "ExecuteTimeLog": [
   {
    "duration": 1372,
    "start_time": "2023-04-30T09:16:30.727Z"
   },
   {
    "duration": 411,
    "start_time": "2023-04-30T09:16:32.121Z"
   },
   {
    "duration": 2,
    "start_time": "2023-04-30T09:18:39.161Z"
   },
   {
    "duration": 169,
    "start_time": "2023-04-30T09:18:39.184Z"
   },
   {
    "duration": 228,
    "start_time": "2023-04-30T09:18:39.356Z"
   },
   {
    "duration": 249,
    "start_time": "2023-04-30T09:18:39.585Z"
   },
   {
    "duration": 5,
    "start_time": "2023-04-30T09:19:03.142Z"
   },
   {
    "duration": 195,
    "start_time": "2023-04-30T09:19:03.149Z"
   },
   {
    "duration": 161,
    "start_time": "2023-04-30T09:19:03.345Z"
   },
   {
    "duration": 182,
    "start_time": "2023-04-30T09:19:03.508Z"
   },
   {
    "duration": 3,
    "start_time": "2023-04-30T12:29:39.993Z"
   },
   {
    "duration": 103,
    "start_time": "2023-04-30T12:29:54.363Z"
   },
   {
    "duration": 3,
    "start_time": "2023-04-30T12:30:24.951Z"
   },
   {
    "duration": 80,
    "start_time": "2023-04-30T12:30:25.467Z"
   },
   {
    "duration": 103,
    "start_time": "2023-04-30T12:31:14.738Z"
   },
   {
    "duration": 3,
    "start_time": "2023-04-30T12:31:22.969Z"
   },
   {
    "duration": 78,
    "start_time": "2023-04-30T12:31:23.657Z"
   },
   {
    "duration": 3,
    "start_time": "2023-04-30T12:31:46.258Z"
   },
   {
    "duration": 109,
    "start_time": "2023-04-30T12:31:47.266Z"
   },
   {
    "duration": 6,
    "start_time": "2023-04-30T12:31:58.746Z"
   },
   {
    "duration": 110,
    "start_time": "2023-04-30T12:32:00.431Z"
   },
   {
    "duration": 4,
    "start_time": "2023-04-30T12:33:08.898Z"
   },
   {
    "duration": 401,
    "start_time": "2023-04-30T12:33:09.746Z"
   },
   {
    "duration": 3,
    "start_time": "2023-04-30T12:33:35.290Z"
   },
   {
    "duration": 374,
    "start_time": "2023-04-30T12:33:36.946Z"
   },
   {
    "duration": 4,
    "start_time": "2023-04-30T12:36:06.627Z"
   },
   {
    "duration": 408,
    "start_time": "2023-04-30T12:36:07.530Z"
   },
   {
    "duration": 3,
    "start_time": "2023-04-30T12:36:16.946Z"
   },
   {
    "duration": 420,
    "start_time": "2023-04-30T12:36:17.427Z"
   },
   {
    "duration": 1760,
    "start_time": "2023-04-30T17:00:33.084Z"
   },
   {
    "duration": 528,
    "start_time": "2023-04-30T17:01:04.124Z"
   },
   {
    "duration": 101,
    "start_time": "2023-04-30T17:01:15.819Z"
   },
   {
    "duration": 447,
    "start_time": "2023-04-30T17:01:42.068Z"
   },
   {
    "duration": 8,
    "start_time": "2023-04-30T17:19:44.529Z"
   },
   {
    "duration": 152,
    "start_time": "2023-04-30T17:20:26.731Z"
   },
   {
    "duration": 132,
    "start_time": "2023-04-30T17:20:48.922Z"
   },
   {
    "duration": 188,
    "start_time": "2023-04-30T17:31:58.496Z"
   },
   {
    "duration": 400,
    "start_time": "2023-04-30T17:58:30.253Z"
   },
   {
    "duration": 416,
    "start_time": "2023-04-30T17:58:35.724Z"
   },
   {
    "duration": 49,
    "start_time": "2023-05-01T04:27:02.930Z"
   },
   {
    "duration": 1299,
    "start_time": "2023-05-01T04:27:08.811Z"
   },
   {
    "duration": 808,
    "start_time": "2023-05-01T04:27:10.113Z"
   },
   {
    "duration": 0,
    "start_time": "2023-05-01T04:27:10.922Z"
   },
   {
    "duration": 0,
    "start_time": "2023-05-01T04:27:10.923Z"
   },
   {
    "duration": 0,
    "start_time": "2023-05-01T04:27:10.924Z"
   },
   {
    "duration": 0,
    "start_time": "2023-05-01T04:27:10.926Z"
   },
   {
    "duration": 0,
    "start_time": "2023-05-01T04:27:10.927Z"
   },
   {
    "duration": 0,
    "start_time": "2023-05-01T04:27:10.928Z"
   },
   {
    "duration": 0,
    "start_time": "2023-05-01T04:27:10.928Z"
   },
   {
    "duration": 2,
    "start_time": "2023-05-01T04:28:04.154Z"
   },
   {
    "duration": 171,
    "start_time": "2023-05-01T04:28:04.158Z"
   },
   {
    "duration": 978,
    "start_time": "2023-05-01T04:28:04.331Z"
   },
   {
    "duration": 573,
    "start_time": "2023-05-01T04:28:05.311Z"
   },
   {
    "duration": 3,
    "start_time": "2023-05-01T04:28:05.887Z"
   },
   {
    "duration": 464,
    "start_time": "2023-05-01T04:28:05.891Z"
   },
   {
    "duration": 444,
    "start_time": "2023-05-01T04:28:06.357Z"
   },
   {
    "duration": 406,
    "start_time": "2023-05-01T04:28:06.803Z"
   },
   {
    "duration": 273,
    "start_time": "2023-05-01T04:28:07.211Z"
   },
   {
    "duration": 377,
    "start_time": "2023-05-01T04:28:35.169Z"
   },
   {
    "duration": 4,
    "start_time": "2023-05-01T04:29:29.769Z"
   },
   {
    "duration": 621,
    "start_time": "2023-05-01T04:29:31.768Z"
   },
   {
    "duration": 4,
    "start_time": "2023-05-01T04:29:56.441Z"
   },
   {
    "duration": 721,
    "start_time": "2023-05-01T04:29:57.760Z"
   },
   {
    "duration": 619,
    "start_time": "2023-05-01T04:30:09.944Z"
   },
   {
    "duration": 671,
    "start_time": "2023-05-01T04:30:28.952Z"
   },
   {
    "duration": 7,
    "start_time": "2023-05-01T04:32:24.023Z"
   },
   {
    "duration": 14,
    "start_time": "2023-05-01T04:33:20.319Z"
   },
   {
    "duration": 6,
    "start_time": "2023-05-01T04:33:33.631Z"
   },
   {
    "duration": 6,
    "start_time": "2023-05-01T04:34:08.872Z"
   },
   {
    "duration": 14,
    "start_time": "2023-05-01T04:34:37.047Z"
   },
   {
    "duration": 14,
    "start_time": "2023-05-01T04:35:01.119Z"
   },
   {
    "duration": 8,
    "start_time": "2023-05-01T04:36:22.118Z"
   },
   {
    "duration": 7,
    "start_time": "2023-05-01T04:36:58.958Z"
   },
   {
    "duration": 4,
    "start_time": "2023-05-01T04:37:45.454Z"
   },
   {
    "duration": 704,
    "start_time": "2023-05-01T04:37:46.685Z"
   },
   {
    "duration": 4,
    "start_time": "2023-05-01T04:38:23.253Z"
   },
   {
    "duration": 722,
    "start_time": "2023-05-01T04:38:24.797Z"
   },
   {
    "duration": 778,
    "start_time": "2023-05-01T04:38:51.437Z"
   },
   {
    "duration": 9,
    "start_time": "2023-05-01T04:41:38.407Z"
   },
   {
    "duration": 3,
    "start_time": "2023-05-01T04:42:05.374Z"
   },
   {
    "duration": 171,
    "start_time": "2023-05-01T04:42:05.379Z"
   },
   {
    "duration": 142,
    "start_time": "2023-05-01T04:42:05.552Z"
   },
   {
    "duration": 152,
    "start_time": "2023-05-01T04:42:05.696Z"
   },
   {
    "duration": 4,
    "start_time": "2023-05-01T04:42:05.849Z"
   },
   {
    "duration": 700,
    "start_time": "2023-05-01T04:42:05.854Z"
   },
   {
    "duration": 39,
    "start_time": "2023-05-01T04:42:06.557Z"
   },
   {
    "duration": 627,
    "start_time": "2023-05-01T04:42:06.598Z"
   },
   {
    "duration": 10,
    "start_time": "2023-05-01T04:42:07.227Z"
   },
   {
    "duration": 683,
    "start_time": "2023-05-01T04:42:07.240Z"
   },
   {
    "duration": 228,
    "start_time": "2023-05-01T10:35:36.416Z"
   },
   {
    "duration": 531,
    "start_time": "2023-05-01T10:35:36.646Z"
   },
   {
    "duration": 613,
    "start_time": "2023-05-01T10:35:37.178Z"
   },
   {
    "duration": 163,
    "start_time": "2023-05-01T10:35:37.793Z"
   },
   {
    "duration": 4,
    "start_time": "2023-05-01T10:35:37.958Z"
   },
   {
    "duration": 827,
    "start_time": "2023-05-01T10:35:37.963Z"
   },
   {
    "duration": 30,
    "start_time": "2023-05-01T10:35:38.794Z"
   },
   {
    "duration": 642,
    "start_time": "2023-05-01T10:35:38.825Z"
   },
   {
    "duration": 8,
    "start_time": "2023-05-01T10:35:39.469Z"
   },
   {
    "duration": 691,
    "start_time": "2023-05-01T10:35:39.479Z"
   },
   {
    "duration": 2,
    "start_time": "2023-05-01T10:35:40.172Z"
   },
   {
    "duration": 5,
    "start_time": "2023-05-01T10:35:40.175Z"
   },
   {
    "duration": 5,
    "start_time": "2023-05-01T10:49:29.008Z"
   },
   {
    "duration": 4,
    "start_time": "2023-05-01T10:49:29.484Z"
   },
   {
    "duration": 217,
    "start_time": "2023-05-01T10:58:12.405Z"
   },
   {
    "duration": 174,
    "start_time": "2023-05-01T10:58:12.624Z"
   },
   {
    "duration": 157,
    "start_time": "2023-05-01T10:58:12.799Z"
   },
   {
    "duration": 167,
    "start_time": "2023-05-01T10:58:12.958Z"
   },
   {
    "duration": 4,
    "start_time": "2023-05-01T10:58:13.128Z"
   },
   {
    "duration": 710,
    "start_time": "2023-05-01T10:58:13.134Z"
   },
   {
    "duration": 30,
    "start_time": "2023-05-01T10:58:13.845Z"
   },
   {
    "duration": 677,
    "start_time": "2023-05-01T10:58:13.877Z"
   },
   {
    "duration": 8,
    "start_time": "2023-05-01T10:58:14.556Z"
   },
   {
    "duration": 830,
    "start_time": "2023-05-01T10:58:14.566Z"
   },
   {
    "duration": 5,
    "start_time": "2023-05-01T10:58:15.398Z"
   },
   {
    "duration": 7,
    "start_time": "2023-05-01T10:58:15.405Z"
   },
   {
    "duration": 4,
    "start_time": "2023-05-01T10:58:15.413Z"
   },
   {
    "duration": 8,
    "start_time": "2023-05-01T10:58:15.419Z"
   },
   {
    "duration": 372,
    "start_time": "2023-05-01T10:58:15.428Z"
   },
   {
    "duration": 92,
    "start_time": "2023-05-01T10:58:15.804Z"
   },
   {
    "duration": 103,
    "start_time": "2023-05-01T10:58:15.899Z"
   },
   {
    "duration": 802,
    "start_time": "2023-05-01T10:59:59.005Z"
   },
   {
    "duration": 481,
    "start_time": "2023-05-01T11:03:17.118Z"
   },
   {
    "duration": 401,
    "start_time": "2023-05-01T11:03:57.205Z"
   },
   {
    "duration": 447,
    "start_time": "2023-05-01T11:04:04.348Z"
   },
   {
    "duration": 692,
    "start_time": "2023-05-01T11:04:16.505Z"
   },
   {
    "duration": 1060,
    "start_time": "2023-05-01T11:04:55.839Z"
   },
   {
    "duration": 5,
    "start_time": "2023-05-01T11:05:08.150Z"
   },
   {
    "duration": 651,
    "start_time": "2023-05-01T11:05:08.163Z"
   },
   {
    "duration": 688,
    "start_time": "2023-05-01T11:05:08.817Z"
   },
   {
    "duration": 646,
    "start_time": "2023-05-01T11:05:09.508Z"
   },
   {
    "duration": 8,
    "start_time": "2023-05-01T11:05:10.156Z"
   },
   {
    "duration": 975,
    "start_time": "2023-05-01T11:05:10.167Z"
   },
   {
    "duration": 48,
    "start_time": "2023-05-01T11:05:11.147Z"
   },
   {
    "duration": 1035,
    "start_time": "2023-05-01T11:05:11.198Z"
   },
   {
    "duration": 14,
    "start_time": "2023-05-01T11:05:12.236Z"
   },
   {
    "duration": 1013,
    "start_time": "2023-05-01T11:05:12.253Z"
   },
   {
    "duration": 16,
    "start_time": "2023-05-01T11:05:13.268Z"
   },
   {
    "duration": 9,
    "start_time": "2023-05-01T11:05:13.286Z"
   },
   {
    "duration": 9,
    "start_time": "2023-05-01T11:05:13.297Z"
   },
   {
    "duration": 5,
    "start_time": "2023-05-01T11:05:13.308Z"
   },
   {
    "duration": 685,
    "start_time": "2023-05-01T11:05:13.316Z"
   },
   {
    "duration": 4,
    "start_time": "2023-05-01T11:05:14.005Z"
   },
   {
    "duration": 1002,
    "start_time": "2023-05-01T11:05:14.012Z"
   },
   {
    "duration": 5,
    "start_time": "2023-05-01T11:08:17.227Z"
   },
   {
    "duration": 4,
    "start_time": "2023-05-01T11:08:29.955Z"
   },
   {
    "duration": 174,
    "start_time": "2023-05-01T11:08:29.962Z"
   },
   {
    "duration": 161,
    "start_time": "2023-05-01T11:08:30.138Z"
   },
   {
    "duration": 174,
    "start_time": "2023-05-01T11:08:30.304Z"
   },
   {
    "duration": 7,
    "start_time": "2023-05-01T11:08:30.480Z"
   },
   {
    "duration": 765,
    "start_time": "2023-05-01T11:08:30.488Z"
   },
   {
    "duration": 69,
    "start_time": "2023-05-01T11:08:31.256Z"
   },
   {
    "duration": 1157,
    "start_time": "2023-05-01T11:08:31.328Z"
   },
   {
    "duration": 11,
    "start_time": "2023-05-01T11:08:32.487Z"
   },
   {
    "duration": 831,
    "start_time": "2023-05-01T11:08:32.501Z"
   },
   {
    "duration": 5,
    "start_time": "2023-05-01T11:08:33.334Z"
   },
   {
    "duration": 13,
    "start_time": "2023-05-01T11:08:33.342Z"
   },
   {
    "duration": 3,
    "start_time": "2023-05-01T11:08:33.357Z"
   },
   {
    "duration": 837,
    "start_time": "2023-05-01T11:08:33.362Z"
   },
   {
    "duration": 6,
    "start_time": "2023-05-01T11:08:34.202Z"
   },
   {
    "duration": 1672,
    "start_time": "2023-05-01T11:13:08.863Z"
   },
   {
    "duration": 216,
    "start_time": "2023-05-01T11:13:10.539Z"
   },
   {
    "duration": 203,
    "start_time": "2023-05-01T11:13:10.758Z"
   },
   {
    "duration": 238,
    "start_time": "2023-05-01T11:13:10.964Z"
   },
   {
    "duration": 8,
    "start_time": "2023-05-01T11:13:11.208Z"
   },
   {
    "duration": 825,
    "start_time": "2023-05-01T11:13:11.222Z"
   },
   {
    "duration": 44,
    "start_time": "2023-05-01T11:13:12.050Z"
   },
   {
    "duration": 761,
    "start_time": "2023-05-01T11:13:12.100Z"
   },
   {
    "duration": 12,
    "start_time": "2023-05-01T11:13:12.863Z"
   },
   {
    "duration": 853,
    "start_time": "2023-05-01T11:13:12.896Z"
   },
   {
    "duration": 7,
    "start_time": "2023-05-01T11:13:13.752Z"
   },
   {
    "duration": 8,
    "start_time": "2023-05-01T11:13:13.762Z"
   },
   {
    "duration": 30,
    "start_time": "2023-05-01T11:13:13.773Z"
   },
   {
    "duration": 608,
    "start_time": "2023-05-01T11:13:13.813Z"
   },
   {
    "duration": 494397,
    "start_time": "2023-05-01T11:13:14.424Z"
   },
   {
    "duration": 2390,
    "start_time": "2023-05-01T11:22:32.172Z"
   },
   {
    "duration": 361,
    "start_time": "2023-05-01T11:22:34.571Z"
   },
   {
    "duration": 329,
    "start_time": "2023-05-01T11:22:34.941Z"
   },
   {
    "duration": 342,
    "start_time": "2023-05-01T11:22:35.283Z"
   },
   {
    "duration": 7,
    "start_time": "2023-05-01T11:22:35.633Z"
   },
   {
    "duration": 1262,
    "start_time": "2023-05-01T11:22:35.647Z"
   },
   {
    "duration": 45,
    "start_time": "2023-05-01T11:22:36.911Z"
   },
   {
    "duration": 1015,
    "start_time": "2023-05-01T11:22:36.958Z"
   },
   {
    "duration": 11,
    "start_time": "2023-05-01T11:22:37.975Z"
   },
   {
    "duration": 1233,
    "start_time": "2023-05-01T11:22:37.988Z"
   },
   {
    "duration": 234,
    "start_time": "2023-05-01T11:22:39.228Z"
   },
   {
    "duration": 0,
    "start_time": "2023-05-01T11:22:39.482Z"
   },
   {
    "duration": 5,
    "start_time": "2023-05-01T11:31:01.361Z"
   },
   {
    "duration": 18,
    "start_time": "2023-05-01T11:31:19.834Z"
   },
   {
    "duration": 17,
    "start_time": "2023-05-01T11:31:26.113Z"
   },
   {
    "duration": 8,
    "start_time": "2023-05-01T11:31:43.302Z"
   },
   {
    "duration": 37,
    "start_time": "2023-05-01T11:31:43.714Z"
   },
   {
    "duration": 26,
    "start_time": "2023-05-01T12:03:05.747Z"
   },
   {
    "duration": 51,
    "start_time": "2023-05-01T12:03:46.268Z"
   },
   {
    "duration": 5,
    "start_time": "2023-05-01T12:05:51.387Z"
   },
   {
    "duration": 32,
    "start_time": "2023-05-01T12:05:52.101Z"
   },
   {
    "duration": 4,
    "start_time": "2023-05-01T12:06:38.924Z"
   },
   {
    "duration": 21,
    "start_time": "2023-05-01T12:06:39.318Z"
   },
   {
    "duration": 7,
    "start_time": "2023-05-01T12:06:39.718Z"
   },
   {
    "duration": 5,
    "start_time": "2023-05-01T12:23:58.282Z"
   },
   {
    "duration": 376,
    "start_time": "2023-05-01T12:23:58.308Z"
   },
   {
    "duration": 265,
    "start_time": "2023-05-01T12:23:58.691Z"
   },
   {
    "duration": 260,
    "start_time": "2023-05-01T12:23:58.959Z"
   },
   {
    "duration": 14,
    "start_time": "2023-05-01T12:23:59.224Z"
   },
   {
    "duration": 1184,
    "start_time": "2023-05-01T12:23:59.241Z"
   },
   {
    "duration": 51,
    "start_time": "2023-05-01T12:24:00.432Z"
   },
   {
    "duration": 949,
    "start_time": "2023-05-01T12:24:00.485Z"
   },
   {
    "duration": 38,
    "start_time": "2023-05-01T12:24:01.440Z"
   },
   {
    "duration": 997,
    "start_time": "2023-05-01T12:24:01.483Z"
   },
   {
    "duration": 6,
    "start_time": "2023-05-01T12:24:02.488Z"
   },
   {
    "duration": 61,
    "start_time": "2023-05-01T12:24:02.510Z"
   },
   {
    "duration": 11,
    "start_time": "2023-05-01T12:24:02.578Z"
   },
   {
    "duration": 172,
    "start_time": "2023-05-01T12:24:02.596Z"
   },
   {
    "duration": 43,
    "start_time": "2023-05-01T12:24:02.788Z"
   },
   {
    "duration": 1,
    "start_time": "2023-05-01T12:24:02.839Z"
   },
   {
    "duration": 15,
    "start_time": "2023-05-01T12:27:42.432Z"
   },
   {
    "duration": 421,
    "start_time": "2023-05-01T12:27:42.450Z"
   },
   {
    "duration": 431,
    "start_time": "2023-05-01T12:27:42.875Z"
   },
   {
    "duration": 413,
    "start_time": "2023-05-01T12:27:43.320Z"
   },
   {
    "duration": 23,
    "start_time": "2023-05-01T12:27:43.738Z"
   },
   {
    "duration": 1570,
    "start_time": "2023-05-01T12:27:43.765Z"
   },
   {
    "duration": 77,
    "start_time": "2023-05-01T12:27:45.342Z"
   },
   {
    "duration": 1620,
    "start_time": "2023-05-01T12:27:45.425Z"
   },
   {
    "duration": 39,
    "start_time": "2023-05-01T12:27:47.052Z"
   },
   {
    "duration": 1245,
    "start_time": "2023-05-01T12:27:47.098Z"
   },
   {
    "duration": 24,
    "start_time": "2023-05-01T12:27:48.351Z"
   },
   {
    "duration": 0,
    "start_time": "2023-05-01T12:27:48.382Z"
   },
   {
    "duration": 0,
    "start_time": "2023-05-01T12:27:48.387Z"
   },
   {
    "duration": 0,
    "start_time": "2023-05-01T12:27:48.397Z"
   },
   {
    "duration": 0,
    "start_time": "2023-05-01T12:27:48.410Z"
   },
   {
    "duration": 0,
    "start_time": "2023-05-01T12:27:48.415Z"
   },
   {
    "duration": 0,
    "start_time": "2023-05-01T12:27:48.429Z"
   },
   {
    "duration": 7,
    "start_time": "2023-05-01T12:28:10.828Z"
   },
   {
    "duration": 386,
    "start_time": "2023-05-01T12:28:10.840Z"
   },
   {
    "duration": 339,
    "start_time": "2023-05-01T12:28:11.228Z"
   },
   {
    "duration": 369,
    "start_time": "2023-05-01T12:28:11.574Z"
   },
   {
    "duration": 13,
    "start_time": "2023-05-01T12:28:11.950Z"
   },
   {
    "duration": 1329,
    "start_time": "2023-05-01T12:28:11.970Z"
   },
   {
    "duration": 53,
    "start_time": "2023-05-01T12:28:13.306Z"
   },
   {
    "duration": 1145,
    "start_time": "2023-05-01T12:28:13.366Z"
   },
   {
    "duration": 59,
    "start_time": "2023-05-01T12:28:14.524Z"
   },
   {
    "duration": 1236,
    "start_time": "2023-05-01T12:28:14.587Z"
   },
   {
    "duration": 7,
    "start_time": "2023-05-01T12:28:15.828Z"
   },
   {
    "duration": 621,
    "start_time": "2023-05-01T12:28:15.840Z"
   },
   {
    "duration": 61,
    "start_time": "2023-05-01T12:28:16.473Z"
   },
   {
    "duration": 63,
    "start_time": "2023-05-01T12:28:16.536Z"
   },
   {
    "duration": 63,
    "start_time": "2023-05-01T12:28:16.601Z"
   },
   {
    "duration": 103,
    "start_time": "2023-05-01T12:28:16.676Z"
   },
   {
    "duration": 783,
    "start_time": "2023-05-01T12:28:16.793Z"
   },
   {
    "duration": 473,
    "start_time": "2023-05-01T12:32:36.657Z"
   },
   {
    "duration": 86,
    "start_time": "2023-05-01T12:32:38.811Z"
   },
   {
    "duration": 565,
    "start_time": "2023-05-01T12:33:33.359Z"
   },
   {
    "duration": 12,
    "start_time": "2023-05-01T13:31:25.318Z"
   },
   {
    "duration": 75,
    "start_time": "2023-05-01T13:31:38.889Z"
   },
   {
    "duration": 13,
    "start_time": "2023-05-01T13:45:40.823Z"
   },
   {
    "duration": 70,
    "start_time": "2023-05-01T13:45:41.530Z"
   },
   {
    "duration": 104,
    "start_time": "2023-05-01T13:48:02.013Z"
   },
   {
    "duration": 49,
    "start_time": "2023-05-01T13:48:15.638Z"
   },
   {
    "duration": 11,
    "start_time": "2023-05-01T13:48:35.312Z"
   },
   {
    "duration": 6,
    "start_time": "2023-05-01T13:49:28.260Z"
   },
   {
    "duration": 74,
    "start_time": "2023-05-01T13:49:29.337Z"
   },
   {
    "duration": 4,
    "start_time": "2023-05-01T13:49:47.761Z"
   },
   {
    "duration": 188,
    "start_time": "2023-05-01T13:49:47.767Z"
   },
   {
    "duration": 171,
    "start_time": "2023-05-01T13:49:47.957Z"
   },
   {
    "duration": 204,
    "start_time": "2023-05-01T13:49:48.130Z"
   },
   {
    "duration": 8,
    "start_time": "2023-05-01T13:49:48.341Z"
   },
   {
    "duration": 827,
    "start_time": "2023-05-01T13:49:48.350Z"
   },
   {
    "duration": 59,
    "start_time": "2023-05-01T13:49:49.180Z"
   },
   {
    "duration": 921,
    "start_time": "2023-05-01T13:49:49.247Z"
   },
   {
    "duration": 9,
    "start_time": "2023-05-01T13:49:50.171Z"
   },
   {
    "duration": 851,
    "start_time": "2023-05-01T13:49:50.182Z"
   },
   {
    "duration": 6,
    "start_time": "2023-05-01T13:49:51.035Z"
   },
   {
    "duration": 64,
    "start_time": "2023-05-01T13:49:51.043Z"
   },
   {
    "duration": 5,
    "start_time": "2023-05-01T13:50:21.547Z"
   },
   {
    "duration": 215,
    "start_time": "2023-05-01T13:50:21.556Z"
   },
   {
    "duration": 234,
    "start_time": "2023-05-01T13:50:21.773Z"
   },
   {
    "duration": 252,
    "start_time": "2023-05-01T13:50:22.009Z"
   },
   {
    "duration": 7,
    "start_time": "2023-05-01T13:50:22.270Z"
   },
   {
    "duration": 835,
    "start_time": "2023-05-01T13:50:22.282Z"
   },
   {
    "duration": 38,
    "start_time": "2023-05-01T13:50:23.122Z"
   },
   {
    "duration": 796,
    "start_time": "2023-05-01T13:50:23.162Z"
   },
   {
    "duration": 8,
    "start_time": "2023-05-01T13:50:23.961Z"
   },
   {
    "duration": 792,
    "start_time": "2023-05-01T13:50:23.971Z"
   },
   {
    "duration": 7,
    "start_time": "2023-05-01T13:50:24.765Z"
   },
   {
    "duration": 80,
    "start_time": "2023-05-01T13:50:24.774Z"
   },
   {
    "duration": 20,
    "start_time": "2023-05-01T13:51:36.908Z"
   },
   {
    "duration": 64,
    "start_time": "2023-05-01T13:51:37.632Z"
   },
   {
    "duration": 5,
    "start_time": "2023-05-01T13:51:45.244Z"
   },
   {
    "duration": 69,
    "start_time": "2023-05-01T13:51:45.829Z"
   },
   {
    "duration": 8,
    "start_time": "2023-05-01T13:52:56.501Z"
   },
   {
    "duration": 24,
    "start_time": "2023-05-01T13:52:57.127Z"
   },
   {
    "duration": 5,
    "start_time": "2023-05-01T13:54:06.163Z"
   },
   {
    "duration": 40,
    "start_time": "2023-05-01T13:54:06.633Z"
   },
   {
    "duration": 10,
    "start_time": "2023-05-01T13:54:30.612Z"
   },
   {
    "duration": 30,
    "start_time": "2023-05-01T13:54:31.339Z"
   },
   {
    "duration": 5,
    "start_time": "2023-05-01T13:54:45.163Z"
   },
   {
    "duration": 41,
    "start_time": "2023-05-01T13:54:45.851Z"
   },
   {
    "duration": 7,
    "start_time": "2023-05-01T13:54:50.529Z"
   },
   {
    "duration": 193,
    "start_time": "2023-05-01T13:54:50.542Z"
   },
   {
    "duration": 174,
    "start_time": "2023-05-01T13:54:50.737Z"
   },
   {
    "duration": 172,
    "start_time": "2023-05-01T13:54:50.913Z"
   },
   {
    "duration": 4,
    "start_time": "2023-05-01T13:54:51.087Z"
   },
   {
    "duration": 920,
    "start_time": "2023-05-01T13:54:51.093Z"
   },
   {
    "duration": 37,
    "start_time": "2023-05-01T13:54:52.022Z"
   },
   {
    "duration": 764,
    "start_time": "2023-05-01T13:54:52.061Z"
   },
   {
    "duration": 9,
    "start_time": "2023-05-01T13:54:52.828Z"
   },
   {
    "duration": 735,
    "start_time": "2023-05-01T13:54:52.839Z"
   },
   {
    "duration": 5,
    "start_time": "2023-05-01T13:54:53.575Z"
   },
   {
    "duration": 138,
    "start_time": "2023-05-01T13:54:53.582Z"
   },
   {
    "duration": 4,
    "start_time": "2023-05-01T13:59:11.434Z"
   },
   {
    "duration": 34,
    "start_time": "2023-05-01T13:59:11.912Z"
   },
   {
    "duration": 6,
    "start_time": "2023-05-01T14:14:16.487Z"
   },
   {
    "duration": 50,
    "start_time": "2023-05-01T14:14:16.867Z"
   },
   {
    "duration": 6,
    "start_time": "2023-05-01T14:14:56.360Z"
   },
   {
    "duration": 33,
    "start_time": "2023-05-01T14:14:57.050Z"
   },
   {
    "duration": 6,
    "start_time": "2023-05-01T14:24:29.321Z"
   },
   {
    "duration": 110,
    "start_time": "2023-05-01T14:24:29.694Z"
   },
   {
    "duration": 27,
    "start_time": "2023-05-01T14:33:25.956Z"
   },
   {
    "duration": 8,
    "start_time": "2023-05-01T14:35:07.215Z"
   },
   {
    "duration": 220,
    "start_time": "2023-05-01T14:35:07.225Z"
   },
   {
    "duration": 163,
    "start_time": "2023-05-01T14:35:07.448Z"
   },
   {
    "duration": 220,
    "start_time": "2023-05-01T14:35:07.613Z"
   },
   {
    "duration": 11,
    "start_time": "2023-05-01T14:35:07.837Z"
   },
   {
    "duration": 773,
    "start_time": "2023-05-01T14:35:07.850Z"
   },
   {
    "duration": 36,
    "start_time": "2023-05-01T14:35:08.628Z"
   },
   {
    "duration": 786,
    "start_time": "2023-05-01T14:35:08.667Z"
   },
   {
    "duration": 7,
    "start_time": "2023-05-01T14:35:09.455Z"
   },
   {
    "duration": 787,
    "start_time": "2023-05-01T14:35:09.464Z"
   },
   {
    "duration": 5,
    "start_time": "2023-05-01T14:35:10.252Z"
   },
   {
    "duration": 59,
    "start_time": "2023-05-01T14:35:10.259Z"
   },
   {
    "duration": 169,
    "start_time": "2023-05-01T14:35:10.330Z"
   },
   {
    "duration": 135,
    "start_time": "2023-05-01T14:35:10.505Z"
   },
   {
    "duration": 9,
    "start_time": "2023-05-01T15:31:04.354Z"
   },
   {
    "duration": 3,
    "start_time": "2023-05-01T15:31:07.310Z"
   },
   {
    "duration": 4,
    "start_time": "2023-05-01T15:31:07.654Z"
   },
   {
    "duration": 4,
    "start_time": "2023-05-01T15:36:44.829Z"
   },
   {
    "duration": 9,
    "start_time": "2023-05-01T15:44:58.371Z"
   },
   {
    "duration": 50,
    "start_time": "2023-05-01T15:45:36.723Z"
   },
   {
    "duration": 48,
    "start_time": "2023-05-01T15:45:55.301Z"
   },
   {
    "duration": 45,
    "start_time": "2023-05-01T15:46:26.403Z"
   },
   {
    "duration": 4,
    "start_time": "2023-05-01T15:46:37.514Z"
   },
   {
    "duration": 5,
    "start_time": "2023-05-01T15:47:00.010Z"
   },
   {
    "duration": 5,
    "start_time": "2023-05-01T15:47:14.693Z"
   },
   {
    "duration": 5,
    "start_time": "2023-05-01T15:47:23.507Z"
   },
   {
    "duration": 4,
    "start_time": "2023-05-01T15:47:35.666Z"
   },
   {
    "duration": 4,
    "start_time": "2023-05-01T15:47:53.489Z"
   },
   {
    "duration": 4,
    "start_time": "2023-05-01T15:48:01.851Z"
   },
   {
    "duration": 4,
    "start_time": "2023-05-01T15:48:08.242Z"
   },
   {
    "duration": 5,
    "start_time": "2023-05-01T15:48:15.365Z"
   },
   {
    "duration": 4,
    "start_time": "2023-05-01T15:48:22.094Z"
   },
   {
    "duration": 5,
    "start_time": "2023-05-01T15:48:27.660Z"
   },
   {
    "duration": 4,
    "start_time": "2023-05-01T15:48:35.066Z"
   },
   {
    "duration": 4,
    "start_time": "2023-05-01T15:51:27.523Z"
   },
   {
    "duration": 5,
    "start_time": "2023-05-01T15:52:14.426Z"
   },
   {
    "duration": 3,
    "start_time": "2023-05-01T15:52:28.626Z"
   },
   {
    "duration": 6,
    "start_time": "2023-05-01T15:53:05.913Z"
   },
   {
    "duration": 1834,
    "start_time": "2023-05-02T08:04:50.715Z"
   },
   {
    "duration": 523,
    "start_time": "2023-05-02T08:04:52.552Z"
   },
   {
    "duration": 703,
    "start_time": "2023-05-02T08:04:53.077Z"
   },
   {
    "duration": 648,
    "start_time": "2023-05-02T08:04:53.782Z"
   },
   {
    "duration": 4,
    "start_time": "2023-05-02T08:04:54.433Z"
   },
   {
    "duration": 836,
    "start_time": "2023-05-02T08:04:54.438Z"
   },
   {
    "duration": 40,
    "start_time": "2023-05-02T08:04:55.276Z"
   },
   {
    "duration": 722,
    "start_time": "2023-05-02T08:04:55.318Z"
   },
   {
    "duration": 9,
    "start_time": "2023-05-02T08:04:56.042Z"
   },
   {
    "duration": 814,
    "start_time": "2023-05-02T08:04:56.053Z"
   },
   {
    "duration": 4,
    "start_time": "2023-05-02T08:04:56.868Z"
   },
   {
    "duration": 216,
    "start_time": "2023-05-02T08:04:56.874Z"
   },
   {
    "duration": 94,
    "start_time": "2023-05-02T08:04:57.099Z"
   },
   {
    "duration": 50,
    "start_time": "2023-05-02T08:04:57.283Z"
   },
   {
    "duration": 11,
    "start_time": "2023-05-02T08:04:57.404Z"
   },
   {
    "duration": 125,
    "start_time": "2023-05-02T08:04:57.417Z"
   },
   {
    "duration": 32,
    "start_time": "2023-05-02T08:04:57.544Z"
   },
   {
    "duration": 44,
    "start_time": "2023-05-02T08:04:57.577Z"
   },
   {
    "duration": 16,
    "start_time": "2023-05-02T08:04:57.623Z"
   },
   {
    "duration": 5,
    "start_time": "2023-05-02T08:24:29.832Z"
   },
   {
    "duration": 205,
    "start_time": "2023-05-02T08:24:29.839Z"
   },
   {
    "duration": 188,
    "start_time": "2023-05-02T08:24:30.045Z"
   },
   {
    "duration": 211,
    "start_time": "2023-05-02T08:24:30.235Z"
   },
   {
    "duration": 3,
    "start_time": "2023-05-02T08:24:30.448Z"
   },
   {
    "duration": 761,
    "start_time": "2023-05-02T08:24:30.453Z"
   },
   {
    "duration": 29,
    "start_time": "2023-05-02T08:24:31.216Z"
   },
   {
    "duration": 738,
    "start_time": "2023-05-02T08:24:31.247Z"
   },
   {
    "duration": 13,
    "start_time": "2023-05-02T08:24:31.987Z"
   },
   {
    "duration": 731,
    "start_time": "2023-05-02T08:24:32.004Z"
   },
   {
    "duration": 3,
    "start_time": "2023-05-02T08:24:32.737Z"
   },
   {
    "duration": 24,
    "start_time": "2023-05-02T08:24:32.742Z"
   },
   {
    "duration": 53,
    "start_time": "2023-05-02T08:24:32.768Z"
   },
   {
    "duration": 12,
    "start_time": "2023-05-02T08:24:32.823Z"
   },
   {
    "duration": 60,
    "start_time": "2023-05-02T08:24:32.837Z"
   },
   {
    "duration": 126,
    "start_time": "2023-05-02T08:24:32.904Z"
   },
   {
    "duration": 249,
    "start_time": "2023-05-02T08:24:33.033Z"
   },
   {
    "duration": 94,
    "start_time": "2023-05-02T08:24:33.295Z"
   },
   {
    "duration": 32,
    "start_time": "2023-05-02T08:24:33.390Z"
   },
   {
    "duration": 8,
    "start_time": "2023-05-02T08:24:33.424Z"
   },
   {
    "duration": 14,
    "start_time": "2023-05-02T08:24:33.433Z"
   },
   {
    "duration": 5,
    "start_time": "2023-05-02T08:24:33.449Z"
   },
   {
    "duration": 6,
    "start_time": "2023-05-02T08:25:15.806Z"
   },
   {
    "duration": 3,
    "start_time": "2023-05-02T08:25:33.907Z"
   },
   {
    "duration": 15,
    "start_time": "2023-05-02T08:25:35.601Z"
   },
   {
    "duration": 12,
    "start_time": "2023-05-02T08:25:52.909Z"
   },
   {
    "duration": 7,
    "start_time": "2023-05-02T08:25:53.938Z"
   },
   {
    "duration": 6,
    "start_time": "2023-05-02T08:30:13.892Z"
   },
   {
    "duration": 195,
    "start_time": "2023-05-02T08:30:13.901Z"
   },
   {
    "duration": 228,
    "start_time": "2023-05-02T08:30:14.098Z"
   },
   {
    "duration": 188,
    "start_time": "2023-05-02T08:30:14.328Z"
   },
   {
    "duration": 4,
    "start_time": "2023-05-02T08:30:14.518Z"
   },
   {
    "duration": 756,
    "start_time": "2023-05-02T08:30:14.523Z"
   },
   {
    "duration": 36,
    "start_time": "2023-05-02T08:30:15.280Z"
   },
   {
    "duration": 615,
    "start_time": "2023-05-02T08:30:15.318Z"
   },
   {
    "duration": 7,
    "start_time": "2023-05-02T08:30:15.935Z"
   },
   {
    "duration": 860,
    "start_time": "2023-05-02T08:30:15.943Z"
   },
   {
    "duration": 3,
    "start_time": "2023-05-02T08:30:16.805Z"
   },
   {
    "duration": 23,
    "start_time": "2023-05-02T08:30:16.810Z"
   },
   {
    "duration": 41,
    "start_time": "2023-05-02T08:30:16.835Z"
   },
   {
    "duration": 31,
    "start_time": "2023-05-02T08:30:16.879Z"
   },
   {
    "duration": 183,
    "start_time": "2023-05-02T08:30:16.912Z"
   },
   {
    "duration": 24,
    "start_time": "2023-05-02T08:30:17.096Z"
   },
   {
    "duration": 134,
    "start_time": "2023-05-02T08:30:17.122Z"
   },
   {
    "duration": 0,
    "start_time": "2023-05-02T08:30:17.257Z"
   },
   {
    "duration": 0,
    "start_time": "2023-05-02T08:30:17.258Z"
   },
   {
    "duration": 0,
    "start_time": "2023-05-02T08:30:17.259Z"
   },
   {
    "duration": 0,
    "start_time": "2023-05-02T08:30:17.261Z"
   },
   {
    "duration": 0,
    "start_time": "2023-05-02T08:30:17.262Z"
   },
   {
    "duration": 0,
    "start_time": "2023-05-02T08:30:17.263Z"
   },
   {
    "duration": 0,
    "start_time": "2023-05-02T08:30:17.264Z"
   },
   {
    "duration": 0,
    "start_time": "2023-05-02T08:30:17.265Z"
   },
   {
    "duration": 0,
    "start_time": "2023-05-02T08:30:17.267Z"
   },
   {
    "duration": 14,
    "start_time": "2023-05-02T08:32:34.692Z"
   },
   {
    "duration": 7,
    "start_time": "2023-05-02T08:32:38.318Z"
   },
   {
    "duration": 5,
    "start_time": "2023-05-02T08:32:53.257Z"
   },
   {
    "duration": 241,
    "start_time": "2023-05-02T08:32:53.263Z"
   },
   {
    "duration": 192,
    "start_time": "2023-05-02T08:32:53.506Z"
   },
   {
    "duration": 196,
    "start_time": "2023-05-02T08:32:53.700Z"
   },
   {
    "duration": 4,
    "start_time": "2023-05-02T08:32:53.899Z"
   },
   {
    "duration": 772,
    "start_time": "2023-05-02T08:32:53.905Z"
   },
   {
    "duration": 37,
    "start_time": "2023-05-02T08:32:54.683Z"
   },
   {
    "duration": 751,
    "start_time": "2023-05-02T08:32:54.722Z"
   },
   {
    "duration": 18,
    "start_time": "2023-05-02T08:32:55.475Z"
   },
   {
    "duration": 717,
    "start_time": "2023-05-02T08:32:55.497Z"
   },
   {
    "duration": 3,
    "start_time": "2023-05-02T08:32:56.216Z"
   },
   {
    "duration": 10,
    "start_time": "2023-05-02T08:32:56.222Z"
   },
   {
    "duration": 25,
    "start_time": "2023-05-02T08:32:56.234Z"
   },
   {
    "duration": 30,
    "start_time": "2023-05-02T08:32:56.262Z"
   },
   {
    "duration": 113,
    "start_time": "2023-05-02T08:32:56.299Z"
   },
   {
    "duration": 86,
    "start_time": "2023-05-02T08:32:56.414Z"
   },
   {
    "duration": 20,
    "start_time": "2023-05-02T08:32:56.502Z"
   },
   {
    "duration": 177,
    "start_time": "2023-05-02T08:32:56.524Z"
   },
   {
    "duration": 15,
    "start_time": "2023-05-02T08:32:56.703Z"
   },
   {
    "duration": 13,
    "start_time": "2023-05-02T08:32:56.720Z"
   },
   {
    "duration": 51,
    "start_time": "2023-05-02T08:32:56.736Z"
   },
   {
    "duration": 115,
    "start_time": "2023-05-02T08:32:56.791Z"
   },
   {
    "duration": 20,
    "start_time": "2023-05-02T08:32:56.908Z"
   },
   {
    "duration": 25,
    "start_time": "2023-05-02T08:32:56.930Z"
   },
   {
    "duration": 21,
    "start_time": "2023-05-02T08:32:56.956Z"
   },
   {
    "duration": 20,
    "start_time": "2023-05-02T08:32:56.979Z"
   },
   {
    "duration": 5,
    "start_time": "2023-05-02T09:06:16.344Z"
   },
   {
    "duration": 343,
    "start_time": "2023-05-02T09:06:16.352Z"
   },
   {
    "duration": 252,
    "start_time": "2023-05-02T09:06:16.703Z"
   },
   {
    "duration": 290,
    "start_time": "2023-05-02T09:06:16.958Z"
   },
   {
    "duration": 5,
    "start_time": "2023-05-02T09:06:17.249Z"
   },
   {
    "duration": 903,
    "start_time": "2023-05-02T09:06:17.256Z"
   },
   {
    "duration": 33,
    "start_time": "2023-05-02T09:06:18.161Z"
   },
   {
    "duration": 955,
    "start_time": "2023-05-02T09:06:18.196Z"
   },
   {
    "duration": 8,
    "start_time": "2023-05-02T09:06:19.153Z"
   },
   {
    "duration": 916,
    "start_time": "2023-05-02T09:06:19.163Z"
   },
   {
    "duration": 5,
    "start_time": "2023-05-02T09:06:20.081Z"
   },
   {
    "duration": 68,
    "start_time": "2023-05-02T09:06:20.092Z"
   },
   {
    "duration": 109,
    "start_time": "2023-05-02T09:06:20.166Z"
   },
   {
    "duration": 77,
    "start_time": "2023-05-02T09:06:20.278Z"
   },
   {
    "duration": 137,
    "start_time": "2023-05-02T09:06:20.358Z"
   },
   {
    "duration": 76,
    "start_time": "2023-05-02T09:06:20.497Z"
   },
   {
    "duration": 79,
    "start_time": "2023-05-02T09:06:20.575Z"
   },
   {
    "duration": 174,
    "start_time": "2023-05-02T09:06:20.656Z"
   },
   {
    "duration": 56,
    "start_time": "2023-05-02T09:06:20.831Z"
   },
   {
    "duration": 72,
    "start_time": "2023-05-02T09:06:20.890Z"
   },
   {
    "duration": 137,
    "start_time": "2023-05-02T09:06:20.964Z"
   },
   {
    "duration": 63,
    "start_time": "2023-05-02T09:06:21.109Z"
   },
   {
    "duration": 108,
    "start_time": "2023-05-02T09:06:21.174Z"
   },
   {
    "duration": 54,
    "start_time": "2023-05-02T09:06:21.292Z"
   },
   {
    "duration": 74,
    "start_time": "2023-05-02T09:06:21.348Z"
   },
   {
    "duration": 53,
    "start_time": "2023-05-02T09:06:21.428Z"
   },
   {
    "duration": 74,
    "start_time": "2023-05-02T09:06:21.483Z"
   },
   {
    "duration": 1,
    "start_time": "2023-05-02T09:06:21.559Z"
   },
   {
    "duration": 0,
    "start_time": "2023-05-02T09:06:21.561Z"
   },
   {
    "duration": 4,
    "start_time": "2023-05-02T09:09:03.340Z"
   },
   {
    "duration": 20,
    "start_time": "2023-05-02T09:09:04.011Z"
   },
   {
    "duration": 3,
    "start_time": "2023-05-02T09:14:40.326Z"
   },
   {
    "duration": 207,
    "start_time": "2023-05-02T09:14:40.331Z"
   },
   {
    "duration": 201,
    "start_time": "2023-05-02T09:14:40.540Z"
   },
   {
    "duration": 236,
    "start_time": "2023-05-02T09:14:40.744Z"
   },
   {
    "duration": 17,
    "start_time": "2023-05-02T09:14:40.982Z"
   },
   {
    "duration": 721,
    "start_time": "2023-05-02T09:14:41.003Z"
   },
   {
    "duration": 27,
    "start_time": "2023-05-02T09:14:41.726Z"
   },
   {
    "duration": 685,
    "start_time": "2023-05-02T09:14:41.754Z"
   },
   {
    "duration": 7,
    "start_time": "2023-05-02T09:14:42.441Z"
   },
   {
    "duration": 713,
    "start_time": "2023-05-02T09:14:42.450Z"
   },
   {
    "duration": 4,
    "start_time": "2023-05-02T09:14:43.164Z"
   },
   {
    "duration": 19,
    "start_time": "2023-05-02T09:14:43.169Z"
   },
   {
    "duration": 48,
    "start_time": "2023-05-02T09:14:43.190Z"
   },
   {
    "duration": 14,
    "start_time": "2023-05-02T09:14:43.240Z"
   },
   {
    "duration": 0,
    "start_time": "2023-05-02T09:14:43.256Z"
   },
   {
    "duration": 0,
    "start_time": "2023-05-02T09:14:43.258Z"
   },
   {
    "duration": 0,
    "start_time": "2023-05-02T09:14:43.259Z"
   },
   {
    "duration": 0,
    "start_time": "2023-05-02T09:14:43.260Z"
   },
   {
    "duration": 0,
    "start_time": "2023-05-02T09:14:43.261Z"
   },
   {
    "duration": 0,
    "start_time": "2023-05-02T09:14:43.262Z"
   },
   {
    "duration": 0,
    "start_time": "2023-05-02T09:14:43.263Z"
   },
   {
    "duration": 0,
    "start_time": "2023-05-02T09:14:43.264Z"
   },
   {
    "duration": 0,
    "start_time": "2023-05-02T09:14:43.265Z"
   },
   {
    "duration": 0,
    "start_time": "2023-05-02T09:14:43.266Z"
   },
   {
    "duration": 0,
    "start_time": "2023-05-02T09:14:43.267Z"
   },
   {
    "duration": 0,
    "start_time": "2023-05-02T09:14:43.268Z"
   },
   {
    "duration": 0,
    "start_time": "2023-05-02T09:14:43.268Z"
   },
   {
    "duration": 0,
    "start_time": "2023-05-02T09:14:43.270Z"
   },
   {
    "duration": 0,
    "start_time": "2023-05-02T09:14:43.271Z"
   },
   {
    "duration": 13,
    "start_time": "2023-05-02T09:15:04.100Z"
   },
   {
    "duration": 34,
    "start_time": "2023-05-02T09:15:15.852Z"
   },
   {
    "duration": 6,
    "start_time": "2023-05-02T09:15:17.707Z"
   },
   {
    "duration": 3,
    "start_time": "2023-05-02T09:15:24.331Z"
   },
   {
    "duration": 209,
    "start_time": "2023-05-02T09:15:24.336Z"
   },
   {
    "duration": 182,
    "start_time": "2023-05-02T09:15:24.547Z"
   },
   {
    "duration": 229,
    "start_time": "2023-05-02T09:15:24.733Z"
   },
   {
    "duration": 5,
    "start_time": "2023-05-02T09:15:24.964Z"
   },
   {
    "duration": 791,
    "start_time": "2023-05-02T09:15:24.972Z"
   },
   {
    "duration": 50,
    "start_time": "2023-05-02T09:15:25.764Z"
   },
   {
    "duration": 860,
    "start_time": "2023-05-02T09:15:25.816Z"
   },
   {
    "duration": 14,
    "start_time": "2023-05-02T09:15:26.678Z"
   },
   {
    "duration": 687,
    "start_time": "2023-05-02T09:15:26.699Z"
   },
   {
    "duration": 9,
    "start_time": "2023-05-02T09:15:27.393Z"
   },
   {
    "duration": 26,
    "start_time": "2023-05-02T09:15:27.404Z"
   },
   {
    "duration": 45,
    "start_time": "2023-05-02T09:15:27.431Z"
   },
   {
    "duration": 35,
    "start_time": "2023-05-02T09:15:27.479Z"
   },
   {
    "duration": 91,
    "start_time": "2023-05-02T09:15:27.515Z"
   },
   {
    "duration": 76,
    "start_time": "2023-05-02T09:15:27.609Z"
   },
   {
    "duration": 52,
    "start_time": "2023-05-02T09:15:27.687Z"
   },
   {
    "duration": 123,
    "start_time": "2023-05-02T09:15:27.784Z"
   },
   {
    "duration": 21,
    "start_time": "2023-05-02T09:15:27.909Z"
   },
   {
    "duration": 11,
    "start_time": "2023-05-02T09:15:27.931Z"
   },
   {
    "duration": 176,
    "start_time": "2023-05-02T09:15:27.945Z"
   },
   {
    "duration": 3,
    "start_time": "2023-05-02T09:15:28.123Z"
   },
   {
    "duration": 6,
    "start_time": "2023-05-02T09:15:28.128Z"
   },
   {
    "duration": 5,
    "start_time": "2023-05-02T09:15:28.136Z"
   },
   {
    "duration": 19,
    "start_time": "2023-05-02T09:15:28.143Z"
   },
   {
    "duration": 22,
    "start_time": "2023-05-02T09:15:28.164Z"
   },
   {
    "duration": 51,
    "start_time": "2023-05-02T09:15:28.188Z"
   },
   {
    "duration": 0,
    "start_time": "2023-05-02T09:15:28.241Z"
   },
   {
    "duration": 0,
    "start_time": "2023-05-02T09:15:28.242Z"
   },
   {
    "duration": 5,
    "start_time": "2023-05-02T10:04:54.012Z"
   },
   {
    "duration": 15,
    "start_time": "2023-05-02T10:05:46.711Z"
   },
   {
    "duration": 5,
    "start_time": "2023-05-02T10:06:30.519Z"
   },
   {
    "duration": 32,
    "start_time": "2023-05-02T10:06:31.648Z"
   },
   {
    "duration": 4,
    "start_time": "2023-05-02T10:06:54.529Z"
   },
   {
    "duration": 30,
    "start_time": "2023-05-02T10:06:55.024Z"
   },
   {
    "duration": 4,
    "start_time": "2023-05-02T10:10:57.210Z"
   },
   {
    "duration": 23,
    "start_time": "2023-05-02T10:10:58.138Z"
   },
   {
    "duration": 3,
    "start_time": "2023-05-02T10:11:29.130Z"
   },
   {
    "duration": 20,
    "start_time": "2023-05-02T10:11:29.532Z"
   },
   {
    "duration": 3,
    "start_time": "2023-05-02T10:12:32.359Z"
   },
   {
    "duration": 4,
    "start_time": "2023-05-02T10:12:32.759Z"
   },
   {
    "duration": 3,
    "start_time": "2023-05-02T10:12:50.959Z"
   },
   {
    "duration": 16,
    "start_time": "2023-05-02T10:12:51.912Z"
   },
   {
    "duration": 3,
    "start_time": "2023-05-02T10:12:57.835Z"
   },
   {
    "duration": 6,
    "start_time": "2023-05-02T10:12:58.611Z"
   },
   {
    "duration": 5,
    "start_time": "2023-05-02T10:14:15.557Z"
   },
   {
    "duration": 13,
    "start_time": "2023-05-02T10:14:15.909Z"
   },
   {
    "duration": 4,
    "start_time": "2023-05-02T10:16:00.617Z"
   },
   {
    "duration": 4,
    "start_time": "2023-05-02T10:16:01.069Z"
   },
   {
    "duration": 2,
    "start_time": "2023-05-02T10:17:14.741Z"
   },
   {
    "duration": 4,
    "start_time": "2023-05-02T10:17:16.409Z"
   },
   {
    "duration": 3,
    "start_time": "2023-05-02T10:18:03.968Z"
   },
   {
    "duration": 5,
    "start_time": "2023-05-02T10:18:04.532Z"
   },
   {
    "duration": 3,
    "start_time": "2023-05-02T10:18:31.350Z"
   },
   {
    "duration": 30,
    "start_time": "2023-05-02T10:18:32.196Z"
   },
   {
    "duration": 4,
    "start_time": "2023-05-02T10:18:54.460Z"
   },
   {
    "duration": 5,
    "start_time": "2023-05-02T10:18:54.871Z"
   },
   {
    "duration": 112,
    "start_time": "2023-05-02T10:21:22.637Z"
   },
   {
    "duration": 11,
    "start_time": "2023-05-02T10:21:22.997Z"
   },
   {
    "duration": 5,
    "start_time": "2023-05-02T10:21:27.524Z"
   },
   {
    "duration": 11,
    "start_time": "2023-05-02T10:21:27.956Z"
   },
   {
    "duration": 11,
    "start_time": "2023-05-02T10:27:31.807Z"
   },
   {
    "duration": 12,
    "start_time": "2023-05-02T10:27:32.318Z"
   },
   {
    "duration": 6,
    "start_time": "2023-05-02T10:27:53.370Z"
   },
   {
    "duration": 21,
    "start_time": "2023-05-02T10:27:54.012Z"
   },
   {
    "duration": 3,
    "start_time": "2023-05-02T10:28:18.124Z"
   },
   {
    "duration": 8,
    "start_time": "2023-05-02T10:28:18.573Z"
   },
   {
    "duration": 21,
    "start_time": "2023-05-02T11:01:19.853Z"
   },
   {
    "duration": 3,
    "start_time": "2023-05-02T11:21:15.039Z"
   },
   {
    "duration": 6,
    "start_time": "2023-05-02T11:21:15.516Z"
   },
   {
    "duration": 14,
    "start_time": "2023-05-02T11:21:33.419Z"
   },
   {
    "duration": 5,
    "start_time": "2023-05-02T11:22:13.715Z"
   },
   {
    "duration": 20,
    "start_time": "2023-05-02T11:22:14.116Z"
   },
   {
    "duration": 5,
    "start_time": "2023-05-02T11:22:42.142Z"
   },
   {
    "duration": 24,
    "start_time": "2023-05-02T11:22:43.148Z"
   },
   {
    "duration": 7,
    "start_time": "2023-05-02T11:24:48.714Z"
   },
   {
    "duration": 28,
    "start_time": "2023-05-02T11:24:49.396Z"
   },
   {
    "duration": 7,
    "start_time": "2023-05-02T11:25:00.444Z"
   },
   {
    "duration": 25,
    "start_time": "2023-05-02T11:25:00.931Z"
   },
   {
    "duration": 6,
    "start_time": "2023-05-02T11:27:13.970Z"
   },
   {
    "duration": 36,
    "start_time": "2023-05-02T11:27:14.371Z"
   },
   {
    "duration": 5,
    "start_time": "2023-05-02T11:28:43.826Z"
   },
   {
    "duration": 34,
    "start_time": "2023-05-02T11:28:44.215Z"
   },
   {
    "duration": 5,
    "start_time": "2023-05-02T11:29:08.019Z"
   },
   {
    "duration": 44,
    "start_time": "2023-05-02T11:29:08.474Z"
   },
   {
    "duration": 5,
    "start_time": "2023-05-02T11:29:20.050Z"
   },
   {
    "duration": 25,
    "start_time": "2023-05-02T11:29:20.719Z"
   },
   {
    "duration": 9,
    "start_time": "2023-05-02T11:29:29.008Z"
   },
   {
    "duration": 27,
    "start_time": "2023-05-02T11:29:29.505Z"
   },
   {
    "duration": 8,
    "start_time": "2023-05-02T11:29:52.511Z"
   },
   {
    "duration": 33,
    "start_time": "2023-05-02T11:29:53.171Z"
   },
   {
    "duration": 3,
    "start_time": "2023-05-02T11:30:19.969Z"
   },
   {
    "duration": 29,
    "start_time": "2023-05-02T11:30:20.409Z"
   },
   {
    "duration": 5,
    "start_time": "2023-05-02T11:30:24.445Z"
   },
   {
    "duration": 289,
    "start_time": "2023-05-02T11:30:24.453Z"
   },
   {
    "duration": 259,
    "start_time": "2023-05-02T11:30:24.744Z"
   },
   {
    "duration": 223,
    "start_time": "2023-05-02T11:30:25.011Z"
   },
   {
    "duration": 5,
    "start_time": "2023-05-02T11:30:25.236Z"
   },
   {
    "duration": 771,
    "start_time": "2023-05-02T11:30:25.243Z"
   },
   {
    "duration": 32,
    "start_time": "2023-05-02T11:30:26.017Z"
   },
   {
    "duration": 780,
    "start_time": "2023-05-02T11:30:26.051Z"
   },
   {
    "duration": 9,
    "start_time": "2023-05-02T11:30:26.833Z"
   },
   {
    "duration": 873,
    "start_time": "2023-05-02T11:30:26.846Z"
   },
   {
    "duration": 5,
    "start_time": "2023-05-02T11:30:27.726Z"
   },
   {
    "duration": 10,
    "start_time": "2023-05-02T11:30:27.733Z"
   },
   {
    "duration": 32,
    "start_time": "2023-05-02T11:30:27.745Z"
   },
   {
    "duration": 133,
    "start_time": "2023-05-02T11:30:27.779Z"
   },
   {
    "duration": 84,
    "start_time": "2023-05-02T11:30:27.914Z"
   },
   {
    "duration": 59,
    "start_time": "2023-05-02T11:30:28.001Z"
   },
   {
    "duration": 15,
    "start_time": "2023-05-02T11:30:28.062Z"
   },
   {
    "duration": 115,
    "start_time": "2023-05-02T11:30:28.079Z"
   },
   {
    "duration": 22,
    "start_time": "2023-05-02T11:30:28.196Z"
   },
   {
    "duration": 72,
    "start_time": "2023-05-02T11:30:28.224Z"
   },
   {
    "duration": 100,
    "start_time": "2023-05-02T11:30:28.302Z"
   },
   {
    "duration": 22,
    "start_time": "2023-05-02T11:30:28.408Z"
   },
   {
    "duration": 20,
    "start_time": "2023-05-02T11:30:28.433Z"
   },
   {
    "duration": 13,
    "start_time": "2023-05-02T11:30:28.455Z"
   },
   {
    "duration": 54,
    "start_time": "2023-05-02T11:30:28.491Z"
   },
   {
    "duration": 17,
    "start_time": "2023-05-02T11:30:28.547Z"
   },
   {
    "duration": 159,
    "start_time": "2023-05-02T11:30:28.566Z"
   },
   {
    "duration": 3,
    "start_time": "2023-05-02T11:30:28.728Z"
   },
   {
    "duration": 7,
    "start_time": "2023-05-02T11:30:28.733Z"
   },
   {
    "duration": 30,
    "start_time": "2023-05-02T11:30:28.741Z"
   },
   {
    "duration": 18,
    "start_time": "2023-05-02T11:31:27.771Z"
   },
   {
    "duration": 3,
    "start_time": "2023-05-02T11:31:28.257Z"
   },
   {
    "duration": 8,
    "start_time": "2023-05-02T11:31:53.747Z"
   },
   {
    "duration": 17,
    "start_time": "2023-05-02T11:31:54.346Z"
   },
   {
    "duration": 6,
    "start_time": "2023-05-02T11:32:29.362Z"
   },
   {
    "duration": 15,
    "start_time": "2023-05-02T11:32:29.762Z"
   },
   {
    "duration": 9,
    "start_time": "2023-05-02T11:33:05.082Z"
   },
   {
    "duration": 26,
    "start_time": "2023-05-02T11:33:05.506Z"
   },
   {
    "duration": 4,
    "start_time": "2023-05-02T11:33:28.875Z"
   },
   {
    "duration": 27,
    "start_time": "2023-05-02T11:33:29.301Z"
   },
   {
    "duration": 4,
    "start_time": "2023-05-02T11:34:08.817Z"
   },
   {
    "duration": 30,
    "start_time": "2023-05-02T11:34:09.412Z"
   },
   {
    "duration": 6,
    "start_time": "2023-05-02T11:34:32.809Z"
   },
   {
    "duration": 28,
    "start_time": "2023-05-02T11:34:33.482Z"
   },
   {
    "duration": 4,
    "start_time": "2023-05-02T11:34:45.301Z"
   },
   {
    "duration": 26,
    "start_time": "2023-05-02T11:34:45.801Z"
   },
   {
    "duration": 5,
    "start_time": "2023-05-02T11:34:53.603Z"
   },
   {
    "duration": 156,
    "start_time": "2023-05-02T11:34:54.130Z"
   },
   {
    "duration": 6,
    "start_time": "2023-05-02T11:35:26.680Z"
   },
   {
    "duration": 1333,
    "start_time": "2023-05-02T11:35:27.529Z"
   },
   {
    "duration": 4,
    "start_time": "2023-05-02T11:36:33.041Z"
   },
   {
    "duration": 1208,
    "start_time": "2023-05-02T11:36:33.401Z"
   },
   {
    "duration": 6,
    "start_time": "2023-05-02T11:37:16.985Z"
   },
   {
    "duration": 273,
    "start_time": "2023-05-02T11:37:18.064Z"
   },
   {
    "duration": 4,
    "start_time": "2023-05-02T11:37:48.800Z"
   },
   {
    "duration": 1356,
    "start_time": "2023-05-02T11:37:49.200Z"
   },
   {
    "duration": 4,
    "start_time": "2023-05-02T11:37:55.597Z"
   },
   {
    "duration": 1284,
    "start_time": "2023-05-02T11:37:56.463Z"
   },
   {
    "duration": 6,
    "start_time": "2023-05-02T11:38:44.217Z"
   },
   {
    "duration": 1405,
    "start_time": "2023-05-02T11:38:44.710Z"
   },
   {
    "duration": 16,
    "start_time": "2023-05-02T11:39:21.709Z"
   },
   {
    "duration": 1289,
    "start_time": "2023-05-02T11:39:22.322Z"
   },
   {
    "duration": 4,
    "start_time": "2023-05-02T11:39:31.261Z"
   },
   {
    "duration": 240,
    "start_time": "2023-05-02T11:39:31.266Z"
   },
   {
    "duration": 186,
    "start_time": "2023-05-02T11:39:31.508Z"
   },
   {
    "duration": 196,
    "start_time": "2023-05-02T11:39:31.700Z"
   },
   {
    "duration": 7,
    "start_time": "2023-05-02T11:39:31.908Z"
   },
   {
    "duration": 817,
    "start_time": "2023-05-02T11:39:31.917Z"
   },
   {
    "duration": 30,
    "start_time": "2023-05-02T11:39:32.736Z"
   },
   {
    "duration": 694,
    "start_time": "2023-05-02T11:39:32.768Z"
   },
   {
    "duration": 7,
    "start_time": "2023-05-02T11:39:33.465Z"
   },
   {
    "duration": 692,
    "start_time": "2023-05-02T11:39:33.483Z"
   },
   {
    "duration": 22,
    "start_time": "2023-05-02T11:39:34.177Z"
   },
   {
    "duration": 43,
    "start_time": "2023-05-02T11:39:34.200Z"
   },
   {
    "duration": 37,
    "start_time": "2023-05-02T11:39:34.245Z"
   },
   {
    "duration": 51,
    "start_time": "2023-05-02T11:39:34.284Z"
   },
   {
    "duration": 214,
    "start_time": "2023-05-02T11:39:34.337Z"
   },
   {
    "duration": 85,
    "start_time": "2023-05-02T11:39:34.553Z"
   },
   {
    "duration": 55,
    "start_time": "2023-05-02T11:39:34.640Z"
   },
   {
    "duration": 131,
    "start_time": "2023-05-02T11:39:34.697Z"
   },
   {
    "duration": 62,
    "start_time": "2023-05-02T11:39:34.830Z"
   },
   {
    "duration": 79,
    "start_time": "2023-05-02T11:39:34.894Z"
   },
   {
    "duration": 123,
    "start_time": "2023-05-02T11:39:34.976Z"
   },
   {
    "duration": 50,
    "start_time": "2023-05-02T11:39:35.104Z"
   },
   {
    "duration": 89,
    "start_time": "2023-05-02T11:39:35.155Z"
   },
   {
    "duration": 73,
    "start_time": "2023-05-02T11:39:35.249Z"
   },
   {
    "duration": 95,
    "start_time": "2023-05-02T11:39:35.324Z"
   },
   {
    "duration": 10,
    "start_time": "2023-05-02T11:39:35.421Z"
   },
   {
    "duration": 42,
    "start_time": "2023-05-02T11:39:35.433Z"
   },
   {
    "duration": 55,
    "start_time": "2023-05-02T11:39:35.477Z"
   },
   {
    "duration": 24,
    "start_time": "2023-05-02T11:39:35.534Z"
   },
   {
    "duration": 1310,
    "start_time": "2023-05-02T11:39:35.560Z"
   },
   {
    "duration": 6,
    "start_time": "2023-05-02T11:41:18.771Z"
   },
   {
    "duration": 24,
    "start_time": "2023-05-02T11:41:19.212Z"
   },
   {
    "duration": 5,
    "start_time": "2023-05-02T11:42:26.861Z"
   },
   {
    "duration": 39,
    "start_time": "2023-05-02T11:42:27.269Z"
   },
   {
    "duration": 4,
    "start_time": "2023-05-02T11:43:38.029Z"
   },
   {
    "duration": 643,
    "start_time": "2023-05-02T11:43:38.493Z"
   },
   {
    "duration": 5,
    "start_time": "2023-05-02T11:43:49.445Z"
   },
   {
    "duration": 28,
    "start_time": "2023-05-02T11:43:50.414Z"
   },
   {
    "duration": 6,
    "start_time": "2023-05-02T11:44:29.878Z"
   },
   {
    "duration": 1329,
    "start_time": "2023-05-02T11:44:30.307Z"
   },
   {
    "duration": 15,
    "start_time": "2023-05-02T11:44:54.697Z"
   },
   {
    "duration": 19,
    "start_time": "2023-05-02T11:44:55.212Z"
   },
   {
    "duration": 5,
    "start_time": "2023-05-02T11:45:16.534Z"
   },
   {
    "duration": 1277,
    "start_time": "2023-05-02T11:45:17.024Z"
   },
   {
    "duration": 5,
    "start_time": "2023-05-02T11:52:29.751Z"
   },
   {
    "duration": 1209,
    "start_time": "2023-05-02T11:52:30.099Z"
   },
   {
    "duration": 5,
    "start_time": "2023-05-02T11:59:58.913Z"
   },
   {
    "duration": 1427,
    "start_time": "2023-05-02T11:59:59.335Z"
   },
   {
    "duration": 5,
    "start_time": "2023-05-02T12:06:10.381Z"
   },
   {
    "duration": 277,
    "start_time": "2023-05-02T12:06:10.388Z"
   },
   {
    "duration": 209,
    "start_time": "2023-05-02T12:06:10.667Z"
   },
   {
    "duration": 265,
    "start_time": "2023-05-02T12:06:10.882Z"
   },
   {
    "duration": 4,
    "start_time": "2023-05-02T12:06:11.150Z"
   },
   {
    "duration": 769,
    "start_time": "2023-05-02T12:06:11.155Z"
   },
   {
    "duration": 38,
    "start_time": "2023-05-02T12:06:11.926Z"
   },
   {
    "duration": 717,
    "start_time": "2023-05-02T12:06:11.966Z"
   },
   {
    "duration": 22,
    "start_time": "2023-05-02T12:06:12.687Z"
   },
   {
    "duration": 836,
    "start_time": "2023-05-02T12:06:12.713Z"
   },
   {
    "duration": 4,
    "start_time": "2023-05-02T12:06:13.552Z"
   },
   {
    "duration": 54,
    "start_time": "2023-05-02T12:06:13.557Z"
   },
   {
    "duration": 75,
    "start_time": "2023-05-02T12:06:13.616Z"
   },
   {
    "duration": 49,
    "start_time": "2023-05-02T12:06:13.695Z"
   },
   {
    "duration": 141,
    "start_time": "2023-05-02T12:06:13.748Z"
   },
   {
    "duration": 45,
    "start_time": "2023-05-02T12:06:13.893Z"
   },
   {
    "duration": 16,
    "start_time": "2023-05-02T12:06:13.940Z"
   },
   {
    "duration": 133,
    "start_time": "2023-05-02T12:06:13.959Z"
   },
   {
    "duration": 44,
    "start_time": "2023-05-02T12:06:14.094Z"
   },
   {
    "duration": 14,
    "start_time": "2023-05-02T12:06:14.140Z"
   },
   {
    "duration": 145,
    "start_time": "2023-05-02T12:06:14.157Z"
   },
   {
    "duration": 24,
    "start_time": "2023-05-02T12:06:14.305Z"
   },
   {
    "duration": 38,
    "start_time": "2023-05-02T12:06:14.331Z"
   },
   {
    "duration": 48,
    "start_time": "2023-05-02T12:06:14.371Z"
   },
   {
    "duration": 32,
    "start_time": "2023-05-02T12:06:14.422Z"
   },
   {
    "duration": 56,
    "start_time": "2023-05-02T12:06:14.456Z"
   },
   {
    "duration": 27,
    "start_time": "2023-05-02T12:06:14.514Z"
   },
   {
    "duration": 8,
    "start_time": "2023-05-02T12:06:14.543Z"
   },
   {
    "duration": 19,
    "start_time": "2023-05-02T12:06:14.552Z"
   },
   {
    "duration": 1543,
    "start_time": "2023-05-02T12:06:14.573Z"
   },
   {
    "duration": 8,
    "start_time": "2023-05-02T12:12:28.219Z"
   },
   {
    "duration": 3,
    "start_time": "2023-05-02T12:12:59.614Z"
   },
   {
    "duration": 4,
    "start_time": "2023-05-02T12:13:00.114Z"
   },
   {
    "duration": 21,
    "start_time": "2023-05-02T12:13:02.643Z"
   },
   {
    "duration": 4,
    "start_time": "2023-05-02T12:13:58.023Z"
   },
   {
    "duration": 346,
    "start_time": "2023-05-02T12:13:58.029Z"
   },
   {
    "duration": 198,
    "start_time": "2023-05-02T12:13:58.377Z"
   },
   {
    "duration": 222,
    "start_time": "2023-05-02T12:13:58.577Z"
   },
   {
    "duration": 5,
    "start_time": "2023-05-02T12:13:58.805Z"
   },
   {
    "duration": 737,
    "start_time": "2023-05-02T12:13:58.812Z"
   },
   {
    "duration": 29,
    "start_time": "2023-05-02T12:13:59.551Z"
   },
   {
    "duration": 717,
    "start_time": "2023-05-02T12:13:59.596Z"
   },
   {
    "duration": 9,
    "start_time": "2023-05-02T12:14:00.318Z"
   },
   {
    "duration": 753,
    "start_time": "2023-05-02T12:14:00.328Z"
   },
   {
    "duration": 6,
    "start_time": "2023-05-02T12:14:01.090Z"
   },
   {
    "duration": 53,
    "start_time": "2023-05-02T12:14:01.098Z"
   },
   {
    "duration": 58,
    "start_time": "2023-05-02T12:14:01.153Z"
   },
   {
    "duration": 59,
    "start_time": "2023-05-02T12:14:01.214Z"
   },
   {
    "duration": 76,
    "start_time": "2023-05-02T12:14:01.275Z"
   },
   {
    "duration": 138,
    "start_time": "2023-05-02T12:14:01.354Z"
   },
   {
    "duration": 75,
    "start_time": "2023-05-02T12:14:01.494Z"
   },
   {
    "duration": 57,
    "start_time": "2023-05-02T12:14:01.571Z"
   },
   {
    "duration": 70,
    "start_time": "2023-05-02T12:14:01.630Z"
   },
   {
    "duration": 94,
    "start_time": "2023-05-02T12:14:01.705Z"
   },
   {
    "duration": 42,
    "start_time": "2023-05-02T12:14:01.808Z"
   },
   {
    "duration": 145,
    "start_time": "2023-05-02T12:14:01.852Z"
   },
   {
    "duration": 68,
    "start_time": "2023-05-02T12:14:01.999Z"
   },
   {
    "duration": 54,
    "start_time": "2023-05-02T12:14:02.069Z"
   },
   {
    "duration": 14,
    "start_time": "2023-05-02T12:14:02.125Z"
   },
   {
    "duration": 22,
    "start_time": "2023-05-02T12:14:02.141Z"
   },
   {
    "duration": 46,
    "start_time": "2023-05-02T12:14:02.165Z"
   },
   {
    "duration": 50,
    "start_time": "2023-05-02T12:14:02.213Z"
   },
   {
    "duration": 16,
    "start_time": "2023-05-02T12:14:02.265Z"
   },
   {
    "duration": 34,
    "start_time": "2023-05-02T12:14:02.290Z"
   },
   {
    "duration": 1226,
    "start_time": "2023-05-02T12:14:02.326Z"
   },
   {
    "duration": 9,
    "start_time": "2023-05-02T12:16:02.204Z"
   },
   {
    "duration": 1342,
    "start_time": "2023-05-02T12:16:03.813Z"
   },
   {
    "duration": 4,
    "start_time": "2023-05-02T12:16:20.761Z"
   },
   {
    "duration": 268,
    "start_time": "2023-05-02T12:16:20.767Z"
   },
   {
    "duration": 196,
    "start_time": "2023-05-02T12:16:21.037Z"
   },
   {
    "duration": 228,
    "start_time": "2023-05-02T12:16:21.234Z"
   },
   {
    "duration": 6,
    "start_time": "2023-05-02T12:16:21.465Z"
   },
   {
    "duration": 765,
    "start_time": "2023-05-02T12:16:21.472Z"
   },
   {
    "duration": 29,
    "start_time": "2023-05-02T12:16:22.239Z"
   },
   {
    "duration": 889,
    "start_time": "2023-05-02T12:16:22.269Z"
   },
   {
    "duration": 7,
    "start_time": "2023-05-02T12:16:23.159Z"
   },
   {
    "duration": 721,
    "start_time": "2023-05-02T12:16:23.168Z"
   },
   {
    "duration": 7,
    "start_time": "2023-05-02T12:16:23.899Z"
   },
   {
    "duration": 10,
    "start_time": "2023-05-02T12:16:23.913Z"
   },
   {
    "duration": 18,
    "start_time": "2023-05-02T12:16:23.925Z"
   },
   {
    "duration": 7,
    "start_time": "2023-05-02T12:16:23.945Z"
   },
   {
    "duration": 44,
    "start_time": "2023-05-02T12:16:23.954Z"
   },
   {
    "duration": 119,
    "start_time": "2023-05-02T12:16:24.001Z"
   },
   {
    "duration": 13,
    "start_time": "2023-05-02T12:16:24.123Z"
   },
   {
    "duration": 79,
    "start_time": "2023-05-02T12:16:24.138Z"
   },
   {
    "duration": 76,
    "start_time": "2023-05-02T12:16:24.220Z"
   },
   {
    "duration": 33,
    "start_time": "2023-05-02T12:16:24.299Z"
   },
   {
    "duration": 63,
    "start_time": "2023-05-02T12:16:24.333Z"
   },
   {
    "duration": 12,
    "start_time": "2023-05-02T12:16:24.400Z"
   },
   {
    "duration": 101,
    "start_time": "2023-05-02T12:16:24.416Z"
   },
   {
    "duration": 7,
    "start_time": "2023-05-02T12:16:24.520Z"
   },
   {
    "duration": 5,
    "start_time": "2023-05-02T12:16:24.529Z"
   },
   {
    "duration": 8,
    "start_time": "2023-05-02T12:16:24.535Z"
   },
   {
    "duration": 4,
    "start_time": "2023-05-02T12:16:24.545Z"
   },
   {
    "duration": 22,
    "start_time": "2023-05-02T12:16:24.550Z"
   },
   {
    "duration": 5,
    "start_time": "2023-05-02T12:16:24.575Z"
   },
   {
    "duration": 1368,
    "start_time": "2023-05-02T12:16:24.582Z"
   },
   {
    "duration": 6,
    "start_time": "2023-05-02T12:17:32.625Z"
   },
   {
    "duration": 1330,
    "start_time": "2023-05-02T12:17:33.201Z"
   },
   {
    "duration": 6,
    "start_time": "2023-05-02T12:17:49.280Z"
   },
   {
    "duration": 9,
    "start_time": "2023-05-02T12:17:50.199Z"
   },
   {
    "duration": 1279,
    "start_time": "2023-05-02T12:17:51.019Z"
   },
   {
    "duration": 9,
    "start_time": "2023-05-02T12:18:27.379Z"
   },
   {
    "duration": 1288,
    "start_time": "2023-05-02T12:18:27.979Z"
   },
   {
    "duration": 6,
    "start_time": "2023-05-02T12:18:36.697Z"
   },
   {
    "duration": 227,
    "start_time": "2023-05-02T12:18:36.705Z"
   },
   {
    "duration": 204,
    "start_time": "2023-05-02T12:18:36.934Z"
   },
   {
    "duration": 413,
    "start_time": "2023-05-02T12:18:37.140Z"
   },
   {
    "duration": 4,
    "start_time": "2023-05-02T12:18:37.556Z"
   },
   {
    "duration": 774,
    "start_time": "2023-05-02T12:18:37.562Z"
   },
   {
    "duration": 32,
    "start_time": "2023-05-02T12:18:38.338Z"
   },
   {
    "duration": 744,
    "start_time": "2023-05-02T12:18:38.386Z"
   },
   {
    "duration": 7,
    "start_time": "2023-05-02T12:18:39.132Z"
   },
   {
    "duration": 823,
    "start_time": "2023-05-02T12:18:39.141Z"
   },
   {
    "duration": 4,
    "start_time": "2023-05-02T12:18:39.966Z"
   },
   {
    "duration": 5,
    "start_time": "2023-05-02T12:18:39.984Z"
   },
   {
    "duration": 17,
    "start_time": "2023-05-02T12:18:39.992Z"
   },
   {
    "duration": 37,
    "start_time": "2023-05-02T12:18:40.011Z"
   },
   {
    "duration": 71,
    "start_time": "2023-05-02T12:18:40.050Z"
   },
   {
    "duration": 211,
    "start_time": "2023-05-02T12:18:40.124Z"
   },
   {
    "duration": 103,
    "start_time": "2023-05-02T12:18:40.337Z"
   },
   {
    "duration": 54,
    "start_time": "2023-05-02T12:18:40.442Z"
   },
   {
    "duration": 135,
    "start_time": "2023-05-02T12:18:40.498Z"
   },
   {
    "duration": 27,
    "start_time": "2023-05-02T12:18:40.635Z"
   },
   {
    "duration": 47,
    "start_time": "2023-05-02T12:18:40.683Z"
   },
   {
    "duration": 163,
    "start_time": "2023-05-02T12:18:40.732Z"
   },
   {
    "duration": 40,
    "start_time": "2023-05-02T12:18:40.896Z"
   },
   {
    "duration": 31,
    "start_time": "2023-05-02T12:18:40.938Z"
   },
   {
    "duration": 66,
    "start_time": "2023-05-02T12:18:40.971Z"
   },
   {
    "duration": 57,
    "start_time": "2023-05-02T12:18:41.039Z"
   },
   {
    "duration": 45,
    "start_time": "2023-05-02T12:18:41.101Z"
   },
   {
    "duration": 59,
    "start_time": "2023-05-02T12:18:41.148Z"
   },
   {
    "duration": 30,
    "start_time": "2023-05-02T12:18:41.209Z"
   },
   {
    "duration": 21,
    "start_time": "2023-05-02T12:18:41.241Z"
   },
   {
    "duration": 1397,
    "start_time": "2023-05-02T12:18:41.264Z"
   },
   {
    "duration": 4,
    "start_time": "2023-05-02T12:18:44.612Z"
   },
   {
    "duration": 725,
    "start_time": "2023-05-02T12:18:44.619Z"
   },
   {
    "duration": 246,
    "start_time": "2023-05-02T12:18:45.346Z"
   },
   {
    "duration": 225,
    "start_time": "2023-05-02T12:18:45.595Z"
   },
   {
    "duration": 4,
    "start_time": "2023-05-02T12:18:45.822Z"
   },
   {
    "duration": 935,
    "start_time": "2023-05-02T12:18:45.828Z"
   },
   {
    "duration": 31,
    "start_time": "2023-05-02T12:18:46.765Z"
   },
   {
    "duration": 694,
    "start_time": "2023-05-02T12:18:46.801Z"
   },
   {
    "duration": 21,
    "start_time": "2023-05-02T12:18:47.497Z"
   },
   {
    "duration": 698,
    "start_time": "2023-05-02T12:18:47.519Z"
   },
   {
    "duration": 4,
    "start_time": "2023-05-02T12:18:48.219Z"
   },
   {
    "duration": 13,
    "start_time": "2023-05-02T12:18:48.225Z"
   },
   {
    "duration": 18,
    "start_time": "2023-05-02T12:18:48.240Z"
   },
   {
    "duration": 7,
    "start_time": "2023-05-02T12:18:48.262Z"
   },
   {
    "duration": 30,
    "start_time": "2023-05-02T12:18:48.271Z"
   },
   {
    "duration": 214,
    "start_time": "2023-05-02T12:18:48.306Z"
   },
   {
    "duration": 30,
    "start_time": "2023-05-02T12:18:48.522Z"
   },
   {
    "duration": 44,
    "start_time": "2023-05-02T12:18:48.553Z"
   },
   {
    "duration": 92,
    "start_time": "2023-05-02T12:18:48.599Z"
   },
   {
    "duration": 49,
    "start_time": "2023-05-02T12:18:48.693Z"
   },
   {
    "duration": 47,
    "start_time": "2023-05-02T12:18:48.744Z"
   },
   {
    "duration": 12,
    "start_time": "2023-05-02T12:18:48.793Z"
   },
   {
    "duration": 114,
    "start_time": "2023-05-02T12:18:48.808Z"
   },
   {
    "duration": 38,
    "start_time": "2023-05-02T12:18:48.923Z"
   },
   {
    "duration": 18,
    "start_time": "2023-05-02T12:18:48.963Z"
   },
   {
    "duration": 42,
    "start_time": "2023-05-02T12:18:48.982Z"
   },
   {
    "duration": 15,
    "start_time": "2023-05-02T12:18:49.026Z"
   },
   {
    "duration": 39,
    "start_time": "2023-05-02T12:18:49.042Z"
   },
   {
    "duration": 15,
    "start_time": "2023-05-02T12:18:49.083Z"
   },
   {
    "duration": 25,
    "start_time": "2023-05-02T12:18:49.099Z"
   },
   {
    "duration": 1216,
    "start_time": "2023-05-02T12:18:49.126Z"
   },
   {
    "duration": 7,
    "start_time": "2023-05-02T12:19:56.560Z"
   },
   {
    "duration": 21,
    "start_time": "2023-05-02T12:19:56.936Z"
   },
   {
    "duration": 4,
    "start_time": "2023-05-02T12:26:18.817Z"
   },
   {
    "duration": 434,
    "start_time": "2023-05-02T12:26:18.823Z"
   },
   {
    "duration": 542,
    "start_time": "2023-05-02T12:26:19.259Z"
   },
   {
    "duration": 414,
    "start_time": "2023-05-02T12:26:19.803Z"
   },
   {
    "duration": 6,
    "start_time": "2023-05-02T12:26:20.223Z"
   },
   {
    "duration": 767,
    "start_time": "2023-05-02T12:26:20.231Z"
   },
   {
    "duration": 32,
    "start_time": "2023-05-02T12:26:21.008Z"
   },
   {
    "duration": 670,
    "start_time": "2023-05-02T12:26:21.041Z"
   },
   {
    "duration": 7,
    "start_time": "2023-05-02T12:26:21.717Z"
   },
   {
    "duration": 694,
    "start_time": "2023-05-02T12:26:21.726Z"
   },
   {
    "duration": 4,
    "start_time": "2023-05-02T12:26:22.421Z"
   },
   {
    "duration": 99,
    "start_time": "2023-05-02T12:26:22.426Z"
   },
   {
    "duration": 35,
    "start_time": "2023-05-02T12:26:22.527Z"
   },
   {
    "duration": 22,
    "start_time": "2023-05-02T12:26:22.566Z"
   },
   {
    "duration": 0,
    "start_time": "2023-05-02T12:26:22.590Z"
   },
   {
    "duration": 0,
    "start_time": "2023-05-02T12:26:22.592Z"
   },
   {
    "duration": 0,
    "start_time": "2023-05-02T12:26:22.596Z"
   },
   {
    "duration": 0,
    "start_time": "2023-05-02T12:26:22.599Z"
   },
   {
    "duration": 0,
    "start_time": "2023-05-02T12:26:22.602Z"
   },
   {
    "duration": 0,
    "start_time": "2023-05-02T12:26:22.604Z"
   },
   {
    "duration": 0,
    "start_time": "2023-05-02T12:26:22.609Z"
   },
   {
    "duration": 0,
    "start_time": "2023-05-02T12:26:22.609Z"
   },
   {
    "duration": 0,
    "start_time": "2023-05-02T12:26:22.610Z"
   },
   {
    "duration": 0,
    "start_time": "2023-05-02T12:26:22.611Z"
   },
   {
    "duration": 0,
    "start_time": "2023-05-02T12:26:22.614Z"
   },
   {
    "duration": 0,
    "start_time": "2023-05-02T12:26:22.614Z"
   },
   {
    "duration": 0,
    "start_time": "2023-05-02T12:26:22.616Z"
   },
   {
    "duration": 0,
    "start_time": "2023-05-02T12:26:22.617Z"
   },
   {
    "duration": 0,
    "start_time": "2023-05-02T12:26:22.619Z"
   },
   {
    "duration": 0,
    "start_time": "2023-05-02T12:26:22.619Z"
   },
   {
    "duration": 0,
    "start_time": "2023-05-02T12:26:22.767Z"
   },
   {
    "duration": 4,
    "start_time": "2023-05-02T12:26:48.271Z"
   },
   {
    "duration": 263,
    "start_time": "2023-05-02T12:26:48.277Z"
   },
   {
    "duration": 298,
    "start_time": "2023-05-02T12:26:48.542Z"
   },
   {
    "duration": 385,
    "start_time": "2023-05-02T12:26:48.841Z"
   },
   {
    "duration": 4,
    "start_time": "2023-05-02T12:26:49.228Z"
   },
   {
    "duration": 801,
    "start_time": "2023-05-02T12:26:49.233Z"
   },
   {
    "duration": 34,
    "start_time": "2023-05-02T12:26:50.037Z"
   },
   {
    "duration": 762,
    "start_time": "2023-05-02T12:26:50.085Z"
   },
   {
    "duration": 8,
    "start_time": "2023-05-02T12:26:50.849Z"
   },
   {
    "duration": 771,
    "start_time": "2023-05-02T12:26:50.859Z"
   },
   {
    "duration": 4,
    "start_time": "2023-05-02T12:26:51.632Z"
   },
   {
    "duration": 16,
    "start_time": "2023-05-02T12:26:51.637Z"
   },
   {
    "duration": 45,
    "start_time": "2023-05-02T12:26:51.655Z"
   },
   {
    "duration": 11,
    "start_time": "2023-05-02T12:26:51.703Z"
   },
   {
    "duration": 73,
    "start_time": "2023-05-02T12:26:51.716Z"
   },
   {
    "duration": 138,
    "start_time": "2023-05-02T12:26:51.791Z"
   },
   {
    "duration": 14,
    "start_time": "2023-05-02T12:26:51.931Z"
   },
   {
    "duration": 55,
    "start_time": "2023-05-02T12:26:51.947Z"
   },
   {
    "duration": 122,
    "start_time": "2023-05-02T12:26:52.005Z"
   },
   {
    "duration": 44,
    "start_time": "2023-05-02T12:26:52.129Z"
   },
   {
    "duration": 155,
    "start_time": "2023-05-02T12:26:52.176Z"
   },
   {
    "duration": 18,
    "start_time": "2023-05-02T12:26:52.333Z"
   },
   {
    "duration": 7,
    "start_time": "2023-05-02T12:26:52.353Z"
   },
   {
    "duration": 52,
    "start_time": "2023-05-02T12:26:52.361Z"
   },
   {
    "duration": 17,
    "start_time": "2023-05-02T12:26:52.414Z"
   },
   {
    "duration": 19,
    "start_time": "2023-05-02T12:26:52.432Z"
   },
   {
    "duration": 33,
    "start_time": "2023-05-02T12:26:52.452Z"
   },
   {
    "duration": 3,
    "start_time": "2023-05-02T12:26:52.488Z"
   },
   {
    "duration": 86,
    "start_time": "2023-05-02T12:26:52.493Z"
   },
   {
    "duration": 1270,
    "start_time": "2023-05-02T12:26:52.581Z"
   },
   {
    "duration": 5,
    "start_time": "2023-05-02T12:27:08.109Z"
   },
   {
    "duration": 21,
    "start_time": "2023-05-02T12:27:08.511Z"
   },
   {
    "duration": 4,
    "start_time": "2023-05-02T12:28:42.651Z"
   },
   {
    "duration": 310,
    "start_time": "2023-05-02T12:28:42.656Z"
   },
   {
    "duration": 230,
    "start_time": "2023-05-02T12:28:42.968Z"
   },
   {
    "duration": 496,
    "start_time": "2023-05-02T12:28:43.200Z"
   },
   {
    "duration": 5,
    "start_time": "2023-05-02T12:28:43.700Z"
   },
   {
    "duration": 738,
    "start_time": "2023-05-02T12:28:43.707Z"
   },
   {
    "duration": 58,
    "start_time": "2023-05-02T12:28:44.447Z"
   },
   {
    "duration": 730,
    "start_time": "2023-05-02T12:28:44.507Z"
   },
   {
    "duration": 7,
    "start_time": "2023-05-02T12:28:45.240Z"
   },
   {
    "duration": 875,
    "start_time": "2023-05-02T12:28:45.248Z"
   },
   {
    "duration": 4,
    "start_time": "2023-05-02T12:28:46.125Z"
   },
   {
    "duration": 28,
    "start_time": "2023-05-02T12:28:46.130Z"
   },
   {
    "duration": 28,
    "start_time": "2023-05-02T12:28:46.160Z"
   },
   {
    "duration": 46,
    "start_time": "2023-05-02T12:28:46.191Z"
   },
   {
    "duration": 13,
    "start_time": "2023-05-02T12:28:46.288Z"
   },
   {
    "duration": 131,
    "start_time": "2023-05-02T12:28:46.302Z"
   },
   {
    "duration": 38,
    "start_time": "2023-05-02T12:28:46.435Z"
   },
   {
    "duration": 153,
    "start_time": "2023-05-02T12:28:46.476Z"
   },
   {
    "duration": 61,
    "start_time": "2023-05-02T12:28:46.631Z"
   },
   {
    "duration": 117,
    "start_time": "2023-05-02T12:28:46.694Z"
   },
   {
    "duration": 204,
    "start_time": "2023-05-02T12:28:46.814Z"
   },
   {
    "duration": 62,
    "start_time": "2023-05-02T12:28:47.019Z"
   },
   {
    "duration": 72,
    "start_time": "2023-05-02T12:28:47.083Z"
   },
   {
    "duration": 89,
    "start_time": "2023-05-02T12:28:47.159Z"
   },
   {
    "duration": 62,
    "start_time": "2023-05-02T12:28:47.250Z"
   },
   {
    "duration": 136,
    "start_time": "2023-05-02T12:28:47.314Z"
   },
   {
    "duration": 80,
    "start_time": "2023-05-02T12:28:47.452Z"
   },
   {
    "duration": 25,
    "start_time": "2023-05-02T12:28:47.535Z"
   },
   {
    "duration": 56,
    "start_time": "2023-05-02T12:28:47.562Z"
   },
   {
    "duration": 1288,
    "start_time": "2023-05-02T12:28:47.620Z"
   },
   {
    "duration": 10,
    "start_time": "2023-05-02T12:51:00.311Z"
   },
   {
    "duration": 5,
    "start_time": "2023-05-02T12:51:11.317Z"
   },
   {
    "duration": 8,
    "start_time": "2023-05-02T12:51:40.006Z"
   },
   {
    "duration": 5,
    "start_time": "2023-05-02T12:53:39.247Z"
   },
   {
    "duration": 6,
    "start_time": "2023-05-02T12:55:55.657Z"
   },
   {
    "duration": 5,
    "start_time": "2023-05-02T12:57:42.713Z"
   },
   {
    "duration": 6,
    "start_time": "2023-05-02T12:58:23.595Z"
   },
   {
    "duration": 21,
    "start_time": "2023-05-02T12:58:24.033Z"
   },
   {
    "duration": 23,
    "start_time": "2023-05-02T12:58:41.401Z"
   },
   {
    "duration": 11,
    "start_time": "2023-05-02T12:58:43.482Z"
   },
   {
    "duration": 1375,
    "start_time": "2023-05-02T12:58:43.724Z"
   },
   {
    "duration": 7,
    "start_time": "2023-05-02T13:00:04.947Z"
   },
   {
    "duration": 12,
    "start_time": "2023-05-02T13:29:38.124Z"
   },
   {
    "duration": 3,
    "start_time": "2023-05-02T14:06:48.643Z"
   },
   {
    "duration": 227,
    "start_time": "2023-05-02T14:06:48.648Z"
   },
   {
    "duration": 191,
    "start_time": "2023-05-02T14:06:48.877Z"
   },
   {
    "duration": 215,
    "start_time": "2023-05-02T14:06:49.070Z"
   },
   {
    "duration": 8,
    "start_time": "2023-05-02T14:06:49.292Z"
   },
   {
    "duration": 788,
    "start_time": "2023-05-02T14:06:49.306Z"
   },
   {
    "duration": 34,
    "start_time": "2023-05-02T14:06:50.099Z"
   },
   {
    "duration": 748,
    "start_time": "2023-05-02T14:06:50.135Z"
   },
   {
    "duration": 12,
    "start_time": "2023-05-02T14:06:50.886Z"
   },
   {
    "duration": 815,
    "start_time": "2023-05-02T14:06:50.900Z"
   },
   {
    "duration": 4,
    "start_time": "2023-05-02T14:06:51.719Z"
   },
   {
    "duration": 28,
    "start_time": "2023-05-02T14:06:51.725Z"
   },
   {
    "duration": 75,
    "start_time": "2023-05-02T14:06:51.755Z"
   },
   {
    "duration": 66,
    "start_time": "2023-05-02T14:06:51.832Z"
   },
   {
    "duration": 134,
    "start_time": "2023-05-02T14:06:51.900Z"
   },
   {
    "duration": 130,
    "start_time": "2023-05-02T14:06:52.035Z"
   },
   {
    "duration": 126,
    "start_time": "2023-05-02T14:06:52.167Z"
   },
   {
    "duration": 224,
    "start_time": "2023-05-02T14:06:52.294Z"
   },
   {
    "duration": 52,
    "start_time": "2023-05-02T14:06:52.520Z"
   },
   {
    "duration": 33,
    "start_time": "2023-05-02T14:06:52.574Z"
   },
   {
    "duration": 179,
    "start_time": "2023-05-02T14:06:52.610Z"
   },
   {
    "duration": 100,
    "start_time": "2023-05-02T14:06:52.794Z"
   },
   {
    "duration": 44,
    "start_time": "2023-05-02T14:06:52.896Z"
   },
   {
    "duration": 9,
    "start_time": "2023-05-02T14:06:52.943Z"
   },
   {
    "duration": 55,
    "start_time": "2023-05-02T14:06:52.954Z"
   },
   {
    "duration": 29,
    "start_time": "2023-05-02T14:06:53.011Z"
   },
   {
    "duration": 37,
    "start_time": "2023-05-02T14:06:53.041Z"
   },
   {
    "duration": 1,
    "start_time": "2023-05-02T14:06:53.079Z"
   },
   {
    "duration": 0,
    "start_time": "2023-05-02T14:06:53.081Z"
   },
   {
    "duration": 0,
    "start_time": "2023-05-02T14:06:53.082Z"
   },
   {
    "duration": 0,
    "start_time": "2023-05-02T14:06:53.083Z"
   },
   {
    "duration": 3,
    "start_time": "2023-05-02T14:08:11.561Z"
   },
   {
    "duration": 21,
    "start_time": "2023-05-02T14:08:12.099Z"
   },
   {
    "duration": 3,
    "start_time": "2023-05-02T14:11:23.818Z"
   },
   {
    "duration": 19,
    "start_time": "2023-05-02T14:11:24.417Z"
   },
   {
    "duration": 8,
    "start_time": "2023-05-02T14:11:38.064Z"
   },
   {
    "duration": 1281,
    "start_time": "2023-05-02T14:11:38.273Z"
   },
   {
    "duration": 3,
    "start_time": "2023-05-02T14:17:08.946Z"
   },
   {
    "duration": 3,
    "start_time": "2023-05-02T14:17:10.209Z"
   },
   {
    "duration": 5,
    "start_time": "2023-05-02T14:17:11.473Z"
   },
   {
    "duration": 18,
    "start_time": "2023-05-02T14:17:17.597Z"
   },
   {
    "duration": 3,
    "start_time": "2023-05-02T14:17:44.113Z"
   },
   {
    "duration": 19,
    "start_time": "2023-05-02T14:17:44.673Z"
   },
   {
    "duration": 4,
    "start_time": "2023-05-02T14:17:53.002Z"
   },
   {
    "duration": 118,
    "start_time": "2023-05-02T14:17:53.368Z"
   },
   {
    "duration": 3,
    "start_time": "2023-05-02T14:18:58.424Z"
   },
   {
    "duration": 1178,
    "start_time": "2023-05-02T14:18:58.752Z"
   },
   {
    "duration": 4,
    "start_time": "2023-05-02T14:19:22.225Z"
   },
   {
    "duration": 4,
    "start_time": "2023-05-02T14:19:22.663Z"
   },
   {
    "duration": 1181,
    "start_time": "2023-05-02T14:19:24.711Z"
   },
   {
    "duration": 13,
    "start_time": "2023-05-02T14:20:19.080Z"
   },
   {
    "duration": 1319,
    "start_time": "2023-05-02T14:20:19.691Z"
   },
   {
    "duration": 5,
    "start_time": "2023-05-02T14:20:32.920Z"
   },
   {
    "duration": 1421,
    "start_time": "2023-05-02T14:20:33.609Z"
   },
   {
    "duration": 4,
    "start_time": "2023-05-02T14:22:51.686Z"
   },
   {
    "duration": 252,
    "start_time": "2023-05-02T14:22:51.702Z"
   },
   {
    "duration": 234,
    "start_time": "2023-05-02T14:22:51.956Z"
   },
   {
    "duration": 255,
    "start_time": "2023-05-02T14:22:52.196Z"
   },
   {
    "duration": 5,
    "start_time": "2023-05-02T14:22:52.453Z"
   },
   {
    "duration": 707,
    "start_time": "2023-05-02T14:22:52.461Z"
   },
   {
    "duration": 43,
    "start_time": "2023-05-02T14:22:53.170Z"
   },
   {
    "duration": 787,
    "start_time": "2023-05-02T14:22:53.216Z"
   },
   {
    "duration": 7,
    "start_time": "2023-05-02T14:22:54.004Z"
   },
   {
    "duration": 681,
    "start_time": "2023-05-02T14:22:54.013Z"
   },
   {
    "duration": 4,
    "start_time": "2023-05-02T14:22:54.696Z"
   },
   {
    "duration": 41,
    "start_time": "2023-05-02T14:22:54.702Z"
   },
   {
    "duration": 81,
    "start_time": "2023-05-02T14:22:54.745Z"
   },
   {
    "duration": 61,
    "start_time": "2023-05-02T14:22:54.828Z"
   },
   {
    "duration": 120,
    "start_time": "2023-05-02T14:22:54.896Z"
   },
   {
    "duration": 53,
    "start_time": "2023-05-02T14:22:55.020Z"
   },
   {
    "duration": 32,
    "start_time": "2023-05-02T14:22:55.075Z"
   },
   {
    "duration": 201,
    "start_time": "2023-05-02T14:22:55.108Z"
   },
   {
    "duration": 13,
    "start_time": "2023-05-02T14:22:55.311Z"
   },
   {
    "duration": 12,
    "start_time": "2023-05-02T14:22:55.326Z"
   },
   {
    "duration": 149,
    "start_time": "2023-05-02T14:22:55.341Z"
   },
   {
    "duration": 25,
    "start_time": "2023-05-02T14:22:55.493Z"
   },
   {
    "duration": 9,
    "start_time": "2023-05-02T14:22:55.521Z"
   },
   {
    "duration": 17,
    "start_time": "2023-05-02T14:22:55.532Z"
   },
   {
    "duration": 14,
    "start_time": "2023-05-02T14:22:55.550Z"
   },
   {
    "duration": 8,
    "start_time": "2023-05-02T14:22:55.565Z"
   },
   {
    "duration": 25,
    "start_time": "2023-05-02T14:22:55.575Z"
   },
   {
    "duration": 15,
    "start_time": "2023-05-02T14:22:55.603Z"
   },
   {
    "duration": 17,
    "start_time": "2023-05-02T14:22:55.620Z"
   },
   {
    "duration": 1372,
    "start_time": "2023-05-02T14:22:55.640Z"
   },
   {
    "duration": 6,
    "start_time": "2023-05-02T14:22:57.014Z"
   },
   {
    "duration": 3,
    "start_time": "2023-05-02T14:23:09.023Z"
   },
   {
    "duration": 19,
    "start_time": "2023-05-02T14:23:09.855Z"
   },
   {
    "duration": 9,
    "start_time": "2023-05-02T14:23:20.188Z"
   },
   {
    "duration": 1642,
    "start_time": "2023-05-02T14:23:20.708Z"
   },
   {
    "duration": 5,
    "start_time": "2023-05-02T14:24:08.263Z"
   },
   {
    "duration": 1848,
    "start_time": "2023-05-02T14:24:09.367Z"
   },
   {
    "duration": 5,
    "start_time": "2023-05-02T14:24:16.168Z"
   },
   {
    "duration": 332,
    "start_time": "2023-05-02T14:24:16.175Z"
   },
   {
    "duration": 223,
    "start_time": "2023-05-02T14:24:16.510Z"
   },
   {
    "duration": 282,
    "start_time": "2023-05-02T14:24:16.736Z"
   },
   {
    "duration": 6,
    "start_time": "2023-05-02T14:24:17.023Z"
   },
   {
    "duration": 864,
    "start_time": "2023-05-02T14:24:17.030Z"
   },
   {
    "duration": 40,
    "start_time": "2023-05-02T14:24:17.896Z"
   },
   {
    "duration": 829,
    "start_time": "2023-05-02T14:24:17.938Z"
   },
   {
    "duration": 18,
    "start_time": "2023-05-02T14:24:18.772Z"
   },
   {
    "duration": 948,
    "start_time": "2023-05-02T14:24:18.798Z"
   },
   {
    "duration": 5,
    "start_time": "2023-05-02T14:24:19.749Z"
   },
   {
    "duration": 72,
    "start_time": "2023-05-02T14:24:19.757Z"
   },
   {
    "duration": 35,
    "start_time": "2023-05-02T14:24:19.832Z"
   },
   {
    "duration": 63,
    "start_time": "2023-05-02T14:24:19.869Z"
   },
   {
    "duration": 77,
    "start_time": "2023-05-02T14:24:19.936Z"
   },
   {
    "duration": 71,
    "start_time": "2023-05-02T14:24:20.015Z"
   },
   {
    "duration": 121,
    "start_time": "2023-05-02T14:24:20.088Z"
   },
   {
    "duration": 121,
    "start_time": "2023-05-02T14:24:20.213Z"
   },
   {
    "duration": 72,
    "start_time": "2023-05-02T14:24:20.336Z"
   },
   {
    "duration": 61,
    "start_time": "2023-05-02T14:24:20.410Z"
   },
   {
    "duration": 116,
    "start_time": "2023-05-02T14:24:20.477Z"
   },
   {
    "duration": 42,
    "start_time": "2023-05-02T14:24:20.598Z"
   },
   {
    "duration": 17,
    "start_time": "2023-05-02T14:24:20.643Z"
   },
   {
    "duration": 10,
    "start_time": "2023-05-02T14:24:20.662Z"
   },
   {
    "duration": 25,
    "start_time": "2023-05-02T14:24:20.674Z"
   },
   {
    "duration": 41,
    "start_time": "2023-05-02T14:24:20.712Z"
   },
   {
    "duration": 54,
    "start_time": "2023-05-02T14:24:20.755Z"
   },
   {
    "duration": 27,
    "start_time": "2023-05-02T14:24:20.819Z"
   },
   {
    "duration": 25,
    "start_time": "2023-05-02T14:24:20.848Z"
   },
   {
    "duration": 1879,
    "start_time": "2023-05-02T14:24:20.875Z"
   },
   {
    "duration": 7,
    "start_time": "2023-05-02T14:24:22.756Z"
   },
   {
    "duration": 7,
    "start_time": "2023-05-02T14:32:18.392Z"
   },
   {
    "duration": 249,
    "start_time": "2023-05-02T14:32:18.402Z"
   },
   {
    "duration": 175,
    "start_time": "2023-05-02T14:32:18.652Z"
   },
   {
    "duration": 195,
    "start_time": "2023-05-02T14:32:18.829Z"
   },
   {
    "duration": 3,
    "start_time": "2023-05-02T14:32:19.026Z"
   },
   {
    "duration": 912,
    "start_time": "2023-05-02T14:32:19.031Z"
   },
   {
    "duration": 47,
    "start_time": "2023-05-02T14:32:19.947Z"
   },
   {
    "duration": 717,
    "start_time": "2023-05-02T14:32:20.000Z"
   },
   {
    "duration": 9,
    "start_time": "2023-05-02T14:32:20.720Z"
   },
   {
    "duration": 796,
    "start_time": "2023-05-02T14:32:20.732Z"
   },
   {
    "duration": 4,
    "start_time": "2023-05-02T14:32:21.530Z"
   },
   {
    "duration": 22,
    "start_time": "2023-05-02T14:32:21.536Z"
   },
   {
    "duration": 35,
    "start_time": "2023-05-02T14:32:21.559Z"
   },
   {
    "duration": 35,
    "start_time": "2023-05-02T14:32:21.598Z"
   },
   {
    "duration": 175,
    "start_time": "2023-05-02T14:32:21.635Z"
   },
   {
    "duration": 17,
    "start_time": "2023-05-02T14:32:21.811Z"
   },
   {
    "duration": 15,
    "start_time": "2023-05-02T14:32:21.830Z"
   },
   {
    "duration": 9,
    "start_time": "2023-05-02T14:32:21.887Z"
   },
   {
    "duration": 125,
    "start_time": "2023-05-02T14:32:21.898Z"
   },
   {
    "duration": 26,
    "start_time": "2023-05-02T14:32:22.024Z"
   },
   {
    "duration": 14,
    "start_time": "2023-05-02T14:32:22.090Z"
   },
   {
    "duration": 79,
    "start_time": "2023-05-02T14:32:22.106Z"
   },
   {
    "duration": 21,
    "start_time": "2023-05-02T14:32:22.193Z"
   },
   {
    "duration": 14,
    "start_time": "2023-05-02T14:32:22.216Z"
   },
   {
    "duration": 10,
    "start_time": "2023-05-02T14:32:22.232Z"
   },
   {
    "duration": 23,
    "start_time": "2023-05-02T14:32:22.244Z"
   },
   {
    "duration": 29,
    "start_time": "2023-05-02T14:32:22.268Z"
   },
   {
    "duration": 6,
    "start_time": "2023-05-02T14:32:22.307Z"
   },
   {
    "duration": 15,
    "start_time": "2023-05-02T14:32:22.315Z"
   },
   {
    "duration": 1572,
    "start_time": "2023-05-02T14:32:22.332Z"
   },
   {
    "duration": 6,
    "start_time": "2023-05-02T14:32:23.906Z"
   },
   {
    "duration": 5,
    "start_time": "2023-05-02T14:33:36.027Z"
   },
   {
    "duration": 8,
    "start_time": "2023-05-02T14:34:23.281Z"
   },
   {
    "duration": 1547,
    "start_time": "2023-05-02T14:34:23.713Z"
   },
   {
    "duration": 6,
    "start_time": "2023-05-02T14:34:39.035Z"
   },
   {
    "duration": 1552,
    "start_time": "2023-05-02T14:34:39.465Z"
   },
   {
    "duration": 7,
    "start_time": "2023-05-02T14:35:04.651Z"
   },
   {
    "duration": 1632,
    "start_time": "2023-05-02T14:35:05.076Z"
   },
   {
    "duration": 8,
    "start_time": "2023-05-02T14:57:47.212Z"
   },
   {
    "duration": 2048,
    "start_time": "2023-05-02T14:57:48.115Z"
   },
   {
    "duration": 6,
    "start_time": "2023-05-02T14:58:08.241Z"
   },
   {
    "duration": 192,
    "start_time": "2023-05-02T14:58:08.736Z"
   },
   {
    "duration": 12,
    "start_time": "2023-05-02T14:58:45.331Z"
   },
   {
    "duration": 1861,
    "start_time": "2023-05-02T14:58:45.854Z"
   },
   {
    "duration": 5,
    "start_time": "2023-05-02T15:01:47.812Z"
   },
   {
    "duration": 1583,
    "start_time": "2023-05-02T15:01:48.254Z"
   },
   {
    "duration": 166,
    "start_time": "2023-05-02T15:02:03.713Z"
   },
   {
    "duration": 1647,
    "start_time": "2023-05-02T15:02:04.111Z"
   },
   {
    "duration": 5,
    "start_time": "2023-05-02T15:02:17.814Z"
   },
   {
    "duration": 1461,
    "start_time": "2023-05-02T15:02:18.614Z"
   },
   {
    "duration": 10,
    "start_time": "2023-05-02T15:04:38.820Z"
   },
   {
    "duration": 2084,
    "start_time": "2023-05-02T15:04:39.214Z"
   },
   {
    "duration": 5,
    "start_time": "2023-05-02T15:07:31.224Z"
   },
   {
    "duration": 1649,
    "start_time": "2023-05-02T15:07:31.621Z"
   },
   {
    "duration": 4,
    "start_time": "2023-05-02T15:07:45.424Z"
   },
   {
    "duration": 248,
    "start_time": "2023-05-02T15:07:45.430Z"
   },
   {
    "duration": 187,
    "start_time": "2023-05-02T15:07:45.680Z"
   },
   {
    "duration": 204,
    "start_time": "2023-05-02T15:07:45.869Z"
   },
   {
    "duration": 21,
    "start_time": "2023-05-02T15:07:46.076Z"
   },
   {
    "duration": 774,
    "start_time": "2023-05-02T15:07:46.105Z"
   },
   {
    "duration": 34,
    "start_time": "2023-05-02T15:07:46.884Z"
   },
   {
    "duration": 664,
    "start_time": "2023-05-02T15:07:46.922Z"
   },
   {
    "duration": 10,
    "start_time": "2023-05-02T15:07:47.596Z"
   },
   {
    "duration": 828,
    "start_time": "2023-05-02T15:07:47.611Z"
   },
   {
    "duration": 3,
    "start_time": "2023-05-02T15:07:48.441Z"
   },
   {
    "duration": 16,
    "start_time": "2023-05-02T15:07:48.446Z"
   },
   {
    "duration": 42,
    "start_time": "2023-05-02T15:07:48.463Z"
   },
   {
    "duration": 40,
    "start_time": "2023-05-02T15:07:48.511Z"
   },
   {
    "duration": 101,
    "start_time": "2023-05-02T15:07:48.603Z"
   },
   {
    "duration": 27,
    "start_time": "2023-05-02T15:07:48.709Z"
   },
   {
    "duration": 53,
    "start_time": "2023-05-02T15:07:48.738Z"
   },
   {
    "duration": 100,
    "start_time": "2023-05-02T15:07:48.798Z"
   },
   {
    "duration": 52,
    "start_time": "2023-05-02T15:07:48.899Z"
   },
   {
    "duration": 72,
    "start_time": "2023-05-02T15:07:48.953Z"
   },
   {
    "duration": 48,
    "start_time": "2023-05-02T15:07:49.085Z"
   },
   {
    "duration": 91,
    "start_time": "2023-05-02T15:07:49.134Z"
   },
   {
    "duration": 9,
    "start_time": "2023-05-02T15:07:49.226Z"
   },
   {
    "duration": 8,
    "start_time": "2023-05-02T15:07:49.238Z"
   },
   {
    "duration": 10,
    "start_time": "2023-05-02T15:07:49.248Z"
   },
   {
    "duration": 4,
    "start_time": "2023-05-02T15:07:49.261Z"
   },
   {
    "duration": 37,
    "start_time": "2023-05-02T15:07:49.267Z"
   },
   {
    "duration": 11,
    "start_time": "2023-05-02T15:07:49.309Z"
   },
   {
    "duration": 7,
    "start_time": "2023-05-02T15:07:49.322Z"
   },
   {
    "duration": 1574,
    "start_time": "2023-05-02T15:07:49.331Z"
   },
   {
    "duration": 7,
    "start_time": "2023-05-02T15:14:56.819Z"
   },
   {
    "duration": 1518,
    "start_time": "2023-05-02T15:14:57.337Z"
   },
   {
    "duration": 6,
    "start_time": "2023-05-02T15:15:12.227Z"
   },
   {
    "duration": 1656,
    "start_time": "2023-05-02T15:15:13.314Z"
   },
   {
    "duration": 8,
    "start_time": "2023-05-02T15:15:59.169Z"
   },
   {
    "duration": 1820,
    "start_time": "2023-05-02T15:15:59.577Z"
   },
   {
    "duration": 127,
    "start_time": "2023-05-02T15:18:04.018Z"
   },
   {
    "duration": 291,
    "start_time": "2023-05-02T15:18:11.732Z"
   },
   {
    "duration": 5,
    "start_time": "2023-05-02T15:18:20.465Z"
   },
   {
    "duration": 9,
    "start_time": "2023-05-02T15:18:21.649Z"
   },
   {
    "duration": 5,
    "start_time": "2023-05-02T15:18:33.350Z"
   },
   {
    "duration": 254,
    "start_time": "2023-05-02T15:18:33.357Z"
   },
   {
    "duration": 311,
    "start_time": "2023-05-02T15:18:33.612Z"
   },
   {
    "duration": 237,
    "start_time": "2023-05-02T15:18:33.925Z"
   },
   {
    "duration": 5,
    "start_time": "2023-05-02T15:18:34.165Z"
   },
   {
    "duration": 800,
    "start_time": "2023-05-02T15:18:34.171Z"
   },
   {
    "duration": 52,
    "start_time": "2023-05-02T15:18:34.974Z"
   },
   {
    "duration": 712,
    "start_time": "2023-05-02T15:18:35.032Z"
   },
   {
    "duration": 8,
    "start_time": "2023-05-02T15:18:35.745Z"
   },
   {
    "duration": 784,
    "start_time": "2023-05-02T15:18:35.754Z"
   },
   {
    "duration": 5,
    "start_time": "2023-05-02T15:18:36.540Z"
   },
   {
    "duration": 6,
    "start_time": "2023-05-02T15:18:36.548Z"
   },
   {
    "duration": 18,
    "start_time": "2023-05-02T15:18:36.555Z"
   },
   {
    "duration": 25,
    "start_time": "2023-05-02T15:18:36.576Z"
   },
   {
    "duration": 126,
    "start_time": "2023-05-02T15:18:36.606Z"
   },
   {
    "duration": 16,
    "start_time": "2023-05-02T15:18:36.733Z"
   },
   {
    "duration": 143,
    "start_time": "2023-05-02T15:18:36.751Z"
   },
   {
    "duration": 12,
    "start_time": "2023-05-02T15:18:36.896Z"
   },
   {
    "duration": 49,
    "start_time": "2023-05-02T15:18:36.910Z"
   },
   {
    "duration": 84,
    "start_time": "2023-05-02T15:18:36.961Z"
   },
   {
    "duration": 51,
    "start_time": "2023-05-02T15:18:37.047Z"
   },
   {
    "duration": 126,
    "start_time": "2023-05-02T15:18:37.103Z"
   },
   {
    "duration": 13,
    "start_time": "2023-05-02T15:18:37.231Z"
   },
   {
    "duration": 10,
    "start_time": "2023-05-02T15:18:37.246Z"
   },
   {
    "duration": 10,
    "start_time": "2023-05-02T15:18:37.258Z"
   },
   {
    "duration": 6,
    "start_time": "2023-05-02T15:18:37.270Z"
   },
   {
    "duration": 32,
    "start_time": "2023-05-02T15:18:37.279Z"
   },
   {
    "duration": 22,
    "start_time": "2023-05-02T15:18:37.313Z"
   },
   {
    "duration": 8,
    "start_time": "2023-05-02T15:18:37.337Z"
   },
   {
    "duration": 15,
    "start_time": "2023-05-02T15:18:37.348Z"
   },
   {
    "duration": 1607,
    "start_time": "2023-05-02T15:18:52.065Z"
   },
   {
    "duration": 12,
    "start_time": "2023-05-02T15:19:33.809Z"
   },
   {
    "duration": 1542,
    "start_time": "2023-05-02T15:19:35.716Z"
   },
   {
    "duration": 7,
    "start_time": "2023-05-02T15:23:25.012Z"
   },
   {
    "duration": 1736,
    "start_time": "2023-05-02T15:23:25.820Z"
   },
   {
    "duration": 10,
    "start_time": "2023-05-02T15:23:43.311Z"
   },
   {
    "duration": 1780,
    "start_time": "2023-05-02T15:23:43.769Z"
   },
   {
    "duration": 7,
    "start_time": "2023-05-02T15:23:58.511Z"
   },
   {
    "duration": 1669,
    "start_time": "2023-05-02T15:23:59.265Z"
   },
   {
    "duration": 7,
    "start_time": "2023-05-02T15:24:09.929Z"
   },
   {
    "duration": 1667,
    "start_time": "2023-05-02T15:24:10.473Z"
   },
   {
    "duration": 5,
    "start_time": "2023-05-02T15:26:52.850Z"
   },
   {
    "duration": 1575,
    "start_time": "2023-05-02T15:26:53.901Z"
   },
   {
    "duration": 6,
    "start_time": "2023-05-02T15:27:17.830Z"
   },
   {
    "duration": 1710,
    "start_time": "2023-05-02T15:27:18.577Z"
   },
   {
    "duration": 7,
    "start_time": "2023-05-02T15:27:44.066Z"
   },
   {
    "duration": 1697,
    "start_time": "2023-05-02T15:27:46.508Z"
   },
   {
    "duration": 5,
    "start_time": "2023-05-02T15:30:41.634Z"
   },
   {
    "duration": 1605,
    "start_time": "2023-05-02T15:30:42.529Z"
   },
   {
    "duration": 10,
    "start_time": "2023-05-02T15:31:18.411Z"
   },
   {
    "duration": 1610,
    "start_time": "2023-05-02T15:31:18.841Z"
   },
   {
    "duration": 7,
    "start_time": "2023-05-02T15:31:32.665Z"
   },
   {
    "duration": 1708,
    "start_time": "2023-05-02T15:31:33.514Z"
   },
   {
    "duration": 5,
    "start_time": "2023-05-02T15:31:46.253Z"
   },
   {
    "duration": 272,
    "start_time": "2023-05-02T15:31:46.260Z"
   },
   {
    "duration": 228,
    "start_time": "2023-05-02T15:31:46.534Z"
   },
   {
    "duration": 234,
    "start_time": "2023-05-02T15:31:46.765Z"
   },
   {
    "duration": 9,
    "start_time": "2023-05-02T15:31:47.000Z"
   },
   {
    "duration": 793,
    "start_time": "2023-05-02T15:31:47.011Z"
   },
   {
    "duration": 39,
    "start_time": "2023-05-02T15:31:47.806Z"
   },
   {
    "duration": 883,
    "start_time": "2023-05-02T15:31:47.847Z"
   },
   {
    "duration": 13,
    "start_time": "2023-05-02T15:31:48.732Z"
   },
   {
    "duration": 780,
    "start_time": "2023-05-02T15:31:48.748Z"
   },
   {
    "duration": 4,
    "start_time": "2023-05-02T15:31:49.531Z"
   },
   {
    "duration": 23,
    "start_time": "2023-05-02T15:31:49.537Z"
   },
   {
    "duration": 30,
    "start_time": "2023-05-02T15:31:49.562Z"
   },
   {
    "duration": 32,
    "start_time": "2023-05-02T15:31:49.603Z"
   },
   {
    "duration": 90,
    "start_time": "2023-05-02T15:31:49.704Z"
   },
   {
    "duration": 66,
    "start_time": "2023-05-02T15:31:49.801Z"
   },
   {
    "duration": 73,
    "start_time": "2023-05-02T15:31:49.869Z"
   },
   {
    "duration": 156,
    "start_time": "2023-05-02T15:31:49.987Z"
   },
   {
    "duration": 26,
    "start_time": "2023-05-02T15:31:50.146Z"
   },
   {
    "duration": 38,
    "start_time": "2023-05-02T15:31:50.174Z"
   },
   {
    "duration": 132,
    "start_time": "2023-05-02T15:31:50.217Z"
   },
   {
    "duration": 39,
    "start_time": "2023-05-02T15:31:50.351Z"
   },
   {
    "duration": 43,
    "start_time": "2023-05-02T15:31:50.393Z"
   },
   {
    "duration": 6,
    "start_time": "2023-05-02T15:31:50.439Z"
   },
   {
    "duration": 9,
    "start_time": "2023-05-02T15:31:50.447Z"
   },
   {
    "duration": 5,
    "start_time": "2023-05-02T15:31:50.458Z"
   },
   {
    "duration": 31,
    "start_time": "2023-05-02T15:31:50.464Z"
   },
   {
    "duration": 8,
    "start_time": "2023-05-02T15:31:50.504Z"
   },
   {
    "duration": 20,
    "start_time": "2023-05-02T15:31:50.518Z"
   },
   {
    "duration": 1650,
    "start_time": "2023-05-02T15:31:50.540Z"
   },
   {
    "duration": 12,
    "start_time": "2023-05-02T15:31:52.196Z"
   },
   {
    "duration": 5,
    "start_time": "2023-05-02T15:32:23.225Z"
   },
   {
    "duration": 1708,
    "start_time": "2023-05-02T15:32:23.736Z"
   },
   {
    "duration": 5,
    "start_time": "2023-05-02T15:32:32.156Z"
   },
   {
    "duration": 305,
    "start_time": "2023-05-02T15:32:32.163Z"
   },
   {
    "duration": 266,
    "start_time": "2023-05-02T15:32:32.470Z"
   },
   {
    "duration": 233,
    "start_time": "2023-05-02T15:32:32.739Z"
   },
   {
    "duration": 5,
    "start_time": "2023-05-02T15:32:32.973Z"
   },
   {
    "duration": 892,
    "start_time": "2023-05-02T15:32:32.986Z"
   },
   {
    "duration": 39,
    "start_time": "2023-05-02T15:32:33.883Z"
   },
   {
    "duration": 791,
    "start_time": "2023-05-02T15:32:33.928Z"
   },
   {
    "duration": 9,
    "start_time": "2023-05-02T15:32:34.728Z"
   },
   {
    "duration": 854,
    "start_time": "2023-05-02T15:32:34.740Z"
   },
   {
    "duration": 4,
    "start_time": "2023-05-02T15:32:35.596Z"
   },
   {
    "duration": 49,
    "start_time": "2023-05-02T15:32:35.603Z"
   },
   {
    "duration": 27,
    "start_time": "2023-05-02T15:32:35.654Z"
   },
   {
    "duration": 30,
    "start_time": "2023-05-02T15:32:35.683Z"
   },
   {
    "duration": 113,
    "start_time": "2023-05-02T15:32:35.723Z"
   },
   {
    "duration": 65,
    "start_time": "2023-05-02T15:32:35.838Z"
   },
   {
    "duration": 26,
    "start_time": "2023-05-02T15:32:35.908Z"
   },
   {
    "duration": 60,
    "start_time": "2023-05-02T15:32:35.936Z"
   },
   {
    "duration": 155,
    "start_time": "2023-05-02T15:32:35.999Z"
   },
   {
    "duration": 30,
    "start_time": "2023-05-02T15:32:36.156Z"
   },
   {
    "duration": 151,
    "start_time": "2023-05-02T15:32:36.190Z"
   },
   {
    "duration": 14,
    "start_time": "2023-05-02T15:32:36.344Z"
   },
   {
    "duration": 12,
    "start_time": "2023-05-02T15:32:36.360Z"
   },
   {
    "duration": 64,
    "start_time": "2023-05-02T15:32:36.373Z"
   },
   {
    "duration": 112,
    "start_time": "2023-05-02T15:32:36.439Z"
   },
   {
    "duration": 11,
    "start_time": "2023-05-02T15:32:36.553Z"
   },
   {
    "duration": 148,
    "start_time": "2023-05-02T15:32:36.566Z"
   },
   {
    "duration": 9,
    "start_time": "2023-05-02T15:32:36.720Z"
   },
   {
    "duration": 28,
    "start_time": "2023-05-02T15:32:36.732Z"
   },
   {
    "duration": 1754,
    "start_time": "2023-05-02T15:32:36.762Z"
   },
   {
    "duration": 13,
    "start_time": "2023-05-02T15:32:38.527Z"
   },
   {
    "duration": 5,
    "start_time": "2023-05-02T15:34:36.344Z"
   },
   {
    "duration": 1642,
    "start_time": "2023-05-02T15:34:36.727Z"
   },
   {
    "duration": 13,
    "start_time": "2023-05-02T15:34:48.212Z"
   },
   {
    "duration": 321,
    "start_time": "2023-05-02T15:34:48.228Z"
   },
   {
    "duration": 217,
    "start_time": "2023-05-02T15:34:48.553Z"
   },
   {
    "duration": 231,
    "start_time": "2023-05-02T15:34:48.773Z"
   },
   {
    "duration": 6,
    "start_time": "2023-05-02T15:34:49.007Z"
   },
   {
    "duration": 886,
    "start_time": "2023-05-02T15:34:49.020Z"
   },
   {
    "duration": 42,
    "start_time": "2023-05-02T15:34:49.923Z"
   },
   {
    "duration": 784,
    "start_time": "2023-05-02T15:34:49.967Z"
   },
   {
    "duration": 8,
    "start_time": "2023-05-02T15:34:50.753Z"
   },
   {
    "duration": 780,
    "start_time": "2023-05-02T15:34:50.763Z"
   },
   {
    "duration": 4,
    "start_time": "2023-05-02T15:34:51.545Z"
   },
   {
    "duration": 40,
    "start_time": "2023-05-02T15:34:51.551Z"
   },
   {
    "duration": 56,
    "start_time": "2023-05-02T15:34:51.593Z"
   },
   {
    "duration": 20,
    "start_time": "2023-05-02T15:34:51.652Z"
   },
   {
    "duration": 161,
    "start_time": "2023-05-02T15:34:51.674Z"
   },
   {
    "duration": 17,
    "start_time": "2023-05-02T15:34:51.837Z"
   },
   {
    "duration": 30,
    "start_time": "2023-05-02T15:34:51.856Z"
   },
   {
    "duration": 21,
    "start_time": "2023-05-02T15:34:51.888Z"
   },
   {
    "duration": 139,
    "start_time": "2023-05-02T15:34:51.913Z"
   },
   {
    "duration": 23,
    "start_time": "2023-05-02T15:34:52.054Z"
   },
   {
    "duration": 109,
    "start_time": "2023-05-02T15:34:52.081Z"
   },
   {
    "duration": 48,
    "start_time": "2023-05-02T15:34:52.193Z"
   },
   {
    "duration": 19,
    "start_time": "2023-05-02T15:34:52.244Z"
   },
   {
    "duration": 18,
    "start_time": "2023-05-02T15:34:52.266Z"
   },
   {
    "duration": 62,
    "start_time": "2023-05-02T15:34:52.286Z"
   },
   {
    "duration": 19,
    "start_time": "2023-05-02T15:34:52.349Z"
   },
   {
    "duration": 76,
    "start_time": "2023-05-02T15:34:52.370Z"
   },
   {
    "duration": 4,
    "start_time": "2023-05-02T15:34:52.448Z"
   },
   {
    "duration": 17,
    "start_time": "2023-05-02T15:34:52.454Z"
   },
   {
    "duration": 1779,
    "start_time": "2023-05-02T15:34:52.473Z"
   },
   {
    "duration": 6,
    "start_time": "2023-05-02T15:34:54.254Z"
   },
   {
    "duration": 10,
    "start_time": "2023-05-02T15:36:15.986Z"
   },
   {
    "duration": 1781,
    "start_time": "2023-05-02T15:36:16.376Z"
   },
   {
    "duration": 5,
    "start_time": "2023-05-02T15:36:57.961Z"
   },
   {
    "duration": 1740,
    "start_time": "2023-05-02T15:36:58.338Z"
   },
   {
    "duration": 9,
    "start_time": "2023-05-02T15:37:07.879Z"
   },
   {
    "duration": 1797,
    "start_time": "2023-05-02T15:37:09.744Z"
   },
   {
    "duration": 7,
    "start_time": "2023-05-02T15:37:46.977Z"
   },
   {
    "duration": 1524,
    "start_time": "2023-05-02T15:37:47.412Z"
   },
   {
    "duration": 5,
    "start_time": "2023-05-02T15:38:01.240Z"
   },
   {
    "duration": 1613,
    "start_time": "2023-05-02T15:38:01.721Z"
   },
   {
    "duration": 11,
    "start_time": "2023-05-02T15:38:11.082Z"
   },
   {
    "duration": 1607,
    "start_time": "2023-05-02T15:38:11.756Z"
   },
   {
    "duration": 5,
    "start_time": "2023-05-02T15:38:38.072Z"
   },
   {
    "duration": 1743,
    "start_time": "2023-05-02T15:38:38.412Z"
   },
   {
    "duration": 5,
    "start_time": "2023-05-02T15:38:59.235Z"
   },
   {
    "duration": 1823,
    "start_time": "2023-05-02T15:39:00.622Z"
   },
   {
    "duration": 6,
    "start_time": "2023-05-02T15:39:23.358Z"
   },
   {
    "duration": 1507,
    "start_time": "2023-05-02T15:39:23.928Z"
   },
   {
    "duration": 6,
    "start_time": "2023-05-02T15:39:51.446Z"
   },
   {
    "duration": 1508,
    "start_time": "2023-05-02T15:39:51.950Z"
   },
   {
    "duration": 8,
    "start_time": "2023-05-02T15:40:39.734Z"
   },
   {
    "duration": 1913,
    "start_time": "2023-05-02T15:40:40.329Z"
   },
   {
    "duration": 6,
    "start_time": "2023-05-02T15:41:08.254Z"
   },
   {
    "duration": 1673,
    "start_time": "2023-05-02T15:41:08.613Z"
   },
   {
    "duration": 5,
    "start_time": "2023-05-02T15:41:24.215Z"
   },
   {
    "duration": 221,
    "start_time": "2023-05-02T15:41:24.223Z"
   },
   {
    "duration": 200,
    "start_time": "2023-05-02T15:41:24.446Z"
   },
   {
    "duration": 235,
    "start_time": "2023-05-02T15:41:24.649Z"
   },
   {
    "duration": 11,
    "start_time": "2023-05-02T15:41:24.890Z"
   },
   {
    "duration": 834,
    "start_time": "2023-05-02T15:41:24.905Z"
   },
   {
    "duration": 49,
    "start_time": "2023-05-02T15:41:25.741Z"
   },
   {
    "duration": 745,
    "start_time": "2023-05-02T15:41:25.796Z"
   },
   {
    "duration": 9,
    "start_time": "2023-05-02T15:41:26.543Z"
   },
   {
    "duration": 989,
    "start_time": "2023-05-02T15:41:26.556Z"
   },
   {
    "duration": 3,
    "start_time": "2023-05-02T15:41:27.547Z"
   },
   {
    "duration": 17,
    "start_time": "2023-05-02T15:41:27.552Z"
   },
   {
    "duration": 38,
    "start_time": "2023-05-02T15:41:27.571Z"
   },
   {
    "duration": 76,
    "start_time": "2023-05-02T15:41:27.612Z"
   },
   {
    "duration": 90,
    "start_time": "2023-05-02T15:41:27.699Z"
   },
   {
    "duration": 38,
    "start_time": "2023-05-02T15:41:27.795Z"
   },
   {
    "duration": 13,
    "start_time": "2023-05-02T15:41:27.835Z"
   },
   {
    "duration": 170,
    "start_time": "2023-05-02T15:41:27.851Z"
   },
   {
    "duration": 23,
    "start_time": "2023-05-02T15:41:28.024Z"
   },
   {
    "duration": 39,
    "start_time": "2023-05-02T15:41:28.049Z"
   },
   {
    "duration": 100,
    "start_time": "2023-05-02T15:41:28.091Z"
   },
   {
    "duration": 36,
    "start_time": "2023-05-02T15:41:28.197Z"
   },
   {
    "duration": 6,
    "start_time": "2023-05-02T15:41:28.235Z"
   },
   {
    "duration": 17,
    "start_time": "2023-05-02T15:41:28.243Z"
   },
   {
    "duration": 10,
    "start_time": "2023-05-02T15:41:28.262Z"
   },
   {
    "duration": 15,
    "start_time": "2023-05-02T15:41:28.273Z"
   },
   {
    "duration": 52,
    "start_time": "2023-05-02T15:41:28.289Z"
   },
   {
    "duration": 3,
    "start_time": "2023-05-02T15:41:28.344Z"
   },
   {
    "duration": 9,
    "start_time": "2023-05-02T15:41:28.349Z"
   },
   {
    "duration": 1595,
    "start_time": "2023-05-02T15:41:28.360Z"
   },
   {
    "duration": 5,
    "start_time": "2023-05-02T15:41:29.957Z"
   },
   {
    "duration": 15,
    "start_time": "2023-05-02T15:42:36.077Z"
   },
   {
    "duration": 1654,
    "start_time": "2023-05-02T15:42:36.565Z"
   },
   {
    "duration": 11,
    "start_time": "2023-05-02T15:42:53.386Z"
   },
   {
    "duration": 240,
    "start_time": "2023-05-02T15:42:53.410Z"
   },
   {
    "duration": 197,
    "start_time": "2023-05-02T15:42:53.652Z"
   },
   {
    "duration": 207,
    "start_time": "2023-05-02T15:42:53.851Z"
   },
   {
    "duration": 6,
    "start_time": "2023-05-02T15:42:54.061Z"
   },
   {
    "duration": 782,
    "start_time": "2023-05-02T15:42:54.083Z"
   },
   {
    "duration": 50,
    "start_time": "2023-05-02T15:42:54.867Z"
   },
   {
    "duration": 729,
    "start_time": "2023-05-02T15:42:54.927Z"
   },
   {
    "duration": 9,
    "start_time": "2023-05-02T15:42:55.658Z"
   },
   {
    "duration": 763,
    "start_time": "2023-05-02T15:42:55.668Z"
   },
   {
    "duration": 6,
    "start_time": "2023-05-02T15:42:56.433Z"
   },
   {
    "duration": 5,
    "start_time": "2023-05-02T15:42:56.441Z"
   },
   {
    "duration": 16,
    "start_time": "2023-05-02T15:42:56.449Z"
   },
   {
    "duration": 121,
    "start_time": "2023-05-02T15:42:56.467Z"
   },
   {
    "duration": 84,
    "start_time": "2023-05-02T15:42:56.606Z"
   },
   {
    "duration": 15,
    "start_time": "2023-05-02T15:42:56.699Z"
   },
   {
    "duration": 22,
    "start_time": "2023-05-02T15:42:56.716Z"
   },
   {
    "duration": 51,
    "start_time": "2023-05-02T15:42:56.740Z"
   },
   {
    "duration": 101,
    "start_time": "2023-05-02T15:42:56.794Z"
   },
   {
    "duration": 38,
    "start_time": "2023-05-02T15:42:56.901Z"
   },
   {
    "duration": 50,
    "start_time": "2023-05-02T15:42:56.946Z"
   },
   {
    "duration": 116,
    "start_time": "2023-05-02T15:42:57.002Z"
   },
   {
    "duration": 6,
    "start_time": "2023-05-02T15:42:57.121Z"
   },
   {
    "duration": 6,
    "start_time": "2023-05-02T15:42:57.128Z"
   },
   {
    "duration": 9,
    "start_time": "2023-05-02T15:42:57.136Z"
   },
   {
    "duration": 3,
    "start_time": "2023-05-02T15:42:57.147Z"
   },
   {
    "duration": 24,
    "start_time": "2023-05-02T15:42:57.152Z"
   },
   {
    "duration": 3,
    "start_time": "2023-05-02T15:42:57.178Z"
   },
   {
    "duration": 39,
    "start_time": "2023-05-02T15:42:57.187Z"
   },
   {
    "duration": 1567,
    "start_time": "2023-05-02T15:42:57.228Z"
   },
   {
    "duration": 8,
    "start_time": "2023-05-02T15:42:58.802Z"
   },
   {
    "duration": 5,
    "start_time": "2023-05-02T15:43:26.087Z"
   },
   {
    "duration": 223,
    "start_time": "2023-05-02T15:43:26.113Z"
   },
   {
    "duration": 366,
    "start_time": "2023-05-02T15:43:26.338Z"
   },
   {
    "duration": 244,
    "start_time": "2023-05-02T15:43:26.706Z"
   },
   {
    "duration": 3,
    "start_time": "2023-05-02T15:43:26.952Z"
   },
   {
    "duration": 764,
    "start_time": "2023-05-02T15:43:26.988Z"
   },
   {
    "duration": 52,
    "start_time": "2023-05-02T15:43:27.754Z"
   },
   {
    "duration": 758,
    "start_time": "2023-05-02T15:43:27.810Z"
   },
   {
    "duration": 28,
    "start_time": "2023-05-02T15:43:28.570Z"
   },
   {
    "duration": 664,
    "start_time": "2023-05-02T15:43:28.606Z"
   },
   {
    "duration": 4,
    "start_time": "2023-05-02T15:43:29.272Z"
   },
   {
    "duration": 12,
    "start_time": "2023-05-02T15:43:29.277Z"
   },
   {
    "duration": 57,
    "start_time": "2023-05-02T15:43:29.291Z"
   },
   {
    "duration": 11,
    "start_time": "2023-05-02T15:43:29.350Z"
   },
   {
    "duration": 132,
    "start_time": "2023-05-02T15:43:29.364Z"
   },
   {
    "duration": 48,
    "start_time": "2023-05-02T15:43:29.506Z"
   },
   {
    "duration": 15,
    "start_time": "2023-05-02T15:43:29.556Z"
   },
   {
    "duration": 21,
    "start_time": "2023-05-02T15:43:29.574Z"
   },
   {
    "duration": 144,
    "start_time": "2023-05-02T15:43:29.596Z"
   },
   {
    "duration": 13,
    "start_time": "2023-05-02T15:43:29.742Z"
   },
   {
    "duration": 120,
    "start_time": "2023-05-02T15:43:29.801Z"
   },
   {
    "duration": 8,
    "start_time": "2023-05-02T15:43:29.923Z"
   },
   {
    "duration": 9,
    "start_time": "2023-05-02T15:43:29.935Z"
   },
   {
    "duration": 6,
    "start_time": "2023-05-02T15:43:29.945Z"
   },
   {
    "duration": 7,
    "start_time": "2023-05-02T15:43:29.954Z"
   },
   {
    "duration": 3,
    "start_time": "2023-05-02T15:43:29.963Z"
   },
   {
    "duration": 22,
    "start_time": "2023-05-02T15:43:29.967Z"
   },
   {
    "duration": 3,
    "start_time": "2023-05-02T15:43:29.990Z"
   },
   {
    "duration": 5,
    "start_time": "2023-05-02T15:43:29.995Z"
   },
   {
    "duration": 1565,
    "start_time": "2023-05-02T15:43:30.002Z"
   },
   {
    "duration": 4,
    "start_time": "2023-05-02T15:43:31.569Z"
   },
   {
    "duration": 5,
    "start_time": "2023-05-02T15:54:21.673Z"
   },
   {
    "duration": 1591,
    "start_time": "2023-05-02T15:54:22.825Z"
   },
   {
    "duration": 5,
    "start_time": "2023-05-02T15:54:32.114Z"
   },
   {
    "duration": 266,
    "start_time": "2023-05-02T15:54:32.122Z"
   },
   {
    "duration": 210,
    "start_time": "2023-05-02T15:54:32.390Z"
   },
   {
    "duration": 263,
    "start_time": "2023-05-02T15:54:32.603Z"
   },
   {
    "duration": 4,
    "start_time": "2023-05-02T15:54:32.868Z"
   },
   {
    "duration": 784,
    "start_time": "2023-05-02T15:54:32.874Z"
   },
   {
    "duration": 54,
    "start_time": "2023-05-02T15:54:33.660Z"
   },
   {
    "duration": 700,
    "start_time": "2023-05-02T15:54:33.717Z"
   },
   {
    "duration": 10,
    "start_time": "2023-05-02T15:54:34.419Z"
   },
   {
    "duration": 807,
    "start_time": "2023-05-02T15:54:34.433Z"
   },
   {
    "duration": 4,
    "start_time": "2023-05-02T15:54:35.242Z"
   },
   {
    "duration": 9,
    "start_time": "2023-05-02T15:54:35.247Z"
   },
   {
    "duration": 28,
    "start_time": "2023-05-02T15:54:35.258Z"
   },
   {
    "duration": 44,
    "start_time": "2023-05-02T15:54:35.288Z"
   },
   {
    "duration": 133,
    "start_time": "2023-05-02T15:54:35.390Z"
   },
   {
    "duration": 15,
    "start_time": "2023-05-02T15:54:35.525Z"
   },
   {
    "duration": 13,
    "start_time": "2023-05-02T15:54:35.541Z"
   },
   {
    "duration": 141,
    "start_time": "2023-05-02T15:54:35.557Z"
   },
   {
    "duration": 29,
    "start_time": "2023-05-02T15:54:35.702Z"
   },
   {
    "duration": 15,
    "start_time": "2023-05-02T15:54:35.734Z"
   },
   {
    "duration": 169,
    "start_time": "2023-05-02T15:54:35.752Z"
   },
   {
    "duration": 31,
    "start_time": "2023-05-02T15:54:35.924Z"
   },
   {
    "duration": 52,
    "start_time": "2023-05-02T15:54:35.957Z"
   },
   {
    "duration": 37,
    "start_time": "2023-05-02T15:54:36.013Z"
   },
   {
    "duration": 25,
    "start_time": "2023-05-02T15:54:36.052Z"
   },
   {
    "duration": 77,
    "start_time": "2023-05-02T15:54:36.079Z"
   },
   {
    "duration": 174,
    "start_time": "2023-05-02T15:54:36.158Z"
   },
   {
    "duration": 3,
    "start_time": "2023-05-02T15:54:36.335Z"
   },
   {
    "duration": 14,
    "start_time": "2023-05-02T15:54:36.340Z"
   },
   {
    "duration": 1574,
    "start_time": "2023-05-02T15:54:36.356Z"
   },
   {
    "duration": 9,
    "start_time": "2023-05-02T15:54:37.932Z"
   },
   {
    "duration": 7,
    "start_time": "2023-05-02T16:07:26.623Z"
   },
   {
    "duration": 1419,
    "start_time": "2023-05-02T16:07:30.417Z"
   },
   {
    "duration": 6,
    "start_time": "2023-05-02T16:08:30.672Z"
   },
   {
    "duration": 1551,
    "start_time": "2023-05-02T16:08:32.464Z"
   },
   {
    "duration": 6,
    "start_time": "2023-05-02T16:09:19.431Z"
   },
   {
    "duration": 221,
    "start_time": "2023-05-02T16:09:19.439Z"
   },
   {
    "duration": 187,
    "start_time": "2023-05-02T16:09:19.661Z"
   },
   {
    "duration": 178,
    "start_time": "2023-05-02T16:09:19.850Z"
   },
   {
    "duration": 4,
    "start_time": "2023-05-02T16:09:20.030Z"
   },
   {
    "duration": 688,
    "start_time": "2023-05-02T16:09:20.036Z"
   },
   {
    "duration": 29,
    "start_time": "2023-05-02T16:09:20.725Z"
   },
   {
    "duration": 654,
    "start_time": "2023-05-02T16:09:20.755Z"
   },
   {
    "duration": 7,
    "start_time": "2023-05-02T16:09:21.411Z"
   },
   {
    "duration": 715,
    "start_time": "2023-05-02T16:09:21.421Z"
   },
   {
    "duration": 3,
    "start_time": "2023-05-02T16:09:22.138Z"
   },
   {
    "duration": 44,
    "start_time": "2023-05-02T16:09:22.143Z"
   },
   {
    "duration": 29,
    "start_time": "2023-05-02T16:09:22.197Z"
   },
   {
    "duration": 21,
    "start_time": "2023-05-02T16:09:22.228Z"
   },
   {
    "duration": 141,
    "start_time": "2023-05-02T16:09:22.257Z"
   },
   {
    "duration": 44,
    "start_time": "2023-05-02T16:09:22.400Z"
   },
   {
    "duration": 32,
    "start_time": "2023-05-02T16:09:22.445Z"
   },
   {
    "duration": 136,
    "start_time": "2023-05-02T16:09:22.480Z"
   },
   {
    "duration": 74,
    "start_time": "2023-05-02T16:09:22.617Z"
   },
   {
    "duration": 14,
    "start_time": "2023-05-02T16:09:22.692Z"
   },
   {
    "duration": 80,
    "start_time": "2023-05-02T16:09:22.709Z"
   },
   {
    "duration": 132,
    "start_time": "2023-05-02T16:09:22.791Z"
   },
   {
    "duration": 26,
    "start_time": "2023-05-02T16:09:22.925Z"
   },
   {
    "duration": 12,
    "start_time": "2023-05-02T16:09:22.953Z"
   },
   {
    "duration": 9,
    "start_time": "2023-05-02T16:09:22.967Z"
   },
   {
    "duration": 21,
    "start_time": "2023-05-02T16:09:22.978Z"
   },
   {
    "duration": 52,
    "start_time": "2023-05-02T16:09:23.000Z"
   },
   {
    "duration": 4,
    "start_time": "2023-05-02T16:09:23.054Z"
   },
   {
    "duration": 31,
    "start_time": "2023-05-02T16:09:23.060Z"
   },
   {
    "duration": 1427,
    "start_time": "2023-05-02T16:09:23.094Z"
   },
   {
    "duration": 1398,
    "start_time": "2023-05-02T16:09:24.522Z"
   },
   {
    "duration": 1474,
    "start_time": "2023-05-02T16:09:25.921Z"
   },
   {
    "duration": 5,
    "start_time": "2023-05-02T16:10:06.241Z"
   },
   {
    "duration": 1398,
    "start_time": "2023-05-02T16:10:07.767Z"
   },
   {
    "duration": 1531,
    "start_time": "2023-05-02T16:10:14.633Z"
   },
   {
    "duration": 5,
    "start_time": "2023-05-02T16:10:40.170Z"
   },
   {
    "duration": 1409,
    "start_time": "2023-05-02T16:10:42.496Z"
   },
   {
    "duration": 6,
    "start_time": "2023-05-02T16:11:35.576Z"
   },
   {
    "duration": 1499,
    "start_time": "2023-05-02T16:11:37.095Z"
   },
   {
    "duration": 4,
    "start_time": "2023-05-02T16:11:46.727Z"
   },
   {
    "duration": 214,
    "start_time": "2023-05-02T16:11:46.733Z"
   },
   {
    "duration": 196,
    "start_time": "2023-05-02T16:11:46.949Z"
   },
   {
    "duration": 189,
    "start_time": "2023-05-02T16:11:47.148Z"
   },
   {
    "duration": 4,
    "start_time": "2023-05-02T16:11:47.338Z"
   },
   {
    "duration": 778,
    "start_time": "2023-05-02T16:11:47.344Z"
   },
   {
    "duration": 31,
    "start_time": "2023-05-02T16:11:48.123Z"
   },
   {
    "duration": 679,
    "start_time": "2023-05-02T16:11:48.156Z"
   },
   {
    "duration": 8,
    "start_time": "2023-05-02T16:11:48.837Z"
   },
   {
    "duration": 815,
    "start_time": "2023-05-02T16:11:48.848Z"
   },
   {
    "duration": 3,
    "start_time": "2023-05-02T16:11:49.665Z"
   },
   {
    "duration": 29,
    "start_time": "2023-05-02T16:11:49.670Z"
   },
   {
    "duration": 22,
    "start_time": "2023-05-02T16:11:49.700Z"
   },
   {
    "duration": 13,
    "start_time": "2023-05-02T16:11:49.724Z"
   },
   {
    "duration": 176,
    "start_time": "2023-05-02T16:11:49.742Z"
   },
   {
    "duration": 30,
    "start_time": "2023-05-02T16:11:49.921Z"
   },
   {
    "duration": 35,
    "start_time": "2023-05-02T16:11:49.953Z"
   },
   {
    "duration": 123,
    "start_time": "2023-05-02T16:11:49.990Z"
   },
   {
    "duration": 18,
    "start_time": "2023-05-02T16:11:50.115Z"
   },
   {
    "duration": 53,
    "start_time": "2023-05-02T16:11:50.135Z"
   },
   {
    "duration": 125,
    "start_time": "2023-05-02T16:11:50.191Z"
   },
   {
    "duration": 43,
    "start_time": "2023-05-02T16:11:50.317Z"
   },
   {
    "duration": 37,
    "start_time": "2023-05-02T16:11:50.362Z"
   },
   {
    "duration": 26,
    "start_time": "2023-05-02T16:11:50.401Z"
   },
   {
    "duration": 41,
    "start_time": "2023-05-02T16:11:50.429Z"
   },
   {
    "duration": 43,
    "start_time": "2023-05-02T16:11:50.472Z"
   },
   {
    "duration": 42,
    "start_time": "2023-05-02T16:11:50.517Z"
   },
   {
    "duration": 18,
    "start_time": "2023-05-02T16:11:50.563Z"
   },
   {
    "duration": 33,
    "start_time": "2023-05-02T16:11:50.588Z"
   },
   {
    "duration": 1696,
    "start_time": "2023-05-02T16:11:50.623Z"
   },
   {
    "duration": 1478,
    "start_time": "2023-05-02T16:11:52.321Z"
   },
   {
    "duration": 1610,
    "start_time": "2023-05-02T16:11:53.801Z"
   },
   {
    "duration": 1787,
    "start_time": "2023-05-02T16:22:17.302Z"
   },
   {
    "duration": 213,
    "start_time": "2023-05-02T16:22:19.096Z"
   },
   {
    "duration": 188,
    "start_time": "2023-05-02T16:22:19.310Z"
   },
   {
    "duration": 177,
    "start_time": "2023-05-02T16:22:19.500Z"
   },
   {
    "duration": 14,
    "start_time": "2023-05-02T16:22:19.684Z"
   },
   {
    "duration": 806,
    "start_time": "2023-05-02T16:22:19.701Z"
   },
   {
    "duration": 32,
    "start_time": "2023-05-02T16:22:20.508Z"
   },
   {
    "duration": 765,
    "start_time": "2023-05-02T16:22:20.541Z"
   },
   {
    "duration": 7,
    "start_time": "2023-05-02T16:22:21.308Z"
   },
   {
    "duration": 861,
    "start_time": "2023-05-02T16:22:21.316Z"
   },
   {
    "duration": 10,
    "start_time": "2023-05-02T16:22:22.179Z"
   },
   {
    "duration": 17,
    "start_time": "2023-05-02T16:22:22.190Z"
   },
   {
    "duration": 19,
    "start_time": "2023-05-02T16:22:22.209Z"
   },
   {
    "duration": 17,
    "start_time": "2023-05-02T16:22:22.232Z"
   },
   {
    "duration": 47,
    "start_time": "2023-05-02T16:22:22.250Z"
   },
   {
    "duration": 121,
    "start_time": "2023-05-02T16:22:22.299Z"
   },
   {
    "duration": 65,
    "start_time": "2023-05-02T16:22:22.422Z"
   },
   {
    "duration": 114,
    "start_time": "2023-05-02T16:22:22.489Z"
   },
   {
    "duration": 25,
    "start_time": "2023-05-02T16:22:22.608Z"
   },
   {
    "duration": 62,
    "start_time": "2023-05-02T16:22:22.635Z"
   },
   {
    "duration": 106,
    "start_time": "2023-05-02T16:22:22.711Z"
   },
   {
    "duration": 9,
    "start_time": "2023-05-02T16:22:22.819Z"
   },
   {
    "duration": 21,
    "start_time": "2023-05-02T16:22:22.829Z"
   },
   {
    "duration": 29,
    "start_time": "2023-05-02T16:22:22.852Z"
   },
   {
    "duration": 56,
    "start_time": "2023-05-02T16:22:22.883Z"
   },
   {
    "duration": 24,
    "start_time": "2023-05-02T16:22:22.941Z"
   },
   {
    "duration": 58,
    "start_time": "2023-05-02T16:22:22.970Z"
   },
   {
    "duration": 39,
    "start_time": "2023-05-02T16:22:23.029Z"
   },
   {
    "duration": 41,
    "start_time": "2023-05-02T16:22:23.070Z"
   },
   {
    "duration": 1597,
    "start_time": "2023-05-02T16:22:23.112Z"
   },
   {
    "duration": 1735,
    "start_time": "2023-05-02T16:22:24.711Z"
   },
   {
    "duration": 1515,
    "start_time": "2023-05-02T16:22:26.449Z"
   },
   {
    "duration": 1465,
    "start_time": "2023-05-02T16:23:50.739Z"
   },
   {
    "duration": 204,
    "start_time": "2023-05-02T16:23:52.205Z"
   },
   {
    "duration": 185,
    "start_time": "2023-05-02T16:23:52.411Z"
   },
   {
    "duration": 197,
    "start_time": "2023-05-02T16:23:52.598Z"
   },
   {
    "duration": 5,
    "start_time": "2023-05-02T16:23:52.800Z"
   },
   {
    "duration": 707,
    "start_time": "2023-05-02T16:23:52.807Z"
   },
   {
    "duration": 37,
    "start_time": "2023-05-02T16:23:53.515Z"
   },
   {
    "duration": 757,
    "start_time": "2023-05-02T16:23:53.555Z"
   },
   {
    "duration": 8,
    "start_time": "2023-05-02T16:23:54.314Z"
   },
   {
    "duration": 996,
    "start_time": "2023-05-02T16:23:54.324Z"
   },
   {
    "duration": 3,
    "start_time": "2023-05-02T16:23:55.322Z"
   },
   {
    "duration": 28,
    "start_time": "2023-05-02T16:23:55.327Z"
   },
   {
    "duration": 67,
    "start_time": "2023-05-02T16:23:55.356Z"
   },
   {
    "duration": 23,
    "start_time": "2023-05-02T16:23:55.425Z"
   },
   {
    "duration": 131,
    "start_time": "2023-05-02T16:23:55.488Z"
   },
   {
    "duration": 33,
    "start_time": "2023-05-02T16:23:55.621Z"
   },
   {
    "duration": 17,
    "start_time": "2023-05-02T16:23:55.656Z"
   },
   {
    "duration": 138,
    "start_time": "2023-05-02T16:23:55.675Z"
   },
   {
    "duration": 31,
    "start_time": "2023-05-02T16:23:55.815Z"
   },
   {
    "duration": 61,
    "start_time": "2023-05-02T16:23:55.848Z"
   },
   {
    "duration": 205,
    "start_time": "2023-05-02T16:23:55.915Z"
   },
   {
    "duration": 27,
    "start_time": "2023-05-02T16:23:56.122Z"
   },
   {
    "duration": 51,
    "start_time": "2023-05-02T16:23:56.151Z"
   },
   {
    "duration": 21,
    "start_time": "2023-05-02T16:23:56.204Z"
   },
   {
    "duration": 24,
    "start_time": "2023-05-02T16:23:56.227Z"
   },
   {
    "duration": 28,
    "start_time": "2023-05-02T16:23:56.253Z"
   },
   {
    "duration": 51,
    "start_time": "2023-05-02T16:23:56.282Z"
   },
   {
    "duration": 3,
    "start_time": "2023-05-02T16:23:56.336Z"
   },
   {
    "duration": 21,
    "start_time": "2023-05-02T16:23:56.342Z"
   },
   {
    "duration": 1533,
    "start_time": "2023-05-02T16:23:56.365Z"
   },
   {
    "duration": 1409,
    "start_time": "2023-05-02T16:23:57.901Z"
   },
   {
    "duration": 1544,
    "start_time": "2023-05-02T16:23:59.312Z"
   },
   {
    "duration": 1643,
    "start_time": "2023-05-02T16:25:44.899Z"
   },
   {
    "duration": 243,
    "start_time": "2023-05-02T16:25:46.544Z"
   },
   {
    "duration": 189,
    "start_time": "2023-05-02T16:25:46.788Z"
   },
   {
    "duration": 188,
    "start_time": "2023-05-02T16:25:46.989Z"
   },
   {
    "duration": 4,
    "start_time": "2023-05-02T16:25:47.179Z"
   },
   {
    "duration": 789,
    "start_time": "2023-05-02T16:25:47.185Z"
   },
   {
    "duration": 44,
    "start_time": "2023-05-02T16:25:47.976Z"
   },
   {
    "duration": 734,
    "start_time": "2023-05-02T16:25:48.021Z"
   },
   {
    "duration": 8,
    "start_time": "2023-05-02T16:25:48.756Z"
   },
   {
    "duration": 877,
    "start_time": "2023-05-02T16:25:48.765Z"
   },
   {
    "duration": 4,
    "start_time": "2023-05-02T16:25:49.644Z"
   },
   {
    "duration": 12,
    "start_time": "2023-05-02T16:25:49.649Z"
   },
   {
    "duration": 21,
    "start_time": "2023-05-02T16:25:49.663Z"
   },
   {
    "duration": 16,
    "start_time": "2023-05-02T16:25:49.698Z"
   },
   {
    "duration": 74,
    "start_time": "2023-05-02T16:25:49.717Z"
   },
   {
    "duration": 120,
    "start_time": "2023-05-02T16:25:49.800Z"
   },
   {
    "duration": 31,
    "start_time": "2023-05-02T16:25:49.922Z"
   },
   {
    "duration": 151,
    "start_time": "2023-05-02T16:25:49.956Z"
   },
   {
    "duration": 38,
    "start_time": "2023-05-02T16:25:50.109Z"
   },
   {
    "duration": 29,
    "start_time": "2023-05-02T16:25:50.148Z"
   },
   {
    "duration": 109,
    "start_time": "2023-05-02T16:25:50.180Z"
   },
   {
    "duration": 41,
    "start_time": "2023-05-02T16:25:50.292Z"
   },
   {
    "duration": 13,
    "start_time": "2023-05-02T16:25:50.335Z"
   },
   {
    "duration": 12,
    "start_time": "2023-05-02T16:25:50.350Z"
   },
   {
    "duration": 27,
    "start_time": "2023-05-02T16:25:50.365Z"
   },
   {
    "duration": 22,
    "start_time": "2023-05-02T16:25:50.395Z"
   },
   {
    "duration": 31,
    "start_time": "2023-05-02T16:25:50.418Z"
   },
   {
    "duration": 8,
    "start_time": "2023-05-02T16:25:50.451Z"
   },
   {
    "duration": 19,
    "start_time": "2023-05-02T16:25:50.461Z"
   },
   {
    "duration": 1492,
    "start_time": "2023-05-02T16:25:50.482Z"
   },
   {
    "duration": 1451,
    "start_time": "2023-05-02T16:25:51.976Z"
   },
   {
    "duration": 1485,
    "start_time": "2023-05-02T16:25:53.429Z"
   },
   {
    "duration": 2227,
    "start_time": "2023-05-02T19:17:40.591Z"
   },
   {
    "duration": 692,
    "start_time": "2023-05-02T19:17:42.820Z"
   },
   {
    "duration": 294,
    "start_time": "2023-05-02T19:17:43.513Z"
   },
   {
    "duration": 384,
    "start_time": "2023-05-02T19:17:43.810Z"
   },
   {
    "duration": 5,
    "start_time": "2023-05-02T19:17:44.196Z"
   },
   {
    "duration": 711,
    "start_time": "2023-05-02T19:17:44.202Z"
   },
   {
    "duration": 47,
    "start_time": "2023-05-02T19:17:44.915Z"
   },
   {
    "duration": 694,
    "start_time": "2023-05-02T19:17:44.965Z"
   },
   {
    "duration": 13,
    "start_time": "2023-05-02T19:17:45.663Z"
   },
   {
    "duration": 810,
    "start_time": "2023-05-02T19:17:45.680Z"
   },
   {
    "duration": 4,
    "start_time": "2023-05-02T19:17:46.491Z"
   },
   {
    "duration": 42,
    "start_time": "2023-05-02T19:17:46.496Z"
   },
   {
    "duration": 35,
    "start_time": "2023-05-02T19:17:46.540Z"
   },
   {
    "duration": 29,
    "start_time": "2023-05-02T19:17:46.577Z"
   },
   {
    "duration": 53,
    "start_time": "2023-05-02T19:17:46.608Z"
   },
   {
    "duration": 96,
    "start_time": "2023-05-02T19:17:46.664Z"
   },
   {
    "duration": 18,
    "start_time": "2023-05-02T19:17:46.766Z"
   },
   {
    "duration": 70,
    "start_time": "2023-05-02T19:17:46.786Z"
   },
   {
    "duration": 98,
    "start_time": "2023-05-02T19:17:46.860Z"
   },
   {
    "duration": 96,
    "start_time": "2023-05-02T19:17:46.960Z"
   },
   {
    "duration": 9,
    "start_time": "2023-05-02T19:17:47.057Z"
   },
   {
    "duration": 15,
    "start_time": "2023-05-02T19:17:47.067Z"
   },
   {
    "duration": 5,
    "start_time": "2023-05-02T19:17:47.162Z"
   },
   {
    "duration": 17,
    "start_time": "2023-05-02T19:17:47.170Z"
   },
   {
    "duration": 8,
    "start_time": "2023-05-02T19:17:47.189Z"
   },
   {
    "duration": 3,
    "start_time": "2023-05-02T19:17:47.199Z"
   },
   {
    "duration": 20,
    "start_time": "2023-05-02T19:17:47.204Z"
   },
   {
    "duration": 3,
    "start_time": "2023-05-02T19:17:47.227Z"
   },
   {
    "duration": 30,
    "start_time": "2023-05-02T19:17:47.231Z"
   },
   {
    "duration": 1465,
    "start_time": "2023-05-02T19:17:47.263Z"
   },
   {
    "duration": 1421,
    "start_time": "2023-05-02T19:17:48.730Z"
   },
   {
    "duration": 1362,
    "start_time": "2023-05-02T19:17:50.153Z"
   },
   {
    "duration": 12,
    "start_time": "2023-05-03T01:49:28.218Z"
   },
   {
    "duration": 1653,
    "start_time": "2023-05-03T01:52:13.217Z"
   },
   {
    "duration": 414,
    "start_time": "2023-05-03T01:52:14.872Z"
   },
   {
    "duration": 651,
    "start_time": "2023-05-03T01:52:15.288Z"
   },
   {
    "duration": 645,
    "start_time": "2023-05-03T01:52:15.942Z"
   },
   {
    "duration": 4,
    "start_time": "2023-05-03T01:52:16.588Z"
   },
   {
    "duration": 750,
    "start_time": "2023-05-03T01:52:16.594Z"
   },
   {
    "duration": 35,
    "start_time": "2023-05-03T01:52:17.346Z"
   },
   {
    "duration": 653,
    "start_time": "2023-05-03T01:52:17.383Z"
   },
   {
    "duration": 7,
    "start_time": "2023-05-03T01:52:18.038Z"
   },
   {
    "duration": 754,
    "start_time": "2023-05-03T01:52:18.047Z"
   },
   {
    "duration": 3,
    "start_time": "2023-05-03T01:52:18.803Z"
   },
   {
    "duration": 24,
    "start_time": "2023-05-03T01:52:18.808Z"
   },
   {
    "duration": 15,
    "start_time": "2023-05-03T01:52:18.833Z"
   },
   {
    "duration": 187,
    "start_time": "2023-05-03T01:52:18.849Z"
   },
   {
    "duration": 9,
    "start_time": "2023-05-03T01:52:19.040Z"
   },
   {
    "duration": 27,
    "start_time": "2023-05-03T01:52:19.135Z"
   },
   {
    "duration": 75,
    "start_time": "2023-05-03T01:52:19.163Z"
   },
   {
    "duration": 9,
    "start_time": "2023-05-03T01:52:19.240Z"
   },
   {
    "duration": 24,
    "start_time": "2023-05-03T01:52:19.335Z"
   },
   {
    "duration": 81,
    "start_time": "2023-05-03T01:52:19.361Z"
   },
   {
    "duration": 109,
    "start_time": "2023-05-03T01:52:19.445Z"
   },
   {
    "duration": 179,
    "start_time": "2023-05-03T01:52:19.556Z"
   },
   {
    "duration": 0,
    "start_time": "2023-05-03T01:52:19.737Z"
   },
   {
    "duration": 0,
    "start_time": "2023-05-03T01:52:19.738Z"
   },
   {
    "duration": 0,
    "start_time": "2023-05-03T01:52:19.739Z"
   },
   {
    "duration": 0,
    "start_time": "2023-05-03T01:52:19.740Z"
   },
   {
    "duration": 0,
    "start_time": "2023-05-03T01:52:19.741Z"
   },
   {
    "duration": 0,
    "start_time": "2023-05-03T01:52:19.742Z"
   },
   {
    "duration": 0,
    "start_time": "2023-05-03T01:52:19.743Z"
   },
   {
    "duration": 0,
    "start_time": "2023-05-03T01:52:19.744Z"
   },
   {
    "duration": 0,
    "start_time": "2023-05-03T01:52:19.746Z"
   },
   {
    "duration": 6,
    "start_time": "2023-05-03T01:52:59.423Z"
   },
   {
    "duration": 174,
    "start_time": "2023-05-03T01:52:59.431Z"
   },
   {
    "duration": 178,
    "start_time": "2023-05-03T01:52:59.606Z"
   },
   {
    "duration": 151,
    "start_time": "2023-05-03T01:52:59.786Z"
   },
   {
    "duration": 4,
    "start_time": "2023-05-03T01:52:59.939Z"
   },
   {
    "duration": 646,
    "start_time": "2023-05-03T01:52:59.944Z"
   },
   {
    "duration": 44,
    "start_time": "2023-05-03T01:53:00.592Z"
   },
   {
    "duration": 743,
    "start_time": "2023-05-03T01:53:00.638Z"
   },
   {
    "duration": 7,
    "start_time": "2023-05-03T01:53:01.383Z"
   },
   {
    "duration": 703,
    "start_time": "2023-05-03T01:53:01.391Z"
   },
   {
    "duration": 3,
    "start_time": "2023-05-03T01:53:02.095Z"
   },
   {
    "duration": 57,
    "start_time": "2023-05-03T01:53:02.100Z"
   },
   {
    "duration": 37,
    "start_time": "2023-05-03T01:53:02.158Z"
   },
   {
    "duration": 64,
    "start_time": "2023-05-03T01:53:02.197Z"
   },
   {
    "duration": 120,
    "start_time": "2023-05-03T01:53:02.339Z"
   },
   {
    "duration": 28,
    "start_time": "2023-05-03T01:53:02.460Z"
   },
   {
    "duration": 46,
    "start_time": "2023-05-03T01:53:02.489Z"
   },
   {
    "duration": 10,
    "start_time": "2023-05-03T01:53:02.537Z"
   },
   {
    "duration": 109,
    "start_time": "2023-05-03T01:53:02.549Z"
   },
   {
    "duration": 77,
    "start_time": "2023-05-03T01:53:02.660Z"
   },
   {
    "duration": 97,
    "start_time": "2023-05-03T01:53:02.741Z"
   },
   {
    "duration": 9,
    "start_time": "2023-05-03T01:53:02.840Z"
   },
   {
    "duration": 14,
    "start_time": "2023-05-03T01:53:02.850Z"
   },
   {
    "duration": 12,
    "start_time": "2023-05-03T01:53:02.868Z"
   },
   {
    "duration": 9,
    "start_time": "2023-05-03T01:53:02.882Z"
   },
   {
    "duration": 19,
    "start_time": "2023-05-03T01:53:02.934Z"
   },
   {
    "duration": 0,
    "start_time": "2023-05-03T01:53:02.955Z"
   },
   {
    "duration": 0,
    "start_time": "2023-05-03T01:53:02.957Z"
   },
   {
    "duration": 0,
    "start_time": "2023-05-03T01:53:02.958Z"
   },
   {
    "duration": 0,
    "start_time": "2023-05-03T01:53:02.959Z"
   },
   {
    "duration": 0,
    "start_time": "2023-05-03T01:53:02.960Z"
   },
   {
    "duration": 5,
    "start_time": "2023-05-03T01:54:07.582Z"
   },
   {
    "duration": 186,
    "start_time": "2023-05-03T01:54:07.588Z"
   },
   {
    "duration": 162,
    "start_time": "2023-05-03T01:54:07.776Z"
   },
   {
    "duration": 162,
    "start_time": "2023-05-03T01:54:07.940Z"
   },
   {
    "duration": 4,
    "start_time": "2023-05-03T01:54:08.104Z"
   },
   {
    "duration": 654,
    "start_time": "2023-05-03T01:54:08.110Z"
   },
   {
    "duration": 28,
    "start_time": "2023-05-03T01:54:08.766Z"
   },
   {
    "duration": 590,
    "start_time": "2023-05-03T01:54:08.795Z"
   },
   {
    "duration": 7,
    "start_time": "2023-05-03T01:54:09.387Z"
   },
   {
    "duration": 759,
    "start_time": "2023-05-03T01:54:09.397Z"
   },
   {
    "duration": 3,
    "start_time": "2023-05-03T01:54:10.158Z"
   },
   {
    "duration": 9,
    "start_time": "2023-05-03T01:54:10.163Z"
   },
   {
    "duration": 20,
    "start_time": "2023-05-03T01:54:10.173Z"
   },
   {
    "duration": 45,
    "start_time": "2023-05-03T01:54:10.195Z"
   },
   {
    "duration": 109,
    "start_time": "2023-05-03T01:54:10.242Z"
   },
   {
    "duration": 18,
    "start_time": "2023-05-03T01:54:10.353Z"
   },
   {
    "duration": 71,
    "start_time": "2023-05-03T01:54:10.373Z"
   },
   {
    "duration": 93,
    "start_time": "2023-05-03T01:54:10.446Z"
   },
   {
    "duration": 19,
    "start_time": "2023-05-03T01:54:10.540Z"
   },
   {
    "duration": 95,
    "start_time": "2023-05-03T01:54:10.561Z"
   },
   {
    "duration": 103,
    "start_time": "2023-05-03T01:54:10.734Z"
   },
   {
    "duration": 11,
    "start_time": "2023-05-03T01:54:10.839Z"
   },
   {
    "duration": 28,
    "start_time": "2023-05-03T01:54:10.852Z"
   },
   {
    "duration": 19,
    "start_time": "2023-05-03T01:54:10.882Z"
   },
   {
    "duration": 3,
    "start_time": "2023-05-03T01:54:10.903Z"
   },
   {
    "duration": 18,
    "start_time": "2023-05-03T01:54:10.907Z"
   },
   {
    "duration": 5,
    "start_time": "2023-05-03T01:54:10.927Z"
   },
   {
    "duration": 6,
    "start_time": "2023-05-03T01:54:10.935Z"
   },
   {
    "duration": 1338,
    "start_time": "2023-05-03T01:54:10.942Z"
   },
   {
    "duration": 0,
    "start_time": "2023-05-03T01:54:12.282Z"
   },
   {
    "duration": 0,
    "start_time": "2023-05-03T01:54:12.283Z"
   },
   {
    "duration": 4,
    "start_time": "2023-05-03T01:54:42.241Z"
   },
   {
    "duration": 182,
    "start_time": "2023-05-03T01:54:42.248Z"
   },
   {
    "duration": 174,
    "start_time": "2023-05-03T01:54:42.434Z"
   },
   {
    "duration": 152,
    "start_time": "2023-05-03T01:54:42.609Z"
   },
   {
    "duration": 3,
    "start_time": "2023-05-03T01:54:42.762Z"
   },
   {
    "duration": 642,
    "start_time": "2023-05-03T01:54:42.767Z"
   },
   {
    "duration": 38,
    "start_time": "2023-05-03T01:54:43.412Z"
   },
   {
    "duration": 603,
    "start_time": "2023-05-03T01:54:43.452Z"
   },
   {
    "duration": 6,
    "start_time": "2023-05-03T01:54:44.057Z"
   },
   {
    "duration": 683,
    "start_time": "2023-05-03T01:54:44.066Z"
   },
   {
    "duration": 4,
    "start_time": "2023-05-03T01:54:44.750Z"
   },
   {
    "duration": 6,
    "start_time": "2023-05-03T01:54:44.755Z"
   },
   {
    "duration": 18,
    "start_time": "2023-05-03T01:54:44.762Z"
   },
   {
    "duration": 153,
    "start_time": "2023-05-03T01:54:44.782Z"
   },
   {
    "duration": 7,
    "start_time": "2023-05-03T01:54:44.937Z"
   },
   {
    "duration": 21,
    "start_time": "2023-05-03T01:54:44.946Z"
   },
   {
    "duration": 14,
    "start_time": "2023-05-03T01:54:44.968Z"
   },
   {
    "duration": 69,
    "start_time": "2023-05-03T01:54:44.984Z"
   },
   {
    "duration": 19,
    "start_time": "2023-05-03T01:54:45.135Z"
   },
   {
    "duration": 11,
    "start_time": "2023-05-03T01:54:45.156Z"
   },
   {
    "duration": 7,
    "start_time": "2023-05-03T01:54:45.170Z"
   },
   {
    "duration": 70,
    "start_time": "2023-05-03T01:54:45.178Z"
   },
   {
    "duration": 87,
    "start_time": "2023-05-03T01:54:45.250Z"
   },
   {
    "duration": 14,
    "start_time": "2023-05-03T01:54:45.340Z"
   },
   {
    "duration": 18,
    "start_time": "2023-05-03T01:54:45.356Z"
   },
   {
    "duration": 31,
    "start_time": "2023-05-03T01:54:45.376Z"
   },
   {
    "duration": 3,
    "start_time": "2023-05-03T01:54:45.409Z"
   },
   {
    "duration": 11,
    "start_time": "2023-05-03T01:54:45.415Z"
   },
   {
    "duration": 1382,
    "start_time": "2023-05-03T01:54:45.428Z"
   },
   {
    "duration": 1358,
    "start_time": "2023-05-03T01:54:46.812Z"
   },
   {
    "duration": 1317,
    "start_time": "2023-05-03T01:54:48.171Z"
   },
   {
    "duration": 4,
    "start_time": "2023-05-03T02:00:57.312Z"
   },
   {
    "duration": 3,
    "start_time": "2023-05-03T02:03:35.643Z"
   },
   {
    "duration": 172,
    "start_time": "2023-05-03T02:03:35.648Z"
   },
   {
    "duration": 151,
    "start_time": "2023-05-03T02:03:35.821Z"
   },
   {
    "duration": 147,
    "start_time": "2023-05-03T02:03:35.974Z"
   },
   {
    "duration": 4,
    "start_time": "2023-05-03T02:03:36.122Z"
   },
   {
    "duration": 650,
    "start_time": "2023-05-03T02:03:36.134Z"
   },
   {
    "duration": 26,
    "start_time": "2023-05-03T02:03:36.786Z"
   },
   {
    "duration": 704,
    "start_time": "2023-05-03T02:03:36.813Z"
   },
   {
    "duration": 18,
    "start_time": "2023-05-03T02:03:37.519Z"
   },
   {
    "duration": 627,
    "start_time": "2023-05-03T02:03:37.539Z"
   },
   {
    "duration": 2,
    "start_time": "2023-05-03T02:03:38.168Z"
   },
   {
    "duration": 16,
    "start_time": "2023-05-03T02:03:38.172Z"
   },
   {
    "duration": 14,
    "start_time": "2023-05-03T02:03:38.189Z"
   },
   {
    "duration": 31,
    "start_time": "2023-05-03T02:03:38.204Z"
   },
   {
    "duration": 8,
    "start_time": "2023-05-03T02:03:38.237Z"
   },
   {
    "duration": 108,
    "start_time": "2023-05-03T02:03:38.246Z"
   },
   {
    "duration": 12,
    "start_time": "2023-05-03T02:03:38.356Z"
   },
   {
    "duration": 12,
    "start_time": "2023-05-03T02:03:38.434Z"
   },
   {
    "duration": 96,
    "start_time": "2023-05-03T02:03:38.449Z"
   },
   {
    "duration": 88,
    "start_time": "2023-05-03T02:03:38.547Z"
   },
   {
    "duration": 11,
    "start_time": "2023-05-03T02:03:38.638Z"
   },
   {
    "duration": 7,
    "start_time": "2023-05-03T02:03:38.736Z"
   },
   {
    "duration": 29,
    "start_time": "2023-05-03T02:03:38.745Z"
   },
   {
    "duration": 7,
    "start_time": "2023-05-03T02:03:38.777Z"
   },
   {
    "duration": 11,
    "start_time": "2023-05-03T02:03:38.786Z"
   },
   {
    "duration": 25,
    "start_time": "2023-05-03T02:03:38.799Z"
   },
   {
    "duration": 3,
    "start_time": "2023-05-03T02:03:38.826Z"
   },
   {
    "duration": 32,
    "start_time": "2023-05-03T02:03:38.831Z"
   },
   {
    "duration": 1277,
    "start_time": "2023-05-03T02:03:38.865Z"
   },
   {
    "duration": 1291,
    "start_time": "2023-05-03T02:03:40.144Z"
   },
   {
    "duration": 1328,
    "start_time": "2023-05-03T02:03:41.437Z"
   },
   {
    "duration": 6,
    "start_time": "2023-05-03T02:15:23.262Z"
   },
   {
    "duration": 200,
    "start_time": "2023-05-03T02:15:23.270Z"
   },
   {
    "duration": 169,
    "start_time": "2023-05-03T02:15:23.471Z"
   },
   {
    "duration": 155,
    "start_time": "2023-05-03T02:15:23.642Z"
   },
   {
    "duration": 4,
    "start_time": "2023-05-03T02:15:23.799Z"
   },
   {
    "duration": 683,
    "start_time": "2023-05-03T02:15:23.804Z"
   },
   {
    "duration": 28,
    "start_time": "2023-05-03T02:15:24.489Z"
   },
   {
    "duration": 697,
    "start_time": "2023-05-03T02:15:24.518Z"
   },
   {
    "duration": 17,
    "start_time": "2023-05-03T02:15:25.217Z"
   },
   {
    "duration": 660,
    "start_time": "2023-05-03T02:15:25.238Z"
   },
   {
    "duration": 3,
    "start_time": "2023-05-03T02:15:25.900Z"
   },
   {
    "duration": 6,
    "start_time": "2023-05-03T02:15:25.904Z"
   },
   {
    "duration": 24,
    "start_time": "2023-05-03T02:15:25.911Z"
   },
   {
    "duration": 19,
    "start_time": "2023-05-03T02:15:25.936Z"
   },
   {
    "duration": 10,
    "start_time": "2023-05-03T02:15:26.035Z"
   },
   {
    "duration": 105,
    "start_time": "2023-05-03T02:15:26.046Z"
   },
   {
    "duration": 13,
    "start_time": "2023-05-03T02:15:26.152Z"
   },
   {
    "duration": 175,
    "start_time": "2023-05-03T02:15:26.167Z"
   },
   {
    "duration": 49,
    "start_time": "2023-05-03T02:15:26.344Z"
   },
   {
    "duration": 59,
    "start_time": "2023-05-03T02:15:26.403Z"
   },
   {
    "duration": 7,
    "start_time": "2023-05-03T02:15:26.466Z"
   },
   {
    "duration": 75,
    "start_time": "2023-05-03T02:15:26.475Z"
   },
   {
    "duration": 4,
    "start_time": "2023-05-03T02:15:26.635Z"
   },
   {
    "duration": 13,
    "start_time": "2023-05-03T02:15:26.641Z"
   },
   {
    "duration": 11,
    "start_time": "2023-05-03T02:15:26.656Z"
   },
   {
    "duration": 136,
    "start_time": "2023-05-03T02:15:26.669Z"
   },
   {
    "duration": 3,
    "start_time": "2023-05-03T02:15:26.807Z"
   },
   {
    "duration": 8,
    "start_time": "2023-05-03T02:15:26.813Z"
   },
   {
    "duration": 1285,
    "start_time": "2023-05-03T02:15:26.823Z"
   },
   {
    "duration": 1275,
    "start_time": "2023-05-03T02:15:28.110Z"
   },
   {
    "duration": 1267,
    "start_time": "2023-05-03T02:15:29.387Z"
   },
   {
    "duration": 71,
    "start_time": "2023-05-03T02:23:36.908Z"
   },
   {
    "duration": 1303,
    "start_time": "2023-05-03T02:24:06.844Z"
   },
   {
    "duration": 175,
    "start_time": "2023-05-03T02:24:08.149Z"
   },
   {
    "duration": 151,
    "start_time": "2023-05-03T02:24:08.326Z"
   },
   {
    "duration": 162,
    "start_time": "2023-05-03T02:24:08.479Z"
   },
   {
    "duration": 3,
    "start_time": "2023-05-03T02:24:08.643Z"
   },
   {
    "duration": 632,
    "start_time": "2023-05-03T02:24:08.648Z"
   },
   {
    "duration": 30,
    "start_time": "2023-05-03T02:24:09.281Z"
   },
   {
    "duration": 626,
    "start_time": "2023-05-03T02:24:09.313Z"
   },
   {
    "duration": 8,
    "start_time": "2023-05-03T02:24:09.940Z"
   },
   {
    "duration": 711,
    "start_time": "2023-05-03T02:24:09.950Z"
   },
   {
    "duration": 3,
    "start_time": "2023-05-03T02:24:10.663Z"
   },
   {
    "duration": 19,
    "start_time": "2023-05-03T02:24:10.667Z"
   },
   {
    "duration": 15,
    "start_time": "2023-05-03T02:24:10.687Z"
   },
   {
    "duration": 34,
    "start_time": "2023-05-03T02:24:10.704Z"
   },
   {
    "duration": 7,
    "start_time": "2023-05-03T02:24:10.740Z"
   },
   {
    "duration": 106,
    "start_time": "2023-05-03T02:24:10.749Z"
   },
   {
    "duration": 78,
    "start_time": "2023-05-03T02:24:10.857Z"
   },
   {
    "duration": 7,
    "start_time": "2023-05-03T02:24:10.937Z"
   },
   {
    "duration": 21,
    "start_time": "2023-05-03T02:24:11.035Z"
   },
   {
    "duration": 13,
    "start_time": "2023-05-03T02:24:11.057Z"
   },
   {
    "duration": 167,
    "start_time": "2023-05-03T02:24:11.072Z"
   },
   {
    "duration": 5,
    "start_time": "2023-05-03T02:24:11.240Z"
   },
   {
    "duration": 7,
    "start_time": "2023-05-03T02:24:11.247Z"
   },
   {
    "duration": 15,
    "start_time": "2023-05-03T02:24:11.256Z"
   },
   {
    "duration": 13,
    "start_time": "2023-05-03T02:24:11.272Z"
   },
   {
    "duration": 25,
    "start_time": "2023-05-03T02:24:11.288Z"
   },
   {
    "duration": 3,
    "start_time": "2023-05-03T02:24:11.315Z"
   },
   {
    "duration": 6,
    "start_time": "2023-05-03T02:24:11.336Z"
   },
   {
    "duration": 1263,
    "start_time": "2023-05-03T02:24:11.343Z"
   },
   {
    "duration": 1229,
    "start_time": "2023-05-03T02:24:12.608Z"
   },
   {
    "duration": 1288,
    "start_time": "2023-05-03T02:24:13.839Z"
   }
  ],
  "kernelspec": {
   "display_name": "Python 3 (ipykernel)",
   "language": "python",
   "name": "python3"
  },
  "language_info": {
   "codemirror_mode": {
    "name": "ipython",
    "version": 3
   },
   "file_extension": ".py",
   "mimetype": "text/x-python",
   "name": "python",
   "nbconvert_exporter": "python",
   "pygments_lexer": "ipython3",
   "version": "3.7.4"
  },
  "toc": {
   "base_numbering": 1,
   "nav_menu": {},
   "number_sections": true,
   "sideBar": true,
   "skip_h1_title": true,
   "title_cell": "Table of Contents",
   "title_sidebar": "Contents",
   "toc_cell": false,
   "toc_position": {
    "height": "calc(100% - 180px)",
    "left": "10px",
    "top": "150px",
    "width": "371px"
   },
   "toc_section_display": true,
   "toc_window_display": true
  }
 },
 "nbformat": 4,
 "nbformat_minor": 2
}
