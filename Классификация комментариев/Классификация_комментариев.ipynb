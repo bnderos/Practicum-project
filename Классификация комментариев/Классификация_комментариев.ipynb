{
 "cells": [
  {
   "cell_type": "markdown",
   "metadata": {
    "id": "1TcVCwcAwi3H",
    "toc": true
   },
   "source": [
    "<h1>Содержание<span class=\"tocSkip\"></span></h1>\n",
    "<div class=\"toc\"><ul class=\"toc-item\"><li><span><a href=\"#Загрузка-и-подготовка-данных.\" data-toc-modified-id=\"Загрузка-и-подготовка-данных.-1\"><span class=\"toc-item-num\">1&nbsp;&nbsp;</span>Загрузка и подготовка данных.</a></span><ul class=\"toc-item\"><li><span><a href=\"#Загрузка-и-анализ-данных\" data-toc-modified-id=\"Загрузка-и-анализ-данных-1.1\"><span class=\"toc-item-num\">1.1&nbsp;&nbsp;</span>Загрузка и анализ данных</a></span></li><li><span><a href=\"#Лемматизация-и-очистка-текста\" data-toc-modified-id=\"Лемматизация-и-очистка-текста-1.2\"><span class=\"toc-item-num\">1.2&nbsp;&nbsp;</span>Лемматизация и очистка текста</a></span></li><li><span><a href=\"#Разделение-на-выборки\" data-toc-modified-id=\"Разделение-на-выборки-1.3\"><span class=\"toc-item-num\">1.3&nbsp;&nbsp;</span>Разделение на выборки</a></span></li><li><span><a href=\"#Создайм-матрицы-cо-значениями-TF-IDF-по-корпусам-комментариев\" data-toc-modified-id=\"Создайм-матрицы-cо-значениями-TF-IDF-по-корпусам-комментариев-1.4\"><span class=\"toc-item-num\">1.4&nbsp;&nbsp;</span>Создайм матрицы cо значениями TF-IDF по корпусам комментариев</a></span></li></ul></li><li><span><a href=\"#Обучение\" data-toc-modified-id=\"Обучение-2\"><span class=\"toc-item-num\">2&nbsp;&nbsp;</span>Обучение</a></span><ul class=\"toc-item\"><li><span><a href=\"#Логистическая-регрессия\" data-toc-modified-id=\"Логистическая-регрессия-2.1\"><span class=\"toc-item-num\">2.1&nbsp;&nbsp;</span>Логистическая регрессия</a></span></li><li><span><a href=\"#Случайный-лес\" data-toc-modified-id=\"Случайный-лес-2.2\"><span class=\"toc-item-num\">2.2&nbsp;&nbsp;</span>Случайный лес</a></span></li><li><span><a href=\"#LightGBM\" data-toc-modified-id=\"LightGBM-2.3\"><span class=\"toc-item-num\">2.3&nbsp;&nbsp;</span>LightGBM</a></span></li><li><span><a href=\"#Векторная-классификация-линейной-поддержки\" data-toc-modified-id=\"Векторная-классификация-линейной-поддержки-2.4\"><span class=\"toc-item-num\">2.4&nbsp;&nbsp;</span>Векторная классификация линейной поддержки</a></span></li></ul></li><li><span><a href=\"#Тестирование-лучшей-модели-и-проверка-на-адекватность\" data-toc-modified-id=\"Тестирование-лучшей-модели-и-проверка-на-адекватность-3\"><span class=\"toc-item-num\">3&nbsp;&nbsp;</span>Тестирование лучшей модели и проверка на адекватность</a></span></li><li><span><a href=\"#Проект-для-&quot;Викишоп&quot;-с-BERT\" data-toc-modified-id=\"Проект-для-&quot;Викишоп&quot;-с-BERT-4\"><span class=\"toc-item-num\">4&nbsp;&nbsp;</span>Проект для \"Викишоп\" с BERT</a></span></li><li><span><a href=\"#Общий-вывод\" data-toc-modified-id=\"Общий-вывод-5\"><span class=\"toc-item-num\">5&nbsp;&nbsp;</span>Общий вывод</a></span></li><li><span><a href=\"#Чек-лист-проверки\" data-toc-modified-id=\"Чек-лист-проверки-6\"><span class=\"toc-item-num\">6&nbsp;&nbsp;</span>Чек-лист проверки</a></span></li></ul></div>"
   ]
  },
  {
   "cell_type": "markdown",
   "metadata": {
    "id": "Mk2TflyBu7Ow"
   },
   "source": [
    "# Проект для «Викишоп»"
   ]
  },
  {
   "cell_type": "markdown",
   "metadata": {
    "id": "5StZuua_u7Ow"
   },
   "source": [
    "Интернет-магазин «Викишоп» запускает новый сервис. Теперь пользователи могут редактировать и дополнять описания товаров, как в вики-сообществах. То есть клиенты предлагают свои правки и комментируют изменения других. Магазину нужен инструмент, который будет искать токсичные комментарии и отправлять их на модерацию.\n",
    "\n",
    "Обучите модель классифицировать комментарии на позитивные и негативные. В вашем распоряжении набор данных с разметкой о токсичности правок.\n",
    "\n",
    "Постройте модель со значением метрики качества *F1* не меньше 0.75.\n",
    "\n",
    "**Инструкция по выполнению проекта**\n",
    "\n",
    "1. Загрузите и подготовьте данные.\n",
    "2. Обучите разные модели.\n",
    "3. Сделайте выводы.\n",
    "\n",
    "Для выполнения проекта применять *BERT* необязательно, но вы можете попробовать.\n",
    "\n",
    "**Описание данных**\n",
    "\n",
    "Данные находятся в файле `toxic_comments.csv`. Столбец *text* в нём содержит текст комментария, а *toxic* — целевой признак."
   ]
  },
  {
   "cell_type": "markdown",
   "metadata": {
    "id": "DaNeqAT4u7Ow"
   },
   "source": [
    "**Цель:** Обучить модель классифицировать комментарии на позитивные и негативные.\n",
    "     \n",
    "   Работа пройдёт в несколько этапов:\n",
    " 1. Загрузка и подготовка данных.\n",
    " 2. Обучение моделей.   \n",
    " 3. Тестирование лучшей модели.\n",
    " 4. Проект для \"Викишоп\" с BERT.\n",
    " 5. Общий вывод."
   ]
  },
  {
   "cell_type": "markdown",
   "metadata": {
    "id": "W5z0akkRu7Ox"
   },
   "source": [
    "**Столбец text в нём содержит текст комментария, а toxic — целевой признак.**"
   ]
  },
  {
   "cell_type": "code",
   "execution_count": 1,
   "metadata": {
    "id": "PoQfMk3qzzHN"
   },
   "outputs": [],
   "source": [
    "!pip install -q transformers"
   ]
  },
  {
   "cell_type": "code",
   "execution_count": 2,
   "metadata": {
    "colab": {
     "base_uri": "https://localhost:8080/"
    },
    "id": "g3-h0Lh8u7Ox",
    "outputId": "9b8896a9-a0ec-4cff-bda3-851c99bf182a"
   },
   "outputs": [
    {
     "name": "stderr",
     "output_type": "stream",
     "text": [
      "[nltk_data] Downloading package stopwords to /root/nltk_data...\n",
      "[nltk_data]   Package stopwords is already up-to-date!\n"
     ]
    }
   ],
   "source": [
    "import pandas as pd\n",
    "import numpy as np\n",
    "import seaborn as sns\n",
    "import matplotlib.pyplot as plt\n",
    "import os\n",
    "import re\n",
    "import spacy\n",
    "import torch\n",
    "import transformers\n",
    "\n",
    "from time import time\n",
    "from tqdm.auto import tqdm\n",
    "from tqdm import notebook\n",
    "\n",
    "import nltk\n",
    "from nltk.corpus import stopwords as nltk_stopwords\n",
    "nltk.download('stopwords')\n",
    "stopwords = set(nltk_stopwords.words('english'))\n",
    "\n",
    "from sklearn.pipeline import Pipeline\n",
    "from sklearn.feature_extraction.text import TfidfVectorizer\n",
    "from sklearn.metrics import f1_score,  confusion_matrix, ConfusionMatrixDisplay\n",
    "from sklearn.model_selection import train_test_split, GridSearchCV\n",
    "from sklearn.linear_model import LogisticRegression\n",
    "from sklearn.ensemble import RandomForestClassifier\n",
    "from sklearn.svm import LinearSVC\n",
    "from sklearn.dummy import DummyClassifier\n",
    "\n",
    "from lightgbm import LGBMClassifier\n",
    "\n",
    "import warnings\n",
    "warnings.simplefilter('ignore')\n",
    "\n",
    "RANDOM_STATE = 123"
   ]
  },
  {
   "cell_type": "markdown",
   "metadata": {
    "id": "XWQlFM9ru7Oy"
   },
   "source": [
    "## Загрузка и подготовка данных."
   ]
  },
  {
   "cell_type": "markdown",
   "metadata": {
    "id": "jTqv8wJ3u7Oy"
   },
   "source": [
    "### Загрузка и анализ данных"
   ]
  },
  {
   "cell_type": "code",
   "execution_count": 3,
   "metadata": {
    "colab": {
     "base_uri": "https://localhost:8080/",
     "height": 206
    },
    "id": "QMSv1s_yu7Oy",
    "outputId": "1bce61a0-b8a3-4b9b-c8dc-c5e03593a532"
   },
   "outputs": [
    {
     "data": {
      "text/html": [
       "\n",
       "  <div id=\"df-5b966961-02ff-475f-80bc-aaf26fae95af\">\n",
       "    <div class=\"colab-df-container\">\n",
       "      <div>\n",
       "<style scoped>\n",
       "    .dataframe tbody tr th:only-of-type {\n",
       "        vertical-align: middle;\n",
       "    }\n",
       "\n",
       "    .dataframe tbody tr th {\n",
       "        vertical-align: top;\n",
       "    }\n",
       "\n",
       "    .dataframe thead th {\n",
       "        text-align: right;\n",
       "    }\n",
       "</style>\n",
       "<table border=\"1\" class=\"dataframe\">\n",
       "  <thead>\n",
       "    <tr style=\"text-align: right;\">\n",
       "      <th></th>\n",
       "      <th>text</th>\n",
       "      <th>toxic</th>\n",
       "    </tr>\n",
       "  </thead>\n",
       "  <tbody>\n",
       "    <tr>\n",
       "      <th>0</th>\n",
       "      <td>Explanation\\nWhy the edits made under my usern...</td>\n",
       "      <td>0</td>\n",
       "    </tr>\n",
       "    <tr>\n",
       "      <th>1</th>\n",
       "      <td>D'aww! He matches this background colour I'm s...</td>\n",
       "      <td>0</td>\n",
       "    </tr>\n",
       "    <tr>\n",
       "      <th>2</th>\n",
       "      <td>Hey man, I'm really not trying to edit war. It...</td>\n",
       "      <td>0</td>\n",
       "    </tr>\n",
       "    <tr>\n",
       "      <th>3</th>\n",
       "      <td>\"\\nMore\\nI can't make any real suggestions on ...</td>\n",
       "      <td>0</td>\n",
       "    </tr>\n",
       "    <tr>\n",
       "      <th>4</th>\n",
       "      <td>You, sir, are my hero. Any chance you remember...</td>\n",
       "      <td>0</td>\n",
       "    </tr>\n",
       "  </tbody>\n",
       "</table>\n",
       "</div>\n",
       "      <button class=\"colab-df-convert\" onclick=\"convertToInteractive('df-5b966961-02ff-475f-80bc-aaf26fae95af')\"\n",
       "              title=\"Convert this dataframe to an interactive table.\"\n",
       "              style=\"display:none;\">\n",
       "        \n",
       "  <svg xmlns=\"http://www.w3.org/2000/svg\" height=\"24px\"viewBox=\"0 0 24 24\"\n",
       "       width=\"24px\">\n",
       "    <path d=\"M0 0h24v24H0V0z\" fill=\"none\"/>\n",
       "    <path d=\"M18.56 5.44l.94 2.06.94-2.06 2.06-.94-2.06-.94-.94-2.06-.94 2.06-2.06.94zm-11 1L8.5 8.5l.94-2.06 2.06-.94-2.06-.94L8.5 2.5l-.94 2.06-2.06.94zm10 10l.94 2.06.94-2.06 2.06-.94-2.06-.94-.94-2.06-.94 2.06-2.06.94z\"/><path d=\"M17.41 7.96l-1.37-1.37c-.4-.4-.92-.59-1.43-.59-.52 0-1.04.2-1.43.59L10.3 9.45l-7.72 7.72c-.78.78-.78 2.05 0 2.83L4 21.41c.39.39.9.59 1.41.59.51 0 1.02-.2 1.41-.59l7.78-7.78 2.81-2.81c.8-.78.8-2.07 0-2.86zM5.41 20L4 18.59l7.72-7.72 1.47 1.35L5.41 20z\"/>\n",
       "  </svg>\n",
       "      </button>\n",
       "      \n",
       "  <style>\n",
       "    .colab-df-container {\n",
       "      display:flex;\n",
       "      flex-wrap:wrap;\n",
       "      gap: 12px;\n",
       "    }\n",
       "\n",
       "    .colab-df-convert {\n",
       "      background-color: #E8F0FE;\n",
       "      border: none;\n",
       "      border-radius: 50%;\n",
       "      cursor: pointer;\n",
       "      display: none;\n",
       "      fill: #1967D2;\n",
       "      height: 32px;\n",
       "      padding: 0 0 0 0;\n",
       "      width: 32px;\n",
       "    }\n",
       "\n",
       "    .colab-df-convert:hover {\n",
       "      background-color: #E2EBFA;\n",
       "      box-shadow: 0px 1px 2px rgba(60, 64, 67, 0.3), 0px 1px 3px 1px rgba(60, 64, 67, 0.15);\n",
       "      fill: #174EA6;\n",
       "    }\n",
       "\n",
       "    [theme=dark] .colab-df-convert {\n",
       "      background-color: #3B4455;\n",
       "      fill: #D2E3FC;\n",
       "    }\n",
       "\n",
       "    [theme=dark] .colab-df-convert:hover {\n",
       "      background-color: #434B5C;\n",
       "      box-shadow: 0px 1px 3px 1px rgba(0, 0, 0, 0.15);\n",
       "      filter: drop-shadow(0px 1px 2px rgba(0, 0, 0, 0.3));\n",
       "      fill: #FFFFFF;\n",
       "    }\n",
       "  </style>\n",
       "\n",
       "      <script>\n",
       "        const buttonEl =\n",
       "          document.querySelector('#df-5b966961-02ff-475f-80bc-aaf26fae95af button.colab-df-convert');\n",
       "        buttonEl.style.display =\n",
       "          google.colab.kernel.accessAllowed ? 'block' : 'none';\n",
       "\n",
       "        async function convertToInteractive(key) {\n",
       "          const element = document.querySelector('#df-5b966961-02ff-475f-80bc-aaf26fae95af');\n",
       "          const dataTable =\n",
       "            await google.colab.kernel.invokeFunction('convertToInteractive',\n",
       "                                                     [key], {});\n",
       "          if (!dataTable) return;\n",
       "\n",
       "          const docLinkHtml = 'Like what you see? Visit the ' +\n",
       "            '<a target=\"_blank\" href=https://colab.research.google.com/notebooks/data_table.ipynb>data table notebook</a>'\n",
       "            + ' to learn more about interactive tables.';\n",
       "          element.innerHTML = '';\n",
       "          dataTable['output_type'] = 'display_data';\n",
       "          await google.colab.output.renderOutput(dataTable, element);\n",
       "          const docLink = document.createElement('div');\n",
       "          docLink.innerHTML = docLinkHtml;\n",
       "          element.appendChild(docLink);\n",
       "        }\n",
       "      </script>\n",
       "    </div>\n",
       "  </div>\n",
       "  "
      ],
      "text/plain": [
       "                                                text  toxic\n",
       "0  Explanation\\nWhy the edits made under my usern...      0\n",
       "1  D'aww! He matches this background colour I'm s...      0\n",
       "2  Hey man, I'm really not trying to edit war. It...      0\n",
       "3  \"\\nMore\\nI can't make any real suggestions on ...      0\n",
       "4  You, sir, are my hero. Any chance you remember...      0"
      ]
     },
     "execution_count": 3,
     "metadata": {},
     "output_type": "execute_result"
    }
   ],
   "source": [
    "# загрузим датасет\n",
    "if os.path.exists('13.1. toxic_comments.csv'):\n",
    "    data = pd.read_csv('13.1. toxic_comments.csv', index_col=0)\n",
    "elif os.path.exists('/datasets/toxic_comments.csv'):\n",
    "    data = pd.read_csv('/datasets/toxic_comments.csv', index_col=0)\n",
    "elif os.path.exists('./toxic_comments.csv'):\n",
    "    data = pd.read_csv('./toxic_comments.csv', index_col=0)\n",
    "else:\n",
    "    print('Nothing works.')\n",
    "data.head()"
   ]
  },
  {
   "cell_type": "code",
   "execution_count": 4,
   "metadata": {
    "id": "rCva988Bu7Oy"
   },
   "outputs": [],
   "source": [
    "df = data.copy()"
   ]
  },
  {
   "cell_type": "code",
   "execution_count": 5,
   "metadata": {
    "colab": {
     "base_uri": "https://localhost:8080/"
    },
    "id": "L4t5cj1hu7Oz",
    "outputId": "2b74a45a-9322-4ae3-bfbb-93397beffd47"
   },
   "outputs": [
    {
     "name": "stdout",
     "output_type": "stream",
     "text": [
      "<class 'pandas.core.frame.DataFrame'>\n",
      "Int64Index: 159292 entries, 0 to 159450\n",
      "Data columns (total 2 columns):\n",
      " #   Column  Non-Null Count   Dtype \n",
      "---  ------  --------------   ----- \n",
      " 0   text    159292 non-null  object\n",
      " 1   toxic   159292 non-null  int64 \n",
      "dtypes: int64(1), object(1)\n",
      "memory usage: 3.6+ MB\n"
     ]
    }
   ],
   "source": [
    "df.info()"
   ]
  },
  {
   "cell_type": "code",
   "execution_count": 6,
   "metadata": {
    "colab": {
     "base_uri": "https://localhost:8080/"
    },
    "id": "AW99ZNl8u7Oz",
    "outputId": "7c25afe6-74cf-43cb-9b72-b43671044ed3"
   },
   "outputs": [
    {
     "data": {
      "text/plain": [
       "0"
      ]
     },
     "execution_count": 6,
     "metadata": {},
     "output_type": "execute_result"
    }
   ],
   "source": [
    "# проверим дубликаты\n",
    "df.duplicated().sum()"
   ]
  },
  {
   "cell_type": "code",
   "execution_count": 7,
   "metadata": {
    "colab": {
     "base_uri": "https://localhost:8080/"
    },
    "id": "XqOjLsrou7Oz",
    "outputId": "ad8eff90-42c5-459d-9c85-ffd2ba0b74f7"
   },
   "outputs": [
    {
     "data": {
      "text/plain": [
       "0    0.898388\n",
       "1    0.101612\n",
       "Name: toxic, dtype: float64"
      ]
     },
     "execution_count": 7,
     "metadata": {},
     "output_type": "execute_result"
    }
   ],
   "source": [
    "# посмотрим на распределение классов в 'toxic'\n",
    "df.toxic.value_counts(normalize=True)"
   ]
  },
  {
   "cell_type": "code",
   "execution_count": 8,
   "metadata": {
    "colab": {
     "base_uri": "https://localhost:8080/",
     "height": 489
    },
    "id": "Ly1-_0Iru7Oz",
    "outputId": "02925f9a-78d4-46a8-a982-c16811d881c8"
   },
   "outputs": [
    {
     "data": {
      "image/png": "[encoded data removed]",
      "text/plain": [
       "<Figure size 1000x500 with 1 Axes>"
      ]
     },
     "metadata": {},
     "output_type": "display_data"
    }
   ],
   "source": [
    "plt.figure(figsize=(10, 5))\n",
    "sns.countplot(x=df.toxic)\n",
    "plt.title('Распределение классов', fontsize=16);"
   ]
  },
  {
   "cell_type": "markdown",
   "metadata": {
    "id": "UDXlTLXTu7Oz"
   },
   "source": [
    "**Вывод:**      \n",
    "Мы загрузили даннын:   \n",
    "+ пропуски отсутствуют    \n",
    "+ дубликаты отсутствуют   \n",
    "+ негативных комментариев около 10%"
   ]
  },
  {
   "cell_type": "markdown",
   "metadata": {
    "id": "EjKdK3pLu7Oz"
   },
   "source": [
    "### Лемматизация и очистка текста"
   ]
  },
  {
   "cell_type": "code",
   "execution_count": 9,
   "metadata": {
    "id": "ZkwMJQJHu7Oz"
   },
   "outputs": [],
   "source": [
    "nlp = spacy.load('en_core_web_sm', disable=['ner', 'parser'])"
   ]
  },
  {
   "cell_type": "code",
   "execution_count": 10,
   "metadata": {
    "colab": {
     "base_uri": "https://localhost:8080/",
     "height": 87
    },
    "id": "SsKqZ-KQu7O0",
    "outputId": "c7f9c148-760a-4400-9a36-ad4c5123f62c"
   },
   "outputs": [
    {
     "data": {
      "application/vnd.google.colaboratory.intrinsic+json": {
       "type": "string"
      },
      "text/plain": [
       "'\"\\nMore\\nI can\\'t make any real suggestions on improvement - I wondered if the section statistics should be later on, or a subsection of \"\"types of accidents\"\"  -I think the references may need tidying so that they are all in the exact same format ie date format etc. I can do that later on, if no-one else does first - if you have any preferences for formatting style on references or want to do it yourself please let me know.\\n\\nThere appears to be a backlog on articles for review so I guess there may be a delay until a reviewer turns up. It\\'s listed in the relevant form eg Wikipedia:Good_article_nominations#Transport  \"'"
      ]
     },
     "execution_count": 10,
     "metadata": {},
     "output_type": "execute_result"
    }
   ],
   "source": [
    "str3 = df.text[3]\n",
    "str3"
   ]
  },
  {
   "cell_type": "code",
   "execution_count": 11,
   "metadata": {
    "id": "XrBvV0tOu7O0"
   },
   "outputs": [],
   "source": [
    "def clear_text(text):\n",
    "    text = text.lower()\n",
    "    text = re.sub(r'[^a-z\\']', ' ', text)\n",
    "    return \" \".join(text.split())"
   ]
  },
  {
   "cell_type": "code",
   "execution_count": 12,
   "metadata": {
    "colab": {
     "base_uri": "https://localhost:8080/",
     "height": 87
    },
    "id": "xOgZoTSx1LVZ",
    "outputId": "7eb95fed-329e-44b1-971b-ad0546ad5866"
   },
   "outputs": [
    {
     "data": {
      "application/vnd.google.colaboratory.intrinsic+json": {
       "type": "string"
      },
      "text/plain": [
       "\"more i can't make any real suggestions on improvement i wondered if the section statistics should be later on or a subsection of types of accidents i think the references may need tidying so that they are all in the exact same format ie date format etc i can do that later on if no one else does first if you have any preferences for formatting style on references or want to do it yourself please let me know there appears to be a backlog on articles for review so i guess there may be a delay until a reviewer turns up it's listed in the relevant form eg wikipedia good article nominations transport\""
      ]
     },
     "execution_count": 12,
     "metadata": {},
     "output_type": "execute_result"
    }
   ],
   "source": [
    "str3 = clear_text(str3)\n",
    "str3"
   ]
  },
  {
   "cell_type": "code",
   "execution_count": 15,
   "metadata": {
    "colab": {
     "base_uri": "https://localhost:8080/"
    },
    "id": "D6fDrK3hp1Wp",
    "outputId": "5e73650d-2770-4893-8a21-5ea6b56017b4"
   },
   "outputs": [
    {
     "name": "stdout",
     "output_type": "stream",
     "text": [
      "CPU times: user 7.43 s, sys: 103 ms, total: 7.53 s\n",
      "Wall time: 12.1 s\n"
     ]
    }
   ],
   "source": [
    "%%time\n",
    "df['lemm_text'] = df['text'].apply(clear_text)"
   ]
  },
  {
   "cell_type": "code",
   "execution_count": 16,
   "metadata": {
    "colab": {
     "base_uri": "https://localhost:8080/",
     "height": 84,
     "referenced_widgets": [
      "31a0ea1b853047f29a31a343513acd06",
      "827c726b229148fb8d54aed72278e106",
      "ae51ec7c886147919faa2c54bf4442fc",
      "f0c07276009e40d7a497894c6fe38817",
      "f91e8d0a949a4a2fab19942b7636317c",
      "ef8d625c5ad94335a913f481d39aea96",
      "6d2a2ed3ab8d424e96e0e2c56e2bc623",
      "56b89e1785184c1893c531f31d63974d",
      "14ae86cf096e414494e826fbcfa45f7f",
      "546a46d922aa4a92b57f7416524d9494",
      "52f36fb5c8144c44a1b7d2a3884848d7"
     ]
    },
    "id": "uU3gIp_xPHnJ",
    "outputId": "e4af3a0c-c875-458a-fbda-915dfcb98721"
   },
   "outputs": [
    {
     "data": {
      "application/vnd.jupyter.widget-view+json": {
       "model_id": "31a0ea1b853047f29a31a343513acd06",
       "version_major": 2,
       "version_minor": 0
      },
      "text/plain": [
       "  0%|          | 0/159292 [00:00<?, ?it/s]"
      ]
     },
     "metadata": {},
     "output_type": "display_data"
    },
    {
     "name": "stdout",
     "output_type": "stream",
     "text": [
      "CPU times: user 11min 19s, sys: 5.51 s, total: 11min 24s\n",
      "Wall time: 11min 43s\n"
     ]
    }
   ],
   "source": [
    "%%time\n",
    "lemm_texts = []\n",
    "total = df.shape[0]\n",
    "nlp_pipe = nlp.pipe(df['lemm_text'].values, disable = ['ner', 'parser'])\n",
    "\n",
    "for doc in tqdm(nlp_pipe, total=total):\n",
    "    lemm_text = \" \".join([token.lemma_ for token in doc])\n",
    "    lemm_texts.append(lemm_text)"
   ]
  },
  {
   "cell_type": "code",
   "execution_count": 17,
   "metadata": {
    "colab": {
     "base_uri": "https://localhost:8080/",
     "height": 87
    },
    "id": "O9aRKkHb0V0X",
    "outputId": "84e1c4da-351f-4926-db29-cd505601c76d"
   },
   "outputs": [
    {
     "data": {
      "application/vnd.google.colaboratory.intrinsic+json": {
       "type": "string"
      },
      "text/plain": [
       "'more I can not make any real suggestion on improvement I wonder if the section statistic should be later on or a subsection of type of accident I think the reference may need tidying so that they be all in the exact same format ie date format etc I can do that later on if no one else do first if you have any preference for format style on reference or want to do it yourself please let I know there appear to be a backlog on article for review so I guess there may be a delay until a reviewer turn up it be list in the relevant form eg wikipedia good article nomination transport'"
      ]
     },
     "execution_count": 17,
     "metadata": {},
     "output_type": "execute_result"
    }
   ],
   "source": [
    "lemm_texts[3]"
   ]
  },
  {
   "cell_type": "code",
   "execution_count": null,
   "metadata": {
    "id": "5EWal3Nutzyl"
   },
   "outputs": [],
   "source": [
    "df['lemm_text'] = lemm_texts"
   ]
  },
  {
   "cell_type": "code",
   "execution_count": 19,
   "metadata": {
    "colab": {
     "base_uri": "https://localhost:8080/",
     "height": 87
    },
    "id": "LQXCtssxERRa",
    "outputId": "63ae4888-c5ce-4d62-813c-63e2035c0f08"
   },
   "outputs": [
    {
     "data": {
      "application/vnd.google.colaboratory.intrinsic+json": {
       "type": "string"
      },
      "text/plain": [
       "'more I can not make any real suggestion on improvement I wonder if the section statistic should be later on or a subsection of type of accident I think the reference may need tidying so that they be all in the exact same format ie date format etc I can do that later on if no one else do first if you have any preference for format style on reference or want to do it yourself please let I know there appear to be a backlog on article for review so I guess there may be a delay until a reviewer turn up it be list in the relevant form eg wikipedia good article nomination transport'"
      ]
     },
     "execution_count": 19,
     "metadata": {},
     "output_type": "execute_result"
    }
   ],
   "source": [
    "df['lemm_text'].loc[3]"
   ]
  },
  {
   "cell_type": "code",
   "execution_count": 20,
   "metadata": {
    "id": "pYJE4qSr6U6u"
   },
   "outputs": [],
   "source": [
    "def clear_text2(text):\n",
    "    text = text.lower()\n",
    "    text = re.sub(r'[^a-z]', ' ', text)\n",
    "    return \" \".join(text.split())"
   ]
  },
  {
   "cell_type": "code",
   "execution_count": 21,
   "metadata": {
    "colab": {
     "base_uri": "https://localhost:8080/"
    },
    "id": "p6CnxyV36YGL",
    "outputId": "cf0381b8-e572-4b09-a2a4-1b1d21036bb2"
   },
   "outputs": [
    {
     "name": "stdout",
     "output_type": "stream",
     "text": [
      "CPU times: user 5.35 s, sys: 12.8 ms, total: 5.36 s\n",
      "Wall time: 5.46 s\n"
     ]
    }
   ],
   "source": [
    "%%time\n",
    "df['lemm_text'] = df['lemm_text'].apply(clear_text2)"
   ]
  },
  {
   "cell_type": "code",
   "execution_count": 22,
   "metadata": {
    "colab": {
     "base_uri": "https://localhost:8080/",
     "height": 87
    },
    "id": "5UKswP48E5lX",
    "outputId": "8eaab704-9018-42f2-d779-6ef07b801861"
   },
   "outputs": [
    {
     "data": {
      "application/vnd.google.colaboratory.intrinsic+json": {
       "type": "string"
      },
      "text/plain": [
       "'more i can not make any real suggestion on improvement i wonder if the section statistic should be later on or a subsection of type of accident i think the reference may need tidying so that they be all in the exact same format ie date format etc i can do that later on if no one else do first if you have any preference for format style on reference or want to do it yourself please let i know there appear to be a backlog on article for review so i guess there may be a delay until a reviewer turn up it be list in the relevant form eg wikipedia good article nomination transport'"
      ]
     },
     "execution_count": 22,
     "metadata": {},
     "output_type": "execute_result"
    }
   ],
   "source": [
    "df['lemm_text'].loc[3]"
   ]
  },
  {
   "cell_type": "code",
   "execution_count": 23,
   "metadata": {
    "colab": {
     "base_uri": "https://localhost:8080/",
     "height": 206
    },
    "id": "jZ3hXDO6eRcY",
    "outputId": "ab376f39-eb1f-4451-ee63-4b6d823155cb"
   },
   "outputs": [
    {
     "data": {
      "text/html": [
       "\n",
       "  <div id=\"df-3ace4230-750a-42c0-967c-637d23a51fc7\">\n",
       "    <div class=\"colab-df-container\">\n",
       "      <div>\n",
       "<style scoped>\n",
       "    .dataframe tbody tr th:only-of-type {\n",
       "        vertical-align: middle;\n",
       "    }\n",
       "\n",
       "    .dataframe tbody tr th {\n",
       "        vertical-align: top;\n",
       "    }\n",
       "\n",
       "    .dataframe thead th {\n",
       "        text-align: right;\n",
       "    }\n",
       "</style>\n",
       "<table border=\"1\" class=\"dataframe\">\n",
       "  <thead>\n",
       "    <tr style=\"text-align: right;\">\n",
       "      <th></th>\n",
       "      <th>text</th>\n",
       "      <th>toxic</th>\n",
       "      <th>lemm_text</th>\n",
       "    </tr>\n",
       "  </thead>\n",
       "  <tbody>\n",
       "    <tr>\n",
       "      <th>0</th>\n",
       "      <td>Explanation\\nWhy the edits made under my usern...</td>\n",
       "      <td>0</td>\n",
       "      <td>explanation why the edit make under my usernam...</td>\n",
       "    </tr>\n",
       "    <tr>\n",
       "      <th>1</th>\n",
       "      <td>D'aww! He matches this background colour I'm s...</td>\n",
       "      <td>0</td>\n",
       "      <td>d aww he match this background colour i be see...</td>\n",
       "    </tr>\n",
       "    <tr>\n",
       "      <th>2</th>\n",
       "      <td>Hey man, I'm really not trying to edit war. It...</td>\n",
       "      <td>0</td>\n",
       "      <td>hey man i be really not try to edit war it be ...</td>\n",
       "    </tr>\n",
       "    <tr>\n",
       "      <th>3</th>\n",
       "      <td>\"\\nMore\\nI can't make any real suggestions on ...</td>\n",
       "      <td>0</td>\n",
       "      <td>more i can not make any real suggestion on imp...</td>\n",
       "    </tr>\n",
       "    <tr>\n",
       "      <th>4</th>\n",
       "      <td>You, sir, are my hero. Any chance you remember...</td>\n",
       "      <td>0</td>\n",
       "      <td>you sir be my hero any chance you remember wha...</td>\n",
       "    </tr>\n",
       "  </tbody>\n",
       "</table>\n",
       "</div>\n",
       "      <button class=\"colab-df-convert\" onclick=\"convertToInteractive('df-3ace4230-750a-42c0-967c-637d23a51fc7')\"\n",
       "              title=\"Convert this dataframe to an interactive table.\"\n",
       "              style=\"display:none;\">\n",
       "        \n",
       "  <svg xmlns=\"http://www.w3.org/2000/svg\" height=\"24px\"viewBox=\"0 0 24 24\"\n",
       "       width=\"24px\">\n",
       "    <path d=\"M0 0h24v24H0V0z\" fill=\"none\"/>\n",
       "    <path d=\"M18.56 5.44l.94 2.06.94-2.06 2.06-.94-2.06-.94-.94-2.06-.94 2.06-2.06.94zm-11 1L8.5 8.5l.94-2.06 2.06-.94-2.06-.94L8.5 2.5l-.94 2.06-2.06.94zm10 10l.94 2.06.94-2.06 2.06-.94-2.06-.94-.94-2.06-.94 2.06-2.06.94z\"/><path d=\"M17.41 7.96l-1.37-1.37c-.4-.4-.92-.59-1.43-.59-.52 0-1.04.2-1.43.59L10.3 9.45l-7.72 7.72c-.78.78-.78 2.05 0 2.83L4 21.41c.39.39.9.59 1.41.59.51 0 1.02-.2 1.41-.59l7.78-7.78 2.81-2.81c.8-.78.8-2.07 0-2.86zM5.41 20L4 18.59l7.72-7.72 1.47 1.35L5.41 20z\"/>\n",
       "  </svg>\n",
       "      </button>\n",
       "      \n",
       "  <style>\n",
       "    .colab-df-container {\n",
       "      display:flex;\n",
       "      flex-wrap:wrap;\n",
       "      gap: 12px;\n",
       "    }\n",
       "\n",
       "    .colab-df-convert {\n",
       "      background-color: #E8F0FE;\n",
       "      border: none;\n",
       "      border-radius: 50%;\n",
       "      cursor: pointer;\n",
       "      display: none;\n",
       "      fill: #1967D2;\n",
       "      height: 32px;\n",
       "      padding: 0 0 0 0;\n",
       "      width: 32px;\n",
       "    }\n",
       "\n",
       "    .colab-df-convert:hover {\n",
       "      background-color: #E2EBFA;\n",
       "      box-shadow: 0px 1px 2px rgba(60, 64, 67, 0.3), 0px 1px 3px 1px rgba(60, 64, 67, 0.15);\n",
       "      fill: #174EA6;\n",
       "    }\n",
       "\n",
       "    [theme=dark] .colab-df-convert {\n",
       "      background-color: #3B4455;\n",
       "      fill: #D2E3FC;\n",
       "    }\n",
       "\n",
       "    [theme=dark] .colab-df-convert:hover {\n",
       "      background-color: #434B5C;\n",
       "      box-shadow: 0px 1px 3px 1px rgba(0, 0, 0, 0.15);\n",
       "      filter: drop-shadow(0px 1px 2px rgba(0, 0, 0, 0.3));\n",
       "      fill: #FFFFFF;\n",
       "    }\n",
       "  </style>\n",
       "\n",
       "      <script>\n",
       "        const buttonEl =\n",
       "          document.querySelector('#df-3ace4230-750a-42c0-967c-637d23a51fc7 button.colab-df-convert');\n",
       "        buttonEl.style.display =\n",
       "          google.colab.kernel.accessAllowed ? 'block' : 'none';\n",
       "\n",
       "        async function convertToInteractive(key) {\n",
       "          const element = document.querySelector('#df-3ace4230-750a-42c0-967c-637d23a51fc7');\n",
       "          const dataTable =\n",
       "            await google.colab.kernel.invokeFunction('convertToInteractive',\n",
       "                                                     [key], {});\n",
       "          if (!dataTable) return;\n",
       "\n",
       "          const docLinkHtml = 'Like what you see? Visit the ' +\n",
       "            '<a target=\"_blank\" href=https://colab.research.google.com/notebooks/data_table.ipynb>data table notebook</a>'\n",
       "            + ' to learn more about interactive tables.';\n",
       "          element.innerHTML = '';\n",
       "          dataTable['output_type'] = 'display_data';\n",
       "          await google.colab.output.renderOutput(dataTable, element);\n",
       "          const docLink = document.createElement('div');\n",
       "          docLink.innerHTML = docLinkHtml;\n",
       "          element.appendChild(docLink);\n",
       "        }\n",
       "      </script>\n",
       "    </div>\n",
       "  </div>\n",
       "  "
      ],
      "text/plain": [
       "                                                text  toxic  \\\n",
       "0  Explanation\\nWhy the edits made under my usern...      0   \n",
       "1  D'aww! He matches this background colour I'm s...      0   \n",
       "2  Hey man, I'm really not trying to edit war. It...      0   \n",
       "3  \"\\nMore\\nI can't make any real suggestions on ...      0   \n",
       "4  You, sir, are my hero. Any chance you remember...      0   \n",
       "\n",
       "                                           lemm_text  \n",
       "0  explanation why the edit make under my usernam...  \n",
       "1  d aww he match this background colour i be see...  \n",
       "2  hey man i be really not try to edit war it be ...  \n",
       "3  more i can not make any real suggestion on imp...  \n",
       "4  you sir be my hero any chance you remember wha...  "
      ]
     },
     "execution_count": 23,
     "metadata": {},
     "output_type": "execute_result"
    }
   ],
   "source": [
    "df.head()"
   ]
  },
  {
   "cell_type": "markdown",
   "metadata": {
    "id": "brJ2VvT-u7O0"
   },
   "source": [
    "**Вывод:**   \n",
    "Мы очистили текст от ненужных знаков и пробелов. С помощью библиотеки SpaCy лемматизировали текст."
   ]
  },
  {
   "cell_type": "markdown",
   "metadata": {
    "id": "HvFbcBW1u7O0"
   },
   "source": [
    "### Разделение на выборки"
   ]
  },
  {
   "cell_type": "markdown",
   "metadata": {
    "id": "sIM4a2jDu7O1"
   },
   "source": [
    "**Учитывая, что колонка 'text' по сути то же самое, что и 'lemm_text' за признак мы возьмём 'lemm_text'.**"
   ]
  },
  {
   "cell_type": "code",
   "execution_count": 27,
   "metadata": {
    "id": "DyyCbinvu7O1"
   },
   "outputs": [],
   "source": [
    "# разобьём данные на признаки и целевой признак\n",
    "X = df['lemm_text']\n",
    "y = df['toxic']"
   ]
  },
  {
   "cell_type": "code",
   "execution_count": 28,
   "metadata": {
    "id": "rDjbPlTzu7O1"
   },
   "outputs": [],
   "source": [
    "# разобьём на обучающий и тестовый наборы\n",
    "X_train, X_test, y_train, y_test = train_test_split(X, y,\n",
    "                                                    test_size=0.1,\n",
    "                                                    random_state=RANDOM_STATE,\n",
    "                                                    shuffle=True,\n",
    "                                                    stratify=y)"
   ]
  },
  {
   "cell_type": "code",
   "execution_count": 29,
   "metadata": {
    "colab": {
     "base_uri": "https://localhost:8080/"
    },
    "id": "uH9Vu6iCu7O1",
    "outputId": "0e44fb0b-fcea-47fc-9885-3bb1f16a948c",
    "scrolled": true
   },
   "outputs": [
    {
     "data": {
      "text/plain": [
       "((143362,), (143362,), (15930,), (15930,))"
      ]
     },
     "execution_count": 29,
     "metadata": {},
     "output_type": "execute_result"
    }
   ],
   "source": [
    "# проверим длины наших выборок\n",
    "X_train.shape, y_train.shape, X_test.shape, y_test.shape"
   ]
  },
  {
   "cell_type": "code",
   "execution_count": 30,
   "metadata": {
    "id": "8lj4AwDcu7O1"
   },
   "outputs": [],
   "source": [
    "corpus_train = X_train.values\n",
    "corpus_test = X_test.values"
   ]
  },
  {
   "cell_type": "markdown",
   "metadata": {
    "id": "DaKm2Y-hu7O1"
   },
   "source": [
    "**Вывод по пункту 1.:**   \n",
    "+ при загрузке данных выяснили, что пропуски и дубликаты отсутствуют, классы в таргете не сбалансированы.     \n",
    "+ лемматизировали и очистили текст от знаков пунктуации и пробелов.           \n",
    "+ разделили данные на трейн и тест      \n",
    "+ создали матрицы cо значениями TF-IDF"
   ]
  },
  {
   "cell_type": "markdown",
   "metadata": {
    "id": "TISsFrJfu7O2"
   },
   "source": [
    "## Обучение"
   ]
  },
  {
   "cell_type": "markdown",
   "metadata": {
    "id": "7Sjq8gSpu7O2"
   },
   "source": [
    "### Логистическая регрессия"
   ]
  },
  {
   "cell_type": "code",
   "execution_count": 34,
   "metadata": {
    "id": "mlbJFnNWwi3m"
   },
   "outputs": [],
   "source": [
    "pipe_LR = Pipeline(\n",
    "    [\n",
    "        (\"vect\", TfidfVectorizer(stop_words=list(stopwords))),\n",
    "        (\"model_LR\", LogisticRegression(random_state=RANDOM_STATE, class_weight='balanced', max_iter=500)),\n",
    "    ]\n",
    ")\n",
    "grid_par_LR = {'model_LR__C': [6, 6.1, 6.2],\n",
    "               'model_LR__max_iter': [81, 85]}\n",
    "cv_LR = GridSearchCV(pipe_LR, grid_par_LR, scoring='f1', verbose=10)"
   ]
  },
  {
   "cell_type": "code",
   "execution_count": 35,
   "metadata": {
    "colab": {
     "base_uri": "https://localhost:8080/"
    },
    "id": "_sXhUTZjwi3m",
    "outputId": "dd30eec6-515b-4245-fde7-9e2244de56d0",
    "scrolled": true
   },
   "outputs": [
    {
     "name": "stdout",
     "output_type": "stream",
     "text": [
      "Fitting 5 folds for each of 6 candidates, totalling 30 fits\n",
      "[CV 1/5; 1/6] START model_LR__C=6, model_LR__max_iter=81........................\n",
      "[CV 1/5; 1/6] END model_LR__C=6, model_LR__max_iter=81;, score=0.761 total time=  14.0s\n",
      "[CV 2/5; 1/6] START model_LR__C=6, model_LR__max_iter=81........................\n",
      "[CV 2/5; 1/6] END model_LR__C=6, model_LR__max_iter=81;, score=0.752 total time=  19.6s\n",
      "[CV 3/5; 1/6] START model_LR__C=6, model_LR__max_iter=81........................\n",
      "[CV 3/5; 1/6] END model_LR__C=6, model_LR__max_iter=81;, score=0.766 total time=  16.7s\n",
      "[CV 4/5; 1/6] START model_LR__C=6, model_LR__max_iter=81........................\n",
      "[CV 4/5; 1/6] END model_LR__C=6, model_LR__max_iter=81;, score=0.772 total time=  15.5s\n",
      "[CV 5/5; 1/6] START model_LR__C=6, model_LR__max_iter=81........................\n",
      "[CV 5/5; 1/6] END model_LR__C=6, model_LR__max_iter=81;, score=0.764 total time=  13.0s\n",
      "[CV 1/5; 2/6] START model_LR__C=6, model_LR__max_iter=85........................\n",
      "[CV 1/5; 2/6] END model_LR__C=6, model_LR__max_iter=85;, score=0.762 total time=  13.9s\n",
      "[CV 2/5; 2/6] START model_LR__C=6, model_LR__max_iter=85........................\n",
      "[CV 2/5; 2/6] END model_LR__C=6, model_LR__max_iter=85;, score=0.753 total time=  14.1s\n",
      "[CV 3/5; 2/6] START model_LR__C=6, model_LR__max_iter=85........................\n",
      "[CV 3/5; 2/6] END model_LR__C=6, model_LR__max_iter=85;, score=0.767 total time=  14.5s\n",
      "[CV 4/5; 2/6] START model_LR__C=6, model_LR__max_iter=85........................\n",
      "[CV 4/5; 2/6] END model_LR__C=6, model_LR__max_iter=85;, score=0.773 total time=  14.6s\n",
      "[CV 5/5; 2/6] START model_LR__C=6, model_LR__max_iter=85........................\n",
      "[CV 5/5; 2/6] END model_LR__C=6, model_LR__max_iter=85;, score=0.763 total time=  16.1s\n",
      "[CV 1/5; 3/6] START model_LR__C=6.1, model_LR__max_iter=81......................\n",
      "[CV 1/5; 3/6] END model_LR__C=6.1, model_LR__max_iter=81;, score=0.764 total time=  14.0s\n",
      "[CV 2/5; 3/6] START model_LR__C=6.1, model_LR__max_iter=81......................\n",
      "[CV 2/5; 3/6] END model_LR__C=6.1, model_LR__max_iter=81;, score=0.753 total time=  13.7s\n",
      "[CV 3/5; 3/6] START model_LR__C=6.1, model_LR__max_iter=81......................\n",
      "[CV 3/5; 3/6] END model_LR__C=6.1, model_LR__max_iter=81;, score=0.769 total time=  14.4s\n",
      "[CV 4/5; 3/6] START model_LR__C=6.1, model_LR__max_iter=81......................\n",
      "[CV 4/5; 3/6] END model_LR__C=6.1, model_LR__max_iter=81;, score=0.772 total time=  13.7s\n",
      "[CV 5/5; 3/6] START model_LR__C=6.1, model_LR__max_iter=81......................\n",
      "[CV 5/5; 3/6] END model_LR__C=6.1, model_LR__max_iter=81;, score=0.765 total time=  14.3s\n",
      "[CV 1/5; 4/6] START model_LR__C=6.1, model_LR__max_iter=85......................\n",
      "[CV 1/5; 4/6] END model_LR__C=6.1, model_LR__max_iter=85;, score=0.763 total time=  14.6s\n",
      "[CV 2/5; 4/6] START model_LR__C=6.1, model_LR__max_iter=85......................\n",
      "[CV 2/5; 4/6] END model_LR__C=6.1, model_LR__max_iter=85;, score=0.752 total time=  13.7s\n",
      "[CV 3/5; 4/6] START model_LR__C=6.1, model_LR__max_iter=85......................\n",
      "[CV 3/5; 4/6] END model_LR__C=6.1, model_LR__max_iter=85;, score=0.768 total time=  14.1s\n",
      "[CV 4/5; 4/6] START model_LR__C=6.1, model_LR__max_iter=85......................\n",
      "[CV 4/5; 4/6] END model_LR__C=6.1, model_LR__max_iter=85;, score=0.772 total time=  13.6s\n",
      "[CV 5/5; 4/6] START model_LR__C=6.1, model_LR__max_iter=85......................\n",
      "[CV 5/5; 4/6] END model_LR__C=6.1, model_LR__max_iter=85;, score=0.766 total time=  14.4s\n",
      "[CV 1/5; 5/6] START model_LR__C=6.2, model_LR__max_iter=81......................\n",
      "[CV 1/5; 5/6] END model_LR__C=6.2, model_LR__max_iter=81;, score=0.763 total time=  13.3s\n",
      "[CV 2/5; 5/6] START model_LR__C=6.2, model_LR__max_iter=81......................\n",
      "[CV 2/5; 5/6] END model_LR__C=6.2, model_LR__max_iter=81;, score=0.753 total time=  14.0s\n",
      "[CV 3/5; 5/6] START model_LR__C=6.2, model_LR__max_iter=81......................\n",
      "[CV 3/5; 5/6] END model_LR__C=6.2, model_LR__max_iter=81;, score=0.768 total time=  13.5s\n",
      "[CV 4/5; 5/6] START model_LR__C=6.2, model_LR__max_iter=81......................\n",
      "[CV 4/5; 5/6] END model_LR__C=6.2, model_LR__max_iter=81;, score=0.772 total time=  13.3s\n",
      "[CV 5/5; 5/6] START model_LR__C=6.2, model_LR__max_iter=81......................\n",
      "[CV 5/5; 5/6] END model_LR__C=6.2, model_LR__max_iter=81;, score=0.765 total time=  14.0s\n",
      "[CV 1/5; 6/6] START model_LR__C=6.2, model_LR__max_iter=85......................\n",
      "[CV 1/5; 6/6] END model_LR__C=6.2, model_LR__max_iter=85;, score=0.762 total time=  14.2s\n",
      "[CV 2/5; 6/6] START model_LR__C=6.2, model_LR__max_iter=85......................\n",
      "[CV 2/5; 6/6] END model_LR__C=6.2, model_LR__max_iter=85;, score=0.754 total time=  16.0s\n",
      "[CV 3/5; 6/6] START model_LR__C=6.2, model_LR__max_iter=85......................\n",
      "[CV 3/5; 6/6] END model_LR__C=6.2, model_LR__max_iter=85;, score=0.769 total time=  14.0s\n",
      "[CV 4/5; 6/6] START model_LR__C=6.2, model_LR__max_iter=85......................\n",
      "[CV 4/5; 6/6] END model_LR__C=6.2, model_LR__max_iter=85;, score=0.772 total time=  14.6s\n",
      "[CV 5/5; 6/6] START model_LR__C=6.2, model_LR__max_iter=85......................\n",
      "[CV 5/5; 6/6] END model_LR__C=6.2, model_LR__max_iter=85;, score=0.764 total time=  14.2s\n",
      "Лучший параметр: {'model_LR__C': 6.1, 'model_LR__max_iter': 81}\n",
      "Лучший показатель F1 для логистической регрессии: 0.764706\n",
      "CPU times: user 6min 22s, sys: 3min 9s, total: 9min 31s\n",
      "Wall time: 7min 29s\n"
     ]
    }
   ],
   "source": [
    "%%time\n",
    "t0 = time()\n",
    "cv_LR.fit(corpus_train, y_train)\n",
    "print(f'Лучший параметр: {cv_LR.best_params_}\\nЛучший показатель F1 для логистической регрессии: {cv_LR.best_score_:.6f}')\n",
    "end_LR = time() - t0"
   ]
  },
  {
   "cell_type": "code",
   "execution_count": 36,
   "metadata": {
    "id": "ESKDlUq7HRXR"
   },
   "outputs": [],
   "source": [
    "res_LR = ['Логическая регрессия', f'{end_LR/60:.6f} минут', round(cv_LR.best_score_, 6)]"
   ]
  },
  {
   "cell_type": "markdown",
   "metadata": {
    "id": "uiaulduxu7O2"
   },
   "source": [
    "### Случайный лес"
   ]
  },
  {
   "cell_type": "code",
   "execution_count": 38,
   "metadata": {
    "id": "YuWSiwSQwi3o"
   },
   "outputs": [],
   "source": [
    "pipe_RF = Pipeline(\n",
    "    [\n",
    "        (\"vect\", TfidfVectorizer(stop_words=list(stopwords))),\n",
    "        (\"model_RF\", RandomForestClassifier(random_state=RANDOM_STATE, class_weight='balanced')),\n",
    "    ]\n",
    ")\n",
    "grid_par_RF = {'model_RF__max_depth': [200, 220],\n",
    "              'model_RF__n_estimators': [300]}\n",
    "cv_RF = GridSearchCV(pipe_RF, grid_par_RF, scoring='f1', cv=3, verbose=10)"
   ]
  },
  {
   "cell_type": "code",
   "execution_count": 39,
   "metadata": {
    "colab": {
     "base_uri": "https://localhost:8080/"
    },
    "id": "JxCuIUFrwi3o",
    "outputId": "eb591088-1255-4a56-f66b-2783f7720bc3"
   },
   "outputs": [
    {
     "name": "stdout",
     "output_type": "stream",
     "text": [
      "Fitting 3 folds for each of 2 candidates, totalling 6 fits\n",
      "[CV 1/3; 1/2] START model_RF__max_depth=200, model_RF__n_estimators=300.........\n",
      "[CV 1/3; 1/2] END model_RF__max_depth=200, model_RF__n_estimators=300;, score=0.596 total time=12.5min\n",
      "[CV 2/3; 1/2] START model_RF__max_depth=200, model_RF__n_estimators=300.........\n",
      "[CV 2/3; 1/2] END model_RF__max_depth=200, model_RF__n_estimators=300;, score=0.585 total time=12.3min\n",
      "[CV 3/3; 1/2] START model_RF__max_depth=200, model_RF__n_estimators=300.........\n",
      "[CV 3/3; 1/2] END model_RF__max_depth=200, model_RF__n_estimators=300;, score=0.604 total time=12.2min\n",
      "[CV 1/3; 2/2] START model_RF__max_depth=220, model_RF__n_estimators=300.........\n",
      "[CV 1/3; 2/2] END model_RF__max_depth=220, model_RF__n_estimators=300;, score=0.603 total time=13.4min\n",
      "[CV 2/3; 2/2] START model_RF__max_depth=220, model_RF__n_estimators=300.........\n",
      "[CV 2/3; 2/2] END model_RF__max_depth=220, model_RF__n_estimators=300;, score=0.589 total time=14.1min\n",
      "[CV 3/3; 2/2] START model_RF__max_depth=220, model_RF__n_estimators=300.........\n",
      "[CV 3/3; 2/2] END model_RF__max_depth=220, model_RF__n_estimators=300;, score=0.607 total time=13.5min\n",
      "Лучший параметр: {'model_RF__max_depth': 220, 'model_RF__n_estimators': 300}\n",
      "Лучший показатель F1 для RandomForest: 0.599922\n",
      "CPU times: user 1h 42min 10s, sys: 6.07 s, total: 1h 42min 16s\n",
      "Wall time: 1h 42min 30s\n"
     ]
    }
   ],
   "source": [
    "%%time\n",
    "t0 = time()\n",
    "cv_RF.fit(corpus_train, y_train)\n",
    "print(f'Лучший параметр: {cv_RF.best_params_}\\nЛучший показатель F1 для RandomForest: {cv_RF.best_score_:.6f}')\n",
    "end_RF = time() - t0"
   ]
  },
  {
   "cell_type": "code",
   "execution_count": 40,
   "metadata": {
    "id": "ZH0CwHlnHwLu"
   },
   "outputs": [],
   "source": [
    "res_RF = ['Случайный лес', f'{end_RF/60:.6f} минут', round(cv_RF.best_score_, 6)]"
   ]
  },
  {
   "cell_type": "markdown",
   "metadata": {
    "id": "W-WHX9iSu7O7"
   },
   "source": [
    "### LightGBM"
   ]
  },
  {
   "cell_type": "code",
   "execution_count": 42,
   "metadata": {
    "id": "cZlgUW_Swi3p"
   },
   "outputs": [],
   "source": [
    "pipe_LGBM = Pipeline(\n",
    "    [\n",
    "        (\"vect\", TfidfVectorizer(stop_words=list(stopwords))),\n",
    "        (\"model_LGBM\", LGBMClassifier(random_state=RANDOM_STATE, class_weight='balanced')),\n",
    "    ]\n",
    ")\n",
    "grid_par_LGBM = {'model_LGBM__max_depth': [45, 50],\n",
    "                'model_LGBM__n_estimators': [300],\n",
    "                'model_LGBM__num_leaves': [170, 200]}\n",
    "cv_LGBM = GridSearchCV(pipe_LGBM, grid_par_LGBM, scoring='f1', cv=3, verbose=10)"
   ]
  },
  {
   "cell_type": "code",
   "execution_count": 43,
   "metadata": {
    "colab": {
     "base_uri": "https://localhost:8080/"
    },
    "id": "QsJMKvCBwi3p",
    "outputId": "3fab362f-b99e-46a1-f722-752b1b957896"
   },
   "outputs": [
    {
     "name": "stdout",
     "output_type": "stream",
     "text": [
      "Fitting 3 folds for each of 4 candidates, totalling 12 fits\n",
      "[CV 1/3; 1/4] START model_LGBM__max_depth=45, model_LGBM__n_estimators=300, model_LGBM__num_leaves=170\n",
      "[CV 1/3; 1/4] END model_LGBM__max_depth=45, model_LGBM__n_estimators=300, model_LGBM__num_leaves=170;, score=0.773 total time= 3.7min\n",
      "[CV 2/3; 1/4] START model_LGBM__max_depth=45, model_LGBM__n_estimators=300, model_LGBM__num_leaves=170\n",
      "[CV 2/3; 1/4] END model_LGBM__max_depth=45, model_LGBM__n_estimators=300, model_LGBM__num_leaves=170;, score=0.771 total time= 3.7min\n",
      "[CV 3/3; 1/4] START model_LGBM__max_depth=45, model_LGBM__n_estimators=300, model_LGBM__num_leaves=170\n",
      "[CV 3/3; 1/4] END model_LGBM__max_depth=45, model_LGBM__n_estimators=300, model_LGBM__num_leaves=170;, score=0.775 total time= 3.7min\n",
      "[CV 1/3; 2/4] START model_LGBM__max_depth=45, model_LGBM__n_estimators=300, model_LGBM__num_leaves=200\n",
      "[CV 1/3; 2/4] END model_LGBM__max_depth=45, model_LGBM__n_estimators=300, model_LGBM__num_leaves=200;, score=0.772 total time= 3.8min\n",
      "[CV 2/3; 2/4] START model_LGBM__max_depth=45, model_LGBM__n_estimators=300, model_LGBM__num_leaves=200\n",
      "[CV 2/3; 2/4] END model_LGBM__max_depth=45, model_LGBM__n_estimators=300, model_LGBM__num_leaves=200;, score=0.769 total time= 3.9min\n",
      "[CV 3/3; 2/4] START model_LGBM__max_depth=45, model_LGBM__n_estimators=300, model_LGBM__num_leaves=200\n",
      "[CV 3/3; 2/4] END model_LGBM__max_depth=45, model_LGBM__n_estimators=300, model_LGBM__num_leaves=200;, score=0.775 total time= 3.8min\n",
      "[CV 1/3; 3/4] START model_LGBM__max_depth=50, model_LGBM__n_estimators=300, model_LGBM__num_leaves=170\n",
      "[CV 1/3; 3/4] END model_LGBM__max_depth=50, model_LGBM__n_estimators=300, model_LGBM__num_leaves=170;, score=0.777 total time= 3.8min\n",
      "[CV 2/3; 3/4] START model_LGBM__max_depth=50, model_LGBM__n_estimators=300, model_LGBM__num_leaves=170\n",
      "[CV 2/3; 3/4] END model_LGBM__max_depth=50, model_LGBM__n_estimators=300, model_LGBM__num_leaves=170;, score=0.770 total time= 3.9min\n",
      "[CV 3/3; 3/4] START model_LGBM__max_depth=50, model_LGBM__n_estimators=300, model_LGBM__num_leaves=170\n",
      "[CV 3/3; 3/4] END model_LGBM__max_depth=50, model_LGBM__n_estimators=300, model_LGBM__num_leaves=170;, score=0.778 total time= 3.9min\n",
      "[CV 1/3; 4/4] START model_LGBM__max_depth=50, model_LGBM__n_estimators=300, model_LGBM__num_leaves=200\n",
      "[CV 1/3; 4/4] END model_LGBM__max_depth=50, model_LGBM__n_estimators=300, model_LGBM__num_leaves=200;, score=0.774 total time= 4.0min\n",
      "[CV 2/3; 4/4] START model_LGBM__max_depth=50, model_LGBM__n_estimators=300, model_LGBM__num_leaves=200\n",
      "[CV 2/3; 4/4] END model_LGBM__max_depth=50, model_LGBM__n_estimators=300, model_LGBM__num_leaves=200;, score=0.770 total time= 4.0min\n",
      "[CV 3/3; 4/4] START model_LGBM__max_depth=50, model_LGBM__n_estimators=300, model_LGBM__num_leaves=200\n",
      "[CV 3/3; 4/4] END model_LGBM__max_depth=50, model_LGBM__n_estimators=300, model_LGBM__num_leaves=200;, score=0.777 total time= 4.0min\n",
      "Лучший параметр: {'model_LGBM__max_depth': 50, 'model_LGBM__n_estimators': 300, 'model_LGBM__num_leaves': 170}\n",
      "Лучший показатель F1 для LightGBM: 0.775069\n",
      "CPU times: user 51min 5s, sys: 5.58 s, total: 51min 11s\n",
      "Wall time: 51min 10s\n"
     ]
    }
   ],
   "source": [
    "%%time\n",
    "t0 = time()\n",
    "cv_LGBM.fit(corpus_train, y_train)\n",
    "print(f'Лучший параметр: {cv_LGBM.best_params_}\\nЛучший показатель F1 для LightGBM: {cv_LGBM.best_score_:.6f}')\n",
    "end_LGBM = time() - t0"
   ]
  },
  {
   "cell_type": "code",
   "execution_count": 44,
   "metadata": {
    "id": "TnvS8FJ2ICfw"
   },
   "outputs": [],
   "source": [
    "res_LGBM = ['LightGBM', f'{end_LGBM/60:.6f} минут', round(cv_LGBM.best_score_, 6)]"
   ]
  },
  {
   "cell_type": "code",
   "execution_count": 45,
   "metadata": {
    "colab": {
     "base_uri": "https://localhost:8080/"
    },
    "id": "ma7hyL916Fsf",
    "outputId": "1a589e3c-be02-4996-b470-dfa339b778e1"
   },
   "outputs": [
    {
     "data": {
      "text/plain": [
       "['LightGBM', '51.180095 минут', 0.775069]"
      ]
     },
     "execution_count": 45,
     "metadata": {},
     "output_type": "execute_result"
    }
   ],
   "source": [
    "res_LGBM"
   ]
  },
  {
   "cell_type": "markdown",
   "metadata": {
    "id": "PwnxSu3Qu7O7"
   },
   "source": [
    "### Векторная классификация линейной поддержки"
   ]
  },
  {
   "cell_type": "code",
   "execution_count": 47,
   "metadata": {
    "id": "4wP04zOKwi3q"
   },
   "outputs": [],
   "source": [
    "pipe_LSVC = Pipeline(\n",
    "    [\n",
    "        (\"vect\", TfidfVectorizer(stop_words=list(stopwords))),\n",
    "        (\"model_LSVC\", LinearSVC(random_state=RANDOM_STATE, class_weight='balanced')),\n",
    "    ]\n",
    ")\n",
    "grid_par_LSVC = {'model_LSVC__C': [0.99, 1, 1.01],\n",
    "                 'model_LSVC__max_iter': [4, 5, 6]}\n",
    "cv_LSVC = GridSearchCV(pipe_LSVC, grid_par_LSVC, scoring='f1', verbose=10)"
   ]
  },
  {
   "cell_type": "code",
   "execution_count": 48,
   "metadata": {
    "colab": {
     "base_uri": "https://localhost:8080/"
    },
    "id": "kR8uGCxcwi3q",
    "outputId": "06c69a4f-ca7f-44d4-a959-e4a15bd8e4c2"
   },
   "outputs": [
    {
     "name": "stdout",
     "output_type": "stream",
     "text": [
      "Fitting 5 folds for each of 9 candidates, totalling 45 fits\n",
      "[CV 1/5; 1/9] START model_LSVC__C=0.99, model_LSVC__max_iter=4..................\n",
      "[CV 1/5; 1/9] END model_LSVC__C=0.99, model_LSVC__max_iter=4;, score=0.782 total time=   6.7s\n",
      "[CV 2/5; 1/9] START model_LSVC__C=0.99, model_LSVC__max_iter=4..................\n",
      "[CV 2/5; 1/9] END model_LSVC__C=0.99, model_LSVC__max_iter=4;, score=0.765 total time=   8.0s\n",
      "[CV 3/5; 1/9] START model_LSVC__C=0.99, model_LSVC__max_iter=4..................\n",
      "[CV 3/5; 1/9] END model_LSVC__C=0.99, model_LSVC__max_iter=4;, score=0.790 total time=   6.5s\n",
      "[CV 4/5; 1/9] START model_LSVC__C=0.99, model_LSVC__max_iter=4..................\n",
      "[CV 4/5; 1/9] END model_LSVC__C=0.99, model_LSVC__max_iter=4;, score=0.793 total time=   7.9s\n",
      "[CV 5/5; 1/9] START model_LSVC__C=0.99, model_LSVC__max_iter=4..................\n",
      "[CV 5/5; 1/9] END model_LSVC__C=0.99, model_LSVC__max_iter=4;, score=0.782 total time=   7.7s\n",
      "[CV 1/5; 2/9] START model_LSVC__C=0.99, model_LSVC__max_iter=5..................\n",
      "[CV 1/5; 2/9] END model_LSVC__C=0.99, model_LSVC__max_iter=5;, score=0.788 total time=   8.0s\n",
      "[CV 2/5; 2/9] START model_LSVC__C=0.99, model_LSVC__max_iter=5..................\n",
      "[CV 2/5; 2/9] END model_LSVC__C=0.99, model_LSVC__max_iter=5;, score=0.759 total time=   6.9s\n",
      "[CV 3/5; 2/9] START model_LSVC__C=0.99, model_LSVC__max_iter=5..................\n",
      "[CV 3/5; 2/9] END model_LSVC__C=0.99, model_LSVC__max_iter=5;, score=0.772 total time=   7.3s\n",
      "[CV 4/5; 2/9] START model_LSVC__C=0.99, model_LSVC__max_iter=5..................\n",
      "[CV 4/5; 2/9] END model_LSVC__C=0.99, model_LSVC__max_iter=5;, score=0.794 total time=   7.4s\n",
      "[CV 5/5; 2/9] START model_LSVC__C=0.99, model_LSVC__max_iter=5..................\n",
      "[CV 5/5; 2/9] END model_LSVC__C=0.99, model_LSVC__max_iter=5;, score=0.776 total time=   6.9s\n",
      "[CV 1/5; 3/9] START model_LSVC__C=0.99, model_LSVC__max_iter=6..................\n",
      "[CV 1/5; 3/9] END model_LSVC__C=0.99, model_LSVC__max_iter=6;, score=0.776 total time=   8.0s\n",
      "[CV 2/5; 3/9] START model_LSVC__C=0.99, model_LSVC__max_iter=6..................\n",
      "[CV 2/5; 3/9] END model_LSVC__C=0.99, model_LSVC__max_iter=6;, score=0.763 total time=   6.4s\n",
      "[CV 3/5; 3/9] START model_LSVC__C=0.99, model_LSVC__max_iter=6..................\n",
      "[CV 3/5; 3/9] END model_LSVC__C=0.99, model_LSVC__max_iter=6;, score=0.769 total time=   7.9s\n",
      "[CV 4/5; 3/9] START model_LSVC__C=0.99, model_LSVC__max_iter=6..................\n",
      "[CV 4/5; 3/9] END model_LSVC__C=0.99, model_LSVC__max_iter=6;, score=0.773 total time=   6.4s\n",
      "[CV 5/5; 3/9] START model_LSVC__C=0.99, model_LSVC__max_iter=6..................\n",
      "[CV 5/5; 3/9] END model_LSVC__C=0.99, model_LSVC__max_iter=6;, score=0.775 total time=   7.9s\n",
      "[CV 1/5; 4/9] START model_LSVC__C=1, model_LSVC__max_iter=4.....................\n",
      "[CV 1/5; 4/9] END model_LSVC__C=1, model_LSVC__max_iter=4;, score=0.787 total time=   6.2s\n",
      "[CV 2/5; 4/9] START model_LSVC__C=1, model_LSVC__max_iter=4.....................\n",
      "[CV 2/5; 4/9] END model_LSVC__C=1, model_LSVC__max_iter=4;, score=0.766 total time=   7.9s\n",
      "[CV 3/5; 4/9] START model_LSVC__C=1, model_LSVC__max_iter=4.....................\n",
      "[CV 3/5; 4/9] END model_LSVC__C=1, model_LSVC__max_iter=4;, score=0.791 total time=   6.3s\n",
      "[CV 4/5; 4/9] START model_LSVC__C=1, model_LSVC__max_iter=4.....................\n",
      "[CV 4/5; 4/9] END model_LSVC__C=1, model_LSVC__max_iter=4;, score=0.791 total time=   7.9s\n",
      "[CV 5/5; 4/9] START model_LSVC__C=1, model_LSVC__max_iter=4.....................\n",
      "[CV 5/5; 4/9] END model_LSVC__C=1, model_LSVC__max_iter=4;, score=0.783 total time=   6.3s\n",
      "[CV 1/5; 5/9] START model_LSVC__C=1, model_LSVC__max_iter=5.....................\n",
      "[CV 1/5; 5/9] END model_LSVC__C=1, model_LSVC__max_iter=5;, score=0.786 total time=   7.9s\n",
      "[CV 2/5; 5/9] START model_LSVC__C=1, model_LSVC__max_iter=5.....................\n",
      "[CV 2/5; 5/9] END model_LSVC__C=1, model_LSVC__max_iter=5;, score=0.769 total time=   6.4s\n",
      "[CV 3/5; 5/9] START model_LSVC__C=1, model_LSVC__max_iter=5.....................\n",
      "[CV 3/5; 5/9] END model_LSVC__C=1, model_LSVC__max_iter=5;, score=0.788 total time=   8.0s\n",
      "[CV 4/5; 5/9] START model_LSVC__C=1, model_LSVC__max_iter=5.....................\n",
      "[CV 4/5; 5/9] END model_LSVC__C=1, model_LSVC__max_iter=5;, score=0.793 total time=   7.0s\n",
      "[CV 5/5; 5/9] START model_LSVC__C=1, model_LSVC__max_iter=5.....................\n",
      "[CV 5/5; 5/9] END model_LSVC__C=1, model_LSVC__max_iter=5;, score=0.783 total time=   7.4s\n",
      "[CV 1/5; 6/9] START model_LSVC__C=1, model_LSVC__max_iter=6.....................\n",
      "[CV 1/5; 6/9] END model_LSVC__C=1, model_LSVC__max_iter=6;, score=0.783 total time=   7.6s\n",
      "[CV 2/5; 6/9] START model_LSVC__C=1, model_LSVC__max_iter=6.....................\n",
      "[CV 2/5; 6/9] END model_LSVC__C=1, model_LSVC__max_iter=6;, score=0.772 total time=   6.8s\n",
      "[CV 3/5; 6/9] START model_LSVC__C=1, model_LSVC__max_iter=6.....................\n",
      "[CV 3/5; 6/9] END model_LSVC__C=1, model_LSVC__max_iter=6;, score=0.785 total time=   7.8s\n",
      "[CV 4/5; 6/9] START model_LSVC__C=1, model_LSVC__max_iter=6.....................\n",
      "[CV 4/5; 6/9] END model_LSVC__C=1, model_LSVC__max_iter=6;, score=0.783 total time=   6.3s\n",
      "[CV 5/5; 6/9] START model_LSVC__C=1, model_LSVC__max_iter=6.....................\n",
      "[CV 5/5; 6/9] END model_LSVC__C=1, model_LSVC__max_iter=6;, score=0.781 total time=   7.8s\n",
      "[CV 1/5; 7/9] START model_LSVC__C=1.01, model_LSVC__max_iter=4..................\n",
      "[CV 1/5; 7/9] END model_LSVC__C=1.01, model_LSVC__max_iter=4;, score=0.781 total time=   7.7s\n",
      "[CV 2/5; 7/9] START model_LSVC__C=1.01, model_LSVC__max_iter=4..................\n",
      "[CV 2/5; 7/9] END model_LSVC__C=1.01, model_LSVC__max_iter=4;, score=0.766 total time=   7.8s\n",
      "[CV 3/5; 7/9] START model_LSVC__C=1.01, model_LSVC__max_iter=4..................\n",
      "[CV 3/5; 7/9] END model_LSVC__C=1.01, model_LSVC__max_iter=4;, score=0.790 total time=   6.3s\n",
      "[CV 4/5; 7/9] START model_LSVC__C=1.01, model_LSVC__max_iter=4..................\n",
      "[CV 4/5; 7/9] END model_LSVC__C=1.01, model_LSVC__max_iter=4;, score=0.797 total time=   8.0s\n",
      "[CV 5/5; 7/9] START model_LSVC__C=1.01, model_LSVC__max_iter=4..................\n",
      "[CV 5/5; 7/9] END model_LSVC__C=1.01, model_LSVC__max_iter=4;, score=0.782 total time=   6.3s\n",
      "[CV 1/5; 8/9] START model_LSVC__C=1.01, model_LSVC__max_iter=5..................\n",
      "[CV 1/5; 8/9] END model_LSVC__C=1.01, model_LSVC__max_iter=5;, score=0.776 total time=   8.0s\n",
      "[CV 2/5; 8/9] START model_LSVC__C=1.01, model_LSVC__max_iter=5..................\n",
      "[CV 2/5; 8/9] END model_LSVC__C=1.01, model_LSVC__max_iter=5;, score=0.748 total time=   6.8s\n",
      "[CV 3/5; 8/9] START model_LSVC__C=1.01, model_LSVC__max_iter=5..................\n",
      "[CV 3/5; 8/9] END model_LSVC__C=1.01, model_LSVC__max_iter=5;, score=0.771 total time=   7.5s\n",
      "[CV 4/5; 8/9] START model_LSVC__C=1.01, model_LSVC__max_iter=5..................\n",
      "[CV 4/5; 8/9] END model_LSVC__C=1.01, model_LSVC__max_iter=5;, score=0.794 total time=   7.3s\n",
      "[CV 5/5; 8/9] START model_LSVC__C=1.01, model_LSVC__max_iter=5..................\n",
      "[CV 5/5; 8/9] END model_LSVC__C=1.01, model_LSVC__max_iter=5;, score=0.713 total time=   6.8s\n",
      "[CV 1/5; 9/9] START model_LSVC__C=1.01, model_LSVC__max_iter=6..................\n",
      "[CV 1/5; 9/9] END model_LSVC__C=1.01, model_LSVC__max_iter=6;, score=0.782 total time=   7.6s\n",
      "[CV 2/5; 9/9] START model_LSVC__C=1.01, model_LSVC__max_iter=6..................\n",
      "[CV 2/5; 9/9] END model_LSVC__C=1.01, model_LSVC__max_iter=6;, score=0.768 total time=   6.5s\n",
      "[CV 3/5; 9/9] START model_LSVC__C=1.01, model_LSVC__max_iter=6..................\n",
      "[CV 3/5; 9/9] END model_LSVC__C=1.01, model_LSVC__max_iter=6;, score=0.788 total time=   7.8s\n",
      "[CV 4/5; 9/9] START model_LSVC__C=1.01, model_LSVC__max_iter=6..................\n",
      "[CV 4/5; 9/9] END model_LSVC__C=1.01, model_LSVC__max_iter=6;, score=0.794 total time=   6.4s\n",
      "[CV 5/5; 9/9] START model_LSVC__C=1.01, model_LSVC__max_iter=6..................\n",
      "[CV 5/5; 9/9] END model_LSVC__C=1.01, model_LSVC__max_iter=6;, score=0.783 total time=   7.9s\n",
      "Лучший параметр: {'model_LSVC__C': 1, 'model_LSVC__max_iter': 5}\n",
      "Лучший показатель F1 для LinearSVC: 0.784006\n",
      "CPU times: user 5min 30s, sys: 777 ms, total: 5min 31s\n",
      "Wall time: 5min 33s\n"
     ]
    }
   ],
   "source": [
    "%%time\n",
    "t0 = time()\n",
    "cv_LSVC.fit(corpus_train, y_train)\n",
    "print(f'Лучший параметр: {cv_LSVC.best_params_}\\nЛучший показатель F1 для LinearSVC: {cv_LSVC.best_score_:.6f}')\n",
    "end_LSVC = time() - t0"
   ]
  },
  {
   "cell_type": "code",
   "execution_count": 49,
   "metadata": {
    "id": "NYE3WnGMIOeR"
   },
   "outputs": [],
   "source": [
    "res_LSVC = ['LinearSVC', f'{end_LSVC/60:.6f} минут', round(cv_LSVC.best_score_, 6)]"
   ]
  },
  {
   "cell_type": "code",
   "execution_count": 50,
   "metadata": {
    "colab": {
     "base_uri": "https://localhost:8080/",
     "height": 206
    },
    "id": "bIHPWc_rGYyg",
    "outputId": "c611d9e5-b58c-4182-ea47-ee6cd28abb63"
   },
   "outputs": [
    {
     "data": {
      "text/html": [
       "\n",
       "  <div id=\"df-40f92dfe-c088-4455-a028-bb55697857fc\">\n",
       "    <div class=\"colab-df-container\">\n",
       "      <div>\n",
       "<style scoped>\n",
       "    .dataframe tbody tr th:only-of-type {\n",
       "        vertical-align: middle;\n",
       "    }\n",
       "\n",
       "    .dataframe tbody tr th {\n",
       "        vertical-align: top;\n",
       "    }\n",
       "\n",
       "    .dataframe thead th {\n",
       "        text-align: right;\n",
       "    }\n",
       "</style>\n",
       "<table border=\"1\" class=\"dataframe\">\n",
       "  <thead>\n",
       "    <tr style=\"text-align: right;\">\n",
       "      <th></th>\n",
       "      <th>Время работы</th>\n",
       "      <th>F1</th>\n",
       "    </tr>\n",
       "    <tr>\n",
       "      <th>Модель</th>\n",
       "      <th></th>\n",
       "      <th></th>\n",
       "    </tr>\n",
       "  </thead>\n",
       "  <tbody>\n",
       "    <tr>\n",
       "      <th>Логическая регрессия</th>\n",
       "      <td>7.484162 минут</td>\n",
       "      <td>0.764706</td>\n",
       "    </tr>\n",
       "    <tr>\n",
       "      <th>Случайный лес</th>\n",
       "      <td>102.501299 минут</td>\n",
       "      <td>0.599922</td>\n",
       "    </tr>\n",
       "    <tr>\n",
       "      <th>LightGBM</th>\n",
       "      <td>51.180095 минут</td>\n",
       "      <td>0.775069</td>\n",
       "    </tr>\n",
       "    <tr>\n",
       "      <th>LinearSVC</th>\n",
       "      <td>5.556641 минут</td>\n",
       "      <td>0.784006</td>\n",
       "    </tr>\n",
       "  </tbody>\n",
       "</table>\n",
       "</div>\n",
       "      <button class=\"colab-df-convert\" onclick=\"convertToInteractive('df-40f92dfe-c088-4455-a028-bb55697857fc')\"\n",
       "              title=\"Convert this dataframe to an interactive table.\"\n",
       "              style=\"display:none;\">\n",
       "        \n",
       "  <svg xmlns=\"http://www.w3.org/2000/svg\" height=\"24px\"viewBox=\"0 0 24 24\"\n",
       "       width=\"24px\">\n",
       "    <path d=\"M0 0h24v24H0V0z\" fill=\"none\"/>\n",
       "    <path d=\"M18.56 5.44l.94 2.06.94-2.06 2.06-.94-2.06-.94-.94-2.06-.94 2.06-2.06.94zm-11 1L8.5 8.5l.94-2.06 2.06-.94-2.06-.94L8.5 2.5l-.94 2.06-2.06.94zm10 10l.94 2.06.94-2.06 2.06-.94-2.06-.94-.94-2.06-.94 2.06-2.06.94z\"/><path d=\"M17.41 7.96l-1.37-1.37c-.4-.4-.92-.59-1.43-.59-.52 0-1.04.2-1.43.59L10.3 9.45l-7.72 7.72c-.78.78-.78 2.05 0 2.83L4 21.41c.39.39.9.59 1.41.59.51 0 1.02-.2 1.41-.59l7.78-7.78 2.81-2.81c.8-.78.8-2.07 0-2.86zM5.41 20L4 18.59l7.72-7.72 1.47 1.35L5.41 20z\"/>\n",
       "  </svg>\n",
       "      </button>\n",
       "      \n",
       "  <style>\n",
       "    .colab-df-container {\n",
       "      display:flex;\n",
       "      flex-wrap:wrap;\n",
       "      gap: 12px;\n",
       "    }\n",
       "\n",
       "    .colab-df-convert {\n",
       "      background-color: #E8F0FE;\n",
       "      border: none;\n",
       "      border-radius: 50%;\n",
       "      cursor: pointer;\n",
       "      display: none;\n",
       "      fill: #1967D2;\n",
       "      height: 32px;\n",
       "      padding: 0 0 0 0;\n",
       "      width: 32px;\n",
       "    }\n",
       "\n",
       "    .colab-df-convert:hover {\n",
       "      background-color: #E2EBFA;\n",
       "      box-shadow: 0px 1px 2px rgba(60, 64, 67, 0.3), 0px 1px 3px 1px rgba(60, 64, 67, 0.15);\n",
       "      fill: #174EA6;\n",
       "    }\n",
       "\n",
       "    [theme=dark] .colab-df-convert {\n",
       "      background-color: #3B4455;\n",
       "      fill: #D2E3FC;\n",
       "    }\n",
       "\n",
       "    [theme=dark] .colab-df-convert:hover {\n",
       "      background-color: #434B5C;\n",
       "      box-shadow: 0px 1px 3px 1px rgba(0, 0, 0, 0.15);\n",
       "      filter: drop-shadow(0px 1px 2px rgba(0, 0, 0, 0.3));\n",
       "      fill: #FFFFFF;\n",
       "    }\n",
       "  </style>\n",
       "\n",
       "      <script>\n",
       "        const buttonEl =\n",
       "          document.querySelector('#df-40f92dfe-c088-4455-a028-bb55697857fc button.colab-df-convert');\n",
       "        buttonEl.style.display =\n",
       "          google.colab.kernel.accessAllowed ? 'block' : 'none';\n",
       "\n",
       "        async function convertToInteractive(key) {\n",
       "          const element = document.querySelector('#df-40f92dfe-c088-4455-a028-bb55697857fc');\n",
       "          const dataTable =\n",
       "            await google.colab.kernel.invokeFunction('convertToInteractive',\n",
       "                                                     [key], {});\n",
       "          if (!dataTable) return;\n",
       "\n",
       "          const docLinkHtml = 'Like what you see? Visit the ' +\n",
       "            '<a target=\"_blank\" href=https://colab.research.google.com/notebooks/data_table.ipynb>data table notebook</a>'\n",
       "            + ' to learn more about interactive tables.';\n",
       "          element.innerHTML = '';\n",
       "          dataTable['output_type'] = 'display_data';\n",
       "          await google.colab.output.renderOutput(dataTable, element);\n",
       "          const docLink = document.createElement('div');\n",
       "          docLink.innerHTML = docLinkHtml;\n",
       "          element.appendChild(docLink);\n",
       "        }\n",
       "      </script>\n",
       "    </div>\n",
       "  </div>\n",
       "  "
      ],
      "text/plain": [
       "                          Время работы        F1\n",
       "Модель                                          \n",
       "Логическая регрессия    7.484162 минут  0.764706\n",
       "Случайный лес         102.501299 минут  0.599922\n",
       "LightGBM               51.180095 минут  0.775069\n",
       "LinearSVC               5.556641 минут  0.784006"
      ]
     },
     "execution_count": 50,
     "metadata": {},
     "output_type": "execute_result"
    }
   ],
   "source": [
    "res_tab = [res_LR, res_RF, res_LGBM, res_LSVC]\n",
    "colum = ['Модель', 'Время работы', 'F1']\n",
    "res_df = pd.DataFrame(res_tab,  columns=colum)\n",
    "res_df = res_df.set_index('Модель')\n",
    "res_df"
   ]
  },
  {
   "cell_type": "markdown",
   "metadata": {
    "id": "-MV7LDKeu7O7"
   },
   "source": [
    "**Вывод по пункту 2:**    \n",
    "\n",
    "Мы обучили четыре модели:    \n",
    "+ модель логической регрессии    \n",
    "+ модель ансамбля деревьев    \n",
    "+ модель градиентного бустинга     \n",
    "+ модель опорных векторов     \n",
    "\n",
    "Лучшей себя показала модель опорных векторов LinearSVC с метрикой F1 = 0.779422. К тому же она самая быстрая."
   ]
  },
  {
   "cell_type": "markdown",
   "metadata": {
    "id": "Mh-701d3u7O7"
   },
   "source": [
    "## Тестирование лучшей модели и проверка на адекватность"
   ]
  },
  {
   "cell_type": "markdown",
   "metadata": {
    "id": "o4qroFmNu7O7"
   },
   "source": [
    "**Посмотрим на метрику Dummy-модели.**"
   ]
  },
  {
   "cell_type": "code",
   "execution_count": 51,
   "metadata": {
    "colab": {
     "base_uri": "https://localhost:8080/"
    },
    "id": "u1u5OJV1u7O7",
    "outputId": "8840c733-2071-4154-c4d3-874067ddc0d8"
   },
   "outputs": [
    {
     "name": "stdout",
     "output_type": "stream",
     "text": [
      "Показатели F1 модели Dummy = 0.1845\n"
     ]
    }
   ],
   "source": [
    "model_dummy = DummyClassifier(strategy=\"constant\", random_state=RANDOM_STATE, constant=1 )\n",
    "model_dummy = model_dummy.fit(corpus_train, y_train)\n",
    "pred_test_dum = model_dummy.predict(corpus_test)\n",
    "print(f'Показатели F1 модели Dummy = {f1_score(y_test, pred_test_dum):.4f}')"
   ]
  },
  {
   "cell_type": "code",
   "execution_count": 53,
   "metadata": {
    "colab": {
     "base_uri": "https://localhost:8080/"
    },
    "id": "OS8sbSl_wi3s",
    "outputId": "942e2f20-d37c-4afd-9cf6-5d402a68a6b5"
   },
   "outputs": [
    {
     "name": "stdout",
     "output_type": "stream",
     "text": [
      "Показатели F1 модели LinearSVC = 0.7983\n"
     ]
    }
   ],
   "source": [
    "pred_test_LSVC = cv_LSVC.best_estimator_.predict(corpus_test)\n",
    "print(f'Показатели F1 модели LinearSVC = {f1_score(y_test, pred_test_LSVC):.4f}')"
   ]
  },
  {
   "cell_type": "code",
   "execution_count": 54,
   "metadata": {
    "colab": {
     "base_uri": "https://localhost:8080/",
     "height": 455
    },
    "id": "1r4E4F9Uu7O8",
    "outputId": "4e971f90-c984-45f2-c305-c9d34f906853"
   },
   "outputs": [
    {
     "data": {
      "image/png": "[encoded data removed]",
      "text/plain": [
       "<Figure size 640x480 with 2 Axes>"
      ]
     },
     "metadata": {},
     "output_type": "display_data"
    }
   ],
   "source": [
    "cm = confusion_matrix(y_test, pred_test_LSVC)\n",
    "ConfusionMatrixDisplay(confusion_matrix=cm).plot();"
   ]
  },
  {
   "cell_type": "markdown",
   "metadata": {
    "id": "RilwoQ0cJKMV"
   },
   "source": [
    "**Вывод по пункту 3:**       \n",
    "+ показатели F1 модели LinearSVC = 0.7983, что больше 0,75.     \n",
    "+ модель можносчитать адекватной     \n",
    "+ распределение классов у нас идёт 9:1. LinearSVC-модель немного лучше предсказыват 0. FP и FN примерно одинаковые.    \n"
   ]
  },
  {
   "cell_type": "markdown",
   "metadata": {
    "id": "qXMvcRWxu7O8"
   },
   "source": [
    "## Проект для \"Викишоп\" с BERT"
   ]
  },
  {
   "cell_type": "code",
   "execution_count": 55,
   "metadata": {
    "id": "Gje3EMcwwi3t"
   },
   "outputs": [],
   "source": [
    "device = torch.device(\"cuda\" if torch.cuda.is_available() else \"cpu\")"
   ]
  },
  {
   "cell_type": "markdown",
   "metadata": {
    "id": "zHheZYHyu7O8"
   },
   "source": [
    "**Учитывая совсем скромные характеристики моего компьютера, я предположил, что создание эмбеддингов и обучение на них продлится как раз до окончания нашего обучения, примерно до осени))) Поэтому я взял выборку в 1000 строк. GPU добавить не имею возможности, у меня интегрированная видеокарта.(**"
   ]
  },
  {
   "cell_type": "code",
   "execution_count": 56,
   "metadata": {
    "id": "_PYJYDMBu7O8"
   },
   "outputs": [],
   "source": [
    "# df_bert = data.sample(1000).reset_index(drop=True)\n",
    "df_bert = data.copy()"
   ]
  },
  {
   "cell_type": "markdown",
   "metadata": {
    "id": "ZSXHZfHq9-EE"
   },
   "source": [
    "**При токенизации оставим максимальную длину 512, так как она не может быть больше 512. Выставил параметр truncation=True.\n",
    "'Token indices sequence length is longer than the specified maximum sequence length for this model (718 > 512). Running this sequence through the model will result in indexing errors'**"
   ]
  },
  {
   "cell_type": "code",
   "execution_count": 57,
   "metadata": {
    "colab": {
     "base_uri": "https://localhost:8080/",
     "height": 145,
     "referenced_widgets": [
      "4f18ecdf53ac4b1691c137520f6dd18e",
      "1acd5487ca7c46aebbdcf1c16712a198",
      "d657abcff5954e34895906df8bfa317e",
      "47c81d9489f44dd887dc631c646b9b04",
      "4197c985d6104fa0af56c641aa04dd36",
      "09b611a1f6854e789c219bb0b867ef9d",
      "34e70b5477c0448db7e0bdad8af4fd9e",
      "1c3708222bf749fab78535cd6f6f23ae",
      "aa7c107d733d41aea395ba74302d19aa",
      "962db421fc184753b2e8ca56ec3c7091",
      "87ff96934b3448edbdcdddbcb2845b8b",
      "e90a83ff41114139a49e414074784f25",
      "55d811d3cde04061bd7c65ecb275892d",
      "3c70830dffe44c369e9799c70fe31f74",
      "62741489a0a54443a76a02ef717f556e",
      "362292822cd94cc1a7182349ca42987b",
      "403a5382c2054a4096f96993e2ee8aec",
      "4d5fbd8485754d34a36f9f5c8dbd6d27",
      "e5f2ceb7b4ee426e89bb4d9db8e386d3",
      "2b5cc204dab5437087fd1f4d1351ab4a",
      "d7472edf76504e2e8c0eb3662a40d259",
      "68a329544a1a41b7a82bb21935989e9c",
      "9ffb8b32f40b4577aa98a9ebbdb6b90f",
      "6955211eeb4b4404b7b6fce1685e4ed9",
      "7012d73af63b4e9782b8d772ed154f39",
      "a2a275d209b0421ca91e370df2345ed4",
      "54348a7233394793ad5370c43b7d5e58",
      "8cebaf7c5f594200a074112d2a3b6042",
      "1248d63e2ed94e248375bd824db5f8b4",
      "cffe91cc14b94dd2b773538feac26090",
      "848287d97c2143e1aae77d3b735f1bed",
      "de866c1bd6f54782803967321399b14d",
      "06973c31c6f94ce19b2109faa804f5f8",
      "06116b00adff462886e951284d887e93",
      "a46138001ebb481082275f44a6385029",
      "d589a9b452b74cdd9f7ba437b74ca692",
      "0218763238f84d34b81c7a73f50a7416",
      "ee6301e6667d400fbfa83fd277f97c3d",
      "5208aece02d0436fb3f8e399774cd081",
      "824341317826426894a3ae848b73ac9e",
      "7c5aef0ae6d94605a3f33fb3c727b21c",
      "de69d27483aa46ceadee657fe247aa0b",
      "2cc6a19c31d1424394f23bd2a1caf050",
      "e42867da9ca8486aa484e0d514783791"
     ]
    },
    "id": "iNT13vfru7O8",
    "outputId": "b1a637c2-74e6-416b-fe19-1aec1de8e5f2"
   },
   "outputs": [
    {
     "data": {
      "application/vnd.jupyter.widget-view+json": {
       "model_id": "4f18ecdf53ac4b1691c137520f6dd18e",
       "version_major": 2,
       "version_minor": 0
      },
      "text/plain": [
       "Downloading (…)okenizer_config.json:   0%|          | 0.00/174 [00:00<?, ?B/s]"
      ]
     },
     "metadata": {},
     "output_type": "display_data"
    },
    {
     "data": {
      "application/vnd.jupyter.widget-view+json": {
       "model_id": "e90a83ff41114139a49e414074784f25",
       "version_major": 2,
       "version_minor": 0
      },
      "text/plain": [
       "Downloading (…)lve/main/config.json:   0%|          | 0.00/811 [00:00<?, ?B/s]"
      ]
     },
     "metadata": {},
     "output_type": "display_data"
    },
    {
     "data": {
      "application/vnd.jupyter.widget-view+json": {
       "model_id": "9ffb8b32f40b4577aa98a9ebbdb6b90f",
       "version_major": 2,
       "version_minor": 0
      },
      "text/plain": [
       "Downloading (…)solve/main/vocab.txt:   0%|          | 0.00/232k [00:00<?, ?B/s]"
      ]
     },
     "metadata": {},
     "output_type": "display_data"
    },
    {
     "data": {
      "application/vnd.jupyter.widget-view+json": {
       "model_id": "06116b00adff462886e951284d887e93",
       "version_major": 2,
       "version_minor": 0
      },
      "text/plain": [
       "Downloading (…)cial_tokens_map.json:   0%|          | 0.00/112 [00:00<?, ?B/s]"
      ]
     },
     "metadata": {},
     "output_type": "display_data"
    }
   ],
   "source": [
    "tokenizer = transformers.AutoTokenizer.from_pretrained('unitary/toxic-bert')\n",
    "\n",
    "tokenized = df_bert['text'].apply(\n",
    "    lambda x: tokenizer.encode(x, add_special_tokens=True, truncation=True))\n",
    "\n",
    "max_len = 0\n",
    "for i in tokenized.values:\n",
    "    if len(i) > max_len:\n",
    "        max_len = len(i)\n",
    "\n",
    "padded = np.array([i + [0]*(max_len - len(i)) for i in tokenized.values])\n",
    "\n",
    "attention_mask = np.where(padded != 0, 1, 0)"
   ]
  },
  {
   "cell_type": "code",
   "execution_count": 58,
   "metadata": {
    "colab": {
     "base_uri": "https://localhost:8080/",
     "height": 121,
     "referenced_widgets": [
      "a6296bf9654b496683ee90250e42c790",
      "46f3b898787546dcb21ceac96fbf96de",
      "a45aa131de4a4090bdf7e8f915e565af",
      "274412b82d224c2497d9073cd51b0a66",
      "d46fd5d690b64c34982895a479b90540",
      "0a245c29ad0f4b558adc9f4f2853a13c",
      "2ec9dca25bde49a3a3d04415bde2d0a7",
      "61efc7f312ba440993e77f6b29d5a1a4",
      "987a1ca20505483187f23416acc7d180",
      "a829d7d93583418a99e140972cfd521e",
      "236fe2d2dd014b269ae798521d95c89a"
     ]
    },
    "id": "-OArQheau7O8",
    "outputId": "20e17460-954d-4200-a2c3-d443807a25d5",
    "scrolled": true
   },
   "outputs": [
    {
     "data": {
      "application/vnd.jupyter.widget-view+json": {
       "model_id": "a6296bf9654b496683ee90250e42c790",
       "version_major": 2,
       "version_minor": 0
      },
      "text/plain": [
       "Downloading pytorch_model.bin:   0%|          | 0.00/438M [00:00<?, ?B/s]"
      ]
     },
     "metadata": {},
     "output_type": "display_data"
    },
    {
     "name": "stderr",
     "output_type": "stream",
     "text": [
      "Some weights of the model checkpoint at unitary/toxic-bert were not used when initializing BertModel: ['classifier.bias', 'classifier.weight']\n",
      "- This IS expected if you are initializing BertModel from the checkpoint of a model trained on another task or with another architecture (e.g. initializing a BertForSequenceClassification model from a BertForPreTraining model).\n",
      "- This IS NOT expected if you are initializing BertModel from the checkpoint of a model that you expect to be exactly identical (initializing a BertForSequenceClassification model from a BertForSequenceClassification model).\n"
     ]
    }
   ],
   "source": [
    "model = transformers.AutoModel.from_pretrained('unitary/toxic-bert').to(device)"
   ]
  },
  {
   "cell_type": "code",
   "execution_count": 61,
   "metadata": {
    "colab": {
     "base_uri": "https://localhost:8080/",
     "height": 84,
     "referenced_widgets": [
      "3f42a55e4fc14f9c9eb1df569fbb2117",
      "45532313d3834c11b8222ff74387a7e7",
      "9133ba3309904b56abe633c38ca7985d",
      "7d65de5ef9c7439d92a171e8ae9f110a",
      "414a3403a908453fba432defc5165a41",
      "89c6507665f0409b92a55f877a59733f",
      "67a2223e6ba34f7da16be31c30935755",
      "c65c15ecc6924198b25d8c042f76d708",
      "915dc3c39cda490790c2c6053caab77e",
      "c8ac4ec6d31a4f23977d14e3c89ad93e",
      "9fbcaed87f354f6cb822d3d5f141d020"
     ]
    },
    "id": "zz6DlvRpu7O9",
    "outputId": "0a8b0053-7e19-4262-8b06-ac759257dfde"
   },
   "outputs": [
    {
     "data": {
      "application/vnd.jupyter.widget-view+json": {
       "model_id": "3f42a55e4fc14f9c9eb1df569fbb2117",
       "version_major": 2,
       "version_minor": 0
      },
      "text/plain": [
       "  0%|          | 0/796 [00:00<?, ?it/s]"
      ]
     },
     "metadata": {},
     "output_type": "display_data"
    },
    {
     "name": "stdout",
     "output_type": "stream",
     "text": [
      "CPU times: user 1h 28min 39s, sys: 5.98 s, total: 1h 28min 45s\n",
      "Wall time: 1h 29min 3s\n"
     ]
    }
   ],
   "source": [
    "%%time\n",
    "batch_size = 200\n",
    "embeddings = []\n",
    "for i in notebook.tqdm(range(padded.shape[0] // batch_size)):\n",
    "        batch = torch.LongTensor(padded[batch_size*i:batch_size*(i+1)]).to(device)\n",
    "        attention_mask_batch = torch.LongTensor(attention_mask[batch_size*i:batch_size*(i+1)]).to(device)\n",
    "\n",
    "        with torch.no_grad():\n",
    "            batch_embeddings = model(batch.to(device), attention_mask=attention_mask_batch.to(device))\n",
    "\n",
    "        embeddings.append(batch_embeddings[0][:,0,:].cpu().numpy())"
   ]
  },
  {
   "cell_type": "code",
   "execution_count": 68,
   "metadata": {
    "colab": {
     "base_uri": "https://localhost:8080/"
    },
    "id": "jbm7ZucBu7O9",
    "outputId": "f0b5dc50-0d63-44ad-efcb-e68f181cbd71"
   },
   "outputs": [
    {
     "data": {
      "text/plain": [
       "(159200, 768)"
      ]
     },
     "execution_count": 68,
     "metadata": {},
     "output_type": "execute_result"
    }
   ],
   "source": [
    "features = np.concatenate(embeddings)\n",
    "features.shape"
   ]
  },
  {
   "cell_type": "code",
   "execution_count": 70,
   "metadata": {
    "colab": {
     "base_uri": "https://localhost:8080/"
    },
    "id": "8z2X93exu7O9",
    "outputId": "5034298d-7702-4d88-a8da-fe985ee9bf7e"
   },
   "outputs": [
    {
     "data": {
      "text/plain": [
       "(159200,)"
      ]
     },
     "execution_count": 70,
     "metadata": {},
     "output_type": "execute_result"
    }
   ],
   "source": [
    "X_bert = features\n",
    "y_bert = df_bert['toxic'][:159200]\n",
    "y_bert.shape"
   ]
  },
  {
   "cell_type": "code",
   "execution_count": 71,
   "metadata": {
    "id": "4xKINSAyu7O9"
   },
   "outputs": [],
   "source": [
    "X_train_bert, X_test_bert, y_train_bert, y_test_bert = train_test_split(X_bert, y_bert,\n",
    "                                                                        test_size=0.1,\n",
    "                                                                        random_state=RANDOM_STATE,\n",
    "                                                                        shuffle=True,\n",
    "                                                                        stratify=y_bert)"
   ]
  },
  {
   "cell_type": "code",
   "execution_count": 72,
   "metadata": {
    "colab": {
     "base_uri": "https://localhost:8080/"
    },
    "id": "PGhahT5Cu7O9",
    "outputId": "4a2fa829-eea4-431d-8883-a25bd6fe6281"
   },
   "outputs": [
    {
     "data": {
      "text/plain": [
       "((143280, 768), (143280,), (15920, 768), (15920,))"
      ]
     },
     "execution_count": 72,
     "metadata": {},
     "output_type": "execute_result"
    }
   ],
   "source": [
    "X_train_bert.shape, y_train_bert.shape, X_test_bert.shape, y_test_bert.shape"
   ]
  },
  {
   "cell_type": "code",
   "execution_count": 75,
   "metadata": {
    "colab": {
     "base_uri": "https://localhost:8080/"
    },
    "id": "sAwZ64nZwi3w",
    "outputId": "666b7fa7-7ca9-4e3c-9e41-8b1940416427"
   },
   "outputs": [
    {
     "name": "stdout",
     "output_type": "stream",
     "text": [
      "Показатели F1 модели LinearSVC на фичах с BERT = 0.90816\n",
      "CPU times: user 3min 52s, sys: 1.68 s, total: 3min 53s\n",
      "Wall time: 3min 54s\n"
     ]
    }
   ],
   "source": [
    "%%time\n",
    "model_LSVC_bert = LinearSVC(random_state=RANDOM_STATE, class_weight='balanced')\n",
    "model_LSVC_bert.fit(X_train_bert, y_train_bert)\n",
    "pred_bert_test_LSVC = model_LSVC_bert.predict(X_test_bert)\n",
    "F1 = f1_score(y_test_bert, pred_bert_test_LSVC)\n",
    "print(f'Показатели F1 модели LinearSVC на фичах с BERT = {F1:.5f}')"
   ]
  },
  {
   "cell_type": "code",
   "execution_count": 76,
   "metadata": {
    "colab": {
     "base_uri": "https://localhost:8080/"
    },
    "id": "PVKC6cO9K2XY",
    "outputId": "2cc99bde-132a-43ff-b16f-2c6e58a995ed"
   },
   "outputs": [
    {
     "name": "stdout",
     "output_type": "stream",
     "text": [
      "Показатели F1 модели логистической регрессии на фичах с BERT = 0.92562\n",
      "CPU times: user 26.4 s, sys: 2.07 s, total: 28.5 s\n",
      "Wall time: 17.2 s\n"
     ]
    }
   ],
   "source": [
    "%%time\n",
    "model_LR_bert = LogisticRegression(random_state=RANDOM_STATE, class_weight='balanced')\n",
    "model_LR_bert.fit(X_train_bert, y_train_bert)\n",
    "pred_bert_test_LR = model_LR_bert.predict(X_test_bert)\n",
    "F1 = f1_score(y_test_bert, pred_bert_test_LR)\n",
    "print(f'Показатели F1 модели логистической регрессии на фичах с BERT = {F1:.5f}')"
   ]
  },
  {
   "cell_type": "markdown",
   "metadata": {
    "id": "3qcT9Yi_hpci"
   },
   "source": [
    "**Вывод по пункту 4:**     \n",
    "\n",
    "На фичах обработанных BERT-ом модель показывает метрику гораздо лучше, чем на фичах векторизированных на основе TF-IDF. Поэтому, если позволяет оборудование, конечно лучше ипользовать BERT. Сам процесс требует большой мощности оборудования."
   ]
  },
  {
   "cell_type": "markdown",
   "metadata": {
    "id": "Y5LJsHimu7O9"
   },
   "source": [
    "## Общий вывод"
   ]
  },
  {
   "cell_type": "markdown",
   "metadata": {
    "id": "lJg_qhBzh6nt"
   },
   "source": [
    "**Вывод по пункту 1.:**   \n",
    "+ при загрузке данных выяснили, что пропуски и дубликаты отсутствуют, классы в таргете не сбалансированы.     \n",
    "+ лемматизировали и очистили текст от знаков пунктуации и пробелов.           \n",
    "+ разделили данные на трейн и тест      \n",
    "+ создали матрицы cо значениями TF-IDF\n",
    "\n",
    "**Вывод по пункту 2:**    \n",
    "\n",
    "Мы обучили четыре модели:    \n",
    "+ модель логической регрессии    \n",
    "+ модель ансамбля деревьев    \n",
    "+ модель градиентного бустинга     \n",
    "+ модель опорных векторов  \n",
    "\n",
    "**Вывод по пункту 3:**       \n",
    "+ показатели F1 модели LinearSVC = 0.7983, что больше 0,75.     \n",
    "+ модель можносчитать адекватной     \n",
    "+ распределение классов у нас идёт 9:1. LinearSVC-модель немного лучше предсказыват 0. FP и FN примерно одинаковые.   \n",
    "\n",
    "**Вывод по пункту 4:**     \n",
    "\n",
    "На фичах обработанных BERT-ом модель показывает метрику гораздо лучше, чем на фичах векторизированных на основе TF-IDF. Поэтому, если позволяет оборудование, конечно лучше ипользовать BERT. Сам процесс требует большой мощности оборудования.\n",
    "\n",
    "**Мы обучили модель классифицировать комментарии на позитивные и негативные. Построили модель со значением метрики качества F1 не меньше 0.75. Здесь можно добавить, что для каждой конкретной задачи нужно искать свой подход и свои варианты решения. Если рассматривать обучение на основе расчёта TF-IDF, то модели с поддержкой векторных данных показала лучшую метрику за минимальное время. Ну и, конечно, если позволяет мощность оборудования, то лучше использовать BERT.**"
   ]
  },
  {
   "cell_type": "code",
   "execution_count": null,
   "metadata": {
    "id": "1UhAgX2eoRR8"
   },
   "outputs": [],
   "source": []
  }
 ],
 "metadata": {
  "ExecuteTimeLog": [
   {
    "duration": 3138,
    "start_time": "2023-07-02T14:35:43.034Z"
   },
   {
    "duration": 4667,
    "start_time": "2023-07-02T14:35:46.177Z"
   },
   {
    "duration": 10,
    "start_time": "2023-07-02T14:35:50.846Z"
   },
   {
    "duration": 60,
    "start_time": "2023-07-02T14:35:50.860Z"
   },
   {
    "duration": 30,
    "start_time": "2023-07-02T14:35:50.923Z"
   },
   {
    "duration": 40,
    "start_time": "2023-07-02T14:35:50.955Z"
   },
   {
    "duration": 533,
    "start_time": "2023-07-02T14:35:50.997Z"
   },
   {
    "duration": 297,
    "start_time": "2023-07-02T14:35:51.532Z"
   },
   {
    "duration": 5,
    "start_time": "2023-07-02T14:39:46.848Z"
   },
   {
    "duration": 1120,
    "start_time": "2023-07-02T14:41:09.252Z"
   },
   {
    "duration": 1118,
    "start_time": "2023-07-02T14:41:18.345Z"
   },
   {
    "duration": 15,
    "start_time": "2023-07-02T14:47:00.171Z"
   },
   {
    "duration": 1105,
    "start_time": "2023-07-02T14:47:00.188Z"
   },
   {
    "duration": 10,
    "start_time": "2023-07-02T14:47:01.294Z"
   },
   {
    "duration": 155,
    "start_time": "2023-07-02T14:47:01.305Z"
   },
   {
    "duration": 107,
    "start_time": "2023-07-02T14:47:01.468Z"
   },
   {
    "duration": 290,
    "start_time": "2023-07-02T14:47:01.578Z"
   },
   {
    "duration": 34,
    "start_time": "2023-07-02T14:48:30.669Z"
   },
   {
    "duration": 143,
    "start_time": "2023-07-02T14:48:42.472Z"
   },
   {
    "duration": 153,
    "start_time": "2023-07-02T14:48:56.475Z"
   },
   {
    "duration": 7,
    "start_time": "2023-07-02T14:49:04.071Z"
   },
   {
    "duration": 106,
    "start_time": "2023-07-02T14:49:42.969Z"
   },
   {
    "duration": 7,
    "start_time": "2023-07-02T14:50:01.399Z"
   },
   {
    "duration": 1628,
    "start_time": "2023-07-02T14:56:56.638Z"
   },
   {
    "duration": 11,
    "start_time": "2023-07-02T15:08:37.770Z"
   },
   {
    "duration": 8,
    "start_time": "2023-07-02T15:08:41.967Z"
   },
   {
    "duration": 15,
    "start_time": "2023-07-02T15:08:42.501Z"
   },
   {
    "duration": 175,
    "start_time": "2023-07-02T15:08:55.560Z"
   },
   {
    "duration": 493,
    "start_time": "2023-07-02T15:09:26.734Z"
   },
   {
    "duration": 281,
    "start_time": "2023-07-02T15:16:54.744Z"
   },
   {
    "duration": 1492,
    "start_time": "2023-07-02T15:17:15.320Z"
   },
   {
    "duration": 328,
    "start_time": "2023-07-02T15:17:33.889Z"
   },
   {
    "duration": 1660,
    "start_time": "2023-07-02T15:27:00.257Z"
   },
   {
    "duration": 1664,
    "start_time": "2023-07-02T15:27:29.311Z"
   },
   {
    "duration": 1590,
    "start_time": "2023-07-02T15:30:46.349Z"
   },
   {
    "duration": 8,
    "start_time": "2023-07-02T15:31:03.609Z"
   },
   {
    "duration": 1468,
    "start_time": "2023-07-02T15:31:04.253Z"
   },
   {
    "duration": 120,
    "start_time": "2023-07-02T15:31:34.856Z"
   },
   {
    "duration": 25,
    "start_time": "2023-07-02T15:31:39.959Z"
   },
   {
    "duration": 20,
    "start_time": "2023-07-02T15:31:55.454Z"
   },
   {
    "duration": 31,
    "start_time": "2023-07-02T15:32:07.438Z"
   },
   {
    "duration": 1687,
    "start_time": "2023-07-02T15:32:13.310Z"
   },
   {
    "duration": 258,
    "start_time": "2023-07-02T15:33:39.086Z"
   },
   {
    "duration": 142,
    "start_time": "2023-07-02T15:33:53.302Z"
   },
   {
    "duration": 215,
    "start_time": "2023-07-02T15:33:59.805Z"
   },
   {
    "duration": 145,
    "start_time": "2023-07-02T15:34:42.495Z"
   },
   {
    "duration": 171,
    "start_time": "2023-07-02T15:35:02.000Z"
   },
   {
    "duration": 158,
    "start_time": "2023-07-02T15:35:30.740Z"
   },
   {
    "duration": 171,
    "start_time": "2023-07-02T15:35:36.421Z"
   },
   {
    "duration": 149,
    "start_time": "2023-07-02T15:35:54.995Z"
   },
   {
    "duration": 20,
    "start_time": "2023-07-02T15:44:06.672Z"
   },
   {
    "duration": 278,
    "start_time": "2023-07-02T15:44:17.920Z"
   },
   {
    "duration": 20,
    "start_time": "2023-07-02T15:44:22.752Z"
   },
   {
    "duration": 5,
    "start_time": "2023-07-02T15:50:56.906Z"
   },
   {
    "duration": 6,
    "start_time": "2023-07-02T15:51:37.120Z"
   },
   {
    "duration": 5,
    "start_time": "2023-07-02T15:52:10.887Z"
   },
   {
    "duration": 6,
    "start_time": "2023-07-02T15:52:19.295Z"
   },
   {
    "duration": 4,
    "start_time": "2023-07-02T15:52:30.946Z"
   },
   {
    "duration": 5,
    "start_time": "2023-07-02T15:52:31.406Z"
   },
   {
    "duration": 4,
    "start_time": "2023-07-02T15:53:42.490Z"
   },
   {
    "duration": 7,
    "start_time": "2023-07-02T15:54:00.871Z"
   },
   {
    "duration": 4,
    "start_time": "2023-07-02T15:54:47.886Z"
   },
   {
    "duration": 5,
    "start_time": "2023-07-02T15:54:48.883Z"
   },
   {
    "duration": 5,
    "start_time": "2023-07-02T15:56:18.010Z"
   },
   {
    "duration": 6,
    "start_time": "2023-07-02T15:56:25.388Z"
   },
   {
    "duration": 4,
    "start_time": "2023-07-02T15:56:27.987Z"
   },
   {
    "duration": 4,
    "start_time": "2023-07-02T15:56:28.289Z"
   },
   {
    "duration": 5,
    "start_time": "2023-07-02T15:58:58.689Z"
   },
   {
    "duration": 6,
    "start_time": "2023-07-02T15:59:05.710Z"
   },
   {
    "duration": 5,
    "start_time": "2023-07-02T15:59:06.189Z"
   },
   {
    "duration": 5,
    "start_time": "2023-07-02T15:59:13.095Z"
   },
   {
    "duration": 4,
    "start_time": "2023-07-02T15:59:13.589Z"
   },
   {
    "duration": 6,
    "start_time": "2023-07-02T15:59:55.854Z"
   },
   {
    "duration": 4,
    "start_time": "2023-07-02T15:59:56.510Z"
   },
   {
    "duration": 7,
    "start_time": "2023-07-02T16:00:39.277Z"
   },
   {
    "duration": 4,
    "start_time": "2023-07-02T16:00:44.786Z"
   },
   {
    "duration": 4,
    "start_time": "2023-07-02T16:00:45.200Z"
   },
   {
    "duration": 5,
    "start_time": "2023-07-02T16:01:51.398Z"
   },
   {
    "duration": 3,
    "start_time": "2023-07-02T16:01:51.798Z"
   },
   {
    "duration": 7,
    "start_time": "2023-07-02T16:02:54.878Z"
   },
   {
    "duration": 4,
    "start_time": "2023-07-02T16:02:55.230Z"
   },
   {
    "duration": 6,
    "start_time": "2023-07-02T16:03:03.719Z"
   },
   {
    "duration": 6,
    "start_time": "2023-07-02T16:03:03.998Z"
   },
   {
    "duration": 4,
    "start_time": "2023-07-02T16:04:38.510Z"
   },
   {
    "duration": 4,
    "start_time": "2023-07-02T16:04:53.445Z"
   },
   {
    "duration": 4,
    "start_time": "2023-07-02T16:04:53.829Z"
   },
   {
    "duration": 4,
    "start_time": "2023-07-02T16:04:54.183Z"
   },
   {
    "duration": 4,
    "start_time": "2023-07-02T16:05:01.389Z"
   },
   {
    "duration": 5,
    "start_time": "2023-07-02T16:05:06.092Z"
   },
   {
    "duration": 4,
    "start_time": "2023-07-02T16:05:06.490Z"
   },
   {
    "duration": 4,
    "start_time": "2023-07-02T16:05:06.813Z"
   },
   {
    "duration": 2005,
    "start_time": "2023-07-03T02:42:53.294Z"
   },
   {
    "duration": 2559,
    "start_time": "2023-07-03T02:42:55.301Z"
   },
   {
    "duration": 6,
    "start_time": "2023-07-03T02:42:57.861Z"
   },
   {
    "duration": 33,
    "start_time": "2023-07-03T02:42:57.868Z"
   },
   {
    "duration": 218,
    "start_time": "2023-07-03T02:42:57.903Z"
   },
   {
    "duration": 12,
    "start_time": "2023-07-03T02:42:58.122Z"
   },
   {
    "duration": 139,
    "start_time": "2023-07-03T02:42:58.135Z"
   },
   {
    "duration": 3,
    "start_time": "2023-07-03T02:42:58.276Z"
   },
   {
    "duration": 11,
    "start_time": "2023-07-03T02:42:58.280Z"
   },
   {
    "duration": 7,
    "start_time": "2023-07-03T02:42:58.292Z"
   },
   {
    "duration": 29,
    "start_time": "2023-07-03T02:46:45.145Z"
   },
   {
    "duration": 124,
    "start_time": "2023-07-03T02:46:54.864Z"
   },
   {
    "duration": 6,
    "start_time": "2023-07-03T02:47:10.040Z"
   },
   {
    "duration": 7,
    "start_time": "2023-07-03T02:47:33.849Z"
   },
   {
    "duration": 1297,
    "start_time": "2023-07-03T02:47:49.913Z"
   },
   {
    "duration": 4,
    "start_time": "2023-07-03T02:48:28.922Z"
   },
   {
    "duration": 5,
    "start_time": "2023-07-03T02:49:44.017Z"
   },
   {
    "duration": 7,
    "start_time": "2023-07-03T02:55:29.670Z"
   },
   {
    "duration": 5,
    "start_time": "2023-07-03T02:55:35.214Z"
   },
   {
    "duration": 4,
    "start_time": "2023-07-03T02:55:49.055Z"
   },
   {
    "duration": 5,
    "start_time": "2023-07-03T02:55:59.328Z"
   },
   {
    "duration": 5,
    "start_time": "2023-07-03T02:56:14.465Z"
   },
   {
    "duration": 6,
    "start_time": "2023-07-03T03:01:06.110Z"
   },
   {
    "duration": 248,
    "start_time": "2023-07-03T03:49:08.081Z"
   },
   {
    "duration": 815,
    "start_time": "2023-07-03T03:49:08.331Z"
   },
   {
    "duration": 10,
    "start_time": "2023-07-03T03:49:09.148Z"
   },
   {
    "duration": 42,
    "start_time": "2023-07-03T03:49:09.161Z"
   },
   {
    "duration": 243,
    "start_time": "2023-07-03T03:49:09.206Z"
   },
   {
    "duration": 8,
    "start_time": "2023-07-03T03:49:09.451Z"
   },
   {
    "duration": 141,
    "start_time": "2023-07-03T03:49:09.461Z"
   },
   {
    "duration": 3,
    "start_time": "2023-07-03T03:49:09.604Z"
   },
   {
    "duration": 7,
    "start_time": "2023-07-03T03:49:09.609Z"
   },
   {
    "duration": 5,
    "start_time": "2023-07-03T03:49:09.633Z"
   },
   {
    "duration": 714,
    "start_time": "2023-07-03T03:49:09.640Z"
   },
   {
    "duration": 8,
    "start_time": "2023-07-03T03:49:56.126Z"
   },
   {
    "duration": 930,
    "start_time": "2023-07-03T03:49:56.137Z"
   },
   {
    "duration": 30,
    "start_time": "2023-07-03T03:49:57.069Z"
   },
   {
    "duration": 44,
    "start_time": "2023-07-03T03:49:57.101Z"
   },
   {
    "duration": 218,
    "start_time": "2023-07-03T03:49:57.147Z"
   },
   {
    "duration": 9,
    "start_time": "2023-07-03T03:49:57.367Z"
   },
   {
    "duration": 180,
    "start_time": "2023-07-03T03:49:57.378Z"
   },
   {
    "duration": 5,
    "start_time": "2023-07-03T03:49:57.559Z"
   },
   {
    "duration": 15,
    "start_time": "2023-07-03T03:49:57.565Z"
   },
   {
    "duration": 12,
    "start_time": "2023-07-03T03:49:57.582Z"
   },
   {
    "duration": 705,
    "start_time": "2023-07-03T03:49:57.596Z"
   },
   {
    "duration": 668,
    "start_time": "2023-07-03T03:50:15.358Z"
   },
   {
    "duration": 4,
    "start_time": "2023-07-03T03:50:38.191Z"
   },
   {
    "duration": 4,
    "start_time": "2023-07-03T03:50:43.507Z"
   },
   {
    "duration": 5,
    "start_time": "2023-07-03T03:50:56.399Z"
   },
   {
    "duration": 7,
    "start_time": "2023-07-03T03:52:05.426Z"
   },
   {
    "duration": 886,
    "start_time": "2023-07-03T03:52:05.435Z"
   },
   {
    "duration": 35,
    "start_time": "2023-07-03T03:52:06.323Z"
   },
   {
    "duration": 34,
    "start_time": "2023-07-03T03:52:06.361Z"
   },
   {
    "duration": 249,
    "start_time": "2023-07-03T03:52:06.397Z"
   },
   {
    "duration": 6,
    "start_time": "2023-07-03T03:52:06.648Z"
   },
   {
    "duration": 156,
    "start_time": "2023-07-03T03:52:06.656Z"
   },
   {
    "duration": 4,
    "start_time": "2023-07-03T03:52:06.813Z"
   },
   {
    "duration": 15,
    "start_time": "2023-07-03T03:52:06.819Z"
   },
   {
    "duration": 8,
    "start_time": "2023-07-03T03:52:06.836Z"
   },
   {
    "duration": 7,
    "start_time": "2023-07-03T03:52:06.845Z"
   },
   {
    "duration": 76,
    "start_time": "2023-07-03T03:52:26.704Z"
   },
   {
    "duration": 5,
    "start_time": "2023-07-03T03:53:11.836Z"
   },
   {
    "duration": 5,
    "start_time": "2023-07-03T03:53:12.864Z"
   },
   {
    "duration": 4,
    "start_time": "2023-07-03T03:53:13.957Z"
   },
   {
    "duration": 5,
    "start_time": "2023-07-03T03:53:25.267Z"
   },
   {
    "duration": 18,
    "start_time": "2023-07-03T03:54:19.791Z"
   },
   {
    "duration": 3,
    "start_time": "2023-07-03T03:54:42.215Z"
   },
   {
    "duration": 4,
    "start_time": "2023-07-03T03:55:12.866Z"
   },
   {
    "duration": 4,
    "start_time": "2023-07-03T03:55:31.396Z"
   },
   {
    "duration": 4,
    "start_time": "2023-07-03T03:56:06.266Z"
   },
   {
    "duration": 4,
    "start_time": "2023-07-03T03:57:04.351Z"
   },
   {
    "duration": 14,
    "start_time": "2023-07-03T03:59:58.451Z"
   },
   {
    "duration": 3393,
    "start_time": "2023-07-03T04:00:49.037Z"
   },
   {
    "duration": 54,
    "start_time": "2023-07-03T04:01:17.313Z"
   },
   {
    "duration": 29,
    "start_time": "2023-07-03T04:01:44.316Z"
   },
   {
    "duration": 23,
    "start_time": "2023-07-03T04:02:26.795Z"
   },
   {
    "duration": 6,
    "start_time": "2023-07-03T04:03:21.654Z"
   },
   {
    "duration": 7,
    "start_time": "2023-07-03T04:04:30.217Z"
   },
   {
    "duration": 7,
    "start_time": "2023-07-03T04:04:56.305Z"
   },
   {
    "duration": 7,
    "start_time": "2023-07-03T04:05:07.890Z"
   },
   {
    "duration": 11,
    "start_time": "2023-07-03T04:05:48.548Z"
   },
   {
    "duration": 2801,
    "start_time": "2023-07-03T04:07:45.352Z"
   },
   {
    "duration": 359,
    "start_time": "2023-07-03T04:08:32.611Z"
   },
   {
    "duration": 77,
    "start_time": "2023-07-03T04:09:07.130Z"
   },
   {
    "duration": 27,
    "start_time": "2023-07-03T04:10:43.365Z"
   },
   {
    "duration": 20651,
    "start_time": "2023-07-03T04:11:11.601Z"
   },
   {
    "duration": 39,
    "start_time": "2023-07-03T04:11:32.255Z"
   },
   {
    "duration": 82,
    "start_time": "2023-07-03T04:14:38.860Z"
   },
   {
    "duration": 22,
    "start_time": "2023-07-03T04:15:30.478Z"
   },
   {
    "duration": 197,
    "start_time": "2023-07-03T04:15:48.063Z"
   },
   {
    "duration": 129,
    "start_time": "2023-07-03T04:16:00.248Z"
   },
   {
    "duration": 130,
    "start_time": "2023-07-03T04:18:00.647Z"
   },
   {
    "duration": 187,
    "start_time": "2023-07-03T04:23:34.652Z"
   },
   {
    "duration": 3,
    "start_time": "2023-07-03T04:23:55.572Z"
   },
   {
    "duration": 6,
    "start_time": "2023-07-03T04:24:48.901Z"
   },
   {
    "duration": 520,
    "start_time": "2023-07-03T04:25:07.028Z"
   },
   {
    "duration": 465,
    "start_time": "2023-07-03T04:25:39.760Z"
   },
   {
    "duration": 350,
    "start_time": "2023-07-03T04:26:26.136Z"
   },
   {
    "duration": 476,
    "start_time": "2023-07-03T04:26:39.294Z"
   },
   {
    "duration": 495,
    "start_time": "2023-07-03T04:26:53.737Z"
   },
   {
    "duration": 127,
    "start_time": "2023-07-03T04:29:29.777Z"
   },
   {
    "duration": 7,
    "start_time": "2023-07-03T04:30:01.315Z"
   },
   {
    "duration": 1271,
    "start_time": "2023-07-03T04:30:01.323Z"
   },
   {
    "duration": 39,
    "start_time": "2023-07-03T04:30:02.596Z"
   },
   {
    "duration": 61,
    "start_time": "2023-07-03T04:30:02.643Z"
   },
   {
    "duration": 268,
    "start_time": "2023-07-03T04:30:02.706Z"
   },
   {
    "duration": 9,
    "start_time": "2023-07-03T04:30:02.976Z"
   },
   {
    "duration": 234,
    "start_time": "2023-07-03T04:30:02.987Z"
   },
   {
    "duration": 4,
    "start_time": "2023-07-03T04:30:03.222Z"
   },
   {
    "duration": 69,
    "start_time": "2023-07-03T04:30:03.228Z"
   },
   {
    "duration": 16,
    "start_time": "2023-07-03T04:30:03.299Z"
   },
   {
    "duration": 291,
    "start_time": "2023-07-03T04:30:03.316Z"
   },
   {
    "duration": 8,
    "start_time": "2023-07-03T04:30:55.227Z"
   },
   {
    "duration": 9,
    "start_time": "2023-07-03T04:31:34.811Z"
   },
   {
    "duration": 1229,
    "start_time": "2023-07-03T04:31:34.822Z"
   },
   {
    "duration": 22,
    "start_time": "2023-07-03T04:31:36.053Z"
   },
   {
    "duration": 201,
    "start_time": "2023-07-03T04:31:36.079Z"
   },
   {
    "duration": 302,
    "start_time": "2023-07-03T04:31:36.283Z"
   },
   {
    "duration": 8,
    "start_time": "2023-07-03T04:31:36.589Z"
   },
   {
    "duration": 208,
    "start_time": "2023-07-03T04:31:36.599Z"
   },
   {
    "duration": 4,
    "start_time": "2023-07-03T04:31:36.810Z"
   },
   {
    "duration": 57,
    "start_time": "2023-07-03T04:31:36.816Z"
   },
   {
    "duration": 27,
    "start_time": "2023-07-03T04:31:36.875Z"
   },
   {
    "duration": 211,
    "start_time": "2023-07-03T04:31:36.904Z"
   },
   {
    "duration": 0,
    "start_time": "2023-07-03T04:31:37.117Z"
   },
   {
    "duration": 1,
    "start_time": "2023-07-03T04:31:37.117Z"
   },
   {
    "duration": 10,
    "start_time": "2023-07-03T04:31:51.455Z"
   },
   {
    "duration": 4,
    "start_time": "2023-07-03T04:31:52.378Z"
   },
   {
    "duration": 715,
    "start_time": "2023-07-03T04:31:52.796Z"
   },
   {
    "duration": 236,
    "start_time": "2023-07-03T05:02:56.958Z"
   },
   {
    "duration": 1112,
    "start_time": "2023-07-03T05:02:57.196Z"
   },
   {
    "duration": 9,
    "start_time": "2023-07-03T05:02:58.309Z"
   },
   {
    "duration": 82,
    "start_time": "2023-07-03T05:02:58.320Z"
   },
   {
    "duration": 238,
    "start_time": "2023-07-03T05:02:58.403Z"
   },
   {
    "duration": 7,
    "start_time": "2023-07-03T05:02:58.642Z"
   },
   {
    "duration": 190,
    "start_time": "2023-07-03T05:02:58.651Z"
   },
   {
    "duration": 10,
    "start_time": "2023-07-03T05:02:58.843Z"
   },
   {
    "duration": 36,
    "start_time": "2023-07-03T05:02:58.854Z"
   },
   {
    "duration": 4,
    "start_time": "2023-07-03T05:02:58.893Z"
   },
   {
    "duration": 671,
    "start_time": "2023-07-03T05:02:58.898Z"
   },
   {
    "duration": 18,
    "start_time": "2023-07-03T05:06:36.750Z"
   },
   {
    "duration": 5,
    "start_time": "2023-07-03T05:06:49.477Z"
   },
   {
    "duration": 16,
    "start_time": "2023-07-03T05:08:58.211Z"
   },
   {
    "duration": 0,
    "start_time": "2023-07-03T05:11:32.595Z"
   },
   {
    "duration": 19,
    "start_time": "2023-07-03T05:14:29.956Z"
   },
   {
    "duration": 1008,
    "start_time": "2023-07-03T05:14:29.977Z"
   },
   {
    "duration": 6,
    "start_time": "2023-07-03T05:14:30.986Z"
   },
   {
    "duration": 108,
    "start_time": "2023-07-03T05:14:30.994Z"
   },
   {
    "duration": 298,
    "start_time": "2023-07-03T05:14:31.104Z"
   },
   {
    "duration": 9,
    "start_time": "2023-07-03T05:14:31.404Z"
   },
   {
    "duration": 212,
    "start_time": "2023-07-03T05:14:31.416Z"
   },
   {
    "duration": 26,
    "start_time": "2023-07-03T05:14:31.629Z"
   },
   {
    "duration": 45,
    "start_time": "2023-07-03T05:14:31.661Z"
   },
   {
    "duration": 16,
    "start_time": "2023-07-03T05:14:31.709Z"
   },
   {
    "duration": 648,
    "start_time": "2023-07-03T05:14:31.726Z"
   },
   {
    "duration": 32115,
    "start_time": "2023-07-03T05:14:32.377Z"
   },
   {
    "duration": 7,
    "start_time": "2023-07-03T05:15:49.991Z"
   },
   {
    "duration": 1065,
    "start_time": "2023-07-03T05:15:50.000Z"
   },
   {
    "duration": 10,
    "start_time": "2023-07-03T05:15:51.072Z"
   },
   {
    "duration": 67,
    "start_time": "2023-07-03T05:15:51.084Z"
   },
   {
    "duration": 256,
    "start_time": "2023-07-03T05:15:51.153Z"
   },
   {
    "duration": 6,
    "start_time": "2023-07-03T05:15:51.411Z"
   },
   {
    "duration": 178,
    "start_time": "2023-07-03T05:15:51.436Z"
   },
   {
    "duration": 4,
    "start_time": "2023-07-03T05:15:51.616Z"
   },
   {
    "duration": 5,
    "start_time": "2023-07-03T05:15:51.622Z"
   },
   {
    "duration": 71,
    "start_time": "2023-07-03T05:15:51.629Z"
   },
   {
    "duration": 651,
    "start_time": "2023-07-03T05:15:51.701Z"
   },
   {
    "duration": 143,
    "start_time": "2023-07-03T05:15:52.360Z"
   },
   {
    "duration": 13,
    "start_time": "2023-07-03T05:24:00.666Z"
   },
   {
    "duration": 1209,
    "start_time": "2023-07-03T05:24:00.683Z"
   },
   {
    "duration": 8,
    "start_time": "2023-07-03T05:24:01.897Z"
   },
   {
    "duration": 98,
    "start_time": "2023-07-03T05:24:01.907Z"
   },
   {
    "duration": 317,
    "start_time": "2023-07-03T05:24:02.008Z"
   },
   {
    "duration": 29,
    "start_time": "2023-07-03T05:24:02.327Z"
   },
   {
    "duration": 245,
    "start_time": "2023-07-03T05:24:02.358Z"
   },
   {
    "duration": 8,
    "start_time": "2023-07-03T05:24:02.604Z"
   },
   {
    "duration": 50,
    "start_time": "2023-07-03T05:24:02.614Z"
   },
   {
    "duration": 44,
    "start_time": "2023-07-03T05:24:02.665Z"
   },
   {
    "duration": 683,
    "start_time": "2023-07-03T05:24:02.711Z"
   },
   {
    "duration": 6,
    "start_time": "2023-07-03T05:27:51.513Z"
   },
   {
    "duration": 1288,
    "start_time": "2023-07-03T05:27:51.520Z"
   },
   {
    "duration": 6,
    "start_time": "2023-07-03T05:27:52.810Z"
   },
   {
    "duration": 58,
    "start_time": "2023-07-03T05:27:52.817Z"
   },
   {
    "duration": 316,
    "start_time": "2023-07-03T05:27:52.878Z"
   },
   {
    "duration": 9,
    "start_time": "2023-07-03T05:27:53.196Z"
   },
   {
    "duration": 196,
    "start_time": "2023-07-03T05:27:53.207Z"
   },
   {
    "duration": 6,
    "start_time": "2023-07-03T05:27:53.405Z"
   },
   {
    "duration": 37,
    "start_time": "2023-07-03T05:27:53.412Z"
   },
   {
    "duration": 49,
    "start_time": "2023-07-03T05:27:53.452Z"
   },
   {
    "duration": 1264,
    "start_time": "2023-07-03T05:27:53.503Z"
   },
   {
    "duration": 0,
    "start_time": "2023-07-03T05:28:38.011Z"
   },
   {
    "duration": 0,
    "start_time": "2023-07-03T05:28:38.012Z"
   },
   {
    "duration": 0,
    "start_time": "2023-07-03T05:28:38.013Z"
   },
   {
    "duration": 0,
    "start_time": "2023-07-03T05:28:38.014Z"
   },
   {
    "duration": 0,
    "start_time": "2023-07-03T05:28:38.016Z"
   },
   {
    "duration": 0,
    "start_time": "2023-07-03T05:28:38.017Z"
   },
   {
    "duration": 0,
    "start_time": "2023-07-03T05:28:38.018Z"
   },
   {
    "duration": 0,
    "start_time": "2023-07-03T05:28:38.019Z"
   },
   {
    "duration": 0,
    "start_time": "2023-07-03T05:28:38.020Z"
   },
   {
    "duration": 0,
    "start_time": "2023-07-03T05:28:38.021Z"
   },
   {
    "duration": 0,
    "start_time": "2023-07-03T05:28:38.022Z"
   },
   {
    "duration": 0,
    "start_time": "2023-07-03T05:28:38.024Z"
   },
   {
    "duration": 14,
    "start_time": "2023-07-03T05:28:58.338Z"
   },
   {
    "duration": 1113,
    "start_time": "2023-07-03T05:28:58.359Z"
   },
   {
    "duration": 9,
    "start_time": "2023-07-03T05:28:59.479Z"
   },
   {
    "duration": 29,
    "start_time": "2023-07-03T05:28:59.492Z"
   },
   {
    "duration": 264,
    "start_time": "2023-07-03T05:28:59.524Z"
   },
   {
    "duration": 8,
    "start_time": "2023-07-03T05:28:59.790Z"
   },
   {
    "duration": 191,
    "start_time": "2023-07-03T05:28:59.800Z"
   },
   {
    "duration": 5,
    "start_time": "2023-07-03T05:28:59.993Z"
   },
   {
    "duration": 25,
    "start_time": "2023-07-03T05:28:59.999Z"
   },
   {
    "duration": 73,
    "start_time": "2023-07-03T05:29:00.026Z"
   },
   {
    "duration": 657,
    "start_time": "2023-07-03T05:29:00.101Z"
   },
   {
    "duration": 182253,
    "start_time": "2023-07-03T05:29:00.760Z"
   },
   {
    "duration": 11120,
    "start_time": "2023-07-03T05:33:22.198Z"
   },
   {
    "duration": 7,
    "start_time": "2023-07-03T05:33:34.077Z"
   },
   {
    "duration": 1128,
    "start_time": "2023-07-03T05:33:34.086Z"
   },
   {
    "duration": 4,
    "start_time": "2023-07-03T05:33:35.216Z"
   },
   {
    "duration": 76,
    "start_time": "2023-07-03T05:33:35.222Z"
   },
   {
    "duration": 242,
    "start_time": "2023-07-03T05:33:35.300Z"
   },
   {
    "duration": 9,
    "start_time": "2023-07-03T05:33:35.543Z"
   },
   {
    "duration": 175,
    "start_time": "2023-07-03T05:33:35.553Z"
   },
   {
    "duration": 13,
    "start_time": "2023-07-03T05:33:35.740Z"
   },
   {
    "duration": 56,
    "start_time": "2023-07-03T05:33:35.755Z"
   },
   {
    "duration": 49,
    "start_time": "2023-07-03T05:33:35.813Z"
   },
   {
    "duration": 1056,
    "start_time": "2023-07-03T05:33:35.864Z"
   },
   {
    "duration": 17797,
    "start_time": "2023-07-03T05:33:36.922Z"
   },
   {
    "duration": 6,
    "start_time": "2023-07-03T05:33:58.211Z"
   },
   {
    "duration": 1095,
    "start_time": "2023-07-03T05:33:58.218Z"
   },
   {
    "duration": 5,
    "start_time": "2023-07-03T05:33:59.314Z"
   },
   {
    "duration": 66,
    "start_time": "2023-07-03T05:33:59.333Z"
   },
   {
    "duration": 244,
    "start_time": "2023-07-03T05:33:59.401Z"
   },
   {
    "duration": 39,
    "start_time": "2023-07-03T05:33:59.646Z"
   },
   {
    "duration": 179,
    "start_time": "2023-07-03T05:33:59.688Z"
   },
   {
    "duration": 12,
    "start_time": "2023-07-03T05:33:59.876Z"
   },
   {
    "duration": 6,
    "start_time": "2023-07-03T05:33:59.889Z"
   },
   {
    "duration": 12,
    "start_time": "2023-07-03T05:33:59.896Z"
   },
   {
    "duration": 593,
    "start_time": "2023-07-03T05:33:59.910Z"
   },
   {
    "duration": 5620,
    "start_time": "2023-07-03T05:34:14.868Z"
   },
   {
    "duration": 1098,
    "start_time": "2023-07-03T05:34:20.490Z"
   },
   {
    "duration": 7,
    "start_time": "2023-07-03T05:34:21.590Z"
   },
   {
    "duration": 68,
    "start_time": "2023-07-03T05:34:21.598Z"
   },
   {
    "duration": 256,
    "start_time": "2023-07-03T05:34:21.669Z"
   },
   {
    "duration": 28,
    "start_time": "2023-07-03T05:34:21.927Z"
   },
   {
    "duration": 258,
    "start_time": "2023-07-03T05:34:21.961Z"
   },
   {
    "duration": 4,
    "start_time": "2023-07-03T05:34:22.221Z"
   },
   {
    "duration": 94,
    "start_time": "2023-07-03T05:34:22.227Z"
   },
   {
    "duration": 62,
    "start_time": "2023-07-03T05:34:22.322Z"
   },
   {
    "duration": 720,
    "start_time": "2023-07-03T05:34:22.386Z"
   },
   {
    "duration": 5,
    "start_time": "2023-07-03T05:34:41.707Z"
   },
   {
    "duration": 1096,
    "start_time": "2023-07-03T05:34:41.714Z"
   },
   {
    "duration": 5,
    "start_time": "2023-07-03T05:34:42.811Z"
   },
   {
    "duration": 39,
    "start_time": "2023-07-03T05:34:42.831Z"
   },
   {
    "duration": 346,
    "start_time": "2023-07-03T05:34:42.872Z"
   },
   {
    "duration": 13,
    "start_time": "2023-07-03T05:34:43.219Z"
   },
   {
    "duration": 177,
    "start_time": "2023-07-03T05:34:43.233Z"
   },
   {
    "duration": 4,
    "start_time": "2023-07-03T05:34:43.411Z"
   },
   {
    "duration": 56,
    "start_time": "2023-07-03T05:34:43.416Z"
   },
   {
    "duration": 18,
    "start_time": "2023-07-03T05:34:43.479Z"
   },
   {
    "duration": 978,
    "start_time": "2023-07-03T05:34:43.499Z"
   },
   {
    "duration": 11319,
    "start_time": "2023-07-03T05:34:44.479Z"
   },
   {
    "duration": 7155,
    "start_time": "2023-07-03T05:36:27.564Z"
   },
   {
    "duration": 994,
    "start_time": "2023-07-03T05:36:34.722Z"
   },
   {
    "duration": 6,
    "start_time": "2023-07-03T05:36:35.718Z"
   },
   {
    "duration": 100,
    "start_time": "2023-07-03T05:36:35.725Z"
   },
   {
    "duration": 290,
    "start_time": "2023-07-03T05:36:35.827Z"
   },
   {
    "duration": 22,
    "start_time": "2023-07-03T05:36:36.118Z"
   },
   {
    "duration": 183,
    "start_time": "2023-07-03T05:36:36.142Z"
   },
   {
    "duration": 4,
    "start_time": "2023-07-03T05:36:36.326Z"
   },
   {
    "duration": 89,
    "start_time": "2023-07-03T05:36:36.332Z"
   },
   {
    "duration": 51,
    "start_time": "2023-07-03T05:36:36.422Z"
   },
   {
    "duration": 616,
    "start_time": "2023-07-03T05:36:36.475Z"
   },
   {
    "duration": 375401,
    "start_time": "2023-07-03T05:36:37.093Z"
   },
   {
    "duration": 8,
    "start_time": "2023-07-03T05:43:34.855Z"
   },
   {
    "duration": 166653,
    "start_time": "2023-07-03T05:43:42.928Z"
   },
   {
    "duration": 8,
    "start_time": "2023-07-03T05:46:33.824Z"
   },
   {
    "duration": 957,
    "start_time": "2023-07-03T05:46:33.834Z"
   },
   {
    "duration": 7,
    "start_time": "2023-07-03T05:46:34.793Z"
   },
   {
    "duration": 50,
    "start_time": "2023-07-03T05:46:34.804Z"
   },
   {
    "duration": 219,
    "start_time": "2023-07-03T05:46:34.856Z"
   },
   {
    "duration": 7,
    "start_time": "2023-07-03T05:46:35.077Z"
   },
   {
    "duration": 149,
    "start_time": "2023-07-03T05:46:35.085Z"
   },
   {
    "duration": 3,
    "start_time": "2023-07-03T05:46:35.236Z"
   },
   {
    "duration": 25,
    "start_time": "2023-07-03T05:46:35.241Z"
   },
   {
    "duration": 25,
    "start_time": "2023-07-03T05:46:35.268Z"
   },
   {
    "duration": 481,
    "start_time": "2023-07-03T05:46:35.295Z"
   },
   {
    "duration": 12961,
    "start_time": "2023-07-03T05:46:35.777Z"
   },
   {
    "duration": 4271,
    "start_time": "2023-07-03T05:47:15.671Z"
   },
   {
    "duration": 885,
    "start_time": "2023-07-03T05:47:19.945Z"
   },
   {
    "duration": 6,
    "start_time": "2023-07-03T05:47:20.831Z"
   },
   {
    "duration": 49,
    "start_time": "2023-07-03T05:47:20.839Z"
   },
   {
    "duration": 250,
    "start_time": "2023-07-03T05:47:20.890Z"
   },
   {
    "duration": 8,
    "start_time": "2023-07-03T05:47:21.142Z"
   },
   {
    "duration": 162,
    "start_time": "2023-07-03T05:47:21.152Z"
   },
   {
    "duration": 4,
    "start_time": "2023-07-03T05:47:21.316Z"
   },
   {
    "duration": 20,
    "start_time": "2023-07-03T05:47:21.321Z"
   },
   {
    "duration": 20,
    "start_time": "2023-07-03T05:47:21.344Z"
   },
   {
    "duration": 524,
    "start_time": "2023-07-03T05:47:21.366Z"
   },
   {
    "duration": 715042,
    "start_time": "2023-07-03T05:47:21.892Z"
   },
   {
    "duration": 6445,
    "start_time": "2023-07-03T05:59:21.265Z"
   },
   {
    "duration": 5,
    "start_time": "2023-07-03T05:59:31.451Z"
   },
   {
    "duration": 870,
    "start_time": "2023-07-03T05:59:31.458Z"
   },
   {
    "duration": 6,
    "start_time": "2023-07-03T05:59:32.331Z"
   },
   {
    "duration": 45,
    "start_time": "2023-07-03T05:59:32.339Z"
   },
   {
    "duration": 223,
    "start_time": "2023-07-03T05:59:32.386Z"
   },
   {
    "duration": 6,
    "start_time": "2023-07-03T05:59:32.611Z"
   },
   {
    "duration": 135,
    "start_time": "2023-07-03T05:59:32.631Z"
   },
   {
    "duration": 4,
    "start_time": "2023-07-03T05:59:32.768Z"
   },
   {
    "duration": 16,
    "start_time": "2023-07-03T05:59:32.774Z"
   },
   {
    "duration": 10,
    "start_time": "2023-07-03T05:59:32.792Z"
   },
   {
    "duration": 420,
    "start_time": "2023-07-03T05:59:32.804Z"
   },
   {
    "duration": 3869409,
    "start_time": "2023-07-03T05:59:33.226Z"
   },
   {
    "duration": 144,
    "start_time": "2023-07-03T07:04:22.109Z"
   },
   {
    "duration": 877,
    "start_time": "2023-07-03T07:04:22.255Z"
   },
   {
    "duration": 5,
    "start_time": "2023-07-03T07:04:23.134Z"
   },
   {
    "duration": 41,
    "start_time": "2023-07-03T07:04:23.141Z"
   },
   {
    "duration": 214,
    "start_time": "2023-07-03T07:04:23.184Z"
   },
   {
    "duration": 6,
    "start_time": "2023-07-03T07:04:23.400Z"
   },
   {
    "duration": 143,
    "start_time": "2023-07-03T07:04:23.408Z"
   },
   {
    "duration": 4,
    "start_time": "2023-07-03T07:04:23.553Z"
   },
   {
    "duration": 4,
    "start_time": "2023-07-03T07:04:23.559Z"
   },
   {
    "duration": 8,
    "start_time": "2023-07-03T07:04:23.565Z"
   },
   {
    "duration": 463,
    "start_time": "2023-07-03T07:04:23.575Z"
   },
   {
    "duration": 42197,
    "start_time": "2023-07-03T07:04:24.040Z"
   },
   {
    "duration": 6,
    "start_time": "2023-07-03T07:06:46.202Z"
   },
   {
    "duration": 923,
    "start_time": "2023-07-03T07:06:46.210Z"
   },
   {
    "duration": 7,
    "start_time": "2023-07-03T07:06:47.134Z"
   },
   {
    "duration": 34,
    "start_time": "2023-07-03T07:06:47.142Z"
   },
   {
    "duration": 216,
    "start_time": "2023-07-03T07:06:47.179Z"
   },
   {
    "duration": 7,
    "start_time": "2023-07-03T07:06:47.397Z"
   },
   {
    "duration": 145,
    "start_time": "2023-07-03T07:06:47.405Z"
   },
   {
    "duration": 5,
    "start_time": "2023-07-03T07:06:47.552Z"
   },
   {
    "duration": 15,
    "start_time": "2023-07-03T07:06:47.558Z"
   },
   {
    "duration": 13,
    "start_time": "2023-07-03T07:06:47.575Z"
   },
   {
    "duration": 473,
    "start_time": "2023-07-03T07:06:47.589Z"
   },
   {
    "duration": 952708,
    "start_time": "2023-07-03T07:06:48.063Z"
   },
   {
    "duration": 28,
    "start_time": "2023-07-03T07:41:43.365Z"
   },
   {
    "duration": 7,
    "start_time": "2023-07-03T07:41:56.955Z"
   },
   {
    "duration": 858,
    "start_time": "2023-07-03T07:41:56.964Z"
   },
   {
    "duration": 15,
    "start_time": "2023-07-03T07:41:57.824Z"
   },
   {
    "duration": 41,
    "start_time": "2023-07-03T07:41:57.842Z"
   },
   {
    "duration": 222,
    "start_time": "2023-07-03T07:41:57.884Z"
   },
   {
    "duration": 6,
    "start_time": "2023-07-03T07:41:58.108Z"
   },
   {
    "duration": 130,
    "start_time": "2023-07-03T07:41:58.132Z"
   },
   {
    "duration": 3,
    "start_time": "2023-07-03T07:41:58.264Z"
   },
   {
    "duration": 24,
    "start_time": "2023-07-03T07:41:58.269Z"
   },
   {
    "duration": 14,
    "start_time": "2023-07-03T07:41:58.295Z"
   },
   {
    "duration": 483,
    "start_time": "2023-07-03T07:41:58.310Z"
   },
   {
    "duration": 17,
    "start_time": "2023-07-03T07:41:58.794Z"
   },
   {
    "duration": 0,
    "start_time": "2023-07-03T07:41:58.813Z"
   },
   {
    "duration": 0,
    "start_time": "2023-07-03T07:41:58.814Z"
   },
   {
    "duration": 19,
    "start_time": "2023-07-03T07:42:31.058Z"
   },
   {
    "duration": 452,
    "start_time": "2023-07-03T07:42:52.617Z"
   },
   {
    "duration": 6,
    "start_time": "2023-07-03T07:43:48.388Z"
   },
   {
    "duration": 835,
    "start_time": "2023-07-03T07:43:48.396Z"
   },
   {
    "duration": 9,
    "start_time": "2023-07-03T07:43:49.233Z"
   },
   {
    "duration": 48,
    "start_time": "2023-07-03T07:43:49.243Z"
   },
   {
    "duration": 225,
    "start_time": "2023-07-03T07:43:49.293Z"
   },
   {
    "duration": 14,
    "start_time": "2023-07-03T07:43:49.520Z"
   },
   {
    "duration": 167,
    "start_time": "2023-07-03T07:43:49.536Z"
   },
   {
    "duration": 4,
    "start_time": "2023-07-03T07:43:49.705Z"
   },
   {
    "duration": 34,
    "start_time": "2023-07-03T07:43:49.711Z"
   },
   {
    "duration": 22,
    "start_time": "2023-07-03T07:43:49.746Z"
   },
   {
    "duration": 738,
    "start_time": "2023-07-03T07:43:49.770Z"
   },
   {
    "duration": 401,
    "start_time": "2023-07-03T07:43:50.510Z"
   },
   {
    "duration": 25,
    "start_time": "2023-07-03T07:43:50.912Z"
   },
   {
    "duration": 0,
    "start_time": "2023-07-03T07:43:50.939Z"
   },
   {
    "duration": 6,
    "start_time": "2023-07-03T07:50:03.207Z"
   },
   {
    "duration": 862,
    "start_time": "2023-07-03T07:50:03.214Z"
   },
   {
    "duration": 9,
    "start_time": "2023-07-03T07:50:04.078Z"
   },
   {
    "duration": 54,
    "start_time": "2023-07-03T07:50:04.090Z"
   },
   {
    "duration": 213,
    "start_time": "2023-07-03T07:50:04.146Z"
   },
   {
    "duration": 6,
    "start_time": "2023-07-03T07:50:04.361Z"
   },
   {
    "duration": 145,
    "start_time": "2023-07-03T07:50:04.368Z"
   },
   {
    "duration": 4,
    "start_time": "2023-07-03T07:50:04.514Z"
   },
   {
    "duration": 10,
    "start_time": "2023-07-03T07:50:04.532Z"
   },
   {
    "duration": 14,
    "start_time": "2023-07-03T07:50:04.545Z"
   },
   {
    "duration": 495,
    "start_time": "2023-07-03T07:50:04.560Z"
   },
   {
    "duration": 4533,
    "start_time": "2023-07-03T08:18:14.696Z"
   },
   {
    "duration": 951,
    "start_time": "2023-07-03T08:18:19.232Z"
   },
   {
    "duration": 6,
    "start_time": "2023-07-03T08:18:20.185Z"
   },
   {
    "duration": 55,
    "start_time": "2023-07-03T08:18:20.193Z"
   },
   {
    "duration": 256,
    "start_time": "2023-07-03T08:18:20.252Z"
   },
   {
    "duration": 10,
    "start_time": "2023-07-03T08:18:20.509Z"
   },
   {
    "duration": 176,
    "start_time": "2023-07-03T08:18:20.532Z"
   },
   {
    "duration": 4,
    "start_time": "2023-07-03T08:18:20.710Z"
   },
   {
    "duration": 53,
    "start_time": "2023-07-03T08:18:20.715Z"
   },
   {
    "duration": 8,
    "start_time": "2023-07-03T08:18:20.771Z"
   },
   {
    "duration": 619,
    "start_time": "2023-07-03T08:18:20.780Z"
   },
   {
    "duration": 472,
    "start_time": "2023-07-03T08:18:21.401Z"
   },
   {
    "duration": 4917,
    "start_time": "2023-07-03T08:19:16.266Z"
   },
   {
    "duration": 978,
    "start_time": "2023-07-03T08:19:21.185Z"
   },
   {
    "duration": 8,
    "start_time": "2023-07-03T08:19:22.165Z"
   },
   {
    "duration": 35,
    "start_time": "2023-07-03T08:19:22.175Z"
   },
   {
    "duration": 268,
    "start_time": "2023-07-03T08:19:22.233Z"
   },
   {
    "duration": 8,
    "start_time": "2023-07-03T08:19:22.502Z"
   },
   {
    "duration": 188,
    "start_time": "2023-07-03T08:19:22.512Z"
   },
   {
    "duration": 4,
    "start_time": "2023-07-03T08:19:22.701Z"
   },
   {
    "duration": 50,
    "start_time": "2023-07-03T08:19:22.707Z"
   },
   {
    "duration": 4,
    "start_time": "2023-07-03T08:19:22.760Z"
   },
   {
    "duration": 582,
    "start_time": "2023-07-03T08:19:22.766Z"
   },
   {
    "duration": 516,
    "start_time": "2023-07-03T08:19:23.351Z"
   },
   {
    "duration": 13989,
    "start_time": "2023-07-03T08:20:18.700Z"
   },
   {
    "duration": 122,
    "start_time": "2023-07-03T08:20:35.529Z"
   },
   {
    "duration": 119,
    "start_time": "2023-07-03T08:20:54.030Z"
   },
   {
    "duration": 118,
    "start_time": "2023-07-03T08:21:02.223Z"
   },
   {
    "duration": 12853,
    "start_time": "2023-07-03T08:22:45.900Z"
   },
   {
    "duration": 6,
    "start_time": "2023-07-03T08:23:01.998Z"
   },
   {
    "duration": 928,
    "start_time": "2023-07-03T08:23:02.005Z"
   },
   {
    "duration": 7,
    "start_time": "2023-07-03T08:23:02.935Z"
   },
   {
    "duration": 44,
    "start_time": "2023-07-03T08:23:02.945Z"
   },
   {
    "duration": 245,
    "start_time": "2023-07-03T08:23:02.991Z"
   },
   {
    "duration": 6,
    "start_time": "2023-07-03T08:23:03.238Z"
   },
   {
    "duration": 156,
    "start_time": "2023-07-03T08:23:03.246Z"
   },
   {
    "duration": 4,
    "start_time": "2023-07-03T08:23:03.404Z"
   },
   {
    "duration": 25,
    "start_time": "2023-07-03T08:23:03.410Z"
   },
   {
    "duration": 48,
    "start_time": "2023-07-03T08:23:03.438Z"
   },
   {
    "duration": 482,
    "start_time": "2023-07-03T08:23:03.488Z"
   },
   {
    "duration": 24,
    "start_time": "2023-07-03T14:31:15.604Z"
   },
   {
    "duration": 0,
    "start_time": "2023-07-03T14:31:15.631Z"
   },
   {
    "duration": 17902,
    "start_time": "2023-07-03T14:32:02.065Z"
   },
   {
    "duration": 44,
    "start_time": "2023-07-03T14:33:10.208Z"
   },
   {
    "duration": 17151,
    "start_time": "2023-07-03T14:35:16.704Z"
   },
   {
    "duration": 212,
    "start_time": "2023-07-03T14:41:20.654Z"
   },
   {
    "duration": 55,
    "start_time": "2023-07-03T14:42:30.359Z"
   },
   {
    "duration": 764,
    "start_time": "2023-07-03T14:42:39.086Z"
   },
   {
    "duration": 812,
    "start_time": "2023-07-03T14:42:55.326Z"
   },
   {
    "duration": 742,
    "start_time": "2023-07-03T14:46:42.749Z"
   },
   {
    "duration": 23261,
    "start_time": "2023-07-03T14:48:03.636Z"
   },
   {
    "duration": 6,
    "start_time": "2023-07-03T14:48:39.910Z"
   },
   {
    "duration": 888,
    "start_time": "2023-07-03T14:48:39.918Z"
   },
   {
    "duration": 6,
    "start_time": "2023-07-03T14:48:40.807Z"
   },
   {
    "duration": 48,
    "start_time": "2023-07-03T14:48:40.815Z"
   },
   {
    "duration": 223,
    "start_time": "2023-07-03T14:48:40.865Z"
   },
   {
    "duration": 6,
    "start_time": "2023-07-03T14:48:41.090Z"
   },
   {
    "duration": 154,
    "start_time": "2023-07-03T14:48:41.098Z"
   },
   {
    "duration": 5,
    "start_time": "2023-07-03T14:48:41.256Z"
   },
   {
    "duration": 8,
    "start_time": "2023-07-03T14:48:41.262Z"
   },
   {
    "duration": 7,
    "start_time": "2023-07-03T14:48:41.272Z"
   },
   {
    "duration": 493,
    "start_time": "2023-07-03T14:48:41.281Z"
   },
   {
    "duration": 104145,
    "start_time": "2023-07-03T14:48:41.776Z"
   },
   {
    "duration": 24,
    "start_time": "2023-07-03T14:55:10.052Z"
   },
   {
    "duration": 1347,
    "start_time": "2023-07-03T14:57:52.755Z"
   },
   {
    "duration": 6,
    "start_time": "2023-07-03T14:58:51.916Z"
   },
   {
    "duration": 5,
    "start_time": "2023-07-03T15:00:42.147Z"
   },
   {
    "duration": 27,
    "start_time": "2023-07-03T15:01:28.395Z"
   },
   {
    "duration": 4,
    "start_time": "2023-07-03T15:02:22.443Z"
   },
   {
    "duration": 22,
    "start_time": "2023-07-03T15:03:05.867Z"
   },
   {
    "duration": 20,
    "start_time": "2023-07-03T15:03:19.756Z"
   },
   {
    "duration": 22,
    "start_time": "2023-07-03T15:03:36.187Z"
   },
   {
    "duration": 18,
    "start_time": "2023-07-03T15:04:16.875Z"
   },
   {
    "duration": 6,
    "start_time": "2023-07-03T15:04:34.291Z"
   },
   {
    "duration": 94,
    "start_time": "2023-07-03T15:05:46.396Z"
   },
   {
    "duration": 32,
    "start_time": "2023-07-03T15:06:53.865Z"
   },
   {
    "duration": 29,
    "start_time": "2023-07-03T15:07:18.299Z"
   },
   {
    "duration": 27,
    "start_time": "2023-07-03T15:07:35.242Z"
   },
   {
    "duration": 16,
    "start_time": "2023-07-03T15:07:59.731Z"
   },
   {
    "duration": 5,
    "start_time": "2023-07-03T15:08:27.585Z"
   },
   {
    "duration": 921,
    "start_time": "2023-07-03T15:08:27.592Z"
   },
   {
    "duration": 20,
    "start_time": "2023-07-03T15:08:28.514Z"
   },
   {
    "duration": 105,
    "start_time": "2023-07-03T15:08:28.536Z"
   },
   {
    "duration": 222,
    "start_time": "2023-07-03T15:08:28.643Z"
   },
   {
    "duration": 7,
    "start_time": "2023-07-03T15:08:28.868Z"
   },
   {
    "duration": 363,
    "start_time": "2023-07-03T15:08:28.876Z"
   },
   {
    "duration": 4,
    "start_time": "2023-07-03T15:08:29.242Z"
   },
   {
    "duration": 34,
    "start_time": "2023-07-03T15:08:29.248Z"
   },
   {
    "duration": 32,
    "start_time": "2023-07-03T15:08:29.284Z"
   },
   {
    "duration": 0,
    "start_time": "2023-07-03T15:08:29.318Z"
   },
   {
    "duration": 0,
    "start_time": "2023-07-03T15:08:29.319Z"
   },
   {
    "duration": 0,
    "start_time": "2023-07-03T15:08:29.321Z"
   },
   {
    "duration": 0,
    "start_time": "2023-07-03T15:08:29.322Z"
   },
   {
    "duration": 0,
    "start_time": "2023-07-03T15:08:29.323Z"
   },
   {
    "duration": 18,
    "start_time": "2023-07-03T15:09:05.595Z"
   },
   {
    "duration": 6,
    "start_time": "2023-07-03T15:09:33.683Z"
   },
   {
    "duration": 830,
    "start_time": "2023-07-03T15:09:33.691Z"
   },
   {
    "duration": 14,
    "start_time": "2023-07-03T15:09:34.523Z"
   },
   {
    "duration": 29,
    "start_time": "2023-07-03T15:09:34.539Z"
   },
   {
    "duration": 241,
    "start_time": "2023-07-03T15:09:34.570Z"
   },
   {
    "duration": 7,
    "start_time": "2023-07-03T15:09:34.813Z"
   },
   {
    "duration": 137,
    "start_time": "2023-07-03T15:09:34.831Z"
   },
   {
    "duration": 4,
    "start_time": "2023-07-03T15:09:34.970Z"
   },
   {
    "duration": 8,
    "start_time": "2023-07-03T15:09:34.976Z"
   },
   {
    "duration": 11,
    "start_time": "2023-07-03T15:09:34.986Z"
   },
   {
    "duration": 35,
    "start_time": "2023-07-03T15:09:34.998Z"
   },
   {
    "duration": 0,
    "start_time": "2023-07-03T15:09:35.034Z"
   },
   {
    "duration": 0,
    "start_time": "2023-07-03T15:09:35.035Z"
   },
   {
    "duration": 0,
    "start_time": "2023-07-03T15:09:35.037Z"
   },
   {
    "duration": 0,
    "start_time": "2023-07-03T15:09:35.037Z"
   },
   {
    "duration": 0,
    "start_time": "2023-07-03T15:09:35.038Z"
   },
   {
    "duration": 17,
    "start_time": "2023-07-03T15:10:13.866Z"
   },
   {
    "duration": 5,
    "start_time": "2023-07-03T15:10:31.716Z"
   },
   {
    "duration": 894,
    "start_time": "2023-07-03T15:10:31.723Z"
   },
   {
    "duration": 16,
    "start_time": "2023-07-03T15:10:32.619Z"
   },
   {
    "duration": 33,
    "start_time": "2023-07-03T15:10:32.637Z"
   },
   {
    "duration": 216,
    "start_time": "2023-07-03T15:10:32.672Z"
   },
   {
    "duration": 6,
    "start_time": "2023-07-03T15:10:32.889Z"
   },
   {
    "duration": 154,
    "start_time": "2023-07-03T15:10:32.896Z"
   },
   {
    "duration": 5,
    "start_time": "2023-07-03T15:10:33.054Z"
   },
   {
    "duration": 21,
    "start_time": "2023-07-03T15:10:33.063Z"
   },
   {
    "duration": 13,
    "start_time": "2023-07-03T15:10:33.086Z"
   },
   {
    "duration": 25,
    "start_time": "2023-07-03T15:10:33.101Z"
   },
   {
    "duration": 26,
    "start_time": "2023-07-03T15:10:33.128Z"
   },
   {
    "duration": 0,
    "start_time": "2023-07-03T15:10:33.156Z"
   },
   {
    "duration": 0,
    "start_time": "2023-07-03T15:10:33.160Z"
   },
   {
    "duration": 0,
    "start_time": "2023-07-03T15:10:33.163Z"
   },
   {
    "duration": 0,
    "start_time": "2023-07-03T15:10:33.165Z"
   },
   {
    "duration": 0,
    "start_time": "2023-07-03T15:10:33.166Z"
   },
   {
    "duration": 15,
    "start_time": "2023-07-03T15:10:52.770Z"
   },
   {
    "duration": 5,
    "start_time": "2023-07-03T15:10:57.105Z"
   },
   {
    "duration": 922,
    "start_time": "2023-07-03T15:10:57.112Z"
   },
   {
    "duration": 8,
    "start_time": "2023-07-03T15:10:58.036Z"
   },
   {
    "duration": 53,
    "start_time": "2023-07-03T15:10:58.046Z"
   },
   {
    "duration": 256,
    "start_time": "2023-07-03T15:10:58.100Z"
   },
   {
    "duration": 6,
    "start_time": "2023-07-03T15:10:58.358Z"
   },
   {
    "duration": 147,
    "start_time": "2023-07-03T15:10:58.365Z"
   },
   {
    "duration": 4,
    "start_time": "2023-07-03T15:10:58.513Z"
   },
   {
    "duration": 16,
    "start_time": "2023-07-03T15:10:58.519Z"
   },
   {
    "duration": 14,
    "start_time": "2023-07-03T15:10:58.538Z"
   },
   {
    "duration": 12,
    "start_time": "2023-07-03T15:10:58.554Z"
   },
   {
    "duration": 41,
    "start_time": "2023-07-03T15:10:58.568Z"
   },
   {
    "duration": 0,
    "start_time": "2023-07-03T15:10:58.611Z"
   },
   {
    "duration": 0,
    "start_time": "2023-07-03T15:10:58.612Z"
   },
   {
    "duration": 0,
    "start_time": "2023-07-03T15:10:58.613Z"
   },
   {
    "duration": 0,
    "start_time": "2023-07-03T15:10:58.615Z"
   },
   {
    "duration": 0,
    "start_time": "2023-07-03T15:10:58.617Z"
   },
   {
    "duration": 5,
    "start_time": "2023-07-03T15:11:13.397Z"
   },
   {
    "duration": 838,
    "start_time": "2023-07-03T15:11:13.404Z"
   },
   {
    "duration": 7,
    "start_time": "2023-07-03T15:11:14.243Z"
   },
   {
    "duration": 27,
    "start_time": "2023-07-03T15:11:14.251Z"
   },
   {
    "duration": 206,
    "start_time": "2023-07-03T15:11:14.280Z"
   },
   {
    "duration": 5,
    "start_time": "2023-07-03T15:11:14.488Z"
   },
   {
    "duration": 168,
    "start_time": "2023-07-03T15:11:14.495Z"
   },
   {
    "duration": 5,
    "start_time": "2023-07-03T15:11:14.665Z"
   },
   {
    "duration": 9,
    "start_time": "2023-07-03T15:11:14.671Z"
   },
   {
    "duration": 5,
    "start_time": "2023-07-03T15:11:14.682Z"
   },
   {
    "duration": 8,
    "start_time": "2023-07-03T15:11:14.689Z"
   },
   {
    "duration": 11,
    "start_time": "2023-07-03T15:11:14.698Z"
   },
   {
    "duration": 3,
    "start_time": "2023-07-03T15:11:14.732Z"
   },
   {
    "duration": 452,
    "start_time": "2023-07-03T15:11:14.738Z"
   },
   {
    "duration": 16,
    "start_time": "2023-07-03T15:11:15.191Z"
   },
   {
    "duration": 0,
    "start_time": "2023-07-03T15:11:15.209Z"
   },
   {
    "duration": 6,
    "start_time": "2023-07-03T15:13:00.446Z"
   },
   {
    "duration": 894,
    "start_time": "2023-07-03T15:13:00.453Z"
   },
   {
    "duration": 8,
    "start_time": "2023-07-03T15:13:01.348Z"
   },
   {
    "duration": 65,
    "start_time": "2023-07-03T15:13:01.357Z"
   },
   {
    "duration": 271,
    "start_time": "2023-07-03T15:13:01.424Z"
   },
   {
    "duration": 5,
    "start_time": "2023-07-03T15:13:01.697Z"
   },
   {
    "duration": 167,
    "start_time": "2023-07-03T15:13:01.704Z"
   },
   {
    "duration": 4,
    "start_time": "2023-07-03T15:13:01.873Z"
   },
   {
    "duration": 33,
    "start_time": "2023-07-03T15:13:01.878Z"
   },
   {
    "duration": 43,
    "start_time": "2023-07-03T15:13:01.912Z"
   },
   {
    "duration": 51,
    "start_time": "2023-07-03T15:13:01.957Z"
   },
   {
    "duration": 46,
    "start_time": "2023-07-03T15:13:02.010Z"
   },
   {
    "duration": 38,
    "start_time": "2023-07-03T15:13:02.058Z"
   },
   {
    "duration": 474,
    "start_time": "2023-07-03T15:13:02.098Z"
   },
   {
    "duration": 15,
    "start_time": "2023-07-03T15:13:02.574Z"
   },
   {
    "duration": 0,
    "start_time": "2023-07-03T15:13:02.591Z"
   },
   {
    "duration": 6,
    "start_time": "2023-07-03T15:16:09.441Z"
   },
   {
    "duration": 823,
    "start_time": "2023-07-03T15:16:09.448Z"
   },
   {
    "duration": 7,
    "start_time": "2023-07-03T15:16:10.273Z"
   },
   {
    "duration": 58,
    "start_time": "2023-07-03T15:16:10.281Z"
   },
   {
    "duration": 203,
    "start_time": "2023-07-03T15:16:10.341Z"
   },
   {
    "duration": 7,
    "start_time": "2023-07-03T15:16:10.545Z"
   },
   {
    "duration": 130,
    "start_time": "2023-07-03T15:16:10.553Z"
   },
   {
    "duration": 3,
    "start_time": "2023-07-03T15:16:10.685Z"
   },
   {
    "duration": 24,
    "start_time": "2023-07-03T15:16:10.690Z"
   },
   {
    "duration": 28,
    "start_time": "2023-07-03T15:16:10.715Z"
   },
   {
    "duration": 15,
    "start_time": "2023-07-03T15:16:10.744Z"
   },
   {
    "duration": 19,
    "start_time": "2023-07-03T15:16:10.761Z"
   },
   {
    "duration": 5,
    "start_time": "2023-07-03T15:16:10.782Z"
   },
   {
    "duration": 7,
    "start_time": "2023-07-03T15:16:10.789Z"
   },
   {
    "duration": 18,
    "start_time": "2023-07-03T15:16:10.797Z"
   },
   {
    "duration": 42,
    "start_time": "2023-07-03T15:16:10.816Z"
   },
   {
    "duration": 0,
    "start_time": "2023-07-03T15:16:10.861Z"
   },
   {
    "duration": 3,
    "start_time": "2023-07-03T15:16:46.569Z"
   },
   {
    "duration": 3,
    "start_time": "2023-07-03T15:16:46.977Z"
   },
   {
    "duration": 2,
    "start_time": "2023-07-03T15:16:48.154Z"
   },
   {
    "duration": 4,
    "start_time": "2023-07-03T15:16:48.528Z"
   },
   {
    "duration": 7,
    "start_time": "2023-07-03T15:17:00.389Z"
   },
   {
    "duration": 848,
    "start_time": "2023-07-03T15:17:00.399Z"
   },
   {
    "duration": 7,
    "start_time": "2023-07-03T15:17:01.248Z"
   },
   {
    "duration": 88,
    "start_time": "2023-07-03T15:17:01.257Z"
   },
   {
    "duration": 251,
    "start_time": "2023-07-03T15:17:01.347Z"
   },
   {
    "duration": 6,
    "start_time": "2023-07-03T15:17:01.599Z"
   },
   {
    "duration": 199,
    "start_time": "2023-07-03T15:17:01.607Z"
   },
   {
    "duration": 5,
    "start_time": "2023-07-03T15:17:01.807Z"
   },
   {
    "duration": 43,
    "start_time": "2023-07-03T15:17:01.814Z"
   },
   {
    "duration": 30,
    "start_time": "2023-07-03T15:17:01.859Z"
   },
   {
    "duration": 16,
    "start_time": "2023-07-03T15:17:01.891Z"
   },
   {
    "duration": 68,
    "start_time": "2023-07-03T15:17:01.909Z"
   },
   {
    "duration": 39,
    "start_time": "2023-07-03T15:17:01.979Z"
   },
   {
    "duration": 46,
    "start_time": "2023-07-03T15:17:02.021Z"
   },
   {
    "duration": 27,
    "start_time": "2023-07-03T15:17:02.069Z"
   },
   {
    "duration": 79,
    "start_time": "2023-07-03T15:17:02.097Z"
   },
   {
    "duration": 0,
    "start_time": "2023-07-03T15:17:02.178Z"
   },
   {
    "duration": 4,
    "start_time": "2023-07-03T15:18:15.137Z"
   },
   {
    "duration": 7,
    "start_time": "2023-07-03T15:18:21.977Z"
   },
   {
    "duration": 4,
    "start_time": "2023-07-03T15:18:28.561Z"
   },
   {
    "duration": 5,
    "start_time": "2023-07-03T15:19:32.185Z"
   },
   {
    "duration": 4,
    "start_time": "2023-07-03T15:21:33.929Z"
   },
   {
    "duration": 6,
    "start_time": "2023-07-03T15:21:43.262Z"
   },
   {
    "duration": 911,
    "start_time": "2023-07-03T15:21:43.270Z"
   },
   {
    "duration": 9,
    "start_time": "2023-07-03T15:21:44.183Z"
   },
   {
    "duration": 69,
    "start_time": "2023-07-03T15:21:44.194Z"
   },
   {
    "duration": 272,
    "start_time": "2023-07-03T15:21:44.265Z"
   },
   {
    "duration": 8,
    "start_time": "2023-07-03T15:21:44.539Z"
   },
   {
    "duration": 216,
    "start_time": "2023-07-03T15:21:44.549Z"
   },
   {
    "duration": 6,
    "start_time": "2023-07-03T15:21:44.767Z"
   },
   {
    "duration": 50,
    "start_time": "2023-07-03T15:21:44.775Z"
   },
   {
    "duration": 37,
    "start_time": "2023-07-03T15:21:44.829Z"
   },
   {
    "duration": 69,
    "start_time": "2023-07-03T15:21:44.868Z"
   },
   {
    "duration": 27,
    "start_time": "2023-07-03T15:21:44.939Z"
   },
   {
    "duration": 56,
    "start_time": "2023-07-03T15:21:44.968Z"
   },
   {
    "duration": 32,
    "start_time": "2023-07-03T15:21:45.026Z"
   },
   {
    "duration": 35,
    "start_time": "2023-07-03T15:21:45.059Z"
   },
   {
    "duration": 31,
    "start_time": "2023-07-03T15:21:45.096Z"
   },
   {
    "duration": 49,
    "start_time": "2023-07-03T15:21:45.128Z"
   },
   {
    "duration": 0,
    "start_time": "2023-07-03T15:21:45.178Z"
   },
   {
    "duration": 6,
    "start_time": "2023-07-03T15:22:31.425Z"
   },
   {
    "duration": 868,
    "start_time": "2023-07-03T15:22:31.433Z"
   },
   {
    "duration": 8,
    "start_time": "2023-07-03T15:22:32.302Z"
   },
   {
    "duration": 46,
    "start_time": "2023-07-03T15:22:32.312Z"
   },
   {
    "duration": 212,
    "start_time": "2023-07-03T15:22:32.361Z"
   },
   {
    "duration": 6,
    "start_time": "2023-07-03T15:22:32.575Z"
   },
   {
    "duration": 141,
    "start_time": "2023-07-03T15:22:32.583Z"
   },
   {
    "duration": 9,
    "start_time": "2023-07-03T15:22:32.725Z"
   },
   {
    "duration": 17,
    "start_time": "2023-07-03T15:22:32.735Z"
   },
   {
    "duration": 13,
    "start_time": "2023-07-03T15:22:32.753Z"
   },
   {
    "duration": 27,
    "start_time": "2023-07-03T15:22:32.768Z"
   },
   {
    "duration": 24,
    "start_time": "2023-07-03T15:22:32.797Z"
   },
   {
    "duration": 32,
    "start_time": "2023-07-03T15:22:32.823Z"
   },
   {
    "duration": 14,
    "start_time": "2023-07-03T15:22:32.858Z"
   },
   {
    "duration": 20,
    "start_time": "2023-07-03T15:22:32.874Z"
   },
   {
    "duration": 17,
    "start_time": "2023-07-03T15:22:32.897Z"
   },
   {
    "duration": 35,
    "start_time": "2023-07-03T15:22:32.916Z"
   },
   {
    "duration": 0,
    "start_time": "2023-07-03T15:22:32.953Z"
   },
   {
    "duration": 4,
    "start_time": "2023-07-03T15:27:37.865Z"
   },
   {
    "duration": 4,
    "start_time": "2023-07-03T15:28:46.673Z"
   },
   {
    "duration": 4,
    "start_time": "2023-07-03T15:28:47.283Z"
   },
   {
    "duration": 4,
    "start_time": "2023-07-03T15:29:24.806Z"
   },
   {
    "duration": 3,
    "start_time": "2023-07-03T15:29:25.255Z"
   },
   {
    "duration": 2,
    "start_time": "2023-07-03T15:29:25.655Z"
   },
   {
    "duration": 7,
    "start_time": "2023-07-03T15:29:26.023Z"
   },
   {
    "duration": 7,
    "start_time": "2023-07-03T15:36:22.669Z"
   },
   {
    "duration": 877,
    "start_time": "2023-07-03T15:36:22.678Z"
   },
   {
    "duration": 9,
    "start_time": "2023-07-03T15:36:23.556Z"
   },
   {
    "duration": 32,
    "start_time": "2023-07-03T15:36:23.567Z"
   },
   {
    "duration": 269,
    "start_time": "2023-07-03T15:36:23.601Z"
   },
   {
    "duration": 6,
    "start_time": "2023-07-03T15:36:23.872Z"
   },
   {
    "duration": 139,
    "start_time": "2023-07-03T15:36:23.879Z"
   },
   {
    "duration": 4,
    "start_time": "2023-07-03T15:36:24.020Z"
   },
   {
    "duration": 27,
    "start_time": "2023-07-03T15:36:24.032Z"
   },
   {
    "duration": 0,
    "start_time": "2023-07-03T15:36:24.061Z"
   },
   {
    "duration": 0,
    "start_time": "2023-07-03T15:36:24.064Z"
   },
   {
    "duration": 0,
    "start_time": "2023-07-03T15:36:24.065Z"
   },
   {
    "duration": 0,
    "start_time": "2023-07-03T15:36:24.067Z"
   },
   {
    "duration": 0,
    "start_time": "2023-07-03T15:36:24.068Z"
   },
   {
    "duration": 0,
    "start_time": "2023-07-03T15:36:24.070Z"
   },
   {
    "duration": 0,
    "start_time": "2023-07-03T15:36:24.071Z"
   },
   {
    "duration": 0,
    "start_time": "2023-07-03T15:36:24.072Z"
   },
   {
    "duration": 0,
    "start_time": "2023-07-03T15:36:24.074Z"
   },
   {
    "duration": 22157,
    "start_time": "2023-07-03T15:36:45.998Z"
   },
   {
    "duration": 8304,
    "start_time": "2023-07-03T15:37:13.453Z"
   },
   {
    "duration": 6,
    "start_time": "2023-07-03T15:37:38.161Z"
   },
   {
    "duration": 874,
    "start_time": "2023-07-03T15:37:38.169Z"
   },
   {
    "duration": 32,
    "start_time": "2023-07-03T15:37:39.045Z"
   },
   {
    "duration": 34,
    "start_time": "2023-07-03T15:37:39.078Z"
   },
   {
    "duration": 230,
    "start_time": "2023-07-03T15:37:39.114Z"
   },
   {
    "duration": 6,
    "start_time": "2023-07-03T15:37:39.346Z"
   },
   {
    "duration": 1205,
    "start_time": "2023-07-03T15:37:39.353Z"
   },
   {
    "duration": 1611,
    "start_time": "2023-07-03T15:37:40.560Z"
   },
   {
    "duration": 2526,
    "start_time": "2023-07-03T15:37:42.172Z"
   },
   {
    "duration": 4,
    "start_time": "2023-07-03T15:37:44.701Z"
   },
   {
    "duration": 17,
    "start_time": "2023-07-03T15:37:44.707Z"
   },
   {
    "duration": 44,
    "start_time": "2023-07-03T15:37:44.725Z"
   },
   {
    "duration": 0,
    "start_time": "2023-07-03T15:37:44.773Z"
   },
   {
    "duration": 0,
    "start_time": "2023-07-03T15:37:44.775Z"
   },
   {
    "duration": 0,
    "start_time": "2023-07-03T15:37:44.776Z"
   },
   {
    "duration": 0,
    "start_time": "2023-07-03T15:37:44.777Z"
   },
   {
    "duration": 0,
    "start_time": "2023-07-03T15:37:44.779Z"
   },
   {
    "duration": 0,
    "start_time": "2023-07-03T15:37:44.780Z"
   },
   {
    "duration": 0,
    "start_time": "2023-07-03T15:37:44.781Z"
   },
   {
    "duration": 25,
    "start_time": "2023-07-03T15:37:58.886Z"
   },
   {
    "duration": 21,
    "start_time": "2023-07-03T15:38:36.711Z"
   },
   {
    "duration": 23,
    "start_time": "2023-07-03T15:41:47.879Z"
   },
   {
    "duration": 5,
    "start_time": "2023-07-03T15:41:49.389Z"
   },
   {
    "duration": 21,
    "start_time": "2023-07-03T15:41:56.922Z"
   },
   {
    "duration": 29,
    "start_time": "2023-07-03T15:42:32.105Z"
   },
   {
    "duration": 3,
    "start_time": "2023-07-03T15:42:39.512Z"
   },
   {
    "duration": 6,
    "start_time": "2023-07-03T15:42:43.246Z"
   },
   {
    "duration": 42,
    "start_time": "2023-07-03T15:42:44.669Z"
   },
   {
    "duration": 512,
    "start_time": "2023-07-03T15:43:22.373Z"
   },
   {
    "duration": 6,
    "start_time": "2023-07-03T15:43:24.949Z"
   },
   {
    "duration": 158,
    "start_time": "2023-07-03T15:43:25.750Z"
   },
   {
    "duration": 5,
    "start_time": "2023-07-03T15:43:59.957Z"
   },
   {
    "duration": 20,
    "start_time": "2023-07-03T15:44:00.434Z"
   },
   {
    "duration": 3,
    "start_time": "2023-07-03T15:46:36.200Z"
   },
   {
    "duration": 8,
    "start_time": "2023-07-03T15:46:50.112Z"
   },
   {
    "duration": 914,
    "start_time": "2023-07-03T15:46:50.122Z"
   },
   {
    "duration": 35,
    "start_time": "2023-07-03T15:46:51.037Z"
   },
   {
    "duration": 48,
    "start_time": "2023-07-03T15:46:51.074Z"
   },
   {
    "duration": 199,
    "start_time": "2023-07-03T15:46:51.123Z"
   },
   {
    "duration": 12,
    "start_time": "2023-07-03T15:46:51.323Z"
   },
   {
    "duration": 137,
    "start_time": "2023-07-03T15:46:51.336Z"
   },
   {
    "duration": 4,
    "start_time": "2023-07-03T15:46:51.475Z"
   },
   {
    "duration": 3149,
    "start_time": "2023-07-03T15:46:51.480Z"
   },
   {
    "duration": 17,
    "start_time": "2023-07-03T15:46:54.633Z"
   },
   {
    "duration": 9,
    "start_time": "2023-07-03T15:46:54.652Z"
   },
   {
    "duration": 5,
    "start_time": "2023-07-03T15:46:54.662Z"
   },
   {
    "duration": 15,
    "start_time": "2023-07-03T15:46:54.668Z"
   },
   {
    "duration": 13,
    "start_time": "2023-07-03T15:46:54.685Z"
   },
   {
    "duration": 15,
    "start_time": "2023-07-03T15:46:54.700Z"
   },
   {
    "duration": 8,
    "start_time": "2023-07-03T15:46:54.717Z"
   },
   {
    "duration": 23,
    "start_time": "2023-07-03T15:46:54.728Z"
   },
   {
    "duration": 34,
    "start_time": "2023-07-03T15:46:54.753Z"
   },
   {
    "duration": 0,
    "start_time": "2023-07-03T15:46:54.789Z"
   },
   {
    "duration": 28,
    "start_time": "2023-07-03T15:47:17.933Z"
   },
   {
    "duration": 6,
    "start_time": "2023-07-03T15:49:33.794Z"
   },
   {
    "duration": 1079,
    "start_time": "2023-07-03T15:49:33.803Z"
   },
   {
    "duration": 26,
    "start_time": "2023-07-03T15:49:34.883Z"
   },
   {
    "duration": 38,
    "start_time": "2023-07-03T15:49:34.911Z"
   },
   {
    "duration": 204,
    "start_time": "2023-07-03T15:49:34.951Z"
   },
   {
    "duration": 5,
    "start_time": "2023-07-03T15:49:35.157Z"
   },
   {
    "duration": 136,
    "start_time": "2023-07-03T15:49:35.164Z"
   },
   {
    "duration": 4,
    "start_time": "2023-07-03T15:49:35.301Z"
   },
   {
    "duration": 602,
    "start_time": "2023-07-03T15:49:35.306Z"
   },
   {
    "duration": 66,
    "start_time": "2023-07-03T15:49:35.910Z"
   },
   {
    "duration": 2,
    "start_time": "2023-07-03T15:49:35.977Z"
   },
   {
    "duration": 5,
    "start_time": "2023-07-03T15:49:35.981Z"
   },
   {
    "duration": 10,
    "start_time": "2023-07-03T15:49:35.988Z"
   },
   {
    "duration": 22,
    "start_time": "2023-07-03T15:49:36.000Z"
   },
   {
    "duration": 0,
    "start_time": "2023-07-03T15:49:36.024Z"
   },
   {
    "duration": 52923,
    "start_time": "2023-07-03T15:50:47.487Z"
   },
   {
    "duration": 11,
    "start_time": "2023-07-03T15:51:57.637Z"
   },
   {
    "duration": 6,
    "start_time": "2023-07-03T15:53:16.530Z"
   },
   {
    "duration": 840,
    "start_time": "2023-07-03T15:53:16.538Z"
   },
   {
    "duration": 4,
    "start_time": "2023-07-03T15:53:17.380Z"
   },
   {
    "duration": 28,
    "start_time": "2023-07-03T15:53:17.386Z"
   },
   {
    "duration": 205,
    "start_time": "2023-07-03T15:53:17.416Z"
   },
   {
    "duration": 11,
    "start_time": "2023-07-03T15:53:17.622Z"
   },
   {
    "duration": 150,
    "start_time": "2023-07-03T15:53:17.634Z"
   },
   {
    "duration": 3,
    "start_time": "2023-07-03T15:53:17.786Z"
   },
   {
    "duration": 7,
    "start_time": "2023-07-03T15:53:17.791Z"
   },
   {
    "duration": 7,
    "start_time": "2023-07-03T15:53:17.801Z"
   },
   {
    "duration": 14,
    "start_time": "2023-07-03T15:53:17.809Z"
   },
   {
    "duration": 524,
    "start_time": "2023-07-03T15:53:17.824Z"
   },
   {
    "duration": 16,
    "start_time": "2023-07-03T15:53:18.349Z"
   },
   {
    "duration": 0,
    "start_time": "2023-07-03T15:53:18.366Z"
   },
   {
    "duration": 0,
    "start_time": "2023-07-03T15:53:18.367Z"
   },
   {
    "duration": 5,
    "start_time": "2023-07-03T15:53:34.060Z"
   },
   {
    "duration": 999,
    "start_time": "2023-07-03T15:53:34.066Z"
   },
   {
    "duration": 5,
    "start_time": "2023-07-03T15:53:35.067Z"
   },
   {
    "duration": 43,
    "start_time": "2023-07-03T15:53:35.074Z"
   },
   {
    "duration": 221,
    "start_time": "2023-07-03T15:53:35.119Z"
   },
   {
    "duration": 6,
    "start_time": "2023-07-03T15:53:35.342Z"
   },
   {
    "duration": 160,
    "start_time": "2023-07-03T15:53:35.349Z"
   },
   {
    "duration": 4,
    "start_time": "2023-07-03T15:53:35.512Z"
   },
   {
    "duration": 20,
    "start_time": "2023-07-03T15:53:35.518Z"
   },
   {
    "duration": 25,
    "start_time": "2023-07-03T15:53:35.540Z"
   },
   {
    "duration": 45,
    "start_time": "2023-07-03T15:53:35.567Z"
   },
   {
    "duration": 472,
    "start_time": "2023-07-03T15:53:35.613Z"
   },
   {
    "duration": 21,
    "start_time": "2023-07-03T15:53:36.086Z"
   },
   {
    "duration": 0,
    "start_time": "2023-07-03T15:53:36.108Z"
   },
   {
    "duration": 0,
    "start_time": "2023-07-03T15:53:36.109Z"
   },
   {
    "duration": 4,
    "start_time": "2023-07-03T15:54:14.765Z"
   },
   {
    "duration": 5,
    "start_time": "2023-07-03T15:54:21.380Z"
   },
   {
    "duration": 4,
    "start_time": "2023-07-03T15:54:31.481Z"
   },
   {
    "duration": 4,
    "start_time": "2023-07-03T15:54:39.715Z"
   },
   {
    "duration": 414,
    "start_time": "2023-07-03T15:54:40.869Z"
   },
   {
    "duration": 5,
    "start_time": "2023-07-03T15:55:26.808Z"
   },
   {
    "duration": 5,
    "start_time": "2023-07-03T15:55:36.788Z"
   },
   {
    "duration": 8829,
    "start_time": "2023-07-03T15:55:47.278Z"
   },
   {
    "duration": 2372,
    "start_time": "2023-07-03T15:55:56.109Z"
   },
   {
    "duration": 5,
    "start_time": "2023-07-03T15:55:58.483Z"
   },
   {
    "duration": 31,
    "start_time": "2023-07-03T15:55:58.489Z"
   },
   {
    "duration": 220,
    "start_time": "2023-07-03T15:55:58.522Z"
   },
   {
    "duration": 8,
    "start_time": "2023-07-03T15:55:58.743Z"
   },
   {
    "duration": 145,
    "start_time": "2023-07-03T15:55:58.752Z"
   },
   {
    "duration": 4,
    "start_time": "2023-07-03T15:55:58.898Z"
   },
   {
    "duration": 5,
    "start_time": "2023-07-03T15:55:58.903Z"
   },
   {
    "duration": 6,
    "start_time": "2023-07-03T15:55:58.909Z"
   },
   {
    "duration": 10,
    "start_time": "2023-07-03T15:55:58.916Z"
   },
   {
    "duration": 590,
    "start_time": "2023-07-03T15:55:58.931Z"
   },
   {
    "duration": 302,
    "start_time": "2023-07-03T15:55:59.522Z"
   },
   {
    "duration": 0,
    "start_time": "2023-07-03T15:55:59.825Z"
   },
   {
    "duration": 0,
    "start_time": "2023-07-03T15:55:59.827Z"
   },
   {
    "duration": 5,
    "start_time": "2023-07-03T15:56:17.081Z"
   },
   {
    "duration": 864,
    "start_time": "2023-07-03T15:56:17.088Z"
   },
   {
    "duration": 9,
    "start_time": "2023-07-03T15:56:17.954Z"
   },
   {
    "duration": 55,
    "start_time": "2023-07-03T15:56:17.964Z"
   },
   {
    "duration": 202,
    "start_time": "2023-07-03T15:56:18.021Z"
   },
   {
    "duration": 9,
    "start_time": "2023-07-03T15:56:18.225Z"
   },
   {
    "duration": 131,
    "start_time": "2023-07-03T15:56:18.235Z"
   },
   {
    "duration": 3,
    "start_time": "2023-07-03T15:56:18.368Z"
   },
   {
    "duration": 9,
    "start_time": "2023-07-03T15:56:18.372Z"
   },
   {
    "duration": 8,
    "start_time": "2023-07-03T15:56:18.382Z"
   },
   {
    "duration": 8,
    "start_time": "2023-07-03T15:56:18.391Z"
   },
   {
    "duration": 436,
    "start_time": "2023-07-03T15:56:18.401Z"
   },
   {
    "duration": 16,
    "start_time": "2023-07-03T15:56:18.838Z"
   },
   {
    "duration": 0,
    "start_time": "2023-07-03T15:56:18.855Z"
   },
   {
    "duration": 0,
    "start_time": "2023-07-03T15:56:18.856Z"
   },
   {
    "duration": 5,
    "start_time": "2023-07-03T15:58:46.428Z"
   },
   {
    "duration": 853,
    "start_time": "2023-07-03T15:58:46.435Z"
   },
   {
    "duration": 7,
    "start_time": "2023-07-03T15:58:47.289Z"
   },
   {
    "duration": 38,
    "start_time": "2023-07-03T15:58:47.298Z"
   },
   {
    "duration": 214,
    "start_time": "2023-07-03T15:58:47.337Z"
   },
   {
    "duration": 6,
    "start_time": "2023-07-03T15:58:47.553Z"
   },
   {
    "duration": 138,
    "start_time": "2023-07-03T15:58:47.561Z"
   },
   {
    "duration": 4,
    "start_time": "2023-07-03T15:58:47.701Z"
   },
   {
    "duration": 8,
    "start_time": "2023-07-03T15:58:47.706Z"
   },
   {
    "duration": 16,
    "start_time": "2023-07-03T15:58:47.716Z"
   },
   {
    "duration": 636,
    "start_time": "2023-07-03T15:58:47.734Z"
   },
   {
    "duration": 20,
    "start_time": "2023-07-03T15:58:48.372Z"
   },
   {
    "duration": 17,
    "start_time": "2023-07-03T15:58:48.393Z"
   },
   {
    "duration": 0,
    "start_time": "2023-07-03T15:58:48.411Z"
   },
   {
    "duration": 0,
    "start_time": "2023-07-03T15:58:48.431Z"
   },
   {
    "duration": 5,
    "start_time": "2023-07-03T15:59:07.440Z"
   },
   {
    "duration": 836,
    "start_time": "2023-07-03T15:59:07.448Z"
   },
   {
    "duration": 8,
    "start_time": "2023-07-03T15:59:08.286Z"
   },
   {
    "duration": 40,
    "start_time": "2023-07-03T15:59:08.295Z"
   },
   {
    "duration": 209,
    "start_time": "2023-07-03T15:59:08.338Z"
   },
   {
    "duration": 6,
    "start_time": "2023-07-03T15:59:08.549Z"
   },
   {
    "duration": 128,
    "start_time": "2023-07-03T15:59:08.556Z"
   },
   {
    "duration": 4,
    "start_time": "2023-07-03T15:59:08.686Z"
   },
   {
    "duration": 5,
    "start_time": "2023-07-03T15:59:08.691Z"
   },
   {
    "duration": 10,
    "start_time": "2023-07-03T15:59:08.697Z"
   },
   {
    "duration": 407,
    "start_time": "2023-07-03T15:59:08.708Z"
   },
   {
    "duration": 26,
    "start_time": "2023-07-03T15:59:09.117Z"
   },
   {
    "duration": 17,
    "start_time": "2023-07-03T15:59:09.145Z"
   },
   {
    "duration": 0,
    "start_time": "2023-07-03T15:59:09.163Z"
   },
   {
    "duration": 0,
    "start_time": "2023-07-03T15:59:09.164Z"
   },
   {
    "duration": 103,
    "start_time": "2023-07-03T15:59:13.877Z"
   },
   {
    "duration": 17438,
    "start_time": "2023-07-03T15:59:37.429Z"
   },
   {
    "duration": 6,
    "start_time": "2023-07-03T16:01:33.896Z"
   },
   {
    "duration": 1053,
    "start_time": "2023-07-03T16:01:33.904Z"
   },
   {
    "duration": 8,
    "start_time": "2023-07-03T16:01:34.959Z"
   },
   {
    "duration": 32,
    "start_time": "2023-07-03T16:01:34.970Z"
   },
   {
    "duration": 254,
    "start_time": "2023-07-03T16:01:35.004Z"
   },
   {
    "duration": 7,
    "start_time": "2023-07-03T16:01:35.260Z"
   },
   {
    "duration": 141,
    "start_time": "2023-07-03T16:01:35.269Z"
   },
   {
    "duration": 452,
    "start_time": "2023-07-03T16:01:35.412Z"
   },
   {
    "duration": 4,
    "start_time": "2023-07-03T16:01:35.866Z"
   },
   {
    "duration": 10,
    "start_time": "2023-07-03T16:01:35.872Z"
   },
   {
    "duration": 18,
    "start_time": "2023-07-03T16:01:35.883Z"
   },
   {
    "duration": 22,
    "start_time": "2023-07-03T16:01:35.903Z"
   },
   {
    "duration": 34,
    "start_time": "2023-07-03T16:01:35.926Z"
   },
   {
    "duration": 0,
    "start_time": "2023-07-03T16:01:35.962Z"
   },
   {
    "duration": 0,
    "start_time": "2023-07-03T16:01:35.964Z"
   },
   {
    "duration": 4002,
    "start_time": "2023-07-03T16:01:45.460Z"
   },
   {
    "duration": 5,
    "start_time": "2023-07-03T16:03:31.208Z"
   },
   {
    "duration": 1030,
    "start_time": "2023-07-03T16:03:31.215Z"
   },
   {
    "duration": 6,
    "start_time": "2023-07-03T16:03:32.247Z"
   },
   {
    "duration": 46,
    "start_time": "2023-07-03T16:03:32.254Z"
   },
   {
    "duration": 215,
    "start_time": "2023-07-03T16:03:32.303Z"
   },
   {
    "duration": 13,
    "start_time": "2023-07-03T16:03:32.520Z"
   },
   {
    "duration": 161,
    "start_time": "2023-07-03T16:03:32.535Z"
   },
   {
    "duration": 453,
    "start_time": "2023-07-03T16:03:32.697Z"
   },
   {
    "duration": 4,
    "start_time": "2023-07-03T16:03:33.152Z"
   },
   {
    "duration": 8,
    "start_time": "2023-07-03T16:03:33.157Z"
   },
   {
    "duration": 15,
    "start_time": "2023-07-03T16:03:33.166Z"
   },
   {
    "duration": 32,
    "start_time": "2023-07-03T16:03:33.182Z"
   },
   {
    "duration": 935593,
    "start_time": "2023-07-03T16:03:33.215Z"
   },
   {
    "duration": 27,
    "start_time": "2023-07-03T16:19:08.810Z"
   },
   {
    "duration": 55,
    "start_time": "2023-07-03T16:19:48.609Z"
   },
   {
    "duration": 4450,
    "start_time": "2023-07-03T16:28:45.452Z"
   },
   {
    "duration": 983,
    "start_time": "2023-07-03T16:28:49.904Z"
   },
   {
    "duration": 6,
    "start_time": "2023-07-03T16:28:50.888Z"
   },
   {
    "duration": 50,
    "start_time": "2023-07-03T16:28:50.896Z"
   },
   {
    "duration": 253,
    "start_time": "2023-07-03T16:28:50.949Z"
   },
   {
    "duration": 9,
    "start_time": "2023-07-03T16:28:51.204Z"
   },
   {
    "duration": 153,
    "start_time": "2023-07-03T16:28:51.214Z"
   },
   {
    "duration": 498,
    "start_time": "2023-07-03T16:28:51.369Z"
   },
   {
    "duration": 3,
    "start_time": "2023-07-03T16:28:51.869Z"
   },
   {
    "duration": 5,
    "start_time": "2023-07-03T16:28:51.873Z"
   },
   {
    "duration": 8,
    "start_time": "2023-07-03T16:28:51.880Z"
   },
   {
    "duration": 23,
    "start_time": "2023-07-03T16:28:51.889Z"
   },
   {
    "duration": 1078367,
    "start_time": "2023-07-03T16:28:51.913Z"
   },
   {
    "duration": 8,
    "start_time": "2023-07-03T16:46:50.282Z"
   },
   {
    "duration": 5,
    "start_time": "2023-07-03T16:53:54.849Z"
   },
   {
    "duration": 3,
    "start_time": "2023-07-03T16:58:04.121Z"
   },
   {
    "duration": 27,
    "start_time": "2023-07-03T16:58:04.575Z"
   },
   {
    "duration": 4,
    "start_time": "2023-07-03T16:58:04.945Z"
   },
   {
    "duration": 4,
    "start_time": "2023-07-03T16:59:10.139Z"
   },
   {
    "duration": 35,
    "start_time": "2023-07-03T16:59:11.002Z"
   },
   {
    "duration": 4,
    "start_time": "2023-07-03T16:59:11.602Z"
   },
   {
    "duration": 6,
    "start_time": "2023-07-03T17:00:18.880Z"
   },
   {
    "duration": 6,
    "start_time": "2023-07-03T17:00:51.554Z"
   },
   {
    "duration": 3,
    "start_time": "2023-07-03T17:01:37.114Z"
   },
   {
    "duration": 6,
    "start_time": "2023-07-03T17:01:43.403Z"
   },
   {
    "duration": 9,
    "start_time": "2023-07-03T17:02:20.626Z"
   },
   {
    "duration": 5,
    "start_time": "2023-07-03T17:05:49.561Z"
   },
   {
    "duration": 889,
    "start_time": "2023-07-03T17:05:49.568Z"
   },
   {
    "duration": 8,
    "start_time": "2023-07-03T17:05:50.458Z"
   },
   {
    "duration": 32,
    "start_time": "2023-07-03T17:05:50.468Z"
   },
   {
    "duration": 223,
    "start_time": "2023-07-03T17:05:50.501Z"
   },
   {
    "duration": 10,
    "start_time": "2023-07-03T17:05:50.725Z"
   },
   {
    "duration": 133,
    "start_time": "2023-07-03T17:05:50.737Z"
   },
   {
    "duration": 515,
    "start_time": "2023-07-03T17:05:50.872Z"
   },
   {
    "duration": 4,
    "start_time": "2023-07-03T17:05:51.389Z"
   },
   {
    "duration": 7,
    "start_time": "2023-07-03T17:05:51.395Z"
   },
   {
    "duration": 22,
    "start_time": "2023-07-03T17:05:51.404Z"
   },
   {
    "duration": 42,
    "start_time": "2023-07-03T17:05:51.427Z"
   },
   {
    "duration": 196733,
    "start_time": "2023-07-03T17:05:51.470Z"
   },
   {
    "duration": 0,
    "start_time": "2023-07-03T17:09:08.204Z"
   },
   {
    "duration": 0,
    "start_time": "2023-07-03T17:09:08.206Z"
   },
   {
    "duration": 0,
    "start_time": "2023-07-03T17:09:08.207Z"
   },
   {
    "duration": 0,
    "start_time": "2023-07-03T17:09:08.208Z"
   },
   {
    "duration": 0,
    "start_time": "2023-07-03T17:09:08.208Z"
   },
   {
    "duration": 0,
    "start_time": "2023-07-03T17:09:08.209Z"
   },
   {
    "duration": 0,
    "start_time": "2023-07-03T17:09:08.210Z"
   },
   {
    "duration": 5,
    "start_time": "2023-07-03T17:10:37.692Z"
   },
   {
    "duration": 838,
    "start_time": "2023-07-03T17:10:37.699Z"
   },
   {
    "duration": 7,
    "start_time": "2023-07-03T17:10:38.538Z"
   },
   {
    "duration": 34,
    "start_time": "2023-07-03T17:10:38.546Z"
   },
   {
    "duration": 239,
    "start_time": "2023-07-03T17:10:38.582Z"
   },
   {
    "duration": 11,
    "start_time": "2023-07-03T17:10:38.823Z"
   },
   {
    "duration": 158,
    "start_time": "2023-07-03T17:10:38.836Z"
   },
   {
    "duration": 416,
    "start_time": "2023-07-03T17:10:38.995Z"
   },
   {
    "duration": 5,
    "start_time": "2023-07-03T17:10:39.413Z"
   },
   {
    "duration": 3,
    "start_time": "2023-07-03T17:10:39.431Z"
   },
   {
    "duration": 13,
    "start_time": "2023-07-03T17:10:39.436Z"
   },
   {
    "duration": 37,
    "start_time": "2023-07-03T17:10:39.450Z"
   },
   {
    "duration": 42557,
    "start_time": "2023-07-03T17:10:39.488Z"
   },
   {
    "duration": 0,
    "start_time": "2023-07-03T17:11:22.047Z"
   },
   {
    "duration": 0,
    "start_time": "2023-07-03T17:11:22.047Z"
   },
   {
    "duration": 0,
    "start_time": "2023-07-03T17:11:22.049Z"
   },
   {
    "duration": 0,
    "start_time": "2023-07-03T17:11:22.050Z"
   },
   {
    "duration": 1,
    "start_time": "2023-07-03T17:11:22.050Z"
   },
   {
    "duration": 0,
    "start_time": "2023-07-03T17:11:22.051Z"
   },
   {
    "duration": 0,
    "start_time": "2023-07-03T17:11:22.053Z"
   },
   {
    "duration": 8,
    "start_time": "2023-07-03T17:12:04.143Z"
   },
   {
    "duration": 897,
    "start_time": "2023-07-03T17:12:04.154Z"
   },
   {
    "duration": 7,
    "start_time": "2023-07-03T17:12:05.052Z"
   },
   {
    "duration": 38,
    "start_time": "2023-07-03T17:12:05.061Z"
   },
   {
    "duration": 239,
    "start_time": "2023-07-03T17:12:05.101Z"
   },
   {
    "duration": 11,
    "start_time": "2023-07-03T17:12:05.342Z"
   },
   {
    "duration": 152,
    "start_time": "2023-07-03T17:12:05.355Z"
   },
   {
    "duration": 817,
    "start_time": "2023-07-03T17:12:05.508Z"
   },
   {
    "duration": 7,
    "start_time": "2023-07-03T17:12:06.326Z"
   },
   {
    "duration": 15,
    "start_time": "2023-07-03T17:12:06.335Z"
   },
   {
    "duration": 9,
    "start_time": "2023-07-03T17:12:06.352Z"
   },
   {
    "duration": 23,
    "start_time": "2023-07-03T17:12:06.362Z"
   },
   {
    "duration": 10314,
    "start_time": "2023-07-03T17:12:06.387Z"
   },
   {
    "duration": 0,
    "start_time": "2023-07-03T17:12:16.703Z"
   },
   {
    "duration": 0,
    "start_time": "2023-07-03T17:12:16.704Z"
   },
   {
    "duration": 0,
    "start_time": "2023-07-03T17:12:16.705Z"
   },
   {
    "duration": 0,
    "start_time": "2023-07-03T17:12:16.705Z"
   },
   {
    "duration": 0,
    "start_time": "2023-07-03T17:12:16.706Z"
   },
   {
    "duration": 0,
    "start_time": "2023-07-03T17:12:16.707Z"
   },
   {
    "duration": 0,
    "start_time": "2023-07-03T17:12:16.708Z"
   },
   {
    "duration": 6,
    "start_time": "2023-07-03T17:13:28.844Z"
   },
   {
    "duration": 819,
    "start_time": "2023-07-03T17:13:28.852Z"
   },
   {
    "duration": 7,
    "start_time": "2023-07-03T17:13:29.672Z"
   },
   {
    "duration": 98,
    "start_time": "2023-07-03T17:13:29.681Z"
   },
   {
    "duration": 203,
    "start_time": "2023-07-03T17:13:29.781Z"
   },
   {
    "duration": 6,
    "start_time": "2023-07-03T17:13:29.986Z"
   },
   {
    "duration": 142,
    "start_time": "2023-07-03T17:13:29.993Z"
   },
   {
    "duration": 446,
    "start_time": "2023-07-03T17:13:30.138Z"
   },
   {
    "duration": 5,
    "start_time": "2023-07-03T17:13:30.586Z"
   },
   {
    "duration": 65,
    "start_time": "2023-07-03T17:13:30.593Z"
   },
   {
    "duration": 38,
    "start_time": "2023-07-03T17:13:30.660Z"
   },
   {
    "duration": 84,
    "start_time": "2023-07-03T17:13:30.700Z"
   },
   {
    "duration": 21335,
    "start_time": "2023-07-03T17:13:30.785Z"
   },
   {
    "duration": 0,
    "start_time": "2023-07-03T17:13:52.122Z"
   },
   {
    "duration": 0,
    "start_time": "2023-07-03T17:13:52.123Z"
   },
   {
    "duration": 0,
    "start_time": "2023-07-03T17:13:52.124Z"
   },
   {
    "duration": 0,
    "start_time": "2023-07-03T17:13:52.126Z"
   },
   {
    "duration": 0,
    "start_time": "2023-07-03T17:13:52.127Z"
   },
   {
    "duration": 0,
    "start_time": "2023-07-03T17:13:52.128Z"
   },
   {
    "duration": 0,
    "start_time": "2023-07-03T17:13:52.129Z"
   },
   {
    "duration": 7,
    "start_time": "2023-07-03T17:13:53.016Z"
   },
   {
    "duration": 1016,
    "start_time": "2023-07-03T17:13:53.026Z"
   },
   {
    "duration": 7,
    "start_time": "2023-07-03T17:13:54.044Z"
   },
   {
    "duration": 38,
    "start_time": "2023-07-03T17:13:54.053Z"
   },
   {
    "duration": 222,
    "start_time": "2023-07-03T17:13:54.094Z"
   },
   {
    "duration": 14,
    "start_time": "2023-07-03T17:13:54.317Z"
   },
   {
    "duration": 138,
    "start_time": "2023-07-03T17:13:54.333Z"
   },
   {
    "duration": 519,
    "start_time": "2023-07-03T17:13:54.473Z"
   },
   {
    "duration": 4,
    "start_time": "2023-07-03T17:13:54.994Z"
   },
   {
    "duration": 12,
    "start_time": "2023-07-03T17:13:55.000Z"
   },
   {
    "duration": 21,
    "start_time": "2023-07-03T17:13:55.013Z"
   },
   {
    "duration": 24,
    "start_time": "2023-07-03T17:13:55.035Z"
   },
   {
    "duration": 16551,
    "start_time": "2023-07-03T17:13:55.061Z"
   },
   {
    "duration": 0,
    "start_time": "2023-07-03T17:14:11.614Z"
   },
   {
    "duration": 0,
    "start_time": "2023-07-03T17:14:11.615Z"
   },
   {
    "duration": 0,
    "start_time": "2023-07-03T17:14:11.617Z"
   },
   {
    "duration": 0,
    "start_time": "2023-07-03T17:14:11.619Z"
   },
   {
    "duration": 0,
    "start_time": "2023-07-03T17:14:11.620Z"
   },
   {
    "duration": 0,
    "start_time": "2023-07-03T17:14:11.622Z"
   },
   {
    "duration": 0,
    "start_time": "2023-07-03T17:14:11.623Z"
   },
   {
    "duration": 7,
    "start_time": "2023-07-03T17:15:14.645Z"
   },
   {
    "duration": 1209,
    "start_time": "2023-07-03T17:15:14.656Z"
   },
   {
    "duration": 6,
    "start_time": "2023-07-03T17:15:15.867Z"
   },
   {
    "duration": 32,
    "start_time": "2023-07-03T17:15:15.874Z"
   },
   {
    "duration": 220,
    "start_time": "2023-07-03T17:15:15.907Z"
   },
   {
    "duration": 6,
    "start_time": "2023-07-03T17:15:16.131Z"
   },
   {
    "duration": 132,
    "start_time": "2023-07-03T17:15:16.139Z"
   },
   {
    "duration": 416,
    "start_time": "2023-07-03T17:15:16.273Z"
   },
   {
    "duration": 4,
    "start_time": "2023-07-03T17:15:16.691Z"
   },
   {
    "duration": 17,
    "start_time": "2023-07-03T17:15:16.697Z"
   },
   {
    "duration": 6,
    "start_time": "2023-07-03T17:15:16.715Z"
   },
   {
    "duration": 23,
    "start_time": "2023-07-03T17:15:16.723Z"
   },
   {
    "duration": 6285,
    "start_time": "2023-07-03T17:15:16.747Z"
   },
   {
    "duration": 0,
    "start_time": "2023-07-03T17:15:23.034Z"
   },
   {
    "duration": 0,
    "start_time": "2023-07-03T17:15:23.036Z"
   },
   {
    "duration": 0,
    "start_time": "2023-07-03T17:15:23.037Z"
   },
   {
    "duration": 0,
    "start_time": "2023-07-03T17:15:23.038Z"
   },
   {
    "duration": 0,
    "start_time": "2023-07-03T17:15:23.039Z"
   },
   {
    "duration": 0,
    "start_time": "2023-07-03T17:15:23.040Z"
   },
   {
    "duration": 0,
    "start_time": "2023-07-03T17:15:23.041Z"
   },
   {
    "duration": 7,
    "start_time": "2023-07-03T17:16:23.127Z"
   },
   {
    "duration": 922,
    "start_time": "2023-07-03T17:16:23.136Z"
   },
   {
    "duration": 5,
    "start_time": "2023-07-03T17:16:24.060Z"
   },
   {
    "duration": 32,
    "start_time": "2023-07-03T17:16:24.067Z"
   },
   {
    "duration": 226,
    "start_time": "2023-07-03T17:16:24.100Z"
   },
   {
    "duration": 9,
    "start_time": "2023-07-03T17:16:24.331Z"
   },
   {
    "duration": 149,
    "start_time": "2023-07-03T17:16:24.342Z"
   },
   {
    "duration": 468,
    "start_time": "2023-07-03T17:16:24.492Z"
   },
   {
    "duration": 3,
    "start_time": "2023-07-03T17:16:24.962Z"
   },
   {
    "duration": 10,
    "start_time": "2023-07-03T17:16:24.968Z"
   },
   {
    "duration": 13,
    "start_time": "2023-07-03T17:16:24.979Z"
   },
   {
    "duration": 26,
    "start_time": "2023-07-03T17:16:24.993Z"
   },
   {
    "duration": 1003648,
    "start_time": "2023-07-03T17:16:25.021Z"
   },
   {
    "duration": 6,
    "start_time": "2023-07-03T17:33:08.671Z"
   },
   {
    "duration": 63,
    "start_time": "2023-07-03T17:33:08.678Z"
   },
   {
    "duration": 6,
    "start_time": "2023-07-03T17:33:08.742Z"
   },
   {
    "duration": 7,
    "start_time": "2023-07-03T17:33:08.750Z"
   },
   {
    "duration": 11,
    "start_time": "2023-07-03T17:33:08.759Z"
   },
   {
    "duration": 9,
    "start_time": "2023-07-03T17:33:08.772Z"
   },
   {
    "duration": 9,
    "start_time": "2023-07-03T17:33:08.783Z"
   },
   {
    "duration": 6106,
    "start_time": "2023-07-03T17:34:11.304Z"
   },
   {
    "duration": 3,
    "start_time": "2023-07-03T17:34:17.412Z"
   },
   {
    "duration": 177,
    "start_time": "2023-07-03T17:34:36.455Z"
   },
   {
    "duration": 17,
    "start_time": "2023-07-03T17:35:18.611Z"
   },
   {
    "duration": 4,
    "start_time": "2023-07-03T17:35:35.403Z"
   },
   {
    "duration": 366372,
    "start_time": "2023-07-03T17:37:36.944Z"
   },
   {
    "duration": 4411,
    "start_time": "2023-07-03T17:47:58.250Z"
   },
   {
    "duration": 1100,
    "start_time": "2023-07-03T17:48:02.664Z"
   },
   {
    "duration": 6,
    "start_time": "2023-07-03T17:48:03.766Z"
   },
   {
    "duration": 56,
    "start_time": "2023-07-03T17:48:03.774Z"
   },
   {
    "duration": 240,
    "start_time": "2023-07-03T17:48:03.833Z"
   },
   {
    "duration": 10,
    "start_time": "2023-07-03T17:48:04.075Z"
   },
   {
    "duration": 161,
    "start_time": "2023-07-03T17:48:04.087Z"
   },
   {
    "duration": 518,
    "start_time": "2023-07-03T17:48:04.250Z"
   },
   {
    "duration": 5,
    "start_time": "2023-07-03T17:48:04.770Z"
   },
   {
    "duration": 13,
    "start_time": "2023-07-03T17:48:04.777Z"
   },
   {
    "duration": 30,
    "start_time": "2023-07-03T17:48:04.792Z"
   },
   {
    "duration": 63,
    "start_time": "2023-07-03T17:48:04.825Z"
   },
   {
    "duration": 1068110,
    "start_time": "2023-07-03T17:48:04.890Z"
   },
   {
    "duration": 3,
    "start_time": "2023-07-03T18:05:53.003Z"
   },
   {
    "duration": 65,
    "start_time": "2023-07-03T18:05:53.008Z"
   },
   {
    "duration": 4,
    "start_time": "2023-07-03T18:05:53.075Z"
   },
   {
    "duration": 7,
    "start_time": "2023-07-03T18:05:53.081Z"
   },
   {
    "duration": 8,
    "start_time": "2023-07-03T18:05:53.089Z"
   },
   {
    "duration": 7082,
    "start_time": "2023-07-03T18:05:53.098Z"
   },
   {
    "duration": 4,
    "start_time": "2023-07-03T18:06:00.182Z"
   },
   {
    "duration": 1134667,
    "start_time": "2023-07-03T18:06:00.187Z"
   },
   {
    "duration": 557,
    "start_time": "2023-07-03T18:24:54.857Z"
   },
   {
    "duration": 57,
    "start_time": "2023-07-03T18:27:45.796Z"
   },
   {
    "duration": 1814548,
    "start_time": "2023-07-03T18:27:54.878Z"
   },
   {
    "duration": 103,
    "start_time": "2023-07-03T19:03:42.844Z"
   },
   {
    "duration": 154,
    "start_time": "2023-07-03T19:03:50.628Z"
   },
   {
    "duration": 709205,
    "start_time": "2023-07-03T19:03:56.868Z"
   },
   {
    "duration": 4922,
    "start_time": "2023-07-04T00:56:04.949Z"
   },
   {
    "duration": 2459,
    "start_time": "2023-07-04T00:56:09.873Z"
   },
   {
    "duration": 6,
    "start_time": "2023-07-04T00:56:12.333Z"
   },
   {
    "duration": 34,
    "start_time": "2023-07-04T00:56:12.342Z"
   },
   {
    "duration": 218,
    "start_time": "2023-07-04T00:56:12.378Z"
   },
   {
    "duration": 7,
    "start_time": "2023-07-04T00:56:12.598Z"
   },
   {
    "duration": 137,
    "start_time": "2023-07-04T00:56:12.606Z"
   },
   {
    "duration": 462,
    "start_time": "2023-07-04T00:56:12.745Z"
   },
   {
    "duration": 4,
    "start_time": "2023-07-04T00:56:13.208Z"
   },
   {
    "duration": 19,
    "start_time": "2023-07-04T00:56:13.214Z"
   },
   {
    "duration": 7,
    "start_time": "2023-07-04T00:56:13.235Z"
   },
   {
    "duration": 27,
    "start_time": "2023-07-04T00:56:13.243Z"
   },
   {
    "duration": 605036,
    "start_time": "2023-07-04T00:56:13.271Z"
   },
   {
    "duration": 0,
    "start_time": "2023-07-04T01:06:18.308Z"
   },
   {
    "duration": 0,
    "start_time": "2023-07-04T01:06:18.309Z"
   },
   {
    "duration": 0,
    "start_time": "2023-07-04T01:06:18.311Z"
   },
   {
    "duration": 0,
    "start_time": "2023-07-04T01:06:18.312Z"
   },
   {
    "duration": 0,
    "start_time": "2023-07-04T01:06:18.313Z"
   },
   {
    "duration": 0,
    "start_time": "2023-07-04T01:06:18.315Z"
   },
   {
    "duration": 0,
    "start_time": "2023-07-04T01:06:18.316Z"
   },
   {
    "duration": 0,
    "start_time": "2023-07-04T01:06:18.317Z"
   },
   {
    "duration": 0,
    "start_time": "2023-07-04T01:06:18.319Z"
   },
   {
    "duration": 0,
    "start_time": "2023-07-04T01:06:18.321Z"
   },
   {
    "duration": 7,
    "start_time": "2023-07-04T01:11:48.965Z"
   },
   {
    "duration": 873,
    "start_time": "2023-07-04T01:11:48.975Z"
   },
   {
    "duration": 7,
    "start_time": "2023-07-04T01:11:49.850Z"
   },
   {
    "duration": 35,
    "start_time": "2023-07-04T01:11:49.859Z"
   },
   {
    "duration": 227,
    "start_time": "2023-07-04T01:11:49.896Z"
   },
   {
    "duration": 7,
    "start_time": "2023-07-04T01:11:50.132Z"
   },
   {
    "duration": 131,
    "start_time": "2023-07-04T01:11:50.141Z"
   },
   {
    "duration": 507,
    "start_time": "2023-07-04T01:11:50.274Z"
   },
   {
    "duration": 4,
    "start_time": "2023-07-04T01:11:50.783Z"
   },
   {
    "duration": 30,
    "start_time": "2023-07-04T01:11:50.789Z"
   },
   {
    "duration": 27,
    "start_time": "2023-07-04T01:11:50.822Z"
   },
   {
    "duration": 36,
    "start_time": "2023-07-04T01:11:50.852Z"
   },
   {
    "duration": 988877,
    "start_time": "2023-07-04T01:11:50.890Z"
   },
   {
    "duration": 3,
    "start_time": "2023-07-04T01:28:19.770Z"
   },
   {
    "duration": 95,
    "start_time": "2023-07-04T01:28:19.774Z"
   },
   {
    "duration": 4,
    "start_time": "2023-07-04T01:28:19.870Z"
   },
   {
    "duration": 8,
    "start_time": "2023-07-04T01:28:19.875Z"
   },
   {
    "duration": 28,
    "start_time": "2023-07-04T01:28:19.885Z"
   },
   {
    "duration": 6374,
    "start_time": "2023-07-04T01:28:19.915Z"
   },
   {
    "duration": 4,
    "start_time": "2023-07-04T01:28:26.290Z"
   },
   {
    "duration": 349917,
    "start_time": "2023-07-04T01:28:26.296Z"
   },
   {
    "duration": 64326,
    "start_time": "2023-07-04T01:34:16.215Z"
   },
   {
    "duration": 38046,
    "start_time": "2023-07-04T01:35:20.543Z"
   },
   {
    "duration": 5,
    "start_time": "2023-07-04T01:35:58.598Z"
   },
   {
    "duration": 6,
    "start_time": "2023-07-04T01:37:34.362Z"
   },
   {
    "duration": 3788577,
    "start_time": "2023-07-04T01:40:19.762Z"
   },
   {
    "duration": 4473,
    "start_time": "2023-07-04T03:06:04.105Z"
   },
   {
    "duration": 1088,
    "start_time": "2023-07-04T03:06:08.580Z"
   },
   {
    "duration": 6,
    "start_time": "2023-07-04T03:06:09.670Z"
   },
   {
    "duration": 35,
    "start_time": "2023-07-04T03:06:09.678Z"
   },
   {
    "duration": 229,
    "start_time": "2023-07-04T03:06:09.715Z"
   },
   {
    "duration": 7,
    "start_time": "2023-07-04T03:06:09.945Z"
   },
   {
    "duration": 142,
    "start_time": "2023-07-04T03:06:09.954Z"
   },
   {
    "duration": 479,
    "start_time": "2023-07-04T03:06:10.097Z"
   },
   {
    "duration": 5,
    "start_time": "2023-07-04T03:06:10.577Z"
   },
   {
    "duration": 8,
    "start_time": "2023-07-04T03:06:10.584Z"
   },
   {
    "duration": 12,
    "start_time": "2023-07-04T03:06:10.593Z"
   },
   {
    "duration": 37,
    "start_time": "2023-07-04T03:06:10.607Z"
   },
   {
    "duration": 977560,
    "start_time": "2023-07-04T03:06:10.649Z"
   },
   {
    "duration": 3,
    "start_time": "2023-07-04T03:22:28.211Z"
   },
   {
    "duration": 55,
    "start_time": "2023-07-04T03:22:28.231Z"
   },
   {
    "duration": 4,
    "start_time": "2023-07-04T03:22:28.288Z"
   },
   {
    "duration": 1963,
    "start_time": "2023-07-04T03:22:28.293Z"
   },
   {
    "duration": 8759,
    "start_time": "2023-07-04T03:22:30.258Z"
   },
   {
    "duration": 3,
    "start_time": "2023-07-04T03:22:39.019Z"
   },
   {
    "duration": 10,
    "start_time": "2023-07-04T03:22:39.023Z"
   },
   {
    "duration": 4625,
    "start_time": "2023-07-04T05:29:05.329Z"
   },
   {
    "duration": 2438,
    "start_time": "2023-07-04T05:29:09.957Z"
   },
   {
    "duration": 5,
    "start_time": "2023-07-04T05:29:12.397Z"
   },
   {
    "duration": 80,
    "start_time": "2023-07-04T05:29:12.404Z"
   },
   {
    "duration": 221,
    "start_time": "2023-07-04T05:29:12.486Z"
   },
   {
    "duration": 7,
    "start_time": "2023-07-04T05:29:12.708Z"
   },
   {
    "duration": 146,
    "start_time": "2023-07-04T05:29:12.716Z"
   },
   {
    "duration": 500,
    "start_time": "2023-07-04T05:29:12.864Z"
   },
   {
    "duration": 4,
    "start_time": "2023-07-04T05:29:13.366Z"
   },
   {
    "duration": 9,
    "start_time": "2023-07-04T05:29:13.371Z"
   },
   {
    "duration": 7,
    "start_time": "2023-07-04T05:29:13.381Z"
   },
   {
    "duration": 28,
    "start_time": "2023-07-04T05:29:13.390Z"
   },
   {
    "duration": 995483,
    "start_time": "2023-07-04T05:29:13.431Z"
   },
   {
    "duration": 3,
    "start_time": "2023-07-04T05:45:48.931Z"
   },
   {
    "duration": 71,
    "start_time": "2023-07-04T05:45:48.936Z"
   },
   {
    "duration": 3,
    "start_time": "2023-07-04T05:45:49.009Z"
   },
   {
    "duration": 2096,
    "start_time": "2023-07-04T05:45:49.013Z"
   },
   {
    "duration": 9180,
    "start_time": "2023-07-04T05:45:51.110Z"
   },
   {
    "duration": 4,
    "start_time": "2023-07-04T05:46:00.292Z"
   },
   {
    "duration": 5229,
    "start_time": "2023-07-04T06:35:31.541Z"
   },
   {
    "duration": 2405,
    "start_time": "2023-07-04T06:35:36.772Z"
   },
   {
    "duration": 5,
    "start_time": "2023-07-04T06:35:39.179Z"
   },
   {
    "duration": 49,
    "start_time": "2023-07-04T06:35:39.186Z"
   },
   {
    "duration": 215,
    "start_time": "2023-07-04T06:35:39.237Z"
   },
   {
    "duration": 8,
    "start_time": "2023-07-04T06:35:39.453Z"
   },
   {
    "duration": 167,
    "start_time": "2023-07-04T06:35:39.462Z"
   },
   {
    "duration": 474,
    "start_time": "2023-07-04T06:35:39.631Z"
   },
   {
    "duration": 5,
    "start_time": "2023-07-04T06:35:40.106Z"
   },
   {
    "duration": 21,
    "start_time": "2023-07-04T06:35:40.114Z"
   },
   {
    "duration": 11,
    "start_time": "2023-07-04T06:35:40.137Z"
   },
   {
    "duration": 25,
    "start_time": "2023-07-04T06:35:40.149Z"
   },
   {
    "duration": 990936,
    "start_time": "2023-07-04T06:35:40.176Z"
   },
   {
    "duration": 4,
    "start_time": "2023-07-04T06:52:11.114Z"
   },
   {
    "duration": 76,
    "start_time": "2023-07-04T06:52:11.120Z"
   },
   {
    "duration": 4,
    "start_time": "2023-07-04T06:52:11.198Z"
   },
   {
    "duration": 2124,
    "start_time": "2023-07-04T06:52:11.204Z"
   },
   {
    "duration": 8718,
    "start_time": "2023-07-04T06:52:13.330Z"
   },
   {
    "duration": 4,
    "start_time": "2023-07-04T06:52:22.050Z"
   },
   {
    "duration": 155,
    "start_time": "2023-07-04T06:54:02.805Z"
   },
   {
    "duration": 45,
    "start_time": "2023-07-06T15:48:52.497Z"
   },
   {
    "duration": 4914,
    "start_time": "2023-07-06T15:49:02.157Z"
   },
   {
    "duration": 334,
    "start_time": "2023-07-06T15:49:12.659Z"
   },
   {
    "duration": 2,
    "start_time": "2023-07-06T16:54:35.036Z"
   }
  ],
  "accelerator": "GPU",
  "colab": {
   "gpuType": "T4",
   "provenance": []
  },
  "kernelspec": {
   "display_name": "Python 3 (ipykernel)",
   "language": "python",
   "name": "python3"
  },
  "language_info": {
   "codemirror_mode": {
    "name": "ipython",
    "version": 3
   },
   "file_extension": ".py",
   "mimetype": "text/x-python",
   "name": "python",
   "nbconvert_exporter": "python",
   "pygments_lexer": "ipython3",
   "version": "3.7.4"
  },
  "toc": {
   "base_numbering": 1,
   "nav_menu": {},
   "number_sections": true,
   "sideBar": true,
   "skip_h1_title": true,
   "title_cell": "Содержание",
   "title_sidebar": "Contents",
   "toc_cell": true,
   "toc_position": {
    "height": "calc(100% - 180px)",
    "left": "10px",
    "top": "150px",
    "width": "302.375px"
   },
   "toc_section_display": true,
   "toc_window_display": true
  },
  "widgets": {
   "application/vnd.jupyter.widget-state+json": {
    "0218763238f84d34b81c7a73f50a7416": {
     "model_module": "@jupyter-widgets/controls",
     "model_module_version": "1.5.0",
     "model_name": "HTMLModel",
     "state": {
      "_dom_classes": [],
      "_model_module": "@jupyter-widgets/controls",
      "_model_module_version": "1.5.0",
      "_model_name": "HTMLModel",
      "_view_count": null,
      "_view_module": "@jupyter-widgets/controls",
      "_view_module_version": "1.5.0",
      "_view_name": "HTMLView",
      "description": "",
      "description_tooltip": null,
      "layout": "IPY_MODEL_2cc6a19c31d1424394f23bd2a1caf050",
      "placeholder": "​",
      "style": "IPY_MODEL_e42867da9ca8486aa484e0d514783791",
      "value": " 112/112 [00:00&lt;00:00, 8.88kB/s]"
     }
    },
    "06116b00adff462886e951284d887e93": {
     "model_module": "@jupyter-widgets/controls",
     "model_module_version": "1.5.0",
     "model_name": "HBoxModel",
     "state": {
      "_dom_classes": [],
      "_model_module": "@jupyter-widgets/controls",
      "_model_module_version": "1.5.0",
      "_model_name": "HBoxModel",
      "_view_count": null,
      "_view_module": "@jupyter-widgets/controls",
      "_view_module_version": "1.5.0",
      "_view_name": "HBoxView",
      "box_style": "",
      "children": [
       "IPY_MODEL_a46138001ebb481082275f44a6385029",
       "IPY_MODEL_d589a9b452b74cdd9f7ba437b74ca692",
       "IPY_MODEL_0218763238f84d34b81c7a73f50a7416"
      ],
      "layout": "IPY_MODEL_ee6301e6667d400fbfa83fd277f97c3d"
     }
    },
    "06973c31c6f94ce19b2109faa804f5f8": {
     "model_module": "@jupyter-widgets/controls",
     "model_module_version": "1.5.0",
     "model_name": "DescriptionStyleModel",
     "state": {
      "_model_module": "@jupyter-widgets/controls",
      "_model_module_version": "1.5.0",
      "_model_name": "DescriptionStyleModel",
      "_view_count": null,
      "_view_module": "@jupyter-widgets/base",
      "_view_module_version": "1.2.0",
      "_view_name": "StyleView",
      "description_width": ""
     }
    },
    "09b611a1f6854e789c219bb0b867ef9d": {
     "model_module": "@jupyter-widgets/base",
     "model_module_version": "1.2.0",
     "model_name": "LayoutModel",
     "state": {
      "_model_module": "@jupyter-widgets/base",
      "_model_module_version": "1.2.0",
      "_model_name": "LayoutModel",
      "_view_count": null,
      "_view_module": "@jupyter-widgets/base",
      "_view_module_version": "1.2.0",
      "_view_name": "LayoutView",
      "align_content": null,
      "align_items": null,
      "align_self": null,
      "border": null,
      "bottom": null,
      "display": null,
      "flex": null,
      "flex_flow": null,
      "grid_area": null,
      "grid_auto_columns": null,
      "grid_auto_flow": null,
      "grid_auto_rows": null,
      "grid_column": null,
      "grid_gap": null,
      "grid_row": null,
      "grid_template_areas": null,
      "grid_template_columns": null,
      "grid_template_rows": null,
      "height": null,
      "justify_content": null,
      "justify_items": null,
      "left": null,
      "margin": null,
      "max_height": null,
      "max_width": null,
      "min_height": null,
      "min_width": null,
      "object_fit": null,
      "object_position": null,
      "order": null,
      "overflow": null,
      "overflow_x": null,
      "overflow_y": null,
      "padding": null,
      "right": null,
      "top": null,
      "visibility": null,
      "width": null
     }
    },
    "0a245c29ad0f4b558adc9f4f2853a13c": {
     "model_module": "@jupyter-widgets/base",
     "model_module_version": "1.2.0",
     "model_name": "LayoutModel",
     "state": {
      "_model_module": "@jupyter-widgets/base",
      "_model_module_version": "1.2.0",
      "_model_name": "LayoutModel",
      "_view_count": null,
      "_view_module": "@jupyter-widgets/base",
      "_view_module_version": "1.2.0",
      "_view_name": "LayoutView",
      "align_content": null,
      "align_items": null,
      "align_self": null,
      "border": null,
      "bottom": null,
      "display": null,
      "flex": null,
      "flex_flow": null,
      "grid_area": null,
      "grid_auto_columns": null,
      "grid_auto_flow": null,
      "grid_auto_rows": null,
      "grid_column": null,
      "grid_gap": null,
      "grid_row": null,
      "grid_template_areas": null,
      "grid_template_columns": null,
      "grid_template_rows": null,
      "height": null,
      "justify_content": null,
      "justify_items": null,
      "left": null,
      "margin": null,
      "max_height": null,
      "max_width": null,
      "min_height": null,
      "min_width": null,
      "object_fit": null,
      "object_position": null,
      "order": null,
      "overflow": null,
      "overflow_x": null,
      "overflow_y": null,
      "padding": null,
      "right": null,
      "top": null,
      "visibility": null,
      "width": null
     }
    },
    "1248d63e2ed94e248375bd824db5f8b4": {
     "model_module": "@jupyter-widgets/controls",
     "model_module_version": "1.5.0",
     "model_name": "DescriptionStyleModel",
     "state": {
      "_model_module": "@jupyter-widgets/controls",
      "_model_module_version": "1.5.0",
      "_model_name": "DescriptionStyleModel",
      "_view_count": null,
      "_view_module": "@jupyter-widgets/base",
      "_view_module_version": "1.2.0",
      "_view_name": "StyleView",
      "description_width": ""
     }
    },
    "14ae86cf096e414494e826fbcfa45f7f": {
     "model_module": "@jupyter-widgets/controls",
     "model_module_version": "1.5.0",
     "model_name": "ProgressStyleModel",
     "state": {
      "_model_module": "@jupyter-widgets/controls",
      "_model_module_version": "1.5.0",
      "_model_name": "ProgressStyleModel",
      "_view_count": null,
      "_view_module": "@jupyter-widgets/base",
      "_view_module_version": "1.2.0",
      "_view_name": "StyleView",
      "bar_color": null,
      "description_width": ""
     }
    },
    "1acd5487ca7c46aebbdcf1c16712a198": {
     "model_module": "@jupyter-widgets/controls",
     "model_module_version": "1.5.0",
     "model_name": "HTMLModel",
     "state": {
      "_dom_classes": [],
      "_model_module": "@jupyter-widgets/controls",
      "_model_module_version": "1.5.0",
      "_model_name": "HTMLModel",
      "_view_count": null,
      "_view_module": "@jupyter-widgets/controls",
      "_view_module_version": "1.5.0",
      "_view_name": "HTMLView",
      "description": "",
      "description_tooltip": null,
      "layout": "IPY_MODEL_09b611a1f6854e789c219bb0b867ef9d",
      "placeholder": "​",
      "style": "IPY_MODEL_34e70b5477c0448db7e0bdad8af4fd9e",
      "value": "Downloading (…)okenizer_config.json: 100%"
     }
    },
    "1c3708222bf749fab78535cd6f6f23ae": {
     "model_module": "@jupyter-widgets/base",
     "model_module_version": "1.2.0",
     "model_name": "LayoutModel",
     "state": {
      "_model_module": "@jupyter-widgets/base",
      "_model_module_version": "1.2.0",
      "_model_name": "LayoutModel",
      "_view_count": null,
      "_view_module": "@jupyter-widgets/base",
      "_view_module_version": "1.2.0",
      "_view_name": "LayoutView",
      "align_content": null,
      "align_items": null,
      "align_self": null,
      "border": null,
      "bottom": null,
      "display": null,
      "flex": null,
      "flex_flow": null,
      "grid_area": null,
      "grid_auto_columns": null,
      "grid_auto_flow": null,
      "grid_auto_rows": null,
      "grid_column": null,
      "grid_gap": null,
      "grid_row": null,
      "grid_template_areas": null,
      "grid_template_columns": null,
      "grid_template_rows": null,
      "height": null,
      "justify_content": null,
      "justify_items": null,
      "left": null,
      "margin": null,
      "max_height": null,
      "max_width": null,
      "min_height": null,
      "min_width": null,
      "object_fit": null,
      "object_position": null,
      "order": null,
      "overflow": null,
      "overflow_x": null,
      "overflow_y": null,
      "padding": null,
      "right": null,
      "top": null,
      "visibility": null,
      "width": null
     }
    },
    "236fe2d2dd014b269ae798521d95c89a": {
     "model_module": "@jupyter-widgets/controls",
     "model_module_version": "1.5.0",
     "model_name": "DescriptionStyleModel",
     "state": {
      "_model_module": "@jupyter-widgets/controls",
      "_model_module_version": "1.5.0",
      "_model_name": "DescriptionStyleModel",
      "_view_count": null,
      "_view_module": "@jupyter-widgets/base",
      "_view_module_version": "1.2.0",
      "_view_name": "StyleView",
      "description_width": ""
     }
    },
    "274412b82d224c2497d9073cd51b0a66": {
     "model_module": "@jupyter-widgets/controls",
     "model_module_version": "1.5.0",
     "model_name": "HTMLModel",
     "state": {
      "_dom_classes": [],
      "_model_module": "@jupyter-widgets/controls",
      "_model_module_version": "1.5.0",
      "_model_name": "HTMLModel",
      "_view_count": null,
      "_view_module": "@jupyter-widgets/controls",
      "_view_module_version": "1.5.0",
      "_view_name": "HTMLView",
      "description": "",
      "description_tooltip": null,
      "layout": "IPY_MODEL_a829d7d93583418a99e140972cfd521e",
      "placeholder": "​",
      "style": "IPY_MODEL_236fe2d2dd014b269ae798521d95c89a",
      "value": " 438M/438M [00:05&lt;00:00, 99.4MB/s]"
     }
    },
    "2b5cc204dab5437087fd1f4d1351ab4a": {
     "model_module": "@jupyter-widgets/controls",
     "model_module_version": "1.5.0",
     "model_name": "ProgressStyleModel",
     "state": {
      "_model_module": "@jupyter-widgets/controls",
      "_model_module_version": "1.5.0",
      "_model_name": "ProgressStyleModel",
      "_view_count": null,
      "_view_module": "@jupyter-widgets/base",
      "_view_module_version": "1.2.0",
      "_view_name": "StyleView",
      "bar_color": null,
      "description_width": ""
     }
    },
    "2cc6a19c31d1424394f23bd2a1caf050": {
     "model_module": "@jupyter-widgets/base",
     "model_module_version": "1.2.0",
     "model_name": "LayoutModel",
     "state": {
      "_model_module": "@jupyter-widgets/base",
      "_model_module_version": "1.2.0",
      "_model_name": "LayoutModel",
      "_view_count": null,
      "_view_module": "@jupyter-widgets/base",
      "_view_module_version": "1.2.0",
      "_view_name": "LayoutView",
      "align_content": null,
      "align_items": null,
      "align_self": null,
      "border": null,
      "bottom": null,
      "display": null,
      "flex": null,
      "flex_flow": null,
      "grid_area": null,
      "grid_auto_columns": null,
      "grid_auto_flow": null,
      "grid_auto_rows": null,
      "grid_column": null,
      "grid_gap": null,
      "grid_row": null,
      "grid_template_areas": null,
      "grid_template_columns": null,
      "grid_template_rows": null,
      "height": null,
      "justify_content": null,
      "justify_items": null,
      "left": null,
      "margin": null,
      "max_height": null,
      "max_width": null,
      "min_height": null,
      "min_width": null,
      "object_fit": null,
      "object_position": null,
      "order": null,
      "overflow": null,
      "overflow_x": null,
      "overflow_y": null,
      "padding": null,
      "right": null,
      "top": null,
      "visibility": null,
      "width": null
     }
    },
    "2ec9dca25bde49a3a3d04415bde2d0a7": {
     "model_module": "@jupyter-widgets/controls",
     "model_module_version": "1.5.0",
     "model_name": "DescriptionStyleModel",
     "state": {
      "_model_module": "@jupyter-widgets/controls",
      "_model_module_version": "1.5.0",
      "_model_name": "DescriptionStyleModel",
      "_view_count": null,
      "_view_module": "@jupyter-widgets/base",
      "_view_module_version": "1.2.0",
      "_view_name": "StyleView",
      "description_width": ""
     }
    },
    "31a0ea1b853047f29a31a343513acd06": {
     "model_module": "@jupyter-widgets/controls",
     "model_module_version": "1.5.0",
     "model_name": "HBoxModel",
     "state": {
      "_dom_classes": [],
      "_model_module": "@jupyter-widgets/controls",
      "_model_module_version": "1.5.0",
      "_model_name": "HBoxModel",
      "_view_count": null,
      "_view_module": "@jupyter-widgets/controls",
      "_view_module_version": "1.5.0",
      "_view_name": "HBoxView",
      "box_style": "",
      "children": [
       "IPY_MODEL_827c726b229148fb8d54aed72278e106",
       "IPY_MODEL_ae51ec7c886147919faa2c54bf4442fc",
       "IPY_MODEL_f0c07276009e40d7a497894c6fe38817"
      ],
      "layout": "IPY_MODEL_f91e8d0a949a4a2fab19942b7636317c"
     }
    },
    "34e70b5477c0448db7e0bdad8af4fd9e": {
     "model_module": "@jupyter-widgets/controls",
     "model_module_version": "1.5.0",
     "model_name": "DescriptionStyleModel",
     "state": {
      "_model_module": "@jupyter-widgets/controls",
      "_model_module_version": "1.5.0",
      "_model_name": "DescriptionStyleModel",
      "_view_count": null,
      "_view_module": "@jupyter-widgets/base",
      "_view_module_version": "1.2.0",
      "_view_name": "StyleView",
      "description_width": ""
     }
    },
    "362292822cd94cc1a7182349ca42987b": {
     "model_module": "@jupyter-widgets/base",
     "model_module_version": "1.2.0",
     "model_name": "LayoutModel",
     "state": {
      "_model_module": "@jupyter-widgets/base",
      "_model_module_version": "1.2.0",
      "_model_name": "LayoutModel",
      "_view_count": null,
      "_view_module": "@jupyter-widgets/base",
      "_view_module_version": "1.2.0",
      "_view_name": "LayoutView",
      "align_content": null,
      "align_items": null,
      "align_self": null,
      "border": null,
      "bottom": null,
      "display": null,
      "flex": null,
      "flex_flow": null,
      "grid_area": null,
      "grid_auto_columns": null,
      "grid_auto_flow": null,
      "grid_auto_rows": null,
      "grid_column": null,
      "grid_gap": null,
      "grid_row": null,
      "grid_template_areas": null,
      "grid_template_columns": null,
      "grid_template_rows": null,
      "height": null,
      "justify_content": null,
      "justify_items": null,
      "left": null,
      "margin": null,
      "max_height": null,
      "max_width": null,
      "min_height": null,
      "min_width": null,
      "object_fit": null,
      "object_position": null,
      "order": null,
      "overflow": null,
      "overflow_x": null,
      "overflow_y": null,
      "padding": null,
      "right": null,
      "top": null,
      "visibility": null,
      "width": null
     }
    },
    "3c70830dffe44c369e9799c70fe31f74": {
     "model_module": "@jupyter-widgets/controls",
     "model_module_version": "1.5.0",
     "model_name": "FloatProgressModel",
     "state": {
      "_dom_classes": [],
      "_model_module": "@jupyter-widgets/controls",
      "_model_module_version": "1.5.0",
      "_model_name": "FloatProgressModel",
      "_view_count": null,
      "_view_module": "@jupyter-widgets/controls",
      "_view_module_version": "1.5.0",
      "_view_name": "ProgressView",
      "bar_style": "success",
      "description": "",
      "description_tooltip": null,
      "layout": "IPY_MODEL_e5f2ceb7b4ee426e89bb4d9db8e386d3",
      "max": 811,
      "min": 0,
      "orientation": "horizontal",
      "style": "IPY_MODEL_2b5cc204dab5437087fd1f4d1351ab4a",
      "value": 811
     }
    },
    "3f42a55e4fc14f9c9eb1df569fbb2117": {
     "model_module": "@jupyter-widgets/controls",
     "model_module_version": "1.5.0",
     "model_name": "HBoxModel",
     "state": {
      "_dom_classes": [],
      "_model_module": "@jupyter-widgets/controls",
      "_model_module_version": "1.5.0",
      "_model_name": "HBoxModel",
      "_view_count": null,
      "_view_module": "@jupyter-widgets/controls",
      "_view_module_version": "1.5.0",
      "_view_name": "HBoxView",
      "box_style": "",
      "children": [
       "IPY_MODEL_45532313d3834c11b8222ff74387a7e7",
       "IPY_MODEL_9133ba3309904b56abe633c38ca7985d",
       "IPY_MODEL_7d65de5ef9c7439d92a171e8ae9f110a"
      ],
      "layout": "IPY_MODEL_414a3403a908453fba432defc5165a41"
     }
    },
    "403a5382c2054a4096f96993e2ee8aec": {
     "model_module": "@jupyter-widgets/base",
     "model_module_version": "1.2.0",
     "model_name": "LayoutModel",
     "state": {
      "_model_module": "@jupyter-widgets/base",
      "_model_module_version": "1.2.0",
      "_model_name": "LayoutModel",
      "_view_count": null,
      "_view_module": "@jupyter-widgets/base",
      "_view_module_version": "1.2.0",
      "_view_name": "LayoutView",
      "align_content": null,
      "align_items": null,
      "align_self": null,
      "border": null,
      "bottom": null,
      "display": null,
      "flex": null,
      "flex_flow": null,
      "grid_area": null,
      "grid_auto_columns": null,
      "grid_auto_flow": null,
      "grid_auto_rows": null,
      "grid_column": null,
      "grid_gap": null,
      "grid_row": null,
      "grid_template_areas": null,
      "grid_template_columns": null,
      "grid_template_rows": null,
      "height": null,
      "justify_content": null,
      "justify_items": null,
      "left": null,
      "margin": null,
      "max_height": null,
      "max_width": null,
      "min_height": null,
      "min_width": null,
      "object_fit": null,
      "object_position": null,
      "order": null,
      "overflow": null,
      "overflow_x": null,
      "overflow_y": null,
      "padding": null,
      "right": null,
      "top": null,
      "visibility": null,
      "width": null
     }
    },
    "414a3403a908453fba432defc5165a41": {
     "model_module": "@jupyter-widgets/base",
     "model_module_version": "1.2.0",
     "model_name": "LayoutModel",
     "state": {
      "_model_module": "@jupyter-widgets/base",
      "_model_module_version": "1.2.0",
      "_model_name": "LayoutModel",
      "_view_count": null,
      "_view_module": "@jupyter-widgets/base",
      "_view_module_version": "1.2.0",
      "_view_name": "LayoutView",
      "align_content": null,
      "align_items": null,
      "align_self": null,
      "border": null,
      "bottom": null,
      "display": null,
      "flex": null,
      "flex_flow": null,
      "grid_area": null,
      "grid_auto_columns": null,
      "grid_auto_flow": null,
      "grid_auto_rows": null,
      "grid_column": null,
      "grid_gap": null,
      "grid_row": null,
      "grid_template_areas": null,
      "grid_template_columns": null,
      "grid_template_rows": null,
      "height": null,
      "justify_content": null,
      "justify_items": null,
      "left": null,
      "margin": null,
      "max_height": null,
      "max_width": null,
      "min_height": null,
      "min_width": null,
      "object_fit": null,
      "object_position": null,
      "order": null,
      "overflow": null,
      "overflow_x": null,
      "overflow_y": null,
      "padding": null,
      "right": null,
      "top": null,
      "visibility": null,
      "width": null
     }
    },
    "4197c985d6104fa0af56c641aa04dd36": {
     "model_module": "@jupyter-widgets/base",
     "model_module_version": "1.2.0",
     "model_name": "LayoutModel",
     "state": {
      "_model_module": "@jupyter-widgets/base",
      "_model_module_version": "1.2.0",
      "_model_name": "LayoutModel",
      "_view_count": null,
      "_view_module": "@jupyter-widgets/base",
      "_view_module_version": "1.2.0",
      "_view_name": "LayoutView",
      "align_content": null,
      "align_items": null,
      "align_self": null,
      "border": null,
      "bottom": null,
      "display": null,
      "flex": null,
      "flex_flow": null,
      "grid_area": null,
      "grid_auto_columns": null,
      "grid_auto_flow": null,
      "grid_auto_rows": null,
      "grid_column": null,
      "grid_gap": null,
      "grid_row": null,
      "grid_template_areas": null,
      "grid_template_columns": null,
      "grid_template_rows": null,
      "height": null,
      "justify_content": null,
      "justify_items": null,
      "left": null,
      "margin": null,
      "max_height": null,
      "max_width": null,
      "min_height": null,
      "min_width": null,
      "object_fit": null,
      "object_position": null,
      "order": null,
      "overflow": null,
      "overflow_x": null,
      "overflow_y": null,
      "padding": null,
      "right": null,
      "top": null,
      "visibility": null,
      "width": null
     }
    },
    "45532313d3834c11b8222ff74387a7e7": {
     "model_module": "@jupyter-widgets/controls",
     "model_module_version": "1.5.0",
     "model_name": "HTMLModel",
     "state": {
      "_dom_classes": [],
      "_model_module": "@jupyter-widgets/controls",
      "_model_module_version": "1.5.0",
      "_model_name": "HTMLModel",
      "_view_count": null,
      "_view_module": "@jupyter-widgets/controls",
      "_view_module_version": "1.5.0",
      "_view_name": "HTMLView",
      "description": "",
      "description_tooltip": null,
      "layout": "IPY_MODEL_89c6507665f0409b92a55f877a59733f",
      "placeholder": "​",
      "style": "IPY_MODEL_67a2223e6ba34f7da16be31c30935755",
      "value": "100%"
     }
    },
    "46f3b898787546dcb21ceac96fbf96de": {
     "model_module": "@jupyter-widgets/controls",
     "model_module_version": "1.5.0",
     "model_name": "HTMLModel",
     "state": {
      "_dom_classes": [],
      "_model_module": "@jupyter-widgets/controls",
      "_model_module_version": "1.5.0",
      "_model_name": "HTMLModel",
      "_view_count": null,
      "_view_module": "@jupyter-widgets/controls",
      "_view_module_version": "1.5.0",
      "_view_name": "HTMLView",
      "description": "",
      "description_tooltip": null,
      "layout": "IPY_MODEL_0a245c29ad0f4b558adc9f4f2853a13c",
      "placeholder": "​",
      "style": "IPY_MODEL_2ec9dca25bde49a3a3d04415bde2d0a7",
      "value": "Downloading pytorch_model.bin: 100%"
     }
    },
    "47c81d9489f44dd887dc631c646b9b04": {
     "model_module": "@jupyter-widgets/controls",
     "model_module_version": "1.5.0",
     "model_name": "HTMLModel",
     "state": {
      "_dom_classes": [],
      "_model_module": "@jupyter-widgets/controls",
      "_model_module_version": "1.5.0",
      "_model_name": "HTMLModel",
      "_view_count": null,
      "_view_module": "@jupyter-widgets/controls",
      "_view_module_version": "1.5.0",
      "_view_name": "HTMLView",
      "description": "",
      "description_tooltip": null,
      "layout": "IPY_MODEL_962db421fc184753b2e8ca56ec3c7091",
      "placeholder": "​",
      "style": "IPY_MODEL_87ff96934b3448edbdcdddbcb2845b8b",
      "value": " 174/174 [00:00&lt;00:00, 13.4kB/s]"
     }
    },
    "4d5fbd8485754d34a36f9f5c8dbd6d27": {
     "model_module": "@jupyter-widgets/controls",
     "model_module_version": "1.5.0",
     "model_name": "DescriptionStyleModel",
     "state": {
      "_model_module": "@jupyter-widgets/controls",
      "_model_module_version": "1.5.0",
      "_model_name": "DescriptionStyleModel",
      "_view_count": null,
      "_view_module": "@jupyter-widgets/base",
      "_view_module_version": "1.2.0",
      "_view_name": "StyleView",
      "description_width": ""
     }
    },
    "4f18ecdf53ac4b1691c137520f6dd18e": {
     "model_module": "@jupyter-widgets/controls",
     "model_module_version": "1.5.0",
     "model_name": "HBoxModel",
     "state": {
      "_dom_classes": [],
      "_model_module": "@jupyter-widgets/controls",
      "_model_module_version": "1.5.0",
      "_model_name": "HBoxModel",
      "_view_count": null,
      "_view_module": "@jupyter-widgets/controls",
      "_view_module_version": "1.5.0",
      "_view_name": "HBoxView",
      "box_style": "",
      "children": [
       "IPY_MODEL_1acd5487ca7c46aebbdcf1c16712a198",
       "IPY_MODEL_d657abcff5954e34895906df8bfa317e",
       "IPY_MODEL_47c81d9489f44dd887dc631c646b9b04"
      ],
      "layout": "IPY_MODEL_4197c985d6104fa0af56c641aa04dd36"
     }
    },
    "5208aece02d0436fb3f8e399774cd081": {
     "model_module": "@jupyter-widgets/base",
     "model_module_version": "1.2.0",
     "model_name": "LayoutModel",
     "state": {
      "_model_module": "@jupyter-widgets/base",
      "_model_module_version": "1.2.0",
      "_model_name": "LayoutModel",
      "_view_count": null,
      "_view_module": "@jupyter-widgets/base",
      "_view_module_version": "1.2.0",
      "_view_name": "LayoutView",
      "align_content": null,
      "align_items": null,
      "align_self": null,
      "border": null,
      "bottom": null,
      "display": null,
      "flex": null,
      "flex_flow": null,
      "grid_area": null,
      "grid_auto_columns": null,
      "grid_auto_flow": null,
      "grid_auto_rows": null,
      "grid_column": null,
      "grid_gap": null,
      "grid_row": null,
      "grid_template_areas": null,
      "grid_template_columns": null,
      "grid_template_rows": null,
      "height": null,
      "justify_content": null,
      "justify_items": null,
      "left": null,
      "margin": null,
      "max_height": null,
      "max_width": null,
      "min_height": null,
      "min_width": null,
      "object_fit": null,
      "object_position": null,
      "order": null,
      "overflow": null,
      "overflow_x": null,
      "overflow_y": null,
      "padding": null,
      "right": null,
      "top": null,
      "visibility": null,
      "width": null
     }
    },
    "52f36fb5c8144c44a1b7d2a3884848d7": {
     "model_module": "@jupyter-widgets/controls",
     "model_module_version": "1.5.0",
     "model_name": "DescriptionStyleModel",
     "state": {
      "_model_module": "@jupyter-widgets/controls",
      "_model_module_version": "1.5.0",
      "_model_name": "DescriptionStyleModel",
      "_view_count": null,
      "_view_module": "@jupyter-widgets/base",
      "_view_module_version": "1.2.0",
      "_view_name": "StyleView",
      "description_width": ""
     }
    },
    "54348a7233394793ad5370c43b7d5e58": {
     "model_module": "@jupyter-widgets/base",
     "model_module_version": "1.2.0",
     "model_name": "LayoutModel",
     "state": {
      "_model_module": "@jupyter-widgets/base",
      "_model_module_version": "1.2.0",
      "_model_name": "LayoutModel",
      "_view_count": null,
      "_view_module": "@jupyter-widgets/base",
      "_view_module_version": "1.2.0",
      "_view_name": "LayoutView",
      "align_content": null,
      "align_items": null,
      "align_self": null,
      "border": null,
      "bottom": null,
      "display": null,
      "flex": null,
      "flex_flow": null,
      "grid_area": null,
      "grid_auto_columns": null,
      "grid_auto_flow": null,
      "grid_auto_rows": null,
      "grid_column": null,
      "grid_gap": null,
      "grid_row": null,
      "grid_template_areas": null,
      "grid_template_columns": null,
      "grid_template_rows": null,
      "height": null,
      "justify_content": null,
      "justify_items": null,
      "left": null,
      "margin": null,
      "max_height": null,
      "max_width": null,
      "min_height": null,
      "min_width": null,
      "object_fit": null,
      "object_position": null,
      "order": null,
      "overflow": null,
      "overflow_x": null,
      "overflow_y": null,
      "padding": null,
      "right": null,
      "top": null,
      "visibility": null,
      "width": null
     }
    },
    "546a46d922aa4a92b57f7416524d9494": {
     "model_module": "@jupyter-widgets/base",
     "model_module_version": "1.2.0",
     "model_name": "LayoutModel",
     "state": {
      "_model_module": "@jupyter-widgets/base",
      "_model_module_version": "1.2.0",
      "_model_name": "LayoutModel",
      "_view_count": null,
      "_view_module": "@jupyter-widgets/base",
      "_view_module_version": "1.2.0",
      "_view_name": "LayoutView",
      "align_content": null,
      "align_items": null,
      "align_self": null,
      "border": null,
      "bottom": null,
      "display": null,
      "flex": null,
      "flex_flow": null,
      "grid_area": null,
      "grid_auto_columns": null,
      "grid_auto_flow": null,
      "grid_auto_rows": null,
      "grid_column": null,
      "grid_gap": null,
      "grid_row": null,
      "grid_template_areas": null,
      "grid_template_columns": null,
      "grid_template_rows": null,
      "height": null,
      "justify_content": null,
      "justify_items": null,
      "left": null,
      "margin": null,
      "max_height": null,
      "max_width": null,
      "min_height": null,
      "min_width": null,
      "object_fit": null,
      "object_position": null,
      "order": null,
      "overflow": null,
      "overflow_x": null,
      "overflow_y": null,
      "padding": null,
      "right": null,
      "top": null,
      "visibility": null,
      "width": null
     }
    },
    "55d811d3cde04061bd7c65ecb275892d": {
     "model_module": "@jupyter-widgets/controls",
     "model_module_version": "1.5.0",
     "model_name": "HTMLModel",
     "state": {
      "_dom_classes": [],
      "_model_module": "@jupyter-widgets/controls",
      "_model_module_version": "1.5.0",
      "_model_name": "HTMLModel",
      "_view_count": null,
      "_view_module": "@jupyter-widgets/controls",
      "_view_module_version": "1.5.0",
      "_view_name": "HTMLView",
      "description": "",
      "description_tooltip": null,
      "layout": "IPY_MODEL_403a5382c2054a4096f96993e2ee8aec",
      "placeholder": "​",
      "style": "IPY_MODEL_4d5fbd8485754d34a36f9f5c8dbd6d27",
      "value": "Downloading (…)lve/main/config.json: 100%"
     }
    },
    "56b89e1785184c1893c531f31d63974d": {
     "model_module": "@jupyter-widgets/base",
     "model_module_version": "1.2.0",
     "model_name": "LayoutModel",
     "state": {
      "_model_module": "@jupyter-widgets/base",
      "_model_module_version": "1.2.0",
      "_model_name": "LayoutModel",
      "_view_count": null,
      "_view_module": "@jupyter-widgets/base",
      "_view_module_version": "1.2.0",
      "_view_name": "LayoutView",
      "align_content": null,
      "align_items": null,
      "align_self": null,
      "border": null,
      "bottom": null,
      "display": null,
      "flex": null,
      "flex_flow": null,
      "grid_area": null,
      "grid_auto_columns": null,
      "grid_auto_flow": null,
      "grid_auto_rows": null,
      "grid_column": null,
      "grid_gap": null,
      "grid_row": null,
      "grid_template_areas": null,
      "grid_template_columns": null,
      "grid_template_rows": null,
      "height": null,
      "justify_content": null,
      "justify_items": null,
      "left": null,
      "margin": null,
      "max_height": null,
      "max_width": null,
      "min_height": null,
      "min_width": null,
      "object_fit": null,
      "object_position": null,
      "order": null,
      "overflow": null,
      "overflow_x": null,
      "overflow_y": null,
      "padding": null,
      "right": null,
      "top": null,
      "visibility": null,
      "width": null
     }
    },
    "61efc7f312ba440993e77f6b29d5a1a4": {
     "model_module": "@jupyter-widgets/base",
     "model_module_version": "1.2.0",
     "model_name": "LayoutModel",
     "state": {
      "_model_module": "@jupyter-widgets/base",
      "_model_module_version": "1.2.0",
      "_model_name": "LayoutModel",
      "_view_count": null,
      "_view_module": "@jupyter-widgets/base",
      "_view_module_version": "1.2.0",
      "_view_name": "LayoutView",
      "align_content": null,
      "align_items": null,
      "align_self": null,
      "border": null,
      "bottom": null,
      "display": null,
      "flex": null,
      "flex_flow": null,
      "grid_area": null,
      "grid_auto_columns": null,
      "grid_auto_flow": null,
      "grid_auto_rows": null,
      "grid_column": null,
      "grid_gap": null,
      "grid_row": null,
      "grid_template_areas": null,
      "grid_template_columns": null,
      "grid_template_rows": null,
      "height": null,
      "justify_content": null,
      "justify_items": null,
      "left": null,
      "margin": null,
      "max_height": null,
      "max_width": null,
      "min_height": null,
      "min_width": null,
      "object_fit": null,
      "object_position": null,
      "order": null,
      "overflow": null,
      "overflow_x": null,
      "overflow_y": null,
      "padding": null,
      "right": null,
      "top": null,
      "visibility": null,
      "width": null
     }
    },
    "62741489a0a54443a76a02ef717f556e": {
     "model_module": "@jupyter-widgets/controls",
     "model_module_version": "1.5.0",
     "model_name": "HTMLModel",
     "state": {
      "_dom_classes": [],
      "_model_module": "@jupyter-widgets/controls",
      "_model_module_version": "1.5.0",
      "_model_name": "HTMLModel",
      "_view_count": null,
      "_view_module": "@jupyter-widgets/controls",
      "_view_module_version": "1.5.0",
      "_view_name": "HTMLView",
      "description": "",
      "description_tooltip": null,
      "layout": "IPY_MODEL_d7472edf76504e2e8c0eb3662a40d259",
      "placeholder": "​",
      "style": "IPY_MODEL_68a329544a1a41b7a82bb21935989e9c",
      "value": " 811/811 [00:00&lt;00:00, 64.1kB/s]"
     }
    },
    "67a2223e6ba34f7da16be31c30935755": {
     "model_module": "@jupyter-widgets/controls",
     "model_module_version": "1.5.0",
     "model_name": "DescriptionStyleModel",
     "state": {
      "_model_module": "@jupyter-widgets/controls",
      "_model_module_version": "1.5.0",
      "_model_name": "DescriptionStyleModel",
      "_view_count": null,
      "_view_module": "@jupyter-widgets/base",
      "_view_module_version": "1.2.0",
      "_view_name": "StyleView",
      "description_width": ""
     }
    },
    "68a329544a1a41b7a82bb21935989e9c": {
     "model_module": "@jupyter-widgets/controls",
     "model_module_version": "1.5.0",
     "model_name": "DescriptionStyleModel",
     "state": {
      "_model_module": "@jupyter-widgets/controls",
      "_model_module_version": "1.5.0",
      "_model_name": "DescriptionStyleModel",
      "_view_count": null,
      "_view_module": "@jupyter-widgets/base",
      "_view_module_version": "1.2.0",
      "_view_name": "StyleView",
      "description_width": ""
     }
    },
    "6955211eeb4b4404b7b6fce1685e4ed9": {
     "model_module": "@jupyter-widgets/controls",
     "model_module_version": "1.5.0",
     "model_name": "HTMLModel",
     "state": {
      "_dom_classes": [],
      "_model_module": "@jupyter-widgets/controls",
      "_model_module_version": "1.5.0",
      "_model_name": "HTMLModel",
      "_view_count": null,
      "_view_module": "@jupyter-widgets/controls",
      "_view_module_version": "1.5.0",
      "_view_name": "HTMLView",
      "description": "",
      "description_tooltip": null,
      "layout": "IPY_MODEL_8cebaf7c5f594200a074112d2a3b6042",
      "placeholder": "​",
      "style": "IPY_MODEL_1248d63e2ed94e248375bd824db5f8b4",
      "value": "Downloading (…)solve/main/vocab.txt: 100%"
     }
    },
    "6d2a2ed3ab8d424e96e0e2c56e2bc623": {
     "model_module": "@jupyter-widgets/controls",
     "model_module_version": "1.5.0",
     "model_name": "DescriptionStyleModel",
     "state": {
      "_model_module": "@jupyter-widgets/controls",
      "_model_module_version": "1.5.0",
      "_model_name": "DescriptionStyleModel",
      "_view_count": null,
      "_view_module": "@jupyter-widgets/base",
      "_view_module_version": "1.2.0",
      "_view_name": "StyleView",
      "description_width": ""
     }
    },
    "7012d73af63b4e9782b8d772ed154f39": {
     "model_module": "@jupyter-widgets/controls",
     "model_module_version": "1.5.0",
     "model_name": "FloatProgressModel",
     "state": {
      "_dom_classes": [],
      "_model_module": "@jupyter-widgets/controls",
      "_model_module_version": "1.5.0",
      "_model_name": "FloatProgressModel",
      "_view_count": null,
      "_view_module": "@jupyter-widgets/controls",
      "_view_module_version": "1.5.0",
      "_view_name": "ProgressView",
      "bar_style": "success",
      "description": "",
      "description_tooltip": null,
      "layout": "IPY_MODEL_cffe91cc14b94dd2b773538feac26090",
      "max": 231508,
      "min": 0,
      "orientation": "horizontal",
      "style": "IPY_MODEL_848287d97c2143e1aae77d3b735f1bed",
      "value": 231508
     }
    },
    "7c5aef0ae6d94605a3f33fb3c727b21c": {
     "model_module": "@jupyter-widgets/base",
     "model_module_version": "1.2.0",
     "model_name": "LayoutModel",
     "state": {
      "_model_module": "@jupyter-widgets/base",
      "_model_module_version": "1.2.0",
      "_model_name": "LayoutModel",
      "_view_count": null,
      "_view_module": "@jupyter-widgets/base",
      "_view_module_version": "1.2.0",
      "_view_name": "LayoutView",
      "align_content": null,
      "align_items": null,
      "align_self": null,
      "border": null,
      "bottom": null,
      "display": null,
      "flex": null,
      "flex_flow": null,
      "grid_area": null,
      "grid_auto_columns": null,
      "grid_auto_flow": null,
      "grid_auto_rows": null,
      "grid_column": null,
      "grid_gap": null,
      "grid_row": null,
      "grid_template_areas": null,
      "grid_template_columns": null,
      "grid_template_rows": null,
      "height": null,
      "justify_content": null,
      "justify_items": null,
      "left": null,
      "margin": null,
      "max_height": null,
      "max_width": null,
      "min_height": null,
      "min_width": null,
      "object_fit": null,
      "object_position": null,
      "order": null,
      "overflow": null,
      "overflow_x": null,
      "overflow_y": null,
      "padding": null,
      "right": null,
      "top": null,
      "visibility": null,
      "width": null
     }
    },
    "7d65de5ef9c7439d92a171e8ae9f110a": {
     "model_module": "@jupyter-widgets/controls",
     "model_module_version": "1.5.0",
     "model_name": "HTMLModel",
     "state": {
      "_dom_classes": [],
      "_model_module": "@jupyter-widgets/controls",
      "_model_module_version": "1.5.0",
      "_model_name": "HTMLModel",
      "_view_count": null,
      "_view_module": "@jupyter-widgets/controls",
      "_view_module_version": "1.5.0",
      "_view_name": "HTMLView",
      "description": "",
      "description_tooltip": null,
      "layout": "IPY_MODEL_c8ac4ec6d31a4f23977d14e3c89ad93e",
      "placeholder": "​",
      "style": "IPY_MODEL_9fbcaed87f354f6cb822d3d5f141d020",
      "value": " 796/796 [1:29:03&lt;00:00,  6.73s/it]"
     }
    },
    "824341317826426894a3ae848b73ac9e": {
     "model_module": "@jupyter-widgets/controls",
     "model_module_version": "1.5.0",
     "model_name": "DescriptionStyleModel",
     "state": {
      "_model_module": "@jupyter-widgets/controls",
      "_model_module_version": "1.5.0",
      "_model_name": "DescriptionStyleModel",
      "_view_count": null,
      "_view_module": "@jupyter-widgets/base",
      "_view_module_version": "1.2.0",
      "_view_name": "StyleView",
      "description_width": ""
     }
    },
    "827c726b229148fb8d54aed72278e106": {
     "model_module": "@jupyter-widgets/controls",
     "model_module_version": "1.5.0",
     "model_name": "HTMLModel",
     "state": {
      "_dom_classes": [],
      "_model_module": "@jupyter-widgets/controls",
      "_model_module_version": "1.5.0",
      "_model_name": "HTMLModel",
      "_view_count": null,
      "_view_module": "@jupyter-widgets/controls",
      "_view_module_version": "1.5.0",
      "_view_name": "HTMLView",
      "description": "",
      "description_tooltip": null,
      "layout": "IPY_MODEL_ef8d625c5ad94335a913f481d39aea96",
      "placeholder": "​",
      "style": "IPY_MODEL_6d2a2ed3ab8d424e96e0e2c56e2bc623",
      "value": "100%"
     }
    },
    "848287d97c2143e1aae77d3b735f1bed": {
     "model_module": "@jupyter-widgets/controls",
     "model_module_version": "1.5.0",
     "model_name": "ProgressStyleModel",
     "state": {
      "_model_module": "@jupyter-widgets/controls",
      "_model_module_version": "1.5.0",
      "_model_name": "ProgressStyleModel",
      "_view_count": null,
      "_view_module": "@jupyter-widgets/base",
      "_view_module_version": "1.2.0",
      "_view_name": "StyleView",
      "bar_color": null,
      "description_width": ""
     }
    },
    "87ff96934b3448edbdcdddbcb2845b8b": {
     "model_module": "@jupyter-widgets/controls",
     "model_module_version": "1.5.0",
     "model_name": "DescriptionStyleModel",
     "state": {
      "_model_module": "@jupyter-widgets/controls",
      "_model_module_version": "1.5.0",
      "_model_name": "DescriptionStyleModel",
      "_view_count": null,
      "_view_module": "@jupyter-widgets/base",
      "_view_module_version": "1.2.0",
      "_view_name": "StyleView",
      "description_width": ""
     }
    },
    "89c6507665f0409b92a55f877a59733f": {
     "model_module": "@jupyter-widgets/base",
     "model_module_version": "1.2.0",
     "model_name": "LayoutModel",
     "state": {
      "_model_module": "@jupyter-widgets/base",
      "_model_module_version": "1.2.0",
      "_model_name": "LayoutModel",
      "_view_count": null,
      "_view_module": "@jupyter-widgets/base",
      "_view_module_version": "1.2.0",
      "_view_name": "LayoutView",
      "align_content": null,
      "align_items": null,
      "align_self": null,
      "border": null,
      "bottom": null,
      "display": null,
      "flex": null,
      "flex_flow": null,
      "grid_area": null,
      "grid_auto_columns": null,
      "grid_auto_flow": null,
      "grid_auto_rows": null,
      "grid_column": null,
      "grid_gap": null,
      "grid_row": null,
      "grid_template_areas": null,
      "grid_template_columns": null,
      "grid_template_rows": null,
      "height": null,
      "justify_content": null,
      "justify_items": null,
      "left": null,
      "margin": null,
      "max_height": null,
      "max_width": null,
      "min_height": null,
      "min_width": null,
      "object_fit": null,
      "object_position": null,
      "order": null,
      "overflow": null,
      "overflow_x": null,
      "overflow_y": null,
      "padding": null,
      "right": null,
      "top": null,
      "visibility": null,
      "width": null
     }
    },
    "8cebaf7c5f594200a074112d2a3b6042": {
     "model_module": "@jupyter-widgets/base",
     "model_module_version": "1.2.0",
     "model_name": "LayoutModel",
     "state": {
      "_model_module": "@jupyter-widgets/base",
      "_model_module_version": "1.2.0",
      "_model_name": "LayoutModel",
      "_view_count": null,
      "_view_module": "@jupyter-widgets/base",
      "_view_module_version": "1.2.0",
      "_view_name": "LayoutView",
      "align_content": null,
      "align_items": null,
      "align_self": null,
      "border": null,
      "bottom": null,
      "display": null,
      "flex": null,
      "flex_flow": null,
      "grid_area": null,
      "grid_auto_columns": null,
      "grid_auto_flow": null,
      "grid_auto_rows": null,
      "grid_column": null,
      "grid_gap": null,
      "grid_row": null,
      "grid_template_areas": null,
      "grid_template_columns": null,
      "grid_template_rows": null,
      "height": null,
      "justify_content": null,
      "justify_items": null,
      "left": null,
      "margin": null,
      "max_height": null,
      "max_width": null,
      "min_height": null,
      "min_width": null,
      "object_fit": null,
      "object_position": null,
      "order": null,
      "overflow": null,
      "overflow_x": null,
      "overflow_y": null,
      "padding": null,
      "right": null,
      "top": null,
      "visibility": null,
      "width": null
     }
    },
    "9133ba3309904b56abe633c38ca7985d": {
     "model_module": "@jupyter-widgets/controls",
     "model_module_version": "1.5.0",
     "model_name": "FloatProgressModel",
     "state": {
      "_dom_classes": [],
      "_model_module": "@jupyter-widgets/controls",
      "_model_module_version": "1.5.0",
      "_model_name": "FloatProgressModel",
      "_view_count": null,
      "_view_module": "@jupyter-widgets/controls",
      "_view_module_version": "1.5.0",
      "_view_name": "ProgressView",
      "bar_style": "success",
      "description": "",
      "description_tooltip": null,
      "layout": "IPY_MODEL_c65c15ecc6924198b25d8c042f76d708",
      "max": 796,
      "min": 0,
      "orientation": "horizontal",
      "style": "IPY_MODEL_915dc3c39cda490790c2c6053caab77e",
      "value": 796
     }
    },
    "915dc3c39cda490790c2c6053caab77e": {
     "model_module": "@jupyter-widgets/controls",
     "model_module_version": "1.5.0",
     "model_name": "ProgressStyleModel",
     "state": {
      "_model_module": "@jupyter-widgets/controls",
      "_model_module_version": "1.5.0",
      "_model_name": "ProgressStyleModel",
      "_view_count": null,
      "_view_module": "@jupyter-widgets/base",
      "_view_module_version": "1.2.0",
      "_view_name": "StyleView",
      "bar_color": null,
      "description_width": ""
     }
    },
    "962db421fc184753b2e8ca56ec3c7091": {
     "model_module": "@jupyter-widgets/base",
     "model_module_version": "1.2.0",
     "model_name": "LayoutModel",
     "state": {
      "_model_module": "@jupyter-widgets/base",
      "_model_module_version": "1.2.0",
      "_model_name": "LayoutModel",
      "_view_count": null,
      "_view_module": "@jupyter-widgets/base",
      "_view_module_version": "1.2.0",
      "_view_name": "LayoutView",
      "align_content": null,
      "align_items": null,
      "align_self": null,
      "border": null,
      "bottom": null,
      "display": null,
      "flex": null,
      "flex_flow": null,
      "grid_area": null,
      "grid_auto_columns": null,
      "grid_auto_flow": null,
      "grid_auto_rows": null,
      "grid_column": null,
      "grid_gap": null,
      "grid_row": null,
      "grid_template_areas": null,
      "grid_template_columns": null,
      "grid_template_rows": null,
      "height": null,
      "justify_content": null,
      "justify_items": null,
      "left": null,
      "margin": null,
      "max_height": null,
      "max_width": null,
      "min_height": null,
      "min_width": null,
      "object_fit": null,
      "object_position": null,
      "order": null,
      "overflow": null,
      "overflow_x": null,
      "overflow_y": null,
      "padding": null,
      "right": null,
      "top": null,
      "visibility": null,
      "width": null
     }
    },
    "987a1ca20505483187f23416acc7d180": {
     "model_module": "@jupyter-widgets/controls",
     "model_module_version": "1.5.0",
     "model_name": "ProgressStyleModel",
     "state": {
      "_model_module": "@jupyter-widgets/controls",
      "_model_module_version": "1.5.0",
      "_model_name": "ProgressStyleModel",
      "_view_count": null,
      "_view_module": "@jupyter-widgets/base",
      "_view_module_version": "1.2.0",
      "_view_name": "StyleView",
      "bar_color": null,
      "description_width": ""
     }
    },
    "9fbcaed87f354f6cb822d3d5f141d020": {
     "model_module": "@jupyter-widgets/controls",
     "model_module_version": "1.5.0",
     "model_name": "DescriptionStyleModel",
     "state": {
      "_model_module": "@jupyter-widgets/controls",
      "_model_module_version": "1.5.0",
      "_model_name": "DescriptionStyleModel",
      "_view_count": null,
      "_view_module": "@jupyter-widgets/base",
      "_view_module_version": "1.2.0",
      "_view_name": "StyleView",
      "description_width": ""
     }
    },
    "9ffb8b32f40b4577aa98a9ebbdb6b90f": {
     "model_module": "@jupyter-widgets/controls",
     "model_module_version": "1.5.0",
     "model_name": "HBoxModel",
     "state": {
      "_dom_classes": [],
      "_model_module": "@jupyter-widgets/controls",
      "_model_module_version": "1.5.0",
      "_model_name": "HBoxModel",
      "_view_count": null,
      "_view_module": "@jupyter-widgets/controls",
      "_view_module_version": "1.5.0",
      "_view_name": "HBoxView",
      "box_style": "",
      "children": [
       "IPY_MODEL_6955211eeb4b4404b7b6fce1685e4ed9",
       "IPY_MODEL_7012d73af63b4e9782b8d772ed154f39",
       "IPY_MODEL_a2a275d209b0421ca91e370df2345ed4"
      ],
      "layout": "IPY_MODEL_54348a7233394793ad5370c43b7d5e58"
     }
    },
    "a2a275d209b0421ca91e370df2345ed4": {
     "model_module": "@jupyter-widgets/controls",
     "model_module_version": "1.5.0",
     "model_name": "HTMLModel",
     "state": {
      "_dom_classes": [],
      "_model_module": "@jupyter-widgets/controls",
      "_model_module_version": "1.5.0",
      "_model_name": "HTMLModel",
      "_view_count": null,
      "_view_module": "@jupyter-widgets/controls",
      "_view_module_version": "1.5.0",
      "_view_name": "HTMLView",
      "description": "",
      "description_tooltip": null,
      "layout": "IPY_MODEL_de866c1bd6f54782803967321399b14d",
      "placeholder": "​",
      "style": "IPY_MODEL_06973c31c6f94ce19b2109faa804f5f8",
      "value": " 232k/232k [00:00&lt;00:00, 5.38MB/s]"
     }
    },
    "a45aa131de4a4090bdf7e8f915e565af": {
     "model_module": "@jupyter-widgets/controls",
     "model_module_version": "1.5.0",
     "model_name": "FloatProgressModel",
     "state": {
      "_dom_classes": [],
      "_model_module": "@jupyter-widgets/controls",
      "_model_module_version": "1.5.0",
      "_model_name": "FloatProgressModel",
      "_view_count": null,
      "_view_module": "@jupyter-widgets/controls",
      "_view_module_version": "1.5.0",
      "_view_name": "ProgressView",
      "bar_style": "success",
      "description": "",
      "description_tooltip": null,
      "layout": "IPY_MODEL_61efc7f312ba440993e77f6b29d5a1a4",
      "max": 438033929,
      "min": 0,
      "orientation": "horizontal",
      "style": "IPY_MODEL_987a1ca20505483187f23416acc7d180",
      "value": 438033929
     }
    },
    "a46138001ebb481082275f44a6385029": {
     "model_module": "@jupyter-widgets/controls",
     "model_module_version": "1.5.0",
     "model_name": "HTMLModel",
     "state": {
      "_dom_classes": [],
      "_model_module": "@jupyter-widgets/controls",
      "_model_module_version": "1.5.0",
      "_model_name": "HTMLModel",
      "_view_count": null,
      "_view_module": "@jupyter-widgets/controls",
      "_view_module_version": "1.5.0",
      "_view_name": "HTMLView",
      "description": "",
      "description_tooltip": null,
      "layout": "IPY_MODEL_5208aece02d0436fb3f8e399774cd081",
      "placeholder": "​",
      "style": "IPY_MODEL_824341317826426894a3ae848b73ac9e",
      "value": "Downloading (…)cial_tokens_map.json: 100%"
     }
    },
    "a6296bf9654b496683ee90250e42c790": {
     "model_module": "@jupyter-widgets/controls",
     "model_module_version": "1.5.0",
     "model_name": "HBoxModel",
     "state": {
      "_dom_classes": [],
      "_model_module": "@jupyter-widgets/controls",
      "_model_module_version": "1.5.0",
      "_model_name": "HBoxModel",
      "_view_count": null,
      "_view_module": "@jupyter-widgets/controls",
      "_view_module_version": "1.5.0",
      "_view_name": "HBoxView",
      "box_style": "",
      "children": [
       "IPY_MODEL_46f3b898787546dcb21ceac96fbf96de",
       "IPY_MODEL_a45aa131de4a4090bdf7e8f915e565af",
       "IPY_MODEL_274412b82d224c2497d9073cd51b0a66"
      ],
      "layout": "IPY_MODEL_d46fd5d690b64c34982895a479b90540"
     }
    },
    "a829d7d93583418a99e140972cfd521e": {
     "model_module": "@jupyter-widgets/base",
     "model_module_version": "1.2.0",
     "model_name": "LayoutModel",
     "state": {
      "_model_module": "@jupyter-widgets/base",
      "_model_module_version": "1.2.0",
      "_model_name": "LayoutModel",
      "_view_count": null,
      "_view_module": "@jupyter-widgets/base",
      "_view_module_version": "1.2.0",
      "_view_name": "LayoutView",
      "align_content": null,
      "align_items": null,
      "align_self": null,
      "border": null,
      "bottom": null,
      "display": null,
      "flex": null,
      "flex_flow": null,
      "grid_area": null,
      "grid_auto_columns": null,
      "grid_auto_flow": null,
      "grid_auto_rows": null,
      "grid_column": null,
      "grid_gap": null,
      "grid_row": null,
      "grid_template_areas": null,
      "grid_template_columns": null,
      "grid_template_rows": null,
      "height": null,
      "justify_content": null,
      "justify_items": null,
      "left": null,
      "margin": null,
      "max_height": null,
      "max_width": null,
      "min_height": null,
      "min_width": null,
      "object_fit": null,
      "object_position": null,
      "order": null,
      "overflow": null,
      "overflow_x": null,
      "overflow_y": null,
      "padding": null,
      "right": null,
      "top": null,
      "visibility": null,
      "width": null
     }
    },
    "aa7c107d733d41aea395ba74302d19aa": {
     "model_module": "@jupyter-widgets/controls",
     "model_module_version": "1.5.0",
     "model_name": "ProgressStyleModel",
     "state": {
      "_model_module": "@jupyter-widgets/controls",
      "_model_module_version": "1.5.0",
      "_model_name": "ProgressStyleModel",
      "_view_count": null,
      "_view_module": "@jupyter-widgets/base",
      "_view_module_version": "1.2.0",
      "_view_name": "StyleView",
      "bar_color": null,
      "description_width": ""
     }
    },
    "ae51ec7c886147919faa2c54bf4442fc": {
     "model_module": "@jupyter-widgets/controls",
     "model_module_version": "1.5.0",
     "model_name": "FloatProgressModel",
     "state": {
      "_dom_classes": [],
      "_model_module": "@jupyter-widgets/controls",
      "_model_module_version": "1.5.0",
      "_model_name": "FloatProgressModel",
      "_view_count": null,
      "_view_module": "@jupyter-widgets/controls",
      "_view_module_version": "1.5.0",
      "_view_name": "ProgressView",
      "bar_style": "success",
      "description": "",
      "description_tooltip": null,
      "layout": "IPY_MODEL_56b89e1785184c1893c531f31d63974d",
      "max": 159292,
      "min": 0,
      "orientation": "horizontal",
      "style": "IPY_MODEL_14ae86cf096e414494e826fbcfa45f7f",
      "value": 159292
     }
    },
    "c65c15ecc6924198b25d8c042f76d708": {
     "model_module": "@jupyter-widgets/base",
     "model_module_version": "1.2.0",
     "model_name": "LayoutModel",
     "state": {
      "_model_module": "@jupyter-widgets/base",
      "_model_module_version": "1.2.0",
      "_model_name": "LayoutModel",
      "_view_count": null,
      "_view_module": "@jupyter-widgets/base",
      "_view_module_version": "1.2.0",
      "_view_name": "LayoutView",
      "align_content": null,
      "align_items": null,
      "align_self": null,
      "border": null,
      "bottom": null,
      "display": null,
      "flex": null,
      "flex_flow": null,
      "grid_area": null,
      "grid_auto_columns": null,
      "grid_auto_flow": null,
      "grid_auto_rows": null,
      "grid_column": null,
      "grid_gap": null,
      "grid_row": null,
      "grid_template_areas": null,
      "grid_template_columns": null,
      "grid_template_rows": null,
      "height": null,
      "justify_content": null,
      "justify_items": null,
      "left": null,
      "margin": null,
      "max_height": null,
      "max_width": null,
      "min_height": null,
      "min_width": null,
      "object_fit": null,
      "object_position": null,
      "order": null,
      "overflow": null,
      "overflow_x": null,
      "overflow_y": null,
      "padding": null,
      "right": null,
      "top": null,
      "visibility": null,
      "width": null
     }
    },
    "c8ac4ec6d31a4f23977d14e3c89ad93e": {
     "model_module": "@jupyter-widgets/base",
     "model_module_version": "1.2.0",
     "model_name": "LayoutModel",
     "state": {
      "_model_module": "@jupyter-widgets/base",
      "_model_module_version": "1.2.0",
      "_model_name": "LayoutModel",
      "_view_count": null,
      "_view_module": "@jupyter-widgets/base",
      "_view_module_version": "1.2.0",
      "_view_name": "LayoutView",
      "align_content": null,
      "align_items": null,
      "align_self": null,
      "border": null,
      "bottom": null,
      "display": null,
      "flex": null,
      "flex_flow": null,
      "grid_area": null,
      "grid_auto_columns": null,
      "grid_auto_flow": null,
      "grid_auto_rows": null,
      "grid_column": null,
      "grid_gap": null,
      "grid_row": null,
      "grid_template_areas": null,
      "grid_template_columns": null,
      "grid_template_rows": null,
      "height": null,
      "justify_content": null,
      "justify_items": null,
      "left": null,
      "margin": null,
      "max_height": null,
      "max_width": null,
      "min_height": null,
      "min_width": null,
      "object_fit": null,
      "object_position": null,
      "order": null,
      "overflow": null,
      "overflow_x": null,
      "overflow_y": null,
      "padding": null,
      "right": null,
      "top": null,
      "visibility": null,
      "width": null
     }
    },
    "cffe91cc14b94dd2b773538feac26090": {
     "model_module": "@jupyter-widgets/base",
     "model_module_version": "1.2.0",
     "model_name": "LayoutModel",
     "state": {
      "_model_module": "@jupyter-widgets/base",
      "_model_module_version": "1.2.0",
      "_model_name": "LayoutModel",
      "_view_count": null,
      "_view_module": "@jupyter-widgets/base",
      "_view_module_version": "1.2.0",
      "_view_name": "LayoutView",
      "align_content": null,
      "align_items": null,
      "align_self": null,
      "border": null,
      "bottom": null,
      "display": null,
      "flex": null,
      "flex_flow": null,
      "grid_area": null,
      "grid_auto_columns": null,
      "grid_auto_flow": null,
      "grid_auto_rows": null,
      "grid_column": null,
      "grid_gap": null,
      "grid_row": null,
      "grid_template_areas": null,
      "grid_template_columns": null,
      "grid_template_rows": null,
      "height": null,
      "justify_content": null,
      "justify_items": null,
      "left": null,
      "margin": null,
      "max_height": null,
      "max_width": null,
      "min_height": null,
      "min_width": null,
      "object_fit": null,
      "object_position": null,
      "order": null,
      "overflow": null,
      "overflow_x": null,
      "overflow_y": null,
      "padding": null,
      "right": null,
      "top": null,
      "visibility": null,
      "width": null
     }
    },
    "d46fd5d690b64c34982895a479b90540": {
     "model_module": "@jupyter-widgets/base",
     "model_module_version": "1.2.0",
     "model_name": "LayoutModel",
     "state": {
      "_model_module": "@jupyter-widgets/base",
      "_model_module_version": "1.2.0",
      "_model_name": "LayoutModel",
      "_view_count": null,
      "_view_module": "@jupyter-widgets/base",
      "_view_module_version": "1.2.0",
      "_view_name": "LayoutView",
      "align_content": null,
      "align_items": null,
      "align_self": null,
      "border": null,
      "bottom": null,
      "display": null,
      "flex": null,
      "flex_flow": null,
      "grid_area": null,
      "grid_auto_columns": null,
      "grid_auto_flow": null,
      "grid_auto_rows": null,
      "grid_column": null,
      "grid_gap": null,
      "grid_row": null,
      "grid_template_areas": null,
      "grid_template_columns": null,
      "grid_template_rows": null,
      "height": null,
      "justify_content": null,
      "justify_items": null,
      "left": null,
      "margin": null,
      "max_height": null,
      "max_width": null,
      "min_height": null,
      "min_width": null,
      "object_fit": null,
      "object_position": null,
      "order": null,
      "overflow": null,
      "overflow_x": null,
      "overflow_y": null,
      "padding": null,
      "right": null,
      "top": null,
      "visibility": null,
      "width": null
     }
    },
    "d589a9b452b74cdd9f7ba437b74ca692": {
     "model_module": "@jupyter-widgets/controls",
     "model_module_version": "1.5.0",
     "model_name": "FloatProgressModel",
     "state": {
      "_dom_classes": [],
      "_model_module": "@jupyter-widgets/controls",
      "_model_module_version": "1.5.0",
      "_model_name": "FloatProgressModel",
      "_view_count": null,
      "_view_module": "@jupyter-widgets/controls",
      "_view_module_version": "1.5.0",
      "_view_name": "ProgressView",
      "bar_style": "success",
      "description": "",
      "description_tooltip": null,
      "layout": "IPY_MODEL_7c5aef0ae6d94605a3f33fb3c727b21c",
      "max": 112,
      "min": 0,
      "orientation": "horizontal",
      "style": "IPY_MODEL_de69d27483aa46ceadee657fe247aa0b",
      "value": 112
     }
    },
    "d657abcff5954e34895906df8bfa317e": {
     "model_module": "@jupyter-widgets/controls",
     "model_module_version": "1.5.0",
     "model_name": "FloatProgressModel",
     "state": {
      "_dom_classes": [],
      "_model_module": "@jupyter-widgets/controls",
      "_model_module_version": "1.5.0",
      "_model_name": "FloatProgressModel",
      "_view_count": null,
      "_view_module": "@jupyter-widgets/controls",
      "_view_module_version": "1.5.0",
      "_view_name": "ProgressView",
      "bar_style": "success",
      "description": "",
      "description_tooltip": null,
      "layout": "IPY_MODEL_1c3708222bf749fab78535cd6f6f23ae",
      "max": 174,
      "min": 0,
      "orientation": "horizontal",
      "style": "IPY_MODEL_aa7c107d733d41aea395ba74302d19aa",
      "value": 174
     }
    },
    "d7472edf76504e2e8c0eb3662a40d259": {
     "model_module": "@jupyter-widgets/base",
     "model_module_version": "1.2.0",
     "model_name": "LayoutModel",
     "state": {
      "_model_module": "@jupyter-widgets/base",
      "_model_module_version": "1.2.0",
      "_model_name": "LayoutModel",
      "_view_count": null,
      "_view_module": "@jupyter-widgets/base",
      "_view_module_version": "1.2.0",
      "_view_name": "LayoutView",
      "align_content": null,
      "align_items": null,
      "align_self": null,
      "border": null,
      "bottom": null,
      "display": null,
      "flex": null,
      "flex_flow": null,
      "grid_area": null,
      "grid_auto_columns": null,
      "grid_auto_flow": null,
      "grid_auto_rows": null,
      "grid_column": null,
      "grid_gap": null,
      "grid_row": null,
      "grid_template_areas": null,
      "grid_template_columns": null,
      "grid_template_rows": null,
      "height": null,
      "justify_content": null,
      "justify_items": null,
      "left": null,
      "margin": null,
      "max_height": null,
      "max_width": null,
      "min_height": null,
      "min_width": null,
      "object_fit": null,
      "object_position": null,
      "order": null,
      "overflow": null,
      "overflow_x": null,
      "overflow_y": null,
      "padding": null,
      "right": null,
      "top": null,
      "visibility": null,
      "width": null
     }
    },
    "de69d27483aa46ceadee657fe247aa0b": {
     "model_module": "@jupyter-widgets/controls",
     "model_module_version": "1.5.0",
     "model_name": "ProgressStyleModel",
     "state": {
      "_model_module": "@jupyter-widgets/controls",
      "_model_module_version": "1.5.0",
      "_model_name": "ProgressStyleModel",
      "_view_count": null,
      "_view_module": "@jupyter-widgets/base",
      "_view_module_version": "1.2.0",
      "_view_name": "StyleView",
      "bar_color": null,
      "description_width": ""
     }
    },
    "de866c1bd6f54782803967321399b14d": {
     "model_module": "@jupyter-widgets/base",
     "model_module_version": "1.2.0",
     "model_name": "LayoutModel",
     "state": {
      "_model_module": "@jupyter-widgets/base",
      "_model_module_version": "1.2.0",
      "_model_name": "LayoutModel",
      "_view_count": null,
      "_view_module": "@jupyter-widgets/base",
      "_view_module_version": "1.2.0",
      "_view_name": "LayoutView",
      "align_content": null,
      "align_items": null,
      "align_self": null,
      "border": null,
      "bottom": null,
      "display": null,
      "flex": null,
      "flex_flow": null,
      "grid_area": null,
      "grid_auto_columns": null,
      "grid_auto_flow": null,
      "grid_auto_rows": null,
      "grid_column": null,
      "grid_gap": null,
      "grid_row": null,
      "grid_template_areas": null,
      "grid_template_columns": null,
      "grid_template_rows": null,
      "height": null,
      "justify_content": null,
      "justify_items": null,
      "left": null,
      "margin": null,
      "max_height": null,
      "max_width": null,
      "min_height": null,
      "min_width": null,
      "object_fit": null,
      "object_position": null,
      "order": null,
      "overflow": null,
      "overflow_x": null,
      "overflow_y": null,
      "padding": null,
      "right": null,
      "top": null,
      "visibility": null,
      "width": null
     }
    },
    "e42867da9ca8486aa484e0d514783791": {
     "model_module": "@jupyter-widgets/controls",
     "model_module_version": "1.5.0",
     "model_name": "DescriptionStyleModel",
     "state": {
      "_model_module": "@jupyter-widgets/controls",
      "_model_module_version": "1.5.0",
      "_model_name": "DescriptionStyleModel",
      "_view_count": null,
      "_view_module": "@jupyter-widgets/base",
      "_view_module_version": "1.2.0",
      "_view_name": "StyleView",
      "description_width": ""
     }
    },
    "e5f2ceb7b4ee426e89bb4d9db8e386d3": {
     "model_module": "@jupyter-widgets/base",
     "model_module_version": "1.2.0",
     "model_name": "LayoutModel",
     "state": {
      "_model_module": "@jupyter-widgets/base",
      "_model_module_version": "1.2.0",
      "_model_name": "LayoutModel",
      "_view_count": null,
      "_view_module": "@jupyter-widgets/base",
      "_view_module_version": "1.2.0",
      "_view_name": "LayoutView",
      "align_content": null,
      "align_items": null,
      "align_self": null,
      "border": null,
      "bottom": null,
      "display": null,
      "flex": null,
      "flex_flow": null,
      "grid_area": null,
      "grid_auto_columns": null,
      "grid_auto_flow": null,
      "grid_auto_rows": null,
      "grid_column": null,
      "grid_gap": null,
      "grid_row": null,
      "grid_template_areas": null,
      "grid_template_columns": null,
      "grid_template_rows": null,
      "height": null,
      "justify_content": null,
      "justify_items": null,
      "left": null,
      "margin": null,
      "max_height": null,
      "max_width": null,
      "min_height": null,
      "min_width": null,
      "object_fit": null,
      "object_position": null,
      "order": null,
      "overflow": null,
      "overflow_x": null,
      "overflow_y": null,
      "padding": null,
      "right": null,
      "top": null,
      "visibility": null,
      "width": null
     }
    },
    "e90a83ff41114139a49e414074784f25": {
     "model_module": "@jupyter-widgets/controls",
     "model_module_version": "1.5.0",
     "model_name": "HBoxModel",
     "state": {
      "_dom_classes": [],
      "_model_module": "@jupyter-widgets/controls",
      "_model_module_version": "1.5.0",
      "_model_name": "HBoxModel",
      "_view_count": null,
      "_view_module": "@jupyter-widgets/controls",
      "_view_module_version": "1.5.0",
      "_view_name": "HBoxView",
      "box_style": "",
      "children": [
       "IPY_MODEL_55d811d3cde04061bd7c65ecb275892d",
       "IPY_MODEL_3c70830dffe44c369e9799c70fe31f74",
       "IPY_MODEL_62741489a0a54443a76a02ef717f556e"
      ],
      "layout": "IPY_MODEL_362292822cd94cc1a7182349ca42987b"
     }
    },
    "ee6301e6667d400fbfa83fd277f97c3d": {
     "model_module": "@jupyter-widgets/base",
     "model_module_version": "1.2.0",
     "model_name": "LayoutModel",
     "state": {
      "_model_module": "@jupyter-widgets/base",
      "_model_module_version": "1.2.0",
      "_model_name": "LayoutModel",
      "_view_count": null,
      "_view_module": "@jupyter-widgets/base",
      "_view_module_version": "1.2.0",
      "_view_name": "LayoutView",
      "align_content": null,
      "align_items": null,
      "align_self": null,
      "border": null,
      "bottom": null,
      "display": null,
      "flex": null,
      "flex_flow": null,
      "grid_area": null,
      "grid_auto_columns": null,
      "grid_auto_flow": null,
      "grid_auto_rows": null,
      "grid_column": null,
      "grid_gap": null,
      "grid_row": null,
      "grid_template_areas": null,
      "grid_template_columns": null,
      "grid_template_rows": null,
      "height": null,
      "justify_content": null,
      "justify_items": null,
      "left": null,
      "margin": null,
      "max_height": null,
      "max_width": null,
      "min_height": null,
      "min_width": null,
      "object_fit": null,
      "object_position": null,
      "order": null,
      "overflow": null,
      "overflow_x": null,
      "overflow_y": null,
      "padding": null,
      "right": null,
      "top": null,
      "visibility": null,
      "width": null
     }
    },
    "ef8d625c5ad94335a913f481d39aea96": {
     "model_module": "@jupyter-widgets/base",
     "model_module_version": "1.2.0",
     "model_name": "LayoutModel",
     "state": {
      "_model_module": "@jupyter-widgets/base",
      "_model_module_version": "1.2.0",
      "_model_name": "LayoutModel",
      "_view_count": null,
      "_view_module": "@jupyter-widgets/base",
      "_view_module_version": "1.2.0",
      "_view_name": "LayoutView",
      "align_content": null,
      "align_items": null,
      "align_self": null,
      "border": null,
      "bottom": null,
      "display": null,
      "flex": null,
      "flex_flow": null,
      "grid_area": null,
      "grid_auto_columns": null,
      "grid_auto_flow": null,
      "grid_auto_rows": null,
      "grid_column": null,
      "grid_gap": null,
      "grid_row": null,
      "grid_template_areas": null,
      "grid_template_columns": null,
      "grid_template_rows": null,
      "height": null,
      "justify_content": null,
      "justify_items": null,
      "left": null,
      "margin": null,
      "max_height": null,
      "max_width": null,
      "min_height": null,
      "min_width": null,
      "object_fit": null,
      "object_position": null,
      "order": null,
      "overflow": null,
      "overflow_x": null,
      "overflow_y": null,
      "padding": null,
      "right": null,
      "top": null,
      "visibility": null,
      "width": null
     }
    },
    "f0c07276009e40d7a497894c6fe38817": {
     "model_module": "@jupyter-widgets/controls",
     "model_module_version": "1.5.0",
     "model_name": "HTMLModel",
     "state": {
      "_dom_classes": [],
      "_model_module": "@jupyter-widgets/controls",
      "_model_module_version": "1.5.0",
      "_model_name": "HTMLModel",
      "_view_count": null,
      "_view_module": "@jupyter-widgets/controls",
      "_view_module_version": "1.5.0",
      "_view_name": "HTMLView",
      "description": "",
      "description_tooltip": null,
      "layout": "IPY_MODEL_546a46d922aa4a92b57f7416524d9494",
      "placeholder": "​",
      "style": "IPY_MODEL_52f36fb5c8144c44a1b7d2a3884848d7",
      "value": " 159292/159292 [11:43&lt;00:00, 278.44it/s]"
     }
    },
    "f91e8d0a949a4a2fab19942b7636317c": {
     "model_module": "@jupyter-widgets/base",
     "model_module_version": "1.2.0",
     "model_name": "LayoutModel",
     "state": {
      "_model_module": "@jupyter-widgets/base",
      "_model_module_version": "1.2.0",
      "_model_name": "LayoutModel",
      "_view_count": null,
      "_view_module": "@jupyter-widgets/base",
      "_view_module_version": "1.2.0",
      "_view_name": "LayoutView",
      "align_content": null,
      "align_items": null,
      "align_self": null,
      "border": null,
      "bottom": null,
      "display": null,
      "flex": null,
      "flex_flow": null,
      "grid_area": null,
      "grid_auto_columns": null,
      "grid_auto_flow": null,
      "grid_auto_rows": null,
      "grid_column": null,
      "grid_gap": null,
      "grid_row": null,
      "grid_template_areas": null,
      "grid_template_columns": null,
      "grid_template_rows": null,
      "height": null,
      "justify_content": null,
      "justify_items": null,
      "left": null,
      "margin": null,
      "max_height": null,
      "max_width": null,
      "min_height": null,
      "min_width": null,
      "object_fit": null,
      "object_position": null,
      "order": null,
      "overflow": null,
      "overflow_x": null,
      "overflow_y": null,
      "padding": null,
      "right": null,
      "top": null,
      "visibility": null,
      "width": null
     }
    }
   }
  }
 },
 "nbformat": 4,
 "nbformat_minor": 1
}
