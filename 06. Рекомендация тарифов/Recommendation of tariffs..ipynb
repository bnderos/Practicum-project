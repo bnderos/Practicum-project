{
 "cells": [
  {
   "cell_type": "markdown",
   "metadata": {},
   "source": [
    "# Рекомендация тарифов"
   ]
  },
  {
   "cell_type": "markdown",
   "metadata": {},
   "source": [
    "В вашем распоряжении данные о поведении клиентов, которые уже перешли на эти тарифы (из проекта курса «Статистический анализ данных»). Нужно построить модель для задачи классификации, которая выберет подходящий тариф. Предобработка данных не понадобится — вы её уже сделали.\n",
    "\n",
    "Постройте модель с максимально большим значением *accuracy*. Чтобы сдать проект успешно, нужно довести долю правильных ответов по крайней мере до 0.75. Проверьте *accuracy* на тестовой выборке самостоятельно."
   ]
  },
  {
   "cell_type": "markdown",
   "metadata": {},
   "source": [
    "**Цель:** построить модель для задачи классификации, которая выберет подходящий тариф.    \n",
    "     \n",
    "   Работа пройдёт в несколько этапов:\n",
    " 1. Обзор данных.\n",
    " 2. Разделение данных на выборки.\n",
    " 3. Исследование качества моделей.\n",
    " 4. Проверка качества модели на тестовой выборке.\n",
    " 5. Проверка модели на вменяемость."
   ]
  },
  {
   "cell_type": "markdown",
   "metadata": {},
   "source": [
    "**Описание данных**    \n",
    "      \n",
    "+ сalls — количество звонков,\n",
    "+ minutes — суммарная длительность звонков в минутах,\n",
    "+ messages — количество sms-сообщений,\n",
    "+ mb_used — израсходованный интернет-трафик в Мб,\n",
    "+ is_ultra — каким тарифом пользовался в течение месяца («Ультра» — 1, «Смарт» — 0)."
   ]
  },
  {
   "cell_type": "markdown",
   "metadata": {},
   "source": [
    "## Откройте и изучите файл"
   ]
  },
  {
   "cell_type": "code",
   "execution_count": 1,
   "metadata": {},
   "outputs": [],
   "source": [
    "# подключаем библиотеки\n",
    "import pandas as pd\n",
    "import numpy as np\n",
    "import seaborn as sns\n",
    "import matplotlib.pyplot as plt\n",
    "import os\n",
    "\n",
    "from tqdm import tqdm\n",
    "from time import perf_counter\n",
    "\n",
    "from sklearn.model_selection import train_test_split\n",
    "from sklearn.tree import DecisionTreeClassifier\n",
    "from sklearn import tree\n",
    "from sklearn.ensemble import RandomForestClassifier \n",
    "from sklearn.linear_model import LogisticRegression \n",
    "from sklearn.metrics import accuracy_score\n",
    "from sklearn.metrics import precision_score\n",
    "from sklearn.metrics import recall_score\n",
    "from sklearn.metrics import f1_score\n",
    "from sklearn.metrics import confusion_matrix\n",
    "from sklearn.metrics import ConfusionMatrixDisplay\n",
    "from sklearn.dummy import DummyClassifier"
   ]
  },
  {
   "cell_type": "code",
   "execution_count": 2,
   "metadata": {},
   "outputs": [
    {
     "data": {
      "text/html": [
       "<div>\n",
       "<style scoped>\n",
       "    .dataframe tbody tr th:only-of-type {\n",
       "        vertical-align: middle;\n",
       "    }\n",
       "\n",
       "    .dataframe tbody tr th {\n",
       "        vertical-align: top;\n",
       "    }\n",
       "\n",
       "    .dataframe thead th {\n",
       "        text-align: right;\n",
       "    }\n",
       "</style>\n",
       "<table border=\"1\" class=\"dataframe\">\n",
       "  <thead>\n",
       "    <tr style=\"text-align: right;\">\n",
       "      <th></th>\n",
       "      <th>calls</th>\n",
       "      <th>minutes</th>\n",
       "      <th>messages</th>\n",
       "      <th>mb_used</th>\n",
       "      <th>is_ultra</th>\n",
       "    </tr>\n",
       "  </thead>\n",
       "  <tbody>\n",
       "    <tr>\n",
       "      <th>0</th>\n",
       "      <td>40.0</td>\n",
       "      <td>311.90</td>\n",
       "      <td>83.0</td>\n",
       "      <td>19915.42</td>\n",
       "      <td>0</td>\n",
       "    </tr>\n",
       "    <tr>\n",
       "      <th>1</th>\n",
       "      <td>85.0</td>\n",
       "      <td>516.75</td>\n",
       "      <td>56.0</td>\n",
       "      <td>22696.96</td>\n",
       "      <td>0</td>\n",
       "    </tr>\n",
       "    <tr>\n",
       "      <th>2</th>\n",
       "      <td>77.0</td>\n",
       "      <td>467.66</td>\n",
       "      <td>86.0</td>\n",
       "      <td>21060.45</td>\n",
       "      <td>0</td>\n",
       "    </tr>\n",
       "    <tr>\n",
       "      <th>3</th>\n",
       "      <td>106.0</td>\n",
       "      <td>745.53</td>\n",
       "      <td>81.0</td>\n",
       "      <td>8437.39</td>\n",
       "      <td>1</td>\n",
       "    </tr>\n",
       "    <tr>\n",
       "      <th>4</th>\n",
       "      <td>66.0</td>\n",
       "      <td>418.74</td>\n",
       "      <td>1.0</td>\n",
       "      <td>14502.75</td>\n",
       "      <td>0</td>\n",
       "    </tr>\n",
       "    <tr>\n",
       "      <th>5</th>\n",
       "      <td>58.0</td>\n",
       "      <td>344.56</td>\n",
       "      <td>21.0</td>\n",
       "      <td>15823.37</td>\n",
       "      <td>0</td>\n",
       "    </tr>\n",
       "    <tr>\n",
       "      <th>6</th>\n",
       "      <td>57.0</td>\n",
       "      <td>431.64</td>\n",
       "      <td>20.0</td>\n",
       "      <td>3738.90</td>\n",
       "      <td>1</td>\n",
       "    </tr>\n",
       "    <tr>\n",
       "      <th>7</th>\n",
       "      <td>15.0</td>\n",
       "      <td>132.40</td>\n",
       "      <td>6.0</td>\n",
       "      <td>21911.60</td>\n",
       "      <td>0</td>\n",
       "    </tr>\n",
       "    <tr>\n",
       "      <th>8</th>\n",
       "      <td>7.0</td>\n",
       "      <td>43.39</td>\n",
       "      <td>3.0</td>\n",
       "      <td>2538.67</td>\n",
       "      <td>1</td>\n",
       "    </tr>\n",
       "    <tr>\n",
       "      <th>9</th>\n",
       "      <td>90.0</td>\n",
       "      <td>665.41</td>\n",
       "      <td>38.0</td>\n",
       "      <td>17358.61</td>\n",
       "      <td>0</td>\n",
       "    </tr>\n",
       "  </tbody>\n",
       "</table>\n",
       "</div>"
      ],
      "text/plain": [
       "   calls  minutes  messages   mb_used  is_ultra\n",
       "0   40.0   311.90      83.0  19915.42         0\n",
       "1   85.0   516.75      56.0  22696.96         0\n",
       "2   77.0   467.66      86.0  21060.45         0\n",
       "3  106.0   745.53      81.0   8437.39         1\n",
       "4   66.0   418.74       1.0  14502.75         0\n",
       "5   58.0   344.56      21.0  15823.37         0\n",
       "6   57.0   431.64      20.0   3738.90         1\n",
       "7   15.0   132.40       6.0  21911.60         0\n",
       "8    7.0    43.39       3.0   2538.67         1\n",
       "9   90.0   665.41      38.0  17358.61         0"
      ]
     },
     "execution_count": 2,
     "metadata": {},
     "output_type": "execute_result"
    }
   ],
   "source": [
    "if os.path.exists(r'C:\\Users\\AHTOH\\Desktop\\Практикум\\Проекты\\users_behavior.csv'):\n",
    "    df = pd.read_csv(r'C:\\Users\\AHTOH\\Desktop\\Практикум\\Проекты\\users_behavior.csv')\n",
    "elif os.path.exists('/datasets/users_behavior.csv'):\n",
    "    df = pd.read_csv('/datasets/users_behavior.csv')\n",
    "else:\n",
    "    print('Nothing works.')\n",
    "df.head(10)"
   ]
  },
  {
   "cell_type": "code",
   "execution_count": 3,
   "metadata": {},
   "outputs": [
    {
     "name": "stdout",
     "output_type": "stream",
     "text": [
      "<class 'pandas.core.frame.DataFrame'>\n",
      "RangeIndex: 3214 entries, 0 to 3213\n",
      "Data columns (total 5 columns):\n",
      " #   Column    Non-Null Count  Dtype  \n",
      "---  ------    --------------  -----  \n",
      " 0   calls     3214 non-null   float64\n",
      " 1   minutes   3214 non-null   float64\n",
      " 2   messages  3214 non-null   float64\n",
      " 3   mb_used   3214 non-null   float64\n",
      " 4   is_ultra  3214 non-null   int64  \n",
      "dtypes: float64(4), int64(1)\n",
      "memory usage: 125.7 KB\n"
     ]
    }
   ],
   "source": [
    "df.info()"
   ]
  },
  {
   "cell_type": "code",
   "execution_count": 4,
   "metadata": {},
   "outputs": [
    {
     "data": {
      "text/html": [
       "<div>\n",
       "<style scoped>\n",
       "    .dataframe tbody tr th:only-of-type {\n",
       "        vertical-align: middle;\n",
       "    }\n",
       "\n",
       "    .dataframe tbody tr th {\n",
       "        vertical-align: top;\n",
       "    }\n",
       "\n",
       "    .dataframe thead th {\n",
       "        text-align: right;\n",
       "    }\n",
       "</style>\n",
       "<table border=\"1\" class=\"dataframe\">\n",
       "  <thead>\n",
       "    <tr style=\"text-align: right;\">\n",
       "      <th></th>\n",
       "      <th>calls</th>\n",
       "      <th>minutes</th>\n",
       "      <th>messages</th>\n",
       "      <th>mb_used</th>\n",
       "      <th>is_ultra</th>\n",
       "    </tr>\n",
       "  </thead>\n",
       "  <tbody>\n",
       "    <tr>\n",
       "      <th>count</th>\n",
       "      <td>3214.000000</td>\n",
       "      <td>3214.000000</td>\n",
       "      <td>3214.000000</td>\n",
       "      <td>3214.000000</td>\n",
       "      <td>3214.000000</td>\n",
       "    </tr>\n",
       "    <tr>\n",
       "      <th>mean</th>\n",
       "      <td>63.038892</td>\n",
       "      <td>438.208787</td>\n",
       "      <td>38.281269</td>\n",
       "      <td>17207.673836</td>\n",
       "      <td>0.306472</td>\n",
       "    </tr>\n",
       "    <tr>\n",
       "      <th>std</th>\n",
       "      <td>33.236368</td>\n",
       "      <td>234.569872</td>\n",
       "      <td>36.148326</td>\n",
       "      <td>7570.968246</td>\n",
       "      <td>0.461100</td>\n",
       "    </tr>\n",
       "    <tr>\n",
       "      <th>min</th>\n",
       "      <td>0.000000</td>\n",
       "      <td>0.000000</td>\n",
       "      <td>0.000000</td>\n",
       "      <td>0.000000</td>\n",
       "      <td>0.000000</td>\n",
       "    </tr>\n",
       "    <tr>\n",
       "      <th>25%</th>\n",
       "      <td>40.000000</td>\n",
       "      <td>274.575000</td>\n",
       "      <td>9.000000</td>\n",
       "      <td>12491.902500</td>\n",
       "      <td>0.000000</td>\n",
       "    </tr>\n",
       "    <tr>\n",
       "      <th>50%</th>\n",
       "      <td>62.000000</td>\n",
       "      <td>430.600000</td>\n",
       "      <td>30.000000</td>\n",
       "      <td>16943.235000</td>\n",
       "      <td>0.000000</td>\n",
       "    </tr>\n",
       "    <tr>\n",
       "      <th>75%</th>\n",
       "      <td>82.000000</td>\n",
       "      <td>571.927500</td>\n",
       "      <td>57.000000</td>\n",
       "      <td>21424.700000</td>\n",
       "      <td>1.000000</td>\n",
       "    </tr>\n",
       "    <tr>\n",
       "      <th>max</th>\n",
       "      <td>244.000000</td>\n",
       "      <td>1632.060000</td>\n",
       "      <td>224.000000</td>\n",
       "      <td>49745.730000</td>\n",
       "      <td>1.000000</td>\n",
       "    </tr>\n",
       "  </tbody>\n",
       "</table>\n",
       "</div>"
      ],
      "text/plain": [
       "             calls      minutes     messages       mb_used     is_ultra\n",
       "count  3214.000000  3214.000000  3214.000000   3214.000000  3214.000000\n",
       "mean     63.038892   438.208787    38.281269  17207.673836     0.306472\n",
       "std      33.236368   234.569872    36.148326   7570.968246     0.461100\n",
       "min       0.000000     0.000000     0.000000      0.000000     0.000000\n",
       "25%      40.000000   274.575000     9.000000  12491.902500     0.000000\n",
       "50%      62.000000   430.600000    30.000000  16943.235000     0.000000\n",
       "75%      82.000000   571.927500    57.000000  21424.700000     1.000000\n",
       "max     244.000000  1632.060000   224.000000  49745.730000     1.000000"
      ]
     },
     "execution_count": 4,
     "metadata": {},
     "output_type": "execute_result"
    }
   ],
   "source": [
    "df.describe()"
   ]
  },
  {
   "cell_type": "code",
   "execution_count": 5,
   "metadata": {},
   "outputs": [
    {
     "data": {
      "text/plain": [
       "0"
      ]
     },
     "execution_count": 5,
     "metadata": {},
     "output_type": "execute_result"
    }
   ],
   "source": [
    "# на всякий случай проверим дубликаты\n",
    "df.duplicated().sum()"
   ]
  },
  {
   "cell_type": "markdown",
   "metadata": {},
   "source": [
    "**Выводы:**    \n",
    "+ названия колонок соответствуют\n",
    "+ пропущенных значений нет\n",
    "+ дубликатов нет\n",
    "+ типы данных в норме (хотя, я бы изменил на int количество звонков и количество сообщений, но в этом, я так понимаю, нет необходимости)    \n",
    "     \n",
    "Предобработка не требуется  "
   ]
  },
  {
   "cell_type": "code",
   "execution_count": 6,
   "metadata": {},
   "outputs": [
    {
     "data": {
      "image/png": "[encoded data removed]",
      "text/plain": [
       "<Figure size 864x576 with 2 Axes>"
      ]
     },
     "metadata": {
      "needs_background": "light"
     },
     "output_type": "display_data"
    }
   ],
   "source": [
    "plt.figure(figsize = (12, 8))\n",
    "sns.heatmap(df.corr(),\n",
    "            annot=True,\n",
    "            annot_kws={'size': 17},\n",
    "            fmt='.2f',\n",
    "            cmap='coolwarm',\n",
    "            linewidths=2,\n",
    "            linecolor='black')\n",
    "plt.show()"
   ]
  },
  {
   "cell_type": "markdown",
   "metadata": {},
   "source": [
    "## Разбейте данные на выборки"
   ]
  },
  {
   "cell_type": "markdown",
   "metadata": {},
   "source": [
    "**Учитывая, что спрятанной тестовой выборки у нас нет. Значит, данные разобьём на три части: обучающую, валидационную и тестовую. Размеры тестового и валидационного наборов обычно равны. Исходные данные разобьём в соотношении 3:1:1.**"
   ]
  },
  {
   "cell_type": "code",
   "execution_count": 7,
   "metadata": {},
   "outputs": [],
   "source": [
    "# разобьём данные на признаки и целевой признак\n",
    "X = df.drop(['is_ultra'], axis=1)\n",
    "y = df['is_ultra']"
   ]
  },
  {
   "cell_type": "code",
   "execution_count": 8,
   "metadata": {},
   "outputs": [
    {
     "data": {
      "text/plain": [
       "((3214, 4), (3214,))"
      ]
     },
     "execution_count": 8,
     "metadata": {},
     "output_type": "execute_result"
    }
   ],
   "source": [
    "X.shape, y.shape"
   ]
  },
  {
   "cell_type": "markdown",
   "metadata": {},
   "source": [
    "*Задаём пропорцию классов при разделении с помощью параметра stratify функции train_test_split. Мы будем стратифицировать в соответствии распределению по классам в y. Также зафиксируем псевдослучайность параметром random_state*"
   ]
  },
  {
   "cell_type": "code",
   "execution_count": 9,
   "metadata": {},
   "outputs": [],
   "source": [
    "# разобьём сначала на обучающий и тестовый наборы\n",
    "X_train, X_test, y_train, y_test = train_test_split(X, y, train_size=0.6, random_state=123, stratify=y)"
   ]
  },
  {
   "cell_type": "code",
   "execution_count": 10,
   "metadata": {},
   "outputs": [],
   "source": [
    "# затем разобьём на тестовый и валидационный наборы\n",
    "X_test, X_val, y_test, y_val = train_test_split(X_test, y_test, train_size=0.5, random_state=123, stratify=y_test)"
   ]
  },
  {
   "cell_type": "code",
   "execution_count": 11,
   "metadata": {},
   "outputs": [
    {
     "data": {
      "text/plain": [
       "((1928, 4), (1928,), (643, 4), (643,), (643, 4), (643,))"
      ]
     },
     "execution_count": 11,
     "metadata": {},
     "output_type": "execute_result"
    }
   ],
   "source": [
    "# проверим длины наших выборок\n",
    "X_train.shape, y_train.shape, X_test.shape, y_test.shape, X_val.shape, y_val.shape"
   ]
  },
  {
   "cell_type": "markdown",
   "metadata": {},
   "source": [
    "**Вывод:**      \n",
    "Мы разбили датасет на признаки, а такжа на обучающую, валидационную и тестовую выборки."
   ]
  },
  {
   "cell_type": "markdown",
   "metadata": {},
   "source": [
    "## Исследуйте модели"
   ]
  },
  {
   "cell_type": "markdown",
   "metadata": {},
   "source": [
    "### Дерево решений"
   ]
  },
  {
   "cell_type": "code",
   "execution_count": 36,
   "metadata": {},
   "outputs": [
    {
     "name": "stdout",
     "output_type": "stream",
     "text": [
      "Accuracy наилучшей модели: 0.8103\n",
      "Максимальная глубина: 6\n"
     ]
    },
    {
     "data": {
      "text/plain": [
       "'Время выполнения кода: 0.090 сек'"
      ]
     },
     "execution_count": 36,
     "metadata": {},
     "output_type": "execute_result"
    }
   ],
   "source": [
    "# в цикле переберём значения max_depth от 1 до 12\n",
    "start = perf_counter()\n",
    "best_model_tree = None\n",
    "best_result_tree = 0\n",
    "best_depth = 0\n",
    "lst_depth = []\n",
    "lst_accuracy_val = []\n",
    "lst_accuracy_tr = []\n",
    "for depth in range(1, 13):\n",
    "    model_dt = DecisionTreeClassifier(random_state=123, max_depth=depth)  # создаём модель\n",
    "    model_dt.fit(X_train, y_train)                                          # обучаем её\n",
    "    accuracy_tr = model_dt.score(X_train, y_train)\n",
    "    accuracy_val = model_dt.score(X_val, y_val)\n",
    "    lst_depth.append(depth)\n",
    "    lst_accuracy_val.append(accuracy_val)\n",
    "    lst_accuracy_tr.append(accuracy_tr)\n",
    "    if accuracy_val > best_result_tree:\n",
    "        best_model_tree = model_dt\n",
    "        best_result_tree = accuracy_val\n",
    "        best_depth = depth\n",
    "print(f'Accuracy наилучшей модели: {best_result_tree:.4f}\\nМаксимальная глубина: {best_depth}')\n",
    "end = perf_counter()\n",
    "\n",
    "f\"Время выполнения кода: {end-start:.3f} сек\""
   ]
  },
  {
   "cell_type": "code",
   "execution_count": 13,
   "metadata": {},
   "outputs": [
    {
     "data": {
      "text/plain": [
       "'0.8252'"
      ]
     },
     "execution_count": 13,
     "metadata": {},
     "output_type": "execute_result"
    }
   ],
   "source": [
    "model_dt = DecisionTreeClassifier(random_state=123, max_depth=6)  # создаём модель\n",
    "model_dt.fit(X_train, y_train)\n",
    "format(model_dt.score(X_train, y_train), '.4f')"
   ]
  },
  {
   "cell_type": "code",
   "execution_count": 14,
   "metadata": {},
   "outputs": [
    {
     "data": {
      "image/png": "[encoded data removed]",
      "text/plain": [
       "<Figure size 720x432 with 1 Axes>"
      ]
     },
     "metadata": {
      "needs_background": "light"
     },
     "output_type": "display_data"
    }
   ],
   "source": [
    "plt.figure(figsize=(10, 6))\n",
    "plt.plot(lst_depth, lst_accuracy_val, 'o-')\n",
    "plt.plot(lst_depth, lst_accuracy_tr, 'o-')\n",
    "plt.grid(True)\n",
    "plt.legend(['accuracy_val', 'accuracy_train'])\n",
    "plt.title('Accuracy в зависимости от глубины', fontsize=20)\n",
    "plt.xlabel('Глубина', fontsize=15)\n",
    "plt.ylabel('Доля правильных ответов', fontsize=15);"
   ]
  },
  {
   "cell_type": "code",
   "execution_count": 60,
   "metadata": {},
   "outputs": [
    {
     "data": {
      "image/png": "[encoded data removed]",
      "text/plain": [
       "<Figure size 3000x2000 with 1 Axes>"
      ]
     },
     "metadata": {
      "needs_background": "light"
     },
     "output_type": "display_data"
    }
   ],
   "source": [
    "fig = plt.figure(figsize=(15, 10), dpi=200)\n",
    "_ = tree.plot_tree(best_model_tree, \n",
    "               feature_names=X.columns.values, \n",
    "               class_names=['Smart','Ultra'],\n",
    "               filled=True,\n",
    "               fontsize = 8,\n",
    "               max_depth = 3)"
   ]
  },
  {
   "cell_type": "markdown",
   "metadata": {},
   "source": [
    "У модели \"дерево решений\" наилучшие показатели **при глубине 6 - 0.8103**. Далее модель начинает \"переобучаться\" и показатели accuracy падают. При глубине 6 на тренировочной выборке показатель accuracy - 0.8252. Скорость решающего дерева высокая и зависит от глубины."
   ]
  },
  {
   "cell_type": "markdown",
   "metadata": {},
   "source": [
    "### Случайный лес"
   ]
  },
  {
   "cell_type": "code",
   "execution_count": 16,
   "metadata": {},
   "outputs": [
    {
     "name": "stderr",
     "output_type": "stream",
     "text": [
      "100%|██████████| 5/5 [00:08<00:00,  1.76s/it]"
     ]
    },
    {
     "name": "stdout",
     "output_type": "stream",
     "text": [
      "Accuracy наилучшей модели: 0.8367 \n",
      "Количество деревьев: 20 \n",
      "Максимальная глубина: 17\n"
     ]
    },
    {
     "name": "stderr",
     "output_type": "stream",
     "text": [
      "\n"
     ]
    }
   ],
   "source": [
    "best_model = None\n",
    "best_res = 0\n",
    "best_est = 0\n",
    "best_depth = 0\n",
    "for est in tqdm(range(10, 51, 10)):\n",
    "    for depth in range(1, 21):\n",
    "        model_rf = RandomForestClassifier(random_state=123, n_estimators=est, max_depth=depth)\n",
    "        model_rf.fit(X_train, y_train)\n",
    "        res = model_rf.score(X_val, y_val)\n",
    "        if res > best_res:\n",
    "            best_model = model_rf\n",
    "            best_res = res\n",
    "            best_est = est\n",
    "            best_depth = depth\n",
    "print(f'Accuracy наилучшей модели: {best_res:.4f} \\nКоличество деревьев: {best_est} \\nМаксимальная глубина: {best_depth}')"
   ]
  },
  {
   "cell_type": "code",
   "execution_count": 17,
   "metadata": {},
   "outputs": [
    {
     "data": {
      "text/plain": [
       "'0.9725'"
      ]
     },
     "execution_count": 17,
     "metadata": {},
     "output_type": "execute_result"
    }
   ],
   "source": [
    "model_rf = RandomForestClassifier(random_state=123, n_estimators=20, max_depth=17)\n",
    "model_rf.fit(X_train, y_train)\n",
    "format(model_rf.score(X_train, y_train), '.4f')"
   ]
  },
  {
   "cell_type": "markdown",
   "metadata": {},
   "source": [
    "У модели \"случайный лес\" наилучшие показатели при количестве деревьев **20** и глубине **17** - **0.8367**. При тех же гиперпараметрах на тренировочной выборке показатель accuracy - 0.9606. Случайный лес работает довольно медленно: чем больше деревьев, тем неторопливее работает модель."
   ]
  },
  {
   "cell_type": "markdown",
   "metadata": {},
   "source": [
    "### Логическая регрессия"
   ]
  },
  {
   "cell_type": "code",
   "execution_count": 18,
   "metadata": {},
   "outputs": [
    {
     "name": "stdout",
     "output_type": "stream",
     "text": [
      "Accuracy модели равно: 0.7014\n",
      "CPU times: user 16.5 ms, sys: 31 µs, total: 16.5 ms\n",
      "Wall time: 15.2 ms\n"
     ]
    }
   ],
   "source": [
    "%%time\n",
    "model_log = LogisticRegression(random_state=123, solver='lbfgs', max_iter=1000) \n",
    "model_log.fit(X_train, y_train)\n",
    "print(f'Accuracy модели равно: {model_log.score(X_val, y_val):.4f}')"
   ]
  },
  {
   "cell_type": "markdown",
   "metadata": {},
   "source": [
    "Модель логической регрессии работает очень быстро, но показатель accuracy (0,7014) довольно низкий."
   ]
  },
  {
   "cell_type": "markdown",
   "metadata": {},
   "source": [
    "**Вывод:**  \n",
    "На этапе обучения моделей и подбора наилучших гиперпараметров на валидационной выборке лучшие результаты показала модель \"случайный лес\", у неё самый высокий показатель accuracy, хотя, она и самая медленная. Самая быстрая - линейная регрессия, правда, с самым низким показателем accuracy. \"Эолотая середина\" - это дерево решений(довольно высокий показатель accuracy и высокая скорость работы). "
   ]
  },
  {
   "cell_type": "markdown",
   "metadata": {},
   "source": [
    "## Проверьте модель на тестовой выборке"
   ]
  },
  {
   "cell_type": "code",
   "execution_count": 19,
   "metadata": {},
   "outputs": [
    {
     "data": {
      "text/plain": [
       "((1928, 4), (643, 4))"
      ]
     },
     "execution_count": 19,
     "metadata": {},
     "output_type": "execute_result"
    }
   ],
   "source": [
    "X_train.shape, X_val.shape"
   ]
  },
  {
   "cell_type": "code",
   "execution_count": 20,
   "metadata": {},
   "outputs": [
    {
     "data": {
      "text/plain": [
       "((2571, 4), (2571,))"
      ]
     },
     "execution_count": 20,
     "metadata": {},
     "output_type": "execute_result"
    }
   ],
   "source": [
    "# создадим новою выборку train + val\n",
    "X_train_val = pd.concat([X_train, X_val])\n",
    "y_train_val = pd.concat([y_train, y_val])\n",
    "X_train_val.shape, y_train_val.shape"
   ]
  },
  {
   "cell_type": "code",
   "execution_count": 23,
   "metadata": {},
   "outputs": [
    {
     "name": "stdout",
     "output_type": "stream",
     "text": [
      "Показатели accuracy на тестовой выборке = 0.7760\n"
     ]
    }
   ],
   "source": [
    "model_rf = RandomForestClassifier(random_state=123, n_estimators=20, max_depth=17)\n",
    "model_rf.fit(X_train, y_train)\n",
    "print(f'Показатели accuracy на тестовой выборке = {model_rf.score(X_test, y_test):.4f}')"
   ]
  },
  {
   "cell_type": "markdown",
   "metadata": {},
   "source": [
    "**Попробуем обучить на тренировочной + валидационной выборке**"
   ]
  },
  {
   "cell_type": "code",
   "execution_count": 24,
   "metadata": {
    "scrolled": true
   },
   "outputs": [
    {
     "name": "stdout",
     "output_type": "stream",
     "text": [
      "Показатели accuracy на тестовой выборке = 0.7978\n"
     ]
    }
   ],
   "source": [
    "model_rf = RandomForestClassifier(random_state=123, n_estimators=20, max_depth=17)\n",
    "model_rf.fit(X_train_val, y_train_val)\n",
    "print(f'Показатели accuracy на тестовой выборке = {model_rf.score(X_test, y_test):.4f}')"
   ]
  },
  {
   "cell_type": "markdown",
   "metadata": {},
   "source": [
    "**Вывод:**   \n",
    "При проверке на тестовой выборке показатели accuracy оказались несколько ниже, чем на валидационной. Тем не менее впереди оказалась модель \"случайный лес\" с показателем accuracy - 0.7760. А при соединении выборок результат улучшился до 0.7978."
   ]
  },
  {
   "cell_type": "markdown",
   "metadata": {},
   "source": [
    "**precision, recall, F1 и confussion matrix**"
   ]
  },
  {
   "cell_type": "code",
   "execution_count": 25,
   "metadata": {},
   "outputs": [
    {
     "name": "stdout",
     "output_type": "stream",
     "text": [
      "Показатели accuracy на тестовой выборке = 0.7978\n",
      "Точность на тестовой выборке = 0.7410\n",
      "Полнота на тестовой выборке = 0.5228\n",
      "F-1 мера на тестовой выборке = 0.6131\n"
     ]
    },
    {
     "data": {
      "text/plain": [
       "array([[410,  36],\n",
       "       [ 94, 103]])"
      ]
     },
     "execution_count": 25,
     "metadata": {},
     "output_type": "execute_result"
    }
   ],
   "source": [
    "model_rf = RandomForestClassifier(random_state=123, n_estimators=20, max_depth=17)\n",
    "model_rf.fit(X_train_val, y_train_val)\n",
    "y_pred = model_rf.predict(X_test)\n",
    "print(f'Показатели accuracy на тестовой выборке = {model_rf.score(X_test, y_test):.4f}')\n",
    "print(f'Точность на тестовой выборке = {precision_score(y_test, y_pred):.4f}')\n",
    "print(f'Полнота на тестовой выборке = {recall_score(y_test, y_pred):.4f}')\n",
    "print(f'F-1 мера на тестовой выборке = {f1_score(y_test, y_pred):.4f}')\n",
    "confusion_matrix(y_test, y_pred)"
   ]
  },
  {
   "cell_type": "code",
   "execution_count": 26,
   "metadata": {},
   "outputs": [
    {
     "data": {
      "image/png": "[encoded data removed]",
      "text/plain": [
       "<Figure size 432x288 with 2 Axes>"
      ]
     },
     "metadata": {
      "needs_background": "light"
     },
     "output_type": "display_data"
    }
   ],
   "source": [
    "cm = confusion_matrix(y_test, y_pred)\n",
    "ConfusionMatrixDisplay(confusion_matrix=cm).plot();"
   ]
  },
  {
   "cell_type": "markdown",
   "metadata": {},
   "source": [
    "## (бонус) Проверьте модели на адекватность"
   ]
  },
  {
   "cell_type": "markdown",
   "metadata": {},
   "source": [
    "**Нам нужно сравнить модель со случайной, так вы сможете оценить её адекватность, или проверить на вменяемость**"
   ]
  },
  {
   "cell_type": "code",
   "execution_count": 27,
   "metadata": {},
   "outputs": [
    {
     "data": {
      "text/plain": [
       "0.693528313627878"
      ]
     },
     "execution_count": 27,
     "metadata": {},
     "output_type": "execute_result"
    }
   ],
   "source": [
    "# посмотрим какую долю занимает тариф \"Смарт\"\n",
    "df.query('is_ultra == 0')['is_ultra'].count() / df.shape[0]"
   ]
  },
  {
   "cell_type": "code",
   "execution_count": 28,
   "metadata": {},
   "outputs": [],
   "source": [
    "# создадим случайную последовательность из 0 и 1 в соотношении 0,69:0,31\n",
    "nums = np.random.choice([0, 1], size=643, p=[.69, .31])"
   ]
  },
  {
   "cell_type": "code",
   "execution_count": 29,
   "metadata": {},
   "outputs": [
    {
     "name": "stdout",
     "output_type": "stream",
     "text": [
      "Показатели accuracy на тестовой выборке со случайным целевым признаком = 0.6143\n"
     ]
    }
   ],
   "source": [
    "print(f'Показатели accuracy на тестовой выборке со случайным целевым признаком = {model_rf.score(X_test, nums):.4f}')"
   ]
  },
  {
   "cell_type": "markdown",
   "metadata": {},
   "source": [
    "**Наша модель показывает результаты лучше, чем случайная — модель можно считать адекватной.**"
   ]
  },
  {
   "cell_type": "markdown",
   "metadata": {},
   "source": [
    "проверим датасет на сбалансированность классов в таргете"
   ]
  },
  {
   "cell_type": "code",
   "execution_count": 30,
   "metadata": {},
   "outputs": [
    {
     "data": {
      "text/plain": [
       "0    0.693528\n",
       "1    0.306472\n",
       "Name: is_ultra, dtype: float64"
      ]
     },
     "execution_count": 30,
     "metadata": {},
     "output_type": "execute_result"
    }
   ],
   "source": [
    "df.is_ultra.value_counts(normalize=True)"
   ]
  },
  {
   "cell_type": "markdown",
   "metadata": {},
   "source": [
    "**Констатная модель с нулями**"
   ]
  },
  {
   "cell_type": "code",
   "execution_count": 31,
   "metadata": {},
   "outputs": [
    {
     "data": {
      "text/plain": [
       "(643,)"
      ]
     },
     "execution_count": 31,
     "metadata": {},
     "output_type": "execute_result"
    }
   ],
   "source": [
    "# создадим константную модель\n",
    "y_constant = pd.Series([0]*len(y_test))\n",
    "y_constant.shape"
   ]
  },
  {
   "cell_type": "code",
   "execution_count": 32,
   "metadata": {},
   "outputs": [
    {
     "name": "stdout",
     "output_type": "stream",
     "text": [
      "Показатели accuracy констатной модели = 0.6936\n"
     ]
    }
   ],
   "source": [
    "accuracy_constant = accuracy_score(y_test, y_constant)\n",
    "print(f'Показатели accuracy констатной модели = {accuracy_constant:.4f}')"
   ]
  },
  {
   "cell_type": "markdown",
   "metadata": {},
   "source": [
    "Показатели accuracy RF выше, чем у констатной модели - модель можно считать адекватной."
   ]
  },
  {
   "cell_type": "markdown",
   "metadata": {},
   "source": [
    "**Использование Dummy Models**"
   ]
  },
  {
   "cell_type": "code",
   "execution_count": 33,
   "metadata": {},
   "outputs": [
    {
     "name": "stdout",
     "output_type": "stream",
     "text": [
      "Показатели accuracy модели Dummy = 0.6935\n"
     ]
    }
   ],
   "source": [
    "model_dummy = DummyClassifier(strategy=\"most_frequent\", random_state=123)\n",
    "model_dummy = model_dummy.fit(X_train_val, y_train_val).score(X_train_val, y_train_val)\n",
    "print(f'Показатели accuracy модели Dummy = {model_dummy:.4f}')"
   ]
  },
  {
   "cell_type": "markdown",
   "metadata": {},
   "source": [
    "Показатели accuracy RF выше, чем у модели Dummy - модель можно считать адекватной."
   ]
  },
  {
   "cell_type": "markdown",
   "metadata": {},
   "source": [
    "**Общий вывод:**    \n",
    "        \n",
    " 1. Предобработка не потребовалась.\n",
    " 2. Мы разбили датасет на признаки, а такжа на обучающую, валидационную и тестовую выборки.\n",
    " 3. Обучили и проанализировали три модели - \"дерево решений\", \"случайный лес\" и \"логическая регрессия\".\n",
    " 4. При проверке на тестовой выборке показатели accuracy оказались несколько ниже, чем на валидационной.\n",
    " 5. Проверили на вменяемость - модель можно считать адекватной.           \n",
    "                    \n",
    "**Лучшие результаты показала модель \"случайный лес\" (и на валидационной, и на тестовой выборках). Мы построили модель для задачи классификации, которая выберет подходящий тариф с долей правильных ответов = 0.7978.**"
   ]
  },
  {
   "cell_type": "code",
   "execution_count": null,
   "metadata": {},
   "outputs": [],
   "source": []
  }
 ],
 "metadata": {
  "ExecuteTimeLog": [
   {
    "duration": 352,
    "start_time": "2023-03-28T12:10:25.603Z"
   },
   {
    "duration": 108,
    "start_time": "2023-03-28T12:10:26.109Z"
   },
   {
    "duration": 15,
    "start_time": "2023-03-28T12:12:41.534Z"
   },
   {
    "duration": 29,
    "start_time": "2023-03-28T12:12:56.405Z"
   },
   {
    "duration": 7,
    "start_time": "2023-03-28T12:53:34.351Z"
   },
   {
    "duration": 7,
    "start_time": "2023-03-28T12:53:46.824Z"
   },
   {
    "duration": 77,
    "start_time": "2023-03-28T13:03:30.021Z"
   },
   {
    "duration": 69,
    "start_time": "2023-03-28T15:44:37.052Z"
   },
   {
    "duration": 5,
    "start_time": "2023-03-28T15:44:41.525Z"
   },
   {
    "duration": 4,
    "start_time": "2023-03-28T15:44:42.073Z"
   },
   {
    "duration": 4,
    "start_time": "2023-03-28T15:44:50.249Z"
   },
   {
    "duration": 42,
    "start_time": "2023-03-28T15:47:19.567Z"
   },
   {
    "duration": 3,
    "start_time": "2023-03-28T15:47:24.855Z"
   },
   {
    "duration": 4,
    "start_time": "2023-03-28T15:47:32.119Z"
   },
   {
    "duration": 9,
    "start_time": "2023-03-28T15:59:10.481Z"
   },
   {
    "duration": 15,
    "start_time": "2023-03-28T15:59:13.355Z"
   },
   {
    "duration": 21,
    "start_time": "2023-03-28T15:59:13.757Z"
   },
   {
    "duration": 798,
    "start_time": "2023-03-28T15:59:20.781Z"
   },
   {
    "duration": 69,
    "start_time": "2023-03-28T15:59:21.582Z"
   },
   {
    "duration": 17,
    "start_time": "2023-03-28T15:59:21.653Z"
   },
   {
    "duration": 35,
    "start_time": "2023-03-28T15:59:21.672Z"
   },
   {
    "duration": 7,
    "start_time": "2023-03-28T15:59:21.710Z"
   },
   {
    "duration": 6,
    "start_time": "2023-03-28T15:59:21.719Z"
   },
   {
    "duration": 8,
    "start_time": "2023-03-28T15:59:21.726Z"
   },
   {
    "duration": 8,
    "start_time": "2023-03-28T15:59:21.735Z"
   },
   {
    "duration": 23,
    "start_time": "2023-03-28T15:59:21.744Z"
   },
   {
    "duration": 5,
    "start_time": "2023-03-28T15:59:21.775Z"
   },
   {
    "duration": 6,
    "start_time": "2023-03-28T15:59:43.445Z"
   },
   {
    "duration": 3,
    "start_time": "2023-03-28T15:59:52.215Z"
   },
   {
    "duration": 4,
    "start_time": "2023-03-28T16:01:07.924Z"
   },
   {
    "duration": 2,
    "start_time": "2023-03-28T16:01:23.734Z"
   },
   {
    "duration": 68,
    "start_time": "2023-03-28T16:01:23.739Z"
   },
   {
    "duration": 13,
    "start_time": "2023-03-28T16:01:23.809Z"
   },
   {
    "duration": 29,
    "start_time": "2023-03-28T16:01:23.824Z"
   },
   {
    "duration": 12,
    "start_time": "2023-03-28T16:01:23.855Z"
   },
   {
    "duration": 4,
    "start_time": "2023-03-28T16:01:23.869Z"
   },
   {
    "duration": 13,
    "start_time": "2023-03-28T16:01:23.877Z"
   },
   {
    "duration": 8,
    "start_time": "2023-03-28T16:01:23.892Z"
   },
   {
    "duration": 10,
    "start_time": "2023-03-28T16:01:23.903Z"
   },
   {
    "duration": 5,
    "start_time": "2023-03-28T16:01:23.917Z"
   },
   {
    "duration": 7,
    "start_time": "2023-03-28T16:01:59.924Z"
   },
   {
    "duration": 4,
    "start_time": "2023-03-28T16:02:08.022Z"
   },
   {
    "duration": 3,
    "start_time": "2023-03-28T16:05:52.286Z"
   },
   {
    "duration": 4,
    "start_time": "2023-03-28T16:07:25.277Z"
   },
   {
    "duration": 55,
    "start_time": "2023-03-29T03:29:22.642Z"
   },
   {
    "duration": 1203,
    "start_time": "2023-03-29T03:30:04.250Z"
   },
   {
    "duration": 176,
    "start_time": "2023-03-29T03:30:05.455Z"
   },
   {
    "duration": 11,
    "start_time": "2023-03-29T03:30:05.633Z"
   },
   {
    "duration": 34,
    "start_time": "2023-03-29T03:30:05.646Z"
   },
   {
    "duration": 8,
    "start_time": "2023-03-29T03:30:05.683Z"
   },
   {
    "duration": 15,
    "start_time": "2023-03-29T03:30:05.693Z"
   },
   {
    "duration": 21,
    "start_time": "2023-03-29T03:30:05.710Z"
   },
   {
    "duration": 29,
    "start_time": "2023-03-29T03:30:05.734Z"
   },
   {
    "duration": 14,
    "start_time": "2023-03-29T03:30:05.765Z"
   },
   {
    "duration": 19,
    "start_time": "2023-03-29T03:30:05.781Z"
   },
   {
    "duration": 110,
    "start_time": "2023-03-29T03:30:05.803Z"
   },
   {
    "duration": 17,
    "start_time": "2023-03-29T03:31:01.245Z"
   },
   {
    "duration": 80,
    "start_time": "2023-03-29T03:31:25.470Z"
   },
   {
    "duration": 26,
    "start_time": "2023-03-29T03:32:05.805Z"
   },
   {
    "duration": 15,
    "start_time": "2023-03-29T03:33:30.302Z"
   },
   {
    "duration": 30,
    "start_time": "2023-03-29T03:33:48.539Z"
   },
   {
    "duration": 112,
    "start_time": "2023-03-29T03:34:03.596Z"
   },
   {
    "duration": 151,
    "start_time": "2023-03-29T03:34:52.141Z"
   },
   {
    "duration": 121,
    "start_time": "2023-03-29T03:35:17.692Z"
   },
   {
    "duration": 4,
    "start_time": "2023-03-29T03:35:31.833Z"
   },
   {
    "duration": 143,
    "start_time": "2023-03-29T03:35:31.839Z"
   },
   {
    "duration": 11,
    "start_time": "2023-03-29T03:35:31.984Z"
   },
   {
    "duration": 68,
    "start_time": "2023-03-29T03:35:31.997Z"
   },
   {
    "duration": 39,
    "start_time": "2023-03-29T03:35:32.068Z"
   },
   {
    "duration": 45,
    "start_time": "2023-03-29T03:35:32.108Z"
   },
   {
    "duration": 85,
    "start_time": "2023-03-29T03:35:32.155Z"
   },
   {
    "duration": 57,
    "start_time": "2023-03-29T03:35:32.242Z"
   },
   {
    "duration": 188,
    "start_time": "2023-03-29T03:35:32.301Z"
   },
   {
    "duration": 80,
    "start_time": "2023-03-29T03:35:32.491Z"
   },
   {
    "duration": 134,
    "start_time": "2023-03-29T03:35:32.573Z"
   },
   {
    "duration": 3,
    "start_time": "2023-03-29T03:35:52.131Z"
   },
   {
    "duration": 111,
    "start_time": "2023-03-29T03:35:52.137Z"
   },
   {
    "duration": 11,
    "start_time": "2023-03-29T03:35:52.250Z"
   },
   {
    "duration": 45,
    "start_time": "2023-03-29T03:35:52.262Z"
   },
   {
    "duration": 6,
    "start_time": "2023-03-29T03:35:52.310Z"
   },
   {
    "duration": 5,
    "start_time": "2023-03-29T03:35:52.318Z"
   },
   {
    "duration": 9,
    "start_time": "2023-03-29T03:35:52.324Z"
   },
   {
    "duration": 14,
    "start_time": "2023-03-29T03:35:52.334Z"
   },
   {
    "duration": 11,
    "start_time": "2023-03-29T03:35:52.350Z"
   },
   {
    "duration": 5,
    "start_time": "2023-03-29T03:35:52.363Z"
   },
   {
    "duration": 134,
    "start_time": "2023-03-29T03:35:52.370Z"
   },
   {
    "duration": 3,
    "start_time": "2023-03-29T03:50:08.319Z"
   },
   {
    "duration": 93,
    "start_time": "2023-03-29T03:50:08.324Z"
   },
   {
    "duration": 12,
    "start_time": "2023-03-29T03:50:08.419Z"
   },
   {
    "duration": 25,
    "start_time": "2023-03-29T03:50:08.433Z"
   },
   {
    "duration": 6,
    "start_time": "2023-03-29T03:50:08.460Z"
   },
   {
    "duration": 5,
    "start_time": "2023-03-29T03:50:08.467Z"
   },
   {
    "duration": 6,
    "start_time": "2023-03-29T03:50:08.474Z"
   },
   {
    "duration": 6,
    "start_time": "2023-03-29T03:50:08.482Z"
   },
   {
    "duration": 9,
    "start_time": "2023-03-29T03:50:08.490Z"
   },
   {
    "duration": 6,
    "start_time": "2023-03-29T03:50:08.500Z"
   },
   {
    "duration": 7,
    "start_time": "2023-03-29T03:50:08.508Z"
   },
   {
    "duration": 25,
    "start_time": "2023-03-29T03:50:08.517Z"
   },
   {
    "duration": 6,
    "start_time": "2023-03-29T03:50:08.544Z"
   },
   {
    "duration": 7,
    "start_time": "2023-03-29T03:50:08.552Z"
   },
   {
    "duration": 6,
    "start_time": "2023-03-29T03:50:08.561Z"
   },
   {
    "duration": 134,
    "start_time": "2023-03-29T03:50:08.569Z"
   },
   {
    "duration": 3,
    "start_time": "2023-03-29T03:53:27.246Z"
   },
   {
    "duration": 126,
    "start_time": "2023-03-29T03:53:27.252Z"
   },
   {
    "duration": 11,
    "start_time": "2023-03-29T03:53:27.380Z"
   },
   {
    "duration": 22,
    "start_time": "2023-03-29T03:53:27.393Z"
   },
   {
    "duration": 5,
    "start_time": "2023-03-29T03:53:27.417Z"
   },
   {
    "duration": 7,
    "start_time": "2023-03-29T03:53:27.424Z"
   },
   {
    "duration": 10,
    "start_time": "2023-03-29T03:53:27.433Z"
   },
   {
    "duration": 8,
    "start_time": "2023-03-29T03:53:27.445Z"
   },
   {
    "duration": 10,
    "start_time": "2023-03-29T03:53:27.454Z"
   },
   {
    "duration": 10,
    "start_time": "2023-03-29T03:53:27.466Z"
   },
   {
    "duration": 136,
    "start_time": "2023-03-29T03:53:27.477Z"
   },
   {
    "duration": 69,
    "start_time": "2023-03-29T03:53:53.205Z"
   },
   {
    "duration": 4,
    "start_time": "2023-03-29T03:54:35.796Z"
   },
   {
    "duration": 128,
    "start_time": "2023-03-29T03:54:35.803Z"
   },
   {
    "duration": 13,
    "start_time": "2023-03-29T03:54:35.933Z"
   },
   {
    "duration": 46,
    "start_time": "2023-03-29T03:54:35.949Z"
   },
   {
    "duration": 6,
    "start_time": "2023-03-29T03:54:35.998Z"
   },
   {
    "duration": 19,
    "start_time": "2023-03-29T03:54:36.006Z"
   },
   {
    "duration": 29,
    "start_time": "2023-03-29T03:54:36.027Z"
   },
   {
    "duration": 25,
    "start_time": "2023-03-29T03:54:36.058Z"
   },
   {
    "duration": 37,
    "start_time": "2023-03-29T03:54:36.085Z"
   },
   {
    "duration": 24,
    "start_time": "2023-03-29T03:54:36.124Z"
   },
   {
    "duration": 97,
    "start_time": "2023-03-29T03:54:36.150Z"
   },
   {
    "duration": 110,
    "start_time": "2023-03-29T03:57:12.637Z"
   },
   {
    "duration": 71,
    "start_time": "2023-03-29T03:58:00.012Z"
   },
   {
    "duration": 155,
    "start_time": "2023-03-29T03:58:25.045Z"
   },
   {
    "duration": 151,
    "start_time": "2023-03-29T03:58:41.972Z"
   },
   {
    "duration": 176,
    "start_time": "2023-03-29T03:58:56.708Z"
   },
   {
    "duration": 66,
    "start_time": "2023-03-29T03:59:14.854Z"
   },
   {
    "duration": 95,
    "start_time": "2023-03-29T04:03:10.366Z"
   },
   {
    "duration": 20,
    "start_time": "2023-03-29T04:03:23.470Z"
   },
   {
    "duration": 4,
    "start_time": "2023-03-29T04:03:57.914Z"
   },
   {
    "duration": 82,
    "start_time": "2023-03-29T04:03:57.920Z"
   },
   {
    "duration": 11,
    "start_time": "2023-03-29T04:03:58.004Z"
   },
   {
    "duration": 28,
    "start_time": "2023-03-29T04:03:58.017Z"
   },
   {
    "duration": 5,
    "start_time": "2023-03-29T04:03:58.047Z"
   },
   {
    "duration": 6,
    "start_time": "2023-03-29T04:03:58.053Z"
   },
   {
    "duration": 11,
    "start_time": "2023-03-29T04:03:58.060Z"
   },
   {
    "duration": 7,
    "start_time": "2023-03-29T04:03:58.073Z"
   },
   {
    "duration": 5,
    "start_time": "2023-03-29T04:03:58.082Z"
   },
   {
    "duration": 7,
    "start_time": "2023-03-29T04:03:58.089Z"
   },
   {
    "duration": 17,
    "start_time": "2023-03-29T04:03:58.098Z"
   },
   {
    "duration": 76,
    "start_time": "2023-03-29T04:04:22.959Z"
   },
   {
    "duration": 84,
    "start_time": "2023-03-29T04:04:37.934Z"
   },
   {
    "duration": 86,
    "start_time": "2023-03-29T04:04:59.343Z"
   },
   {
    "duration": 81,
    "start_time": "2023-03-29T04:06:04.078Z"
   },
   {
    "duration": 76,
    "start_time": "2023-03-29T04:06:13.123Z"
   },
   {
    "duration": 74,
    "start_time": "2023-03-29T04:08:18.583Z"
   },
   {
    "duration": 13,
    "start_time": "2023-03-29T04:08:24.110Z"
   },
   {
    "duration": 89,
    "start_time": "2023-03-29T04:11:18.444Z"
   },
   {
    "duration": 16,
    "start_time": "2023-03-29T04:11:34.595Z"
   },
   {
    "duration": 66,
    "start_time": "2023-03-29T04:11:41.506Z"
   },
   {
    "duration": 65,
    "start_time": "2023-03-29T04:11:50.114Z"
   },
   {
    "duration": 67,
    "start_time": "2023-03-29T04:12:50.394Z"
   },
   {
    "duration": 74,
    "start_time": "2023-03-29T04:13:22.306Z"
   },
   {
    "duration": 3,
    "start_time": "2023-03-29T04:13:55.424Z"
   },
   {
    "duration": 93,
    "start_time": "2023-03-29T04:13:55.430Z"
   },
   {
    "duration": 12,
    "start_time": "2023-03-29T04:13:55.525Z"
   },
   {
    "duration": 22,
    "start_time": "2023-03-29T04:13:55.539Z"
   },
   {
    "duration": 7,
    "start_time": "2023-03-29T04:13:55.563Z"
   },
   {
    "duration": 3,
    "start_time": "2023-03-29T04:13:55.572Z"
   },
   {
    "duration": 8,
    "start_time": "2023-03-29T04:13:55.577Z"
   },
   {
    "duration": 7,
    "start_time": "2023-03-29T04:13:55.587Z"
   },
   {
    "duration": 4,
    "start_time": "2023-03-29T04:13:55.596Z"
   },
   {
    "duration": 6,
    "start_time": "2023-03-29T04:13:55.602Z"
   },
   {
    "duration": 93,
    "start_time": "2023-03-29T04:13:55.610Z"
   },
   {
    "duration": 3,
    "start_time": "2023-03-29T04:19:43.519Z"
   },
   {
    "duration": 113,
    "start_time": "2023-03-29T04:19:43.524Z"
   },
   {
    "duration": 11,
    "start_time": "2023-03-29T04:19:43.638Z"
   },
   {
    "duration": 25,
    "start_time": "2023-03-29T04:19:43.651Z"
   },
   {
    "duration": 5,
    "start_time": "2023-03-29T04:19:43.677Z"
   },
   {
    "duration": 4,
    "start_time": "2023-03-29T04:19:43.684Z"
   },
   {
    "duration": 16,
    "start_time": "2023-03-29T04:19:43.689Z"
   },
   {
    "duration": 10,
    "start_time": "2023-03-29T04:19:43.707Z"
   },
   {
    "duration": 8,
    "start_time": "2023-03-29T04:19:43.719Z"
   },
   {
    "duration": 5,
    "start_time": "2023-03-29T04:19:43.740Z"
   },
   {
    "duration": 91,
    "start_time": "2023-03-29T04:19:43.746Z"
   },
   {
    "duration": 2,
    "start_time": "2023-03-29T04:20:03.260Z"
   },
   {
    "duration": 153,
    "start_time": "2023-03-29T04:20:03.264Z"
   },
   {
    "duration": 10,
    "start_time": "2023-03-29T04:20:03.419Z"
   },
   {
    "duration": 39,
    "start_time": "2023-03-29T04:20:03.431Z"
   },
   {
    "duration": 8,
    "start_time": "2023-03-29T04:20:03.473Z"
   },
   {
    "duration": 31,
    "start_time": "2023-03-29T04:20:03.483Z"
   },
   {
    "duration": 6,
    "start_time": "2023-03-29T04:20:03.516Z"
   },
   {
    "duration": 14,
    "start_time": "2023-03-29T04:20:03.524Z"
   },
   {
    "duration": 5,
    "start_time": "2023-03-29T04:20:03.539Z"
   },
   {
    "duration": 6,
    "start_time": "2023-03-29T04:20:03.546Z"
   },
   {
    "duration": 67,
    "start_time": "2023-03-29T04:20:03.554Z"
   },
   {
    "duration": 70,
    "start_time": "2023-03-29T04:21:21.930Z"
   },
   {
    "duration": 12,
    "start_time": "2023-03-29T04:28:41.926Z"
   },
   {
    "duration": 75,
    "start_time": "2023-03-29T04:28:41.940Z"
   },
   {
    "duration": 12,
    "start_time": "2023-03-29T04:28:42.017Z"
   },
   {
    "duration": 36,
    "start_time": "2023-03-29T04:28:42.031Z"
   },
   {
    "duration": 7,
    "start_time": "2023-03-29T04:28:42.069Z"
   },
   {
    "duration": 7,
    "start_time": "2023-03-29T04:28:42.078Z"
   },
   {
    "duration": 16,
    "start_time": "2023-03-29T04:28:42.087Z"
   },
   {
    "duration": 17,
    "start_time": "2023-03-29T04:28:42.105Z"
   },
   {
    "duration": 6,
    "start_time": "2023-03-29T04:28:42.124Z"
   },
   {
    "duration": 29,
    "start_time": "2023-03-29T04:28:42.142Z"
   },
   {
    "duration": 105,
    "start_time": "2023-03-29T04:28:42.173Z"
   },
   {
    "duration": 6644,
    "start_time": "2023-03-29T05:03:35.077Z"
   },
   {
    "duration": 7456,
    "start_time": "2023-03-29T05:05:12.620Z"
   },
   {
    "duration": 6920,
    "start_time": "2023-03-29T05:05:31.997Z"
   },
   {
    "duration": 43,
    "start_time": "2023-03-29T05:06:14.413Z"
   },
   {
    "duration": 6891,
    "start_time": "2023-03-29T05:06:21.204Z"
   },
   {
    "duration": 6842,
    "start_time": "2023-03-29T05:07:13.363Z"
   },
   {
    "duration": 6479,
    "start_time": "2023-03-29T05:07:26.691Z"
   },
   {
    "duration": 6283,
    "start_time": "2023-03-29T05:12:07.458Z"
   },
   {
    "duration": 6519,
    "start_time": "2023-03-29T05:12:21.154Z"
   },
   {
    "duration": 6628,
    "start_time": "2023-03-29T05:15:51.200Z"
   },
   {
    "duration": 6591,
    "start_time": "2023-03-29T05:17:10.401Z"
   },
   {
    "duration": 6813,
    "start_time": "2023-03-29T05:17:26.249Z"
   },
   {
    "duration": 6744,
    "start_time": "2023-03-29T05:18:12.762Z"
   },
   {
    "duration": 6421,
    "start_time": "2023-03-29T05:18:46.802Z"
   },
   {
    "duration": 76,
    "start_time": "2023-03-29T05:21:30.983Z"
   },
   {
    "duration": 79,
    "start_time": "2023-03-29T05:21:50.881Z"
   },
   {
    "duration": 6483,
    "start_time": "2023-03-29T05:22:48.993Z"
   },
   {
    "duration": 6527,
    "start_time": "2023-03-29T05:23:09.218Z"
   },
   {
    "duration": 6467,
    "start_time": "2023-03-29T05:23:35.002Z"
   },
   {
    "duration": 6495,
    "start_time": "2023-03-29T05:23:55.080Z"
   },
   {
    "duration": 14,
    "start_time": "2023-03-29T05:25:53.392Z"
   },
   {
    "duration": 150,
    "start_time": "2023-03-29T05:28:54.358Z"
   },
   {
    "duration": 172,
    "start_time": "2023-03-29T05:29:18.655Z"
   },
   {
    "duration": 4,
    "start_time": "2023-03-29T05:35:40.990Z"
   },
   {
    "duration": 100,
    "start_time": "2023-03-29T05:35:40.998Z"
   },
   {
    "duration": 14,
    "start_time": "2023-03-29T05:35:41.101Z"
   },
   {
    "duration": 21,
    "start_time": "2023-03-29T05:35:41.117Z"
   },
   {
    "duration": 7,
    "start_time": "2023-03-29T05:35:41.140Z"
   },
   {
    "duration": 13,
    "start_time": "2023-03-29T05:35:41.148Z"
   },
   {
    "duration": 17,
    "start_time": "2023-03-29T05:35:41.163Z"
   },
   {
    "duration": 15,
    "start_time": "2023-03-29T05:35:41.183Z"
   },
   {
    "duration": 6,
    "start_time": "2023-03-29T05:35:41.201Z"
   },
   {
    "duration": 19,
    "start_time": "2023-03-29T05:35:41.208Z"
   },
   {
    "duration": 93,
    "start_time": "2023-03-29T05:35:41.229Z"
   },
   {
    "duration": 23,
    "start_time": "2023-03-29T05:35:41.324Z"
   },
   {
    "duration": 6759,
    "start_time": "2023-03-29T05:35:41.349Z"
   },
   {
    "duration": 172,
    "start_time": "2023-03-29T05:35:48.111Z"
   },
   {
    "duration": 6487,
    "start_time": "2023-03-29T05:36:09.901Z"
   },
   {
    "duration": 6672,
    "start_time": "2023-03-29T05:38:46.245Z"
   },
   {
    "duration": 6743,
    "start_time": "2023-03-29T05:39:03.599Z"
   },
   {
    "duration": 6770,
    "start_time": "2023-03-29T05:40:03.139Z"
   },
   {
    "duration": 81,
    "start_time": "2023-03-29T05:41:27.300Z"
   },
   {
    "duration": 7189,
    "start_time": "2023-03-29T05:42:30.123Z"
   },
   {
    "duration": 5,
    "start_time": "2023-03-29T05:57:32.033Z"
   },
   {
    "duration": 151,
    "start_time": "2023-03-29T05:57:32.041Z"
   },
   {
    "duration": 11,
    "start_time": "2023-03-29T05:57:32.194Z"
   },
   {
    "duration": 26,
    "start_time": "2023-03-29T05:57:32.207Z"
   },
   {
    "duration": 7,
    "start_time": "2023-03-29T05:57:32.234Z"
   },
   {
    "duration": 11,
    "start_time": "2023-03-29T05:57:32.242Z"
   },
   {
    "duration": 7,
    "start_time": "2023-03-29T05:57:32.255Z"
   },
   {
    "duration": 9,
    "start_time": "2023-03-29T05:57:32.263Z"
   },
   {
    "duration": 6,
    "start_time": "2023-03-29T05:57:32.274Z"
   },
   {
    "duration": 22,
    "start_time": "2023-03-29T05:57:32.282Z"
   },
   {
    "duration": 94,
    "start_time": "2023-03-29T05:57:32.306Z"
   },
   {
    "duration": 13,
    "start_time": "2023-03-29T05:57:32.402Z"
   },
   {
    "duration": 6590,
    "start_time": "2023-03-29T05:57:32.416Z"
   },
   {
    "duration": 175,
    "start_time": "2023-03-29T05:57:39.008Z"
   },
   {
    "duration": 4,
    "start_time": "2023-03-29T06:00:44.054Z"
   },
   {
    "duration": 89,
    "start_time": "2023-03-29T06:00:44.060Z"
   },
   {
    "duration": 12,
    "start_time": "2023-03-29T06:00:44.151Z"
   },
   {
    "duration": 24,
    "start_time": "2023-03-29T06:00:44.166Z"
   },
   {
    "duration": 7,
    "start_time": "2023-03-29T06:00:44.192Z"
   },
   {
    "duration": 17,
    "start_time": "2023-03-29T06:00:44.200Z"
   },
   {
    "duration": 23,
    "start_time": "2023-03-29T06:00:44.219Z"
   },
   {
    "duration": 14,
    "start_time": "2023-03-29T06:00:44.244Z"
   },
   {
    "duration": 32,
    "start_time": "2023-03-29T06:00:44.261Z"
   },
   {
    "duration": 23,
    "start_time": "2023-03-29T06:00:44.295Z"
   },
   {
    "duration": 87,
    "start_time": "2023-03-29T06:00:44.321Z"
   },
   {
    "duration": 34,
    "start_time": "2023-03-29T06:00:44.411Z"
   },
   {
    "duration": 6875,
    "start_time": "2023-03-29T06:00:44.447Z"
   },
   {
    "duration": 178,
    "start_time": "2023-03-29T06:00:51.324Z"
   },
   {
    "duration": 167,
    "start_time": "2023-03-29T06:02:41.184Z"
   },
   {
    "duration": 14,
    "start_time": "2023-03-29T06:04:06.254Z"
   },
   {
    "duration": 20,
    "start_time": "2023-03-29T06:04:28.398Z"
   },
   {
    "duration": 14,
    "start_time": "2023-03-29T06:04:33.230Z"
   },
   {
    "duration": 77,
    "start_time": "2023-03-29T06:04:36.902Z"
   },
   {
    "duration": 17,
    "start_time": "2023-03-29T06:04:40.637Z"
   },
   {
    "duration": 148,
    "start_time": "2023-03-29T06:04:55.094Z"
   },
   {
    "duration": 6705,
    "start_time": "2023-03-29T06:05:01.742Z"
   },
   {
    "duration": 177,
    "start_time": "2023-03-29T06:05:09.782Z"
   },
   {
    "duration": 24,
    "start_time": "2023-03-29T06:10:21.584Z"
   },
   {
    "duration": 26,
    "start_time": "2023-03-29T06:13:17.748Z"
   },
   {
    "duration": 23,
    "start_time": "2023-03-29T06:13:22.222Z"
   },
   {
    "duration": 26,
    "start_time": "2023-03-29T06:13:28.590Z"
   },
   {
    "duration": 21,
    "start_time": "2023-03-29T06:13:36.229Z"
   },
   {
    "duration": 26,
    "start_time": "2023-03-29T06:14:05.351Z"
   },
   {
    "duration": 22,
    "start_time": "2023-03-29T06:14:10.162Z"
   },
   {
    "duration": 22,
    "start_time": "2023-03-29T06:14:20.229Z"
   },
   {
    "duration": 160,
    "start_time": "2023-03-29T06:29:21.533Z"
   },
   {
    "duration": 6733,
    "start_time": "2023-03-29T06:30:03.689Z"
   },
   {
    "duration": 164,
    "start_time": "2023-03-29T06:30:12.307Z"
   },
   {
    "duration": 191,
    "start_time": "2023-03-29T06:30:28.611Z"
   },
   {
    "duration": 6872,
    "start_time": "2023-03-29T06:30:31.577Z"
   },
   {
    "duration": 173,
    "start_time": "2023-03-29T06:30:39.498Z"
   },
   {
    "duration": 29,
    "start_time": "2023-03-29T06:31:33.500Z"
   },
   {
    "duration": 86,
    "start_time": "2023-03-29T06:31:36.297Z"
   },
   {
    "duration": 15,
    "start_time": "2023-03-29T06:31:38.091Z"
   },
   {
    "duration": 10,
    "start_time": "2023-03-29T06:36:55.513Z"
   },
   {
    "duration": 14,
    "start_time": "2023-03-29T06:40:12.433Z"
   },
   {
    "duration": 121,
    "start_time": "2023-03-29T06:40:46.617Z"
   },
   {
    "duration": 27,
    "start_time": "2023-03-29T06:41:57.936Z"
   },
   {
    "duration": 5,
    "start_time": "2023-03-29T06:46:49.123Z"
   },
   {
    "duration": 115,
    "start_time": "2023-03-29T06:46:49.131Z"
   },
   {
    "duration": 19,
    "start_time": "2023-03-29T06:46:49.248Z"
   },
   {
    "duration": 41,
    "start_time": "2023-03-29T06:46:49.270Z"
   },
   {
    "duration": 6,
    "start_time": "2023-03-29T06:46:49.313Z"
   },
   {
    "duration": 6,
    "start_time": "2023-03-29T06:46:49.321Z"
   },
   {
    "duration": 5,
    "start_time": "2023-03-29T06:46:49.346Z"
   },
   {
    "duration": 10,
    "start_time": "2023-03-29T06:46:49.353Z"
   },
   {
    "duration": 14,
    "start_time": "2023-03-29T06:46:49.365Z"
   },
   {
    "duration": 9,
    "start_time": "2023-03-29T06:46:49.381Z"
   },
   {
    "duration": 88,
    "start_time": "2023-03-29T06:46:49.392Z"
   },
   {
    "duration": 14,
    "start_time": "2023-03-29T06:46:49.481Z"
   },
   {
    "duration": 6996,
    "start_time": "2023-03-29T06:46:49.496Z"
   },
   {
    "duration": 190,
    "start_time": "2023-03-29T06:46:56.494Z"
   },
   {
    "duration": 29,
    "start_time": "2023-03-29T06:46:56.686Z"
   },
   {
    "duration": 37,
    "start_time": "2023-03-29T06:46:56.717Z"
   },
   {
    "duration": 105,
    "start_time": "2023-03-29T06:46:56.756Z"
   },
   {
    "duration": 4,
    "start_time": "2023-03-29T06:48:22.440Z"
   },
   {
    "duration": 76,
    "start_time": "2023-03-29T06:48:22.456Z"
   },
   {
    "duration": 16,
    "start_time": "2023-03-29T06:48:22.534Z"
   },
   {
    "duration": 39,
    "start_time": "2023-03-29T06:48:22.552Z"
   },
   {
    "duration": 7,
    "start_time": "2023-03-29T06:48:22.593Z"
   },
   {
    "duration": 9,
    "start_time": "2023-03-29T06:48:22.602Z"
   },
   {
    "duration": 23,
    "start_time": "2023-03-29T06:48:22.613Z"
   },
   {
    "duration": 26,
    "start_time": "2023-03-29T06:48:22.637Z"
   },
   {
    "duration": 6,
    "start_time": "2023-03-29T06:48:22.665Z"
   },
   {
    "duration": 12,
    "start_time": "2023-03-29T06:48:22.673Z"
   },
   {
    "duration": 98,
    "start_time": "2023-03-29T06:48:22.687Z"
   },
   {
    "duration": 15,
    "start_time": "2023-03-29T06:48:22.787Z"
   },
   {
    "duration": 7187,
    "start_time": "2023-03-29T06:48:22.805Z"
   },
   {
    "duration": 194,
    "start_time": "2023-03-29T06:48:29.994Z"
   },
   {
    "duration": 23,
    "start_time": "2023-03-29T06:48:30.191Z"
   },
   {
    "duration": 36,
    "start_time": "2023-03-29T06:48:30.217Z"
   },
   {
    "duration": 143,
    "start_time": "2023-03-29T06:48:30.256Z"
   },
   {
    "duration": 9,
    "start_time": "2023-03-29T06:52:44.098Z"
   },
   {
    "duration": 4,
    "start_time": "2023-03-29T06:52:49.392Z"
   },
   {
    "duration": 87,
    "start_time": "2023-03-29T06:52:49.399Z"
   },
   {
    "duration": 11,
    "start_time": "2023-03-29T06:52:49.487Z"
   },
   {
    "duration": 26,
    "start_time": "2023-03-29T06:52:49.499Z"
   },
   {
    "duration": 6,
    "start_time": "2023-03-29T06:52:49.527Z"
   },
   {
    "duration": 15,
    "start_time": "2023-03-29T06:52:49.535Z"
   },
   {
    "duration": 24,
    "start_time": "2023-03-29T06:52:49.553Z"
   },
   {
    "duration": 20,
    "start_time": "2023-03-29T06:52:49.579Z"
   },
   {
    "duration": 7,
    "start_time": "2023-03-29T06:52:49.601Z"
   },
   {
    "duration": 9,
    "start_time": "2023-03-29T06:52:49.610Z"
   },
   {
    "duration": 85,
    "start_time": "2023-03-29T06:52:49.621Z"
   },
   {
    "duration": 13,
    "start_time": "2023-03-29T06:52:49.708Z"
   },
   {
    "duration": 6749,
    "start_time": "2023-03-29T06:52:49.723Z"
   },
   {
    "duration": 175,
    "start_time": "2023-03-29T06:52:56.474Z"
   },
   {
    "duration": 27,
    "start_time": "2023-03-29T06:52:56.652Z"
   },
   {
    "duration": 9,
    "start_time": "2023-03-29T06:52:56.680Z"
   },
   {
    "duration": 28,
    "start_time": "2023-03-29T06:52:56.691Z"
   },
   {
    "duration": 23,
    "start_time": "2023-03-29T06:55:25.326Z"
   },
   {
    "duration": 22,
    "start_time": "2023-03-29T06:56:02.833Z"
   },
   {
    "duration": 94,
    "start_time": "2023-03-29T07:08:47.093Z"
   },
   {
    "duration": 4,
    "start_time": "2023-03-29T07:09:04.385Z"
   },
   {
    "duration": 86,
    "start_time": "2023-03-29T07:09:04.391Z"
   },
   {
    "duration": 11,
    "start_time": "2023-03-29T07:09:04.479Z"
   },
   {
    "duration": 27,
    "start_time": "2023-03-29T07:09:04.493Z"
   },
   {
    "duration": 6,
    "start_time": "2023-03-29T07:09:04.522Z"
   },
   {
    "duration": 5,
    "start_time": "2023-03-29T07:09:04.529Z"
   },
   {
    "duration": 23,
    "start_time": "2023-03-29T07:09:04.536Z"
   },
   {
    "duration": 12,
    "start_time": "2023-03-29T07:09:04.560Z"
   },
   {
    "duration": 8,
    "start_time": "2023-03-29T07:09:04.573Z"
   },
   {
    "duration": 9,
    "start_time": "2023-03-29T07:09:04.583Z"
   },
   {
    "duration": 87,
    "start_time": "2023-03-29T07:09:04.594Z"
   },
   {
    "duration": 2,
    "start_time": "2023-03-29T07:09:04.683Z"
   },
   {
    "duration": 6846,
    "start_time": "2023-03-29T07:09:04.687Z"
   },
   {
    "duration": 176,
    "start_time": "2023-03-29T07:09:11.535Z"
   },
   {
    "duration": 32,
    "start_time": "2023-03-29T07:09:11.713Z"
   },
   {
    "duration": 90,
    "start_time": "2023-03-29T07:09:11.747Z"
   },
   {
    "duration": 37,
    "start_time": "2023-03-29T07:09:11.840Z"
   },
   {
    "duration": 4,
    "start_time": "2023-03-29T07:10:41.998Z"
   },
   {
    "duration": 107,
    "start_time": "2023-03-29T07:10:42.004Z"
   },
   {
    "duration": 12,
    "start_time": "2023-03-29T07:10:42.112Z"
   },
   {
    "duration": 47,
    "start_time": "2023-03-29T07:10:42.126Z"
   },
   {
    "duration": 6,
    "start_time": "2023-03-29T07:10:42.176Z"
   },
   {
    "duration": 18,
    "start_time": "2023-03-29T07:10:42.184Z"
   },
   {
    "duration": 18,
    "start_time": "2023-03-29T07:10:42.204Z"
   },
   {
    "duration": 13,
    "start_time": "2023-03-29T07:10:42.224Z"
   },
   {
    "duration": 45,
    "start_time": "2023-03-29T07:10:42.239Z"
   },
   {
    "duration": 13,
    "start_time": "2023-03-29T07:10:42.286Z"
   },
   {
    "duration": 109,
    "start_time": "2023-03-29T07:10:42.300Z"
   },
   {
    "duration": 2,
    "start_time": "2023-03-29T07:10:42.411Z"
   },
   {
    "duration": 6967,
    "start_time": "2023-03-29T07:10:42.414Z"
   },
   {
    "duration": 3,
    "start_time": "2023-03-29T07:10:49.384Z"
   },
   {
    "duration": 26,
    "start_time": "2023-03-29T07:10:49.389Z"
   },
   {
    "duration": 24,
    "start_time": "2023-03-29T07:10:49.417Z"
   },
   {
    "duration": 33,
    "start_time": "2023-03-29T07:10:49.443Z"
   },
   {
    "duration": 4,
    "start_time": "2023-03-29T07:12:01.089Z"
   },
   {
    "duration": 4,
    "start_time": "2023-03-29T07:12:50.086Z"
   },
   {
    "duration": 201,
    "start_time": "2023-03-29T07:12:50.092Z"
   },
   {
    "duration": 13,
    "start_time": "2023-03-29T07:12:50.295Z"
   },
   {
    "duration": 42,
    "start_time": "2023-03-29T07:12:50.310Z"
   },
   {
    "duration": 8,
    "start_time": "2023-03-29T07:12:50.355Z"
   },
   {
    "duration": 4,
    "start_time": "2023-03-29T07:12:50.365Z"
   },
   {
    "duration": 12,
    "start_time": "2023-03-29T07:12:50.371Z"
   },
   {
    "duration": 24,
    "start_time": "2023-03-29T07:12:50.385Z"
   },
   {
    "duration": 23,
    "start_time": "2023-03-29T07:12:50.411Z"
   },
   {
    "duration": 11,
    "start_time": "2023-03-29T07:12:50.436Z"
   },
   {
    "duration": 106,
    "start_time": "2023-03-29T07:12:50.449Z"
   },
   {
    "duration": 7,
    "start_time": "2023-03-29T07:12:50.558Z"
   },
   {
    "duration": 6908,
    "start_time": "2023-03-29T07:12:50.567Z"
   },
   {
    "duration": 29,
    "start_time": "2023-03-29T07:12:57.478Z"
   },
   {
    "duration": 50,
    "start_time": "2023-03-29T07:12:57.509Z"
   },
   {
    "duration": 8,
    "start_time": "2023-03-29T07:12:57.561Z"
   },
   {
    "duration": 23,
    "start_time": "2023-03-29T07:12:57.571Z"
   },
   {
    "duration": 1210,
    "start_time": "2023-03-29T07:13:30.028Z"
   },
   {
    "duration": 98,
    "start_time": "2023-03-29T07:13:31.241Z"
   },
   {
    "duration": 19,
    "start_time": "2023-03-29T07:13:31.347Z"
   },
   {
    "duration": 61,
    "start_time": "2023-03-29T07:13:31.368Z"
   },
   {
    "duration": 30,
    "start_time": "2023-03-29T07:13:31.431Z"
   },
   {
    "duration": 28,
    "start_time": "2023-03-29T07:13:31.463Z"
   },
   {
    "duration": 35,
    "start_time": "2023-03-29T07:13:31.492Z"
   },
   {
    "duration": 37,
    "start_time": "2023-03-29T07:13:31.529Z"
   },
   {
    "duration": 42,
    "start_time": "2023-03-29T07:13:31.567Z"
   },
   {
    "duration": 48,
    "start_time": "2023-03-29T07:13:31.612Z"
   },
   {
    "duration": 130,
    "start_time": "2023-03-29T07:13:31.662Z"
   },
   {
    "duration": 7,
    "start_time": "2023-03-29T07:13:31.794Z"
   },
   {
    "duration": 6963,
    "start_time": "2023-03-29T07:13:31.802Z"
   },
   {
    "duration": 28,
    "start_time": "2023-03-29T07:13:38.767Z"
   },
   {
    "duration": 20,
    "start_time": "2023-03-29T07:13:38.797Z"
   },
   {
    "duration": 150,
    "start_time": "2023-03-29T07:13:38.819Z"
   },
   {
    "duration": 26,
    "start_time": "2023-03-29T07:13:38.971Z"
   },
   {
    "duration": 108,
    "start_time": "2023-03-29T07:51:08.990Z"
   },
   {
    "duration": 10,
    "start_time": "2023-03-29T07:51:22.261Z"
   },
   {
    "duration": 12,
    "start_time": "2023-03-29T07:51:41.963Z"
   },
   {
    "duration": 12,
    "start_time": "2023-03-29T07:51:53.516Z"
   },
   {
    "duration": 13,
    "start_time": "2023-03-29T08:04:42.644Z"
   },
   {
    "duration": 12,
    "start_time": "2023-03-29T08:05:09.209Z"
   },
   {
    "duration": 4,
    "start_time": "2023-03-29T08:05:45.833Z"
   },
   {
    "duration": 169,
    "start_time": "2023-03-29T08:05:45.840Z"
   },
   {
    "duration": 15,
    "start_time": "2023-03-29T08:05:46.011Z"
   },
   {
    "duration": 35,
    "start_time": "2023-03-29T08:05:46.029Z"
   },
   {
    "duration": 52,
    "start_time": "2023-03-29T08:05:46.066Z"
   },
   {
    "duration": 44,
    "start_time": "2023-03-29T08:05:46.121Z"
   },
   {
    "duration": 17,
    "start_time": "2023-03-29T08:05:46.168Z"
   },
   {
    "duration": 29,
    "start_time": "2023-03-29T08:05:46.188Z"
   },
   {
    "duration": 10,
    "start_time": "2023-03-29T08:05:46.220Z"
   },
   {
    "duration": 37,
    "start_time": "2023-03-29T08:05:46.232Z"
   },
   {
    "duration": 98,
    "start_time": "2023-03-29T08:05:46.271Z"
   },
   {
    "duration": 7,
    "start_time": "2023-03-29T08:05:46.371Z"
   },
   {
    "duration": 6657,
    "start_time": "2023-03-29T08:05:46.379Z"
   },
   {
    "duration": 27,
    "start_time": "2023-03-29T08:05:53.038Z"
   },
   {
    "duration": 22,
    "start_time": "2023-03-29T08:05:53.067Z"
   },
   {
    "duration": 37,
    "start_time": "2023-03-29T08:05:53.091Z"
   },
   {
    "duration": 34,
    "start_time": "2023-03-29T08:05:53.130Z"
   },
   {
    "duration": 94,
    "start_time": "2023-03-29T08:05:53.166Z"
   },
   {
    "duration": 4,
    "start_time": "2023-03-29T08:06:03.563Z"
   },
   {
    "duration": 8,
    "start_time": "2023-03-29T08:06:19.019Z"
   },
   {
    "duration": 7,
    "start_time": "2023-03-29T08:06:40.796Z"
   },
   {
    "duration": 4,
    "start_time": "2023-03-29T08:07:42.730Z"
   },
   {
    "duration": 8,
    "start_time": "2023-03-29T08:07:50.402Z"
   },
   {
    "duration": 6,
    "start_time": "2023-03-29T08:10:10.840Z"
   },
   {
    "duration": 3,
    "start_time": "2023-03-29T08:12:30.761Z"
   },
   {
    "duration": 18,
    "start_time": "2023-03-29T08:12:55.143Z"
   },
   {
    "duration": 18,
    "start_time": "2023-03-29T08:14:22.490Z"
   },
   {
    "duration": 19,
    "start_time": "2023-03-29T08:35:41.060Z"
   },
   {
    "duration": 12,
    "start_time": "2023-03-29T08:35:55.310Z"
   },
   {
    "duration": 11,
    "start_time": "2023-03-29T08:36:47.718Z"
   },
   {
    "duration": 14,
    "start_time": "2023-03-29T08:36:52.189Z"
   },
   {
    "duration": 123,
    "start_time": "2023-03-29T08:37:03.902Z"
   },
   {
    "duration": 9,
    "start_time": "2023-03-29T08:37:08.302Z"
   },
   {
    "duration": 12,
    "start_time": "2023-03-29T08:37:33.312Z"
   },
   {
    "duration": 4,
    "start_time": "2023-03-29T08:40:38.221Z"
   },
   {
    "duration": 17,
    "start_time": "2023-03-29T08:40:46.995Z"
   },
   {
    "duration": 3,
    "start_time": "2023-03-29T08:40:52.293Z"
   },
   {
    "duration": 107,
    "start_time": "2023-03-29T08:40:52.298Z"
   },
   {
    "duration": 15,
    "start_time": "2023-03-29T08:40:52.409Z"
   },
   {
    "duration": 30,
    "start_time": "2023-03-29T08:40:52.426Z"
   },
   {
    "duration": 6,
    "start_time": "2023-03-29T08:40:52.458Z"
   },
   {
    "duration": 16,
    "start_time": "2023-03-29T08:40:52.466Z"
   },
   {
    "duration": 31,
    "start_time": "2023-03-29T08:40:52.484Z"
   },
   {
    "duration": 13,
    "start_time": "2023-03-29T08:40:52.517Z"
   },
   {
    "duration": 12,
    "start_time": "2023-03-29T08:40:52.531Z"
   },
   {
    "duration": 40,
    "start_time": "2023-03-29T08:40:52.546Z"
   },
   {
    "duration": 167,
    "start_time": "2023-03-29T08:40:52.589Z"
   },
   {
    "duration": 8,
    "start_time": "2023-03-29T08:40:52.759Z"
   },
   {
    "duration": 6565,
    "start_time": "2023-03-29T08:40:52.769Z"
   },
   {
    "duration": 30,
    "start_time": "2023-03-29T08:40:59.336Z"
   },
   {
    "duration": 23,
    "start_time": "2023-03-29T08:40:59.369Z"
   },
   {
    "duration": 9,
    "start_time": "2023-03-29T08:40:59.395Z"
   },
   {
    "duration": 54,
    "start_time": "2023-03-29T08:40:59.406Z"
   },
   {
    "duration": 19,
    "start_time": "2023-03-29T08:40:59.463Z"
   },
   {
    "duration": 11,
    "start_time": "2023-03-29T08:40:59.484Z"
   },
   {
    "duration": 39,
    "start_time": "2023-03-29T08:40:59.497Z"
   },
   {
    "duration": 1197,
    "start_time": "2023-03-29T08:42:12.364Z"
   },
   {
    "duration": 158,
    "start_time": "2023-03-29T08:42:13.564Z"
   },
   {
    "duration": 16,
    "start_time": "2023-03-29T08:42:13.725Z"
   },
   {
    "duration": 58,
    "start_time": "2023-03-29T08:42:13.744Z"
   },
   {
    "duration": 28,
    "start_time": "2023-03-29T08:42:13.804Z"
   },
   {
    "duration": 29,
    "start_time": "2023-03-29T08:42:13.834Z"
   },
   {
    "duration": 20,
    "start_time": "2023-03-29T08:42:13.865Z"
   },
   {
    "duration": 37,
    "start_time": "2023-03-29T08:42:13.887Z"
   },
   {
    "duration": 21,
    "start_time": "2023-03-29T08:42:13.926Z"
   },
   {
    "duration": 24,
    "start_time": "2023-03-29T08:42:13.951Z"
   },
   {
    "duration": 116,
    "start_time": "2023-03-29T08:42:13.977Z"
   },
   {
    "duration": 7,
    "start_time": "2023-03-29T08:42:14.095Z"
   },
   {
    "duration": 6951,
    "start_time": "2023-03-29T08:42:14.104Z"
   },
   {
    "duration": 32,
    "start_time": "2023-03-29T08:42:21.057Z"
   },
   {
    "duration": 22,
    "start_time": "2023-03-29T08:42:21.091Z"
   },
   {
    "duration": 30,
    "start_time": "2023-03-29T08:42:21.115Z"
   },
   {
    "duration": 67,
    "start_time": "2023-03-29T08:42:21.147Z"
   },
   {
    "duration": 36,
    "start_time": "2023-03-29T08:42:21.216Z"
   },
   {
    "duration": 37,
    "start_time": "2023-03-29T08:42:21.254Z"
   },
   {
    "duration": 32,
    "start_time": "2023-03-29T08:42:21.293Z"
   },
   {
    "duration": 1288,
    "start_time": "2023-03-29T08:43:31.802Z"
   },
   {
    "duration": 85,
    "start_time": "2023-03-29T08:43:33.092Z"
   },
   {
    "duration": 143,
    "start_time": "2023-03-29T08:43:33.179Z"
   },
   {
    "duration": 64,
    "start_time": "2023-03-29T08:43:33.325Z"
   },
   {
    "duration": 7,
    "start_time": "2023-03-29T08:43:33.391Z"
   },
   {
    "duration": 24,
    "start_time": "2023-03-29T08:43:33.399Z"
   },
   {
    "duration": 17,
    "start_time": "2023-03-29T08:43:33.425Z"
   },
   {
    "duration": 22,
    "start_time": "2023-03-29T08:43:33.443Z"
   },
   {
    "duration": 18,
    "start_time": "2023-03-29T08:43:33.467Z"
   },
   {
    "duration": 8,
    "start_time": "2023-03-29T08:43:33.488Z"
   },
   {
    "duration": 132,
    "start_time": "2023-03-29T08:43:33.498Z"
   },
   {
    "duration": 14,
    "start_time": "2023-03-29T08:43:33.632Z"
   },
   {
    "duration": 7023,
    "start_time": "2023-03-29T08:43:33.648Z"
   },
   {
    "duration": 30,
    "start_time": "2023-03-29T08:43:40.672Z"
   },
   {
    "duration": 42,
    "start_time": "2023-03-29T08:43:40.704Z"
   },
   {
    "duration": 8,
    "start_time": "2023-03-29T08:43:40.748Z"
   },
   {
    "duration": 24,
    "start_time": "2023-03-29T08:43:40.757Z"
   },
   {
    "duration": 10,
    "start_time": "2023-03-29T08:43:40.782Z"
   },
   {
    "duration": 5,
    "start_time": "2023-03-29T08:43:40.794Z"
   },
   {
    "duration": 43,
    "start_time": "2023-03-29T08:43:40.801Z"
   },
   {
    "duration": 3145,
    "start_time": "2023-03-29T09:07:25.532Z"
   },
   {
    "duration": 332,
    "start_time": "2023-03-29T09:07:28.680Z"
   },
   {
    "duration": 11,
    "start_time": "2023-03-29T09:07:29.013Z"
   },
   {
    "duration": 75,
    "start_time": "2023-03-29T09:07:29.026Z"
   },
   {
    "duration": 6,
    "start_time": "2023-03-29T09:07:29.104Z"
   },
   {
    "duration": 24,
    "start_time": "2023-03-29T09:07:29.115Z"
   },
   {
    "duration": 38,
    "start_time": "2023-03-29T09:07:29.141Z"
   },
   {
    "duration": 12,
    "start_time": "2023-03-29T09:07:29.181Z"
   },
   {
    "duration": 10,
    "start_time": "2023-03-29T09:07:29.195Z"
   },
   {
    "duration": 11,
    "start_time": "2023-03-29T09:07:29.206Z"
   },
   {
    "duration": 105,
    "start_time": "2023-03-29T09:07:29.219Z"
   },
   {
    "duration": 13,
    "start_time": "2023-03-29T09:07:29.325Z"
   },
   {
    "duration": 8119,
    "start_time": "2023-03-29T09:07:29.344Z"
   },
   {
    "duration": 27,
    "start_time": "2023-03-29T09:07:37.466Z"
   },
   {
    "duration": 23,
    "start_time": "2023-03-29T09:07:37.494Z"
   },
   {
    "duration": 20,
    "start_time": "2023-03-29T09:07:37.519Z"
   },
   {
    "duration": 46,
    "start_time": "2023-03-29T09:07:37.541Z"
   },
   {
    "duration": 8,
    "start_time": "2023-03-29T09:07:37.589Z"
   },
   {
    "duration": 11,
    "start_time": "2023-03-29T09:07:37.598Z"
   },
   {
    "duration": 26,
    "start_time": "2023-03-29T09:07:37.611Z"
   },
   {
    "duration": 1266,
    "start_time": "2023-03-29T15:50:58.899Z"
   },
   {
    "duration": 210,
    "start_time": "2023-03-29T15:51:00.167Z"
   },
   {
    "duration": 14,
    "start_time": "2023-03-29T15:51:00.379Z"
   },
   {
    "duration": 55,
    "start_time": "2023-03-29T15:51:00.394Z"
   },
   {
    "duration": 15,
    "start_time": "2023-03-29T15:51:00.450Z"
   },
   {
    "duration": 20,
    "start_time": "2023-03-29T15:51:00.467Z"
   },
   {
    "duration": 25,
    "start_time": "2023-03-29T15:51:00.489Z"
   },
   {
    "duration": 33,
    "start_time": "2023-03-29T15:51:00.516Z"
   },
   {
    "duration": 34,
    "start_time": "2023-03-29T15:51:00.551Z"
   },
   {
    "duration": 29,
    "start_time": "2023-03-29T15:51:00.588Z"
   },
   {
    "duration": 119,
    "start_time": "2023-03-29T15:51:00.619Z"
   },
   {
    "duration": 7,
    "start_time": "2023-03-29T15:51:00.740Z"
   },
   {
    "duration": 6959,
    "start_time": "2023-03-29T15:51:00.749Z"
   },
   {
    "duration": 25,
    "start_time": "2023-03-29T15:51:07.710Z"
   },
   {
    "duration": 31,
    "start_time": "2023-03-29T15:51:07.736Z"
   },
   {
    "duration": 8,
    "start_time": "2023-03-29T15:51:07.769Z"
   },
   {
    "duration": 17,
    "start_time": "2023-03-29T15:51:07.778Z"
   },
   {
    "duration": 9,
    "start_time": "2023-03-29T15:51:07.798Z"
   },
   {
    "duration": 45,
    "start_time": "2023-03-29T15:51:07.809Z"
   },
   {
    "duration": 24,
    "start_time": "2023-03-29T15:51:07.856Z"
   },
   {
    "duration": 102,
    "start_time": "2023-03-29T16:27:28.548Z"
   },
   {
    "duration": 469,
    "start_time": "2023-03-29T16:28:33.689Z"
   },
   {
    "duration": 5,
    "start_time": "2023-03-29T16:28:39.036Z"
   },
   {
    "duration": 103,
    "start_time": "2023-03-29T16:28:39.044Z"
   },
   {
    "duration": 17,
    "start_time": "2023-03-29T16:28:39.149Z"
   },
   {
    "duration": 39,
    "start_time": "2023-03-29T16:28:39.169Z"
   },
   {
    "duration": 7,
    "start_time": "2023-03-29T16:28:39.210Z"
   },
   {
    "duration": 57,
    "start_time": "2023-03-29T16:28:39.219Z"
   },
   {
    "duration": 0,
    "start_time": "2023-03-29T16:28:39.278Z"
   },
   {
    "duration": 0,
    "start_time": "2023-03-29T16:28:39.280Z"
   },
   {
    "duration": 0,
    "start_time": "2023-03-29T16:28:39.282Z"
   },
   {
    "duration": 0,
    "start_time": "2023-03-29T16:28:39.283Z"
   },
   {
    "duration": 0,
    "start_time": "2023-03-29T16:28:39.284Z"
   },
   {
    "duration": 0,
    "start_time": "2023-03-29T16:28:39.286Z"
   },
   {
    "duration": 0,
    "start_time": "2023-03-29T16:28:39.287Z"
   },
   {
    "duration": 0,
    "start_time": "2023-03-29T16:28:39.289Z"
   },
   {
    "duration": 0,
    "start_time": "2023-03-29T16:28:39.291Z"
   },
   {
    "duration": 0,
    "start_time": "2023-03-29T16:28:39.292Z"
   },
   {
    "duration": 0,
    "start_time": "2023-03-29T16:28:39.294Z"
   },
   {
    "duration": 0,
    "start_time": "2023-03-29T16:28:39.296Z"
   },
   {
    "duration": 0,
    "start_time": "2023-03-29T16:28:39.297Z"
   },
   {
    "duration": 0,
    "start_time": "2023-03-29T16:28:39.299Z"
   },
   {
    "duration": 0,
    "start_time": "2023-03-29T16:28:39.300Z"
   },
   {
    "duration": 72,
    "start_time": "2023-03-29T16:29:47.345Z"
   },
   {
    "duration": 77,
    "start_time": "2023-03-29T16:29:47.419Z"
   },
   {
    "duration": 15,
    "start_time": "2023-03-29T16:29:47.498Z"
   },
   {
    "duration": 33,
    "start_time": "2023-03-29T16:29:47.515Z"
   },
   {
    "duration": 27,
    "start_time": "2023-03-29T16:29:47.550Z"
   },
   {
    "duration": 510,
    "start_time": "2023-03-29T16:29:47.579Z"
   },
   {
    "duration": 6,
    "start_time": "2023-03-29T16:29:48.092Z"
   },
   {
    "duration": 14,
    "start_time": "2023-03-29T16:29:48.100Z"
   },
   {
    "duration": 9,
    "start_time": "2023-03-29T16:29:48.116Z"
   },
   {
    "duration": 23,
    "start_time": "2023-03-29T16:29:48.128Z"
   },
   {
    "duration": 7,
    "start_time": "2023-03-29T16:29:48.153Z"
   },
   {
    "duration": 111,
    "start_time": "2023-03-29T16:29:48.164Z"
   },
   {
    "duration": 9,
    "start_time": "2023-03-29T16:29:48.278Z"
   },
   {
    "duration": 7709,
    "start_time": "2023-03-29T16:29:48.289Z"
   },
   {
    "duration": 32,
    "start_time": "2023-03-29T16:29:56.001Z"
   },
   {
    "duration": 25,
    "start_time": "2023-03-29T16:29:56.050Z"
   },
   {
    "duration": 10,
    "start_time": "2023-03-29T16:29:56.077Z"
   },
   {
    "duration": 22,
    "start_time": "2023-03-29T16:29:56.089Z"
   },
   {
    "duration": 41,
    "start_time": "2023-03-29T16:29:56.113Z"
   },
   {
    "duration": 12,
    "start_time": "2023-03-29T16:29:56.156Z"
   },
   {
    "duration": 21,
    "start_time": "2023-03-29T16:29:56.171Z"
   },
   {
    "duration": 389,
    "start_time": "2023-03-29T16:32:40.637Z"
   },
   {
    "duration": 374,
    "start_time": "2023-03-29T16:34:23.465Z"
   },
   {
    "duration": 369,
    "start_time": "2023-03-29T16:36:08.383Z"
   },
   {
    "duration": 410,
    "start_time": "2023-03-29T16:36:17.423Z"
   },
   {
    "duration": 452,
    "start_time": "2023-03-29T16:36:47.975Z"
   },
   {
    "duration": 547,
    "start_time": "2023-03-29T16:39:51.327Z"
   },
   {
    "duration": 428,
    "start_time": "2023-03-29T16:40:02.207Z"
   },
   {
    "duration": 392,
    "start_time": "2023-03-29T16:40:17.342Z"
   },
   {
    "duration": 332,
    "start_time": "2023-03-29T16:40:26.166Z"
   },
   {
    "duration": 98,
    "start_time": "2023-03-29T17:14:48.021Z"
   },
   {
    "duration": 241,
    "start_time": "2023-03-29T17:14:59.345Z"
   },
   {
    "duration": 139,
    "start_time": "2023-03-29T17:18:14.368Z"
   },
   {
    "duration": 265,
    "start_time": "2023-03-29T17:19:33.741Z"
   },
   {
    "duration": 135,
    "start_time": "2023-03-29T17:19:42.406Z"
   },
   {
    "duration": 144,
    "start_time": "2023-03-29T17:21:27.864Z"
   },
   {
    "duration": 162,
    "start_time": "2023-03-29T17:22:11.946Z"
   },
   {
    "duration": 162,
    "start_time": "2023-03-29T17:22:42.539Z"
   },
   {
    "duration": 156,
    "start_time": "2023-03-29T17:22:49.891Z"
   },
   {
    "duration": 181,
    "start_time": "2023-03-29T17:26:24.100Z"
   },
   {
    "duration": 14,
    "start_time": "2023-03-29T17:31:53.667Z"
   },
   {
    "duration": 4,
    "start_time": "2023-03-29T17:32:01.992Z"
   },
   {
    "duration": 127,
    "start_time": "2023-03-29T17:32:01.998Z"
   },
   {
    "duration": 11,
    "start_time": "2023-03-29T17:32:02.127Z"
   },
   {
    "duration": 64,
    "start_time": "2023-03-29T17:32:02.140Z"
   },
   {
    "duration": 7,
    "start_time": "2023-03-29T17:32:02.206Z"
   },
   {
    "duration": 378,
    "start_time": "2023-03-29T17:32:02.214Z"
   },
   {
    "duration": 4,
    "start_time": "2023-03-29T17:32:02.594Z"
   },
   {
    "duration": 41,
    "start_time": "2023-03-29T17:32:02.599Z"
   },
   {
    "duration": 28,
    "start_time": "2023-03-29T17:32:02.641Z"
   },
   {
    "duration": 25,
    "start_time": "2023-03-29T17:32:02.671Z"
   },
   {
    "duration": 17,
    "start_time": "2023-03-29T17:32:02.699Z"
   },
   {
    "duration": 212,
    "start_time": "2023-03-29T17:32:02.718Z"
   },
   {
    "duration": 5,
    "start_time": "2023-03-29T17:32:02.932Z"
   },
   {
    "duration": 152,
    "start_time": "2023-03-29T17:32:02.949Z"
   },
   {
    "duration": 6160,
    "start_time": "2023-03-29T17:32:03.103Z"
   },
   {
    "duration": 21,
    "start_time": "2023-03-29T17:32:09.265Z"
   },
   {
    "duration": 17,
    "start_time": "2023-03-29T17:32:09.287Z"
   },
   {
    "duration": 6,
    "start_time": "2023-03-29T17:32:09.305Z"
   },
   {
    "duration": 14,
    "start_time": "2023-03-29T17:32:09.312Z"
   },
   {
    "duration": 27,
    "start_time": "2023-03-29T17:32:09.327Z"
   },
   {
    "duration": 10,
    "start_time": "2023-03-29T17:32:09.360Z"
   },
   {
    "duration": 15,
    "start_time": "2023-03-29T17:32:09.371Z"
   },
   {
    "duration": 160,
    "start_time": "2023-03-29T17:32:40.678Z"
   },
   {
    "duration": 136,
    "start_time": "2023-03-29T17:33:17.573Z"
   },
   {
    "duration": 179,
    "start_time": "2023-03-29T17:33:35.980Z"
   },
   {
    "duration": 307,
    "start_time": "2023-03-29T17:35:44.194Z"
   },
   {
    "duration": 203,
    "start_time": "2023-03-29T17:38:29.887Z"
   },
   {
    "duration": 190,
    "start_time": "2023-03-29T17:38:55.438Z"
   },
   {
    "duration": 8,
    "start_time": "2023-03-29T17:38:59.385Z"
   },
   {
    "duration": 218,
    "start_time": "2023-03-29T17:38:59.995Z"
   },
   {
    "duration": 142,
    "start_time": "2023-03-29T17:39:18.567Z"
   },
   {
    "duration": 225,
    "start_time": "2023-03-29T17:45:38.146Z"
   },
   {
    "duration": 15,
    "start_time": "2023-03-29T17:55:50.198Z"
   },
   {
    "duration": 5,
    "start_time": "2023-03-29T17:56:15.191Z"
   },
   {
    "duration": 105,
    "start_time": "2023-03-29T17:56:15.198Z"
   },
   {
    "duration": 15,
    "start_time": "2023-03-29T17:56:15.305Z"
   },
   {
    "duration": 40,
    "start_time": "2023-03-29T17:56:15.322Z"
   },
   {
    "duration": 7,
    "start_time": "2023-03-29T17:56:15.364Z"
   },
   {
    "duration": 369,
    "start_time": "2023-03-29T17:56:15.373Z"
   },
   {
    "duration": 4,
    "start_time": "2023-03-29T17:56:15.748Z"
   },
   {
    "duration": 16,
    "start_time": "2023-03-29T17:56:15.753Z"
   },
   {
    "duration": 32,
    "start_time": "2023-03-29T17:56:15.770Z"
   },
   {
    "duration": 19,
    "start_time": "2023-03-29T17:56:15.805Z"
   },
   {
    "duration": 13,
    "start_time": "2023-03-29T17:56:15.825Z"
   },
   {
    "duration": 136,
    "start_time": "2023-03-29T17:56:15.840Z"
   },
   {
    "duration": 6,
    "start_time": "2023-03-29T17:56:15.977Z"
   },
   {
    "duration": 199,
    "start_time": "2023-03-29T17:56:15.984Z"
   },
   {
    "duration": 504,
    "start_time": "2023-03-29T17:56:16.184Z"
   },
   {
    "duration": 7479,
    "start_time": "2023-03-29T17:56:16.690Z"
   },
   {
    "duration": 192,
    "start_time": "2023-03-29T17:56:24.170Z"
   },
   {
    "duration": 20,
    "start_time": "2023-03-29T17:56:24.364Z"
   },
   {
    "duration": 19,
    "start_time": "2023-03-29T17:56:24.385Z"
   },
   {
    "duration": 27,
    "start_time": "2023-03-29T17:56:24.406Z"
   },
   {
    "duration": 8,
    "start_time": "2023-03-29T17:56:24.448Z"
   },
   {
    "duration": 24,
    "start_time": "2023-03-29T17:56:24.458Z"
   },
   {
    "duration": 40,
    "start_time": "2023-03-29T17:56:24.484Z"
   },
   {
    "duration": 1060,
    "start_time": "2023-03-29T17:59:30.301Z"
   },
   {
    "duration": 983,
    "start_time": "2023-03-29T17:59:46.175Z"
   },
   {
    "duration": 546,
    "start_time": "2023-03-29T18:02:55.790Z"
   },
   {
    "duration": 988,
    "start_time": "2023-03-29T18:03:06.502Z"
   },
   {
    "duration": 20,
    "start_time": "2023-03-29T18:10:13.805Z"
   },
   {
    "duration": 10,
    "start_time": "2023-03-29T18:19:53.841Z"
   },
   {
    "duration": 104,
    "start_time": "2023-03-29T18:19:53.854Z"
   },
   {
    "duration": 16,
    "start_time": "2023-03-29T18:19:53.960Z"
   },
   {
    "duration": 47,
    "start_time": "2023-03-29T18:19:53.978Z"
   },
   {
    "duration": 8,
    "start_time": "2023-03-29T18:19:54.029Z"
   },
   {
    "duration": 386,
    "start_time": "2023-03-29T18:19:54.039Z"
   },
   {
    "duration": 4,
    "start_time": "2023-03-29T18:19:54.427Z"
   },
   {
    "duration": 33,
    "start_time": "2023-03-29T18:19:54.434Z"
   },
   {
    "duration": 42,
    "start_time": "2023-03-29T18:19:54.469Z"
   },
   {
    "duration": 30,
    "start_time": "2023-03-29T18:19:54.513Z"
   },
   {
    "duration": 18,
    "start_time": "2023-03-29T18:19:54.546Z"
   },
   {
    "duration": 278,
    "start_time": "2023-03-29T18:19:54.566Z"
   },
   {
    "duration": 8,
    "start_time": "2023-03-29T18:19:54.846Z"
   },
   {
    "duration": 199,
    "start_time": "2023-03-29T18:19:54.857Z"
   },
   {
    "duration": 987,
    "start_time": "2023-03-29T18:19:55.058Z"
   },
   {
    "duration": 7477,
    "start_time": "2023-03-29T18:19:56.047Z"
   },
   {
    "duration": 204,
    "start_time": "2023-03-29T18:20:03.526Z"
   },
   {
    "duration": 23,
    "start_time": "2023-03-29T18:20:03.733Z"
   },
   {
    "duration": 8,
    "start_time": "2023-03-29T18:20:03.758Z"
   },
   {
    "duration": 31,
    "start_time": "2023-03-29T18:20:03.768Z"
   },
   {
    "duration": 17,
    "start_time": "2023-03-29T18:20:03.801Z"
   },
   {
    "duration": 19,
    "start_time": "2023-03-29T18:20:03.820Z"
   },
   {
    "duration": 31,
    "start_time": "2023-03-29T18:20:03.841Z"
   },
   {
    "duration": 7287,
    "start_time": "2023-03-29T18:20:30.699Z"
   },
   {
    "duration": 11574,
    "start_time": "2023-03-29T18:23:21.945Z"
   },
   {
    "duration": 19832,
    "start_time": "2023-03-29T18:24:08.147Z"
   },
   {
    "duration": 7303,
    "start_time": "2023-03-29T18:24:38.846Z"
   },
   {
    "duration": 14,
    "start_time": "2023-03-29T19:36:35.301Z"
   },
   {
    "duration": 1778,
    "start_time": "2023-03-30T05:49:40.235Z"
   },
   {
    "duration": 105,
    "start_time": "2023-03-30T05:49:42.015Z"
   },
   {
    "duration": 20,
    "start_time": "2023-03-30T05:49:42.122Z"
   },
   {
    "duration": 26,
    "start_time": "2023-03-30T05:49:42.144Z"
   },
   {
    "duration": 8,
    "start_time": "2023-03-30T05:49:42.172Z"
   },
   {
    "duration": 583,
    "start_time": "2023-03-30T05:49:42.182Z"
   },
   {
    "duration": 4,
    "start_time": "2023-03-30T05:49:42.767Z"
   },
   {
    "duration": 10,
    "start_time": "2023-03-30T05:49:42.774Z"
   },
   {
    "duration": 8,
    "start_time": "2023-03-30T05:49:42.786Z"
   },
   {
    "duration": 8,
    "start_time": "2023-03-30T05:49:42.797Z"
   },
   {
    "duration": 8,
    "start_time": "2023-03-30T05:49:42.808Z"
   },
   {
    "duration": 167,
    "start_time": "2023-03-30T05:49:42.818Z"
   },
   {
    "duration": 18,
    "start_time": "2023-03-30T05:49:42.987Z"
   },
   {
    "duration": 226,
    "start_time": "2023-03-30T05:49:43.007Z"
   },
   {
    "duration": 1111,
    "start_time": "2023-03-30T05:49:43.235Z"
   },
   {
    "duration": 7065,
    "start_time": "2023-03-30T05:49:44.348Z"
   },
   {
    "duration": 183,
    "start_time": "2023-03-30T05:49:51.415Z"
   },
   {
    "duration": 22,
    "start_time": "2023-03-30T05:49:51.600Z"
   },
   {
    "duration": 12,
    "start_time": "2023-03-30T05:49:51.623Z"
   },
   {
    "duration": 50,
    "start_time": "2023-03-30T05:49:51.636Z"
   },
   {
    "duration": 48,
    "start_time": "2023-03-30T05:49:51.689Z"
   },
   {
    "duration": 32,
    "start_time": "2023-03-30T05:49:51.739Z"
   },
   {
    "duration": 52,
    "start_time": "2023-03-30T05:49:51.773Z"
   },
   {
    "duration": 25887,
    "start_time": "2023-03-30T06:06:26.813Z"
   },
   {
    "duration": 47707,
    "start_time": "2023-03-30T06:07:05.271Z"
   },
   {
    "duration": 6892,
    "start_time": "2023-03-30T06:08:03.453Z"
   },
   {
    "duration": 18,
    "start_time": "2023-03-30T06:09:52.213Z"
   },
   {
    "duration": 5,
    "start_time": "2023-03-30T06:09:58.821Z"
   },
   {
    "duration": 58,
    "start_time": "2023-03-30T06:09:58.828Z"
   },
   {
    "duration": 11,
    "start_time": "2023-03-30T06:09:58.888Z"
   },
   {
    "duration": 25,
    "start_time": "2023-03-30T06:09:58.901Z"
   },
   {
    "duration": 6,
    "start_time": "2023-03-30T06:09:58.928Z"
   },
   {
    "duration": 428,
    "start_time": "2023-03-30T06:09:58.936Z"
   },
   {
    "duration": 4,
    "start_time": "2023-03-30T06:09:59.365Z"
   },
   {
    "duration": 7,
    "start_time": "2023-03-30T06:09:59.371Z"
   },
   {
    "duration": 7,
    "start_time": "2023-03-30T06:09:59.379Z"
   },
   {
    "duration": 5,
    "start_time": "2023-03-30T06:09:59.388Z"
   },
   {
    "duration": 7,
    "start_time": "2023-03-30T06:09:59.395Z"
   },
   {
    "duration": 164,
    "start_time": "2023-03-30T06:09:59.404Z"
   },
   {
    "duration": 14,
    "start_time": "2023-03-30T06:09:59.571Z"
   },
   {
    "duration": 235,
    "start_time": "2023-03-30T06:09:59.587Z"
   },
   {
    "duration": 994,
    "start_time": "2023-03-30T06:09:59.825Z"
   },
   {
    "duration": 7025,
    "start_time": "2023-03-30T06:10:00.821Z"
   },
   {
    "duration": 204,
    "start_time": "2023-03-30T06:10:07.848Z"
   },
   {
    "duration": 17,
    "start_time": "2023-03-30T06:10:08.054Z"
   },
   {
    "duration": 23,
    "start_time": "2023-03-30T06:10:08.073Z"
   },
   {
    "duration": 33,
    "start_time": "2023-03-30T06:10:08.098Z"
   },
   {
    "duration": 19,
    "start_time": "2023-03-30T06:10:08.134Z"
   },
   {
    "duration": 11,
    "start_time": "2023-03-30T06:10:08.155Z"
   },
   {
    "duration": 22,
    "start_time": "2023-03-30T06:10:08.168Z"
   },
   {
    "duration": 62058,
    "start_time": "2023-03-30T06:33:48.367Z"
   },
   {
    "duration": 12,
    "start_time": "2023-03-30T08:41:09.302Z"
   },
   {
    "duration": 405,
    "start_time": "2023-03-30T08:42:04.193Z"
   },
   {
    "duration": 158,
    "start_time": "2023-03-30T08:42:18.078Z"
   },
   {
    "duration": 3,
    "start_time": "2023-03-30T08:42:22.478Z"
   },
   {
    "duration": 74,
    "start_time": "2023-03-30T08:42:22.483Z"
   },
   {
    "duration": 13,
    "start_time": "2023-03-30T08:42:22.559Z"
   },
   {
    "duration": 50,
    "start_time": "2023-03-30T08:42:22.574Z"
   },
   {
    "duration": 20,
    "start_time": "2023-03-30T08:42:22.626Z"
   },
   {
    "duration": 403,
    "start_time": "2023-03-30T08:42:22.648Z"
   },
   {
    "duration": 9,
    "start_time": "2023-03-30T08:42:23.053Z"
   },
   {
    "duration": 26,
    "start_time": "2023-03-30T08:42:23.064Z"
   },
   {
    "duration": 31,
    "start_time": "2023-03-30T08:42:23.091Z"
   },
   {
    "duration": 35,
    "start_time": "2023-03-30T08:42:23.124Z"
   },
   {
    "duration": 24,
    "start_time": "2023-03-30T08:42:23.160Z"
   },
   {
    "duration": 136,
    "start_time": "2023-03-30T08:42:23.186Z"
   },
   {
    "duration": 14,
    "start_time": "2023-03-30T08:42:23.324Z"
   },
   {
    "duration": 217,
    "start_time": "2023-03-30T08:42:23.340Z"
   },
   {
    "duration": 1013,
    "start_time": "2023-03-30T08:42:23.559Z"
   },
   {
    "duration": 6961,
    "start_time": "2023-03-30T08:42:24.574Z"
   },
   {
    "duration": 174,
    "start_time": "2023-03-30T08:42:31.536Z"
   },
   {
    "duration": 21,
    "start_time": "2023-03-30T08:42:31.712Z"
   },
   {
    "duration": 8,
    "start_time": "2023-03-30T08:42:31.734Z"
   },
   {
    "duration": 33,
    "start_time": "2023-03-30T08:42:31.743Z"
   },
   {
    "duration": 39,
    "start_time": "2023-03-30T08:42:31.778Z"
   },
   {
    "duration": 160,
    "start_time": "2023-03-30T08:42:31.818Z"
   },
   {
    "duration": 8,
    "start_time": "2023-03-30T08:42:31.980Z"
   },
   {
    "duration": 26,
    "start_time": "2023-03-30T08:42:31.990Z"
   },
   {
    "duration": 19,
    "start_time": "2023-03-30T08:42:32.018Z"
   },
   {
    "duration": 1428,
    "start_time": "2023-03-30T08:44:39.750Z"
   },
   {
    "duration": 62,
    "start_time": "2023-03-30T08:44:41.180Z"
   },
   {
    "duration": 13,
    "start_time": "2023-03-30T08:44:41.243Z"
   },
   {
    "duration": 29,
    "start_time": "2023-03-30T08:44:41.258Z"
   },
   {
    "duration": 6,
    "start_time": "2023-03-30T08:44:41.289Z"
   },
   {
    "duration": 379,
    "start_time": "2023-03-30T08:44:41.296Z"
   },
   {
    "duration": 4,
    "start_time": "2023-03-30T08:44:41.677Z"
   },
   {
    "duration": 6,
    "start_time": "2023-03-30T08:44:41.683Z"
   },
   {
    "duration": 6,
    "start_time": "2023-03-30T08:44:41.691Z"
   },
   {
    "duration": 5,
    "start_time": "2023-03-30T08:44:41.700Z"
   },
   {
    "duration": 5,
    "start_time": "2023-03-30T08:44:41.707Z"
   },
   {
    "duration": 149,
    "start_time": "2023-03-30T08:44:41.715Z"
   },
   {
    "duration": 13,
    "start_time": "2023-03-30T08:44:41.865Z"
   },
   {
    "duration": 207,
    "start_time": "2023-03-30T08:44:41.880Z"
   },
   {
    "duration": 988,
    "start_time": "2023-03-30T08:44:42.089Z"
   },
   {
    "duration": 6725,
    "start_time": "2023-03-30T08:44:43.080Z"
   },
   {
    "duration": 170,
    "start_time": "2023-03-30T08:44:49.806Z"
   },
   {
    "duration": 20,
    "start_time": "2023-03-30T08:44:49.978Z"
   },
   {
    "duration": 2,
    "start_time": "2023-03-30T08:44:50.000Z"
   },
   {
    "duration": 14,
    "start_time": "2023-03-30T08:44:50.004Z"
   },
   {
    "duration": 28,
    "start_time": "2023-03-30T08:44:50.020Z"
   },
   {
    "duration": 186,
    "start_time": "2023-03-30T08:44:50.049Z"
   },
   {
    "duration": 9,
    "start_time": "2023-03-30T08:44:50.237Z"
   },
   {
    "duration": 19,
    "start_time": "2023-03-30T08:44:50.247Z"
   },
   {
    "duration": 25,
    "start_time": "2023-03-30T08:44:50.268Z"
   },
   {
    "duration": 5,
    "start_time": "2023-03-30T08:48:54.234Z"
   },
   {
    "duration": 5,
    "start_time": "2023-03-30T08:49:15.055Z"
   },
   {
    "duration": 130,
    "start_time": "2023-03-30T08:53:31.791Z"
   },
   {
    "duration": 14,
    "start_time": "2023-03-30T08:54:50.793Z"
   },
   {
    "duration": 7,
    "start_time": "2023-03-30T08:55:13.447Z"
   },
   {
    "duration": 6,
    "start_time": "2023-03-30T08:59:09.921Z"
   },
   {
    "duration": 8,
    "start_time": "2023-03-30T08:59:18.127Z"
   },
   {
    "duration": 4,
    "start_time": "2023-03-30T09:04:29.576Z"
   },
   {
    "duration": 78,
    "start_time": "2023-03-30T09:04:29.583Z"
   },
   {
    "duration": 17,
    "start_time": "2023-03-30T09:04:29.663Z"
   },
   {
    "duration": 36,
    "start_time": "2023-03-30T09:04:29.683Z"
   },
   {
    "duration": 8,
    "start_time": "2023-03-30T09:04:29.722Z"
   },
   {
    "duration": 539,
    "start_time": "2023-03-30T09:04:29.731Z"
   },
   {
    "duration": 5,
    "start_time": "2023-03-30T09:04:30.271Z"
   },
   {
    "duration": 24,
    "start_time": "2023-03-30T09:04:30.278Z"
   },
   {
    "duration": 41,
    "start_time": "2023-03-30T09:04:30.304Z"
   },
   {
    "duration": 68,
    "start_time": "2023-03-30T09:04:30.347Z"
   },
   {
    "duration": 47,
    "start_time": "2023-03-30T09:04:30.417Z"
   },
   {
    "duration": 161,
    "start_time": "2023-03-30T09:04:30.466Z"
   },
   {
    "duration": 17,
    "start_time": "2023-03-30T09:04:30.629Z"
   },
   {
    "duration": 258,
    "start_time": "2023-03-30T09:04:30.661Z"
   },
   {
    "duration": 1071,
    "start_time": "2023-03-30T09:04:30.922Z"
   },
   {
    "duration": 7300,
    "start_time": "2023-03-30T09:04:31.995Z"
   },
   {
    "duration": 191,
    "start_time": "2023-03-30T09:04:39.297Z"
   },
   {
    "duration": 21,
    "start_time": "2023-03-30T09:04:39.490Z"
   },
   {
    "duration": 5,
    "start_time": "2023-03-30T09:04:39.513Z"
   },
   {
    "duration": 19,
    "start_time": "2023-03-30T09:04:39.520Z"
   },
   {
    "duration": 21,
    "start_time": "2023-03-30T09:04:39.541Z"
   },
   {
    "duration": 26,
    "start_time": "2023-03-30T09:04:39.565Z"
   },
   {
    "duration": 17,
    "start_time": "2023-03-30T09:04:39.593Z"
   },
   {
    "duration": 192,
    "start_time": "2023-03-30T09:04:39.612Z"
   },
   {
    "duration": 214,
    "start_time": "2023-03-30T09:04:39.806Z"
   },
   {
    "duration": 8,
    "start_time": "2023-03-30T09:04:40.023Z"
   },
   {
    "duration": 4,
    "start_time": "2023-03-30T09:04:40.033Z"
   },
   {
    "duration": 46,
    "start_time": "2023-03-30T09:04:40.039Z"
   },
   {
    "duration": 176,
    "start_time": "2023-03-30T09:09:22.480Z"
   },
   {
    "duration": 5,
    "start_time": "2023-03-30T09:09:27.874Z"
   },
   {
    "duration": 106,
    "start_time": "2023-03-30T09:09:27.881Z"
   },
   {
    "duration": 13,
    "start_time": "2023-03-30T09:09:27.989Z"
   },
   {
    "duration": 33,
    "start_time": "2023-03-30T09:09:28.005Z"
   },
   {
    "duration": 8,
    "start_time": "2023-03-30T09:09:28.040Z"
   },
   {
    "duration": 409,
    "start_time": "2023-03-30T09:09:28.061Z"
   },
   {
    "duration": 11,
    "start_time": "2023-03-30T09:09:28.473Z"
   },
   {
    "duration": 8,
    "start_time": "2023-03-30T09:09:28.486Z"
   },
   {
    "duration": 10,
    "start_time": "2023-03-30T09:09:28.495Z"
   },
   {
    "duration": 6,
    "start_time": "2023-03-30T09:09:28.509Z"
   },
   {
    "duration": 7,
    "start_time": "2023-03-30T09:09:28.517Z"
   },
   {
    "duration": 166,
    "start_time": "2023-03-30T09:09:28.526Z"
   },
   {
    "duration": 13,
    "start_time": "2023-03-30T09:09:28.694Z"
   },
   {
    "duration": 216,
    "start_time": "2023-03-30T09:09:28.708Z"
   },
   {
    "duration": 1071,
    "start_time": "2023-03-30T09:09:28.926Z"
   },
   {
    "duration": 7609,
    "start_time": "2023-03-30T09:09:29.999Z"
   },
   {
    "duration": 193,
    "start_time": "2023-03-30T09:09:37.611Z"
   },
   {
    "duration": 21,
    "start_time": "2023-03-30T09:09:37.805Z"
   },
   {
    "duration": 5,
    "start_time": "2023-03-30T09:09:37.828Z"
   },
   {
    "duration": 30,
    "start_time": "2023-03-30T09:09:37.834Z"
   },
   {
    "duration": 3,
    "start_time": "2023-03-30T09:09:37.866Z"
   },
   {
    "duration": 18,
    "start_time": "2023-03-30T09:09:37.870Z"
   },
   {
    "duration": 2,
    "start_time": "2023-03-30T09:09:37.890Z"
   },
   {
    "duration": 206,
    "start_time": "2023-03-30T09:09:37.894Z"
   },
   {
    "duration": 214,
    "start_time": "2023-03-30T09:09:38.102Z"
   },
   {
    "duration": 7,
    "start_time": "2023-03-30T09:09:38.318Z"
   },
   {
    "duration": 8,
    "start_time": "2023-03-30T09:09:38.326Z"
   },
   {
    "duration": 33,
    "start_time": "2023-03-30T09:09:38.338Z"
   },
   {
    "duration": 190,
    "start_time": "2023-03-30T09:11:42.539Z"
   },
   {
    "duration": 19,
    "start_time": "2023-03-30T09:12:51.132Z"
   },
   {
    "duration": 5,
    "start_time": "2023-03-30T09:12:56.987Z"
   },
   {
    "duration": 62,
    "start_time": "2023-03-30T09:12:56.994Z"
   },
   {
    "duration": 16,
    "start_time": "2023-03-30T09:12:57.058Z"
   },
   {
    "duration": 29,
    "start_time": "2023-03-30T09:12:57.078Z"
   },
   {
    "duration": 9,
    "start_time": "2023-03-30T09:12:57.109Z"
   },
   {
    "duration": 447,
    "start_time": "2023-03-30T09:12:57.120Z"
   },
   {
    "duration": 5,
    "start_time": "2023-03-30T09:12:57.570Z"
   },
   {
    "duration": 9,
    "start_time": "2023-03-30T09:12:57.576Z"
   },
   {
    "duration": 15,
    "start_time": "2023-03-30T09:12:57.588Z"
   },
   {
    "duration": 7,
    "start_time": "2023-03-30T09:12:57.605Z"
   },
   {
    "duration": 7,
    "start_time": "2023-03-30T09:12:57.614Z"
   },
   {
    "duration": 157,
    "start_time": "2023-03-30T09:12:57.623Z"
   },
   {
    "duration": 18,
    "start_time": "2023-03-30T09:12:57.782Z"
   },
   {
    "duration": 264,
    "start_time": "2023-03-30T09:12:57.803Z"
   },
   {
    "duration": 974,
    "start_time": "2023-03-30T09:12:58.069Z"
   },
   {
    "duration": 7393,
    "start_time": "2023-03-30T09:12:59.045Z"
   },
   {
    "duration": 204,
    "start_time": "2023-03-30T09:13:06.440Z"
   },
   {
    "duration": 27,
    "start_time": "2023-03-30T09:13:06.646Z"
   },
   {
    "duration": 6,
    "start_time": "2023-03-30T09:13:06.675Z"
   },
   {
    "duration": 7,
    "start_time": "2023-03-30T09:13:06.682Z"
   },
   {
    "duration": 4,
    "start_time": "2023-03-30T09:13:06.691Z"
   },
   {
    "duration": 15,
    "start_time": "2023-03-30T09:13:06.697Z"
   },
   {
    "duration": 54,
    "start_time": "2023-03-30T09:13:06.714Z"
   },
   {
    "duration": 3,
    "start_time": "2023-03-30T09:13:06.771Z"
   },
   {
    "duration": 172,
    "start_time": "2023-03-30T09:13:06.776Z"
   },
   {
    "duration": 214,
    "start_time": "2023-03-30T09:13:06.950Z"
   },
   {
    "duration": 8,
    "start_time": "2023-03-30T09:13:07.166Z"
   },
   {
    "duration": 4,
    "start_time": "2023-03-30T09:13:07.176Z"
   },
   {
    "duration": 28,
    "start_time": "2023-03-30T09:13:07.182Z"
   },
   {
    "duration": 11266,
    "start_time": "2023-03-30T09:18:24.188Z"
   },
   {
    "duration": 33734,
    "start_time": "2023-03-30T09:18:54.307Z"
   },
   {
    "duration": 1694,
    "start_time": "2023-03-30T09:20:03.419Z"
   },
   {
    "duration": 72,
    "start_time": "2023-03-30T09:20:05.115Z"
   },
   {
    "duration": 13,
    "start_time": "2023-03-30T09:20:05.189Z"
   },
   {
    "duration": 38,
    "start_time": "2023-03-30T09:20:05.206Z"
   },
   {
    "duration": 24,
    "start_time": "2023-03-30T09:20:05.247Z"
   },
   {
    "duration": 462,
    "start_time": "2023-03-30T09:20:05.273Z"
   },
   {
    "duration": 5,
    "start_time": "2023-03-30T09:20:05.737Z"
   },
   {
    "duration": 46,
    "start_time": "2023-03-30T09:20:05.744Z"
   },
   {
    "duration": 29,
    "start_time": "2023-03-30T09:20:05.792Z"
   },
   {
    "duration": 11,
    "start_time": "2023-03-30T09:20:05.825Z"
   },
   {
    "duration": 8,
    "start_time": "2023-03-30T09:20:05.838Z"
   },
   {
    "duration": 137,
    "start_time": "2023-03-30T09:20:05.848Z"
   },
   {
    "duration": 14,
    "start_time": "2023-03-30T09:20:05.987Z"
   },
   {
    "duration": 234,
    "start_time": "2023-03-30T09:20:06.003Z"
   },
   {
    "duration": 1110,
    "start_time": "2023-03-30T09:20:06.239Z"
   },
   {
    "duration": 11174,
    "start_time": "2023-03-30T09:20:07.351Z"
   },
   {
    "duration": 190,
    "start_time": "2023-03-30T09:20:18.527Z"
   },
   {
    "duration": 20,
    "start_time": "2023-03-30T09:20:18.719Z"
   },
   {
    "duration": 4,
    "start_time": "2023-03-30T09:20:18.741Z"
   },
   {
    "duration": 10,
    "start_time": "2023-03-30T09:20:18.763Z"
   },
   {
    "duration": 17,
    "start_time": "2023-03-30T09:20:18.776Z"
   },
   {
    "duration": 35,
    "start_time": "2023-03-30T09:20:18.795Z"
   },
   {
    "duration": 29,
    "start_time": "2023-03-30T09:20:18.831Z"
   },
   {
    "duration": 3,
    "start_time": "2023-03-30T09:20:18.862Z"
   },
   {
    "duration": 192,
    "start_time": "2023-03-30T09:20:18.867Z"
   },
   {
    "duration": 254,
    "start_time": "2023-03-30T09:20:19.063Z"
   },
   {
    "duration": 10,
    "start_time": "2023-03-30T09:20:19.320Z"
   },
   {
    "duration": 4,
    "start_time": "2023-03-30T09:20:19.333Z"
   },
   {
    "duration": 42,
    "start_time": "2023-03-30T09:20:19.339Z"
   },
   {
    "duration": 103,
    "start_time": "2023-03-30T09:21:06.549Z"
   },
   {
    "duration": 5,
    "start_time": "2023-03-30T09:22:13.133Z"
   },
   {
    "duration": 119,
    "start_time": "2023-03-30T09:22:13.140Z"
   },
   {
    "duration": 18,
    "start_time": "2023-03-30T09:22:13.260Z"
   },
   {
    "duration": 24,
    "start_time": "2023-03-30T09:22:13.282Z"
   },
   {
    "duration": 6,
    "start_time": "2023-03-30T09:22:13.308Z"
   },
   {
    "duration": 533,
    "start_time": "2023-03-30T09:22:13.316Z"
   },
   {
    "duration": 5,
    "start_time": "2023-03-30T09:22:13.850Z"
   },
   {
    "duration": 9,
    "start_time": "2023-03-30T09:22:13.862Z"
   },
   {
    "duration": 16,
    "start_time": "2023-03-30T09:22:13.874Z"
   },
   {
    "duration": 6,
    "start_time": "2023-03-30T09:22:13.893Z"
   },
   {
    "duration": 8,
    "start_time": "2023-03-30T09:22:13.901Z"
   },
   {
    "duration": 184,
    "start_time": "2023-03-30T09:22:13.911Z"
   },
   {
    "duration": 17,
    "start_time": "2023-03-30T09:22:14.097Z"
   },
   {
    "duration": 306,
    "start_time": "2023-03-30T09:22:14.116Z"
   },
   {
    "duration": 990,
    "start_time": "2023-03-30T09:22:14.424Z"
   },
   {
    "duration": 11196,
    "start_time": "2023-03-30T09:22:15.416Z"
   },
   {
    "duration": 110,
    "start_time": "2023-03-30T09:22:26.614Z"
   },
   {
    "duration": 19,
    "start_time": "2023-03-30T09:22:26.726Z"
   },
   {
    "duration": 17,
    "start_time": "2023-03-30T09:22:26.747Z"
   },
   {
    "duration": 21,
    "start_time": "2023-03-30T09:22:26.766Z"
   },
   {
    "duration": 22,
    "start_time": "2023-03-30T09:22:26.789Z"
   },
   {
    "duration": 35,
    "start_time": "2023-03-30T09:22:26.814Z"
   },
   {
    "duration": 26,
    "start_time": "2023-03-30T09:22:26.851Z"
   },
   {
    "duration": 19,
    "start_time": "2023-03-30T09:22:26.881Z"
   },
   {
    "duration": 230,
    "start_time": "2023-03-30T09:22:26.903Z"
   },
   {
    "duration": 255,
    "start_time": "2023-03-30T09:22:27.135Z"
   },
   {
    "duration": 9,
    "start_time": "2023-03-30T09:22:27.392Z"
   },
   {
    "duration": 21,
    "start_time": "2023-03-30T09:22:27.403Z"
   },
   {
    "duration": 35,
    "start_time": "2023-03-30T09:22:27.426Z"
   },
   {
    "duration": 99,
    "start_time": "2023-03-30T09:24:06.956Z"
   },
   {
    "duration": 127,
    "start_time": "2023-03-30T09:24:09.916Z"
   },
   {
    "duration": 1602,
    "start_time": "2023-03-30T09:24:25.738Z"
   },
   {
    "duration": 76,
    "start_time": "2023-03-30T09:24:27.342Z"
   },
   {
    "duration": 22,
    "start_time": "2023-03-30T09:24:27.420Z"
   },
   {
    "duration": 40,
    "start_time": "2023-03-30T09:24:27.445Z"
   },
   {
    "duration": 8,
    "start_time": "2023-03-30T09:24:27.487Z"
   },
   {
    "duration": 445,
    "start_time": "2023-03-30T09:24:27.497Z"
   },
   {
    "duration": 4,
    "start_time": "2023-03-30T09:24:27.944Z"
   },
   {
    "duration": 6,
    "start_time": "2023-03-30T09:24:27.962Z"
   },
   {
    "duration": 17,
    "start_time": "2023-03-30T09:24:27.970Z"
   },
   {
    "duration": 5,
    "start_time": "2023-03-30T09:24:27.990Z"
   },
   {
    "duration": 5,
    "start_time": "2023-03-30T09:24:27.997Z"
   },
   {
    "duration": 149,
    "start_time": "2023-03-30T09:24:28.003Z"
   },
   {
    "duration": 15,
    "start_time": "2023-03-30T09:24:28.161Z"
   },
   {
    "duration": 232,
    "start_time": "2023-03-30T09:24:28.178Z"
   },
   {
    "duration": 1102,
    "start_time": "2023-03-30T09:24:28.412Z"
   },
   {
    "duration": 11027,
    "start_time": "2023-03-30T09:24:29.516Z"
   },
   {
    "duration": 109,
    "start_time": "2023-03-30T09:24:40.545Z"
   },
   {
    "duration": 32,
    "start_time": "2023-03-30T09:24:40.656Z"
   },
   {
    "duration": 4,
    "start_time": "2023-03-30T09:24:40.690Z"
   },
   {
    "duration": 11,
    "start_time": "2023-03-30T09:24:40.696Z"
   },
   {
    "duration": 21,
    "start_time": "2023-03-30T09:24:40.709Z"
   },
   {
    "duration": 40,
    "start_time": "2023-03-30T09:24:40.732Z"
   },
   {
    "duration": 15,
    "start_time": "2023-03-30T09:24:40.778Z"
   },
   {
    "duration": 3,
    "start_time": "2023-03-30T09:24:40.796Z"
   },
   {
    "duration": 113,
    "start_time": "2023-03-30T09:24:40.801Z"
   },
   {
    "duration": 123,
    "start_time": "2023-03-30T09:24:40.916Z"
   },
   {
    "duration": 19,
    "start_time": "2023-03-30T09:24:41.040Z"
   },
   {
    "duration": 5,
    "start_time": "2023-03-30T09:24:41.063Z"
   },
   {
    "duration": 19,
    "start_time": "2023-03-30T09:24:41.070Z"
   },
   {
    "duration": 217,
    "start_time": "2023-03-30T09:25:28.938Z"
   },
   {
    "duration": 13178,
    "start_time": "2023-03-30T09:26:32.233Z"
   },
   {
    "duration": 5,
    "start_time": "2023-03-30T09:28:26.269Z"
   },
   {
    "duration": 81,
    "start_time": "2023-03-30T09:28:26.276Z"
   },
   {
    "duration": 12,
    "start_time": "2023-03-30T09:28:26.359Z"
   },
   {
    "duration": 27,
    "start_time": "2023-03-30T09:28:26.373Z"
   },
   {
    "duration": 8,
    "start_time": "2023-03-30T09:28:26.402Z"
   },
   {
    "duration": 478,
    "start_time": "2023-03-30T09:28:26.412Z"
   },
   {
    "duration": 4,
    "start_time": "2023-03-30T09:28:26.893Z"
   },
   {
    "duration": 25,
    "start_time": "2023-03-30T09:28:26.899Z"
   },
   {
    "duration": 15,
    "start_time": "2023-03-30T09:28:26.927Z"
   },
   {
    "duration": 14,
    "start_time": "2023-03-30T09:28:26.944Z"
   },
   {
    "duration": 12,
    "start_time": "2023-03-30T09:28:26.960Z"
   },
   {
    "duration": 135,
    "start_time": "2023-03-30T09:28:26.974Z"
   },
   {
    "duration": 17,
    "start_time": "2023-03-30T09:28:27.110Z"
   },
   {
    "duration": 303,
    "start_time": "2023-03-30T09:28:27.130Z"
   },
   {
    "duration": 1036,
    "start_time": "2023-03-30T09:28:27.435Z"
   },
   {
    "duration": 10669,
    "start_time": "2023-03-30T09:28:28.473Z"
   },
   {
    "duration": 137,
    "start_time": "2023-03-30T09:28:39.144Z"
   },
   {
    "duration": 31,
    "start_time": "2023-03-30T09:28:39.284Z"
   },
   {
    "duration": 400,
    "start_time": "2023-03-30T09:28:39.317Z"
   },
   {
    "duration": 267,
    "start_time": "2023-03-30T09:28:39.719Z"
   },
   {
    "duration": 448,
    "start_time": "2023-03-30T09:28:39.988Z"
   },
   {
    "duration": 681,
    "start_time": "2023-03-30T09:28:40.438Z"
   },
   {
    "duration": 288,
    "start_time": "2023-03-30T09:28:41.121Z"
   },
   {
    "duration": 1021,
    "start_time": "2023-03-30T09:28:41.413Z"
   },
   {
    "duration": 919,
    "start_time": "2023-03-30T09:28:42.436Z"
   },
   {
    "duration": 10580,
    "start_time": "2023-03-30T09:28:43.362Z"
   },
   {
    "duration": 247,
    "start_time": "2023-03-30T09:28:53.944Z"
   },
   {
    "duration": 12918,
    "start_time": "2023-03-30T09:28:54.193Z"
   },
   {
    "duration": 9,
    "start_time": "2023-03-30T09:29:07.114Z"
   },
   {
    "duration": 9,
    "start_time": "2023-03-30T09:29:07.125Z"
   },
   {
    "duration": 44,
    "start_time": "2023-03-30T09:29:07.136Z"
   },
   {
    "duration": 5,
    "start_time": "2023-03-30T09:41:08.997Z"
   },
   {
    "duration": 113,
    "start_time": "2023-03-30T09:41:09.004Z"
   },
   {
    "duration": 12,
    "start_time": "2023-03-30T09:41:09.119Z"
   },
   {
    "duration": 41,
    "start_time": "2023-03-30T09:41:09.134Z"
   },
   {
    "duration": 7,
    "start_time": "2023-03-30T09:41:09.178Z"
   },
   {
    "duration": 408,
    "start_time": "2023-03-30T09:41:09.187Z"
   },
   {
    "duration": 5,
    "start_time": "2023-03-30T09:41:09.597Z"
   },
   {
    "duration": 13,
    "start_time": "2023-03-30T09:41:09.603Z"
   },
   {
    "duration": 9,
    "start_time": "2023-03-30T09:41:09.619Z"
   },
   {
    "duration": 17,
    "start_time": "2023-03-30T09:41:09.630Z"
   },
   {
    "duration": 5,
    "start_time": "2023-03-30T09:41:09.649Z"
   },
   {
    "duration": 141,
    "start_time": "2023-03-30T09:41:09.655Z"
   },
   {
    "duration": 12,
    "start_time": "2023-03-30T09:41:09.798Z"
   },
   {
    "duration": 206,
    "start_time": "2023-03-30T09:41:09.812Z"
   },
   {
    "duration": 933,
    "start_time": "2023-03-30T09:41:10.020Z"
   },
   {
    "duration": 10060,
    "start_time": "2023-03-30T09:41:10.955Z"
   },
   {
    "duration": 109,
    "start_time": "2023-03-30T09:41:21.017Z"
   },
   {
    "duration": 19,
    "start_time": "2023-03-30T09:41:21.128Z"
   },
   {
    "duration": 16,
    "start_time": "2023-03-30T09:41:21.149Z"
   },
   {
    "duration": 21,
    "start_time": "2023-03-30T09:41:21.167Z"
   },
   {
    "duration": 18,
    "start_time": "2023-03-30T09:41:21.190Z"
   },
   {
    "duration": 19,
    "start_time": "2023-03-30T09:41:21.210Z"
   },
   {
    "duration": 18,
    "start_time": "2023-03-30T09:41:21.230Z"
   },
   {
    "duration": 2,
    "start_time": "2023-03-30T09:41:21.252Z"
   },
   {
    "duration": 114,
    "start_time": "2023-03-30T09:41:21.256Z"
   },
   {
    "duration": 10426,
    "start_time": "2023-03-30T09:41:21.372Z"
   },
   {
    "duration": 123,
    "start_time": "2023-03-30T09:41:31.799Z"
   },
   {
    "duration": 11886,
    "start_time": "2023-03-30T09:41:31.924Z"
   },
   {
    "duration": 9,
    "start_time": "2023-03-30T09:41:43.812Z"
   },
   {
    "duration": 4,
    "start_time": "2023-03-30T09:41:43.823Z"
   },
   {
    "duration": 47,
    "start_time": "2023-03-30T09:41:43.829Z"
   },
   {
    "duration": 20,
    "start_time": "2023-03-30T09:42:39.805Z"
   },
   {
    "duration": 4,
    "start_time": "2023-03-30T10:38:01.352Z"
   },
   {
    "duration": 86,
    "start_time": "2023-03-30T10:38:01.359Z"
   },
   {
    "duration": 13,
    "start_time": "2023-03-30T10:38:01.447Z"
   },
   {
    "duration": 39,
    "start_time": "2023-03-30T10:38:01.462Z"
   },
   {
    "duration": 6,
    "start_time": "2023-03-30T10:38:01.503Z"
   },
   {
    "duration": 451,
    "start_time": "2023-03-30T10:38:01.511Z"
   },
   {
    "duration": 8,
    "start_time": "2023-03-30T10:38:01.964Z"
   },
   {
    "duration": 17,
    "start_time": "2023-03-30T10:38:01.974Z"
   },
   {
    "duration": 31,
    "start_time": "2023-03-30T10:38:01.993Z"
   },
   {
    "duration": 22,
    "start_time": "2023-03-30T10:38:02.026Z"
   },
   {
    "duration": 11,
    "start_time": "2023-03-30T10:38:02.050Z"
   },
   {
    "duration": 125,
    "start_time": "2023-03-30T10:38:02.063Z"
   },
   {
    "duration": 13,
    "start_time": "2023-03-30T10:38:02.190Z"
   },
   {
    "duration": 207,
    "start_time": "2023-03-30T10:38:02.205Z"
   },
   {
    "duration": 1115,
    "start_time": "2023-03-30T10:38:02.414Z"
   },
   {
    "duration": 10821,
    "start_time": "2023-03-30T10:38:03.531Z"
   },
   {
    "duration": 134,
    "start_time": "2023-03-30T10:38:14.353Z"
   },
   {
    "duration": 21,
    "start_time": "2023-03-30T10:38:14.488Z"
   },
   {
    "duration": 5,
    "start_time": "2023-03-30T10:38:14.511Z"
   },
   {
    "duration": 11,
    "start_time": "2023-03-30T10:38:14.517Z"
   },
   {
    "duration": 8,
    "start_time": "2023-03-30T10:38:14.529Z"
   },
   {
    "duration": 23,
    "start_time": "2023-03-30T10:38:14.539Z"
   },
   {
    "duration": 98,
    "start_time": "2023-03-30T10:38:14.564Z"
   },
   {
    "duration": 10896,
    "start_time": "2023-03-30T10:38:14.664Z"
   },
   {
    "duration": 152,
    "start_time": "2023-03-30T10:38:25.563Z"
   },
   {
    "duration": 13083,
    "start_time": "2023-03-30T10:38:25.717Z"
   },
   {
    "duration": 7,
    "start_time": "2023-03-30T10:38:38.802Z"
   },
   {
    "duration": 4,
    "start_time": "2023-03-30T10:38:38.811Z"
   },
   {
    "duration": 21,
    "start_time": "2023-03-30T10:38:38.819Z"
   },
   {
    "duration": 251,
    "start_time": "2023-03-30T10:40:43.731Z"
   },
   {
    "duration": 124,
    "start_time": "2023-03-30T10:40:54.284Z"
   },
   {
    "duration": 97,
    "start_time": "2023-03-30T10:52:23.852Z"
   },
   {
    "duration": 133,
    "start_time": "2023-03-30T10:52:34.194Z"
   },
   {
    "duration": 128,
    "start_time": "2023-03-30T10:54:05.081Z"
   },
   {
    "duration": 106,
    "start_time": "2023-03-30T10:54:16.801Z"
   },
   {
    "duration": 108,
    "start_time": "2023-03-30T10:56:36.552Z"
   },
   {
    "duration": 116,
    "start_time": "2023-03-30T10:57:04.314Z"
   },
   {
    "duration": 126,
    "start_time": "2023-03-30T10:58:23.675Z"
   },
   {
    "duration": 146,
    "start_time": "2023-03-30T10:59:00.531Z"
   },
   {
    "duration": 120,
    "start_time": "2023-03-30T10:59:28.969Z"
   },
   {
    "duration": 4,
    "start_time": "2023-03-30T11:18:00.687Z"
   },
   {
    "duration": 70,
    "start_time": "2023-03-30T11:18:00.694Z"
   },
   {
    "duration": 12,
    "start_time": "2023-03-30T11:18:00.766Z"
   },
   {
    "duration": 47,
    "start_time": "2023-03-30T11:18:00.780Z"
   },
   {
    "duration": 18,
    "start_time": "2023-03-30T11:18:00.828Z"
   },
   {
    "duration": 408,
    "start_time": "2023-03-30T11:18:00.848Z"
   },
   {
    "duration": 5,
    "start_time": "2023-03-30T11:18:01.257Z"
   },
   {
    "duration": 37,
    "start_time": "2023-03-30T11:18:01.263Z"
   },
   {
    "duration": 27,
    "start_time": "2023-03-30T11:18:01.303Z"
   },
   {
    "duration": 33,
    "start_time": "2023-03-30T11:18:01.332Z"
   },
   {
    "duration": 45,
    "start_time": "2023-03-30T11:18:01.368Z"
   },
   {
    "duration": 164,
    "start_time": "2023-03-30T11:18:01.415Z"
   },
   {
    "duration": 13,
    "start_time": "2023-03-30T11:18:01.581Z"
   },
   {
    "duration": 249,
    "start_time": "2023-03-30T11:18:01.597Z"
   },
   {
    "duration": 885,
    "start_time": "2023-03-30T11:18:01.848Z"
   },
   {
    "duration": 9836,
    "start_time": "2023-03-30T11:18:02.734Z"
   },
   {
    "duration": 104,
    "start_time": "2023-03-30T11:18:12.572Z"
   },
   {
    "duration": 21,
    "start_time": "2023-03-30T11:18:12.678Z"
   },
   {
    "duration": 5,
    "start_time": "2023-03-30T11:18:12.700Z"
   },
   {
    "duration": 12,
    "start_time": "2023-03-30T11:18:12.706Z"
   },
   {
    "duration": 5,
    "start_time": "2023-03-30T11:18:12.719Z"
   },
   {
    "duration": 11,
    "start_time": "2023-03-30T11:18:12.725Z"
   },
   {
    "duration": 105,
    "start_time": "2023-03-30T11:18:12.738Z"
   },
   {
    "duration": 9942,
    "start_time": "2023-03-30T11:18:12.847Z"
   },
   {
    "duration": 117,
    "start_time": "2023-03-30T11:18:22.790Z"
   },
   {
    "duration": 12612,
    "start_time": "2023-03-30T11:18:22.908Z"
   },
   {
    "duration": 131,
    "start_time": "2023-03-30T11:18:35.522Z"
   },
   {
    "duration": 8,
    "start_time": "2023-03-30T11:18:35.655Z"
   },
   {
    "duration": 4,
    "start_time": "2023-03-30T11:18:35.664Z"
   },
   {
    "duration": 14,
    "start_time": "2023-03-30T11:18:35.669Z"
   },
   {
    "duration": 5,
    "start_time": "2023-03-30T11:23:23.043Z"
   },
   {
    "duration": 80,
    "start_time": "2023-03-30T11:23:23.050Z"
   },
   {
    "duration": 15,
    "start_time": "2023-03-30T11:23:23.133Z"
   },
   {
    "duration": 41,
    "start_time": "2023-03-30T11:23:23.150Z"
   },
   {
    "duration": 7,
    "start_time": "2023-03-30T11:23:23.194Z"
   },
   {
    "duration": 400,
    "start_time": "2023-03-30T11:23:23.203Z"
   },
   {
    "duration": 4,
    "start_time": "2023-03-30T11:23:23.605Z"
   },
   {
    "duration": 13,
    "start_time": "2023-03-30T11:23:23.611Z"
   },
   {
    "duration": 9,
    "start_time": "2023-03-30T11:23:23.626Z"
   },
   {
    "duration": 25,
    "start_time": "2023-03-30T11:23:23.637Z"
   },
   {
    "duration": 7,
    "start_time": "2023-03-30T11:23:23.665Z"
   },
   {
    "duration": 128,
    "start_time": "2023-03-30T11:23:23.673Z"
   },
   {
    "duration": 14,
    "start_time": "2023-03-30T11:23:23.803Z"
   },
   {
    "duration": 246,
    "start_time": "2023-03-30T11:23:23.819Z"
   },
   {
    "duration": 1013,
    "start_time": "2023-03-30T11:23:24.067Z"
   },
   {
    "duration": 10279,
    "start_time": "2023-03-30T11:23:25.083Z"
   },
   {
    "duration": 122,
    "start_time": "2023-03-30T11:23:35.363Z"
   },
   {
    "duration": 26,
    "start_time": "2023-03-30T11:23:35.486Z"
   },
   {
    "duration": 6,
    "start_time": "2023-03-30T11:23:35.514Z"
   },
   {
    "duration": 24,
    "start_time": "2023-03-30T11:23:35.522Z"
   },
   {
    "duration": 14,
    "start_time": "2023-03-30T11:23:35.548Z"
   },
   {
    "duration": 15,
    "start_time": "2023-03-30T11:23:35.564Z"
   },
   {
    "duration": 111,
    "start_time": "2023-03-30T11:23:35.582Z"
   },
   {
    "duration": 10160,
    "start_time": "2023-03-30T11:23:35.695Z"
   },
   {
    "duration": 130,
    "start_time": "2023-03-30T11:23:45.862Z"
   },
   {
    "duration": 12087,
    "start_time": "2023-03-30T11:23:45.995Z"
   },
   {
    "duration": 131,
    "start_time": "2023-03-30T11:23:58.084Z"
   },
   {
    "duration": 8,
    "start_time": "2023-03-30T11:23:58.217Z"
   },
   {
    "duration": 4,
    "start_time": "2023-03-30T11:23:58.228Z"
   },
   {
    "duration": 32,
    "start_time": "2023-03-30T11:23:58.234Z"
   },
   {
    "duration": 13,
    "start_time": "2023-03-30T11:30:32.876Z"
   },
   {
    "duration": 7,
    "start_time": "2023-03-30T11:30:42.372Z"
   },
   {
    "duration": 6,
    "start_time": "2023-03-30T11:35:09.698Z"
   },
   {
    "duration": 7,
    "start_time": "2023-03-30T11:36:26.146Z"
   },
   {
    "duration": 5,
    "start_time": "2023-03-30T11:36:26.554Z"
   },
   {
    "duration": 6,
    "start_time": "2023-03-30T11:37:47.507Z"
   },
   {
    "duration": 36358,
    "start_time": "2023-03-30T11:39:13.842Z"
   },
   {
    "duration": 135217,
    "start_time": "2023-03-30T11:40:30.123Z"
   },
   {
    "duration": 1001,
    "start_time": "2023-03-30T11:43:44.491Z"
   },
   {
    "duration": 95,
    "start_time": "2023-03-30T11:43:52.856Z"
   },
   {
    "duration": 4,
    "start_time": "2023-03-30T11:46:11.387Z"
   },
   {
    "duration": 15,
    "start_time": "2023-03-30T11:46:45.455Z"
   },
   {
    "duration": 6,
    "start_time": "2023-03-30T11:53:12.346Z"
   },
   {
    "duration": 75,
    "start_time": "2023-03-30T11:53:12.355Z"
   },
   {
    "duration": 16,
    "start_time": "2023-03-30T11:53:12.432Z"
   },
   {
    "duration": 28,
    "start_time": "2023-03-30T11:53:12.451Z"
   },
   {
    "duration": 25,
    "start_time": "2023-03-30T11:53:12.481Z"
   },
   {
    "duration": 424,
    "start_time": "2023-03-30T11:53:12.508Z"
   },
   {
    "duration": 6,
    "start_time": "2023-03-30T11:53:12.934Z"
   },
   {
    "duration": 27,
    "start_time": "2023-03-30T11:53:12.943Z"
   },
   {
    "duration": 20,
    "start_time": "2023-03-30T11:53:12.972Z"
   },
   {
    "duration": 33,
    "start_time": "2023-03-30T11:53:12.995Z"
   },
   {
    "duration": 37,
    "start_time": "2023-03-30T11:53:13.030Z"
   },
   {
    "duration": 129,
    "start_time": "2023-03-30T11:53:13.069Z"
   },
   {
    "duration": 12,
    "start_time": "2023-03-30T11:53:13.200Z"
   },
   {
    "duration": 235,
    "start_time": "2023-03-30T11:53:13.214Z"
   },
   {
    "duration": 1083,
    "start_time": "2023-03-30T11:53:13.450Z"
   },
   {
    "duration": 10330,
    "start_time": "2023-03-30T11:53:14.535Z"
   },
   {
    "duration": 129,
    "start_time": "2023-03-30T11:53:24.867Z"
   },
   {
    "duration": 40,
    "start_time": "2023-03-30T11:53:24.998Z"
   },
   {
    "duration": 61,
    "start_time": "2023-03-30T11:53:25.040Z"
   },
   {
    "duration": 77,
    "start_time": "2023-03-30T11:53:25.104Z"
   },
   {
    "duration": 20,
    "start_time": "2023-03-30T11:53:25.184Z"
   },
   {
    "duration": 21,
    "start_time": "2023-03-30T11:53:25.206Z"
   },
   {
    "duration": 113,
    "start_time": "2023-03-30T11:53:25.229Z"
   },
   {
    "duration": 10800,
    "start_time": "2023-03-30T11:53:25.344Z"
   },
   {
    "duration": 124,
    "start_time": "2023-03-30T11:53:36.146Z"
   },
   {
    "duration": 12482,
    "start_time": "2023-03-30T11:53:36.272Z"
   },
   {
    "duration": 139,
    "start_time": "2023-03-30T11:53:48.762Z"
   },
   {
    "duration": 8,
    "start_time": "2023-03-30T11:53:48.905Z"
   },
   {
    "duration": 5,
    "start_time": "2023-03-30T11:53:48.915Z"
   },
   {
    "duration": 19,
    "start_time": "2023-03-30T11:53:48.921Z"
   },
   {
    "duration": 8,
    "start_time": "2023-03-30T11:53:48.961Z"
   },
   {
    "duration": 15,
    "start_time": "2023-03-30T11:53:48.971Z"
   },
   {
    "duration": 9,
    "start_time": "2023-03-30T11:53:48.989Z"
   },
   {
    "duration": 58,
    "start_time": "2023-03-30T12:05:01.871Z"
   },
   {
    "duration": 77,
    "start_time": "2023-03-30T12:06:23.709Z"
   },
   {
    "duration": 13,
    "start_time": "2023-03-30T12:11:49.511Z"
   },
   {
    "duration": 10,
    "start_time": "2023-03-30T12:14:23.495Z"
   },
   {
    "duration": 68,
    "start_time": "2023-03-30T12:14:23.507Z"
   },
   {
    "duration": 16,
    "start_time": "2023-03-30T12:14:23.577Z"
   },
   {
    "duration": 39,
    "start_time": "2023-03-30T12:14:23.596Z"
   },
   {
    "duration": 10,
    "start_time": "2023-03-30T12:14:23.663Z"
   },
   {
    "duration": 464,
    "start_time": "2023-03-30T12:14:23.675Z"
   },
   {
    "duration": 6,
    "start_time": "2023-03-30T12:14:24.141Z"
   },
   {
    "duration": 16,
    "start_time": "2023-03-30T12:14:24.150Z"
   },
   {
    "duration": 16,
    "start_time": "2023-03-30T12:14:24.169Z"
   },
   {
    "duration": 14,
    "start_time": "2023-03-30T12:14:24.189Z"
   },
   {
    "duration": 6,
    "start_time": "2023-03-30T12:14:24.206Z"
   },
   {
    "duration": 208,
    "start_time": "2023-03-30T12:14:24.215Z"
   },
   {
    "duration": 21,
    "start_time": "2023-03-30T12:14:24.425Z"
   },
   {
    "duration": 272,
    "start_time": "2023-03-30T12:14:24.463Z"
   },
   {
    "duration": 1075,
    "start_time": "2023-03-30T12:14:24.737Z"
   },
   {
    "duration": 10980,
    "start_time": "2023-03-30T12:14:25.814Z"
   },
   {
    "duration": 117,
    "start_time": "2023-03-30T12:14:36.795Z"
   },
   {
    "duration": 26,
    "start_time": "2023-03-30T12:14:36.915Z"
   },
   {
    "duration": 19,
    "start_time": "2023-03-30T12:14:36.945Z"
   },
   {
    "duration": 9,
    "start_time": "2023-03-30T12:14:36.966Z"
   },
   {
    "duration": 15,
    "start_time": "2023-03-30T12:14:36.977Z"
   },
   {
    "duration": 2,
    "start_time": "2023-03-30T12:14:36.995Z"
   },
   {
    "duration": 75,
    "start_time": "2023-03-30T12:14:37.000Z"
   },
   {
    "duration": 11403,
    "start_time": "2023-03-30T12:14:37.077Z"
   },
   {
    "duration": 161,
    "start_time": "2023-03-30T12:14:48.483Z"
   },
   {
    "duration": 15187,
    "start_time": "2023-03-30T12:14:48.646Z"
   },
   {
    "duration": 84,
    "start_time": "2023-03-30T12:15:03.835Z"
   },
   {
    "duration": 10,
    "start_time": "2023-03-30T12:15:03.923Z"
   },
   {
    "duration": 3,
    "start_time": "2023-03-30T12:15:03.936Z"
   },
   {
    "duration": 14,
    "start_time": "2023-03-30T12:15:03.956Z"
   },
   {
    "duration": 11,
    "start_time": "2023-03-30T12:15:03.972Z"
   },
   {
    "duration": 11,
    "start_time": "2023-03-30T12:15:03.988Z"
   },
   {
    "duration": 11,
    "start_time": "2023-03-30T12:15:04.002Z"
   },
   {
    "duration": 99,
    "start_time": "2023-03-30T12:19:55.957Z"
   },
   {
    "duration": 146,
    "start_time": "2023-03-30T12:21:10.413Z"
   },
   {
    "duration": 13,
    "start_time": "2023-03-30T12:28:54.538Z"
   },
   {
    "duration": 6,
    "start_time": "2023-03-30T12:29:00.455Z"
   },
   {
    "duration": 82,
    "start_time": "2023-03-30T12:29:00.462Z"
   },
   {
    "duration": 12,
    "start_time": "2023-03-30T12:29:00.545Z"
   },
   {
    "duration": 44,
    "start_time": "2023-03-30T12:29:00.559Z"
   },
   {
    "duration": 9,
    "start_time": "2023-03-30T12:29:00.606Z"
   },
   {
    "duration": 576,
    "start_time": "2023-03-30T12:29:00.617Z"
   },
   {
    "duration": 5,
    "start_time": "2023-03-30T12:29:01.195Z"
   },
   {
    "duration": 23,
    "start_time": "2023-03-30T12:29:01.202Z"
   },
   {
    "duration": 22,
    "start_time": "2023-03-30T12:29:01.228Z"
   },
   {
    "duration": 19,
    "start_time": "2023-03-30T12:29:01.252Z"
   },
   {
    "duration": 60,
    "start_time": "2023-03-30T12:29:01.273Z"
   },
   {
    "duration": 182,
    "start_time": "2023-03-30T12:29:01.335Z"
   },
   {
    "duration": 13,
    "start_time": "2023-03-30T12:29:01.519Z"
   },
   {
    "duration": 217,
    "start_time": "2023-03-30T12:29:01.534Z"
   },
   {
    "duration": 990,
    "start_time": "2023-03-30T12:29:01.753Z"
   },
   {
    "duration": 10272,
    "start_time": "2023-03-30T12:29:02.745Z"
   },
   {
    "duration": 108,
    "start_time": "2023-03-30T12:29:13.019Z"
   },
   {
    "duration": 43,
    "start_time": "2023-03-30T12:29:13.130Z"
   },
   {
    "duration": 5,
    "start_time": "2023-03-30T12:29:13.175Z"
   },
   {
    "duration": 30,
    "start_time": "2023-03-30T12:29:13.181Z"
   },
   {
    "duration": 9,
    "start_time": "2023-03-30T12:29:13.213Z"
   },
   {
    "duration": 15,
    "start_time": "2023-03-30T12:29:13.225Z"
   },
   {
    "duration": 101,
    "start_time": "2023-03-30T12:29:13.242Z"
   },
   {
    "duration": 10266,
    "start_time": "2023-03-30T12:29:13.347Z"
   },
   {
    "duration": 129,
    "start_time": "2023-03-30T12:29:23.615Z"
   },
   {
    "duration": 12705,
    "start_time": "2023-03-30T12:29:23.747Z"
   },
   {
    "duration": 142,
    "start_time": "2023-03-30T12:29:36.454Z"
   },
   {
    "duration": 7,
    "start_time": "2023-03-30T12:29:36.598Z"
   },
   {
    "duration": 4,
    "start_time": "2023-03-30T12:29:36.607Z"
   },
   {
    "duration": 13,
    "start_time": "2023-03-30T12:29:36.612Z"
   },
   {
    "duration": 7,
    "start_time": "2023-03-30T12:29:36.626Z"
   },
   {
    "duration": 6,
    "start_time": "2023-03-30T12:29:36.662Z"
   },
   {
    "duration": 6,
    "start_time": "2023-03-30T12:29:36.670Z"
   },
   {
    "duration": 7,
    "start_time": "2023-03-30T12:29:36.678Z"
   },
   {
    "duration": 7,
    "start_time": "2023-03-30T12:31:30.304Z"
   },
   {
    "duration": 1582,
    "start_time": "2023-03-30T12:34:34.931Z"
   },
   {
    "duration": 62,
    "start_time": "2023-03-30T12:34:36.515Z"
   },
   {
    "duration": 13,
    "start_time": "2023-03-30T12:34:36.579Z"
   },
   {
    "duration": 34,
    "start_time": "2023-03-30T12:34:36.594Z"
   },
   {
    "duration": 9,
    "start_time": "2023-03-30T12:34:36.631Z"
   },
   {
    "duration": 459,
    "start_time": "2023-03-30T12:34:36.642Z"
   },
   {
    "duration": 5,
    "start_time": "2023-03-30T12:34:37.103Z"
   },
   {
    "duration": 14,
    "start_time": "2023-03-30T12:34:37.110Z"
   },
   {
    "duration": 7,
    "start_time": "2023-03-30T12:34:37.125Z"
   },
   {
    "duration": 5,
    "start_time": "2023-03-30T12:34:37.135Z"
   },
   {
    "duration": 6,
    "start_time": "2023-03-30T12:34:37.162Z"
   },
   {
    "duration": 164,
    "start_time": "2023-03-30T12:34:37.170Z"
   },
   {
    "duration": 27,
    "start_time": "2023-03-30T12:34:37.336Z"
   },
   {
    "duration": 210,
    "start_time": "2023-03-30T12:34:37.364Z"
   },
   {
    "duration": 970,
    "start_time": "2023-03-30T12:34:37.576Z"
   },
   {
    "duration": 10117,
    "start_time": "2023-03-30T12:34:38.547Z"
   },
   {
    "duration": 111,
    "start_time": "2023-03-30T12:34:48.666Z"
   },
   {
    "duration": 22,
    "start_time": "2023-03-30T12:34:48.779Z"
   },
   {
    "duration": 6,
    "start_time": "2023-03-30T12:34:48.803Z"
   },
   {
    "duration": 8,
    "start_time": "2023-03-30T12:34:48.810Z"
   },
   {
    "duration": 4,
    "start_time": "2023-03-30T12:34:48.820Z"
   },
   {
    "duration": 4,
    "start_time": "2023-03-30T12:34:48.825Z"
   },
   {
    "duration": 105,
    "start_time": "2023-03-30T12:34:48.863Z"
   },
   {
    "duration": 10453,
    "start_time": "2023-03-30T12:34:48.970Z"
   },
   {
    "duration": 122,
    "start_time": "2023-03-30T12:34:59.425Z"
   },
   {
    "duration": 12201,
    "start_time": "2023-03-30T12:34:59.549Z"
   },
   {
    "duration": 134,
    "start_time": "2023-03-30T12:35:11.752Z"
   },
   {
    "duration": 35,
    "start_time": "2023-03-30T12:35:11.889Z"
   },
   {
    "duration": 4,
    "start_time": "2023-03-30T12:35:11.927Z"
   },
   {
    "duration": 13,
    "start_time": "2023-03-30T12:35:11.933Z"
   },
   {
    "duration": 15,
    "start_time": "2023-03-30T12:35:11.948Z"
   },
   {
    "duration": 14,
    "start_time": "2023-03-30T12:35:11.965Z"
   },
   {
    "duration": 20,
    "start_time": "2023-03-30T12:35:11.980Z"
   },
   {
    "duration": 6,
    "start_time": "2023-03-30T12:35:12.002Z"
   },
   {
    "duration": 1677,
    "start_time": "2023-03-30T12:35:52.392Z"
   },
   {
    "duration": 72,
    "start_time": "2023-03-30T12:35:54.073Z"
   },
   {
    "duration": 17,
    "start_time": "2023-03-30T12:35:54.147Z"
   },
   {
    "duration": 28,
    "start_time": "2023-03-30T12:35:54.167Z"
   },
   {
    "duration": 8,
    "start_time": "2023-03-30T12:35:54.197Z"
   },
   {
    "duration": 485,
    "start_time": "2023-03-30T12:35:54.207Z"
   },
   {
    "duration": 4,
    "start_time": "2023-03-30T12:35:54.694Z"
   },
   {
    "duration": 11,
    "start_time": "2023-03-30T12:35:54.700Z"
   },
   {
    "duration": 21,
    "start_time": "2023-03-30T12:35:54.713Z"
   },
   {
    "duration": 8,
    "start_time": "2023-03-30T12:35:54.738Z"
   },
   {
    "duration": 17,
    "start_time": "2023-03-30T12:35:54.749Z"
   },
   {
    "duration": 164,
    "start_time": "2023-03-30T12:35:54.768Z"
   },
   {
    "duration": 32,
    "start_time": "2023-03-30T12:35:54.934Z"
   },
   {
    "duration": 263,
    "start_time": "2023-03-30T12:35:54.968Z"
   },
   {
    "duration": 1053,
    "start_time": "2023-03-30T12:35:55.233Z"
   },
   {
    "duration": 10467,
    "start_time": "2023-03-30T12:35:56.288Z"
   },
   {
    "duration": 133,
    "start_time": "2023-03-30T12:36:06.762Z"
   },
   {
    "duration": 28,
    "start_time": "2023-03-30T12:36:06.897Z"
   },
   {
    "duration": 4,
    "start_time": "2023-03-30T12:36:06.928Z"
   },
   {
    "duration": 8,
    "start_time": "2023-03-30T12:36:06.934Z"
   },
   {
    "duration": 6,
    "start_time": "2023-03-30T12:36:06.962Z"
   },
   {
    "duration": 4,
    "start_time": "2023-03-30T12:36:06.970Z"
   },
   {
    "duration": 135,
    "start_time": "2023-03-30T12:36:06.976Z"
   },
   {
    "duration": 11964,
    "start_time": "2023-03-30T12:36:07.114Z"
   },
   {
    "duration": 120,
    "start_time": "2023-03-30T12:36:19.080Z"
   },
   {
    "duration": 12476,
    "start_time": "2023-03-30T12:36:19.202Z"
   },
   {
    "duration": 172,
    "start_time": "2023-03-30T12:36:31.680Z"
   },
   {
    "duration": 10,
    "start_time": "2023-03-30T12:36:31.861Z"
   },
   {
    "duration": 20,
    "start_time": "2023-03-30T12:36:31.873Z"
   },
   {
    "duration": 50,
    "start_time": "2023-03-30T12:36:31.895Z"
   },
   {
    "duration": 14,
    "start_time": "2023-03-30T12:36:31.947Z"
   },
   {
    "duration": 18,
    "start_time": "2023-03-30T12:36:31.963Z"
   },
   {
    "duration": 42,
    "start_time": "2023-03-30T12:36:31.983Z"
   },
   {
    "duration": 19,
    "start_time": "2023-03-30T12:36:32.027Z"
   },
   {
    "duration": 1666,
    "start_time": "2023-03-30T12:45:54.444Z"
   },
   {
    "duration": 64,
    "start_time": "2023-03-30T12:45:56.112Z"
   },
   {
    "duration": 13,
    "start_time": "2023-03-30T12:45:56.178Z"
   },
   {
    "duration": 44,
    "start_time": "2023-03-30T12:45:56.195Z"
   },
   {
    "duration": 22,
    "start_time": "2023-03-30T12:45:56.242Z"
   },
   {
    "duration": 413,
    "start_time": "2023-03-30T12:45:56.267Z"
   },
   {
    "duration": 5,
    "start_time": "2023-03-30T12:45:56.681Z"
   },
   {
    "duration": 6,
    "start_time": "2023-03-30T12:45:56.688Z"
   },
   {
    "duration": 7,
    "start_time": "2023-03-30T12:45:56.695Z"
   },
   {
    "duration": 6,
    "start_time": "2023-03-30T12:45:56.705Z"
   },
   {
    "duration": 4,
    "start_time": "2023-03-30T12:45:56.713Z"
   },
   {
    "duration": 165,
    "start_time": "2023-03-30T12:45:56.719Z"
   },
   {
    "duration": 13,
    "start_time": "2023-03-30T12:45:56.886Z"
   },
   {
    "duration": 220,
    "start_time": "2023-03-30T12:45:56.900Z"
   },
   {
    "duration": 1040,
    "start_time": "2023-03-30T12:45:57.122Z"
   },
   {
    "duration": 10520,
    "start_time": "2023-03-30T12:45:58.164Z"
   },
   {
    "duration": 149,
    "start_time": "2023-03-30T12:46:08.687Z"
   },
   {
    "duration": 38,
    "start_time": "2023-03-30T12:46:08.838Z"
   },
   {
    "duration": 7,
    "start_time": "2023-03-30T12:46:08.879Z"
   },
   {
    "duration": 11,
    "start_time": "2023-03-30T12:46:08.888Z"
   },
   {
    "duration": 14,
    "start_time": "2023-03-30T12:46:08.901Z"
   },
   {
    "duration": 15,
    "start_time": "2023-03-30T12:46:08.917Z"
   },
   {
    "duration": 152,
    "start_time": "2023-03-30T12:46:08.935Z"
   },
   {
    "duration": 11600,
    "start_time": "2023-03-30T12:46:09.089Z"
   },
   {
    "duration": 130,
    "start_time": "2023-03-30T12:46:20.691Z"
   },
   {
    "duration": 17178,
    "start_time": "2023-03-30T12:46:20.823Z"
   },
   {
    "duration": 159,
    "start_time": "2023-03-30T12:46:38.003Z"
   },
   {
    "duration": 16,
    "start_time": "2023-03-30T12:46:38.167Z"
   },
   {
    "duration": 4,
    "start_time": "2023-03-30T12:46:38.185Z"
   },
   {
    "duration": 17,
    "start_time": "2023-03-30T12:46:38.191Z"
   },
   {
    "duration": 12,
    "start_time": "2023-03-30T12:46:38.211Z"
   },
   {
    "duration": 38,
    "start_time": "2023-03-30T12:46:38.226Z"
   },
   {
    "duration": 12,
    "start_time": "2023-03-30T12:46:38.267Z"
   },
   {
    "duration": 9,
    "start_time": "2023-03-30T12:46:38.282Z"
   },
   {
    "duration": 1084,
    "start_time": "2023-03-30T12:50:36.739Z"
   },
   {
    "duration": 1670,
    "start_time": "2023-03-30T12:50:57.805Z"
   },
   {
    "duration": 66,
    "start_time": "2023-03-30T12:50:59.478Z"
   },
   {
    "duration": 18,
    "start_time": "2023-03-30T12:50:59.546Z"
   },
   {
    "duration": 33,
    "start_time": "2023-03-30T12:50:59.567Z"
   },
   {
    "duration": 9,
    "start_time": "2023-03-30T12:50:59.602Z"
   },
   {
    "duration": 584,
    "start_time": "2023-03-30T12:50:59.613Z"
   },
   {
    "duration": 6,
    "start_time": "2023-03-30T12:51:00.198Z"
   },
   {
    "duration": 47,
    "start_time": "2023-03-30T12:51:00.206Z"
   },
   {
    "duration": 53,
    "start_time": "2023-03-30T12:51:00.256Z"
   },
   {
    "duration": 35,
    "start_time": "2023-03-30T12:51:00.313Z"
   },
   {
    "duration": 36,
    "start_time": "2023-03-30T12:51:00.350Z"
   },
   {
    "duration": 246,
    "start_time": "2023-03-30T12:51:00.388Z"
   },
   {
    "duration": 25,
    "start_time": "2023-03-30T12:51:00.637Z"
   },
   {
    "duration": 216,
    "start_time": "2023-03-30T12:51:00.664Z"
   },
   {
    "duration": 1188,
    "start_time": "2023-03-30T12:51:00.882Z"
   },
   {
    "duration": 11626,
    "start_time": "2023-03-30T12:51:02.072Z"
   },
   {
    "duration": 109,
    "start_time": "2023-03-30T12:51:13.700Z"
   },
   {
    "duration": 29,
    "start_time": "2023-03-30T12:51:13.811Z"
   },
   {
    "duration": 5,
    "start_time": "2023-03-30T12:51:13.842Z"
   },
   {
    "duration": 7,
    "start_time": "2023-03-30T12:51:13.863Z"
   },
   {
    "duration": 4,
    "start_time": "2023-03-30T12:51:13.872Z"
   },
   {
    "duration": 10,
    "start_time": "2023-03-30T12:51:13.877Z"
   },
   {
    "duration": 157,
    "start_time": "2023-03-30T12:51:13.889Z"
   },
   {
    "duration": 10916,
    "start_time": "2023-03-30T12:51:14.049Z"
   },
   {
    "duration": 166,
    "start_time": "2023-03-30T12:51:24.967Z"
   },
   {
    "duration": 12490,
    "start_time": "2023-03-30T12:51:25.134Z"
   },
   {
    "duration": 138,
    "start_time": "2023-03-30T12:51:37.626Z"
   },
   {
    "duration": 10,
    "start_time": "2023-03-30T12:51:37.768Z"
   },
   {
    "duration": 4,
    "start_time": "2023-03-30T12:51:37.781Z"
   },
   {
    "duration": 12,
    "start_time": "2023-03-30T12:51:37.787Z"
   },
   {
    "duration": 7,
    "start_time": "2023-03-30T12:51:37.801Z"
   },
   {
    "duration": 11,
    "start_time": "2023-03-30T12:51:37.810Z"
   },
   {
    "duration": 40,
    "start_time": "2023-03-30T12:51:37.823Z"
   },
   {
    "duration": 8,
    "start_time": "2023-03-30T12:51:37.865Z"
   },
   {
    "duration": 45,
    "start_time": "2023-03-30T14:36:35.984Z"
   },
   {
    "duration": 6,
    "start_time": "2023-03-30T14:37:24.081Z"
   },
   {
    "duration": 2861,
    "start_time": "2023-03-30T14:37:36.131Z"
   },
   {
    "duration": 88,
    "start_time": "2023-03-30T14:37:38.994Z"
   },
   {
    "duration": 17,
    "start_time": "2023-03-30T14:37:39.084Z"
   },
   {
    "duration": 27,
    "start_time": "2023-03-30T14:37:39.104Z"
   },
   {
    "duration": 6,
    "start_time": "2023-03-30T14:37:39.133Z"
   },
   {
    "duration": 462,
    "start_time": "2023-03-30T14:37:39.141Z"
   },
   {
    "duration": 4,
    "start_time": "2023-03-30T14:37:39.605Z"
   },
   {
    "duration": 8,
    "start_time": "2023-03-30T14:37:39.611Z"
   },
   {
    "duration": 8,
    "start_time": "2023-03-30T14:37:39.620Z"
   },
   {
    "duration": 6,
    "start_time": "2023-03-30T14:37:39.633Z"
   },
   {
    "duration": 5,
    "start_time": "2023-03-30T14:37:39.641Z"
   },
   {
    "duration": 151,
    "start_time": "2023-03-30T14:37:39.672Z"
   },
   {
    "duration": 18,
    "start_time": "2023-03-30T14:37:39.825Z"
   },
   {
    "duration": 224,
    "start_time": "2023-03-30T14:37:39.845Z"
   },
   {
    "duration": 1087,
    "start_time": "2023-03-30T14:37:40.072Z"
   },
   {
    "duration": 9888,
    "start_time": "2023-03-30T14:37:41.161Z"
   },
   {
    "duration": 5,
    "start_time": "2023-03-30T14:37:51.051Z"
   },
   {
    "duration": 103,
    "start_time": "2023-03-30T14:37:51.069Z"
   },
   {
    "duration": 26,
    "start_time": "2023-03-30T14:37:51.174Z"
   },
   {
    "duration": 19,
    "start_time": "2023-03-30T14:37:51.202Z"
   },
   {
    "duration": 17,
    "start_time": "2023-03-30T14:37:51.223Z"
   },
   {
    "duration": 4,
    "start_time": "2023-03-30T14:37:51.242Z"
   },
   {
    "duration": 6,
    "start_time": "2023-03-30T14:37:51.248Z"
   },
   {
    "duration": 106,
    "start_time": "2023-03-30T14:37:51.257Z"
   },
   {
    "duration": 9297,
    "start_time": "2023-03-30T14:37:51.364Z"
   },
   {
    "duration": 108,
    "start_time": "2023-03-30T14:38:00.663Z"
   },
   {
    "duration": 11063,
    "start_time": "2023-03-30T14:38:00.773Z"
   },
   {
    "duration": 113,
    "start_time": "2023-03-30T14:38:11.840Z"
   },
   {
    "duration": 18,
    "start_time": "2023-03-30T14:38:11.955Z"
   },
   {
    "duration": 22,
    "start_time": "2023-03-30T14:38:11.975Z"
   },
   {
    "duration": 43,
    "start_time": "2023-03-30T14:38:11.998Z"
   },
   {
    "duration": 7,
    "start_time": "2023-03-30T14:38:12.051Z"
   },
   {
    "duration": 23,
    "start_time": "2023-03-30T14:38:12.060Z"
   },
   {
    "duration": 11,
    "start_time": "2023-03-30T14:38:12.085Z"
   },
   {
    "duration": 10,
    "start_time": "2023-03-30T14:38:12.097Z"
   },
   {
    "duration": 1716,
    "start_time": "2023-03-30T15:46:35.310Z"
   },
   {
    "duration": 184,
    "start_time": "2023-03-30T15:46:37.028Z"
   },
   {
    "duration": 12,
    "start_time": "2023-03-30T15:46:37.214Z"
   },
   {
    "duration": 35,
    "start_time": "2023-03-30T15:46:37.228Z"
   },
   {
    "duration": 5,
    "start_time": "2023-03-30T15:46:37.265Z"
   },
   {
    "duration": 427,
    "start_time": "2023-03-30T15:46:37.272Z"
   },
   {
    "duration": 5,
    "start_time": "2023-03-30T15:46:37.700Z"
   },
   {
    "duration": 48,
    "start_time": "2023-03-30T15:46:37.706Z"
   },
   {
    "duration": 26,
    "start_time": "2023-03-30T15:46:37.756Z"
   },
   {
    "duration": 34,
    "start_time": "2023-03-30T15:46:37.785Z"
   },
   {
    "duration": 26,
    "start_time": "2023-03-30T15:46:37.821Z"
   },
   {
    "duration": 127,
    "start_time": "2023-03-30T15:46:37.848Z"
   },
   {
    "duration": 11,
    "start_time": "2023-03-30T15:46:37.977Z"
   },
   {
    "duration": 200,
    "start_time": "2023-03-30T15:46:37.989Z"
   },
   {
    "duration": 892,
    "start_time": "2023-03-30T15:46:38.191Z"
   },
   {
    "duration": 9465,
    "start_time": "2023-03-30T15:46:39.085Z"
   },
   {
    "duration": 97,
    "start_time": "2023-03-30T15:46:48.552Z"
   },
   {
    "duration": 19,
    "start_time": "2023-03-30T15:46:48.651Z"
   },
   {
    "duration": 4,
    "start_time": "2023-03-30T15:46:48.671Z"
   },
   {
    "duration": 7,
    "start_time": "2023-03-30T15:46:48.677Z"
   },
   {
    "duration": 3,
    "start_time": "2023-03-30T15:46:48.686Z"
   },
   {
    "duration": 6,
    "start_time": "2023-03-30T15:46:48.690Z"
   },
   {
    "duration": 106,
    "start_time": "2023-03-30T15:46:48.698Z"
   },
   {
    "duration": 110,
    "start_time": "2023-03-30T15:46:48.806Z"
   },
   {
    "duration": 124,
    "start_time": "2023-03-30T15:46:48.918Z"
   },
   {
    "duration": 8,
    "start_time": "2023-03-30T15:46:49.044Z"
   },
   {
    "duration": 5,
    "start_time": "2023-03-30T15:46:49.054Z"
   },
   {
    "duration": 11,
    "start_time": "2023-03-30T15:46:49.062Z"
   },
   {
    "duration": 6,
    "start_time": "2023-03-30T15:46:49.074Z"
   },
   {
    "duration": 9,
    "start_time": "2023-03-30T15:46:49.082Z"
   },
   {
    "duration": 10,
    "start_time": "2023-03-30T15:46:49.093Z"
   },
   {
    "duration": 8,
    "start_time": "2023-03-30T15:46:49.105Z"
   },
   {
    "duration": 128,
    "start_time": "2023-03-30T15:50:11.142Z"
   },
   {
    "duration": 12,
    "start_time": "2023-03-30T15:50:34.785Z"
   },
   {
    "duration": 11,
    "start_time": "2023-03-30T15:51:46.368Z"
   },
   {
    "duration": 89,
    "start_time": "2023-03-30T15:51:52.615Z"
   },
   {
    "duration": 14,
    "start_time": "2023-03-30T15:52:12.840Z"
   },
   {
    "duration": 12,
    "start_time": "2023-03-30T15:52:32.569Z"
   },
   {
    "duration": 153,
    "start_time": "2023-03-30T15:53:27.432Z"
   },
   {
    "duration": 10,
    "start_time": "2023-03-30T15:55:17.471Z"
   },
   {
    "duration": 5,
    "start_time": "2023-03-30T15:57:08.050Z"
   },
   {
    "duration": 85,
    "start_time": "2023-03-30T15:57:08.057Z"
   },
   {
    "duration": 11,
    "start_time": "2023-03-30T15:57:08.144Z"
   },
   {
    "duration": 26,
    "start_time": "2023-03-30T15:57:08.156Z"
   },
   {
    "duration": 6,
    "start_time": "2023-03-30T15:57:08.184Z"
   },
   {
    "duration": 420,
    "start_time": "2023-03-30T15:57:08.192Z"
   },
   {
    "duration": 4,
    "start_time": "2023-03-30T15:57:08.614Z"
   },
   {
    "duration": 11,
    "start_time": "2023-03-30T15:57:08.620Z"
   },
   {
    "duration": 19,
    "start_time": "2023-03-30T15:57:08.632Z"
   },
   {
    "duration": 5,
    "start_time": "2023-03-30T15:57:08.652Z"
   },
   {
    "duration": 16,
    "start_time": "2023-03-30T15:57:08.660Z"
   },
   {
    "duration": 110,
    "start_time": "2023-03-30T15:57:08.678Z"
   },
   {
    "duration": 12,
    "start_time": "2023-03-30T15:57:08.789Z"
   },
   {
    "duration": 190,
    "start_time": "2023-03-30T15:57:08.803Z"
   },
   {
    "duration": 883,
    "start_time": "2023-03-30T15:57:08.994Z"
   },
   {
    "duration": 9280,
    "start_time": "2023-03-30T15:57:09.879Z"
   },
   {
    "duration": 105,
    "start_time": "2023-03-30T15:57:19.160Z"
   },
   {
    "duration": 19,
    "start_time": "2023-03-30T15:57:19.266Z"
   },
   {
    "duration": 4,
    "start_time": "2023-03-30T15:57:19.286Z"
   },
   {
    "duration": 19,
    "start_time": "2023-03-30T15:57:19.292Z"
   },
   {
    "duration": 9,
    "start_time": "2023-03-30T15:57:19.313Z"
   },
   {
    "duration": 29,
    "start_time": "2023-03-30T15:57:19.324Z"
   },
   {
    "duration": 110,
    "start_time": "2023-03-30T15:57:19.355Z"
   },
   {
    "duration": 109,
    "start_time": "2023-03-30T15:57:19.467Z"
   },
   {
    "duration": 122,
    "start_time": "2023-03-30T15:57:19.578Z"
   },
   {
    "duration": 12,
    "start_time": "2023-03-30T15:57:19.702Z"
   },
   {
    "duration": 0,
    "start_time": "2023-03-30T15:57:19.716Z"
   },
   {
    "duration": 0,
    "start_time": "2023-03-30T15:57:19.718Z"
   },
   {
    "duration": 0,
    "start_time": "2023-03-30T15:57:19.719Z"
   },
   {
    "duration": 0,
    "start_time": "2023-03-30T15:57:19.720Z"
   },
   {
    "duration": 0,
    "start_time": "2023-03-30T15:57:19.745Z"
   },
   {
    "duration": 0,
    "start_time": "2023-03-30T15:57:19.746Z"
   },
   {
    "duration": 0,
    "start_time": "2023-03-30T15:57:19.747Z"
   },
   {
    "duration": 12,
    "start_time": "2023-03-30T15:58:37.127Z"
   },
   {
    "duration": 145,
    "start_time": "2023-03-30T15:59:16.025Z"
   },
   {
    "duration": 118,
    "start_time": "2023-03-30T15:59:31.511Z"
   },
   {
    "duration": 142,
    "start_time": "2023-03-30T15:59:50.110Z"
   },
   {
    "duration": 143,
    "start_time": "2023-03-30T16:00:16.293Z"
   },
   {
    "duration": 154,
    "start_time": "2023-03-30T16:00:26.781Z"
   },
   {
    "duration": 9,
    "start_time": "2023-03-30T16:01:53.749Z"
   },
   {
    "duration": 5,
    "start_time": "2023-03-30T16:02:54.664Z"
   },
   {
    "duration": 156,
    "start_time": "2023-03-30T16:02:54.671Z"
   },
   {
    "duration": 11,
    "start_time": "2023-03-30T16:02:54.828Z"
   },
   {
    "duration": 147,
    "start_time": "2023-03-30T16:02:54.841Z"
   },
   {
    "duration": 6,
    "start_time": "2023-03-30T16:02:54.990Z"
   },
   {
    "duration": 412,
    "start_time": "2023-03-30T16:02:54.997Z"
   },
   {
    "duration": 4,
    "start_time": "2023-03-30T16:02:55.410Z"
   },
   {
    "duration": 31,
    "start_time": "2023-03-30T16:02:55.415Z"
   },
   {
    "duration": 19,
    "start_time": "2023-03-30T16:02:55.449Z"
   },
   {
    "duration": 18,
    "start_time": "2023-03-30T16:02:55.469Z"
   },
   {
    "duration": 88,
    "start_time": "2023-03-30T16:02:55.488Z"
   },
   {
    "duration": 147,
    "start_time": "2023-03-30T16:02:55.578Z"
   },
   {
    "duration": 19,
    "start_time": "2023-03-30T16:02:55.727Z"
   },
   {
    "duration": 196,
    "start_time": "2023-03-30T16:02:55.747Z"
   },
   {
    "duration": 1011,
    "start_time": "2023-03-30T16:02:55.945Z"
   },
   {
    "duration": 9498,
    "start_time": "2023-03-30T16:02:56.958Z"
   },
   {
    "duration": 104,
    "start_time": "2023-03-30T16:03:06.458Z"
   },
   {
    "duration": 20,
    "start_time": "2023-03-30T16:03:06.564Z"
   },
   {
    "duration": 5,
    "start_time": "2023-03-30T16:03:06.587Z"
   },
   {
    "duration": 12,
    "start_time": "2023-03-30T16:03:06.594Z"
   },
   {
    "duration": 16,
    "start_time": "2023-03-30T16:03:06.608Z"
   },
   {
    "duration": 15,
    "start_time": "2023-03-30T16:03:06.626Z"
   },
   {
    "duration": 112,
    "start_time": "2023-03-30T16:03:06.643Z"
   },
   {
    "duration": 112,
    "start_time": "2023-03-30T16:03:06.760Z"
   },
   {
    "duration": 121,
    "start_time": "2023-03-30T16:03:06.874Z"
   },
   {
    "duration": 155,
    "start_time": "2023-03-30T16:03:06.997Z"
   },
   {
    "duration": 9,
    "start_time": "2023-03-30T16:03:07.155Z"
   },
   {
    "duration": 0,
    "start_time": "2023-03-30T16:03:07.166Z"
   },
   {
    "duration": 0,
    "start_time": "2023-03-30T16:03:07.167Z"
   },
   {
    "duration": 0,
    "start_time": "2023-03-30T16:03:07.168Z"
   },
   {
    "duration": 0,
    "start_time": "2023-03-30T16:03:07.171Z"
   },
   {
    "duration": 0,
    "start_time": "2023-03-30T16:03:07.172Z"
   },
   {
    "duration": 0,
    "start_time": "2023-03-30T16:03:07.173Z"
   },
   {
    "duration": 0,
    "start_time": "2023-03-30T16:03:07.174Z"
   },
   {
    "duration": 1505,
    "start_time": "2023-03-30T16:11:21.671Z"
   },
   {
    "duration": 90,
    "start_time": "2023-03-30T16:11:23.178Z"
   },
   {
    "duration": 17,
    "start_time": "2023-03-30T16:11:23.270Z"
   },
   {
    "duration": 26,
    "start_time": "2023-03-30T16:11:23.290Z"
   },
   {
    "duration": 24,
    "start_time": "2023-03-30T16:11:23.318Z"
   },
   {
    "duration": 413,
    "start_time": "2023-03-30T16:11:23.344Z"
   },
   {
    "duration": 5,
    "start_time": "2023-03-30T16:11:23.759Z"
   },
   {
    "duration": 14,
    "start_time": "2023-03-30T16:11:23.766Z"
   },
   {
    "duration": 9,
    "start_time": "2023-03-30T16:11:23.782Z"
   },
   {
    "duration": 7,
    "start_time": "2023-03-30T16:11:23.794Z"
   },
   {
    "duration": 7,
    "start_time": "2023-03-30T16:11:23.803Z"
   },
   {
    "duration": 130,
    "start_time": "2023-03-30T16:11:23.812Z"
   },
   {
    "duration": 13,
    "start_time": "2023-03-30T16:11:23.944Z"
   },
   {
    "duration": 204,
    "start_time": "2023-03-30T16:11:23.959Z"
   },
   {
    "duration": 966,
    "start_time": "2023-03-30T16:11:24.165Z"
   },
   {
    "duration": 9655,
    "start_time": "2023-03-30T16:11:25.133Z"
   },
   {
    "duration": 99,
    "start_time": "2023-03-30T16:11:34.789Z"
   },
   {
    "duration": 24,
    "start_time": "2023-03-30T16:11:34.890Z"
   },
   {
    "duration": 5,
    "start_time": "2023-03-30T16:11:34.916Z"
   },
   {
    "duration": 23,
    "start_time": "2023-03-30T16:11:34.923Z"
   },
   {
    "duration": 16,
    "start_time": "2023-03-30T16:11:34.947Z"
   },
   {
    "duration": 9,
    "start_time": "2023-03-30T16:11:34.965Z"
   },
   {
    "duration": 103,
    "start_time": "2023-03-30T16:11:34.976Z"
   },
   {
    "duration": 116,
    "start_time": "2023-03-30T16:11:35.081Z"
   },
   {
    "duration": 143,
    "start_time": "2023-03-30T16:11:35.200Z"
   },
   {
    "duration": 247,
    "start_time": "2023-03-30T16:11:35.345Z"
   },
   {
    "duration": 9,
    "start_time": "2023-03-30T16:11:35.594Z"
   },
   {
    "duration": 12,
    "start_time": "2023-03-30T16:11:35.606Z"
   },
   {
    "duration": 32,
    "start_time": "2023-03-30T16:11:35.620Z"
   },
   {
    "duration": 17,
    "start_time": "2023-03-30T16:11:35.654Z"
   },
   {
    "duration": 8,
    "start_time": "2023-03-30T16:11:35.673Z"
   },
   {
    "duration": 16,
    "start_time": "2023-03-30T16:11:35.683Z"
   },
   {
    "duration": 10,
    "start_time": "2023-03-30T16:11:35.701Z"
   },
   {
    "duration": 1536,
    "start_time": "2023-03-31T03:35:22.029Z"
   },
   {
    "duration": 569,
    "start_time": "2023-03-31T03:35:23.566Z"
   },
   {
    "duration": 10,
    "start_time": "2023-03-31T03:35:24.136Z"
   },
   {
    "duration": 23,
    "start_time": "2023-03-31T03:35:24.148Z"
   },
   {
    "duration": 5,
    "start_time": "2023-03-31T03:35:24.174Z"
   },
   {
    "duration": 496,
    "start_time": "2023-03-31T03:35:24.181Z"
   },
   {
    "duration": 4,
    "start_time": "2023-03-31T03:35:24.679Z"
   },
   {
    "duration": 8,
    "start_time": "2023-03-31T03:35:24.685Z"
   },
   {
    "duration": 20,
    "start_time": "2023-03-31T03:35:24.695Z"
   },
   {
    "duration": 17,
    "start_time": "2023-03-31T03:35:24.717Z"
   },
   {
    "duration": 4,
    "start_time": "2023-03-31T03:35:24.736Z"
   },
   {
    "duration": 118,
    "start_time": "2023-03-31T03:35:24.742Z"
   },
   {
    "duration": 12,
    "start_time": "2023-03-31T03:35:24.861Z"
   },
   {
    "duration": 190,
    "start_time": "2023-03-31T03:35:24.874Z"
   },
   {
    "duration": 901,
    "start_time": "2023-03-31T03:35:25.066Z"
   },
   {
    "duration": 8815,
    "start_time": "2023-03-31T03:35:25.969Z"
   },
   {
    "duration": 102,
    "start_time": "2023-03-31T03:35:34.786Z"
   },
   {
    "duration": 19,
    "start_time": "2023-03-31T03:35:34.889Z"
   },
   {
    "duration": 4,
    "start_time": "2023-03-31T03:35:34.910Z"
   },
   {
    "duration": 13,
    "start_time": "2023-03-31T03:35:34.935Z"
   },
   {
    "duration": 25,
    "start_time": "2023-03-31T03:35:34.950Z"
   },
   {
    "duration": 21,
    "start_time": "2023-03-31T03:35:34.977Z"
   },
   {
    "duration": 112,
    "start_time": "2023-03-31T03:35:35.000Z"
   },
   {
    "duration": 108,
    "start_time": "2023-03-31T03:35:35.114Z"
   },
   {
    "duration": 148,
    "start_time": "2023-03-31T03:35:35.224Z"
   },
   {
    "duration": 242,
    "start_time": "2023-03-31T03:35:35.374Z"
   },
   {
    "duration": 16,
    "start_time": "2023-03-31T03:35:35.618Z"
   },
   {
    "duration": 4,
    "start_time": "2023-03-31T03:35:35.637Z"
   },
   {
    "duration": 24,
    "start_time": "2023-03-31T03:35:35.642Z"
   },
   {
    "duration": 7,
    "start_time": "2023-03-31T03:35:35.667Z"
   },
   {
    "duration": 5,
    "start_time": "2023-03-31T03:35:35.675Z"
   },
   {
    "duration": 6,
    "start_time": "2023-03-31T03:35:35.682Z"
   },
   {
    "duration": 7,
    "start_time": "2023-03-31T03:35:35.690Z"
   },
   {
    "duration": 115,
    "start_time": "2023-03-31T03:36:09.962Z"
   },
   {
    "duration": 108,
    "start_time": "2023-03-31T03:48:00.685Z"
   },
   {
    "duration": 96,
    "start_time": "2023-03-31T03:48:24.102Z"
   },
   {
    "duration": 11,
    "start_time": "2023-03-31T03:48:39.374Z"
   },
   {
    "duration": 999,
    "start_time": "2023-03-31T03:48:55.019Z"
   },
   {
    "duration": 1374,
    "start_time": "2023-03-31T03:52:10.751Z"
   },
   {
    "duration": 1054,
    "start_time": "2023-03-31T03:52:24.484Z"
   },
   {
    "duration": 862,
    "start_time": "2023-03-31T03:52:33.645Z"
   },
   {
    "duration": 778,
    "start_time": "2023-03-31T03:52:45.630Z"
   },
   {
    "duration": 881,
    "start_time": "2023-03-31T03:53:08.760Z"
   },
   {
    "duration": 778,
    "start_time": "2023-03-31T03:53:19.652Z"
   },
   {
    "duration": 865,
    "start_time": "2023-03-31T03:53:28.076Z"
   },
   {
    "duration": 1270,
    "start_time": "2023-03-31T03:53:36.341Z"
   },
   {
    "duration": 1140,
    "start_time": "2023-03-31T03:53:47.845Z"
   },
   {
    "duration": 1386,
    "start_time": "2023-03-31T03:55:10.853Z"
   },
   {
    "duration": 1393,
    "start_time": "2023-03-31T03:55:26.468Z"
   },
   {
    "duration": 1288,
    "start_time": "2023-03-31T03:55:38.788Z"
   },
   {
    "duration": 1348,
    "start_time": "2023-03-31T03:57:06.932Z"
   },
   {
    "duration": 1268,
    "start_time": "2023-03-31T03:57:19.804Z"
   },
   {
    "duration": 2715,
    "start_time": "2023-03-31T03:57:41.100Z"
   },
   {
    "duration": 1137,
    "start_time": "2023-03-31T03:58:18.805Z"
   },
   {
    "duration": 795,
    "start_time": "2023-03-31T03:58:34.244Z"
   },
   {
    "duration": 1249,
    "start_time": "2023-03-31T03:58:41.164Z"
   },
   {
    "duration": 752,
    "start_time": "2023-03-31T03:59:17.940Z"
   },
   {
    "duration": 1169,
    "start_time": "2023-03-31T03:59:27.619Z"
   },
   {
    "duration": 1159,
    "start_time": "2023-03-31T04:00:21.051Z"
   },
   {
    "duration": 1140,
    "start_time": "2023-03-31T04:00:28.179Z"
   }
  ],
  "kernelspec": {
   "display_name": "Python 3 (ipykernel)",
   "language": "python",
   "name": "python3"
  },
  "language_info": {
   "codemirror_mode": {
    "name": "ipython",
    "version": 3
   },
   "file_extension": ".py",
   "mimetype": "text/x-python",
   "name": "python",
   "nbconvert_exporter": "python",
   "pygments_lexer": "ipython3",
   "version": "3.7.4"
  },
  "toc": {
   "base_numbering": 1,
   "nav_menu": {},
   "number_sections": true,
   "sideBar": true,
   "skip_h1_title": true,
   "title_cell": "Table of Contents",
   "title_sidebar": "Contents",
   "toc_cell": false,
   "toc_position": {
    "height": "calc(100% - 180px)",
    "left": "10px",
    "top": "150px",
    "width": "366.188px"
   },
   "toc_section_display": true,
   "toc_window_display": true
  }
 },
 "nbformat": 4,
 "nbformat_minor": 2
}
